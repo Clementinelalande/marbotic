{
 "cells": [
  {
   "cell_type": "code",
   "execution_count": 42,
   "id": "6aa0e4ba",
   "metadata": {
    "ExecuteTime": {
     "end_time": "2022-06-09T15:29:02.857212Z",
     "start_time": "2022-06-09T15:29:02.852817Z"
    }
   },
   "outputs": [],
   "source": [
    "import pandas as pd\n",
    "import json\n",
    "import numpy as np\n",
    "from google.cloud import bigquery"
   ]
  },
  {
   "cell_type": "code",
   "execution_count": 43,
   "id": "19e7b577",
   "metadata": {
    "ExecuteTime": {
     "end_time": "2022-06-09T15:29:03.037050Z",
     "start_time": "2022-06-09T15:29:03.021148Z"
    }
   },
   "outputs": [],
   "source": [
    "#conversion du fichier json en json line delimiter pour utiliser pd.read_json avec une chunk size. (Nombre de ligne processée en une fois)\n",
    "#!cat ../raw_data/export_23-5_minified.json | jq -c '.[]' > ../raw_data/export_converted_2.json"
   ]
  },
  {
   "cell_type": "code",
   "execution_count": 44,
   "id": "30e9d77a",
   "metadata": {
    "ExecuteTime": {
     "end_time": "2022-06-09T15:29:03.149718Z",
     "start_time": "2022-06-09T15:29:03.145993Z"
    }
   },
   "outputs": [],
   "source": [
    "#Nombre de lignes totales dans le JSON : 1320229"
   ]
  },
  {
   "cell_type": "code",
   "execution_count": 45,
   "id": "c15a5d18",
   "metadata": {
    "ExecuteTime": {
     "end_time": "2022-06-09T15:29:03.279927Z",
     "start_time": "2022-06-09T15:29:03.273751Z"
    }
   },
   "outputs": [],
   "source": [
    "#Localisation du projet name et table_id sur gcp\n",
    "project=\"marbotic\"\n",
    "table_id = \"marbotic_dataset.events\""
   ]
  },
  {
   "cell_type": "code",
   "execution_count": 46,
   "id": "1565e601",
   "metadata": {
    "ExecuteTime": {
     "end_time": "2022-06-09T15:29:03.410657Z",
     "start_time": "2022-06-09T15:29:03.399575Z"
    }
   },
   "outputs": [],
   "source": [
    "#intégration des credentials \n",
    "from google.oauth2 import service_account\n",
    "\n",
    "key_path = \"/Users/antonin/code/AntoninAnq/gcp/marbotic-7d02fac30bd8.json\"\n",
    "\n",
    "credentials = service_account.Credentials.from_service_account_file(\n",
    "    key_path, scopes=[\"https://www.googleapis.com/auth/cloud-platform\"],\n",
    ")"
   ]
  },
  {
   "cell_type": "code",
   "execution_count": 60,
   "id": "ae0f1dbc",
   "metadata": {
    "ExecuteTime": {
     "end_time": "2022-06-09T16:12:52.147406Z",
     "start_time": "2022-06-09T16:10:27.319470Z"
    }
   },
   "outputs": [
    {
     "name": "stdout",
     "output_type": "stream",
     "text": [
      "Loaded 100000 rows and 15 columns to marbotic_dataset.events\n",
      "Loaded 200000 rows and 15 columns to marbotic_dataset.events\n",
      "Loaded 300000 rows and 15 columns to marbotic_dataset.events\n",
      "Loaded 400000 rows and 15 columns to marbotic_dataset.events\n",
      "Loaded 500000 rows and 15 columns to marbotic_dataset.events\n",
      "Loaded 600000 rows and 15 columns to marbotic_dataset.events\n",
      "Loaded 700000 rows and 15 columns to marbotic_dataset.events\n",
      "Loaded 800000 rows and 15 columns to marbotic_dataset.events\n",
      "Loaded 900000 rows and 15 columns to marbotic_dataset.events\n",
      "Loaded 1000000 rows and 15 columns to marbotic_dataset.events\n",
      "Loaded 1100000 rows and 15 columns to marbotic_dataset.events\n",
      "Loaded 1200000 rows and 15 columns to marbotic_dataset.events\n",
      "Loaded 1300000 rows and 15 columns to marbotic_dataset.events\n",
      "Loaded 1320229 rows and 15 columns to marbotic_dataset.events\n"
     ]
    }
   ],
   "source": [
    "CHUNKSIZE = 100000\n",
    "\n",
    "file_path = '../raw_data/export_converted_2.json'\n",
    "df = pd.read_json(file_path, lines=True, chunksize=CHUNKSIZE) #Chunk size pour avoir 14 chunk\n",
    "\n",
    "client = bigquery.Client(project,credentials)\n",
    "\n",
    "for i,c in enumerate(df):\n",
    "    index_init = np.linspace(1,len(c),len(c),dtype='int32')\n",
    "    ep=pd.DataFrame()\n",
    "    c.reset_index(inplace=True)\n",
    "    ep=c.copy()\n",
    "    ep.drop(['user_properties','event_properties'],axis=1,inplace=True)\n",
    "    ep['user_id'] = ep['user_id'].apply(lambda x: 0 if (x is None or type(x)== str or  np.isnan(x)) else int(x))\n",
    "    ep['id'] = (i*CHUNKSIZE) + index_init\n",
    "    ep.drop(['index'],axis=1,inplace=True)\n",
    "    #ep.to_csv('../raw_data/events.csv',index=False)\n",
    "    job = client.load_table_from_dataframe(ep, table_id)  # Make an API request. ,job_config=job_config\n",
    "    job.result()  # Wait for the job to complete.\n",
    "    table = client.get_table(table_id)  # Make an API request.\n",
    "    print(\n",
    "        \"Loaded {} rows and {} columns to {}\".format(\n",
    "            table.num_rows, len(table.schema), table_id\n",
    "        )\n",
    "    )"
   ]
  },
  {
   "cell_type": "code",
   "execution_count": 52,
   "id": "be7b3c71",
   "metadata": {
    "ExecuteTime": {
     "end_time": "2022-06-09T16:02:11.191284Z",
     "start_time": "2022-06-09T16:02:11.185912Z"
    }
   },
   "outputs": [],
   "source": [
    "#data = pd.read_csv('../raw_data/events_test.csv')\n",
    "#data\n"
   ]
  },
  {
   "cell_type": "code",
   "execution_count": null,
   "id": "3baa7c11",
   "metadata": {},
   "outputs": [],
   "source": []
  }
 ],
 "metadata": {
  "kernelspec": {
   "display_name": "Python 3 (ipykernel)",
   "language": "python",
   "name": "python3"
  },
  "language_info": {
   "codemirror_mode": {
    "name": "ipython",
    "version": 3
   },
   "file_extension": ".py",
   "mimetype": "text/x-python",
   "name": "python",
   "nbconvert_exporter": "python",
   "pygments_lexer": "ipython3",
   "version": "3.8.13"
  },
  "toc": {
   "base_numbering": 1,
   "nav_menu": {},
   "number_sections": true,
   "sideBar": true,
   "skip_h1_title": false,
   "title_cell": "Table of Contents",
   "title_sidebar": "Contents",
   "toc_cell": false,
   "toc_position": {},
   "toc_section_display": true,
   "toc_window_display": false
  }
 },
 "nbformat": 4,
 "nbformat_minor": 5
}
