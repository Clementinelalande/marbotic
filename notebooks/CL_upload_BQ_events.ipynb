{
 "cells": [
  {
   "cell_type": "code",
   "execution_count": 190,
   "id": "bb42dadb",
   "metadata": {},
   "outputs": [],
   "source": [
    "import pandas as pd\n",
    "import naya\n",
    "import json\n",
    "from itertools import islice\n",
    "from os import listdir\n",
    "from os.path import isfile, join"
   ]
  },
  {
   "cell_type": "code",
   "execution_count": 214,
   "id": "b7080248",
   "metadata": {},
   "outputs": [],
   "source": [
    "fp = open('../raw_data/export_23-5_minified.json', 'r')\n",
    "messages = naya.stream_array(naya.tokenize(fp))"
   ]
  },
  {
   "cell_type": "code",
   "execution_count": 199,
   "id": "a129f825",
   "metadata": {},
   "outputs": [
    {
     "data": {
      "text/plain": [
       "14"
      ]
     },
     "execution_count": 199,
     "metadata": {},
     "output_type": "execute_result"
    }
   ],
   "source": [
    "keys_1 = ['city', 'client_event_time', 'country', 'device_model', 'event_id', 'event_type', 'is_attribution_event', 'language', 'os_version', 'region', 'session_id', 'start_version', 'user_creation_time', 'user_id']\n",
    "\n",
    "keys_2 = ['user_properties']\n",
    "\n",
    "keys_3 = ['event_properties']"
   ]
  },
  {
   "cell_type": "markdown",
   "id": "aeede5d1",
   "metadata": {},
   "source": [
    "**#1. Step 1 : testing for a short list of lines**\n",
    "\n",
    "\n"
   ]
  },
  {
   "cell_type": "code",
   "execution_count": 168,
   "id": "0dc7ae67",
   "metadata": {},
   "outputs": [],
   "source": [
    "#extract x lines\n",
    "sample = []\n",
    "for i in range(133):\n",
    "    temp = next(messages)\n",
    "    sample.append(temp)"
   ]
  },
  {
   "cell_type": "code",
   "execution_count": 145,
   "id": "9dd0db60",
   "metadata": {},
   "outputs": [],
   "source": [
    "#prepare json file : a list of dicts\n",
    "json_1 = []\n",
    "for i in range(len(sample)):\n",
    "    dico = {}\n",
    "    for key in keys_1:\n",
    "        dico[key] = sample[i][key]\n",
    "        \n",
    "    json_1.append(dico)"
   ]
  },
  {
   "cell_type": "code",
   "execution_count": 148,
   "id": "73e8812b",
   "metadata": {},
   "outputs": [
    {
     "data": {
      "text/plain": [
       "list"
      ]
     },
     "execution_count": 148,
     "metadata": {},
     "output_type": "execute_result"
    }
   ],
   "source": [
    "type(json_1)"
   ]
  },
  {
   "cell_type": "code",
   "execution_count": 147,
   "id": "ccd48707",
   "metadata": {},
   "outputs": [],
   "source": [
    "#create json file\n",
    "with open('../marbotic/data/event_test_random.json', 'w') as f:\n",
    "    json.dump(json_1, f, indent=None)    \n"
   ]
  },
  {
   "cell_type": "markdown",
   "id": "2e44d780",
   "metadata": {},
   "source": [
    "**#2. Step 2 : slicing json in 100k lines and iterate to upload to BQ**\n",
    "\n",
    "\n"
   ]
  },
  {
   "cell_type": "code",
   "execution_count": 215,
   "id": "7ac10984",
   "metadata": {},
   "outputs": [
    {
     "data": {
      "text/plain": [
       "[{'city': 'Edmonton',\n",
       "  'client_event_time': '2022-03-02 02:54:19.912000',\n",
       "  'country': 'Canada',\n",
       "  'device_model': 'iPad13,1',\n",
       "  'event_id': 13757,\n",
       "  'event_type': '[Scene] Leave',\n",
       "  'is_attribution_event': False,\n",
       "  'language': 'English',\n",
       "  'os_version': '15.2.1',\n",
       "  'region': 'Alberta',\n",
       "  'session_id': 1646189567678,\n",
       "  'start_version': '1.0.7',\n",
       "  'user_creation_time': '2021-12-30 01:41:36.426000',\n",
       "  'user_id': '67677',\n",
       "  'user_properties': {'Newsletter': 'True',\n",
       "   'Products': ['Smart Kit'],\n",
       "   'Pieces': ['Uppercase Letters', 'Numbers'],\n",
       "   'Language': 'English',\n",
       "   'Type': 'Parent',\n",
       "   'Country': 'CA',\n",
       "   'Games': ['Marbotic']},\n",
       "  'event_properties': {'[Game] Code': 'Marbotic',\n",
       "   '[Time] Spent': 5,\n",
       "   '[Scene] Name': 'NavigationActivitySelectionLetters',\n",
       "   '[Profile] Age (days)': 1323,\n",
       "   '[Game] Language': 'en_US',\n",
       "   '[Scene] Next': 'ActivityRecipeCook',\n",
       "   '[Scene] Section': 'ABC'}},\n",
       " {'city': 'Edmonton',\n",
       "  'client_event_time': '2022-03-02 02:54:20.293000',\n",
       "  'country': 'Canada',\n",
       "  'device_model': 'iPad13,1',\n",
       "  'event_id': 13758,\n",
       "  'event_type': '[Scene] Enter',\n",
       "  'is_attribution_event': False,\n",
       "  'language': 'English',\n",
       "  'os_version': '15.2.1',\n",
       "  'region': 'Alberta',\n",
       "  'session_id': 1646189567678,\n",
       "  'start_version': '1.0.7',\n",
       "  'user_creation_time': '2021-12-30 01:41:36.426000',\n",
       "  'user_id': '67677',\n",
       "  'user_properties': {'Newsletter': 'True',\n",
       "   'Products': ['Smart Kit'],\n",
       "   'Pieces': ['Uppercase Letters', 'Numbers'],\n",
       "   'Language': 'English',\n",
       "   'Type': 'Parent',\n",
       "   'Country': 'CA',\n",
       "   'Games': ['Marbotic']},\n",
       "  'event_properties': {'[Game] Code': 'Marbotic',\n",
       "   '[Scene] Name': 'ActivityRecipeCook',\n",
       "   '[Profile] Age (days)': 1323,\n",
       "   '[Game] Language': 'en_US',\n",
       "   '[Scene] Previous': 'NavigationActivitySelectionLetters',\n",
       "   '[Scene] Section': 'ABC'}}]"
      ]
     },
     "execution_count": 215,
     "metadata": {},
     "output_type": "execute_result"
    }
   ],
   "source": [
    "my_list = []\n",
    "for elem in islice(messages,30000,30002):\n",
    "    \n",
    "    my_list.append(elem)\n",
    "\n",
    "my_list"
   ]
  },
  {
   "cell_type": "code",
   "execution_count": 217,
   "id": "7a5e72c9",
   "metadata": {},
   "outputs": [
    {
     "data": {
      "text/plain": [
       "[400000,\n",
       " 500000,\n",
       " 600000,\n",
       " 700000,\n",
       " 800000,\n",
       " 900000,\n",
       " 1000000,\n",
       " 1100000,\n",
       " 1200000,\n",
       " 1300000,\n",
       " 1300001]"
      ]
     },
     "execution_count": 217,
     "metadata": {},
     "output_type": "execute_result"
    }
   ],
   "source": [
    "slicing = []\n",
    "for i in range(4,15):\n",
    "    step = 100000\n",
    "    if i < 14:\n",
    "        slicing.append(i*step)\n",
    "    else:\n",
    "        slicing.append((i-1)*step+1)\n",
    "       \n",
    "slicing"
   ]
  },
  {
   "cell_type": "code",
   "execution_count": 209,
   "id": "e2ac757d",
   "metadata": {},
   "outputs": [],
   "source": [
    "#extract all lines :scream:\n",
    "def create_json(messages,slicing,keys):\n",
    "    #for each batch of x ines create a simili json (sample = list of x dicts)\n",
    "    for index,j in enumerate(slicing):\n",
    "        sample = []\n",
    "        json_temp = []\n",
    "        if index != len(slicing)-1:\n",
    "            for elem in islice(messages,j,slicing[index+1]):  \n",
    "                sample.append(elem)\n",
    "        else:\n",
    "            for elem in islice(messages,j,None):\n",
    "                sample.append(elem)\n",
    "    #select the columns we are interested in to describe an event\n",
    "        for i in range(len(sample)):\n",
    "            dico = {}\n",
    "            for key in keys:\n",
    "                dico[key] = sample[i][key]\n",
    "            json_temp.append(dico)\n",
    "    #transform the list of dicts in json file & save it locally\n",
    "        with open(f'../marbotic/data/event_test_100k_{j}.json', 'w') as f:\n",
    "            json.dump(json_temp, f, indent=None)\n",
    "        \n",
    "    #transform intro newline format json\n",
    "        !cat $f'../marbotic/data/event_test_100k_{j}.json' | jq -c '.[]' > $f'../marbotic/data/event_test_100k_{j}_f.json'\n",
    "        "
   ]
  },
  {
   "cell_type": "code",
   "execution_count": 218,
   "id": "37328acc",
   "metadata": {},
   "outputs": [
    {
     "ename": "KeyboardInterrupt",
     "evalue": "",
     "output_type": "error",
     "traceback": [
      "\u001b[0;31m---------------------------------------------------------------------------\u001b[0m",
      "\u001b[0;31mKeyboardInterrupt\u001b[0m                         Traceback (most recent call last)",
      "Input \u001b[0;32mIn [218]\u001b[0m, in \u001b[0;36m<cell line: 1>\u001b[0;34m()\u001b[0m\n\u001b[0;32m----> 1\u001b[0m \u001b[43mcreate_json\u001b[49m\u001b[43m(\u001b[49m\u001b[43mmessages\u001b[49m\u001b[43m,\u001b[49m\u001b[43mslicing\u001b[49m\u001b[43m,\u001b[49m\u001b[43mkeys_1\u001b[49m\u001b[43m)\u001b[49m\n",
      "Input \u001b[0;32mIn [209]\u001b[0m, in \u001b[0;36mcreate_json\u001b[0;34m(messages, slicing, keys)\u001b[0m\n\u001b[1;32m      6\u001b[0m json_temp \u001b[38;5;241m=\u001b[39m []\n\u001b[1;32m      7\u001b[0m \u001b[38;5;28;01mif\u001b[39;00m index \u001b[38;5;241m!=\u001b[39m \u001b[38;5;28mlen\u001b[39m(slicing)\u001b[38;5;241m-\u001b[39m\u001b[38;5;241m1\u001b[39m:\n\u001b[0;32m----> 8\u001b[0m     \u001b[38;5;28;01mfor\u001b[39;00m elem \u001b[38;5;129;01min\u001b[39;00m islice(messages,j,slicing[index\u001b[38;5;241m+\u001b[39m\u001b[38;5;241m1\u001b[39m]):  \n\u001b[1;32m      9\u001b[0m         sample\u001b[38;5;241m.\u001b[39mappend(elem)\n\u001b[1;32m     10\u001b[0m \u001b[38;5;28;01melse\u001b[39;00m:\n",
      "File \u001b[0;32m~/.pyenv/versions/3.8.12/envs/marbotic/lib/python3.8/site-packages/naya/json.py:573\u001b[0m, in \u001b[0;36mstream_array\u001b[0;34m(token_stream)\u001b[0m\n\u001b[1;32m    571\u001b[0m \u001b[38;5;28;01mwhile\u001b[39;00m \u001b[38;5;28;01mTrue\u001b[39;00m:\n\u001b[1;32m    572\u001b[0m     \u001b[38;5;28;01mwhile\u001b[39;00m token \u001b[38;5;129;01mis\u001b[39;00m \u001b[38;5;129;01mnot\u001b[39;00m \u001b[38;5;28;01mNone\u001b[39;00m:\n\u001b[0;32m--> 573\u001b[0m         value, token_type, token  \u001b[38;5;241m=\u001b[39m \u001b[43mprocess_token\u001b[49m\u001b[43m(\u001b[49m\u001b[43mtoken_type\u001b[49m\u001b[43m,\u001b[49m\u001b[43m \u001b[49m\u001b[43mtoken\u001b[49m\u001b[43m)\u001b[49m\n\u001b[1;32m    574\u001b[0m         \u001b[38;5;28;01mif\u001b[39;00m value \u001b[38;5;129;01mis\u001b[39;00m \u001b[38;5;28;01mNone\u001b[39;00m:\n\u001b[1;32m    575\u001b[0m             \u001b[38;5;28;01mreturn\u001b[39;00m\n",
      "File \u001b[0;32m~/.pyenv/versions/3.8.12/envs/marbotic/lib/python3.8/site-packages/naya/json.py:554\u001b[0m, in \u001b[0;36mstream_array.<locals>.process_token\u001b[0;34m(token_type, token)\u001b[0m\n\u001b[1;32m    552\u001b[0m \u001b[38;5;28;01mif\u001b[39;00m token_type \u001b[38;5;241m==\u001b[39m TOKEN_TYPE\u001b[38;5;241m.\u001b[39mOPERATOR:\n\u001b[1;32m    553\u001b[0m     \u001b[38;5;28;01mif\u001b[39;00m token \u001b[38;5;241m==\u001b[39m \u001b[38;5;124m\"\u001b[39m\u001b[38;5;124m[\u001b[39m\u001b[38;5;124m\"\u001b[39m \u001b[38;5;129;01mor\u001b[39;00m token \u001b[38;5;241m==\u001b[39m \u001b[38;5;124m\"\u001b[39m\u001b[38;5;124m{\u001b[39m\u001b[38;5;124m\"\u001b[39m:\n\u001b[0;32m--> 554\u001b[0m         \u001b[38;5;28;01mreturn\u001b[39;00m \u001b[43m__parse\u001b[49m\u001b[43m(\u001b[49m\u001b[43mtoken_stream\u001b[49m\u001b[43m,\u001b[49m\u001b[43m \u001b[49m\u001b[43m(\u001b[49m\u001b[43mtoken_type\u001b[49m\u001b[43m,\u001b[49m\u001b[43m \u001b[49m\u001b[43mtoken\u001b[49m\u001b[43m)\u001b[49m\u001b[43m)\u001b[49m\n\u001b[1;32m    555\u001b[0m     \u001b[38;5;28;01melse\u001b[39;00m:\n\u001b[1;32m    556\u001b[0m         \u001b[38;5;28;01mraise\u001b[39;00m \u001b[38;5;167;01mValueError\u001b[39;00m(\u001b[38;5;124m\"\u001b[39m\u001b[38;5;124mExpected an array value.  Got \u001b[39m\u001b[38;5;124m'\u001b[39m\u001b[38;5;132;01m{}\u001b[39;00m\u001b[38;5;124m'\u001b[39m\u001b[38;5;124m\"\u001b[39m\u001b[38;5;241m.\u001b[39mformat(token))\n",
      "File \u001b[0;32m~/.pyenv/versions/3.8.12/envs/marbotic/lib/python3.8/site-packages/naya/json.py:536\u001b[0m, in \u001b[0;36m__parse\u001b[0;34m(token_stream, first_token)\u001b[0m\n\u001b[1;32m    532\u001b[0m                 \u001b[38;5;28;01mraise\u001b[39;00m \u001b[38;5;167;01mValueError\u001b[39;00m(\u001b[38;5;124m\"\u001b[39m\u001b[38;5;124mArray items must be followed by a comma or closing bracket.  \u001b[39m\u001b[38;5;124m\"\u001b[39m\n\u001b[1;32m    533\u001b[0m                                  \u001b[38;5;124m\"\u001b[39m\u001b[38;5;124mGot \u001b[39m\u001b[38;5;124m'\u001b[39m\u001b[38;5;132;01m{}\u001b[39;00m\u001b[38;5;124m'\u001b[39m\u001b[38;5;124m\"\u001b[39m\u001b[38;5;241m.\u001b[39mformat(value))\n\u001b[1;32m    535\u001b[0m         last_type, last_token \u001b[38;5;241m=\u001b[39m token_type, token\n\u001b[0;32m--> 536\u001b[0m         token_type, token \u001b[38;5;241m=\u001b[39m \u001b[38;5;28;43mnext\u001b[39;49m\u001b[43m(\u001b[49m\u001b[43mtoken_stream\u001b[49m\u001b[43m)\u001b[49m\n\u001b[1;32m    537\u001b[0m \u001b[38;5;28;01mexcept\u001b[39;00m \u001b[38;5;167;01mStopIteration\u001b[39;00m \u001b[38;5;28;01mas\u001b[39;00m e:\n\u001b[1;32m    538\u001b[0m     \u001b[38;5;28;01mif\u001b[39;00m \u001b[38;5;28mlen\u001b[39m(stack) \u001b[38;5;241m==\u001b[39m \u001b[38;5;241m1\u001b[39m:\n",
      "File \u001b[0;32m~/.pyenv/versions/3.8.12/envs/marbotic/lib/python3.8/site-packages/naya/json.py:319\u001b[0m, in \u001b[0;36mtokenize\u001b[0;34m(stream)\u001b[0m\n\u001b[1;32m    317\u001b[0m \u001b[38;5;28;01mwhile\u001b[39;00m char:\n\u001b[1;32m    318\u001b[0m     \u001b[38;5;28;01mtry\u001b[39;00m:\n\u001b[0;32m--> 319\u001b[0m         advance, state, charcode \u001b[38;5;241m=\u001b[39m \u001b[43mprocess_char\u001b[49m\u001b[43m(\u001b[49m\u001b[43mchar\u001b[49m\u001b[43m,\u001b[49m\u001b[43m \u001b[49m\u001b[43mcharcode\u001b[49m\u001b[43m)\u001b[49m\n\u001b[1;32m    320\u001b[0m     \u001b[38;5;28;01mexcept\u001b[39;00m \u001b[38;5;167;01mValueError\u001b[39;00m \u001b[38;5;28;01mas\u001b[39;00m e:\n\u001b[1;32m    321\u001b[0m         \u001b[38;5;28;01mraise\u001b[39;00m \u001b[38;5;167;01mValueError\u001b[39;00m(\u001b[38;5;124m\"\u001b[39m\u001b[38;5;124m\"\u001b[39m\u001b[38;5;241m.\u001b[39mjoin([e\u001b[38;5;241m.\u001b[39margs[\u001b[38;5;241m0\u001b[39m], \u001b[38;5;124m\"\u001b[39m\u001b[38;5;124m at index \u001b[39m\u001b[38;5;132;01m{}\u001b[39;00m\u001b[38;5;124m\"\u001b[39m\u001b[38;5;241m.\u001b[39mformat(index)]))\n",
      "File \u001b[0;32m~/.pyenv/versions/3.8.12/envs/marbotic/lib/python3.8/site-packages/naya/json.py:231\u001b[0m, in \u001b[0;36mtokenize.<locals>.process_char\u001b[0;34m(char, charcode)\u001b[0m\n\u001b[1;32m    229\u001b[0m     \u001b[38;5;28;01melse\u001b[39;00m:\n\u001b[1;32m    230\u001b[0m         add_char \u001b[38;5;241m=\u001b[39m \u001b[38;5;28;01mTrue\u001b[39;00m\n\u001b[0;32m--> 231\u001b[0m \u001b[38;5;28;01melif\u001b[39;00m \u001b[43mstate\u001b[49m \u001b[38;5;241m==\u001b[39m __TOKENIZER_STATE\u001b[38;5;241m.\u001b[39mSTRING_END:\n\u001b[1;32m    232\u001b[0m     \u001b[38;5;28;01mif\u001b[39;00m is_delimiter(char):\n\u001b[1;32m    233\u001b[0m         advance \u001b[38;5;241m=\u001b[39m \u001b[38;5;28;01mFalse\u001b[39;00m\n",
      "\u001b[0;31mKeyboardInterrupt\u001b[0m: "
     ]
    }
   ],
   "source": [
    "create_json(messages,slicing,keys_1)"
   ]
  },
  {
   "cell_type": "code",
   "execution_count": null,
   "id": "725ec6bc",
   "metadata": {},
   "outputs": [],
   "source": [
    "!ls ../marbotic/data\n"
   ]
  },
  {
   "cell_type": "code",
   "execution_count": 201,
   "id": "f510b70c",
   "metadata": {},
   "outputs": [
    {
     "name": "stdout",
     "output_type": "stream",
     "text": [
      "Waiting on bqjob_r69db815d9fed2e56_0000018142a13a32_1 ... (0s) Current status: DONE   \n",
      "Error in query string: Error processing job\n",
      "'marbotic:bqjob_r69db815d9fed2e56_0000018142a13a32_1': Schema has no fields.\n",
      "Table: events_c00fadcd_60dd_497d_b26c_7bf5f2426197_source\n"
     ]
    }
   ],
   "source": [
    "!bq load --autodetect --noreplace --source_format=NEWLINE_DELIMITED_JSON marbotic_dataset.events ../marbotic/data/event_test_100k_800000_f.json"
   ]
  },
  {
   "cell_type": "code",
   "execution_count": 188,
   "id": "787ccffb",
   "metadata": {},
   "outputs": [],
   "source": [
    "list_path = \"../marbotic/data\"\n"
   ]
  },
  {
   "cell_type": "code",
   "execution_count": 191,
   "id": "5f89cfb0",
   "metadata": {},
   "outputs": [],
   "source": [
    "fichiers = [f for f in listdir(list_path) if isfile(join(list_path, f))]"
   ]
  },
  {
   "cell_type": "code",
   "execution_count": 198,
   "id": "98597741",
   "metadata": {},
   "outputs": [
    {
     "name": "stdout",
     "output_type": "stream",
     "text": [
      "../marbotic/data/event_test_100k_600000_f.json\n",
      "Waiting on bqjob_r2151c4a6492939ac_00000181428cda72_1 ... (0s) Current status: DONE   \n",
      "Error in query string: Error processing job\n",
      "'marbotic:bqjob_r2151c4a6492939ac_00000181428cda72_1': Schema has no fields.\n",
      "Table: events_41139204_ccf0_4c86_8e53_9d3d203154bd_source\n",
      "../marbotic/data/event_test_100k_800000_f.json\n",
      "Waiting on bqjob_r5b0fff8af7a24100_00000181428ce81f_1 ... (0s) Current status: DONE   \n",
      "Error in query string: Error processing job\n",
      "'marbotic:bqjob_r5b0fff8af7a24100_00000181428ce81f_1': Schema has no fields.\n",
      "Table: events_dc5ff1e1_3ec5_4c66_854f_c6c05e0acf9a_source\n",
      "../marbotic/data/event_test_100k_900000_f.json\n",
      "Waiting on bqjob_r513b9aacbd1c9b59_00000181428cf508_1 ... (0s) Current status: DONE   \n",
      "Error in query string: Error processing job\n",
      "'marbotic:bqjob_r513b9aacbd1c9b59_00000181428cf508_1': Schema has no fields.\n",
      "Table: events_82cfa476_75b1_4e96_be6e_7b086453a06f_source\n",
      "../marbotic/data/event_test_100k_400000_f.json\n",
      "Waiting on bqjob_r329c156558e1ba93_00000181428d0291_1 ... (0s) Current status: DONE   \n",
      "Error in query string: Error processing job\n",
      "'marbotic:bqjob_r329c156558e1ba93_00000181428d0291_1': Schema has no fields.\n",
      "Table: events_ea5d2cc2_a776_43d7_8728_d69434c2c677_source\n",
      "../marbotic/data/event_test_100k_1100000_f.json\n",
      "Waiting on bqjob_r5d8529868b25a74b_00000181428d1074_1 ... (0s) Current status: DONE   \n",
      "Error in query string: Error processing job\n",
      "'marbotic:bqjob_r5d8529868b25a74b_00000181428d1074_1': Schema has no fields.\n",
      "Table: events_89cf6694_5177_40dd_9440_ffd4ba48a259_source\n",
      "../marbotic/data/event_test_100k_1300001_f.json\n",
      "Waiting on bqjob_r63c26051888fed47_00000181428d1d97_1 ... (0s) Current status: DONE   \n",
      "Error in query string: Error processing job\n",
      "'marbotic:bqjob_r63c26051888fed47_00000181428d1d97_1': Schema has no fields.\n",
      "Table: events_1bdd46cc_a415_4c6a_abc3_5355f274e8f5_source\n",
      "../marbotic/data/event_test_100k_700000_f.json\n",
      "Waiting on bqjob_r18c1bb662711a85a_00000181428d264b_1 ... (0s) Current status: DONE   \n",
      "Error in query string: Error processing job\n",
      "'marbotic:bqjob_r18c1bb662711a85a_00000181428d264b_1': Schema has no fields.\n",
      "Table: events_49b0fb27_ead4_4fab_9df1_9f0f203af12a_source\n",
      "../marbotic/data/event_test_100k_0_f.json\n",
      "Upload complete.\n",
      "Waiting on bqjob_r6b7e5936098e4a82_00000181428d32d7_1 ... (5s) Current status: DONE   \n",
      "../marbotic/data/.keep\n",
      "Waiting on bqjob_r220aaa5d288a2535_00000181428d6d05_1 ... (0s) Current status: DONE   \n",
      "Error in query string: Error processing job\n",
      "'marbotic:bqjob_r220aaa5d288a2535_00000181428d6d05_1': Schema has no fields.\n",
      "Table: events_1332cbcd_78aa_4f7b_a6b2_bc2c8c04c503_source\n",
      "../marbotic/data/event_test_100k_300000_f.json\n",
      "Upload complete.\n",
      "Waiting on bqjob_r6a439a745a83d979_00000181428d7a04_1 ... (0s) Current status: DONE   \n",
      "../marbotic/data/event_test_100k_200000_f.json\n",
      "Upload complete.\n",
      "Waiting on bqjob_ra5fe5582549528c_0000018142901b8c_1 ... (5s) Current status: DONE   \n",
      "../marbotic/data/event_test_100k_100000_f.json\n",
      "Upload complete.\n",
      "Waiting on bqjob_r6d7f7ada95ab9b4e_0000018142906346_1 ... (4s) Current status: DONE   \n",
      "../marbotic/data/event_test_100k_1000000_f.json\n",
      "Waiting on bqjob_r2260a4dda153de32_000001814290a933_1 ... (0s) Current status: DONE   \n",
      "Error in query string: Error processing job\n",
      "'marbotic:bqjob_r2260a4dda153de32_000001814290a933_1': Schema has no fields.\n",
      "Table: events_67b2fe26_3832_4044_a9eb_da6639322adf_source\n",
      "../marbotic/data/event_test_100k_1200000_f.json\n",
      "Waiting on bqjob_r1f8f7d0c586fa2da_000001814290b88c_1 ... (0s) Current status: DONE   \n",
      "Error in query string: Error processing job\n",
      "'marbotic:bqjob_r1f8f7d0c586fa2da_000001814290b88c_1': Schema has no fields.\n",
      "Table: events_dd59c4f5_d8f8_4d42_8c51_db262e5b922c_source\n",
      "../marbotic/data/event_test_100k_500000_f.json\n",
      "Waiting on bqjob_r41c9438f21be329b_000001814290c804_1 ... (0s) Current status: DONE   \n",
      "Error in query string: Error processing job\n",
      "'marbotic:bqjob_r41c9438f21be329b_000001814290c804_1': Schema has no fields.\n",
      "Table: events_f30147a7_ac41_4eed_8672_c8c3168005d8_source\n",
      "../marbotic/data/event_test_100k_1300000_f.json\n",
      "Waiting on bqjob_r2ef8a75feb661663_000001814290d6db_1 ... (0s) Current status: DONE   \n",
      "Error in query string: Error processing job\n",
      "'marbotic:bqjob_r2ef8a75feb661663_000001814290d6db_1': Schema has no fields.\n",
      "Table: events_24ac686e_60a3_4443_83c6_13727cb994eb_source\n"
     ]
    }
   ],
   "source": [
    "for elmt in fichiers:\n",
    "    name = join(list_path, elmt)\n",
    "    print(name)\n",
    "    !bq load --autodetect --noreplace --source_format=NEWLINE_DELIMITED_JSON marbotic_dataset.events \"$name\""
   ]
  },
  {
   "cell_type": "code",
   "execution_count": 95,
   "id": "cd0ee31b",
   "metadata": {},
   "outputs": [
    {
     "name": "stdout",
     "output_type": "stream",
     "text": [
      "Table marbotic:marbotic_dataset.event_properties\r\n",
      "\r\n",
      "   Last modified                 Schema                Total Rows   Total Bytes   Expiration   Time Partitioning   Clustered Fields   Labels  \r\n",
      " ----------------- ---------------------------------- ------------ ------------- ------------ ------------------- ------------------ -------- \r\n",
      "  07 Jun 17:41:53   |- user_id: integer                110000       13657486                                                                  \r\n",
      "                    |- start_version: string                                                                                                  \r\n",
      "                    |- os_version: string                                                                                                     \r\n",
      "                    |- client_event_time: timestamp                                                                                           \r\n",
      "                    |- language: string                                                                                                       \r\n",
      "                    |- event_id: integer                                                                                                      \r\n",
      "                    |- session_id: integer                                                                                                    \r\n",
      "                    |- region: string                                                                                                         \r\n",
      "                    |- is_attribution_event: boolean                                                                                          \r\n",
      "                    |- user_creation_time: timestamp                                                                                          \r\n",
      "                    |- device_model: string                                                                                                   \r\n",
      "                    |- event_type: string                                                                                                     \r\n",
      "                    |- country: string                                                                                                        \r\n",
      "                    |- city: string                                                                                                           \r\n",
      "\r\n"
     ]
    }
   ],
   "source": [
    "!bq show marbotic_dataset.event_properties\n",
    "\n",
    "\n"
   ]
  }
 ],
 "metadata": {
  "kernelspec": {
   "display_name": "Python 3 (ipykernel)",
   "language": "python",
   "name": "python3"
  },
  "language_info": {
   "codemirror_mode": {
    "name": "ipython",
    "version": 3
   },
   "file_extension": ".py",
   "mimetype": "text/x-python",
   "name": "python",
   "nbconvert_exporter": "python",
   "pygments_lexer": "ipython3",
   "version": "3.8.12"
  },
  "toc": {
   "base_numbering": 1,
   "nav_menu": {},
   "number_sections": true,
   "sideBar": true,
   "skip_h1_title": false,
   "title_cell": "Table of Contents",
   "title_sidebar": "Contents",
   "toc_cell": false,
   "toc_position": {},
   "toc_section_display": true,
   "toc_window_display": false
  }
 },
 "nbformat": 4,
 "nbformat_minor": 5
}
