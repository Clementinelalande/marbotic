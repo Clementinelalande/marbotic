{
 "cells": [
  {
   "cell_type": "code",
   "execution_count": 47,
   "id": "29427109",
   "metadata": {
    "ExecuteTime": {
     "end_time": "2022-06-07T13:59:04.512731Z",
     "start_time": "2022-06-07T13:59:04.504985Z"
    }
   },
   "outputs": [],
   "source": [
    "import pandas as pd\n",
    "from google.cloud import bigquery\n",
    "from google.oauth2 import service_account"
   ]
  },
  {
   "cell_type": "code",
   "execution_count": 2,
   "id": "d73d9d77",
   "metadata": {
    "ExecuteTime": {
     "end_time": "2022-06-07T08:17:26.332587Z",
     "start_time": "2022-06-07T08:09:47.079133Z"
    }
   },
   "outputs": [],
   "source": [
    "df=pd.read_json(\"/Users/David/code/Clementinelalande/marbotic/raw_data/export_23-5_minified.json\")"
   ]
  },
  {
   "cell_type": "code",
   "execution_count": 79,
   "id": "258a43a0",
   "metadata": {
    "ExecuteTime": {
     "end_time": "2022-06-07T14:32:34.896484Z",
     "start_time": "2022-06-07T14:32:34.880598Z"
    }
   },
   "outputs": [
    {
     "data": {
      "text/plain": [
       "(1320229, 16)"
      ]
     },
     "execution_count": 79,
     "metadata": {},
     "output_type": "execute_result"
    }
   ],
   "source": [
    "df.shape"
   ]
  },
  {
   "cell_type": "code",
   "execution_count": 80,
   "id": "817cd530",
   "metadata": {
    "ExecuteTime": {
     "end_time": "2022-06-07T14:32:35.116565Z",
     "start_time": "2022-06-07T14:32:35.102913Z"
    }
   },
   "outputs": [
    {
     "data": {
      "text/plain": [
       "Index(['city', 'client_event_time', 'country', 'device_model', 'event_id',\n",
       "       'event_type', 'is_attribution_event', 'language', 'os_version',\n",
       "       'region', 'session_id', 'start_version', 'user_creation_time',\n",
       "       'user_id', 'user_properties', 'event_properties'],\n",
       "      dtype='object')"
      ]
     },
     "execution_count": 80,
     "metadata": {},
     "output_type": "execute_result"
    }
   ],
   "source": [
    "df.columns"
   ]
  },
  {
   "cell_type": "code",
   "execution_count": 81,
   "id": "a4a34e3e",
   "metadata": {
    "ExecuteTime": {
     "end_time": "2022-06-07T14:33:15.775963Z",
     "start_time": "2022-06-07T14:32:35.280773Z"
    }
   },
   "outputs": [
    {
     "data": {
      "text/plain": [
       "array(['[Activity] Good Answer', '[Activity] Wrong Answer',\n",
       "       '[Activity] Stop', '[Activity] Start', '[Action] Click',\n",
       "       '[Scene] Leave', '[Scene] Enter', '[Game] Pause',\n",
       "       '[Scaffolding] Scaffolding', '[Game] Start', '[Error] Error',\n",
       "       '[Game] Stop', '[OB] CommPreview', '[OB] DoYouHaveKit',\n",
       "       '[OB] HasKitYes', '[OB] Email', '[OB] VerifCode',\n",
       "       '[Activation] Game', '[OB] HasKitNo', '[OB] DiscoverTrial',\n",
       "       '[OB] ClickTrial', '[Account] Sign In', '[Profile] Create',\n",
       "       '[Profile] Update', '[OB] ProductSelection', '[OB] ProductHelp',\n",
       "       '[OB] Type', '[Account] Sign Up', '[OB] ProfileName',\n",
       "       '[OB] ProfileBirthdate', '[Activation] New Activation',\n",
       "       '[Activation] Product', '[Activation] Piece', '[OB] Success',\n",
       "       '[OB] ProductActivation', '[Scaffolding] Reset', '[OB] TrialStart',\n",
       "       '[Account] Update Request', '[Profile] Delete', '[Popup] Open',\n",
       "       '[Popup] Close', '[Account] Update Success', '[Account] Sign Out',\n",
       "       '[Profile] Reset Settings and Progression', '[OB] ClickStore',\n",
       "       '[OB] RenewalSelection', '[OB] ProductSeeMore',\n",
       "       '[OB] ProductOther', '[OB] KeyRedeem', '[OB] RenewalFail',\n",
       "       '[OB] ProductSK', '[OB] HasKeyNo', '[OB] KeyFail',\n",
       "       '[OB] RenewalSuccess', '[OB] KeySuccess', '[Toast] Appear',\n",
       "       '[Toast] Disappear', '[Action] ConversionClickSubscribe',\n",
       "       '[Action] ConversionClickRedeem'], dtype=object)"
      ]
     },
     "execution_count": 81,
     "metadata": {},
     "output_type": "execute_result"
    }
   ],
   "source": [
    "df.event_type.unique()"
   ]
  },
  {
   "cell_type": "code",
   "execution_count": 82,
   "id": "7049d238",
   "metadata": {
    "ExecuteTime": {
     "end_time": "2022-06-07T14:33:16.249811Z",
     "start_time": "2022-06-07T14:33:15.789063Z"
    }
   },
   "outputs": [
    {
     "data": {
      "text/html": [
       "<div>\n",
       "<style scoped>\n",
       "    .dataframe tbody tr th:only-of-type {\n",
       "        vertical-align: middle;\n",
       "    }\n",
       "\n",
       "    .dataframe tbody tr th {\n",
       "        vertical-align: top;\n",
       "    }\n",
       "\n",
       "    .dataframe thead th {\n",
       "        text-align: right;\n",
       "    }\n",
       "</style>\n",
       "<table border=\"1\" class=\"dataframe\">\n",
       "  <thead>\n",
       "    <tr style=\"text-align: right;\">\n",
       "      <th></th>\n",
       "      <th>city</th>\n",
       "      <th>client_event_time</th>\n",
       "      <th>country</th>\n",
       "      <th>device_model</th>\n",
       "      <th>event_id</th>\n",
       "      <th>event_type</th>\n",
       "      <th>is_attribution_event</th>\n",
       "      <th>language</th>\n",
       "      <th>os_version</th>\n",
       "      <th>region</th>\n",
       "      <th>session_id</th>\n",
       "      <th>start_version</th>\n",
       "      <th>user_creation_time</th>\n",
       "      <th>user_id</th>\n",
       "      <th>user_properties</th>\n",
       "      <th>event_properties</th>\n",
       "    </tr>\n",
       "  </thead>\n",
       "  <tbody>\n",
       "    <tr>\n",
       "      <th>0</th>\n",
       "      <td>Dallas</td>\n",
       "      <td>2022-03-01 00:57:25.903</td>\n",
       "      <td>United States</td>\n",
       "      <td>iPad13,4</td>\n",
       "      <td>1110</td>\n",
       "      <td>[Activity] Good Answer</td>\n",
       "      <td>False</td>\n",
       "      <td>English</td>\n",
       "      <td>15.3</td>\n",
       "      <td>Texas</td>\n",
       "      <td>1646095346396</td>\n",
       "      <td>1.0.7</td>\n",
       "      <td>2021-12-28 01:29:38.094</td>\n",
       "      <td>67531</td>\n",
       "      <td>{'Newsletter': 'False', 'Products': ['Smart Le...</td>\n",
       "      <td>{'[Activity] Name': 'LinePanties', '[Activity]...</td>\n",
       "    </tr>\n",
       "    <tr>\n",
       "      <th>1</th>\n",
       "      <td>Dallas</td>\n",
       "      <td>2022-03-01 00:57:41.878</td>\n",
       "      <td>United States</td>\n",
       "      <td>iPad13,4</td>\n",
       "      <td>1111</td>\n",
       "      <td>[Activity] Wrong Answer</td>\n",
       "      <td>False</td>\n",
       "      <td>English</td>\n",
       "      <td>15.3</td>\n",
       "      <td>Texas</td>\n",
       "      <td>1646095346396</td>\n",
       "      <td>1.0.7</td>\n",
       "      <td>2021-12-28 01:29:38.094</td>\n",
       "      <td>67531</td>\n",
       "      <td>{'Newsletter': 'False', 'Products': ['Smart Le...</td>\n",
       "      <td>{'[Activity] Name': 'LinePanties', '[Activity]...</td>\n",
       "    </tr>\n",
       "    <tr>\n",
       "      <th>2</th>\n",
       "      <td>Toronto</td>\n",
       "      <td>2022-03-01 00:57:28.175</td>\n",
       "      <td>Canada</td>\n",
       "      <td>iPad12,1</td>\n",
       "      <td>1430</td>\n",
       "      <td>[Activity] Stop</td>\n",
       "      <td>False</td>\n",
       "      <td>English</td>\n",
       "      <td>15.2</td>\n",
       "      <td>Ontario</td>\n",
       "      <td>1646096085235</td>\n",
       "      <td>1.3.1</td>\n",
       "      <td>2021-07-19 20:24:36.326</td>\n",
       "      <td>60882</td>\n",
       "      <td>{'Newsletter': 'True', 'Products': ['Smart Let...</td>\n",
       "      <td>{'[Activity] Name': '1.2', '[Game] Code': 'Mar...</td>\n",
       "    </tr>\n",
       "    <tr>\n",
       "      <th>3</th>\n",
       "      <td>Toronto</td>\n",
       "      <td>2022-03-01 00:57:28.177</td>\n",
       "      <td>Canada</td>\n",
       "      <td>iPad12,1</td>\n",
       "      <td>1431</td>\n",
       "      <td>[Activity] Start</td>\n",
       "      <td>False</td>\n",
       "      <td>English</td>\n",
       "      <td>15.2</td>\n",
       "      <td>Ontario</td>\n",
       "      <td>1646096085235</td>\n",
       "      <td>1.3.1</td>\n",
       "      <td>2021-07-19 20:24:36.326</td>\n",
       "      <td>60882</td>\n",
       "      <td>{'Newsletter': 'True', 'Products': ['Smart Let...</td>\n",
       "      <td>{'[Activity] Name': '1.3', '[Game] Code': 'Mar...</td>\n",
       "    </tr>\n",
       "    <tr>\n",
       "      <th>4</th>\n",
       "      <td>Toronto</td>\n",
       "      <td>2022-03-01 00:57:38.278</td>\n",
       "      <td>Canada</td>\n",
       "      <td>iPad12,1</td>\n",
       "      <td>1432</td>\n",
       "      <td>[Activity] Stop</td>\n",
       "      <td>False</td>\n",
       "      <td>English</td>\n",
       "      <td>15.2</td>\n",
       "      <td>Ontario</td>\n",
       "      <td>1646096085235</td>\n",
       "      <td>1.3.1</td>\n",
       "      <td>2021-07-19 20:24:36.326</td>\n",
       "      <td>60882</td>\n",
       "      <td>{'Newsletter': 'True', 'Products': ['Smart Let...</td>\n",
       "      <td>{'[Activity] Name': '1.3', '[Game] Code': 'Mar...</td>\n",
       "    </tr>\n",
       "  </tbody>\n",
       "</table>\n",
       "</div>"
      ],
      "text/plain": [
       "      city       client_event_time        country device_model  event_id  \\\n",
       "0   Dallas 2022-03-01 00:57:25.903  United States     iPad13,4      1110   \n",
       "1   Dallas 2022-03-01 00:57:41.878  United States     iPad13,4      1111   \n",
       "2  Toronto 2022-03-01 00:57:28.175         Canada     iPad12,1      1430   \n",
       "3  Toronto 2022-03-01 00:57:28.177         Canada     iPad12,1      1431   \n",
       "4  Toronto 2022-03-01 00:57:38.278         Canada     iPad12,1      1432   \n",
       "\n",
       "                event_type  is_attribution_event language os_version   region  \\\n",
       "0   [Activity] Good Answer                 False  English       15.3    Texas   \n",
       "1  [Activity] Wrong Answer                 False  English       15.3    Texas   \n",
       "2          [Activity] Stop                 False  English       15.2  Ontario   \n",
       "3         [Activity] Start                 False  English       15.2  Ontario   \n",
       "4          [Activity] Stop                 False  English       15.2  Ontario   \n",
       "\n",
       "      session_id start_version      user_creation_time user_id  \\\n",
       "0  1646095346396         1.0.7 2021-12-28 01:29:38.094   67531   \n",
       "1  1646095346396         1.0.7 2021-12-28 01:29:38.094   67531   \n",
       "2  1646096085235         1.3.1 2021-07-19 20:24:36.326   60882   \n",
       "3  1646096085235         1.3.1 2021-07-19 20:24:36.326   60882   \n",
       "4  1646096085235         1.3.1 2021-07-19 20:24:36.326   60882   \n",
       "\n",
       "                                     user_properties  \\\n",
       "0  {'Newsletter': 'False', 'Products': ['Smart Le...   \n",
       "1  {'Newsletter': 'False', 'Products': ['Smart Le...   \n",
       "2  {'Newsletter': 'True', 'Products': ['Smart Let...   \n",
       "3  {'Newsletter': 'True', 'Products': ['Smart Let...   \n",
       "4  {'Newsletter': 'True', 'Products': ['Smart Let...   \n",
       "\n",
       "                                    event_properties  \n",
       "0  {'[Activity] Name': 'LinePanties', '[Activity]...  \n",
       "1  {'[Activity] Name': 'LinePanties', '[Activity]...  \n",
       "2  {'[Activity] Name': '1.2', '[Game] Code': 'Mar...  \n",
       "3  {'[Activity] Name': '1.3', '[Game] Code': 'Mar...  \n",
       "4  {'[Activity] Name': '1.3', '[Game] Code': 'Mar...  "
      ]
     },
     "execution_count": 82,
     "metadata": {},
     "output_type": "execute_result"
    }
   ],
   "source": [
    "df.head()"
   ]
  },
  {
   "cell_type": "code",
   "execution_count": 83,
   "id": "a85539d0",
   "metadata": {
    "ExecuteTime": {
     "end_time": "2022-06-07T14:33:51.208331Z",
     "start_time": "2022-06-07T14:33:16.264571Z"
    }
   },
   "outputs": [],
   "source": [
    "user_properties_df=df.copy()"
   ]
  },
  {
   "cell_type": "code",
   "execution_count": 84,
   "id": "281e4f32",
   "metadata": {
    "ExecuteTime": {
     "end_time": "2022-06-07T14:33:51.479033Z",
     "start_time": "2022-06-07T14:33:51.239973Z"
    }
   },
   "outputs": [],
   "source": [
    "user_properties=user_properties_df[[\"user_id\",\"user_properties\"]]"
   ]
  },
  {
   "cell_type": "code",
   "execution_count": null,
   "id": "e0509e6e",
   "metadata": {},
   "outputs": [],
   "source": []
  },
  {
   "cell_type": "code",
   "execution_count": 85,
   "id": "8934c698",
   "metadata": {
    "ExecuteTime": {
     "end_time": "2022-06-07T14:34:03.173676Z",
     "start_time": "2022-06-07T14:33:51.483540Z"
    }
   },
   "outputs": [
    {
     "name": "stdout",
     "output_type": "stream",
     "text": [
      "Your browser has been opened to visit:\n",
      "\n",
      "    https://accounts.google.com/o/oauth2/auth?response_type=code&client_id=32555940559.apps.googleusercontent.com&redirect_uri=http%3A%2F%2Flocalhost%3A8085%2F&scope=openid+https%3A%2F%2Fwww.googleapis.com%2Fauth%2Fuserinfo.email+https%3A%2F%2Fwww.googleapis.com%2Fauth%2Fcloud-platform+https%3A%2F%2Fwww.googleapis.com%2Fauth%2Fappengine.admin+https%3A%2F%2Fwww.googleapis.com%2Fauth%2Fsqlservice.login+https%3A%2F%2Fwww.googleapis.com%2Fauth%2Fcompute+https%3A%2F%2Fwww.googleapis.com%2Fauth%2Faccounts.reauth&state=PoQsXFrUUsLui0bniQSz9njix6vkmV&access_type=offline&code_challenge=S3iaAqXEe7U5N46YKdeJCKShEw-o-S2tI7TMNTfuXWM&code_challenge_method=S256\n",
      "\n",
      "\n",
      "You are now logged in as [david.periers@gmail.com].\n",
      "Your current project is [marbotic].  You can change this setting by running:\n",
      "  $ gcloud config set project PROJECT_ID\n"
     ]
    }
   ],
   "source": [
    "!gcloud auth login"
   ]
  },
  {
   "cell_type": "code",
   "execution_count": 86,
   "id": "5f3ee968",
   "metadata": {
    "ExecuteTime": {
     "end_time": "2022-06-07T14:34:08.979583Z",
     "start_time": "2022-06-07T14:34:03.178461Z"
    }
   },
   "outputs": [
    {
     "name": "stdout",
     "output_type": "stream",
     "text": [
      "PROJECT_ID              NAME              PROJECT_NUMBER\r\n",
      "marbotic                Marbotic          566474310042\r\n",
      "symmetric-curve-346916  My First Project  175516577791\r\n",
      "wagon-bootcamp-346916   Wagon bootcamp    697736453840\r\n"
     ]
    }
   ],
   "source": [
    "!gcloud projects list"
   ]
  },
  {
   "cell_type": "code",
   "execution_count": 87,
   "id": "f4e77668",
   "metadata": {
    "ExecuteTime": {
     "end_time": "2022-06-07T14:34:11.506664Z",
     "start_time": "2022-06-07T14:34:08.983862Z"
    }
   },
   "outputs": [
    {
     "name": "stdout",
     "output_type": "stream",
     "text": [
      "Updated property [core/project].\r\n"
     ]
    }
   ],
   "source": [
    "!gcloud config set project marbotic"
   ]
  },
  {
   "cell_type": "code",
   "execution_count": 88,
   "id": "61811bae",
   "metadata": {
    "ExecuteTime": {
     "end_time": "2022-06-07T14:34:14.232982Z",
     "start_time": "2022-06-07T14:34:11.509863Z"
    }
   },
   "outputs": [
    {
     "name": "stdout",
     "output_type": "stream",
     "text": [
      "/usr/local/Caskroom/google-cloud-sdk/latest/google-cloud-sdk/platform/bq/bq.py:41: DeprecationWarning: the imp module is deprecated in favour of importlib; see the module's documentation for alternative uses\n",
      "  import imp\n",
      "     datasetId      \n",
      " ------------------ \n",
      "  marbotic_dataset  \n"
     ]
    }
   ],
   "source": [
    "!bq ls"
   ]
  },
  {
   "cell_type": "code",
   "execution_count": 89,
   "id": "3871e67f",
   "metadata": {
    "ExecuteTime": {
     "end_time": "2022-06-07T14:34:14.408530Z",
     "start_time": "2022-06-07T14:34:14.237994Z"
    }
   },
   "outputs": [
    {
     "name": "stdout",
     "output_type": "stream",
     "text": [
      "cat: credentials: No such file or directory\r\n"
     ]
    }
   ],
   "source": [
    "!cat credentials"
   ]
  },
  {
   "cell_type": "code",
   "execution_count": 93,
   "id": "47f37726",
   "metadata": {
    "ExecuteTime": {
     "end_time": "2022-06-07T14:36:13.641019Z",
     "start_time": "2022-06-07T14:36:13.621459Z"
    }
   },
   "outputs": [],
   "source": [
    "from google.oauth2 import service_account\n",
    "\n",
    "key_path = \"/Users/David/code/dperiers/GITHUB_NICKNAME/gcp/marbotic-587600c2c13f.json\"\n",
    "\n",
    "credentials = service_account.Credentials.from_service_account_file(\n",
    "    key_path, scopes=[\"https://www.googleapis.com/auth/cloud-platform\"],\n",
    ")"
   ]
  },
  {
   "cell_type": "code",
   "execution_count": 98,
   "id": "c9381abb",
   "metadata": {
    "ExecuteTime": {
     "end_time": "2022-06-07T14:41:29.591814Z",
     "start_time": "2022-06-07T14:41:29.578864Z"
    }
   },
   "outputs": [],
   "source": [
    "def extract():\n",
    "    # Construct a BigQuery client object.\n",
    "    client = bigquery.Client(project=\"marbotic\", credentials=credentials)\n",
    "\n",
    "    query = \"\"\"\n",
    "        SELECT *\n",
    "        FROM `marbotic.marbotic_dataset.event_test`\n",
    "        LIMIT 20\n",
    "    \"\"\"\n",
    "\n",
    "    query_job = client.query(query)  # Make an API request.\n",
    "    results=query_job.result().to_dataframe() # Waits for job to complete.\n",
    "\n",
    "    return pd.DataFrame(results)"
   ]
  },
  {
   "cell_type": "code",
   "execution_count": 99,
   "id": "b38dd8ad",
   "metadata": {
    "ExecuteTime": {
     "end_time": "2022-06-07T14:41:33.393147Z",
     "start_time": "2022-06-07T14:41:30.757402Z"
    }
   },
   "outputs": [
    {
     "data": {
      "text/html": [
       "<div>\n",
       "<style scoped>\n",
       "    .dataframe tbody tr th:only-of-type {\n",
       "        vertical-align: middle;\n",
       "    }\n",
       "\n",
       "    .dataframe tbody tr th {\n",
       "        vertical-align: top;\n",
       "    }\n",
       "\n",
       "    .dataframe thead th {\n",
       "        text-align: right;\n",
       "    }\n",
       "</style>\n",
       "<table border=\"1\" class=\"dataframe\">\n",
       "  <thead>\n",
       "    <tr style=\"text-align: right;\">\n",
       "      <th></th>\n",
       "      <th>user_id</th>\n",
       "      <th>start_version</th>\n",
       "      <th>os_version</th>\n",
       "      <th>client_event_time</th>\n",
       "      <th>language</th>\n",
       "      <th>event_id</th>\n",
       "      <th>session_id</th>\n",
       "      <th>region</th>\n",
       "      <th>is_attribution_event</th>\n",
       "      <th>user_creation_time</th>\n",
       "      <th>device_model</th>\n",
       "      <th>event_type</th>\n",
       "      <th>country</th>\n",
       "      <th>city</th>\n",
       "    </tr>\n",
       "  </thead>\n",
       "  <tbody>\n",
       "    <tr>\n",
       "      <th>0</th>\n",
       "      <td>NaN</td>\n",
       "      <td>None</td>\n",
       "      <td>NaN</td>\n",
       "      <td>2022-03-01 00:57:38.278000+00:00</td>\n",
       "      <td>None</td>\n",
       "      <td>NaN</td>\n",
       "      <td>NaN</td>\n",
       "      <td>None</td>\n",
       "      <td>None</td>\n",
       "      <td>NaT</td>\n",
       "      <td>None</td>\n",
       "      <td>None</td>\n",
       "      <td>Canada</td>\n",
       "      <td>Toronto</td>\n",
       "    </tr>\n",
       "    <tr>\n",
       "      <th>1</th>\n",
       "      <td>NaN</td>\n",
       "      <td>None</td>\n",
       "      <td>NaN</td>\n",
       "      <td>2022-03-01 00:57:38.278000+00:00</td>\n",
       "      <td>None</td>\n",
       "      <td>NaN</td>\n",
       "      <td>NaN</td>\n",
       "      <td>None</td>\n",
       "      <td>None</td>\n",
       "      <td>NaT</td>\n",
       "      <td>iPad Air 2</td>\n",
       "      <td>None</td>\n",
       "      <td>Canada</td>\n",
       "      <td>Toronto</td>\n",
       "    </tr>\n",
       "    <tr>\n",
       "      <th>2</th>\n",
       "      <td>NaN</td>\n",
       "      <td>None</td>\n",
       "      <td>NaN</td>\n",
       "      <td>2022-03-01 00:57:38.278000+00:00</td>\n",
       "      <td>None</td>\n",
       "      <td>NaN</td>\n",
       "      <td>NaN</td>\n",
       "      <td>None</td>\n",
       "      <td>None</td>\n",
       "      <td>NaT</td>\n",
       "      <td>None</td>\n",
       "      <td>None</td>\n",
       "      <td>Canada</td>\n",
       "      <td>Toronto</td>\n",
       "    </tr>\n",
       "    <tr>\n",
       "      <th>3</th>\n",
       "      <td>NaN</td>\n",
       "      <td>None</td>\n",
       "      <td>NaN</td>\n",
       "      <td>2022-03-01 00:57:38.278000+00:00</td>\n",
       "      <td>None</td>\n",
       "      <td>NaN</td>\n",
       "      <td>NaN</td>\n",
       "      <td>None</td>\n",
       "      <td>None</td>\n",
       "      <td>NaT</td>\n",
       "      <td>None</td>\n",
       "      <td>None</td>\n",
       "      <td>None</td>\n",
       "      <td>Toronto</td>\n",
       "    </tr>\n",
       "    <tr>\n",
       "      <th>4</th>\n",
       "      <td>NaN</td>\n",
       "      <td>None</td>\n",
       "      <td>NaN</td>\n",
       "      <td>NaT</td>\n",
       "      <td>None</td>\n",
       "      <td>NaN</td>\n",
       "      <td>NaN</td>\n",
       "      <td>None</td>\n",
       "      <td>None</td>\n",
       "      <td>NaT</td>\n",
       "      <td>None</td>\n",
       "      <td>None</td>\n",
       "      <td>None</td>\n",
       "      <td>Toronto</td>\n",
       "    </tr>\n",
       "    <tr>\n",
       "      <th>5</th>\n",
       "      <td>NaN</td>\n",
       "      <td>None</td>\n",
       "      <td>NaN</td>\n",
       "      <td>2022-03-01 00:57:38.278000+00:00</td>\n",
       "      <td>None</td>\n",
       "      <td>23211.0</td>\n",
       "      <td>NaN</td>\n",
       "      <td>None</td>\n",
       "      <td>None</td>\n",
       "      <td>NaT</td>\n",
       "      <td>iPad Air 2</td>\n",
       "      <td>[Scene] Enter</td>\n",
       "      <td>Canada</td>\n",
       "      <td>Toronto</td>\n",
       "    </tr>\n",
       "    <tr>\n",
       "      <th>6</th>\n",
       "      <td>NaN</td>\n",
       "      <td>None</td>\n",
       "      <td>NaN</td>\n",
       "      <td>2022-03-01 00:57:38.278000+00:00</td>\n",
       "      <td>None</td>\n",
       "      <td>23211.0</td>\n",
       "      <td>NaN</td>\n",
       "      <td>None</td>\n",
       "      <td>None</td>\n",
       "      <td>NaT</td>\n",
       "      <td>iPad Air 2</td>\n",
       "      <td>None</td>\n",
       "      <td>Canada</td>\n",
       "      <td>Toronto</td>\n",
       "    </tr>\n",
       "    <tr>\n",
       "      <th>7</th>\n",
       "      <td>NaN</td>\n",
       "      <td>None</td>\n",
       "      <td>15.1</td>\n",
       "      <td>2022-03-01 00:57:38.278000+00:00</td>\n",
       "      <td>English</td>\n",
       "      <td>23211.0</td>\n",
       "      <td>NaN</td>\n",
       "      <td>None</td>\n",
       "      <td>False</td>\n",
       "      <td>NaT</td>\n",
       "      <td>iPad Air 2</td>\n",
       "      <td>[Scene] Enter</td>\n",
       "      <td>Canada</td>\n",
       "      <td>Toronto</td>\n",
       "    </tr>\n",
       "    <tr>\n",
       "      <th>8</th>\n",
       "      <td>NaN</td>\n",
       "      <td>None</td>\n",
       "      <td>15.1</td>\n",
       "      <td>2022-03-01 00:57:38.278000+00:00</td>\n",
       "      <td>English</td>\n",
       "      <td>23211.0</td>\n",
       "      <td>1.646095e+12</td>\n",
       "      <td>New York</td>\n",
       "      <td>False</td>\n",
       "      <td>NaT</td>\n",
       "      <td>iPad Air 2</td>\n",
       "      <td>[Scene] Enter</td>\n",
       "      <td>Canada</td>\n",
       "      <td>Toronto</td>\n",
       "    </tr>\n",
       "    <tr>\n",
       "      <th>9</th>\n",
       "      <td>NaN</td>\n",
       "      <td>None</td>\n",
       "      <td>NaN</td>\n",
       "      <td>2022-03-01 00:57:38.278000+00:00</td>\n",
       "      <td>English</td>\n",
       "      <td>23211.0</td>\n",
       "      <td>NaN</td>\n",
       "      <td>None</td>\n",
       "      <td>False</td>\n",
       "      <td>NaT</td>\n",
       "      <td>iPad Air 2</td>\n",
       "      <td>[Scene] Enter</td>\n",
       "      <td>Canada</td>\n",
       "      <td>Toronto</td>\n",
       "    </tr>\n",
       "    <tr>\n",
       "      <th>10</th>\n",
       "      <td>NaN</td>\n",
       "      <td>None</td>\n",
       "      <td>15.1</td>\n",
       "      <td>2022-03-01 00:57:38.278000+00:00</td>\n",
       "      <td>English</td>\n",
       "      <td>23211.0</td>\n",
       "      <td>NaN</td>\n",
       "      <td>New York</td>\n",
       "      <td>False</td>\n",
       "      <td>NaT</td>\n",
       "      <td>iPad Air 2</td>\n",
       "      <td>[Scene] Enter</td>\n",
       "      <td>Canada</td>\n",
       "      <td>Toronto</td>\n",
       "    </tr>\n",
       "    <tr>\n",
       "      <th>11</th>\n",
       "      <td>NaN</td>\n",
       "      <td>None</td>\n",
       "      <td>15.1</td>\n",
       "      <td>2022-03-01 00:57:38.278000+00:00</td>\n",
       "      <td>English</td>\n",
       "      <td>23211.0</td>\n",
       "      <td>NaN</td>\n",
       "      <td>New York</td>\n",
       "      <td>False</td>\n",
       "      <td>NaT</td>\n",
       "      <td>iPad Air 2</td>\n",
       "      <td>[Scene] Enter</td>\n",
       "      <td>Canada</td>\n",
       "      <td>Toronto</td>\n",
       "    </tr>\n",
       "    <tr>\n",
       "      <th>12</th>\n",
       "      <td>NaN</td>\n",
       "      <td>None</td>\n",
       "      <td>NaN</td>\n",
       "      <td>2022-03-01 00:57:38.278000+00:00</td>\n",
       "      <td>None</td>\n",
       "      <td>23211.0</td>\n",
       "      <td>NaN</td>\n",
       "      <td>None</td>\n",
       "      <td>False</td>\n",
       "      <td>NaT</td>\n",
       "      <td>iPad Air 2</td>\n",
       "      <td>[Scene] Enter</td>\n",
       "      <td>Canada</td>\n",
       "      <td>Toronto</td>\n",
       "    </tr>\n",
       "    <tr>\n",
       "      <th>13</th>\n",
       "      <td>67531.0</td>\n",
       "      <td>1.0.7</td>\n",
       "      <td>15.3</td>\n",
       "      <td>2022-03-01 00:56:06.970000+00:00</td>\n",
       "      <td>English</td>\n",
       "      <td>1101.0</td>\n",
       "      <td>1.646095e+12</td>\n",
       "      <td>Texas</td>\n",
       "      <td>False</td>\n",
       "      <td>2021-12-28 01:29:38.094000+00:00</td>\n",
       "      <td>iPad13,4</td>\n",
       "      <td>[Activity] Stop</td>\n",
       "      <td>United States</td>\n",
       "      <td>Dallas</td>\n",
       "    </tr>\n",
       "    <tr>\n",
       "      <th>14</th>\n",
       "      <td>67531.0</td>\n",
       "      <td>1.0.7</td>\n",
       "      <td>15.3</td>\n",
       "      <td>2022-03-01 00:56:06.973000+00:00</td>\n",
       "      <td>English</td>\n",
       "      <td>1102.0</td>\n",
       "      <td>1.646095e+12</td>\n",
       "      <td>Texas</td>\n",
       "      <td>False</td>\n",
       "      <td>2021-12-28 01:29:38.094000+00:00</td>\n",
       "      <td>iPad13,4</td>\n",
       "      <td>[Scaffolding] Scaffolding</td>\n",
       "      <td>United States</td>\n",
       "      <td>Dallas</td>\n",
       "    </tr>\n",
       "    <tr>\n",
       "      <th>15</th>\n",
       "      <td>67531.0</td>\n",
       "      <td>1.0.7</td>\n",
       "      <td>15.3</td>\n",
       "      <td>2022-03-01 00:56:28.546000+00:00</td>\n",
       "      <td>English</td>\n",
       "      <td>1103.0</td>\n",
       "      <td>1.646095e+12</td>\n",
       "      <td>Texas</td>\n",
       "      <td>False</td>\n",
       "      <td>2021-12-28 01:29:38.094000+00:00</td>\n",
       "      <td>iPad13,4</td>\n",
       "      <td>[Scene] Leave</td>\n",
       "      <td>United States</td>\n",
       "      <td>Dallas</td>\n",
       "    </tr>\n",
       "    <tr>\n",
       "      <th>16</th>\n",
       "      <td>67531.0</td>\n",
       "      <td>1.0.7</td>\n",
       "      <td>15.3</td>\n",
       "      <td>2022-03-01 00:56:28.757000+00:00</td>\n",
       "      <td>English</td>\n",
       "      <td>1104.0</td>\n",
       "      <td>1.646095e+12</td>\n",
       "      <td>Texas</td>\n",
       "      <td>False</td>\n",
       "      <td>2021-12-28 01:29:38.094000+00:00</td>\n",
       "      <td>iPad13,4</td>\n",
       "      <td>[Scene] Enter</td>\n",
       "      <td>United States</td>\n",
       "      <td>Dallas</td>\n",
       "    </tr>\n",
       "    <tr>\n",
       "      <th>17</th>\n",
       "      <td>67531.0</td>\n",
       "      <td>1.0.7</td>\n",
       "      <td>15.3</td>\n",
       "      <td>2022-03-01 00:56:32.713000+00:00</td>\n",
       "      <td>English</td>\n",
       "      <td>1105.0</td>\n",
       "      <td>1.646095e+12</td>\n",
       "      <td>Texas</td>\n",
       "      <td>False</td>\n",
       "      <td>2021-12-28 01:29:38.094000+00:00</td>\n",
       "      <td>iPad13,4</td>\n",
       "      <td>[Action] Click</td>\n",
       "      <td>United States</td>\n",
       "      <td>Dallas</td>\n",
       "    </tr>\n",
       "    <tr>\n",
       "      <th>18</th>\n",
       "      <td>67531.0</td>\n",
       "      <td>1.0.7</td>\n",
       "      <td>15.3</td>\n",
       "      <td>2022-03-01 00:56:35.582000+00:00</td>\n",
       "      <td>English</td>\n",
       "      <td>1106.0</td>\n",
       "      <td>1.646095e+12</td>\n",
       "      <td>Texas</td>\n",
       "      <td>False</td>\n",
       "      <td>2021-12-28 01:29:38.094000+00:00</td>\n",
       "      <td>iPad13,4</td>\n",
       "      <td>[Scene] Leave</td>\n",
       "      <td>United States</td>\n",
       "      <td>Dallas</td>\n",
       "    </tr>\n",
       "    <tr>\n",
       "      <th>19</th>\n",
       "      <td>67531.0</td>\n",
       "      <td>1.0.7</td>\n",
       "      <td>15.3</td>\n",
       "      <td>2022-03-01 00:56:35.879000+00:00</td>\n",
       "      <td>English</td>\n",
       "      <td>1107.0</td>\n",
       "      <td>1.646095e+12</td>\n",
       "      <td>Texas</td>\n",
       "      <td>False</td>\n",
       "      <td>2021-12-28 01:29:38.094000+00:00</td>\n",
       "      <td>iPad13,4</td>\n",
       "      <td>[Scene] Enter</td>\n",
       "      <td>United States</td>\n",
       "      <td>Dallas</td>\n",
       "    </tr>\n",
       "  </tbody>\n",
       "</table>\n",
       "</div>"
      ],
      "text/plain": [
       "    user_id start_version  os_version                client_event_time  \\\n",
       "0       NaN          None         NaN 2022-03-01 00:57:38.278000+00:00   \n",
       "1       NaN          None         NaN 2022-03-01 00:57:38.278000+00:00   \n",
       "2       NaN          None         NaN 2022-03-01 00:57:38.278000+00:00   \n",
       "3       NaN          None         NaN 2022-03-01 00:57:38.278000+00:00   \n",
       "4       NaN          None         NaN                              NaT   \n",
       "5       NaN          None         NaN 2022-03-01 00:57:38.278000+00:00   \n",
       "6       NaN          None         NaN 2022-03-01 00:57:38.278000+00:00   \n",
       "7       NaN          None        15.1 2022-03-01 00:57:38.278000+00:00   \n",
       "8       NaN          None        15.1 2022-03-01 00:57:38.278000+00:00   \n",
       "9       NaN          None         NaN 2022-03-01 00:57:38.278000+00:00   \n",
       "10      NaN          None        15.1 2022-03-01 00:57:38.278000+00:00   \n",
       "11      NaN          None        15.1 2022-03-01 00:57:38.278000+00:00   \n",
       "12      NaN          None         NaN 2022-03-01 00:57:38.278000+00:00   \n",
       "13  67531.0         1.0.7        15.3 2022-03-01 00:56:06.970000+00:00   \n",
       "14  67531.0         1.0.7        15.3 2022-03-01 00:56:06.973000+00:00   \n",
       "15  67531.0         1.0.7        15.3 2022-03-01 00:56:28.546000+00:00   \n",
       "16  67531.0         1.0.7        15.3 2022-03-01 00:56:28.757000+00:00   \n",
       "17  67531.0         1.0.7        15.3 2022-03-01 00:56:32.713000+00:00   \n",
       "18  67531.0         1.0.7        15.3 2022-03-01 00:56:35.582000+00:00   \n",
       "19  67531.0         1.0.7        15.3 2022-03-01 00:56:35.879000+00:00   \n",
       "\n",
       "   language  event_id    session_id    region is_attribution_event  \\\n",
       "0      None       NaN           NaN      None                 None   \n",
       "1      None       NaN           NaN      None                 None   \n",
       "2      None       NaN           NaN      None                 None   \n",
       "3      None       NaN           NaN      None                 None   \n",
       "4      None       NaN           NaN      None                 None   \n",
       "5      None   23211.0           NaN      None                 None   \n",
       "6      None   23211.0           NaN      None                 None   \n",
       "7   English   23211.0           NaN      None                False   \n",
       "8   English   23211.0  1.646095e+12  New York                False   \n",
       "9   English   23211.0           NaN      None                False   \n",
       "10  English   23211.0           NaN  New York                False   \n",
       "11  English   23211.0           NaN  New York                False   \n",
       "12     None   23211.0           NaN      None                False   \n",
       "13  English    1101.0  1.646095e+12     Texas                False   \n",
       "14  English    1102.0  1.646095e+12     Texas                False   \n",
       "15  English    1103.0  1.646095e+12     Texas                False   \n",
       "16  English    1104.0  1.646095e+12     Texas                False   \n",
       "17  English    1105.0  1.646095e+12     Texas                False   \n",
       "18  English    1106.0  1.646095e+12     Texas                False   \n",
       "19  English    1107.0  1.646095e+12     Texas                False   \n",
       "\n",
       "                 user_creation_time device_model                 event_type  \\\n",
       "0                               NaT         None                       None   \n",
       "1                               NaT   iPad Air 2                       None   \n",
       "2                               NaT         None                       None   \n",
       "3                               NaT         None                       None   \n",
       "4                               NaT         None                       None   \n",
       "5                               NaT   iPad Air 2              [Scene] Enter   \n",
       "6                               NaT   iPad Air 2                       None   \n",
       "7                               NaT   iPad Air 2              [Scene] Enter   \n",
       "8                               NaT   iPad Air 2              [Scene] Enter   \n",
       "9                               NaT   iPad Air 2              [Scene] Enter   \n",
       "10                              NaT   iPad Air 2              [Scene] Enter   \n",
       "11                              NaT   iPad Air 2              [Scene] Enter   \n",
       "12                              NaT   iPad Air 2              [Scene] Enter   \n",
       "13 2021-12-28 01:29:38.094000+00:00     iPad13,4            [Activity] Stop   \n",
       "14 2021-12-28 01:29:38.094000+00:00     iPad13,4  [Scaffolding] Scaffolding   \n",
       "15 2021-12-28 01:29:38.094000+00:00     iPad13,4              [Scene] Leave   \n",
       "16 2021-12-28 01:29:38.094000+00:00     iPad13,4              [Scene] Enter   \n",
       "17 2021-12-28 01:29:38.094000+00:00     iPad13,4             [Action] Click   \n",
       "18 2021-12-28 01:29:38.094000+00:00     iPad13,4              [Scene] Leave   \n",
       "19 2021-12-28 01:29:38.094000+00:00     iPad13,4              [Scene] Enter   \n",
       "\n",
       "          country     city  \n",
       "0          Canada  Toronto  \n",
       "1          Canada  Toronto  \n",
       "2          Canada  Toronto  \n",
       "3            None  Toronto  \n",
       "4            None  Toronto  \n",
       "5          Canada  Toronto  \n",
       "6          Canada  Toronto  \n",
       "7          Canada  Toronto  \n",
       "8          Canada  Toronto  \n",
       "9          Canada  Toronto  \n",
       "10         Canada  Toronto  \n",
       "11         Canada  Toronto  \n",
       "12         Canada  Toronto  \n",
       "13  United States   Dallas  \n",
       "14  United States   Dallas  \n",
       "15  United States   Dallas  \n",
       "16  United States   Dallas  \n",
       "17  United States   Dallas  \n",
       "18  United States   Dallas  \n",
       "19  United States   Dallas  "
      ]
     },
     "execution_count": 99,
     "metadata": {},
     "output_type": "execute_result"
    }
   ],
   "source": [
    "extract()"
   ]
  },
  {
   "cell_type": "code",
   "execution_count": null,
   "id": "5fac8e83",
   "metadata": {
    "ExecuteTime": {
     "end_time": "2022-06-07T14:34:14.951508Z",
     "start_time": "2022-06-07T14:34:14.951476Z"
    }
   },
   "outputs": [],
   "source": [
    "test=pd.DataFrame(columns=[\"a\",\"b\"])\n",
    "test"
   ]
  },
  {
   "cell_type": "code",
   "execution_count": null,
   "id": "097d821c",
   "metadata": {},
   "outputs": [],
   "source": []
  },
  {
   "cell_type": "code",
   "execution_count": null,
   "id": "99c1e410",
   "metadata": {},
   "outputs": [],
   "source": []
  },
  {
   "cell_type": "code",
   "execution_count": null,
   "id": "9ef39605",
   "metadata": {},
   "outputs": [],
   "source": []
  },
  {
   "cell_type": "code",
   "execution_count": null,
   "id": "4cfe7615",
   "metadata": {},
   "outputs": [],
   "source": []
  }
 ],
 "metadata": {
  "kernelspec": {
   "display_name": "Python 3 (ipykernel)",
   "language": "python",
   "name": "python3"
  },
  "language_info": {
   "codemirror_mode": {
    "name": "ipython",
    "version": 3
   },
   "file_extension": ".py",
   "mimetype": "text/x-python",
   "name": "python",
   "nbconvert_exporter": "python",
   "pygments_lexer": "ipython3",
   "version": "3.8.13"
  },
  "toc": {
   "base_numbering": 1,
   "nav_menu": {},
   "number_sections": true,
   "sideBar": true,
   "skip_h1_title": false,
   "title_cell": "Table of Contents",
   "title_sidebar": "Contents",
   "toc_cell": false,
   "toc_position": {},
   "toc_section_display": true,
   "toc_window_display": false
  }
 },
 "nbformat": 4,
 "nbformat_minor": 5
}
