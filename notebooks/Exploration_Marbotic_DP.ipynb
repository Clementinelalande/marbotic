{
 "cells": [
  {
   "cell_type": "code",
   "execution_count": 47,
   "id": "058a09ba",
   "metadata": {
    "ExecuteTime": {
     "end_time": "2022-06-07T13:59:04.512731Z",
     "start_time": "2022-06-07T13:59:04.504985Z"
    }
   },
   "outputs": [],
   "source": [
    "import pandas as pd\n",
    "from google.cloud import bigquery\n",
    "from google.oauth2 import service_account"
   ]
  },
  {
   "cell_type": "code",
   "execution_count": 2,
   "id": "31ea508c",
   "metadata": {
    "ExecuteTime": {
     "end_time": "2022-06-07T08:17:26.332587Z",
     "start_time": "2022-06-07T08:09:47.079133Z"
    }
   },
   "outputs": [],
   "source": [
    "df=pd.read_json(\"/Users/David/code/Clementinelalande/marbotic/raw_data/export_23-5_minified.json\")"
   ]
  },
  {
   "cell_type": "code",
   "execution_count": 79,
   "id": "8bfa7446",
   "metadata": {
    "ExecuteTime": {
     "end_time": "2022-06-07T14:32:34.896484Z",
     "start_time": "2022-06-07T14:32:34.880598Z"
    }
   },
   "outputs": [
    {
     "data": {
      "text/plain": [
       "(1320229, 16)"
      ]
     },
     "execution_count": 79,
     "metadata": {},
     "output_type": "execute_result"
    }
   ],
   "source": [
    "df.shape"
   ]
  },
  {
   "cell_type": "code",
   "execution_count": 80,
   "id": "28e178d8",
   "metadata": {
    "ExecuteTime": {
     "end_time": "2022-06-07T14:32:35.116565Z",
     "start_time": "2022-06-07T14:32:35.102913Z"
    }
   },
   "outputs": [
    {
     "data": {
      "text/plain": [
       "Index(['city', 'client_event_time', 'country', 'device_model', 'event_id',\n",
       "       'event_type', 'is_attribution_event', 'language', 'os_version',\n",
       "       'region', 'session_id', 'start_version', 'user_creation_time',\n",
       "       'user_id', 'user_properties', 'event_properties'],\n",
       "      dtype='object')"
      ]
     },
     "execution_count": 80,
     "metadata": {},
     "output_type": "execute_result"
    }
   ],
   "source": [
    "df.columns"
   ]
  },
  {
   "cell_type": "code",
   "execution_count": 81,
   "id": "4d7b6d3f",
   "metadata": {
    "ExecuteTime": {
     "end_time": "2022-06-07T14:33:15.775963Z",
     "start_time": "2022-06-07T14:32:35.280773Z"
    }
   },
   "outputs": [
    {
     "data": {
      "text/plain": [
       "array(['[Activity] Good Answer', '[Activity] Wrong Answer',\n",
       "       '[Activity] Stop', '[Activity] Start', '[Action] Click',\n",
       "       '[Scene] Leave', '[Scene] Enter', '[Game] Pause',\n",
       "       '[Scaffolding] Scaffolding', '[Game] Start', '[Error] Error',\n",
       "       '[Game] Stop', '[OB] CommPreview', '[OB] DoYouHaveKit',\n",
       "       '[OB] HasKitYes', '[OB] Email', '[OB] VerifCode',\n",
       "       '[Activation] Game', '[OB] HasKitNo', '[OB] DiscoverTrial',\n",
       "       '[OB] ClickTrial', '[Account] Sign In', '[Profile] Create',\n",
       "       '[Profile] Update', '[OB] ProductSelection', '[OB] ProductHelp',\n",
       "       '[OB] Type', '[Account] Sign Up', '[OB] ProfileName',\n",
       "       '[OB] ProfileBirthdate', '[Activation] New Activation',\n",
       "       '[Activation] Product', '[Activation] Piece', '[OB] Success',\n",
       "       '[OB] ProductActivation', '[Scaffolding] Reset', '[OB] TrialStart',\n",
       "       '[Account] Update Request', '[Profile] Delete', '[Popup] Open',\n",
       "       '[Popup] Close', '[Account] Update Success', '[Account] Sign Out',\n",
       "       '[Profile] Reset Settings and Progression', '[OB] ClickStore',\n",
       "       '[OB] RenewalSelection', '[OB] ProductSeeMore',\n",
       "       '[OB] ProductOther', '[OB] KeyRedeem', '[OB] RenewalFail',\n",
       "       '[OB] ProductSK', '[OB] HasKeyNo', '[OB] KeyFail',\n",
       "       '[OB] RenewalSuccess', '[OB] KeySuccess', '[Toast] Appear',\n",
       "       '[Toast] Disappear', '[Action] ConversionClickSubscribe',\n",
       "       '[Action] ConversionClickRedeem'], dtype=object)"
      ]
     },
     "execution_count": 81,
     "metadata": {},
     "output_type": "execute_result"
    }
   ],
   "source": [
    "df.event_type.unique()"
   ]
  },
  {
   "cell_type": "code",
   "execution_count": 82,
   "id": "5609627d",
   "metadata": {
    "ExecuteTime": {
     "end_time": "2022-06-07T14:33:16.249811Z",
     "start_time": "2022-06-07T14:33:15.789063Z"
    }
   },
   "outputs": [
    {
     "data": {
      "text/html": [
       "<div>\n",
       "<style scoped>\n",
       "    .dataframe tbody tr th:only-of-type {\n",
       "        vertical-align: middle;\n",
       "    }\n",
       "\n",
       "    .dataframe tbody tr th {\n",
       "        vertical-align: top;\n",
       "    }\n",
       "\n",
       "    .dataframe thead th {\n",
       "        text-align: right;\n",
       "    }\n",
       "</style>\n",
       "<table border=\"1\" class=\"dataframe\">\n",
       "  <thead>\n",
       "    <tr style=\"text-align: right;\">\n",
       "      <th></th>\n",
       "      <th>city</th>\n",
       "      <th>client_event_time</th>\n",
       "      <th>country</th>\n",
       "      <th>device_model</th>\n",
       "      <th>event_id</th>\n",
       "      <th>event_type</th>\n",
       "      <th>is_attribution_event</th>\n",
       "      <th>language</th>\n",
       "      <th>os_version</th>\n",
       "      <th>region</th>\n",
       "      <th>session_id</th>\n",
       "      <th>start_version</th>\n",
       "      <th>user_creation_time</th>\n",
       "      <th>user_id</th>\n",
       "      <th>user_properties</th>\n",
       "      <th>event_properties</th>\n",
       "    </tr>\n",
       "  </thead>\n",
       "  <tbody>\n",
       "    <tr>\n",
       "      <th>0</th>\n",
       "      <td>Dallas</td>\n",
       "      <td>2022-03-01 00:57:25.903</td>\n",
       "      <td>United States</td>\n",
       "      <td>iPad13,4</td>\n",
       "      <td>1110</td>\n",
       "      <td>[Activity] Good Answer</td>\n",
       "      <td>False</td>\n",
       "      <td>English</td>\n",
       "      <td>15.3</td>\n",
       "      <td>Texas</td>\n",
       "      <td>1646095346396</td>\n",
       "      <td>1.0.7</td>\n",
       "      <td>2021-12-28 01:29:38.094</td>\n",
       "      <td>67531</td>\n",
       "      <td>{'Newsletter': 'False', 'Products': ['Smart Le...</td>\n",
       "      <td>{'[Activity] Name': 'LinePanties', '[Activity]...</td>\n",
       "    </tr>\n",
       "    <tr>\n",
       "      <th>1</th>\n",
       "      <td>Dallas</td>\n",
       "      <td>2022-03-01 00:57:41.878</td>\n",
       "      <td>United States</td>\n",
       "      <td>iPad13,4</td>\n",
       "      <td>1111</td>\n",
       "      <td>[Activity] Wrong Answer</td>\n",
       "      <td>False</td>\n",
       "      <td>English</td>\n",
       "      <td>15.3</td>\n",
       "      <td>Texas</td>\n",
       "      <td>1646095346396</td>\n",
       "      <td>1.0.7</td>\n",
       "      <td>2021-12-28 01:29:38.094</td>\n",
       "      <td>67531</td>\n",
       "      <td>{'Newsletter': 'False', 'Products': ['Smart Le...</td>\n",
       "      <td>{'[Activity] Name': 'LinePanties', '[Activity]...</td>\n",
       "    </tr>\n",
       "    <tr>\n",
       "      <th>2</th>\n",
       "      <td>Toronto</td>\n",
       "      <td>2022-03-01 00:57:28.175</td>\n",
       "      <td>Canada</td>\n",
       "      <td>iPad12,1</td>\n",
       "      <td>1430</td>\n",
       "      <td>[Activity] Stop</td>\n",
       "      <td>False</td>\n",
       "      <td>English</td>\n",
       "      <td>15.2</td>\n",
       "      <td>Ontario</td>\n",
       "      <td>1646096085235</td>\n",
       "      <td>1.3.1</td>\n",
       "      <td>2021-07-19 20:24:36.326</td>\n",
       "      <td>60882</td>\n",
       "      <td>{'Newsletter': 'True', 'Products': ['Smart Let...</td>\n",
       "      <td>{'[Activity] Name': '1.2', '[Game] Code': 'Mar...</td>\n",
       "    </tr>\n",
       "    <tr>\n",
       "      <th>3</th>\n",
       "      <td>Toronto</td>\n",
       "      <td>2022-03-01 00:57:28.177</td>\n",
       "      <td>Canada</td>\n",
       "      <td>iPad12,1</td>\n",
       "      <td>1431</td>\n",
       "      <td>[Activity] Start</td>\n",
       "      <td>False</td>\n",
       "      <td>English</td>\n",
       "      <td>15.2</td>\n",
       "      <td>Ontario</td>\n",
       "      <td>1646096085235</td>\n",
       "      <td>1.3.1</td>\n",
       "      <td>2021-07-19 20:24:36.326</td>\n",
       "      <td>60882</td>\n",
       "      <td>{'Newsletter': 'True', 'Products': ['Smart Let...</td>\n",
       "      <td>{'[Activity] Name': '1.3', '[Game] Code': 'Mar...</td>\n",
       "    </tr>\n",
       "    <tr>\n",
       "      <th>4</th>\n",
       "      <td>Toronto</td>\n",
       "      <td>2022-03-01 00:57:38.278</td>\n",
       "      <td>Canada</td>\n",
       "      <td>iPad12,1</td>\n",
       "      <td>1432</td>\n",
       "      <td>[Activity] Stop</td>\n",
       "      <td>False</td>\n",
       "      <td>English</td>\n",
       "      <td>15.2</td>\n",
       "      <td>Ontario</td>\n",
       "      <td>1646096085235</td>\n",
       "      <td>1.3.1</td>\n",
       "      <td>2021-07-19 20:24:36.326</td>\n",
       "      <td>60882</td>\n",
       "      <td>{'Newsletter': 'True', 'Products': ['Smart Let...</td>\n",
       "      <td>{'[Activity] Name': '1.3', '[Game] Code': 'Mar...</td>\n",
       "    </tr>\n",
       "  </tbody>\n",
       "</table>\n",
       "</div>"
      ],
      "text/plain": [
       "      city       client_event_time        country device_model  event_id  \\\n",
       "0   Dallas 2022-03-01 00:57:25.903  United States     iPad13,4      1110   \n",
       "1   Dallas 2022-03-01 00:57:41.878  United States     iPad13,4      1111   \n",
       "2  Toronto 2022-03-01 00:57:28.175         Canada     iPad12,1      1430   \n",
       "3  Toronto 2022-03-01 00:57:28.177         Canada     iPad12,1      1431   \n",
       "4  Toronto 2022-03-01 00:57:38.278         Canada     iPad12,1      1432   \n",
       "\n",
       "                event_type  is_attribution_event language os_version   region  \\\n",
       "0   [Activity] Good Answer                 False  English       15.3    Texas   \n",
       "1  [Activity] Wrong Answer                 False  English       15.3    Texas   \n",
       "2          [Activity] Stop                 False  English       15.2  Ontario   \n",
       "3         [Activity] Start                 False  English       15.2  Ontario   \n",
       "4          [Activity] Stop                 False  English       15.2  Ontario   \n",
       "\n",
       "      session_id start_version      user_creation_time user_id  \\\n",
       "0  1646095346396         1.0.7 2021-12-28 01:29:38.094   67531   \n",
       "1  1646095346396         1.0.7 2021-12-28 01:29:38.094   67531   \n",
       "2  1646096085235         1.3.1 2021-07-19 20:24:36.326   60882   \n",
       "3  1646096085235         1.3.1 2021-07-19 20:24:36.326   60882   \n",
       "4  1646096085235         1.3.1 2021-07-19 20:24:36.326   60882   \n",
       "\n",
       "                                     user_properties  \\\n",
       "0  {'Newsletter': 'False', 'Products': ['Smart Le...   \n",
       "1  {'Newsletter': 'False', 'Products': ['Smart Le...   \n",
       "2  {'Newsletter': 'True', 'Products': ['Smart Let...   \n",
       "3  {'Newsletter': 'True', 'Products': ['Smart Let...   \n",
       "4  {'Newsletter': 'True', 'Products': ['Smart Let...   \n",
       "\n",
       "                                    event_properties  \n",
       "0  {'[Activity] Name': 'LinePanties', '[Activity]...  \n",
       "1  {'[Activity] Name': 'LinePanties', '[Activity]...  \n",
       "2  {'[Activity] Name': '1.2', '[Game] Code': 'Mar...  \n",
       "3  {'[Activity] Name': '1.3', '[Game] Code': 'Mar...  \n",
       "4  {'[Activity] Name': '1.3', '[Game] Code': 'Mar...  "
      ]
     },
     "execution_count": 82,
     "metadata": {},
     "output_type": "execute_result"
    }
   ],
   "source": [
    "df.head()"
   ]
  },
  {
   "cell_type": "code",
   "execution_count": 109,
   "id": "4ec6b3bc",
   "metadata": {
    "ExecuteTime": {
     "end_time": "2022-06-07T16:29:22.281688Z",
     "start_time": "2022-06-07T16:29:22.270391Z"
    }
   },
   "outputs": [
    {
     "data": {
      "text/plain": [
       "{'[Activity] Name': '1.3',\n",
       " '[Game] Code': 'Marbotic',\n",
       " '[Time] Spent': 10,\n",
       " '[Scene] Name': 'Counting_Home',\n",
       " '[Profile] Age (days)': 2423,\n",
       " '[Game] Language': 'en_US',\n",
       " '[Activity] Solved': False,\n",
       " '[Scaffolding] Level': 11,\n",
       " '[Scene] Section': 'UP100'}"
      ]
     },
     "execution_count": 109,
     "metadata": {},
     "output_type": "execute_result"
    }
   ],
   "source": [
    "df.event_properties[4]"
   ]
  },
  {
   "cell_type": "code",
   "execution_count": 130,
   "id": "8940258f",
   "metadata": {
    "ExecuteTime": {
     "end_time": "2022-06-08T08:36:29.655495Z",
     "start_time": "2022-06-08T08:36:29.612509Z"
    }
   },
   "outputs": [
    {
     "data": {
      "text/plain": [
       "{'Newsletter': 'True',\n",
       " 'Products': ['Smart Letters', 'Smart Numbers'],\n",
       " 'Pieces': ['Uppercase Letters', 'Numbers'],\n",
       " 'Language': 'English',\n",
       " 'Type': 'Parent',\n",
       " 'Country': 'CA',\n",
       " 'Games': ['Marbotic Numbers',\n",
       "  'Marbotic Letters',\n",
       "  'Alphamonster',\n",
       "  'Vocabubble',\n",
       "  'Bla Bla Box',\n",
       "  'Lil Reader',\n",
       "  'Up To 100',\n",
       "  '10 Fingers',\n",
       "  'More Or Less',\n",
       "  'Marbotic']}"
      ]
     },
     "execution_count": 130,
     "metadata": {},
     "output_type": "execute_result"
    }
   ],
   "source": [
    "df.user_properties[4]"
   ]
  },
  {
   "cell_type": "code",
   "execution_count": 83,
   "id": "375e7b63",
   "metadata": {
    "ExecuteTime": {
     "end_time": "2022-06-07T14:33:51.208331Z",
     "start_time": "2022-06-07T14:33:16.264571Z"
    }
   },
   "outputs": [],
   "source": [
    "user_properties_df=df.copy()"
   ]
  },
  {
   "cell_type": "code",
   "execution_count": 84,
   "id": "6f1d08c4",
   "metadata": {
    "ExecuteTime": {
     "end_time": "2022-06-07T14:33:51.479033Z",
     "start_time": "2022-06-07T14:33:51.239973Z"
    }
   },
   "outputs": [],
   "source": [
    "user_properties=user_properties_df[[\"user_id\",\"user_properties\"]]"
   ]
  },
  {
   "cell_type": "code",
   "execution_count": null,
   "id": "c5fd70c0",
   "metadata": {},
   "outputs": [],
   "source": []
  },
  {
   "cell_type": "code",
   "execution_count": 85,
   "id": "8446b79f",
   "metadata": {
    "ExecuteTime": {
     "end_time": "2022-06-07T14:34:03.173676Z",
     "start_time": "2022-06-07T14:33:51.483540Z"
    }
   },
   "outputs": [
    {
     "name": "stdout",
     "output_type": "stream",
     "text": [
      "Your browser has been opened to visit:\n",
      "\n",
      "    https://accounts.google.com/o/oauth2/auth?response_type=code&client_id=32555940559.apps.googleusercontent.com&redirect_uri=http%3A%2F%2Flocalhost%3A8085%2F&scope=openid+https%3A%2F%2Fwww.googleapis.com%2Fauth%2Fuserinfo.email+https%3A%2F%2Fwww.googleapis.com%2Fauth%2Fcloud-platform+https%3A%2F%2Fwww.googleapis.com%2Fauth%2Fappengine.admin+https%3A%2F%2Fwww.googleapis.com%2Fauth%2Fsqlservice.login+https%3A%2F%2Fwww.googleapis.com%2Fauth%2Fcompute+https%3A%2F%2Fwww.googleapis.com%2Fauth%2Faccounts.reauth&state=PoQsXFrUUsLui0bniQSz9njix6vkmV&access_type=offline&code_challenge=S3iaAqXEe7U5N46YKdeJCKShEw-o-S2tI7TMNTfuXWM&code_challenge_method=S256\n",
      "\n",
      "\n",
      "You are now logged in as [david.periers@gmail.com].\n",
      "Your current project is [marbotic].  You can change this setting by running:\n",
      "  $ gcloud config set project PROJECT_ID\n"
     ]
    }
   ],
   "source": [
    "!gcloud auth login"
   ]
  },
  {
   "cell_type": "code",
   "execution_count": 86,
   "id": "6a820357",
   "metadata": {
    "ExecuteTime": {
     "end_time": "2022-06-07T14:34:08.979583Z",
     "start_time": "2022-06-07T14:34:03.178461Z"
    }
   },
   "outputs": [
    {
     "name": "stdout",
     "output_type": "stream",
     "text": [
      "PROJECT_ID              NAME              PROJECT_NUMBER\r\n",
      "marbotic                Marbotic          566474310042\r\n",
      "symmetric-curve-346916  My First Project  175516577791\r\n",
      "wagon-bootcamp-346916   Wagon bootcamp    697736453840\r\n"
     ]
    }
   ],
   "source": [
    "!gcloud projects list"
   ]
  },
  {
   "cell_type": "code",
   "execution_count": 87,
   "id": "f16be56b",
   "metadata": {
    "ExecuteTime": {
     "end_time": "2022-06-07T14:34:11.506664Z",
     "start_time": "2022-06-07T14:34:08.983862Z"
    }
   },
   "outputs": [
    {
     "name": "stdout",
     "output_type": "stream",
     "text": [
      "Updated property [core/project].\r\n"
     ]
    }
   ],
   "source": [
    "!gcloud config set project marbotic"
   ]
  },
  {
   "cell_type": "code",
   "execution_count": 88,
   "id": "d0aa2822",
   "metadata": {
    "ExecuteTime": {
     "end_time": "2022-06-07T14:34:14.232982Z",
     "start_time": "2022-06-07T14:34:11.509863Z"
    }
   },
   "outputs": [
    {
     "name": "stdout",
     "output_type": "stream",
     "text": [
      "/usr/local/Caskroom/google-cloud-sdk/latest/google-cloud-sdk/platform/bq/bq.py:41: DeprecationWarning: the imp module is deprecated in favour of importlib; see the module's documentation for alternative uses\n",
      "  import imp\n",
      "     datasetId      \n",
      " ------------------ \n",
      "  marbotic_dataset  \n"
     ]
    }
   ],
   "source": [
    "!bq ls"
   ]
  },
  {
   "cell_type": "code",
   "execution_count": 89,
   "id": "02e165e4",
   "metadata": {
    "ExecuteTime": {
     "end_time": "2022-06-07T14:34:14.408530Z",
     "start_time": "2022-06-07T14:34:14.237994Z"
    }
   },
   "outputs": [
    {
     "name": "stdout",
     "output_type": "stream",
     "text": [
      "cat: credentials: No such file or directory\r\n"
     ]
    }
   ],
   "source": [
    "!cat credentials"
   ]
  },
  {
   "cell_type": "code",
   "execution_count": 93,
   "id": "a7026369",
   "metadata": {
    "ExecuteTime": {
     "end_time": "2022-06-07T14:36:13.641019Z",
     "start_time": "2022-06-07T14:36:13.621459Z"
    }
   },
   "outputs": [],
   "source": [
    "from google.oauth2 import service_account\n",
    "\n",
    "key_path = \"/Users/David/code/dperiers/GITHUB_NICKNAME/gcp/marbotic-587600c2c13f.json\"\n",
    "\n",
    "credentials = service_account.Credentials.from_service_account_file(\n",
    "    key_path, scopes=[\"https://www.googleapis.com/auth/cloud-platform\"],\n",
    ")"
   ]
  },
  {
   "cell_type": "code",
   "execution_count": 131,
   "id": "1cfbd934",
   "metadata": {
    "ExecuteTime": {
     "end_time": "2022-06-08T10:05:44.370819Z",
     "start_time": "2022-06-08T10:05:44.347424Z"
    }
   },
   "outputs": [],
   "source": [
    "from google.oauth2 import service_account\n",
    "\n",
    "def extract():\n",
    "    # Construct a BigQuery client object.\n",
    "\n",
    "    key_path = \"/Users/David/code/dperiers/GITHUB_NICKNAME/gcp/marbotic-587600c2c13f.json\"\n",
    "\n",
    "    credentials = service_account.Credentials.from_service_account_file(\n",
    "    key_path, scopes=[\"https://www.googleapis.com/auth/cloud-platform\"],)\n",
    "    \n",
    "    client = bigquery.Client(project=\"marbotic\", credentials=credentials)\n",
    "\n",
    "    query = \"\"\"\n",
    "        SELECT *\n",
    "        FROM `marbotic.marbotic_dataset.events`\n",
    "    \"\"\"\n",
    "\n",
    "    query_job = client.query(query)  # Make an API request.\n",
    "    results=query_job.result().to_dataframe() # Waits for job to complete.\n",
    "\n",
    "    return pd.DataFrame(results)"
   ]
  },
  {
   "cell_type": "code",
   "execution_count": 132,
   "id": "a2eca334",
   "metadata": {
    "ExecuteTime": {
     "end_time": "2022-06-08T10:05:57.062002Z",
     "start_time": "2022-06-08T10:05:48.536912Z"
    }
   },
   "outputs": [
    {
     "data": {
      "text/html": [
       "<div>\n",
       "<style scoped>\n",
       "    .dataframe tbody tr th:only-of-type {\n",
       "        vertical-align: middle;\n",
       "    }\n",
       "\n",
       "    .dataframe tbody tr th {\n",
       "        vertical-align: top;\n",
       "    }\n",
       "\n",
       "    .dataframe thead th {\n",
       "        text-align: right;\n",
       "    }\n",
       "</style>\n",
       "<table border=\"1\" class=\"dataframe\">\n",
       "  <thead>\n",
       "    <tr style=\"text-align: right;\">\n",
       "      <th></th>\n",
       "      <th>user_id</th>\n",
       "      <th>start_version</th>\n",
       "      <th>os_version</th>\n",
       "      <th>client_event_time</th>\n",
       "      <th>language</th>\n",
       "      <th>event_id</th>\n",
       "      <th>session_id</th>\n",
       "      <th>region</th>\n",
       "      <th>is_attribution_event</th>\n",
       "      <th>user_creation_time</th>\n",
       "      <th>device_model</th>\n",
       "      <th>event_type</th>\n",
       "      <th>country</th>\n",
       "      <th>city</th>\n",
       "    </tr>\n",
       "  </thead>\n",
       "  <tbody>\n",
       "    <tr>\n",
       "      <th>0</th>\n",
       "      <td>69077.0</td>\n",
       "      <td>1.0.8</td>\n",
       "      <td>10.3.3</td>\n",
       "      <td>2022-03-01 18:11:29.219000+00:00</td>\n",
       "      <td>English</td>\n",
       "      <td>7</td>\n",
       "      <td>1646158215337</td>\n",
       "      <td>British Columbia</td>\n",
       "      <td>False</td>\n",
       "      <td>2022-01-24 05:21:26.336000+00:00</td>\n",
       "      <td>iPad 4</td>\n",
       "      <td>[Account] Sign In</td>\n",
       "      <td>Canada</td>\n",
       "      <td>North Vancouver</td>\n",
       "    </tr>\n",
       "    <tr>\n",
       "      <th>1</th>\n",
       "      <td>69077.0</td>\n",
       "      <td>1.0.8</td>\n",
       "      <td>10.3.3</td>\n",
       "      <td>2022-03-01 18:20:11.873000+00:00</td>\n",
       "      <td>English</td>\n",
       "      <td>29</td>\n",
       "      <td>1646158215337</td>\n",
       "      <td>British Columbia</td>\n",
       "      <td>False</td>\n",
       "      <td>2022-01-24 05:21:26.336000+00:00</td>\n",
       "      <td>iPad 4</td>\n",
       "      <td>[OB] ProductSelection</td>\n",
       "      <td>Canada</td>\n",
       "      <td>North Vancouver</td>\n",
       "    </tr>\n",
       "    <tr>\n",
       "      <th>2</th>\n",
       "      <td>69077.0</td>\n",
       "      <td>1.0.8</td>\n",
       "      <td>10.3.3</td>\n",
       "      <td>2022-03-01 18:20:19.948000+00:00</td>\n",
       "      <td>English</td>\n",
       "      <td>30</td>\n",
       "      <td>1646158215337</td>\n",
       "      <td>British Columbia</td>\n",
       "      <td>False</td>\n",
       "      <td>2022-01-24 05:21:26.336000+00:00</td>\n",
       "      <td>iPad 4</td>\n",
       "      <td>[OB] ProductHelp</td>\n",
       "      <td>Canada</td>\n",
       "      <td>North Vancouver</td>\n",
       "    </tr>\n",
       "    <tr>\n",
       "      <th>3</th>\n",
       "      <td>69077.0</td>\n",
       "      <td>1.0.8</td>\n",
       "      <td>10.3.3</td>\n",
       "      <td>2022-03-01 18:20:22.647000+00:00</td>\n",
       "      <td>English</td>\n",
       "      <td>31</td>\n",
       "      <td>1646158215337</td>\n",
       "      <td>British Columbia</td>\n",
       "      <td>False</td>\n",
       "      <td>2022-01-24 05:21:26.336000+00:00</td>\n",
       "      <td>iPad 4</td>\n",
       "      <td>[OB] ProductActivation</td>\n",
       "      <td>Canada</td>\n",
       "      <td>North Vancouver</td>\n",
       "    </tr>\n",
       "    <tr>\n",
       "      <th>4</th>\n",
       "      <td>69077.0</td>\n",
       "      <td>1.0.8</td>\n",
       "      <td>10.3.3</td>\n",
       "      <td>2022-03-01 18:21:22.139000+00:00</td>\n",
       "      <td>English</td>\n",
       "      <td>33</td>\n",
       "      <td>1646158215337</td>\n",
       "      <td>British Columbia</td>\n",
       "      <td>False</td>\n",
       "      <td>2022-01-24 05:21:26.336000+00:00</td>\n",
       "      <td>iPad 4</td>\n",
       "      <td>[Scaffolding] Reset</td>\n",
       "      <td>Canada</td>\n",
       "      <td>North Vancouver</td>\n",
       "    </tr>\n",
       "    <tr>\n",
       "      <th>...</th>\n",
       "      <td>...</td>\n",
       "      <td>...</td>\n",
       "      <td>...</td>\n",
       "      <td>...</td>\n",
       "      <td>...</td>\n",
       "      <td>...</td>\n",
       "      <td>...</td>\n",
       "      <td>...</td>\n",
       "      <td>...</td>\n",
       "      <td>...</td>\n",
       "      <td>...</td>\n",
       "      <td>...</td>\n",
       "      <td>...</td>\n",
       "      <td>...</td>\n",
       "    </tr>\n",
       "    <tr>\n",
       "      <th>399995</th>\n",
       "      <td>68169.0</td>\n",
       "      <td>1.0.7</td>\n",
       "      <td>14.6</td>\n",
       "      <td>2022-03-13 10:17:08.262000+00:00</td>\n",
       "      <td>French</td>\n",
       "      <td>1308</td>\n",
       "      <td>1647165206796</td>\n",
       "      <td>Maine-et-Loire</td>\n",
       "      <td>False</td>\n",
       "      <td>2022-01-08 09:38:37.611000+00:00</td>\n",
       "      <td>iPad 5</td>\n",
       "      <td>[Scaffolding] Scaffolding</td>\n",
       "      <td>France</td>\n",
       "      <td>Gennes</td>\n",
       "    </tr>\n",
       "    <tr>\n",
       "      <th>399996</th>\n",
       "      <td>68169.0</td>\n",
       "      <td>1.0.7</td>\n",
       "      <td>14.6</td>\n",
       "      <td>2022-03-13 10:27:33.469000+00:00</td>\n",
       "      <td>French</td>\n",
       "      <td>1357</td>\n",
       "      <td>1647165206796</td>\n",
       "      <td>Maine-et-Loire</td>\n",
       "      <td>False</td>\n",
       "      <td>2022-01-08 09:38:37.611000+00:00</td>\n",
       "      <td>iPad 5</td>\n",
       "      <td>[Scaffolding] Scaffolding</td>\n",
       "      <td>France</td>\n",
       "      <td>Gennes</td>\n",
       "    </tr>\n",
       "    <tr>\n",
       "      <th>399997</th>\n",
       "      <td>68169.0</td>\n",
       "      <td>1.0.7</td>\n",
       "      <td>14.6</td>\n",
       "      <td>2022-03-13 10:23:30.013000+00:00</td>\n",
       "      <td>French</td>\n",
       "      <td>1343</td>\n",
       "      <td>1647165206796</td>\n",
       "      <td>Maine-et-Loire</td>\n",
       "      <td>False</td>\n",
       "      <td>2022-01-08 09:38:37.611000+00:00</td>\n",
       "      <td>iPad 5</td>\n",
       "      <td>[Scaffolding] Scaffolding</td>\n",
       "      <td>France</td>\n",
       "      <td>Gennes</td>\n",
       "    </tr>\n",
       "    <tr>\n",
       "      <th>399998</th>\n",
       "      <td>68169.0</td>\n",
       "      <td>1.0.7</td>\n",
       "      <td>14.6</td>\n",
       "      <td>2022-03-13 10:03:57.818000+00:00</td>\n",
       "      <td>French</td>\n",
       "      <td>1247</td>\n",
       "      <td>1647165206796</td>\n",
       "      <td>Maine-et-Loire</td>\n",
       "      <td>False</td>\n",
       "      <td>2022-01-08 09:38:37.611000+00:00</td>\n",
       "      <td>iPad 5</td>\n",
       "      <td>[Scaffolding] Scaffolding</td>\n",
       "      <td>France</td>\n",
       "      <td>Gennes</td>\n",
       "    </tr>\n",
       "    <tr>\n",
       "      <th>399999</th>\n",
       "      <td>68169.0</td>\n",
       "      <td>1.0.7</td>\n",
       "      <td>14.6</td>\n",
       "      <td>2022-03-13 10:19:37.003000+00:00</td>\n",
       "      <td>French</td>\n",
       "      <td>1324</td>\n",
       "      <td>1647165206796</td>\n",
       "      <td>Maine-et-Loire</td>\n",
       "      <td>False</td>\n",
       "      <td>2022-01-08 09:38:37.611000+00:00</td>\n",
       "      <td>iPad 5</td>\n",
       "      <td>[Scaffolding] Scaffolding</td>\n",
       "      <td>France</td>\n",
       "      <td>Gennes</td>\n",
       "    </tr>\n",
       "  </tbody>\n",
       "</table>\n",
       "<p>400000 rows × 14 columns</p>\n",
       "</div>"
      ],
      "text/plain": [
       "        user_id start_version os_version                client_event_time  \\\n",
       "0       69077.0         1.0.8     10.3.3 2022-03-01 18:11:29.219000+00:00   \n",
       "1       69077.0         1.0.8     10.3.3 2022-03-01 18:20:11.873000+00:00   \n",
       "2       69077.0         1.0.8     10.3.3 2022-03-01 18:20:19.948000+00:00   \n",
       "3       69077.0         1.0.8     10.3.3 2022-03-01 18:20:22.647000+00:00   \n",
       "4       69077.0         1.0.8     10.3.3 2022-03-01 18:21:22.139000+00:00   \n",
       "...         ...           ...        ...                              ...   \n",
       "399995  68169.0         1.0.7       14.6 2022-03-13 10:17:08.262000+00:00   \n",
       "399996  68169.0         1.0.7       14.6 2022-03-13 10:27:33.469000+00:00   \n",
       "399997  68169.0         1.0.7       14.6 2022-03-13 10:23:30.013000+00:00   \n",
       "399998  68169.0         1.0.7       14.6 2022-03-13 10:03:57.818000+00:00   \n",
       "399999  68169.0         1.0.7       14.6 2022-03-13 10:19:37.003000+00:00   \n",
       "\n",
       "       language  event_id     session_id            region  \\\n",
       "0       English         7  1646158215337  British Columbia   \n",
       "1       English        29  1646158215337  British Columbia   \n",
       "2       English        30  1646158215337  British Columbia   \n",
       "3       English        31  1646158215337  British Columbia   \n",
       "4       English        33  1646158215337  British Columbia   \n",
       "...         ...       ...            ...               ...   \n",
       "399995   French      1308  1647165206796    Maine-et-Loire   \n",
       "399996   French      1357  1647165206796    Maine-et-Loire   \n",
       "399997   French      1343  1647165206796    Maine-et-Loire   \n",
       "399998   French      1247  1647165206796    Maine-et-Loire   \n",
       "399999   French      1324  1647165206796    Maine-et-Loire   \n",
       "\n",
       "        is_attribution_event               user_creation_time device_model  \\\n",
       "0                      False 2022-01-24 05:21:26.336000+00:00       iPad 4   \n",
       "1                      False 2022-01-24 05:21:26.336000+00:00       iPad 4   \n",
       "2                      False 2022-01-24 05:21:26.336000+00:00       iPad 4   \n",
       "3                      False 2022-01-24 05:21:26.336000+00:00       iPad 4   \n",
       "4                      False 2022-01-24 05:21:26.336000+00:00       iPad 4   \n",
       "...                      ...                              ...          ...   \n",
       "399995                 False 2022-01-08 09:38:37.611000+00:00       iPad 5   \n",
       "399996                 False 2022-01-08 09:38:37.611000+00:00       iPad 5   \n",
       "399997                 False 2022-01-08 09:38:37.611000+00:00       iPad 5   \n",
       "399998                 False 2022-01-08 09:38:37.611000+00:00       iPad 5   \n",
       "399999                 False 2022-01-08 09:38:37.611000+00:00       iPad 5   \n",
       "\n",
       "                       event_type country             city  \n",
       "0               [Account] Sign In  Canada  North Vancouver  \n",
       "1           [OB] ProductSelection  Canada  North Vancouver  \n",
       "2                [OB] ProductHelp  Canada  North Vancouver  \n",
       "3          [OB] ProductActivation  Canada  North Vancouver  \n",
       "4             [Scaffolding] Reset  Canada  North Vancouver  \n",
       "...                           ...     ...              ...  \n",
       "399995  [Scaffolding] Scaffolding  France           Gennes  \n",
       "399996  [Scaffolding] Scaffolding  France           Gennes  \n",
       "399997  [Scaffolding] Scaffolding  France           Gennes  \n",
       "399998  [Scaffolding] Scaffolding  France           Gennes  \n",
       "399999  [Scaffolding] Scaffolding  France           Gennes  \n",
       "\n",
       "[400000 rows x 14 columns]"
      ]
     },
     "execution_count": 132,
     "metadata": {},
     "output_type": "execute_result"
    }
   ],
   "source": [
    "extract()"
   ]
  },
  {
   "cell_type": "code",
   "execution_count": null,
   "id": "01fdadc7",
   "metadata": {
    "ExecuteTime": {
     "end_time": "2022-06-07T14:34:14.951508Z",
     "start_time": "2022-06-07T14:34:14.951476Z"
    }
   },
   "outputs": [],
   "source": [
    "test=pd.DataFrame(columns=[\"a\",\"b\"])\n",
    "test"
   ]
  },
  {
   "cell_type": "code",
   "execution_count": 104,
   "id": "b228342b",
   "metadata": {
    "ExecuteTime": {
     "end_time": "2022-06-07T16:25:16.230773Z",
     "start_time": "2022-06-07T16:25:16.120013Z"
    }
   },
   "outputs": [],
   "source": [
    "data=pd.read_csv(\"/Users/David/code/Clementinelalande/marbotic/raw_data/users_info_202206071551.csv\",sep=\";\")"
   ]
  },
  {
   "cell_type": "code",
   "execution_count": 105,
   "id": "46b39eeb",
   "metadata": {
    "ExecuteTime": {
     "end_time": "2022-06-07T16:25:22.001288Z",
     "start_time": "2022-06-07T16:25:21.957586Z"
    }
   },
   "outputs": [
    {
     "data": {
      "text/html": [
       "<div>\n",
       "<style scoped>\n",
       "    .dataframe tbody tr th:only-of-type {\n",
       "        vertical-align: middle;\n",
       "    }\n",
       "\n",
       "    .dataframe tbody tr th {\n",
       "        vertical-align: top;\n",
       "    }\n",
       "\n",
       "    .dataframe thead th {\n",
       "        text-align: right;\n",
       "    }\n",
       "</style>\n",
       "<table border=\"1\" class=\"dataframe\">\n",
       "  <thead>\n",
       "    <tr style=\"text-align: right;\">\n",
       "      <th></th>\n",
       "      <th>User id</th>\n",
       "      <th>Country</th>\n",
       "      <th>Language</th>\n",
       "      <th>News letter</th>\n",
       "      <th>Type</th>\n",
       "      <th>Attribution</th>\n",
       "      <th>Games</th>\n",
       "      <th>Products</th>\n",
       "      <th>Pieces</th>\n",
       "      <th>Purchases</th>\n",
       "    </tr>\n",
       "  </thead>\n",
       "  <tbody>\n",
       "    <tr>\n",
       "      <th>0</th>\n",
       "      <td>59707</td>\n",
       "      <td>MX</td>\n",
       "      <td>English</td>\n",
       "      <td>True</td>\n",
       "      <td>Parent</td>\n",
       "      <td>PLU</td>\n",
       "      <td>[\"10 Fingers\",\"Marbotic Letters\",\"Marbotic Num...</td>\n",
       "      <td>[\"Smart Kit\",\"Smart Numbers\",\"Nordic Kit\"]</td>\n",
       "      <td>[\"Nordic Letters\",\"Numbers\",\"Uppercase Letters\"]</td>\n",
       "      <td>NaN</td>\n",
       "    </tr>\n",
       "    <tr>\n",
       "      <th>1</th>\n",
       "      <td>61748</td>\n",
       "      <td>NZ</td>\n",
       "      <td>English</td>\n",
       "      <td>False</td>\n",
       "      <td>Educator</td>\n",
       "      <td>ELU</td>\n",
       "      <td>[\"Marbotic Letters\",\"Vocabubble\",\"10 Fingers\",...</td>\n",
       "      <td>[\"Smart Letters\",\"Smart Numbers\"]</td>\n",
       "      <td>[\"Numbers\",\"Uppercase Letters\"]</td>\n",
       "      <td>NaN</td>\n",
       "    </tr>\n",
       "    <tr>\n",
       "      <th>2</th>\n",
       "      <td>54834</td>\n",
       "      <td>CA</td>\n",
       "      <td>English</td>\n",
       "      <td>True</td>\n",
       "      <td>Parent</td>\n",
       "      <td>PLU</td>\n",
       "      <td>[\"Sesame Street Numbers\"]</td>\n",
       "      <td>NaN</td>\n",
       "      <td>NaN</td>\n",
       "      <td>NaN</td>\n",
       "    </tr>\n",
       "    <tr>\n",
       "      <th>3</th>\n",
       "      <td>69202</td>\n",
       "      <td>US</td>\n",
       "      <td>English</td>\n",
       "      <td>False</td>\n",
       "      <td>Parent</td>\n",
       "      <td>PLU</td>\n",
       "      <td>[\"Marbotic\"]</td>\n",
       "      <td>[\"Deluxe Learning Kit\"]</td>\n",
       "      <td>[\"Lowercase Letters\",\"Numbers\"]</td>\n",
       "      <td>NaN</td>\n",
       "    </tr>\n",
       "    <tr>\n",
       "      <th>4</th>\n",
       "      <td>67754</td>\n",
       "      <td>CA</td>\n",
       "      <td>English</td>\n",
       "      <td>True</td>\n",
       "      <td>Parent</td>\n",
       "      <td>PLU</td>\n",
       "      <td>[\"Marbotic\"]</td>\n",
       "      <td>[\"Smart Kit\"]</td>\n",
       "      <td>[\"Numbers\",\"Uppercase Letters\"]</td>\n",
       "      <td>NaN</td>\n",
       "    </tr>\n",
       "  </tbody>\n",
       "</table>\n",
       "</div>"
      ],
      "text/plain": [
       "   User id Country Language  News letter      Type Attribution  \\\n",
       "0    59707      MX  English         True    Parent         PLU   \n",
       "1    61748      NZ  English        False  Educator         ELU   \n",
       "2    54834      CA  English         True    Parent         PLU   \n",
       "3    69202      US  English        False    Parent         PLU   \n",
       "4    67754      CA  English         True    Parent         PLU   \n",
       "\n",
       "                                               Games  \\\n",
       "0  [\"10 Fingers\",\"Marbotic Letters\",\"Marbotic Num...   \n",
       "1  [\"Marbotic Letters\",\"Vocabubble\",\"10 Fingers\",...   \n",
       "2                          [\"Sesame Street Numbers\"]   \n",
       "3                                       [\"Marbotic\"]   \n",
       "4                                       [\"Marbotic\"]   \n",
       "\n",
       "                                     Products  \\\n",
       "0  [\"Smart Kit\",\"Smart Numbers\",\"Nordic Kit\"]   \n",
       "1           [\"Smart Letters\",\"Smart Numbers\"]   \n",
       "2                                         NaN   \n",
       "3                     [\"Deluxe Learning Kit\"]   \n",
       "4                               [\"Smart Kit\"]   \n",
       "\n",
       "                                             Pieces Purchases  \n",
       "0  [\"Nordic Letters\",\"Numbers\",\"Uppercase Letters\"]       NaN  \n",
       "1                   [\"Numbers\",\"Uppercase Letters\"]       NaN  \n",
       "2                                               NaN       NaN  \n",
       "3                   [\"Lowercase Letters\",\"Numbers\"]       NaN  \n",
       "4                   [\"Numbers\",\"Uppercase Letters\"]       NaN  "
      ]
     },
     "execution_count": 105,
     "metadata": {},
     "output_type": "execute_result"
    }
   ],
   "source": [
    "data.head()"
   ]
  },
  {
   "cell_type": "code",
   "execution_count": 111,
   "id": "ab691a0c",
   "metadata": {
    "ExecuteTime": {
     "end_time": "2022-06-07T16:39:06.724428Z",
     "start_time": "2022-06-07T16:39:06.714849Z"
    }
   },
   "outputs": [
    {
     "data": {
      "text/plain": [
       "(13679, 10)"
      ]
     },
     "execution_count": 111,
     "metadata": {},
     "output_type": "execute_result"
    }
   ],
   "source": [
    "data.shape"
   ]
  },
  {
   "cell_type": "code",
   "execution_count": 129,
   "id": "c41c8f36",
   "metadata": {
    "ExecuteTime": {
     "end_time": "2022-06-08T08:00:40.192143Z",
     "start_time": "2022-06-08T08:00:40.176790Z"
    }
   },
   "outputs": [
    {
     "data": {
      "text/plain": [
       "12858"
      ]
     },
     "execution_count": 129,
     "metadata": {},
     "output_type": "execute_result"
    }
   ],
   "source": [
    "len(data[\"User id\"].unique())"
   ]
  }
 ],
 "metadata": {
  "kernelspec": {
   "display_name": "Python 3 (ipykernel)",
   "language": "python",
   "name": "python3"
  },
  "language_info": {
   "codemirror_mode": {
    "name": "ipython",
    "version": 3
   },
   "file_extension": ".py",
   "mimetype": "text/x-python",
   "name": "python",
   "nbconvert_exporter": "python",
   "pygments_lexer": "ipython3",
   "version": "3.8.13"
  },
  "toc": {
   "base_numbering": 1,
   "nav_menu": {},
   "number_sections": true,
   "sideBar": true,
   "skip_h1_title": false,
   "title_cell": "Table of Contents",
   "title_sidebar": "Contents",
   "toc_cell": false,
   "toc_position": {},
   "toc_section_display": true,
   "toc_window_display": false
  }
 },
 "nbformat": 4,
 "nbformat_minor": 5
}
