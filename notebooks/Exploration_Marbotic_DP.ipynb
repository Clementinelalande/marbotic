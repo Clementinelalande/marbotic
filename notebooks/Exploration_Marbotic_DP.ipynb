{
 "cells": [
  {
   "cell_type": "code",
   "execution_count": 270,
   "id": "85a0aa94",
   "metadata": {
    "ExecuteTime": {
     "end_time": "2022-06-09T17:01:45.183214Z",
     "start_time": "2022-06-09T17:01:41.809431Z"
    }
   },
   "outputs": [],
   "source": [
    "import pandas as pd\n",
    "from google.cloud import bigquery\n",
    "from google.oauth2 import service_account\n",
    "import numpy as np\n",
    "import math\n",
    "import datetime\n",
    "import matplotlib.pyplot as plt\n",
    "import seaborn as sns"
   ]
  },
  {
   "cell_type": "markdown",
   "id": "da81584f",
   "metadata": {
    "heading_collapsed": true
   },
   "source": [
    "# Exploration raw data"
   ]
  },
  {
   "cell_type": "code",
   "execution_count": 2,
   "id": "5899d835",
   "metadata": {
    "ExecuteTime": {
     "end_time": "2022-06-07T08:17:26.332587Z",
     "start_time": "2022-06-07T08:09:47.079133Z"
    },
    "hidden": true
   },
   "outputs": [],
   "source": [
    "df=pd.read_json(\"/Users/David/code/Clementinelalande/marbotic/raw_data/export_23-5_minified.json\")"
   ]
  },
  {
   "cell_type": "code",
   "execution_count": 79,
   "id": "289583c9",
   "metadata": {
    "ExecuteTime": {
     "end_time": "2022-06-07T14:32:34.896484Z",
     "start_time": "2022-06-07T14:32:34.880598Z"
    },
    "hidden": true
   },
   "outputs": [
    {
     "data": {
      "text/plain": [
       "(1320229, 16)"
      ]
     },
     "execution_count": 79,
     "metadata": {},
     "output_type": "execute_result"
    }
   ],
   "source": [
    "df.shape"
   ]
  },
  {
   "cell_type": "code",
   "execution_count": 80,
   "id": "2d8426c3",
   "metadata": {
    "ExecuteTime": {
     "end_time": "2022-06-07T14:32:35.116565Z",
     "start_time": "2022-06-07T14:32:35.102913Z"
    },
    "hidden": true
   },
   "outputs": [
    {
     "data": {
      "text/plain": [
       "Index(['city', 'client_event_time', 'country', 'device_model', 'event_id',\n",
       "       'event_type', 'is_attribution_event', 'language', 'os_version',\n",
       "       'region', 'session_id', 'start_version', 'user_creation_time',\n",
       "       'user_id', 'user_properties', 'event_properties'],\n",
       "      dtype='object')"
      ]
     },
     "execution_count": 80,
     "metadata": {},
     "output_type": "execute_result"
    }
   ],
   "source": [
    "df.columns"
   ]
  },
  {
   "cell_type": "code",
   "execution_count": 81,
   "id": "b59cc604",
   "metadata": {
    "ExecuteTime": {
     "end_time": "2022-06-07T14:33:15.775963Z",
     "start_time": "2022-06-07T14:32:35.280773Z"
    },
    "hidden": true
   },
   "outputs": [
    {
     "data": {
      "text/plain": [
       "array(['[Activity] Good Answer', '[Activity] Wrong Answer',\n",
       "       '[Activity] Stop', '[Activity] Start', '[Action] Click',\n",
       "       '[Scene] Leave', '[Scene] Enter', '[Game] Pause',\n",
       "       '[Scaffolding] Scaffolding', '[Game] Start', '[Error] Error',\n",
       "       '[Game] Stop', '[OB] CommPreview', '[OB] DoYouHaveKit',\n",
       "       '[OB] HasKitYes', '[OB] Email', '[OB] VerifCode',\n",
       "       '[Activation] Game', '[OB] HasKitNo', '[OB] DiscoverTrial',\n",
       "       '[OB] ClickTrial', '[Account] Sign In', '[Profile] Create',\n",
       "       '[Profile] Update', '[OB] ProductSelection', '[OB] ProductHelp',\n",
       "       '[OB] Type', '[Account] Sign Up', '[OB] ProfileName',\n",
       "       '[OB] ProfileBirthdate', '[Activation] New Activation',\n",
       "       '[Activation] Product', '[Activation] Piece', '[OB] Success',\n",
       "       '[OB] ProductActivation', '[Scaffolding] Reset', '[OB] TrialStart',\n",
       "       '[Account] Update Request', '[Profile] Delete', '[Popup] Open',\n",
       "       '[Popup] Close', '[Account] Update Success', '[Account] Sign Out',\n",
       "       '[Profile] Reset Settings and Progression', '[OB] ClickStore',\n",
       "       '[OB] RenewalSelection', '[OB] ProductSeeMore',\n",
       "       '[OB] ProductOther', '[OB] KeyRedeem', '[OB] RenewalFail',\n",
       "       '[OB] ProductSK', '[OB] HasKeyNo', '[OB] KeyFail',\n",
       "       '[OB] RenewalSuccess', '[OB] KeySuccess', '[Toast] Appear',\n",
       "       '[Toast] Disappear', '[Action] ConversionClickSubscribe',\n",
       "       '[Action] ConversionClickRedeem'], dtype=object)"
      ]
     },
     "execution_count": 81,
     "metadata": {},
     "output_type": "execute_result"
    }
   ],
   "source": [
    "df.event_type.unique()"
   ]
  },
  {
   "cell_type": "code",
   "execution_count": 82,
   "id": "315e90ea",
   "metadata": {
    "ExecuteTime": {
     "end_time": "2022-06-07T14:33:16.249811Z",
     "start_time": "2022-06-07T14:33:15.789063Z"
    },
    "hidden": true
   },
   "outputs": [
    {
     "data": {
      "text/html": [
       "<div>\n",
       "<style scoped>\n",
       "    .dataframe tbody tr th:only-of-type {\n",
       "        vertical-align: middle;\n",
       "    }\n",
       "\n",
       "    .dataframe tbody tr th {\n",
       "        vertical-align: top;\n",
       "    }\n",
       "\n",
       "    .dataframe thead th {\n",
       "        text-align: right;\n",
       "    }\n",
       "</style>\n",
       "<table border=\"1\" class=\"dataframe\">\n",
       "  <thead>\n",
       "    <tr style=\"text-align: right;\">\n",
       "      <th></th>\n",
       "      <th>city</th>\n",
       "      <th>client_event_time</th>\n",
       "      <th>country</th>\n",
       "      <th>device_model</th>\n",
       "      <th>event_id</th>\n",
       "      <th>event_type</th>\n",
       "      <th>is_attribution_event</th>\n",
       "      <th>language</th>\n",
       "      <th>os_version</th>\n",
       "      <th>region</th>\n",
       "      <th>session_id</th>\n",
       "      <th>start_version</th>\n",
       "      <th>user_creation_time</th>\n",
       "      <th>user_id</th>\n",
       "      <th>user_properties</th>\n",
       "      <th>event_properties</th>\n",
       "    </tr>\n",
       "  </thead>\n",
       "  <tbody>\n",
       "    <tr>\n",
       "      <th>0</th>\n",
       "      <td>Dallas</td>\n",
       "      <td>2022-03-01 00:57:25.903</td>\n",
       "      <td>United States</td>\n",
       "      <td>iPad13,4</td>\n",
       "      <td>1110</td>\n",
       "      <td>[Activity] Good Answer</td>\n",
       "      <td>False</td>\n",
       "      <td>English</td>\n",
       "      <td>15.3</td>\n",
       "      <td>Texas</td>\n",
       "      <td>1646095346396</td>\n",
       "      <td>1.0.7</td>\n",
       "      <td>2021-12-28 01:29:38.094</td>\n",
       "      <td>67531</td>\n",
       "      <td>{'Newsletter': 'False', 'Products': ['Smart Le...</td>\n",
       "      <td>{'[Activity] Name': 'LinePanties', '[Activity]...</td>\n",
       "    </tr>\n",
       "    <tr>\n",
       "      <th>1</th>\n",
       "      <td>Dallas</td>\n",
       "      <td>2022-03-01 00:57:41.878</td>\n",
       "      <td>United States</td>\n",
       "      <td>iPad13,4</td>\n",
       "      <td>1111</td>\n",
       "      <td>[Activity] Wrong Answer</td>\n",
       "      <td>False</td>\n",
       "      <td>English</td>\n",
       "      <td>15.3</td>\n",
       "      <td>Texas</td>\n",
       "      <td>1646095346396</td>\n",
       "      <td>1.0.7</td>\n",
       "      <td>2021-12-28 01:29:38.094</td>\n",
       "      <td>67531</td>\n",
       "      <td>{'Newsletter': 'False', 'Products': ['Smart Le...</td>\n",
       "      <td>{'[Activity] Name': 'LinePanties', '[Activity]...</td>\n",
       "    </tr>\n",
       "    <tr>\n",
       "      <th>2</th>\n",
       "      <td>Toronto</td>\n",
       "      <td>2022-03-01 00:57:28.175</td>\n",
       "      <td>Canada</td>\n",
       "      <td>iPad12,1</td>\n",
       "      <td>1430</td>\n",
       "      <td>[Activity] Stop</td>\n",
       "      <td>False</td>\n",
       "      <td>English</td>\n",
       "      <td>15.2</td>\n",
       "      <td>Ontario</td>\n",
       "      <td>1646096085235</td>\n",
       "      <td>1.3.1</td>\n",
       "      <td>2021-07-19 20:24:36.326</td>\n",
       "      <td>60882</td>\n",
       "      <td>{'Newsletter': 'True', 'Products': ['Smart Let...</td>\n",
       "      <td>{'[Activity] Name': '1.2', '[Game] Code': 'Mar...</td>\n",
       "    </tr>\n",
       "    <tr>\n",
       "      <th>3</th>\n",
       "      <td>Toronto</td>\n",
       "      <td>2022-03-01 00:57:28.177</td>\n",
       "      <td>Canada</td>\n",
       "      <td>iPad12,1</td>\n",
       "      <td>1431</td>\n",
       "      <td>[Activity] Start</td>\n",
       "      <td>False</td>\n",
       "      <td>English</td>\n",
       "      <td>15.2</td>\n",
       "      <td>Ontario</td>\n",
       "      <td>1646096085235</td>\n",
       "      <td>1.3.1</td>\n",
       "      <td>2021-07-19 20:24:36.326</td>\n",
       "      <td>60882</td>\n",
       "      <td>{'Newsletter': 'True', 'Products': ['Smart Let...</td>\n",
       "      <td>{'[Activity] Name': '1.3', '[Game] Code': 'Mar...</td>\n",
       "    </tr>\n",
       "    <tr>\n",
       "      <th>4</th>\n",
       "      <td>Toronto</td>\n",
       "      <td>2022-03-01 00:57:38.278</td>\n",
       "      <td>Canada</td>\n",
       "      <td>iPad12,1</td>\n",
       "      <td>1432</td>\n",
       "      <td>[Activity] Stop</td>\n",
       "      <td>False</td>\n",
       "      <td>English</td>\n",
       "      <td>15.2</td>\n",
       "      <td>Ontario</td>\n",
       "      <td>1646096085235</td>\n",
       "      <td>1.3.1</td>\n",
       "      <td>2021-07-19 20:24:36.326</td>\n",
       "      <td>60882</td>\n",
       "      <td>{'Newsletter': 'True', 'Products': ['Smart Let...</td>\n",
       "      <td>{'[Activity] Name': '1.3', '[Game] Code': 'Mar...</td>\n",
       "    </tr>\n",
       "  </tbody>\n",
       "</table>\n",
       "</div>"
      ],
      "text/plain": [
       "      city       client_event_time        country device_model  event_id  \\\n",
       "0   Dallas 2022-03-01 00:57:25.903  United States     iPad13,4      1110   \n",
       "1   Dallas 2022-03-01 00:57:41.878  United States     iPad13,4      1111   \n",
       "2  Toronto 2022-03-01 00:57:28.175         Canada     iPad12,1      1430   \n",
       "3  Toronto 2022-03-01 00:57:28.177         Canada     iPad12,1      1431   \n",
       "4  Toronto 2022-03-01 00:57:38.278         Canada     iPad12,1      1432   \n",
       "\n",
       "                event_type  is_attribution_event language os_version   region  \\\n",
       "0   [Activity] Good Answer                 False  English       15.3    Texas   \n",
       "1  [Activity] Wrong Answer                 False  English       15.3    Texas   \n",
       "2          [Activity] Stop                 False  English       15.2  Ontario   \n",
       "3         [Activity] Start                 False  English       15.2  Ontario   \n",
       "4          [Activity] Stop                 False  English       15.2  Ontario   \n",
       "\n",
       "      session_id start_version      user_creation_time user_id  \\\n",
       "0  1646095346396         1.0.7 2021-12-28 01:29:38.094   67531   \n",
       "1  1646095346396         1.0.7 2021-12-28 01:29:38.094   67531   \n",
       "2  1646096085235         1.3.1 2021-07-19 20:24:36.326   60882   \n",
       "3  1646096085235         1.3.1 2021-07-19 20:24:36.326   60882   \n",
       "4  1646096085235         1.3.1 2021-07-19 20:24:36.326   60882   \n",
       "\n",
       "                                     user_properties  \\\n",
       "0  {'Newsletter': 'False', 'Products': ['Smart Le...   \n",
       "1  {'Newsletter': 'False', 'Products': ['Smart Le...   \n",
       "2  {'Newsletter': 'True', 'Products': ['Smart Let...   \n",
       "3  {'Newsletter': 'True', 'Products': ['Smart Let...   \n",
       "4  {'Newsletter': 'True', 'Products': ['Smart Let...   \n",
       "\n",
       "                                    event_properties  \n",
       "0  {'[Activity] Name': 'LinePanties', '[Activity]...  \n",
       "1  {'[Activity] Name': 'LinePanties', '[Activity]...  \n",
       "2  {'[Activity] Name': '1.2', '[Game] Code': 'Mar...  \n",
       "3  {'[Activity] Name': '1.3', '[Game] Code': 'Mar...  \n",
       "4  {'[Activity] Name': '1.3', '[Game] Code': 'Mar...  "
      ]
     },
     "execution_count": 82,
     "metadata": {},
     "output_type": "execute_result"
    }
   ],
   "source": [
    "df.head()"
   ]
  },
  {
   "cell_type": "code",
   "execution_count": 109,
   "id": "2825bae6",
   "metadata": {
    "ExecuteTime": {
     "end_time": "2022-06-07T16:29:22.281688Z",
     "start_time": "2022-06-07T16:29:22.270391Z"
    },
    "hidden": true
   },
   "outputs": [
    {
     "data": {
      "text/plain": [
       "{'[Activity] Name': '1.3',\n",
       " '[Game] Code': 'Marbotic',\n",
       " '[Time] Spent': 10,\n",
       " '[Scene] Name': 'Counting_Home',\n",
       " '[Profile] Age (days)': 2423,\n",
       " '[Game] Language': 'en_US',\n",
       " '[Activity] Solved': False,\n",
       " '[Scaffolding] Level': 11,\n",
       " '[Scene] Section': 'UP100'}"
      ]
     },
     "execution_count": 109,
     "metadata": {},
     "output_type": "execute_result"
    }
   ],
   "source": [
    "df.event_properties[4]"
   ]
  },
  {
   "cell_type": "code",
   "execution_count": 130,
   "id": "3f382853",
   "metadata": {
    "ExecuteTime": {
     "end_time": "2022-06-08T08:36:29.655495Z",
     "start_time": "2022-06-08T08:36:29.612509Z"
    },
    "hidden": true
   },
   "outputs": [
    {
     "data": {
      "text/plain": [
       "{'Newsletter': 'True',\n",
       " 'Products': ['Smart Letters', 'Smart Numbers'],\n",
       " 'Pieces': ['Uppercase Letters', 'Numbers'],\n",
       " 'Language': 'English',\n",
       " 'Type': 'Parent',\n",
       " 'Country': 'CA',\n",
       " 'Games': ['Marbotic Numbers',\n",
       "  'Marbotic Letters',\n",
       "  'Alphamonster',\n",
       "  'Vocabubble',\n",
       "  'Bla Bla Box',\n",
       "  'Lil Reader',\n",
       "  'Up To 100',\n",
       "  '10 Fingers',\n",
       "  'More Or Less',\n",
       "  'Marbotic']}"
      ]
     },
     "execution_count": 130,
     "metadata": {},
     "output_type": "execute_result"
    }
   ],
   "source": [
    "df.user_properties[4]"
   ]
  },
  {
   "cell_type": "code",
   "execution_count": 83,
   "id": "ff088646",
   "metadata": {
    "ExecuteTime": {
     "end_time": "2022-06-07T14:33:51.208331Z",
     "start_time": "2022-06-07T14:33:16.264571Z"
    },
    "hidden": true
   },
   "outputs": [],
   "source": [
    "user_properties_df=df.copy()"
   ]
  },
  {
   "cell_type": "code",
   "execution_count": 84,
   "id": "053b23ce",
   "metadata": {
    "ExecuteTime": {
     "end_time": "2022-06-07T14:33:51.479033Z",
     "start_time": "2022-06-07T14:33:51.239973Z"
    },
    "hidden": true
   },
   "outputs": [],
   "source": [
    "user_properties=user_properties_df[[\"user_id\",\"user_properties\"]]"
   ]
  },
  {
   "cell_type": "markdown",
   "id": "73340439",
   "metadata": {},
   "source": [
    "# Import Dataframe with a query"
   ]
  },
  {
   "cell_type": "markdown",
   "id": "a10be350",
   "metadata": {
    "heading_collapsed": true
   },
   "source": [
    "## Connexion à Google Query"
   ]
  },
  {
   "cell_type": "code",
   "execution_count": 85,
   "id": "f2d9b9a1",
   "metadata": {
    "ExecuteTime": {
     "end_time": "2022-06-07T14:34:03.173676Z",
     "start_time": "2022-06-07T14:33:51.483540Z"
    },
    "hidden": true
   },
   "outputs": [
    {
     "name": "stdout",
     "output_type": "stream",
     "text": [
      "Your browser has been opened to visit:\n",
      "\n",
      "    https://accounts.google.com/o/oauth2/auth?response_type=code&client_id=32555940559.apps.googleusercontent.com&redirect_uri=http%3A%2F%2Flocalhost%3A8085%2F&scope=openid+https%3A%2F%2Fwww.googleapis.com%2Fauth%2Fuserinfo.email+https%3A%2F%2Fwww.googleapis.com%2Fauth%2Fcloud-platform+https%3A%2F%2Fwww.googleapis.com%2Fauth%2Fappengine.admin+https%3A%2F%2Fwww.googleapis.com%2Fauth%2Fsqlservice.login+https%3A%2F%2Fwww.googleapis.com%2Fauth%2Fcompute+https%3A%2F%2Fwww.googleapis.com%2Fauth%2Faccounts.reauth&state=PoQsXFrUUsLui0bniQSz9njix6vkmV&access_type=offline&code_challenge=S3iaAqXEe7U5N46YKdeJCKShEw-o-S2tI7TMNTfuXWM&code_challenge_method=S256\n",
      "\n",
      "\n",
      "You are now logged in as [david.periers@gmail.com].\n",
      "Your current project is [marbotic].  You can change this setting by running:\n",
      "  $ gcloud config set project PROJECT_ID\n"
     ]
    }
   ],
   "source": [
    "!gcloud auth login"
   ]
  },
  {
   "cell_type": "code",
   "execution_count": 86,
   "id": "d972c4ee",
   "metadata": {
    "ExecuteTime": {
     "end_time": "2022-06-07T14:34:08.979583Z",
     "start_time": "2022-06-07T14:34:03.178461Z"
    },
    "hidden": true
   },
   "outputs": [
    {
     "name": "stdout",
     "output_type": "stream",
     "text": [
      "PROJECT_ID              NAME              PROJECT_NUMBER\r\n",
      "marbotic                Marbotic          566474310042\r\n",
      "symmetric-curve-346916  My First Project  175516577791\r\n",
      "wagon-bootcamp-346916   Wagon bootcamp    697736453840\r\n"
     ]
    }
   ],
   "source": [
    "!gcloud projects list"
   ]
  },
  {
   "cell_type": "code",
   "execution_count": 87,
   "id": "3123aab6",
   "metadata": {
    "ExecuteTime": {
     "end_time": "2022-06-07T14:34:11.506664Z",
     "start_time": "2022-06-07T14:34:08.983862Z"
    },
    "hidden": true
   },
   "outputs": [
    {
     "name": "stdout",
     "output_type": "stream",
     "text": [
      "Updated property [core/project].\r\n"
     ]
    }
   ],
   "source": [
    "!gcloud config set project marbotic"
   ]
  },
  {
   "cell_type": "code",
   "execution_count": 88,
   "id": "f0c4bbff",
   "metadata": {
    "ExecuteTime": {
     "end_time": "2022-06-07T14:34:14.232982Z",
     "start_time": "2022-06-07T14:34:11.509863Z"
    },
    "hidden": true
   },
   "outputs": [
    {
     "name": "stdout",
     "output_type": "stream",
     "text": [
      "/usr/local/Caskroom/google-cloud-sdk/latest/google-cloud-sdk/platform/bq/bq.py:41: DeprecationWarning: the imp module is deprecated in favour of importlib; see the module's documentation for alternative uses\n",
      "  import imp\n",
      "     datasetId      \n",
      " ------------------ \n",
      "  marbotic_dataset  \n"
     ]
    }
   ],
   "source": [
    "!bq ls"
   ]
  },
  {
   "cell_type": "code",
   "execution_count": 89,
   "id": "c11b5132",
   "metadata": {
    "ExecuteTime": {
     "end_time": "2022-06-07T14:34:14.408530Z",
     "start_time": "2022-06-07T14:34:14.237994Z"
    },
    "hidden": true
   },
   "outputs": [
    {
     "name": "stdout",
     "output_type": "stream",
     "text": [
      "cat: credentials: No such file or directory\r\n"
     ]
    }
   ],
   "source": [
    "!cat credentials"
   ]
  },
  {
   "cell_type": "markdown",
   "id": "63decb6a",
   "metadata": {},
   "source": [
    "## Fonction extract with a query"
   ]
  },
  {
   "cell_type": "code",
   "execution_count": 14,
   "id": "2deeb53e",
   "metadata": {
    "ExecuteTime": {
     "end_time": "2022-06-09T09:13:04.296310Z",
     "start_time": "2022-06-09T09:13:04.289835Z"
    }
   },
   "outputs": [],
   "source": [
    "from google.oauth2 import service_account\n",
    "\n",
    "def extract():\n",
    "    # Construct a BigQuery client object.\n",
    "\n",
    "    key_path = \"/Users/David/code/dperiers/GITHUB_NICKNAME/gcp/marbotic-587600c2c13f.json\"\n",
    "\n",
    "    credentials = service_account.Credentials.from_service_account_file(\n",
    "    key_path, scopes=[\"https://www.googleapis.com/auth/cloud-platform\"],)\n",
    "    \n",
    "    client = bigquery.Client(project=\"marbotic\", credentials=credentials)\n",
    "\n",
    "    query = \"\"\"\n",
    "        SELECT *\n",
    "        FROM `marbotic.marbotic_dataset.events`\n",
    "      \n",
    "    \"\"\"\n",
    "\n",
    "    query_job = client.query(query)  # Make an API request.\n",
    "    results=query_job.result().to_dataframe() # Waits for job to complete.\n",
    "\n",
    "    return pd.DataFrame(results)"
   ]
  },
  {
   "cell_type": "code",
   "execution_count": 213,
   "id": "2fedb4aa",
   "metadata": {
    "ExecuteTime": {
     "end_time": "2022-06-09T16:28:58.471994Z",
     "start_time": "2022-06-09T16:25:00.263221Z"
    }
   },
   "outputs": [
    {
     "data": {
      "text/html": [
       "<div>\n",
       "<style scoped>\n",
       "    .dataframe tbody tr th:only-of-type {\n",
       "        vertical-align: middle;\n",
       "    }\n",
       "\n",
       "    .dataframe tbody tr th {\n",
       "        vertical-align: top;\n",
       "    }\n",
       "\n",
       "    .dataframe thead th {\n",
       "        text-align: right;\n",
       "    }\n",
       "</style>\n",
       "<table border=\"1\" class=\"dataframe\">\n",
       "  <thead>\n",
       "    <tr style=\"text-align: right;\">\n",
       "      <th></th>\n",
       "      <th>city</th>\n",
       "      <th>client_event_time</th>\n",
       "      <th>country</th>\n",
       "      <th>device_model</th>\n",
       "      <th>event_id</th>\n",
       "      <th>event_type</th>\n",
       "      <th>is_attribution_event</th>\n",
       "      <th>language</th>\n",
       "      <th>os_version</th>\n",
       "      <th>region</th>\n",
       "      <th>session_id</th>\n",
       "      <th>start_version</th>\n",
       "      <th>user_creation_time</th>\n",
       "      <th>user_id</th>\n",
       "      <th>id</th>\n",
       "    </tr>\n",
       "  </thead>\n",
       "  <tbody>\n",
       "    <tr>\n",
       "      <th>0</th>\n",
       "      <td>None</td>\n",
       "      <td>2022-05-12 21:28:00.367000+00:00</td>\n",
       "      <td>United States</td>\n",
       "      <td>iPad8,11</td>\n",
       "      <td>3135</td>\n",
       "      <td>[Toast] Appear</td>\n",
       "      <td>False</td>\n",
       "      <td>English</td>\n",
       "      <td>15.4.1</td>\n",
       "      <td>Wisconsin</td>\n",
       "      <td>1652390875674</td>\n",
       "      <td>1.0.9</td>\n",
       "      <td>2022-03-09 23:24:23.096000+00:00</td>\n",
       "      <td>71150</td>\n",
       "      <td>1307980</td>\n",
       "    </tr>\n",
       "    <tr>\n",
       "      <th>1</th>\n",
       "      <td>None</td>\n",
       "      <td>2022-05-12 21:28:05.614000+00:00</td>\n",
       "      <td>United States</td>\n",
       "      <td>iPad8,11</td>\n",
       "      <td>3138</td>\n",
       "      <td>[Toast] Disappear</td>\n",
       "      <td>False</td>\n",
       "      <td>English</td>\n",
       "      <td>15.4.1</td>\n",
       "      <td>Wisconsin</td>\n",
       "      <td>1652390875674</td>\n",
       "      <td>1.0.9</td>\n",
       "      <td>2022-03-09 23:24:23.096000+00:00</td>\n",
       "      <td>71150</td>\n",
       "      <td>1307983</td>\n",
       "    </tr>\n",
       "    <tr>\n",
       "      <th>2</th>\n",
       "      <td>None</td>\n",
       "      <td>2022-05-12 09:13:47.702000+00:00</td>\n",
       "      <td>Germany</td>\n",
       "      <td>iPad Pro</td>\n",
       "      <td>2480</td>\n",
       "      <td>[OB] ProfileName</td>\n",
       "      <td>False</td>\n",
       "      <td>German</td>\n",
       "      <td>15.4.1</td>\n",
       "      <td>Baden-Württemberg</td>\n",
       "      <td>1652346694954</td>\n",
       "      <td>1.0.1</td>\n",
       "      <td>2021-01-19 12:01:58.046000+00:00</td>\n",
       "      <td>52773</td>\n",
       "      <td>1312163</td>\n",
       "    </tr>\n",
       "    <tr>\n",
       "      <th>3</th>\n",
       "      <td>Zug</td>\n",
       "      <td>2022-05-13 06:39:47.474000+00:00</td>\n",
       "      <td>Switzerland</td>\n",
       "      <td>iPad11,6</td>\n",
       "      <td>3</td>\n",
       "      <td>[Activation] Game</td>\n",
       "      <td>False</td>\n",
       "      <td>English</td>\n",
       "      <td>15.4.1</td>\n",
       "      <td>Zug</td>\n",
       "      <td>1652423984674</td>\n",
       "      <td>4.2.2</td>\n",
       "      <td>2021-11-09 10:31:37.463000+00:00</td>\n",
       "      <td>0</td>\n",
       "      <td>1317850</td>\n",
       "    </tr>\n",
       "    <tr>\n",
       "      <th>4</th>\n",
       "      <td>Urzy</td>\n",
       "      <td>2022-05-12 06:29:04.245000+00:00</td>\n",
       "      <td>France</td>\n",
       "      <td>iPad 6</td>\n",
       "      <td>1472</td>\n",
       "      <td>[Toast] Appear</td>\n",
       "      <td>False</td>\n",
       "      <td>French</td>\n",
       "      <td>15.3.1</td>\n",
       "      <td>Nièvre</td>\n",
       "      <td>1652336940411</td>\n",
       "      <td>1.0.9</td>\n",
       "      <td>2022-03-07 09:55:01.003000+00:00</td>\n",
       "      <td>70756</td>\n",
       "      <td>1310560</td>\n",
       "    </tr>\n",
       "    <tr>\n",
       "      <th>...</th>\n",
       "      <td>...</td>\n",
       "      <td>...</td>\n",
       "      <td>...</td>\n",
       "      <td>...</td>\n",
       "      <td>...</td>\n",
       "      <td>...</td>\n",
       "      <td>...</td>\n",
       "      <td>...</td>\n",
       "      <td>...</td>\n",
       "      <td>...</td>\n",
       "      <td>...</td>\n",
       "      <td>...</td>\n",
       "      <td>...</td>\n",
       "      <td>...</td>\n",
       "      <td>...</td>\n",
       "    </tr>\n",
       "    <tr>\n",
       "      <th>1320224</th>\n",
       "      <td>Clamecy</td>\n",
       "      <td>2022-03-29 12:58:32.689000+00:00</td>\n",
       "      <td>France</td>\n",
       "      <td>iPad 6</td>\n",
       "      <td>288</td>\n",
       "      <td>[Scaffolding] Scaffolding</td>\n",
       "      <td>False</td>\n",
       "      <td>French</td>\n",
       "      <td>15.3.1</td>\n",
       "      <td>Nièvre</td>\n",
       "      <td>1648557461195</td>\n",
       "      <td>1.0.9</td>\n",
       "      <td>2022-03-07 09:55:01.003000+00:00</td>\n",
       "      <td>70756</td>\n",
       "      <td>572933</td>\n",
       "    </tr>\n",
       "    <tr>\n",
       "      <th>1320225</th>\n",
       "      <td>Clamecy</td>\n",
       "      <td>2022-03-29 13:00:37.189000+00:00</td>\n",
       "      <td>France</td>\n",
       "      <td>iPad 6</td>\n",
       "      <td>178</td>\n",
       "      <td>[Scaffolding] Scaffolding</td>\n",
       "      <td>False</td>\n",
       "      <td>French</td>\n",
       "      <td>15.3.1</td>\n",
       "      <td>Nièvre</td>\n",
       "      <td>1648557296542</td>\n",
       "      <td>1.0.9</td>\n",
       "      <td>2022-03-07 09:55:01.003000+00:00</td>\n",
       "      <td>70756</td>\n",
       "      <td>572946</td>\n",
       "    </tr>\n",
       "    <tr>\n",
       "      <th>1320226</th>\n",
       "      <td>Clamecy</td>\n",
       "      <td>2022-03-29 13:06:35.939000+00:00</td>\n",
       "      <td>France</td>\n",
       "      <td>iPad 6</td>\n",
       "      <td>213</td>\n",
       "      <td>[Scaffolding] Scaffolding</td>\n",
       "      <td>False</td>\n",
       "      <td>French</td>\n",
       "      <td>15.3.1</td>\n",
       "      <td>Nièvre</td>\n",
       "      <td>1648557296542</td>\n",
       "      <td>1.0.9</td>\n",
       "      <td>2022-03-07 09:55:01.003000+00:00</td>\n",
       "      <td>70756</td>\n",
       "      <td>573080</td>\n",
       "    </tr>\n",
       "    <tr>\n",
       "      <th>1320227</th>\n",
       "      <td>Clamecy</td>\n",
       "      <td>2022-03-29 13:04:33.402000+00:00</td>\n",
       "      <td>France</td>\n",
       "      <td>iPad 6</td>\n",
       "      <td>202</td>\n",
       "      <td>[Scaffolding] Scaffolding</td>\n",
       "      <td>False</td>\n",
       "      <td>French</td>\n",
       "      <td>15.3.1</td>\n",
       "      <td>Nièvre</td>\n",
       "      <td>1648557296542</td>\n",
       "      <td>1.0.9</td>\n",
       "      <td>2022-03-07 09:55:01.003000+00:00</td>\n",
       "      <td>70756</td>\n",
       "      <td>573170</td>\n",
       "    </tr>\n",
       "    <tr>\n",
       "      <th>1320228</th>\n",
       "      <td>Clamecy</td>\n",
       "      <td>2022-03-29 13:03:10.203000+00:00</td>\n",
       "      <td>France</td>\n",
       "      <td>iPad 6</td>\n",
       "      <td>190</td>\n",
       "      <td>[Scaffolding] Scaffolding</td>\n",
       "      <td>False</td>\n",
       "      <td>French</td>\n",
       "      <td>15.3.1</td>\n",
       "      <td>Nièvre</td>\n",
       "      <td>1648557296542</td>\n",
       "      <td>1.0.9</td>\n",
       "      <td>2022-03-07 09:55:01.003000+00:00</td>\n",
       "      <td>70756</td>\n",
       "      <td>573222</td>\n",
       "    </tr>\n",
       "  </tbody>\n",
       "</table>\n",
       "<p>1320229 rows × 15 columns</p>\n",
       "</div>"
      ],
      "text/plain": [
       "            city                client_event_time        country device_model  \\\n",
       "0           None 2022-05-12 21:28:00.367000+00:00  United States     iPad8,11   \n",
       "1           None 2022-05-12 21:28:05.614000+00:00  United States     iPad8,11   \n",
       "2           None 2022-05-12 09:13:47.702000+00:00        Germany     iPad Pro   \n",
       "3            Zug 2022-05-13 06:39:47.474000+00:00    Switzerland     iPad11,6   \n",
       "4           Urzy 2022-05-12 06:29:04.245000+00:00         France       iPad 6   \n",
       "...          ...                              ...            ...          ...   \n",
       "1320224  Clamecy 2022-03-29 12:58:32.689000+00:00         France       iPad 6   \n",
       "1320225  Clamecy 2022-03-29 13:00:37.189000+00:00         France       iPad 6   \n",
       "1320226  Clamecy 2022-03-29 13:06:35.939000+00:00         France       iPad 6   \n",
       "1320227  Clamecy 2022-03-29 13:04:33.402000+00:00         France       iPad 6   \n",
       "1320228  Clamecy 2022-03-29 13:03:10.203000+00:00         France       iPad 6   \n",
       "\n",
       "         event_id                 event_type  is_attribution_event language  \\\n",
       "0            3135             [Toast] Appear                 False  English   \n",
       "1            3138          [Toast] Disappear                 False  English   \n",
       "2            2480           [OB] ProfileName                 False   German   \n",
       "3               3          [Activation] Game                 False  English   \n",
       "4            1472             [Toast] Appear                 False   French   \n",
       "...           ...                        ...                   ...      ...   \n",
       "1320224       288  [Scaffolding] Scaffolding                 False   French   \n",
       "1320225       178  [Scaffolding] Scaffolding                 False   French   \n",
       "1320226       213  [Scaffolding] Scaffolding                 False   French   \n",
       "1320227       202  [Scaffolding] Scaffolding                 False   French   \n",
       "1320228       190  [Scaffolding] Scaffolding                 False   French   \n",
       "\n",
       "        os_version             region     session_id start_version  \\\n",
       "0           15.4.1          Wisconsin  1652390875674         1.0.9   \n",
       "1           15.4.1          Wisconsin  1652390875674         1.0.9   \n",
       "2           15.4.1  Baden-Württemberg  1652346694954         1.0.1   \n",
       "3           15.4.1                Zug  1652423984674         4.2.2   \n",
       "4           15.3.1             Nièvre  1652336940411         1.0.9   \n",
       "...            ...                ...            ...           ...   \n",
       "1320224     15.3.1             Nièvre  1648557461195         1.0.9   \n",
       "1320225     15.3.1             Nièvre  1648557296542         1.0.9   \n",
       "1320226     15.3.1             Nièvre  1648557296542         1.0.9   \n",
       "1320227     15.3.1             Nièvre  1648557296542         1.0.9   \n",
       "1320228     15.3.1             Nièvre  1648557296542         1.0.9   \n",
       "\n",
       "                      user_creation_time  user_id       id  \n",
       "0       2022-03-09 23:24:23.096000+00:00    71150  1307980  \n",
       "1       2022-03-09 23:24:23.096000+00:00    71150  1307983  \n",
       "2       2021-01-19 12:01:58.046000+00:00    52773  1312163  \n",
       "3       2021-11-09 10:31:37.463000+00:00        0  1317850  \n",
       "4       2022-03-07 09:55:01.003000+00:00    70756  1310560  \n",
       "...                                  ...      ...      ...  \n",
       "1320224 2022-03-07 09:55:01.003000+00:00    70756   572933  \n",
       "1320225 2022-03-07 09:55:01.003000+00:00    70756   572946  \n",
       "1320226 2022-03-07 09:55:01.003000+00:00    70756   573080  \n",
       "1320227 2022-03-07 09:55:01.003000+00:00    70756   573170  \n",
       "1320228 2022-03-07 09:55:01.003000+00:00    70756   573222  \n",
       "\n",
       "[1320229 rows x 15 columns]"
      ]
     },
     "execution_count": 213,
     "metadata": {},
     "output_type": "execute_result"
    }
   ],
   "source": [
    "extract()"
   ]
  },
  {
   "cell_type": "markdown",
   "id": "87009b53",
   "metadata": {
    "ExecuteTime": {
     "end_time": "2022-06-08T10:20:55.445892Z",
     "start_time": "2022-06-08T10:20:55.441045Z"
    }
   },
   "source": [
    "# Exploration Marbotic User ID file"
   ]
  },
  {
   "cell_type": "code",
   "execution_count": null,
   "id": "f549f7a4",
   "metadata": {
    "ExecuteTime": {
     "end_time": "2022-06-07T14:34:14.951508Z",
     "start_time": "2022-06-07T14:34:14.951476Z"
    }
   },
   "outputs": [],
   "source": [
    "test=pd.DataFrame(columns=[\"a\",\"b\"])\n",
    "test"
   ]
  },
  {
   "cell_type": "code",
   "execution_count": 3,
   "id": "eb15347b",
   "metadata": {
    "ExecuteTime": {
     "end_time": "2022-06-09T08:38:25.199849Z",
     "start_time": "2022-06-09T08:38:25.142041Z"
    }
   },
   "outputs": [],
   "source": [
    "data=pd.read_csv(\"/Users/David/code/Clementinelalande/marbotic/raw_data/users_info_202206071551.csv\",sep=\";\")"
   ]
  },
  {
   "cell_type": "code",
   "execution_count": 4,
   "id": "53bf20be",
   "metadata": {
    "ExecuteTime": {
     "end_time": "2022-06-09T08:38:25.392416Z",
     "start_time": "2022-06-09T08:38:25.345091Z"
    }
   },
   "outputs": [
    {
     "data": {
      "text/html": [
       "<div>\n",
       "<style scoped>\n",
       "    .dataframe tbody tr th:only-of-type {\n",
       "        vertical-align: middle;\n",
       "    }\n",
       "\n",
       "    .dataframe tbody tr th {\n",
       "        vertical-align: top;\n",
       "    }\n",
       "\n",
       "    .dataframe thead th {\n",
       "        text-align: right;\n",
       "    }\n",
       "</style>\n",
       "<table border=\"1\" class=\"dataframe\">\n",
       "  <thead>\n",
       "    <tr style=\"text-align: right;\">\n",
       "      <th></th>\n",
       "      <th>User id</th>\n",
       "      <th>Country</th>\n",
       "      <th>Language</th>\n",
       "      <th>News letter</th>\n",
       "      <th>Type</th>\n",
       "      <th>Attribution</th>\n",
       "      <th>Games</th>\n",
       "      <th>Products</th>\n",
       "      <th>Pieces</th>\n",
       "      <th>Purchases</th>\n",
       "    </tr>\n",
       "  </thead>\n",
       "  <tbody>\n",
       "    <tr>\n",
       "      <th>0</th>\n",
       "      <td>59707</td>\n",
       "      <td>MX</td>\n",
       "      <td>English</td>\n",
       "      <td>True</td>\n",
       "      <td>Parent</td>\n",
       "      <td>PLU</td>\n",
       "      <td>[\"10 Fingers\",\"Marbotic Letters\",\"Marbotic Num...</td>\n",
       "      <td>[\"Smart Kit\",\"Smart Numbers\",\"Nordic Kit\"]</td>\n",
       "      <td>[\"Nordic Letters\",\"Numbers\",\"Uppercase Letters\"]</td>\n",
       "      <td>NaN</td>\n",
       "    </tr>\n",
       "    <tr>\n",
       "      <th>1</th>\n",
       "      <td>61748</td>\n",
       "      <td>NZ</td>\n",
       "      <td>English</td>\n",
       "      <td>False</td>\n",
       "      <td>Educator</td>\n",
       "      <td>ELU</td>\n",
       "      <td>[\"Marbotic Letters\",\"Vocabubble\",\"10 Fingers\",...</td>\n",
       "      <td>[\"Smart Letters\",\"Smart Numbers\"]</td>\n",
       "      <td>[\"Numbers\",\"Uppercase Letters\"]</td>\n",
       "      <td>NaN</td>\n",
       "    </tr>\n",
       "    <tr>\n",
       "      <th>2</th>\n",
       "      <td>54834</td>\n",
       "      <td>CA</td>\n",
       "      <td>English</td>\n",
       "      <td>True</td>\n",
       "      <td>Parent</td>\n",
       "      <td>PLU</td>\n",
       "      <td>[\"Sesame Street Numbers\"]</td>\n",
       "      <td>NaN</td>\n",
       "      <td>NaN</td>\n",
       "      <td>NaN</td>\n",
       "    </tr>\n",
       "    <tr>\n",
       "      <th>3</th>\n",
       "      <td>69202</td>\n",
       "      <td>US</td>\n",
       "      <td>English</td>\n",
       "      <td>False</td>\n",
       "      <td>Parent</td>\n",
       "      <td>PLU</td>\n",
       "      <td>[\"Marbotic\"]</td>\n",
       "      <td>[\"Deluxe Learning Kit\"]</td>\n",
       "      <td>[\"Lowercase Letters\",\"Numbers\"]</td>\n",
       "      <td>NaN</td>\n",
       "    </tr>\n",
       "    <tr>\n",
       "      <th>4</th>\n",
       "      <td>67754</td>\n",
       "      <td>CA</td>\n",
       "      <td>English</td>\n",
       "      <td>True</td>\n",
       "      <td>Parent</td>\n",
       "      <td>PLU</td>\n",
       "      <td>[\"Marbotic\"]</td>\n",
       "      <td>[\"Smart Kit\"]</td>\n",
       "      <td>[\"Numbers\",\"Uppercase Letters\"]</td>\n",
       "      <td>NaN</td>\n",
       "    </tr>\n",
       "  </tbody>\n",
       "</table>\n",
       "</div>"
      ],
      "text/plain": [
       "   User id Country Language  News letter      Type Attribution  \\\n",
       "0    59707      MX  English         True    Parent         PLU   \n",
       "1    61748      NZ  English        False  Educator         ELU   \n",
       "2    54834      CA  English         True    Parent         PLU   \n",
       "3    69202      US  English        False    Parent         PLU   \n",
       "4    67754      CA  English         True    Parent         PLU   \n",
       "\n",
       "                                               Games  \\\n",
       "0  [\"10 Fingers\",\"Marbotic Letters\",\"Marbotic Num...   \n",
       "1  [\"Marbotic Letters\",\"Vocabubble\",\"10 Fingers\",...   \n",
       "2                          [\"Sesame Street Numbers\"]   \n",
       "3                                       [\"Marbotic\"]   \n",
       "4                                       [\"Marbotic\"]   \n",
       "\n",
       "                                     Products  \\\n",
       "0  [\"Smart Kit\",\"Smart Numbers\",\"Nordic Kit\"]   \n",
       "1           [\"Smart Letters\",\"Smart Numbers\"]   \n",
       "2                                         NaN   \n",
       "3                     [\"Deluxe Learning Kit\"]   \n",
       "4                               [\"Smart Kit\"]   \n",
       "\n",
       "                                             Pieces Purchases  \n",
       "0  [\"Nordic Letters\",\"Numbers\",\"Uppercase Letters\"]       NaN  \n",
       "1                   [\"Numbers\",\"Uppercase Letters\"]       NaN  \n",
       "2                                               NaN       NaN  \n",
       "3                   [\"Lowercase Letters\",\"Numbers\"]       NaN  \n",
       "4                   [\"Numbers\",\"Uppercase Letters\"]       NaN  "
      ]
     },
     "execution_count": 4,
     "metadata": {},
     "output_type": "execute_result"
    }
   ],
   "source": [
    "data.head()"
   ]
  },
  {
   "cell_type": "code",
   "execution_count": 5,
   "id": "51078384",
   "metadata": {
    "ExecuteTime": {
     "end_time": "2022-06-09T08:38:25.507013Z",
     "start_time": "2022-06-09T08:38:25.499671Z"
    }
   },
   "outputs": [
    {
     "data": {
      "text/plain": [
       "(13679, 10)"
      ]
     },
     "execution_count": 5,
     "metadata": {},
     "output_type": "execute_result"
    }
   ],
   "source": [
    "data.shape"
   ]
  },
  {
   "cell_type": "code",
   "execution_count": 6,
   "id": "f04934ed",
   "metadata": {
    "ExecuteTime": {
     "end_time": "2022-06-09T08:38:25.681566Z",
     "start_time": "2022-06-09T08:38:25.663888Z"
    }
   },
   "outputs": [
    {
     "data": {
      "text/plain": [
       "12858"
      ]
     },
     "execution_count": 6,
     "metadata": {},
     "output_type": "execute_result"
    }
   ],
   "source": [
    "len(data[\"User id\"].unique())"
   ]
  },
  {
   "cell_type": "code",
   "execution_count": 8,
   "id": "f57972da",
   "metadata": {
    "ExecuteTime": {
     "end_time": "2022-06-09T08:38:39.737888Z",
     "start_time": "2022-06-09T08:38:39.725473Z"
    }
   },
   "outputs": [
    {
     "data": {
      "text/plain": [
       "14"
      ]
     },
     "execution_count": 8,
     "metadata": {},
     "output_type": "execute_result"
    }
   ],
   "source": [
    "len(data[\"Attribution\"].unique())"
   ]
  },
  {
   "cell_type": "markdown",
   "id": "c7b72d68",
   "metadata": {
    "ExecuteTime": {
     "end_time": "2022-06-08T10:21:21.347718Z",
     "start_time": "2022-06-08T10:21:21.341971Z"
    }
   },
   "source": [
    "# WAU table creation"
   ]
  },
  {
   "cell_type": "markdown",
   "id": "8d41e25e",
   "metadata": {
    "ExecuteTime": {
     "end_time": "2022-06-08T10:25:32.539719Z",
     "start_time": "2022-06-08T10:25:32.527438Z"
    },
    "heading_collapsed": true
   },
   "source": [
    "## Load data"
   ]
  },
  {
   "cell_type": "code",
   "execution_count": 241,
   "id": "20d5b35c",
   "metadata": {
    "ExecuteTime": {
     "end_time": "2022-06-09T16:42:18.503625Z",
     "start_time": "2022-06-09T16:38:24.687438Z"
    },
    "hidden": true
   },
   "outputs": [],
   "source": [
    "raw_data=extract()"
   ]
  },
  {
   "cell_type": "code",
   "execution_count": 242,
   "id": "0f0e95a8",
   "metadata": {
    "ExecuteTime": {
     "end_time": "2022-06-09T16:42:18.527993Z",
     "start_time": "2022-06-09T16:42:18.506647Z"
    },
    "hidden": true
   },
   "outputs": [
    {
     "data": {
      "text/plain": [
       "(1320229, 15)"
      ]
     },
     "execution_count": 242,
     "metadata": {},
     "output_type": "execute_result"
    }
   ],
   "source": [
    "raw_data.shape"
   ]
  },
  {
   "cell_type": "code",
   "execution_count": 243,
   "id": "2256d785",
   "metadata": {
    "ExecuteTime": {
     "end_time": "2022-06-09T16:42:18.765670Z",
     "start_time": "2022-06-09T16:42:18.577446Z"
    },
    "hidden": true
   },
   "outputs": [
    {
     "data": {
      "text/plain": [
       "1320229"
      ]
     },
     "execution_count": 243,
     "metadata": {},
     "output_type": "execute_result"
    }
   ],
   "source": [
    "len(raw_data.id.unique())"
   ]
  },
  {
   "cell_type": "code",
   "execution_count": 244,
   "id": "e36c70f3",
   "metadata": {
    "ExecuteTime": {
     "end_time": "2022-06-09T16:42:18.840392Z",
     "start_time": "2022-06-09T16:42:18.780635Z"
    },
    "hidden": true
   },
   "outputs": [
    {
     "data": {
      "text/html": [
       "<div>\n",
       "<style scoped>\n",
       "    .dataframe tbody tr th:only-of-type {\n",
       "        vertical-align: middle;\n",
       "    }\n",
       "\n",
       "    .dataframe tbody tr th {\n",
       "        vertical-align: top;\n",
       "    }\n",
       "\n",
       "    .dataframe thead th {\n",
       "        text-align: right;\n",
       "    }\n",
       "</style>\n",
       "<table border=\"1\" class=\"dataframe\">\n",
       "  <thead>\n",
       "    <tr style=\"text-align: right;\">\n",
       "      <th></th>\n",
       "      <th>city</th>\n",
       "      <th>client_event_time</th>\n",
       "      <th>country</th>\n",
       "      <th>device_model</th>\n",
       "      <th>event_id</th>\n",
       "      <th>event_type</th>\n",
       "      <th>is_attribution_event</th>\n",
       "      <th>language</th>\n",
       "      <th>os_version</th>\n",
       "      <th>region</th>\n",
       "      <th>session_id</th>\n",
       "      <th>start_version</th>\n",
       "      <th>user_creation_time</th>\n",
       "      <th>user_id</th>\n",
       "      <th>id</th>\n",
       "    </tr>\n",
       "  </thead>\n",
       "  <tbody>\n",
       "    <tr>\n",
       "      <th>0</th>\n",
       "      <td>None</td>\n",
       "      <td>2022-05-12 21:28:00.367000+00:00</td>\n",
       "      <td>United States</td>\n",
       "      <td>iPad8,11</td>\n",
       "      <td>3135</td>\n",
       "      <td>[Toast] Appear</td>\n",
       "      <td>False</td>\n",
       "      <td>English</td>\n",
       "      <td>15.4.1</td>\n",
       "      <td>Wisconsin</td>\n",
       "      <td>1652390875674</td>\n",
       "      <td>1.0.9</td>\n",
       "      <td>2022-03-09 23:24:23.096000+00:00</td>\n",
       "      <td>71150</td>\n",
       "      <td>1307980</td>\n",
       "    </tr>\n",
       "    <tr>\n",
       "      <th>1</th>\n",
       "      <td>None</td>\n",
       "      <td>2022-05-12 21:28:05.614000+00:00</td>\n",
       "      <td>United States</td>\n",
       "      <td>iPad8,11</td>\n",
       "      <td>3138</td>\n",
       "      <td>[Toast] Disappear</td>\n",
       "      <td>False</td>\n",
       "      <td>English</td>\n",
       "      <td>15.4.1</td>\n",
       "      <td>Wisconsin</td>\n",
       "      <td>1652390875674</td>\n",
       "      <td>1.0.9</td>\n",
       "      <td>2022-03-09 23:24:23.096000+00:00</td>\n",
       "      <td>71150</td>\n",
       "      <td>1307983</td>\n",
       "    </tr>\n",
       "    <tr>\n",
       "      <th>2</th>\n",
       "      <td>None</td>\n",
       "      <td>2022-05-12 09:13:47.702000+00:00</td>\n",
       "      <td>Germany</td>\n",
       "      <td>iPad Pro</td>\n",
       "      <td>2480</td>\n",
       "      <td>[OB] ProfileName</td>\n",
       "      <td>False</td>\n",
       "      <td>German</td>\n",
       "      <td>15.4.1</td>\n",
       "      <td>Baden-Württemberg</td>\n",
       "      <td>1652346694954</td>\n",
       "      <td>1.0.1</td>\n",
       "      <td>2021-01-19 12:01:58.046000+00:00</td>\n",
       "      <td>52773</td>\n",
       "      <td>1312163</td>\n",
       "    </tr>\n",
       "    <tr>\n",
       "      <th>3</th>\n",
       "      <td>Zug</td>\n",
       "      <td>2022-05-13 06:39:47.474000+00:00</td>\n",
       "      <td>Switzerland</td>\n",
       "      <td>iPad11,6</td>\n",
       "      <td>3</td>\n",
       "      <td>[Activation] Game</td>\n",
       "      <td>False</td>\n",
       "      <td>English</td>\n",
       "      <td>15.4.1</td>\n",
       "      <td>Zug</td>\n",
       "      <td>1652423984674</td>\n",
       "      <td>4.2.2</td>\n",
       "      <td>2021-11-09 10:31:37.463000+00:00</td>\n",
       "      <td>0</td>\n",
       "      <td>1317850</td>\n",
       "    </tr>\n",
       "    <tr>\n",
       "      <th>4</th>\n",
       "      <td>Urzy</td>\n",
       "      <td>2022-05-12 06:29:04.245000+00:00</td>\n",
       "      <td>France</td>\n",
       "      <td>iPad 6</td>\n",
       "      <td>1472</td>\n",
       "      <td>[Toast] Appear</td>\n",
       "      <td>False</td>\n",
       "      <td>French</td>\n",
       "      <td>15.3.1</td>\n",
       "      <td>Nièvre</td>\n",
       "      <td>1652336940411</td>\n",
       "      <td>1.0.9</td>\n",
       "      <td>2022-03-07 09:55:01.003000+00:00</td>\n",
       "      <td>70756</td>\n",
       "      <td>1310560</td>\n",
       "    </tr>\n",
       "  </tbody>\n",
       "</table>\n",
       "</div>"
      ],
      "text/plain": [
       "   city                client_event_time        country device_model  \\\n",
       "0  None 2022-05-12 21:28:00.367000+00:00  United States     iPad8,11   \n",
       "1  None 2022-05-12 21:28:05.614000+00:00  United States     iPad8,11   \n",
       "2  None 2022-05-12 09:13:47.702000+00:00        Germany     iPad Pro   \n",
       "3   Zug 2022-05-13 06:39:47.474000+00:00    Switzerland     iPad11,6   \n",
       "4  Urzy 2022-05-12 06:29:04.245000+00:00         France       iPad 6   \n",
       "\n",
       "   event_id         event_type  is_attribution_event language os_version  \\\n",
       "0      3135     [Toast] Appear                 False  English     15.4.1   \n",
       "1      3138  [Toast] Disappear                 False  English     15.4.1   \n",
       "2      2480   [OB] ProfileName                 False   German     15.4.1   \n",
       "3         3  [Activation] Game                 False  English     15.4.1   \n",
       "4      1472     [Toast] Appear                 False   French     15.3.1   \n",
       "\n",
       "              region     session_id start_version  \\\n",
       "0          Wisconsin  1652390875674         1.0.9   \n",
       "1          Wisconsin  1652390875674         1.0.9   \n",
       "2  Baden-Württemberg  1652346694954         1.0.1   \n",
       "3                Zug  1652423984674         4.2.2   \n",
       "4             Nièvre  1652336940411         1.0.9   \n",
       "\n",
       "                user_creation_time  user_id       id  \n",
       "0 2022-03-09 23:24:23.096000+00:00    71150  1307980  \n",
       "1 2022-03-09 23:24:23.096000+00:00    71150  1307983  \n",
       "2 2021-01-19 12:01:58.046000+00:00    52773  1312163  \n",
       "3 2021-11-09 10:31:37.463000+00:00        0  1317850  \n",
       "4 2022-03-07 09:55:01.003000+00:00    70756  1310560  "
      ]
     },
     "execution_count": 244,
     "metadata": {},
     "output_type": "execute_result"
    }
   ],
   "source": [
    "raw_data.head()"
   ]
  },
  {
   "cell_type": "code",
   "execution_count": 245,
   "id": "29202093",
   "metadata": {
    "ExecuteTime": {
     "end_time": "2022-06-09T16:42:20.554810Z",
     "start_time": "2022-06-09T16:42:18.846745Z"
    },
    "hidden": true
   },
   "outputs": [
    {
     "name": "stdout",
     "output_type": "stream",
     "text": [
      "<class 'pandas.core.frame.DataFrame'>\n",
      "RangeIndex: 1320229 entries, 0 to 1320228\n",
      "Data columns (total 15 columns):\n",
      " #   Column                Non-Null Count    Dtype              \n",
      "---  ------                --------------    -----              \n",
      " 0   city                  1305842 non-null  object             \n",
      " 1   client_event_time     1320229 non-null  datetime64[ns, UTC]\n",
      " 2   country               1320229 non-null  object             \n",
      " 3   device_model          1320229 non-null  object             \n",
      " 4   event_id              1320229 non-null  int64              \n",
      " 5   event_type            1320229 non-null  object             \n",
      " 6   is_attribution_event  1320229 non-null  bool               \n",
      " 7   language              1320229 non-null  object             \n",
      " 8   os_version            1320229 non-null  object             \n",
      " 9   region                1308214 non-null  object             \n",
      " 10  session_id            1320229 non-null  int64              \n",
      " 11  start_version         1320229 non-null  object             \n",
      " 12  user_creation_time    1320229 non-null  datetime64[ns, UTC]\n",
      " 13  user_id               1320229 non-null  int64              \n",
      " 14  id                    1320229 non-null  int64              \n",
      "dtypes: bool(1), datetime64[ns, UTC](2), int64(4), object(8)\n",
      "memory usage: 142.3+ MB\n"
     ]
    }
   ],
   "source": [
    "raw_data.info()"
   ]
  },
  {
   "cell_type": "markdown",
   "id": "359aea4e",
   "metadata": {
    "ExecuteTime": {
     "end_time": "2022-06-08T10:57:43.220027Z",
     "start_time": "2022-06-08T10:57:43.215126Z"
    }
   },
   "source": [
    "## Compute Weekly active users"
   ]
  },
  {
   "cell_type": "code",
   "execution_count": 246,
   "id": "5f11f590",
   "metadata": {
    "ExecuteTime": {
     "end_time": "2022-06-09T16:42:20.564397Z",
     "start_time": "2022-06-09T16:42:20.558978Z"
    }
   },
   "outputs": [],
   "source": [
    "def get_week(x):\n",
    "    return x.isocalendar()[1]"
   ]
  },
  {
   "cell_type": "code",
   "execution_count": 247,
   "id": "673413b1",
   "metadata": {
    "ExecuteTime": {
     "end_time": "2022-06-09T16:42:20.577333Z",
     "start_time": "2022-06-09T16:42:20.570425Z"
    }
   },
   "outputs": [],
   "source": [
    "def get_year(x):\n",
    "    return x.isocalendar()[0]"
   ]
  },
  {
   "cell_type": "code",
   "execution_count": 248,
   "id": "6a5d360b",
   "metadata": {
    "ExecuteTime": {
     "end_time": "2022-06-09T16:42:25.005594Z",
     "start_time": "2022-06-09T16:42:20.597487Z"
    }
   },
   "outputs": [
    {
     "data": {
      "text/html": [
       "<div>\n",
       "<style scoped>\n",
       "    .dataframe tbody tr th:only-of-type {\n",
       "        vertical-align: middle;\n",
       "    }\n",
       "\n",
       "    .dataframe tbody tr th {\n",
       "        vertical-align: top;\n",
       "    }\n",
       "\n",
       "    .dataframe thead th {\n",
       "        text-align: right;\n",
       "    }\n",
       "</style>\n",
       "<table border=\"1\" class=\"dataframe\">\n",
       "  <thead>\n",
       "    <tr style=\"text-align: right;\">\n",
       "      <th></th>\n",
       "      <th>user_id</th>\n",
       "      <th>client_event_time</th>\n",
       "      <th>week2022</th>\n",
       "    </tr>\n",
       "  </thead>\n",
       "  <tbody>\n",
       "    <tr>\n",
       "      <th>0</th>\n",
       "      <td>71150</td>\n",
       "      <td>2022-05-12 21:28:00.367000+00:00</td>\n",
       "      <td>19</td>\n",
       "    </tr>\n",
       "    <tr>\n",
       "      <th>1</th>\n",
       "      <td>71150</td>\n",
       "      <td>2022-05-12 21:28:05.614000+00:00</td>\n",
       "      <td>19</td>\n",
       "    </tr>\n",
       "    <tr>\n",
       "      <th>2</th>\n",
       "      <td>52773</td>\n",
       "      <td>2022-05-12 09:13:47.702000+00:00</td>\n",
       "      <td>19</td>\n",
       "    </tr>\n",
       "    <tr>\n",
       "      <th>3</th>\n",
       "      <td>0</td>\n",
       "      <td>2022-05-13 06:39:47.474000+00:00</td>\n",
       "      <td>19</td>\n",
       "    </tr>\n",
       "    <tr>\n",
       "      <th>4</th>\n",
       "      <td>70756</td>\n",
       "      <td>2022-05-12 06:29:04.245000+00:00</td>\n",
       "      <td>19</td>\n",
       "    </tr>\n",
       "  </tbody>\n",
       "</table>\n",
       "</div>"
      ],
      "text/plain": [
       "   user_id                client_event_time  week2022\n",
       "0    71150 2022-05-12 21:28:00.367000+00:00        19\n",
       "1    71150 2022-05-12 21:28:05.614000+00:00        19\n",
       "2    52773 2022-05-12 09:13:47.702000+00:00        19\n",
       "3        0 2022-05-13 06:39:47.474000+00:00        19\n",
       "4    70756 2022-05-12 06:29:04.245000+00:00        19"
      ]
     },
     "execution_count": 248,
     "metadata": {},
     "output_type": "execute_result"
    }
   ],
   "source": [
    "data=raw_data[[\"user_id\",\"client_event_time\"]].copy()\n",
    "data[\"week2022\"]=data[\"client_event_time\"].map(lambda x: x.isocalendar()[1])\n",
    "data.head()\n"
   ]
  },
  {
   "cell_type": "code",
   "execution_count": 249,
   "id": "e5749277",
   "metadata": {
    "ExecuteTime": {
     "end_time": "2022-06-09T16:42:25.033853Z",
     "start_time": "2022-06-09T16:42:25.021976Z"
    }
   },
   "outputs": [
    {
     "data": {
      "text/plain": [
       "(2022, 19, 4)"
      ]
     },
     "execution_count": 249,
     "metadata": {},
     "output_type": "execute_result"
    }
   ],
   "source": [
    "data[\"client_event_time\"][0].isocalendar()"
   ]
  },
  {
   "cell_type": "code",
   "execution_count": 250,
   "id": "e986245a",
   "metadata": {
    "ExecuteTime": {
     "end_time": "2022-06-09T16:42:25.102348Z",
     "start_time": "2022-06-09T16:42:25.044101Z"
    }
   },
   "outputs": [
    {
     "data": {
      "text/plain": [
       "'number of unique users: 2627'"
      ]
     },
     "execution_count": 250,
     "metadata": {},
     "output_type": "execute_result"
    }
   ],
   "source": [
    "#number of unique users\n",
    "f\"number of unique users: {len(data.user_id.unique())}\"\n"
   ]
  },
  {
   "cell_type": "code",
   "execution_count": 251,
   "id": "1ee99bf6",
   "metadata": {
    "ExecuteTime": {
     "end_time": "2022-06-09T16:42:25.173381Z",
     "start_time": "2022-06-09T16:42:25.112773Z"
    }
   },
   "outputs": [
    {
     "data": {
      "text/plain": [
       "array([ 1,  2,  3,  4,  5,  6,  7,  8,  9, 10, 11, 12, 13, 14, 15, 16, 17,\n",
       "       18, 19, 22])"
      ]
     },
     "execution_count": 251,
     "metadata": {},
     "output_type": "execute_result"
    }
   ],
   "source": [
    "logs=data.week2022.unique()\n",
    "logs.sort()\n",
    "logs"
   ]
  },
  {
   "cell_type": "code",
   "execution_count": 252,
   "id": "86c96848",
   "metadata": {
    "ExecuteTime": {
     "end_time": "2022-06-09T16:42:25.212492Z",
     "start_time": "2022-06-09T16:42:25.187673Z"
    }
   },
   "outputs": [
    {
     "name": "stdout",
     "output_type": "stream",
     "text": [
      "start_timestamp: 2022-01-07 02:56:28.793000+00:00\n",
      "end_timestamp: 2022-06-05 23:13:18.926000+00:00\n"
     ]
    }
   ],
   "source": [
    "start_timestamp=data[\"client_event_time\"].min()\n",
    "end_timestamp=data[\"client_event_time\"].max()\n",
    "print(f\"start_timestamp: {start_timestamp}\")\n",
    "print(f\"end_timestamp: {end_timestamp}\")"
   ]
  },
  {
   "cell_type": "code",
   "execution_count": 253,
   "id": "1aea2114",
   "metadata": {
    "ExecuteTime": {
     "end_time": "2022-06-09T16:42:25.264047Z",
     "start_time": "2022-06-09T16:42:25.222924Z"
    }
   },
   "outputs": [],
   "source": [
    "categories=[(i) for i in data.week2022.unique()]\n",
    "categories.sort()\n",
    "categories=np.array(categories)"
   ]
  },
  {
   "cell_type": "code",
   "execution_count": 254,
   "id": "3f5de15c",
   "metadata": {
    "ExecuteTime": {
     "end_time": "2022-06-09T16:42:25.284164Z",
     "start_time": "2022-06-09T16:42:25.269885Z"
    }
   },
   "outputs": [
    {
     "data": {
      "text/plain": [
       "array([ 1,  2,  3,  4,  5,  6,  7,  8,  9, 10, 11, 12, 13, 14, 15, 16, 17,\n",
       "       18, 19, 22])"
      ]
     },
     "execution_count": 254,
     "metadata": {},
     "output_type": "execute_result"
    }
   ],
   "source": [
    "np.array(categories)"
   ]
  },
  {
   "cell_type": "code",
   "execution_count": 255,
   "id": "3ea2ebbe",
   "metadata": {
    "ExecuteTime": {
     "end_time": "2022-06-09T16:42:26.697468Z",
     "start_time": "2022-06-09T16:42:25.299752Z"
    }
   },
   "outputs": [
    {
     "data": {
      "text/html": [
       "<div>\n",
       "<style scoped>\n",
       "    .dataframe tbody tr th:only-of-type {\n",
       "        vertical-align: middle;\n",
       "    }\n",
       "\n",
       "    .dataframe tbody tr th {\n",
       "        vertical-align: top;\n",
       "    }\n",
       "\n",
       "    .dataframe thead th {\n",
       "        text-align: right;\n",
       "    }\n",
       "</style>\n",
       "<table border=\"1\" class=\"dataframe\">\n",
       "  <thead>\n",
       "    <tr style=\"text-align: right;\">\n",
       "      <th></th>\n",
       "      <th>W1</th>\n",
       "      <th>W2</th>\n",
       "      <th>W3</th>\n",
       "      <th>W4</th>\n",
       "      <th>W5</th>\n",
       "      <th>W6</th>\n",
       "      <th>W7</th>\n",
       "      <th>W8</th>\n",
       "      <th>W9</th>\n",
       "      <th>W10</th>\n",
       "      <th>W11</th>\n",
       "      <th>W12</th>\n",
       "      <th>W13</th>\n",
       "      <th>W14</th>\n",
       "      <th>W15</th>\n",
       "      <th>W16</th>\n",
       "      <th>W17</th>\n",
       "      <th>W18</th>\n",
       "      <th>W19</th>\n",
       "      <th>W22</th>\n",
       "    </tr>\n",
       "    <tr>\n",
       "      <th>user_id</th>\n",
       "      <th></th>\n",
       "      <th></th>\n",
       "      <th></th>\n",
       "      <th></th>\n",
       "      <th></th>\n",
       "      <th></th>\n",
       "      <th></th>\n",
       "      <th></th>\n",
       "      <th></th>\n",
       "      <th></th>\n",
       "      <th></th>\n",
       "      <th></th>\n",
       "      <th></th>\n",
       "      <th></th>\n",
       "      <th></th>\n",
       "      <th></th>\n",
       "      <th></th>\n",
       "      <th></th>\n",
       "      <th></th>\n",
       "      <th></th>\n",
       "    </tr>\n",
       "  </thead>\n",
       "  <tbody>\n",
       "    <tr>\n",
       "      <th>0</th>\n",
       "      <td>10.0</td>\n",
       "      <td>0.0</td>\n",
       "      <td>11.0</td>\n",
       "      <td>3.0</td>\n",
       "      <td>0.0</td>\n",
       "      <td>10.0</td>\n",
       "      <td>24.0</td>\n",
       "      <td>11.0</td>\n",
       "      <td>3056.0</td>\n",
       "      <td>2769.0</td>\n",
       "      <td>2554.0</td>\n",
       "      <td>3265.0</td>\n",
       "      <td>4138.0</td>\n",
       "      <td>3703.0</td>\n",
       "      <td>3514.0</td>\n",
       "      <td>5306.0</td>\n",
       "      <td>93138.0</td>\n",
       "      <td>2121.0</td>\n",
       "      <td>1478.0</td>\n",
       "      <td>0.0</td>\n",
       "    </tr>\n",
       "    <tr>\n",
       "      <th>211</th>\n",
       "      <td>0.0</td>\n",
       "      <td>0.0</td>\n",
       "      <td>0.0</td>\n",
       "      <td>0.0</td>\n",
       "      <td>0.0</td>\n",
       "      <td>0.0</td>\n",
       "      <td>0.0</td>\n",
       "      <td>0.0</td>\n",
       "      <td>600.0</td>\n",
       "      <td>224.0</td>\n",
       "      <td>0.0</td>\n",
       "      <td>0.0</td>\n",
       "      <td>0.0</td>\n",
       "      <td>0.0</td>\n",
       "      <td>0.0</td>\n",
       "      <td>0.0</td>\n",
       "      <td>0.0</td>\n",
       "      <td>0.0</td>\n",
       "      <td>0.0</td>\n",
       "      <td>0.0</td>\n",
       "    </tr>\n",
       "    <tr>\n",
       "      <th>274</th>\n",
       "      <td>0.0</td>\n",
       "      <td>0.0</td>\n",
       "      <td>0.0</td>\n",
       "      <td>0.0</td>\n",
       "      <td>0.0</td>\n",
       "      <td>0.0</td>\n",
       "      <td>0.0</td>\n",
       "      <td>0.0</td>\n",
       "      <td>0.0</td>\n",
       "      <td>0.0</td>\n",
       "      <td>7.0</td>\n",
       "      <td>0.0</td>\n",
       "      <td>16.0</td>\n",
       "      <td>0.0</td>\n",
       "      <td>10.0</td>\n",
       "      <td>4.0</td>\n",
       "      <td>3.0</td>\n",
       "      <td>0.0</td>\n",
       "      <td>0.0</td>\n",
       "      <td>0.0</td>\n",
       "    </tr>\n",
       "    <tr>\n",
       "      <th>453</th>\n",
       "      <td>0.0</td>\n",
       "      <td>0.0</td>\n",
       "      <td>0.0</td>\n",
       "      <td>25.0</td>\n",
       "      <td>0.0</td>\n",
       "      <td>0.0</td>\n",
       "      <td>0.0</td>\n",
       "      <td>0.0</td>\n",
       "      <td>0.0</td>\n",
       "      <td>0.0</td>\n",
       "      <td>128.0</td>\n",
       "      <td>0.0</td>\n",
       "      <td>0.0</td>\n",
       "      <td>0.0</td>\n",
       "      <td>0.0</td>\n",
       "      <td>0.0</td>\n",
       "      <td>0.0</td>\n",
       "      <td>0.0</td>\n",
       "      <td>0.0</td>\n",
       "      <td>0.0</td>\n",
       "    </tr>\n",
       "    <tr>\n",
       "      <th>564</th>\n",
       "      <td>0.0</td>\n",
       "      <td>0.0</td>\n",
       "      <td>0.0</td>\n",
       "      <td>0.0</td>\n",
       "      <td>0.0</td>\n",
       "      <td>0.0</td>\n",
       "      <td>0.0</td>\n",
       "      <td>0.0</td>\n",
       "      <td>0.0</td>\n",
       "      <td>0.0</td>\n",
       "      <td>0.0</td>\n",
       "      <td>0.0</td>\n",
       "      <td>0.0</td>\n",
       "      <td>0.0</td>\n",
       "      <td>0.0</td>\n",
       "      <td>52.0</td>\n",
       "      <td>0.0</td>\n",
       "      <td>0.0</td>\n",
       "      <td>0.0</td>\n",
       "      <td>0.0</td>\n",
       "    </tr>\n",
       "    <tr>\n",
       "      <th>...</th>\n",
       "      <td>...</td>\n",
       "      <td>...</td>\n",
       "      <td>...</td>\n",
       "      <td>...</td>\n",
       "      <td>...</td>\n",
       "      <td>...</td>\n",
       "      <td>...</td>\n",
       "      <td>...</td>\n",
       "      <td>...</td>\n",
       "      <td>...</td>\n",
       "      <td>...</td>\n",
       "      <td>...</td>\n",
       "      <td>...</td>\n",
       "      <td>...</td>\n",
       "      <td>...</td>\n",
       "      <td>...</td>\n",
       "      <td>...</td>\n",
       "      <td>...</td>\n",
       "      <td>...</td>\n",
       "      <td>...</td>\n",
       "    </tr>\n",
       "    <tr>\n",
       "      <th>73184</th>\n",
       "      <td>0.0</td>\n",
       "      <td>0.0</td>\n",
       "      <td>0.0</td>\n",
       "      <td>0.0</td>\n",
       "      <td>0.0</td>\n",
       "      <td>0.0</td>\n",
       "      <td>0.0</td>\n",
       "      <td>0.0</td>\n",
       "      <td>0.0</td>\n",
       "      <td>0.0</td>\n",
       "      <td>0.0</td>\n",
       "      <td>0.0</td>\n",
       "      <td>0.0</td>\n",
       "      <td>0.0</td>\n",
       "      <td>0.0</td>\n",
       "      <td>0.0</td>\n",
       "      <td>0.0</td>\n",
       "      <td>0.0</td>\n",
       "      <td>81.0</td>\n",
       "      <td>0.0</td>\n",
       "    </tr>\n",
       "    <tr>\n",
       "      <th>73185</th>\n",
       "      <td>0.0</td>\n",
       "      <td>0.0</td>\n",
       "      <td>0.0</td>\n",
       "      <td>0.0</td>\n",
       "      <td>0.0</td>\n",
       "      <td>0.0</td>\n",
       "      <td>0.0</td>\n",
       "      <td>0.0</td>\n",
       "      <td>0.0</td>\n",
       "      <td>0.0</td>\n",
       "      <td>0.0</td>\n",
       "      <td>0.0</td>\n",
       "      <td>0.0</td>\n",
       "      <td>0.0</td>\n",
       "      <td>0.0</td>\n",
       "      <td>0.0</td>\n",
       "      <td>0.0</td>\n",
       "      <td>0.0</td>\n",
       "      <td>122.0</td>\n",
       "      <td>0.0</td>\n",
       "    </tr>\n",
       "    <tr>\n",
       "      <th>73188</th>\n",
       "      <td>0.0</td>\n",
       "      <td>0.0</td>\n",
       "      <td>0.0</td>\n",
       "      <td>0.0</td>\n",
       "      <td>0.0</td>\n",
       "      <td>0.0</td>\n",
       "      <td>0.0</td>\n",
       "      <td>0.0</td>\n",
       "      <td>0.0</td>\n",
       "      <td>0.0</td>\n",
       "      <td>0.0</td>\n",
       "      <td>0.0</td>\n",
       "      <td>0.0</td>\n",
       "      <td>0.0</td>\n",
       "      <td>0.0</td>\n",
       "      <td>0.0</td>\n",
       "      <td>0.0</td>\n",
       "      <td>0.0</td>\n",
       "      <td>219.0</td>\n",
       "      <td>0.0</td>\n",
       "    </tr>\n",
       "    <tr>\n",
       "      <th>73197</th>\n",
       "      <td>0.0</td>\n",
       "      <td>0.0</td>\n",
       "      <td>0.0</td>\n",
       "      <td>0.0</td>\n",
       "      <td>0.0</td>\n",
       "      <td>0.0</td>\n",
       "      <td>0.0</td>\n",
       "      <td>0.0</td>\n",
       "      <td>0.0</td>\n",
       "      <td>0.0</td>\n",
       "      <td>0.0</td>\n",
       "      <td>0.0</td>\n",
       "      <td>0.0</td>\n",
       "      <td>0.0</td>\n",
       "      <td>0.0</td>\n",
       "      <td>0.0</td>\n",
       "      <td>0.0</td>\n",
       "      <td>0.0</td>\n",
       "      <td>10.0</td>\n",
       "      <td>0.0</td>\n",
       "    </tr>\n",
       "    <tr>\n",
       "      <th>73198</th>\n",
       "      <td>0.0</td>\n",
       "      <td>0.0</td>\n",
       "      <td>0.0</td>\n",
       "      <td>0.0</td>\n",
       "      <td>0.0</td>\n",
       "      <td>0.0</td>\n",
       "      <td>0.0</td>\n",
       "      <td>0.0</td>\n",
       "      <td>0.0</td>\n",
       "      <td>0.0</td>\n",
       "      <td>0.0</td>\n",
       "      <td>0.0</td>\n",
       "      <td>0.0</td>\n",
       "      <td>0.0</td>\n",
       "      <td>0.0</td>\n",
       "      <td>0.0</td>\n",
       "      <td>0.0</td>\n",
       "      <td>0.0</td>\n",
       "      <td>24.0</td>\n",
       "      <td>0.0</td>\n",
       "    </tr>\n",
       "  </tbody>\n",
       "</table>\n",
       "<p>2627 rows × 20 columns</p>\n",
       "</div>"
      ],
      "text/plain": [
       "           W1   W2    W3    W4   W5    W6    W7    W8      W9     W10     W11  \\\n",
       "user_id                                                                         \n",
       "0        10.0  0.0  11.0   3.0  0.0  10.0  24.0  11.0  3056.0  2769.0  2554.0   \n",
       "211       0.0  0.0   0.0   0.0  0.0   0.0   0.0   0.0   600.0   224.0     0.0   \n",
       "274       0.0  0.0   0.0   0.0  0.0   0.0   0.0   0.0     0.0     0.0     7.0   \n",
       "453       0.0  0.0   0.0  25.0  0.0   0.0   0.0   0.0     0.0     0.0   128.0   \n",
       "564       0.0  0.0   0.0   0.0  0.0   0.0   0.0   0.0     0.0     0.0     0.0   \n",
       "...       ...  ...   ...   ...  ...   ...   ...   ...     ...     ...     ...   \n",
       "73184     0.0  0.0   0.0   0.0  0.0   0.0   0.0   0.0     0.0     0.0     0.0   \n",
       "73185     0.0  0.0   0.0   0.0  0.0   0.0   0.0   0.0     0.0     0.0     0.0   \n",
       "73188     0.0  0.0   0.0   0.0  0.0   0.0   0.0   0.0     0.0     0.0     0.0   \n",
       "73197     0.0  0.0   0.0   0.0  0.0   0.0   0.0   0.0     0.0     0.0     0.0   \n",
       "73198     0.0  0.0   0.0   0.0  0.0   0.0   0.0   0.0     0.0     0.0     0.0   \n",
       "\n",
       "            W12     W13     W14     W15     W16      W17     W18     W19  W22  \n",
       "user_id                                                                        \n",
       "0        3265.0  4138.0  3703.0  3514.0  5306.0  93138.0  2121.0  1478.0  0.0  \n",
       "211         0.0     0.0     0.0     0.0     0.0      0.0     0.0     0.0  0.0  \n",
       "274         0.0    16.0     0.0    10.0     4.0      3.0     0.0     0.0  0.0  \n",
       "453         0.0     0.0     0.0     0.0     0.0      0.0     0.0     0.0  0.0  \n",
       "564         0.0     0.0     0.0     0.0    52.0      0.0     0.0     0.0  0.0  \n",
       "...         ...     ...     ...     ...     ...      ...     ...     ...  ...  \n",
       "73184       0.0     0.0     0.0     0.0     0.0      0.0     0.0    81.0  0.0  \n",
       "73185       0.0     0.0     0.0     0.0     0.0      0.0     0.0   122.0  0.0  \n",
       "73188       0.0     0.0     0.0     0.0     0.0      0.0     0.0   219.0  0.0  \n",
       "73197       0.0     0.0     0.0     0.0     0.0      0.0     0.0    10.0  0.0  \n",
       "73198       0.0     0.0     0.0     0.0     0.0      0.0     0.0    24.0  0.0  \n",
       "\n",
       "[2627 rows x 20 columns]"
      ]
     },
     "execution_count": 255,
     "metadata": {},
     "output_type": "execute_result"
    }
   ],
   "source": [
    "from sklearn.preprocessing import OneHotEncoder\n",
    "import numpy as np\n",
    "\n",
    "\n",
    "ohe = OneHotEncoder(sparse = False) # Instantiate encoder\n",
    "\n",
    "ohe.fit(data[[\"week2022\"]]) #Fit encoder\n",
    "headers=np.array([f\"W{i}\" for i in ohe.categories_[0].tolist()]) #Format header of OHE columns\n",
    "\n",
    "data_encoded = ohe.transform(data[['week2022']]) # Encode week number\n",
    "data_encoded=pd.DataFrame(data_encoded, columns=headers) #convert to DataFrame\n",
    "\n",
    "wau=data[[\"user_id\"]].copy() #concatenate user_id and OHE columns\n",
    "wau[headers]=data_encoded[headers]\n",
    "\n",
    "wau=wau.groupby(by=\"user_id\").sum() #Group by unique user_id\n",
    "wau"
   ]
  },
  {
   "cell_type": "markdown",
   "id": "a1dbb1c1",
   "metadata": {},
   "source": [
    "## Compute maturity cohorts"
   ]
  },
  {
   "cell_type": "code",
   "execution_count": 256,
   "id": "ee695f5c",
   "metadata": {
    "ExecuteTime": {
     "end_time": "2022-06-09T16:42:26.791485Z",
     "start_time": "2022-06-09T16:42:26.702737Z"
    }
   },
   "outputs": [
    {
     "name": "stdout",
     "output_type": "stream",
     "text": [
      "user_creation_time   2020-08-26 14:45:01.954000+00:00\n",
      "dtype: datetime64[ns, UTC]\n",
      "user_creation_time   2022-05-13 09:44:46.210000+00:00\n",
      "dtype: datetime64[ns, UTC]\n",
      "client_event_time   2022-01-07 02:56:28.793000+00:00\n",
      "dtype: datetime64[ns, UTC]\n",
      "client_event_time   2022-06-05 23:13:18.926000+00:00\n",
      "dtype: datetime64[ns, UTC]\n"
     ]
    }
   ],
   "source": [
    "print(raw_data[[\"user_creation_time\"]].min())\n",
    "print(raw_data[[\"user_creation_time\"]].max())\n",
    "print(raw_data[[\"client_event_time\"]].min())\n",
    "print(raw_data[[\"client_event_time\"]].max())"
   ]
  },
  {
   "cell_type": "code",
   "execution_count": 257,
   "id": "69fd9e7b",
   "metadata": {
    "ExecuteTime": {
     "end_time": "2022-06-09T16:42:26.882010Z",
     "start_time": "2022-06-09T16:42:26.802063Z"
    }
   },
   "outputs": [],
   "source": [
    "#Create a DataFrame for cochorts\n",
    "cohorts=raw_data[[\"user_id\",\"client_event_time\",\"user_creation_time\",\"id\"]].copy()"
   ]
  },
  {
   "cell_type": "code",
   "execution_count": 258,
   "id": "c9f7ab28",
   "metadata": {
    "ExecuteTime": {
     "end_time": "2022-06-09T16:42:31.638734Z",
     "start_time": "2022-06-09T16:42:26.886449Z"
    }
   },
   "outputs": [],
   "source": [
    "#Map creation_index Year-Month index\n",
    "cohorts[\"creation_index\"]=cohorts[\"user_creation_time\"].map(lambda x: f\"Y{get_year(x)}-W{get_week(x)}\")"
   ]
  },
  {
   "cell_type": "code",
   "execution_count": 259,
   "id": "6f1372f3",
   "metadata": {
    "ExecuteTime": {
     "end_time": "2022-06-09T16:42:45.932010Z",
     "start_time": "2022-06-09T16:42:31.641779Z"
    }
   },
   "outputs": [],
   "source": [
    "# Calculate difference in months\n",
    "        \n",
    "cohorts[\"week_diff\"] = (cohorts[\"client_event_time\"]-cohorts[\"user_creation_time\"]).map(lambda x: int(np.ceil(x.days/7))+1)"
   ]
  },
  {
   "cell_type": "code",
   "execution_count": 280,
   "id": "89386b44",
   "metadata": {
    "ExecuteTime": {
     "end_time": "2022-06-09T17:15:31.050093Z",
     "start_time": "2022-06-09T17:15:30.963512Z"
    }
   },
   "outputs": [
    {
     "data": {
      "text/plain": [
       "array(['Y2020-W35', 'Y2020-W38', 'Y2020-W39', 'Y2020-W40', 'Y2020-W41',\n",
       "       'Y2020-W42', 'Y2020-W43', 'Y2020-W44', 'Y2020-W45', 'Y2020-W46',\n",
       "       'Y2020-W47', 'Y2020-W48', 'Y2020-W49', 'Y2020-W50', 'Y2020-W51',\n",
       "       'Y2020-W52', 'Y2020-W53', 'Y2021-W1', 'Y2021-W10', 'Y2021-W11',\n",
       "       'Y2021-W12', 'Y2021-W13', 'Y2021-W14', 'Y2021-W15', 'Y2021-W16',\n",
       "       'Y2021-W17', 'Y2021-W18', 'Y2021-W19', 'Y2021-W2', 'Y2021-W20',\n",
       "       'Y2021-W21', 'Y2021-W22', 'Y2021-W23', 'Y2021-W24', 'Y2021-W25',\n",
       "       'Y2021-W26', 'Y2021-W27', 'Y2021-W28', 'Y2021-W29', 'Y2021-W3',\n",
       "       'Y2021-W30', 'Y2021-W31', 'Y2021-W32', 'Y2021-W33', 'Y2021-W34',\n",
       "       'Y2021-W35', 'Y2021-W36', 'Y2021-W37', 'Y2021-W38', 'Y2021-W39',\n",
       "       'Y2021-W4', 'Y2021-W40', 'Y2021-W41', 'Y2021-W42', 'Y2021-W43',\n",
       "       'Y2021-W44', 'Y2021-W45', 'Y2021-W46', 'Y2021-W47', 'Y2021-W48',\n",
       "       'Y2021-W49', 'Y2021-W5', 'Y2021-W50', 'Y2021-W51', 'Y2021-W52',\n",
       "       'Y2021-W6', 'Y2021-W7', 'Y2021-W8', 'Y2021-W9', 'Y2022-W1',\n",
       "       'Y2022-W10', 'Y2022-W11', 'Y2022-W12', 'Y2022-W13', 'Y2022-W14',\n",
       "       'Y2022-W15', 'Y2022-W16', 'Y2022-W17', 'Y2022-W18', 'Y2022-W19',\n",
       "       'Y2022-W2', 'Y2022-W3', 'Y2022-W4', 'Y2022-W5', 'Y2022-W6',\n",
       "       'Y2022-W7', 'Y2022-W8', 'Y2022-W9'], dtype=object)"
      ]
     },
     "execution_count": 280,
     "metadata": {},
     "output_type": "execute_result"
    }
   ],
   "source": [
    "a=cohorts[\"creation_index\"].unique()\n",
    "a.sort()\n",
    "a"
   ]
  },
  {
   "cell_type": "code",
   "execution_count": 287,
   "id": "d410cf19",
   "metadata": {
    "ExecuteTime": {
     "end_time": "2022-06-09T17:18:40.239823Z",
     "start_time": "2022-06-09T17:18:40.127112Z"
    }
   },
   "outputs": [
    {
     "data": {
      "text/plain": [
       "1"
      ]
     },
     "execution_count": 287,
     "metadata": {},
     "output_type": "execute_result"
    }
   ],
   "source": [
    "cohorts[cohorts[\"creation_index\"]==\"Y2020-W35\"]."
   ]
  },
  {
   "cell_type": "code",
   "execution_count": 288,
   "id": "789f0d1c",
   "metadata": {
    "ExecuteTime": {
     "end_time": "2022-06-09T17:25:44.046612Z",
     "start_time": "2022-06-09T17:25:38.774108Z"
    }
   },
   "outputs": [
    {
     "data": {
      "image/png": "[encoded data removed]",
      "text/plain": [
       "<Figure size 2160x720 with 2 Axes>"
      ]
     },
     "metadata": {
      "needs_background": "light"
     },
     "output_type": "display_data"
    }
   ],
   "source": [
    "grouping = cohorts.groupby(['creation_index', 'week_diff'])\n",
    "\n",
    "# Count the number of unique values per user_id\n",
    "\n",
    "cohort_data = grouping['user_id'].apply(pd.Series.nunique).reset_index()\n",
    "\n",
    "# Create a pivot\n",
    "\n",
    "cohort_counts = cohort_data.pivot(index='creation_index', columns='week_diff', values='user_id')\n",
    "\n",
    "# Select the first column and store it to cohort_sizes\n",
    "\n",
    "cohort_sizes = cohort_counts.iloc[:,0]\n",
    "\n",
    "# Divide the cohort count by cohort sizes along the rows\n",
    "\n",
    "retention = cohort_counts.divide(cohort_sizes, axis=0)*100\n",
    "                                  \n",
    "\n",
    "plt.figure(figsize=(30,10))\n",
    "\n",
    "# Add a title\n",
    "\n",
    "plt.title('Retention by weekly Cohorts')\n",
    "\n",
    "# Create the heatmap\n",
    "\n",
    "sns.heatmap(data=retentionb,\n",
    "annot = True,\n",
    "cmap = \"Blues\",\n",
    "vmin = 0.0,\n",
    "vmax = list(retention.max().sort_values(ascending = False))[1]+3,\n",
    "fmt = '.1f',\n",
    "linewidth = 0.3,\n",
    "           )\n",
    "plt.show();"
   ]
  },
  {
   "cell_type": "markdown",
   "id": "421c4fcc",
   "metadata": {
    "ExecuteTime": {
     "end_time": "2022-06-08T15:07:42.992451Z",
     "start_time": "2022-06-08T15:07:42.986216Z"
    }
   },
   "source": [
    "### Maturity table FY22"
   ]
  },
  {
   "cell_type": "code",
   "execution_count": null,
   "id": "d365b5c9",
   "metadata": {
    "ExecuteTime": {
     "end_time": "2022-06-09T16:42:47.281688Z",
     "start_time": "2022-06-09T16:42:47.281660Z"
    }
   },
   "outputs": [],
   "source": []
  },
  {
   "cell_type": "markdown",
   "id": "140e44d8",
   "metadata": {
    "ExecuteTime": {
     "end_time": "2022-06-08T15:08:14.099205Z",
     "start_time": "2022-06-08T15:08:14.090710Z"
    }
   },
   "source": [
    "### Maturity table by weeks"
   ]
  },
  {
   "cell_type": "code",
   "execution_count": 291,
   "id": "44c5dfcf",
   "metadata": {
    "ExecuteTime": {
     "end_time": "2022-06-09T17:33:23.763440Z",
     "start_time": "2022-06-09T17:33:23.727569Z"
    }
   },
   "outputs": [],
   "source": [
    "#Create a DataFrame for cochorts\n",
    "cohorts_FY22=raw_data[[\"user_id\",\"client_event_time\",\"user_creation_time\",\"id\"]].copy()"
   ]
  },
  {
   "cell_type": "code",
   "execution_count": 293,
   "id": "f254fb1f",
   "metadata": {
    "ExecuteTime": {
     "end_time": "2022-06-09T17:35:28.338295Z",
     "start_time": "2022-06-09T17:35:20.609519Z"
    }
   },
   "outputs": [],
   "source": [
    "#Map creation_index Year-Month index\n",
    "cohorts_FY22[\"creation_year\"]=cohorts_FY22[\"user_creation_time\"].map(lambda x: get_year(x))\n",
    "cohorts_FY22[\"creation_week\"]=cohorts_FY22[\"user_creation_time\"].map(lambda x: get_week(x))\n",
    "cohorts_FY22=cohorts_FY22[cohorts_FY22[\"creation_year\"]==2022]"
   ]
  },
  {
   "cell_type": "code",
   "execution_count": 303,
   "id": "b4eaea1e",
   "metadata": {
    "ExecuteTime": {
     "end_time": "2022-06-09T20:18:07.524693Z",
     "start_time": "2022-06-09T20:17:59.694720Z"
    }
   },
   "outputs": [
    {
     "data": {
      "text/plain": [
       "1"
      ]
     },
     "execution_count": 303,
     "metadata": {},
     "output_type": "execute_result"
    }
   ],
   "source": [
    "# Calculate difference in months\n",
    "        \n",
    "cohorts_FY22[\"week_diff\"] = (cohorts_FY22[\"client_event_time\"]-cohorts_FY22[\"user_creation_time\"]).map(lambda x: int(np.ceil(x.days/7))+1)"
   ]
  },
  {
   "cell_type": "code",
   "execution_count": 311,
   "id": "7239dcb1",
   "metadata": {
    "ExecuteTime": {
     "end_time": "2022-06-09T20:38:46.006422Z",
     "start_time": "2022-06-09T20:38:45.995646Z"
    }
   },
   "outputs": [
    {
     "data": {
      "text/plain": [
       "<bound method IndexOpsMixin.nunique of 0          71150\n",
       "1          71150\n",
       "4          70756\n",
       "5          70756\n",
       "6          70756\n",
       "           ...  \n",
       "1320224    70756\n",
       "1320225    70756\n",
       "1320226    70756\n",
       "1320227    70756\n",
       "1320228    70756\n",
       "Name: user_id, Length: 755771, dtype: int64>"
      ]
     },
     "execution_count": 311,
     "metadata": {},
     "output_type": "execute_result"
    }
   ],
   "source": [
    "cohorts_FY22[\"user_id\"].nunique"
   ]
  },
  {
   "cell_type": "code",
   "execution_count": 327,
   "id": "1efa7bec",
   "metadata": {
    "ExecuteTime": {
     "end_time": "2022-06-09T21:18:41.954889Z",
     "start_time": "2022-06-09T21:18:40.464645Z"
    }
   },
   "outputs": [
    {
     "data": {
      "image/png": "[encoded data removed]",
      "text/plain": [
       "<Figure size 2160x720 with 2 Axes>"
      ]
     },
     "metadata": {
      "needs_background": "light"
     },
     "output_type": "display_data"
    }
   ],
   "source": [
    "grouping = cohorts_FY22.groupby(['creation_week', 'week_diff'])\n",
    "\n",
    "# Count the number of unique values per user_id\n",
    "\n",
    "\n",
    "cohort_data = grouping['user_id'].apply(pd.Series.nunique).reset_index()\n",
    "\n",
    "# Create a pivot\n",
    "\n",
    "cohort_counts = cohort_data.pivot(index='creation_week', columns='week_diff', values='user_id')\n",
    "\n",
    "# Select the first column and store it to cohort_sizes\n",
    "\n",
    "#cohort_sizes = cohort_counts.iloc[:,0]\n",
    "grouping2 = cohorts_FY22.groupby(['creation_week'])\n",
    "cohort_sizes=grouping2[\"user_id\"].apply(pd.Series.nunique).reset_index()[\"user_id\"]\n",
    "cohorts_list=cohorts_FY22[\"creation_week\"].unique()\n",
    "cohorts_list.sort()\n",
    "# Divide the cohort count by cohort sizes along the rows\n",
    "\n",
    "retention = cohort_counts.divide(cohort_sizes, axis=0)*100\n",
    "                                 \n",
    "\n",
    "plt.figure(figsize=(30,10))\n",
    "\n",
    "# Add a title\n",
    "\n",
    "plt.title('Retention by weekly Cohorts')\n",
    "\n",
    "# Create the heatmap\n",
    "\n",
    "sns.heatmap(data=retention,\n",
    "annot = True,\n",
    "cmap = \"Blues\",\n",
    "vmin = 0.0,\n",
    "vmax = list(retention.max().sort_values(ascending = False))[1]+3,\n",
    "fmt = '.1f',\n",
    "linewidth = 0.3,\n",
    " yticklabels=cohorts_list)\n",
    "plt.show();"
   ]
  },
  {
   "cell_type": "code",
   "execution_count": null,
   "id": "ad6d411d",
   "metadata": {},
   "outputs": [],
   "source": []
  },
  {
   "cell_type": "code",
   "execution_count": null,
   "id": "66dbf701",
   "metadata": {},
   "outputs": [],
   "source": []
  },
  {
   "cell_type": "code",
   "execution_count": null,
   "id": "848eeca9",
   "metadata": {},
   "outputs": [],
   "source": []
  }
 ],
 "metadata": {
  "kernelspec": {
   "display_name": "Python 3 (ipykernel)",
   "language": "python",
   "name": "python3"
  },
  "language_info": {
   "codemirror_mode": {
    "name": "ipython",
    "version": 3
   },
   "file_extension": ".py",
   "mimetype": "text/x-python",
   "name": "python",
   "nbconvert_exporter": "python",
   "pygments_lexer": "ipython3",
   "version": "3.8.13"
  },
  "toc": {
   "base_numbering": 1,
   "nav_menu": {},
   "number_sections": true,
   "sideBar": true,
   "skip_h1_title": false,
   "title_cell": "Table of Contents",
   "title_sidebar": "Contents",
   "toc_cell": false,
   "toc_position": {},
   "toc_section_display": true,
   "toc_window_display": false
  }
 },
 "nbformat": 4,
 "nbformat_minor": 5
}
