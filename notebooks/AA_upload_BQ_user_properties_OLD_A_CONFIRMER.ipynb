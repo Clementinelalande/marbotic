{
 "cells": [
  {
   "cell_type": "code",
   "execution_count": 1,
   "id": "6aa0e4ba",
   "metadata": {
    "ExecuteTime": {
     "end_time": "2022-06-09T12:48:49.594727Z",
     "start_time": "2022-06-09T12:48:49.135807Z"
    }
   },
   "outputs": [],
   "source": [
    "import pandas as pd\n",
    "import json\n",
    "import numpy as np\n",
    "from google.cloud import bigquery"
   ]
  },
  {
   "cell_type": "code",
   "execution_count": 2,
   "id": "19e7b577",
   "metadata": {
    "ExecuteTime": {
     "end_time": "2022-06-09T12:48:49.597975Z",
     "start_time": "2022-06-09T12:48:49.596288Z"
    }
   },
   "outputs": [],
   "source": [
    "#conversion du fichier json en json line delimiter pour utiliser pd.read_json avec une chunk size. (Nombre de ligne processée en une fois)\n",
    "#!cat ../raw_data/export_23-5_minified.json | jq -c '.[]' > ../raw_data/export_converted_2.json"
   ]
  },
  {
   "cell_type": "code",
   "execution_count": 3,
   "id": "30e9d77a",
   "metadata": {
    "ExecuteTime": {
     "end_time": "2022-06-09T12:48:49.908707Z",
     "start_time": "2022-06-09T12:48:49.902348Z"
    }
   },
   "outputs": [],
   "source": [
    "#Nombre de lignes totales dans le JSON : 1320229"
   ]
  },
  {
   "cell_type": "code",
   "execution_count": 4,
   "id": "c15a5d18",
   "metadata": {
    "ExecuteTime": {
     "end_time": "2022-06-09T12:48:50.346748Z",
     "start_time": "2022-06-09T12:48:50.339904Z"
    }
   },
   "outputs": [],
   "source": [
    "#Localisation du projet name et table_id sur gcp\n",
    "project=\"marbotic\"\n",
    "table_id = \"marbotic_dataset.user_properties\""
   ]
  },
  {
   "cell_type": "code",
   "execution_count": 5,
   "id": "1565e601",
   "metadata": {
    "ExecuteTime": {
     "end_time": "2022-06-09T12:48:50.831859Z",
     "start_time": "2022-06-09T12:48:50.820597Z"
    }
   },
   "outputs": [],
   "source": [
    "#intégration des credentials \n",
    "from google.oauth2 import service_account\n",
    "\n",
    "key_path = \"/Users/antonin/code/AntoninAnq/gcp/marbotic-7d02fac30bd8.json\"\n",
    "\n",
    "credentials = service_account.Credentials.from_service_account_file(\n",
    "    key_path, scopes=[\"https://www.googleapis.com/auth/cloud-platform\"],\n",
    ")"
   ]
  },
  {
   "cell_type": "code",
   "execution_count": 6,
   "id": "21c273f4",
   "metadata": {
    "ExecuteTime": {
     "end_time": "2022-06-09T12:48:51.891407Z",
     "start_time": "2022-06-09T12:48:51.621284Z"
    }
   },
   "outputs": [
    {
     "name": "stderr",
     "output_type": "stream",
     "text": [
      "/var/folders/c7/kdqvz76x679f28lhd235r_v40000gn/T/ipykernel_87728/2837118331.py:2: DtypeWarning: Columns (8) have mixed types. Specify dtype option on import or set low_memory=False.\n",
      "  tmp = pd.read_csv('../raw_data/user_properties.csv')\n"
     ]
    }
   ],
   "source": [
    "# Observation de la colonne Games, on a des listes de jeu. Sur le chunk de 100K on a 158 combinaisons différentes\n",
    "tmp = pd.read_csv('../raw_data/user_properties.csv')\n",
    "#tmp\n",
    "#pd.DataFrame(tmp.Games.to_list())\n",
    "#.event_id.value_counts()\n",
    "#.Games.value_counts().head(20)"
   ]
  },
  {
   "cell_type": "code",
   "execution_count": 7,
   "id": "5c1f180b",
   "metadata": {
    "ExecuteTime": {
     "end_time": "2022-06-09T12:48:52.694197Z",
     "start_time": "2022-06-09T12:48:52.677779Z"
    }
   },
   "outputs": [],
   "source": [
    "job_config = bigquery.LoadJobConfig(\n",
    "    schema = [\n",
    "    bigquery.SchemaField(\"Newsletter\", \"STRING\"),\n",
    "    #bigquery.SchemaField(\"Products\", \"STRING\"),\n",
    "    #bigquery.SchemaField(\"Pieces\", \"STRING\"),\n",
    "    bigquery.SchemaField(\"Type\", \"STRING\"),\n",
    "    bigquery.SchemaField(\"Country\", \"STRING\"),\n",
    "    bigquery.SchemaField(\"Language\", \"STRING\"),\n",
    "    bigquery.SchemaField(\"ProfileType2\", \"STRING\"),\n",
    "    bigquery.SchemaField(\"ReceiveNewsletter\", \"STRING\"),\n",
    "    bigquery.SchemaField(\"LoggedIn\", \"STRING\"),\n",
    "    bigquery.SchemaField(\"event_id\", \"INT64\"),\n",
    "    bigquery.SchemaField(\n",
    "        \"Games\",\n",
    "        \"RECORD\",\n",
    "        mode=\"REPEATED\",\n",
    "        fields=[\n",
    "            bigquery.SchemaField(\"Marbotic\", \"STRING\", mode=\"NULLABLE\"),\n",
    "            bigquery.SchemaField(\"Smart Shapes\", \"STRING\", mode=\"NULLABLE\"),\n",
    "            bigquery.SchemaField(\"Alphamonster\", \"STRING\", mode=\"NULLABLE\"),\n",
    "            bigquery.SchemaField(\"10 Fingers\", \"STRING\", mode=\"NULLABLE\"),\n",
    "            bigquery.SchemaField(\"Up To 100\", \"STRING\", mode=\"NULLABLE\"),\n",
    "            bigquery.SchemaField(\"Lil Reader\", \"STRING\", mode=\"NULLABLE\"),\n",
    "            bigquery.SchemaField(\"More Or Less\", \"STRING\", mode=\"NULLABLE\"),\n",
    "            bigquery.SchemaField(\"Vocabubble\", \"STRING\", mode=\"NULLABLE\"),\n",
    "            bigquery.SchemaField(\"Marbotic Numbers\", \"STRING\", mode=\"NULLABLE\"),\n",
    "            bigquery.SchemaField(\"Bla Bla Box\", \"STRING\", mode=\"NULLABLE\"),\n",
    "            bigquery.SchemaField(\"Marbotic Letters\", \"STRING\", mode=\"NULLABLE\"),\n",
    "        ],\n",
    "    ),\n",
    "])"
   ]
  },
  {
   "cell_type": "code",
   "execution_count": 11,
   "id": "ae0f1dbc",
   "metadata": {
    "ExecuteTime": {
     "end_time": "2022-06-09T12:57:57.423876Z",
     "start_time": "2022-06-09T12:56:59.340076Z"
    }
   },
   "outputs": [
    {
     "name": "stdout",
     "output_type": "stream",
     "text": [
      "Loaded 500000 rows and 40 columns to marbotic_dataset.user_properties\n",
      "Loaded 600000 rows and 40 columns to marbotic_dataset.user_properties\n",
      "Loaded 700000 rows and 40 columns to marbotic_dataset.user_properties\n",
      "Loaded 800000 rows and 40 columns to marbotic_dataset.user_properties\n"
     ]
    },
    {
     "ename": "ArrowTypeError",
     "evalue": "Expected a string or bytes dtype, got int64",
     "output_type": "error",
     "traceback": [
      "\u001b[0;31m---------------------------------------------------------------------------\u001b[0m",
      "\u001b[0;31mArrowTypeError\u001b[0m                            Traceback (most recent call last)",
      "Input \u001b[0;32mIn [11]\u001b[0m, in \u001b[0;36m<cell line: 9>\u001b[0;34m()\u001b[0m\n\u001b[1;32m     43\u001b[0m ep[\u001b[38;5;124m'\u001b[39m\u001b[38;5;124muser_id\u001b[39m\u001b[38;5;124m'\u001b[39m]\u001b[38;5;241m=\u001b[39mc[\u001b[38;5;124m'\u001b[39m\u001b[38;5;124muser_id\u001b[39m\u001b[38;5;124m'\u001b[39m]\u001b[38;5;241m.\u001b[39mcopy()\n\u001b[1;32m     45\u001b[0m ep[\u001b[38;5;124m'\u001b[39m\u001b[38;5;124mid\u001b[39m\u001b[38;5;124m'\u001b[39m] \u001b[38;5;241m=\u001b[39m (i\u001b[38;5;241m*\u001b[39mCHUNKSIZE) \u001b[38;5;241m+\u001b[39m index_init\n\u001b[0;32m---> 46\u001b[0m job \u001b[38;5;241m=\u001b[39m \u001b[43mclient\u001b[49m\u001b[38;5;241;43m.\u001b[39;49m\u001b[43mload_table_from_dataframe\u001b[49m\u001b[43m(\u001b[49m\u001b[43mep\u001b[49m\u001b[43m,\u001b[49m\u001b[43m \u001b[49m\u001b[43mtable_id\u001b[49m\u001b[43m)\u001b[49m\n\u001b[1;32m     47\u001b[0m job\u001b[38;5;241m.\u001b[39mresult()  \u001b[38;5;66;03m# Wait for the job to complete.\u001b[39;00m\n\u001b[1;32m     48\u001b[0m table \u001b[38;5;241m=\u001b[39m client\u001b[38;5;241m.\u001b[39mget_table(table_id)  \u001b[38;5;66;03m# Make an API request.\u001b[39;00m\n",
      "File \u001b[0;32m~/.pyenv/versions/3.8.13/envs/marbotic/lib/python3.8/site-packages/google/cloud/bigquery/client.py:2670\u001b[0m, in \u001b[0;36mClient.load_table_from_dataframe\u001b[0;34m(self, dataframe, destination, num_retries, job_id, job_id_prefix, location, project, job_config, parquet_compression, timeout)\u001b[0m\n\u001b[1;32m   2667\u001b[0m     \u001b[38;5;28;01mif\u001b[39;00m parquet_compression \u001b[38;5;241m==\u001b[39m \u001b[38;5;124m\"\u001b[39m\u001b[38;5;124msnappy\u001b[39m\u001b[38;5;124m\"\u001b[39m:  \u001b[38;5;66;03m# adjust the default value\u001b[39;00m\n\u001b[1;32m   2668\u001b[0m         parquet_compression \u001b[38;5;241m=\u001b[39m parquet_compression\u001b[38;5;241m.\u001b[39mupper()\n\u001b[0;32m-> 2670\u001b[0m     \u001b[43m_pandas_helpers\u001b[49m\u001b[38;5;241;43m.\u001b[39;49m\u001b[43mdataframe_to_parquet\u001b[49m\u001b[43m(\u001b[49m\n\u001b[1;32m   2671\u001b[0m \u001b[43m        \u001b[49m\u001b[43mdataframe\u001b[49m\u001b[43m,\u001b[49m\n\u001b[1;32m   2672\u001b[0m \u001b[43m        \u001b[49m\u001b[43mjob_config\u001b[49m\u001b[38;5;241;43m.\u001b[39;49m\u001b[43mschema\u001b[49m\u001b[43m,\u001b[49m\n\u001b[1;32m   2673\u001b[0m \u001b[43m        \u001b[49m\u001b[43mtmppath\u001b[49m\u001b[43m,\u001b[49m\n\u001b[1;32m   2674\u001b[0m \u001b[43m        \u001b[49m\u001b[43mparquet_compression\u001b[49m\u001b[38;5;241;43m=\u001b[39;49m\u001b[43mparquet_compression\u001b[49m\u001b[43m,\u001b[49m\n\u001b[1;32m   2675\u001b[0m \u001b[43m        \u001b[49m\u001b[43mparquet_use_compliant_nested_type\u001b[49m\u001b[38;5;241;43m=\u001b[39;49m\u001b[38;5;28;43;01mTrue\u001b[39;49;00m\u001b[43m,\u001b[49m\n\u001b[1;32m   2676\u001b[0m \u001b[43m    \u001b[49m\u001b[43m)\u001b[49m\n\u001b[1;32m   2677\u001b[0m \u001b[38;5;28;01melse\u001b[39;00m:\n\u001b[1;32m   2678\u001b[0m     dataframe\u001b[38;5;241m.\u001b[39mto_parquet(\n\u001b[1;32m   2679\u001b[0m         tmppath,\n\u001b[1;32m   2680\u001b[0m         engine\u001b[38;5;241m=\u001b[39m\u001b[38;5;124m\"\u001b[39m\u001b[38;5;124mpyarrow\u001b[39m\u001b[38;5;124m\"\u001b[39m,\n\u001b[0;32m   (...)\u001b[0m\n\u001b[1;32m   2686\u001b[0m         ),\n\u001b[1;32m   2687\u001b[0m     )\n",
      "File \u001b[0;32m~/.pyenv/versions/3.8.13/envs/marbotic/lib/python3.8/site-packages/google/cloud/bigquery/_pandas_helpers.py:586\u001b[0m, in \u001b[0;36mdataframe_to_parquet\u001b[0;34m(dataframe, bq_schema, filepath, parquet_compression, parquet_use_compliant_nested_type)\u001b[0m\n\u001b[1;32m    579\u001b[0m kwargs \u001b[38;5;241m=\u001b[39m (\n\u001b[1;32m    580\u001b[0m     {\u001b[38;5;124m\"\u001b[39m\u001b[38;5;124muse_compliant_nested_type\u001b[39m\u001b[38;5;124m\"\u001b[39m: parquet_use_compliant_nested_type}\n\u001b[1;32m    581\u001b[0m     \u001b[38;5;28;01mif\u001b[39;00m _helpers\u001b[38;5;241m.\u001b[39mPYARROW_VERSIONS\u001b[38;5;241m.\u001b[39muse_compliant_nested_type\n\u001b[1;32m    582\u001b[0m     \u001b[38;5;28;01melse\u001b[39;00m {}\n\u001b[1;32m    583\u001b[0m )\n\u001b[1;32m    585\u001b[0m bq_schema \u001b[38;5;241m=\u001b[39m schema\u001b[38;5;241m.\u001b[39m_to_schema_fields(bq_schema)\n\u001b[0;32m--> 586\u001b[0m arrow_table \u001b[38;5;241m=\u001b[39m \u001b[43mdataframe_to_arrow\u001b[49m\u001b[43m(\u001b[49m\u001b[43mdataframe\u001b[49m\u001b[43m,\u001b[49m\u001b[43m \u001b[49m\u001b[43mbq_schema\u001b[49m\u001b[43m)\u001b[49m\n\u001b[1;32m    587\u001b[0m pyarrow\u001b[38;5;241m.\u001b[39mparquet\u001b[38;5;241m.\u001b[39mwrite_table(\n\u001b[1;32m    588\u001b[0m     arrow_table,\n\u001b[1;32m    589\u001b[0m     filepath,\n\u001b[1;32m    590\u001b[0m     compression\u001b[38;5;241m=\u001b[39mparquet_compression,\n\u001b[1;32m    591\u001b[0m     \u001b[38;5;241m*\u001b[39m\u001b[38;5;241m*\u001b[39mkwargs,\n\u001b[1;32m    592\u001b[0m )\n",
      "File \u001b[0;32m~/.pyenv/versions/3.8.13/envs/marbotic/lib/python3.8/site-packages/google/cloud/bigquery/_pandas_helpers.py:529\u001b[0m, in \u001b[0;36mdataframe_to_arrow\u001b[0;34m(dataframe, bq_schema)\u001b[0m\n\u001b[1;32m    526\u001b[0m \u001b[38;5;28;01mfor\u001b[39;00m bq_field \u001b[38;5;129;01min\u001b[39;00m bq_schema:\n\u001b[1;32m    527\u001b[0m     arrow_names\u001b[38;5;241m.\u001b[39mappend(bq_field\u001b[38;5;241m.\u001b[39mname)\n\u001b[1;32m    528\u001b[0m     arrow_arrays\u001b[38;5;241m.\u001b[39mappend(\n\u001b[0;32m--> 529\u001b[0m         \u001b[43mbq_to_arrow_array\u001b[49m\u001b[43m(\u001b[49m\u001b[43mget_column_or_index\u001b[49m\u001b[43m(\u001b[49m\u001b[43mdataframe\u001b[49m\u001b[43m,\u001b[49m\u001b[43m \u001b[49m\u001b[43mbq_field\u001b[49m\u001b[38;5;241;43m.\u001b[39;49m\u001b[43mname\u001b[49m\u001b[43m)\u001b[49m\u001b[43m,\u001b[49m\u001b[43m \u001b[49m\u001b[43mbq_field\u001b[49m\u001b[43m)\u001b[49m\n\u001b[1;32m    530\u001b[0m     )\n\u001b[1;32m    531\u001b[0m     arrow_fields\u001b[38;5;241m.\u001b[39mappend(bq_to_arrow_field(bq_field, arrow_arrays[\u001b[38;5;241m-\u001b[39m\u001b[38;5;241m1\u001b[39m]\u001b[38;5;241m.\u001b[39mtype))\n\u001b[1;32m    533\u001b[0m \u001b[38;5;28;01mif\u001b[39;00m \u001b[38;5;28mall\u001b[39m((field \u001b[38;5;129;01mis\u001b[39;00m \u001b[38;5;129;01mnot\u001b[39;00m \u001b[38;5;28;01mNone\u001b[39;00m \u001b[38;5;28;01mfor\u001b[39;00m field \u001b[38;5;129;01min\u001b[39;00m arrow_fields)):\n",
      "File \u001b[0;32m~/.pyenv/versions/3.8.13/envs/marbotic/lib/python3.8/site-packages/google/cloud/bigquery/_pandas_helpers.py:290\u001b[0m, in \u001b[0;36mbq_to_arrow_array\u001b[0;34m(series, bq_field)\u001b[0m\n\u001b[1;32m    288\u001b[0m \u001b[38;5;28;01mif\u001b[39;00m field_type_upper \u001b[38;5;129;01min\u001b[39;00m schema\u001b[38;5;241m.\u001b[39m_STRUCT_TYPES:\n\u001b[1;32m    289\u001b[0m     \u001b[38;5;28;01mreturn\u001b[39;00m pyarrow\u001b[38;5;241m.\u001b[39mStructArray\u001b[38;5;241m.\u001b[39mfrom_pandas(series, \u001b[38;5;28mtype\u001b[39m\u001b[38;5;241m=\u001b[39marrow_type)\n\u001b[0;32m--> 290\u001b[0m \u001b[38;5;28;01mreturn\u001b[39;00m \u001b[43mpyarrow\u001b[49m\u001b[38;5;241;43m.\u001b[39;49m\u001b[43mArray\u001b[49m\u001b[38;5;241;43m.\u001b[39;49m\u001b[43mfrom_pandas\u001b[49m\u001b[43m(\u001b[49m\u001b[43mseries\u001b[49m\u001b[43m,\u001b[49m\u001b[43m \u001b[49m\u001b[38;5;28;43mtype\u001b[39;49m\u001b[38;5;241;43m=\u001b[39;49m\u001b[43marrow_type\u001b[49m\u001b[43m)\u001b[49m\n",
      "File \u001b[0;32m~/.pyenv/versions/3.8.13/envs/marbotic/lib/python3.8/site-packages/pyarrow/array.pxi:1033\u001b[0m, in \u001b[0;36mpyarrow.lib.Array.from_pandas\u001b[0;34m()\u001b[0m\n",
      "File \u001b[0;32m~/.pyenv/versions/3.8.13/envs/marbotic/lib/python3.8/site-packages/pyarrow/array.pxi:312\u001b[0m, in \u001b[0;36mpyarrow.lib.array\u001b[0;34m()\u001b[0m\n",
      "File \u001b[0;32m~/.pyenv/versions/3.8.13/envs/marbotic/lib/python3.8/site-packages/pyarrow/array.pxi:83\u001b[0m, in \u001b[0;36mpyarrow.lib._ndarray_to_array\u001b[0;34m()\u001b[0m\n",
      "File \u001b[0;32m~/.pyenv/versions/3.8.13/envs/marbotic/lib/python3.8/site-packages/pyarrow/error.pxi:123\u001b[0m, in \u001b[0;36mpyarrow.lib.check_status\u001b[0;34m()\u001b[0m\n",
      "\u001b[0;31mArrowTypeError\u001b[0m: Expected a string or bytes dtype, got int64"
     ]
    }
   ],
   "source": [
    "CHUNKSIZE = 100000\n",
    "table_id = \"marbotic_dataset.user_properties\"\n",
    "\n",
    "file_path = '../raw_data/export_converted_2.json'\n",
    "df = pd.read_json(file_path, lines=True, chunksize=CHUNKSIZE) #Chunk size pour avoir 14 chunk\n",
    "\n",
    "client = bigquery.Client(project,credentials)\n",
    "\n",
    "for i,c in enumerate(df):\n",
    "    index_init = np.linspace(1,len(c),len(c),dtype='int32')\n",
    "    ep=pd.DataFrame()\n",
    "    c.reset_index(inplace=True)\n",
    "    ep=pd.DataFrame(c[\"user_properties\"].to_list()).copy()\n",
    "\n",
    "    for col_concat in ['Products', 'Pieces', 'Games']:\n",
    "        cat = ep[f'{col_concat}'].copy().map(lambda x: \", \".join(x)\n",
    "                                            if isinstance(x, list) else x)\n",
    "        names = list(\n",
    "            set([\n",
    "                x.strip().strip(\"'\").strip(\"['\")\n",
    "                for x in ', '.join(', '.join(', '.join(\n",
    "                    list(set([str(x) for x in cat]))).split('\\n')).split(\n",
    "                        \"' '\")).split(',')\n",
    "            ]))\n",
    "        names_transf = [\n",
    "            col_concat + '_' + x.replace(' ', '_') for x in names\n",
    "            if x != 'nan' and x != ''\n",
    "        ]\n",
    "        names = [x for x in names if x != 'nan' and x != '']\n",
    "        for ind, name in enumerate(names_transf):\n",
    "\n",
    "            ep[f'{name}'] = ep[f'{col_concat}'].map(\n",
    "                lambda x: 1 if isinstance(x, str) and f'{names[ind]}' in x else\n",
    "                (1 if isinstance(x, list) and\n",
    "                 len([n for n in x if f'{names[ind]}' in n]) > 0\n",
    "                 else 0))\n",
    "            #ep['test']=ep[f'{col_concat}'].str.replace('[^\\w\\s\\d]', '', regex=True)\n",
    "\n",
    "    ep.drop(['Products', 'Pieces', 'Games'], axis=1, inplace=True)\n",
    "    ep['event_id']=c[\"event_id\"].copy()\n",
    "    ep['client_event_time']=c['client_event_time'].copy()\n",
    "    ep['user_creation_time']=c['user_creation_time'].copy()\n",
    "    ep['user_id']=c['user_id'].copy()\n",
    "    ep['user_id']=ep['user_id'].astype(str)\n",
    "\n",
    "    ep['id'] = (i*CHUNKSIZE) + index_init\n",
    "    job = client.load_table_from_dataframe(ep, table_id)\n",
    "    job.result()  # Wait for the job to complete.\n",
    "    table = client.get_table(table_id)  # Make an API request.\n",
    "    print(\n",
    "        \"Loaded {} rows and {} columns to {}\".format(\n",
    "            table.num_rows, len(table.schema), table_id\n",
    "        )\n",
    "        )"
   ]
  },
  {
   "cell_type": "code",
   "execution_count": null,
   "id": "be7b3c71",
   "metadata": {},
   "outputs": [],
   "source": [
    "#colonne à ajouter à la main : Products_Sensory_kit en entier"
   ]
  }
 ],
 "metadata": {
  "kernelspec": {
   "display_name": "Python 3 (ipykernel)",
   "language": "python",
   "name": "python3"
  },
  "language_info": {
   "codemirror_mode": {
    "name": "ipython",
    "version": 3
   },
   "file_extension": ".py",
   "mimetype": "text/x-python",
   "name": "python",
   "nbconvert_exporter": "python",
   "pygments_lexer": "ipython3",
   "version": "3.8.13"
  },
  "toc": {
   "base_numbering": 1,
   "nav_menu": {},
   "number_sections": true,
   "sideBar": true,
   "skip_h1_title": false,
   "title_cell": "Table of Contents",
   "title_sidebar": "Contents",
   "toc_cell": false,
   "toc_position": {},
   "toc_section_display": true,
   "toc_window_display": false
  }
 },
 "nbformat": 4,
 "nbformat_minor": 5
}
