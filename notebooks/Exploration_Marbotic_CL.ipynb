{
 "cells": [
  {
   "cell_type": "code",
   "execution_count": 1,
   "id": "c291bc0e",
   "metadata": {},
   "outputs": [],
   "source": [
    "import pandas as pd\n",
    "import naya\n",
    "import json\n"
   ]
  },
  {
   "cell_type": "code",
   "execution_count": 2,
   "id": "3ae81a1d",
   "metadata": {},
   "outputs": [],
   "source": [
    "fp = open('../raw_data/export_23-5_minified.json', 'r')\n",
    "\n",
    "messages = naya.stream_array(naya.tokenize(fp))\n"
   ]
  },
  {
   "cell_type": "code",
   "execution_count": 48,
   "id": "b23205c0",
   "metadata": {},
   "outputs": [],
   "source": [
    "sample = []\n",
    "for i in range(100):\n",
    "    temp = next(messages)\n",
    "    sample.append(temp)\n",
    "    \n"
   ]
  },
  {
   "cell_type": "code",
   "execution_count": 49,
   "id": "9dee0da3",
   "metadata": {},
   "outputs": [
    {
     "data": {
      "text/plain": [
       "'device_model'"
      ]
     },
     "execution_count": 49,
     "metadata": {},
     "output_type": "execute_result"
    }
   ],
   "source": [
    "keys_1 = ['city', 'client_event_time', 'country', 'device_model', 'event_id', 'event_type', 'is_attribution_event', 'language', 'os_version', 'region', 'session_id', 'start_version', 'user_creation_time', 'user_id']\n",
    "\n",
    "keys_1[3]\n",
    "\n"
   ]
  },
  {
   "cell_type": "code",
   "execution_count": 60,
   "id": "1e646fdc",
   "metadata": {},
   "outputs": [],
   "source": [
    "json_1 = []\n",
    "for i in range(len(sample)):\n",
    "    dico = {}\n",
    "    for key in keys_1:\n",
    "        dico[key] = sample[i][key]\n",
    "    json_1.append(dico)\n",
    "    \n",
    "    "
   ]
  },
  {
   "cell_type": "code",
   "execution_count": 61,
   "id": "cf5c1698",
   "metadata": {},
   "outputs": [],
   "source": [
    "with open('../marbotic/data/event_test_100.json', 'w') as f:\n",
    "    json.dump(json_1, f, indent=None)    \n",
    "\n",
    "    "
   ]
  },
  {
   "cell_type": "code",
   "execution_count": 62,
   "id": "484d37ef",
   "metadata": {},
   "outputs": [],
   "source": [
    "!cat ../marbotic/data/event_test_100.json | jq -c '.[]' > ../marbotic/data/event_test_100_f.json\n",
    "\n",
    "\n",
    "\n"
   ]
  },
  {
   "cell_type": "code",
   "execution_count": 63,
   "id": "cbe0a613",
   "metadata": {},
   "outputs": [
    {
     "name": "stdout",
     "output_type": "stream",
     "text": [
      "event_test_100_f.json  event_test_10_f.json  event_test_1.json\r\n",
      "event_test_100.json    event_test_10.json\r\n"
     ]
    }
   ],
   "source": [
    "!ls ../marbotic/data\n",
    "\n",
    "\n"
   ]
  },
  {
   "cell_type": "code",
   "execution_count": 65,
   "id": "90c7fd5a",
   "metadata": {},
   "outputs": [
    {
     "name": "stdout",
     "output_type": "stream",
     "text": [
      "Upload complete.\n",
      "Waiting on bqjob_r233138484ae16c8_000001813e9d2462_1 ... (1s) Current status: DONE   \n"
     ]
    }
   ],
   "source": [
    "!bq load --autodetect --noreplace --source_format=NEWLINE_DELIMITED_JSON marbotic_dataset.event_properties ../marbotic/data/event_test_100_f.json\n"
   ]
  },
  {
   "cell_type": "code",
   "execution_count": null,
   "id": "4c28e6ff",
   "metadata": {},
   "outputs": [],
   "source": [
    "!nano ../marbotic/data/even_test_2.json\n"
   ]
  },
  {
   "cell_type": "code",
   "execution_count": 18,
   "id": "ded964fd",
   "metadata": {},
   "outputs": [
    {
     "name": "stdout",
     "output_type": "stream",
     "text": [
      "Table marbotic:marbotic_dataset.event_test\r\n",
      "\r\n",
      "   Last modified                 Schema                Total Rows   Total Bytes   Expiration   Time Partitioning   Clustered Fields   Labels  \r\n",
      " ----------------- ---------------------------------- ------------ ------------- ------------ ------------------- ------------------ -------- \r\n",
      "  07 Jun 16:10:37   |- user_id: integer                1            129                                                                       \r\n",
      "                    |- start_version: string                                                                                                  \r\n",
      "                    |- os_version: float                                                                                                      \r\n",
      "                    |- client_event_time: timestamp                                                                                           \r\n",
      "                    |- language: string                                                                                                       \r\n",
      "                    |- event_id: integer                                                                                                      \r\n",
      "                    |- session_id: integer                                                                                                    \r\n",
      "                    |- region: string                                                                                                         \r\n",
      "                    |- is_attribution_event: boolean                                                                                          \r\n",
      "                    |- user_creation_time: timestamp                                                                                          \r\n",
      "                    |- device_model: string                                                                                                   \r\n",
      "                    |- event_type: string                                                                                                     \r\n",
      "                    |- country: string                                                                                                        \r\n",
      "                    |- city: string                                                                                                           \r\n",
      "\r\n"
     ]
    }
   ],
   "source": [
    "!bq show marbotic_dataset.event_test\n",
    "\n"
   ]
  }
 ],
 "metadata": {
  "kernelspec": {
   "display_name": "Python 3 (ipykernel)",
   "language": "python",
   "name": "python3"
  },
  "language_info": {
   "codemirror_mode": {
    "name": "ipython",
    "version": 3
   },
   "file_extension": ".py",
   "mimetype": "text/x-python",
   "name": "python",
   "nbconvert_exporter": "python",
   "pygments_lexer": "ipython3",
   "version": "3.8.12"
  },
  "toc": {
   "base_numbering": 1,
   "nav_menu": {},
   "number_sections": true,
   "sideBar": true,
   "skip_h1_title": false,
   "title_cell": "Table of Contents",
   "title_sidebar": "Contents",
   "toc_cell": false,
   "toc_position": {},
   "toc_section_display": true,
   "toc_window_display": false
  }
 },
 "nbformat": 4,
 "nbformat_minor": 5
}
