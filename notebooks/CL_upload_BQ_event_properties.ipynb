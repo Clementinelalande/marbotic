{
 "cells": [
  {
   "cell_type": "code",
   "execution_count": 66,
   "id": "0443f92f",
   "metadata": {},
   "outputs": [],
   "source": [
    "import pandas as pd\n",
    "import naya\n",
    "import json\n",
    "\n"
   ]
  },
  {
   "cell_type": "code",
   "execution_count": 67,
   "id": "2e60bcdf",
   "metadata": {},
   "outputs": [],
   "source": [
    "fp = open('../raw_data/export_23-5_minified.json', 'r')\n",
    "\n",
    "messages = naya.stream_array(naya.tokenize(fp))\n",
    "\n"
   ]
  },
  {
   "cell_type": "code",
   "execution_count": 68,
   "id": "442e1004",
   "metadata": {},
   "outputs": [],
   "source": [
    "#extract 100 lines\n",
    "sample = []\n",
    "for i in range(500):\n",
    "    temp = next(messages)\n",
    "    sample.append(temp)\n",
    "    "
   ]
  },
  {
   "cell_type": "code",
   "execution_count": 69,
   "id": "aab2143f",
   "metadata": {},
   "outputs": [
    {
     "data": {
      "text/plain": [
       "'device_model'"
      ]
     },
     "execution_count": 69,
     "metadata": {},
     "output_type": "execute_result"
    }
   ],
   "source": [
    "keys_1 = ['city', 'client_event_time', 'country', 'device_model', 'event_id', 'event_type', 'is_attribution_event', 'language', 'os_version', 'region', 'session_id', 'start_version', 'user_creation_time', 'user_id']\n",
    "\n",
    "keys_1[3]\n",
    "\n",
    "\n"
   ]
  },
  {
   "cell_type": "code",
   "execution_count": 70,
   "id": "922d6903",
   "metadata": {},
   "outputs": [],
   "source": [
    "#prepare json file : a list of dicts\n",
    "json_1 = []\n",
    "for i in range(len(sample)):\n",
    "    dico = {}\n",
    "    for key in keys_1:\n",
    "        dico[key] = sample[i][key]\n",
    "    json_1.append(dico)\n"
   ]
  },
  {
   "cell_type": "code",
   "execution_count": 71,
   "id": "12d8c08d",
   "metadata": {},
   "outputs": [],
   "source": [
    "#create json file\n",
    "with open('../marbotic/data/event_test_500.json', 'w') as f:\n",
    "    json.dump(json_1, f, indent=None)    \n",
    "\n",
    "    "
   ]
  },
  {
   "cell_type": "code",
   "execution_count": 72,
   "id": "6ee6bb32",
   "metadata": {},
   "outputs": [],
   "source": [
    "#transform intro newline format json\n",
    "!cat ../marbotic/data/event_test_500.json | jq -c '.[]' > ../marbotic/data/event_test_500_f.json\n",
    "\n"
   ]
  },
  {
   "cell_type": "code",
   "execution_count": 63,
   "id": "c67e6d29",
   "metadata": {},
   "outputs": [
    {
     "name": "stdout",
     "output_type": "stream",
     "text": [
      "event_test_100_f.json  event_test_10_f.json  event_test_1.json\r\n",
      "event_test_100.json    event_test_10.json\r\n"
     ]
    }
   ],
   "source": [
    "!ls ../marbotic/data\n",
    "\n",
    "\n"
   ]
  },
  {
   "cell_type": "code",
   "execution_count": 73,
   "id": "f03aa51b",
   "metadata": {},
   "outputs": [
    {
     "name": "stdout",
     "output_type": "stream",
     "text": [
      "Upload complete.\n",
      "Waiting on bqjob_rb6071cbd5f26800_000001813eab6223_1 ... (1s) Current status: DONE   \n"
     ]
    }
   ],
   "source": [
    "!bq load --autodetect --noreplace --source_format=NEWLINE_DELIMITED_JSON marbotic_dataset.event_properties ../marbotic/data/event_test_500_f.json\n",
    "\n"
   ]
  },
  {
   "cell_type": "code",
   "execution_count": 74,
   "id": "5120df72",
   "metadata": {},
   "outputs": [
    {
     "name": "stdout",
     "output_type": "stream",
     "text": [
      "Table marbotic:marbotic_dataset.event_properties\r\n",
      "\r\n",
      "   Last modified                 Schema                Total Rows   Total Bytes   Expiration   Time Partitioning   Clustered Fields   Labels  \r\n",
      " ----------------- ---------------------------------- ------------ ------------- ------------ ------------------- ------------------ -------- \r\n",
      "  07 Jun 16:57:13   |- user_id: integer                600          75229                                                                     \r\n",
      "                    |- start_version: string                                                                                                  \r\n",
      "                    |- os_version: string                                                                                                     \r\n",
      "                    |- client_event_time: timestamp                                                                                           \r\n",
      "                    |- language: string                                                                                                       \r\n",
      "                    |- event_id: integer                                                                                                      \r\n",
      "                    |- session_id: integer                                                                                                    \r\n",
      "                    |- region: string                                                                                                         \r\n",
      "                    |- is_attribution_event: boolean                                                                                          \r\n",
      "                    |- user_creation_time: timestamp                                                                                          \r\n",
      "                    |- device_model: string                                                                                                   \r\n",
      "                    |- event_type: string                                                                                                     \r\n",
      "                    |- country: string                                                                                                        \r\n",
      "                    |- city: string                                                                                                           \r\n",
      "\r\n"
     ]
    }
   ],
   "source": [
    "!bq show marbotic_dataset.event_properties\n",
    "\n"
   ]
  }
 ],
 "metadata": {
  "kernelspec": {
   "display_name": "Python 3 (ipykernel)",
   "language": "python",
   "name": "python3"
  },
  "language_info": {
   "codemirror_mode": {
    "name": "ipython",
    "version": 3
   },
   "file_extension": ".py",
   "mimetype": "text/x-python",
   "name": "python",
   "nbconvert_exporter": "python",
   "pygments_lexer": "ipython3",
   "version": "3.8.12"
  },
  "toc": {
   "base_numbering": 1,
   "nav_menu": {},
   "number_sections": true,
   "sideBar": true,
   "skip_h1_title": false,
   "title_cell": "Table of Contents",
   "title_sidebar": "Contents",
   "toc_cell": false,
   "toc_position": {},
   "toc_section_display": true,
   "toc_window_display": false
  }
 },
 "nbformat": 4,
 "nbformat_minor": 5
}
