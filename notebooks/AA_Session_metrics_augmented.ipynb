{
 "cells": [
  {
   "cell_type": "code",
   "execution_count": 90,
   "id": "3369e2aa",
   "metadata": {
    "ExecuteTime": {
     "end_time": "2022-06-30T13:39:50.822687Z",
     "start_time": "2022-06-30T13:39:50.812259Z"
    }
   },
   "outputs": [],
   "source": [
    "import pandas as pd\n",
    "import numpy as np\n",
    "\n",
    "import seaborn as sns\n",
    "import matplotlib.pyplot as plt\n",
    "\n",
    "#import json\n",
    "from google.cloud import bigquery\n",
    "from datetime import datetime,timedelta\n",
    "\n",
    "from sklearn.impute import SimpleImputer\n",
    "from sklearn.preprocessing import OneHotEncoder\n",
    "from sklearn.preprocessing import MinMaxScaler\n",
    "\n",
    "from sklearn.compose import make_column_transformer\n",
    "\n",
    "from sklearn.model_selection import train_test_split\n",
    "\n",
    "from sklearn.ensemble import RandomForestClassifier\n",
    "from sklearn.pipeline import make_pipeline\n",
    "from sklearn.model_selection import GridSearchCV,cross_validate\n",
    "\n",
    "from sklearn.metrics import classification_report\n"
   ]
  },
  {
   "cell_type": "code",
   "execution_count": 2,
   "id": "2f549361",
   "metadata": {
    "ExecuteTime": {
     "end_time": "2022-06-30T13:18:28.384367Z",
     "start_time": "2022-06-30T13:18:28.382650Z"
    }
   },
   "outputs": [],
   "source": [
    "#Localisation du projet name et table_id sur gcp\n",
    "project=\"marbotic\""
   ]
  },
  {
   "cell_type": "code",
   "execution_count": 3,
   "id": "13f67d8a",
   "metadata": {
    "ExecuteTime": {
     "end_time": "2022-06-30T13:18:28.388526Z",
     "start_time": "2022-06-30T13:18:28.385424Z"
    }
   },
   "outputs": [],
   "source": [
    "#intégration des credentials \n",
    "from google.oauth2 import service_account\n",
    "\n",
    "key_path = \"/Users/antonin/code/AntoninAnq/gcp/marbotic-7d02fac30bd8.json\"\n",
    "\n",
    "credentials = service_account.Credentials.from_service_account_file(\n",
    "    key_path, scopes=[\"https://www.googleapis.com/auth/cloud-platform\"],\n",
    ")"
   ]
  },
  {
   "cell_type": "code",
   "execution_count": 4,
   "id": "276f8ece",
   "metadata": {
    "ExecuteTime": {
     "end_time": "2022-06-30T13:18:28.392332Z",
     "start_time": "2022-06-30T13:18:28.389678Z"
    }
   },
   "outputs": [],
   "source": [
    "def extract(project,credentials):\n",
    "    # Construct a BigQuery client object.\n",
    "    client = bigquery.Client(project=project, credentials=credentials)\n",
    "\n",
    "    query = \"\"\"\n",
    "    SELECT\n",
    "    COUNT(DISTINCT ep.Activity_Name) as unique_activity, \n",
    "    sm.session_id,sum(Time_Spent) as Time_Spent,\n",
    "    any_value(Action_Element_Name) as Action_Element_Name,\n",
    "    any_value(Profile_Age_days) as Profile_Age_days,\n",
    "    (SAFE_DIVIDE(SUM(event_type_Activity_Good_Answer) , (SUM(event_type_Activity_Good_Answer)\n",
    "    + SUM(event_type_Activity_Wrong_Answer))))*100 as good_answer_ratio\n",
    "    FROM `marbotic.marbotic_dataset.event_properties` as ep\n",
    "    JOIN `marbotic.marbotic_dataset.sessions_metrics` as sm on ep.session_id = sm.session_id\n",
    "    GROUP BY sm.session_id\n",
    "    ORDER BY unique_activity DESC\n",
    "    \"\"\"\n",
    "\n",
    "    query_job = client.query(query)  # Make an API request.\n",
    "    results=query_job.result().to_dataframe() # Waits for job to complete.\n",
    "\n",
    "    return pd.DataFrame(results)"
   ]
  },
  {
   "cell_type": "code",
   "execution_count": 5,
   "id": "1bd192ff",
   "metadata": {
    "ExecuteTime": {
     "end_time": "2022-06-30T13:18:31.672027Z",
     "start_time": "2022-06-30T13:18:28.394650Z"
    }
   },
   "outputs": [
    {
     "data": {
      "text/html": [
       "<div>\n",
       "<style scoped>\n",
       "    .dataframe tbody tr th:only-of-type {\n",
       "        vertical-align: middle;\n",
       "    }\n",
       "\n",
       "    .dataframe tbody tr th {\n",
       "        vertical-align: top;\n",
       "    }\n",
       "\n",
       "    .dataframe thead th {\n",
       "        text-align: right;\n",
       "    }\n",
       "</style>\n",
       "<table border=\"1\" class=\"dataframe\">\n",
       "  <thead>\n",
       "    <tr style=\"text-align: right;\">\n",
       "      <th></th>\n",
       "      <th>unique_activity</th>\n",
       "      <th>session_id</th>\n",
       "      <th>Time_Spent</th>\n",
       "      <th>Action_Element_Name</th>\n",
       "      <th>Profile_Age_days</th>\n",
       "      <th>good_answer_ratio</th>\n",
       "    </tr>\n",
       "  </thead>\n",
       "  <tbody>\n",
       "    <tr>\n",
       "      <th>0</th>\n",
       "      <td>42</td>\n",
       "      <td>1.648054e+12</td>\n",
       "      <td>19329.0</td>\n",
       "      <td>Back</td>\n",
       "      <td>1899.0</td>\n",
       "      <td>100.0</td>\n",
       "    </tr>\n",
       "    <tr>\n",
       "      <th>1</th>\n",
       "      <td>41</td>\n",
       "      <td>1.646647e+12</td>\n",
       "      <td>21882.0</td>\n",
       "      <td>Back</td>\n",
       "      <td>8434.0</td>\n",
       "      <td>NaN</td>\n",
       "    </tr>\n",
       "    <tr>\n",
       "      <th>2</th>\n",
       "      <td>40</td>\n",
       "      <td>1.646297e+12</td>\n",
       "      <td>54083.0</td>\n",
       "      <td>Back</td>\n",
       "      <td>1968.0</td>\n",
       "      <td>100.0</td>\n",
       "    </tr>\n",
       "    <tr>\n",
       "      <th>3</th>\n",
       "      <td>39</td>\n",
       "      <td>1.647908e+12</td>\n",
       "      <td>9693.0</td>\n",
       "      <td>Back</td>\n",
       "      <td>2376.0</td>\n",
       "      <td>100.0</td>\n",
       "    </tr>\n",
       "    <tr>\n",
       "      <th>4</th>\n",
       "      <td>38</td>\n",
       "      <td>1.646244e+12</td>\n",
       "      <td>16048.0</td>\n",
       "      <td>Back</td>\n",
       "      <td>2227.0</td>\n",
       "      <td>100.0</td>\n",
       "    </tr>\n",
       "    <tr>\n",
       "      <th>...</th>\n",
       "      <td>...</td>\n",
       "      <td>...</td>\n",
       "      <td>...</td>\n",
       "      <td>...</td>\n",
       "      <td>...</td>\n",
       "      <td>...</td>\n",
       "    </tr>\n",
       "    <tr>\n",
       "      <th>18811</th>\n",
       "      <td>0</td>\n",
       "      <td>1.652122e+12</td>\n",
       "      <td>1716.0</td>\n",
       "      <td>None</td>\n",
       "      <td>NaN</td>\n",
       "      <td>NaN</td>\n",
       "    </tr>\n",
       "    <tr>\n",
       "      <th>18812</th>\n",
       "      <td>0</td>\n",
       "      <td>1.652125e+12</td>\n",
       "      <td>546.0</td>\n",
       "      <td>None</td>\n",
       "      <td>NaN</td>\n",
       "      <td>NaN</td>\n",
       "    </tr>\n",
       "    <tr>\n",
       "      <th>18813</th>\n",
       "      <td>0</td>\n",
       "      <td>1.652152e+12</td>\n",
       "      <td>873.0</td>\n",
       "      <td>None</td>\n",
       "      <td>NaN</td>\n",
       "      <td>NaN</td>\n",
       "    </tr>\n",
       "    <tr>\n",
       "      <th>18814</th>\n",
       "      <td>0</td>\n",
       "      <td>1.652294e+12</td>\n",
       "      <td>985.0</td>\n",
       "      <td>None</td>\n",
       "      <td>NaN</td>\n",
       "      <td>NaN</td>\n",
       "    </tr>\n",
       "    <tr>\n",
       "      <th>18815</th>\n",
       "      <td>0</td>\n",
       "      <td>1.652256e+12</td>\n",
       "      <td>1401.0</td>\n",
       "      <td>None</td>\n",
       "      <td>NaN</td>\n",
       "      <td>NaN</td>\n",
       "    </tr>\n",
       "  </tbody>\n",
       "</table>\n",
       "<p>18816 rows × 6 columns</p>\n",
       "</div>"
      ],
      "text/plain": [
       "       unique_activity    session_id  Time_Spent Action_Element_Name  \\\n",
       "0                   42  1.648054e+12     19329.0                Back   \n",
       "1                   41  1.646647e+12     21882.0                Back   \n",
       "2                   40  1.646297e+12     54083.0                Back   \n",
       "3                   39  1.647908e+12      9693.0                Back   \n",
       "4                   38  1.646244e+12     16048.0                Back   \n",
       "...                ...           ...         ...                 ...   \n",
       "18811                0  1.652122e+12      1716.0                None   \n",
       "18812                0  1.652125e+12       546.0                None   \n",
       "18813                0  1.652152e+12       873.0                None   \n",
       "18814                0  1.652294e+12       985.0                None   \n",
       "18815                0  1.652256e+12      1401.0                None   \n",
       "\n",
       "       Profile_Age_days  good_answer_ratio  \n",
       "0                1899.0              100.0  \n",
       "1                8434.0                NaN  \n",
       "2                1968.0              100.0  \n",
       "3                2376.0              100.0  \n",
       "4                2227.0              100.0  \n",
       "...                 ...                ...  \n",
       "18811               NaN                NaN  \n",
       "18812               NaN                NaN  \n",
       "18813               NaN                NaN  \n",
       "18814               NaN                NaN  \n",
       "18815               NaN                NaN  \n",
       "\n",
       "[18816 rows x 6 columns]"
      ]
     },
     "execution_count": 5,
     "metadata": {},
     "output_type": "execute_result"
    }
   ],
   "source": [
    "#On récupère d'event le nombre d'activity unique par session, le ratio de bonne réponse par sessions et le time spent par sessions\n",
    "first_data = extract(project,credentials)\n",
    "first_data"
   ]
  },
  {
   "cell_type": "code",
   "execution_count": 6,
   "id": "23159dd8",
   "metadata": {
    "ExecuteTime": {
     "end_time": "2022-06-30T13:18:31.676215Z",
     "start_time": "2022-06-30T13:18:31.673244Z"
    }
   },
   "outputs": [],
   "source": [
    "def extract_session_metrics(project,credentials):\n",
    "    # Construct a BigQuery client object.\n",
    "    client = bigquery.Client(project=project, credentials=credentials)\n",
    "\n",
    "    query = \"\"\"\n",
    "    SELECT *\n",
    "    FROM `marbotic.marbotic_dataset.sessions_metrics`\n",
    "    \"\"\"\n",
    "\n",
    "    query_job = client.query(query)  # Make an API request.\n",
    "    results=query_job.result().to_dataframe() # Waits for job to complete.\n",
    "\n",
    "    return pd.DataFrame(results)"
   ]
  },
  {
   "cell_type": "code",
   "execution_count": 7,
   "id": "e974abe6",
   "metadata": {
    "ExecuteTime": {
     "end_time": "2022-06-30T13:18:43.354820Z",
     "start_time": "2022-06-30T13:18:31.677810Z"
    }
   },
   "outputs": [
    {
     "data": {
      "text/html": [
       "<div>\n",
       "<style scoped>\n",
       "    .dataframe tbody tr th:only-of-type {\n",
       "        vertical-align: middle;\n",
       "    }\n",
       "\n",
       "    .dataframe tbody tr th {\n",
       "        vertical-align: top;\n",
       "    }\n",
       "\n",
       "    .dataframe thead th {\n",
       "        text-align: right;\n",
       "    }\n",
       "</style>\n",
       "<table border=\"1\" class=\"dataframe\">\n",
       "  <thead>\n",
       "    <tr style=\"text-align: right;\">\n",
       "      <th></th>\n",
       "      <th>session_id</th>\n",
       "      <th>city</th>\n",
       "      <th>language</th>\n",
       "      <th>os_version</th>\n",
       "      <th>region</th>\n",
       "      <th>country</th>\n",
       "      <th>device_model</th>\n",
       "      <th>start_version</th>\n",
       "      <th>session_end</th>\n",
       "      <th>id</th>\n",
       "      <th>...</th>\n",
       "      <th>event_type_Profile_Update</th>\n",
       "      <th>event_type_Scaffolding_Reset</th>\n",
       "      <th>event_type_Scaffolding_Scaffolding</th>\n",
       "      <th>event_type_Scene_Enter</th>\n",
       "      <th>event_type_Scene_Leave</th>\n",
       "      <th>event_type_Toast_Appear</th>\n",
       "      <th>event_type_Toast_Disappear</th>\n",
       "      <th>session_start</th>\n",
       "      <th>game_events</th>\n",
       "      <th>setup_events</th>\n",
       "    </tr>\n",
       "  </thead>\n",
       "  <tbody>\n",
       "    <tr>\n",
       "      <th>0</th>\n",
       "      <td>1.647421e+12</td>\n",
       "      <td>Certines</td>\n",
       "      <td>French</td>\n",
       "      <td>15.3.1</td>\n",
       "      <td>Ain</td>\n",
       "      <td>France</td>\n",
       "      <td>iPad11,6</td>\n",
       "      <td>1.0.1</td>\n",
       "      <td>2022-03-16 08:58:14.214000+00:00</td>\n",
       "      <td>6</td>\n",
       "      <td>...</td>\n",
       "      <td>0.0</td>\n",
       "      <td>0.0</td>\n",
       "      <td>0.0</td>\n",
       "      <td>5.0</td>\n",
       "      <td>1.0</td>\n",
       "      <td>0.0</td>\n",
       "      <td>0.0</td>\n",
       "      <td>2022-03-16 08:56:40.722000+00:00</td>\n",
       "      <td>6.0</td>\n",
       "      <td>0.0</td>\n",
       "    </tr>\n",
       "    <tr>\n",
       "      <th>1</th>\n",
       "      <td>1.647421e+12</td>\n",
       "      <td>Certines</td>\n",
       "      <td>French</td>\n",
       "      <td>15.1</td>\n",
       "      <td>Ain</td>\n",
       "      <td>France</td>\n",
       "      <td>iPad11,6</td>\n",
       "      <td>1.0.1</td>\n",
       "      <td>2022-03-16 08:58:45.380000+00:00</td>\n",
       "      <td>5</td>\n",
       "      <td>...</td>\n",
       "      <td>0.0</td>\n",
       "      <td>0.0</td>\n",
       "      <td>0.0</td>\n",
       "      <td>4.0</td>\n",
       "      <td>1.0</td>\n",
       "      <td>0.0</td>\n",
       "      <td>0.0</td>\n",
       "      <td>2022-03-16 08:58:28.269000+00:00</td>\n",
       "      <td>5.0</td>\n",
       "      <td>0.0</td>\n",
       "    </tr>\n",
       "    <tr>\n",
       "      <th>2</th>\n",
       "      <td>1.648134e+12</td>\n",
       "      <td>Certines</td>\n",
       "      <td>French</td>\n",
       "      <td>15.3.1</td>\n",
       "      <td>Ain</td>\n",
       "      <td>France</td>\n",
       "      <td>iPad11,6</td>\n",
       "      <td>1.0.1</td>\n",
       "      <td>2022-03-24 15:06:35.838000+00:00</td>\n",
       "      <td>5</td>\n",
       "      <td>...</td>\n",
       "      <td>0.0</td>\n",
       "      <td>0.0</td>\n",
       "      <td>0.0</td>\n",
       "      <td>1.0</td>\n",
       "      <td>1.0</td>\n",
       "      <td>0.0</td>\n",
       "      <td>0.0</td>\n",
       "      <td>2022-03-24 15:06:21.426000+00:00</td>\n",
       "      <td>5.0</td>\n",
       "      <td>0.0</td>\n",
       "    </tr>\n",
       "    <tr>\n",
       "      <th>3</th>\n",
       "      <td>1.647421e+12</td>\n",
       "      <td>Certines</td>\n",
       "      <td>French</td>\n",
       "      <td>15.1</td>\n",
       "      <td>Ain</td>\n",
       "      <td>France</td>\n",
       "      <td>iPad11,6</td>\n",
       "      <td>1.0.1</td>\n",
       "      <td>2022-03-16 08:57:59.845000+00:00</td>\n",
       "      <td>5</td>\n",
       "      <td>...</td>\n",
       "      <td>0.0</td>\n",
       "      <td>0.0</td>\n",
       "      <td>0.0</td>\n",
       "      <td>4.0</td>\n",
       "      <td>1.0</td>\n",
       "      <td>0.0</td>\n",
       "      <td>0.0</td>\n",
       "      <td>2022-03-16 08:57:48.381000+00:00</td>\n",
       "      <td>5.0</td>\n",
       "      <td>0.0</td>\n",
       "    </tr>\n",
       "    <tr>\n",
       "      <th>4</th>\n",
       "      <td>1.646641e+12</td>\n",
       "      <td>Izernore</td>\n",
       "      <td>French</td>\n",
       "      <td>15.2</td>\n",
       "      <td>Ain</td>\n",
       "      <td>France</td>\n",
       "      <td>iPad 6</td>\n",
       "      <td>1.0.3</td>\n",
       "      <td>2022-03-07 08:25:39.783000+00:00</td>\n",
       "      <td>6</td>\n",
       "      <td>...</td>\n",
       "      <td>0.0</td>\n",
       "      <td>0.0</td>\n",
       "      <td>0.0</td>\n",
       "      <td>1.0</td>\n",
       "      <td>1.0</td>\n",
       "      <td>0.0</td>\n",
       "      <td>0.0</td>\n",
       "      <td>2022-03-07 08:24:40.937000+00:00</td>\n",
       "      <td>6.0</td>\n",
       "      <td>0.0</td>\n",
       "    </tr>\n",
       "    <tr>\n",
       "      <th>...</th>\n",
       "      <td>...</td>\n",
       "      <td>...</td>\n",
       "      <td>...</td>\n",
       "      <td>...</td>\n",
       "      <td>...</td>\n",
       "      <td>...</td>\n",
       "      <td>...</td>\n",
       "      <td>...</td>\n",
       "      <td>...</td>\n",
       "      <td>...</td>\n",
       "      <td>...</td>\n",
       "      <td>...</td>\n",
       "      <td>...</td>\n",
       "      <td>...</td>\n",
       "      <td>...</td>\n",
       "      <td>...</td>\n",
       "      <td>...</td>\n",
       "      <td>...</td>\n",
       "      <td>...</td>\n",
       "      <td>...</td>\n",
       "      <td>...</td>\n",
       "    </tr>\n",
       "    <tr>\n",
       "      <th>18811</th>\n",
       "      <td>1.646491e+12</td>\n",
       "      <td>Notting Hill Gate</td>\n",
       "      <td>English</td>\n",
       "      <td>15.1</td>\n",
       "      <td>Royal Kensington and Chelsea</td>\n",
       "      <td>United Kingdom</td>\n",
       "      <td>iPad 6</td>\n",
       "      <td>1.0.7</td>\n",
       "      <td>2022-03-05 14:40:14.517000+00:00</td>\n",
       "      <td>5</td>\n",
       "      <td>...</td>\n",
       "      <td>0.0</td>\n",
       "      <td>0.0</td>\n",
       "      <td>0.0</td>\n",
       "      <td>4.0</td>\n",
       "      <td>1.0</td>\n",
       "      <td>0.0</td>\n",
       "      <td>0.0</td>\n",
       "      <td>2022-03-05 14:39:48.894000+00:00</td>\n",
       "      <td>5.0</td>\n",
       "      <td>0.0</td>\n",
       "    </tr>\n",
       "    <tr>\n",
       "      <th>18812</th>\n",
       "      <td>1.652027e+12</td>\n",
       "      <td>Hamburg</td>\n",
       "      <td>English</td>\n",
       "      <td>14.6</td>\n",
       "      <td>Free and Hanseatic City of Hamburg</td>\n",
       "      <td>Germany</td>\n",
       "      <td>iPad Pro</td>\n",
       "      <td>4.1.3</td>\n",
       "      <td>2022-05-08 16:39:55.181000+00:00</td>\n",
       "      <td>17</td>\n",
       "      <td>...</td>\n",
       "      <td>0.0</td>\n",
       "      <td>0.0</td>\n",
       "      <td>0.0</td>\n",
       "      <td>0.0</td>\n",
       "      <td>0.0</td>\n",
       "      <td>0.0</td>\n",
       "      <td>0.0</td>\n",
       "      <td>2022-05-08 16:32:21.326000+00:00</td>\n",
       "      <td>0.0</td>\n",
       "      <td>0.0</td>\n",
       "    </tr>\n",
       "    <tr>\n",
       "      <th>18813</th>\n",
       "      <td>1.652029e+12</td>\n",
       "      <td>Hamburg</td>\n",
       "      <td>English</td>\n",
       "      <td>14.6</td>\n",
       "      <td>Free and Hanseatic City of Hamburg</td>\n",
       "      <td>Germany</td>\n",
       "      <td>iPad Pro</td>\n",
       "      <td>4.1.3</td>\n",
       "      <td>2022-05-08 17:01:24.501000+00:00</td>\n",
       "      <td>20</td>\n",
       "      <td>...</td>\n",
       "      <td>0.0</td>\n",
       "      <td>0.0</td>\n",
       "      <td>0.0</td>\n",
       "      <td>0.0</td>\n",
       "      <td>0.0</td>\n",
       "      <td>0.0</td>\n",
       "      <td>0.0</td>\n",
       "      <td>2022-05-08 16:58:54.378000+00:00</td>\n",
       "      <td>0.0</td>\n",
       "      <td>0.0</td>\n",
       "    </tr>\n",
       "    <tr>\n",
       "      <th>18814</th>\n",
       "      <td>1.652377e+12</td>\n",
       "      <td>Hamburg</td>\n",
       "      <td>English</td>\n",
       "      <td>14.6</td>\n",
       "      <td>Free and Hanseatic City of Hamburg</td>\n",
       "      <td>Germany</td>\n",
       "      <td>iPad Pro</td>\n",
       "      <td>4.1.3</td>\n",
       "      <td>2022-05-12 18:05:34.559000+00:00</td>\n",
       "      <td>19</td>\n",
       "      <td>...</td>\n",
       "      <td>0.0</td>\n",
       "      <td>0.0</td>\n",
       "      <td>0.0</td>\n",
       "      <td>10.0</td>\n",
       "      <td>4.0</td>\n",
       "      <td>0.0</td>\n",
       "      <td>0.0</td>\n",
       "      <td>2022-05-12 17:38:47.898000+00:00</td>\n",
       "      <td>19.0</td>\n",
       "      <td>0.0</td>\n",
       "    </tr>\n",
       "    <tr>\n",
       "      <th>18815</th>\n",
       "      <td>1.651921e+12</td>\n",
       "      <td>Hamburg</td>\n",
       "      <td>German</td>\n",
       "      <td>15.4.1</td>\n",
       "      <td>Free and Hanseatic City of Hamburg</td>\n",
       "      <td>Germany</td>\n",
       "      <td>iPad8,11</td>\n",
       "      <td>4.2.0</td>\n",
       "      <td>2022-05-07 12:38:30.518000+00:00</td>\n",
       "      <td>582</td>\n",
       "      <td>...</td>\n",
       "      <td>0.0</td>\n",
       "      <td>0.0</td>\n",
       "      <td>0.0</td>\n",
       "      <td>0.0</td>\n",
       "      <td>0.0</td>\n",
       "      <td>0.0</td>\n",
       "      <td>0.0</td>\n",
       "      <td>2022-05-07 10:53:03.270000+00:00</td>\n",
       "      <td>0.0</td>\n",
       "      <td>0.0</td>\n",
       "    </tr>\n",
       "  </tbody>\n",
       "</table>\n",
       "<p>18816 rows × 73 columns</p>\n",
       "</div>"
      ],
      "text/plain": [
       "         session_id               city language os_version  \\\n",
       "0      1.647421e+12           Certines   French     15.3.1   \n",
       "1      1.647421e+12           Certines   French       15.1   \n",
       "2      1.648134e+12           Certines   French     15.3.1   \n",
       "3      1.647421e+12           Certines   French       15.1   \n",
       "4      1.646641e+12           Izernore   French       15.2   \n",
       "...             ...                ...      ...        ...   \n",
       "18811  1.646491e+12  Notting Hill Gate  English       15.1   \n",
       "18812  1.652027e+12            Hamburg  English       14.6   \n",
       "18813  1.652029e+12            Hamburg  English       14.6   \n",
       "18814  1.652377e+12            Hamburg  English       14.6   \n",
       "18815  1.651921e+12            Hamburg   German     15.4.1   \n",
       "\n",
       "                                   region         country device_model  \\\n",
       "0                                     Ain          France     iPad11,6   \n",
       "1                                     Ain          France     iPad11,6   \n",
       "2                                     Ain          France     iPad11,6   \n",
       "3                                     Ain          France     iPad11,6   \n",
       "4                                     Ain          France       iPad 6   \n",
       "...                                   ...             ...          ...   \n",
       "18811        Royal Kensington and Chelsea  United Kingdom       iPad 6   \n",
       "18812  Free and Hanseatic City of Hamburg         Germany     iPad Pro   \n",
       "18813  Free and Hanseatic City of Hamburg         Germany     iPad Pro   \n",
       "18814  Free and Hanseatic City of Hamburg         Germany     iPad Pro   \n",
       "18815  Free and Hanseatic City of Hamburg         Germany     iPad8,11   \n",
       "\n",
       "      start_version                      session_end   id  ...  \\\n",
       "0             1.0.1 2022-03-16 08:58:14.214000+00:00    6  ...   \n",
       "1             1.0.1 2022-03-16 08:58:45.380000+00:00    5  ...   \n",
       "2             1.0.1 2022-03-24 15:06:35.838000+00:00    5  ...   \n",
       "3             1.0.1 2022-03-16 08:57:59.845000+00:00    5  ...   \n",
       "4             1.0.3 2022-03-07 08:25:39.783000+00:00    6  ...   \n",
       "...             ...                              ...  ...  ...   \n",
       "18811         1.0.7 2022-03-05 14:40:14.517000+00:00    5  ...   \n",
       "18812         4.1.3 2022-05-08 16:39:55.181000+00:00   17  ...   \n",
       "18813         4.1.3 2022-05-08 17:01:24.501000+00:00   20  ...   \n",
       "18814         4.1.3 2022-05-12 18:05:34.559000+00:00   19  ...   \n",
       "18815         4.2.0 2022-05-07 12:38:30.518000+00:00  582  ...   \n",
       "\n",
       "       event_type_Profile_Update  event_type_Scaffolding_Reset  \\\n",
       "0                            0.0                           0.0   \n",
       "1                            0.0                           0.0   \n",
       "2                            0.0                           0.0   \n",
       "3                            0.0                           0.0   \n",
       "4                            0.0                           0.0   \n",
       "...                          ...                           ...   \n",
       "18811                        0.0                           0.0   \n",
       "18812                        0.0                           0.0   \n",
       "18813                        0.0                           0.0   \n",
       "18814                        0.0                           0.0   \n",
       "18815                        0.0                           0.0   \n",
       "\n",
       "       event_type_Scaffolding_Scaffolding  event_type_Scene_Enter  \\\n",
       "0                                     0.0                     5.0   \n",
       "1                                     0.0                     4.0   \n",
       "2                                     0.0                     1.0   \n",
       "3                                     0.0                     4.0   \n",
       "4                                     0.0                     1.0   \n",
       "...                                   ...                     ...   \n",
       "18811                                 0.0                     4.0   \n",
       "18812                                 0.0                     0.0   \n",
       "18813                                 0.0                     0.0   \n",
       "18814                                 0.0                    10.0   \n",
       "18815                                 0.0                     0.0   \n",
       "\n",
       "       event_type_Scene_Leave  event_type_Toast_Appear  \\\n",
       "0                         1.0                      0.0   \n",
       "1                         1.0                      0.0   \n",
       "2                         1.0                      0.0   \n",
       "3                         1.0                      0.0   \n",
       "4                         1.0                      0.0   \n",
       "...                       ...                      ...   \n",
       "18811                     1.0                      0.0   \n",
       "18812                     0.0                      0.0   \n",
       "18813                     0.0                      0.0   \n",
       "18814                     4.0                      0.0   \n",
       "18815                     0.0                      0.0   \n",
       "\n",
       "       event_type_Toast_Disappear                    session_start  \\\n",
       "0                             0.0 2022-03-16 08:56:40.722000+00:00   \n",
       "1                             0.0 2022-03-16 08:58:28.269000+00:00   \n",
       "2                             0.0 2022-03-24 15:06:21.426000+00:00   \n",
       "3                             0.0 2022-03-16 08:57:48.381000+00:00   \n",
       "4                             0.0 2022-03-07 08:24:40.937000+00:00   \n",
       "...                           ...                              ...   \n",
       "18811                         0.0 2022-03-05 14:39:48.894000+00:00   \n",
       "18812                         0.0 2022-05-08 16:32:21.326000+00:00   \n",
       "18813                         0.0 2022-05-08 16:58:54.378000+00:00   \n",
       "18814                         0.0 2022-05-12 17:38:47.898000+00:00   \n",
       "18815                         0.0 2022-05-07 10:53:03.270000+00:00   \n",
       "\n",
       "       game_events  setup_events  \n",
       "0              6.0           0.0  \n",
       "1              5.0           0.0  \n",
       "2              5.0           0.0  \n",
       "3              5.0           0.0  \n",
       "4              6.0           0.0  \n",
       "...            ...           ...  \n",
       "18811          5.0           0.0  \n",
       "18812          0.0           0.0  \n",
       "18813          0.0           0.0  \n",
       "18814         19.0           0.0  \n",
       "18815          0.0           0.0  \n",
       "\n",
       "[18816 rows x 73 columns]"
      ]
     },
     "execution_count": 7,
     "metadata": {},
     "output_type": "execute_result"
    }
   ],
   "source": [
    "session_metrics_df = extract_session_metrics(project,credentials)\n",
    "session_metrics_df"
   ]
  },
  {
   "cell_type": "code",
   "execution_count": 8,
   "id": "4c2f77e7",
   "metadata": {
    "ExecuteTime": {
     "end_time": "2022-06-30T13:18:43.370828Z",
     "start_time": "2022-06-30T13:18:43.356128Z"
    }
   },
   "outputs": [],
   "source": [
    "#on merge les première colonnes crées avec la table sessions metrics\n",
    "sm_df = session_metrics_df.merge(first_data, on='session_id')"
   ]
  },
  {
   "cell_type": "code",
   "execution_count": 9,
   "id": "e2245399",
   "metadata": {
    "ExecuteTime": {
     "end_time": "2022-06-30T13:18:43.470875Z",
     "start_time": "2022-06-30T13:18:43.372207Z"
    }
   },
   "outputs": [],
   "source": [
    "#Calcul du temps de chaque session\n",
    "sm_df['duration_min'] = (sm_df['session_end']-sm_df['session_start']).apply(lambda x: x.total_seconds()/60)"
   ]
  },
  {
   "cell_type": "code",
   "execution_count": 10,
   "id": "7d8146aa",
   "metadata": {
    "ExecuteTime": {
     "end_time": "2022-06-30T13:18:43.493406Z",
     "start_time": "2022-06-30T13:18:43.471997Z"
    }
   },
   "outputs": [
    {
     "data": {
      "text/html": [
       "<div>\n",
       "<style scoped>\n",
       "    .dataframe tbody tr th:only-of-type {\n",
       "        vertical-align: middle;\n",
       "    }\n",
       "\n",
       "    .dataframe tbody tr th {\n",
       "        vertical-align: top;\n",
       "    }\n",
       "\n",
       "    .dataframe thead th {\n",
       "        text-align: right;\n",
       "    }\n",
       "</style>\n",
       "<table border=\"1\" class=\"dataframe\">\n",
       "  <thead>\n",
       "    <tr style=\"text-align: right;\">\n",
       "      <th></th>\n",
       "      <th>session_id</th>\n",
       "      <th>city</th>\n",
       "      <th>language</th>\n",
       "      <th>os_version</th>\n",
       "      <th>region</th>\n",
       "      <th>country</th>\n",
       "      <th>device_model</th>\n",
       "      <th>start_version</th>\n",
       "      <th>session_end</th>\n",
       "      <th>id</th>\n",
       "      <th>...</th>\n",
       "      <th>event_type_Toast_Disappear</th>\n",
       "      <th>session_start</th>\n",
       "      <th>game_events</th>\n",
       "      <th>setup_events</th>\n",
       "      <th>unique_activity</th>\n",
       "      <th>Time_Spent</th>\n",
       "      <th>Action_Element_Name</th>\n",
       "      <th>Profile_Age_days</th>\n",
       "      <th>good_answer_ratio</th>\n",
       "      <th>duration_min</th>\n",
       "    </tr>\n",
       "  </thead>\n",
       "  <tbody>\n",
       "    <tr>\n",
       "      <th>0</th>\n",
       "      <td>1.647421e+12</td>\n",
       "      <td>Certines</td>\n",
       "      <td>French</td>\n",
       "      <td>15.3.1</td>\n",
       "      <td>Ain</td>\n",
       "      <td>France</td>\n",
       "      <td>iPad11,6</td>\n",
       "      <td>1.0.1</td>\n",
       "      <td>2022-03-16 08:58:14.214000+00:00</td>\n",
       "      <td>6</td>\n",
       "      <td>...</td>\n",
       "      <td>0.0</td>\n",
       "      <td>2022-03-16 08:56:40.722000+00:00</td>\n",
       "      <td>6.0</td>\n",
       "      <td>0.0</td>\n",
       "      <td>0</td>\n",
       "      <td>37.0</td>\n",
       "      <td>None</td>\n",
       "      <td>-1.0</td>\n",
       "      <td>NaN</td>\n",
       "      <td>1.558200</td>\n",
       "    </tr>\n",
       "    <tr>\n",
       "      <th>1</th>\n",
       "      <td>1.647421e+12</td>\n",
       "      <td>Certines</td>\n",
       "      <td>French</td>\n",
       "      <td>15.1</td>\n",
       "      <td>Ain</td>\n",
       "      <td>France</td>\n",
       "      <td>iPad11,6</td>\n",
       "      <td>1.0.1</td>\n",
       "      <td>2022-03-16 08:58:45.380000+00:00</td>\n",
       "      <td>5</td>\n",
       "      <td>...</td>\n",
       "      <td>0.0</td>\n",
       "      <td>2022-03-16 08:58:28.269000+00:00</td>\n",
       "      <td>5.0</td>\n",
       "      <td>0.0</td>\n",
       "      <td>0</td>\n",
       "      <td>25.0</td>\n",
       "      <td>None</td>\n",
       "      <td>-1.0</td>\n",
       "      <td>NaN</td>\n",
       "      <td>0.285183</td>\n",
       "    </tr>\n",
       "    <tr>\n",
       "      <th>2</th>\n",
       "      <td>1.648134e+12</td>\n",
       "      <td>Certines</td>\n",
       "      <td>French</td>\n",
       "      <td>15.3.1</td>\n",
       "      <td>Ain</td>\n",
       "      <td>France</td>\n",
       "      <td>iPad11,6</td>\n",
       "      <td>1.0.1</td>\n",
       "      <td>2022-03-24 15:06:35.838000+00:00</td>\n",
       "      <td>5</td>\n",
       "      <td>...</td>\n",
       "      <td>0.0</td>\n",
       "      <td>2022-03-24 15:06:21.426000+00:00</td>\n",
       "      <td>5.0</td>\n",
       "      <td>0.0</td>\n",
       "      <td>0</td>\n",
       "      <td>28.0</td>\n",
       "      <td>None</td>\n",
       "      <td>-1.0</td>\n",
       "      <td>NaN</td>\n",
       "      <td>0.240200</td>\n",
       "    </tr>\n",
       "    <tr>\n",
       "      <th>3</th>\n",
       "      <td>1.647421e+12</td>\n",
       "      <td>Certines</td>\n",
       "      <td>French</td>\n",
       "      <td>15.1</td>\n",
       "      <td>Ain</td>\n",
       "      <td>France</td>\n",
       "      <td>iPad11,6</td>\n",
       "      <td>1.0.1</td>\n",
       "      <td>2022-03-16 08:57:59.845000+00:00</td>\n",
       "      <td>5</td>\n",
       "      <td>...</td>\n",
       "      <td>0.0</td>\n",
       "      <td>2022-03-16 08:57:48.381000+00:00</td>\n",
       "      <td>5.0</td>\n",
       "      <td>0.0</td>\n",
       "      <td>0</td>\n",
       "      <td>20.0</td>\n",
       "      <td>None</td>\n",
       "      <td>-1.0</td>\n",
       "      <td>NaN</td>\n",
       "      <td>0.191067</td>\n",
       "    </tr>\n",
       "    <tr>\n",
       "      <th>4</th>\n",
       "      <td>1.646641e+12</td>\n",
       "      <td>Izernore</td>\n",
       "      <td>French</td>\n",
       "      <td>15.2</td>\n",
       "      <td>Ain</td>\n",
       "      <td>France</td>\n",
       "      <td>iPad 6</td>\n",
       "      <td>1.0.3</td>\n",
       "      <td>2022-03-07 08:25:39.783000+00:00</td>\n",
       "      <td>6</td>\n",
       "      <td>...</td>\n",
       "      <td>0.0</td>\n",
       "      <td>2022-03-07 08:24:40.937000+00:00</td>\n",
       "      <td>6.0</td>\n",
       "      <td>0.0</td>\n",
       "      <td>0</td>\n",
       "      <td>858.0</td>\n",
       "      <td>Back</td>\n",
       "      <td>1891.0</td>\n",
       "      <td>NaN</td>\n",
       "      <td>0.980767</td>\n",
       "    </tr>\n",
       "    <tr>\n",
       "      <th>...</th>\n",
       "      <td>...</td>\n",
       "      <td>...</td>\n",
       "      <td>...</td>\n",
       "      <td>...</td>\n",
       "      <td>...</td>\n",
       "      <td>...</td>\n",
       "      <td>...</td>\n",
       "      <td>...</td>\n",
       "      <td>...</td>\n",
       "      <td>...</td>\n",
       "      <td>...</td>\n",
       "      <td>...</td>\n",
       "      <td>...</td>\n",
       "      <td>...</td>\n",
       "      <td>...</td>\n",
       "      <td>...</td>\n",
       "      <td>...</td>\n",
       "      <td>...</td>\n",
       "      <td>...</td>\n",
       "      <td>...</td>\n",
       "      <td>...</td>\n",
       "    </tr>\n",
       "    <tr>\n",
       "      <th>18811</th>\n",
       "      <td>1.646491e+12</td>\n",
       "      <td>Notting Hill Gate</td>\n",
       "      <td>English</td>\n",
       "      <td>15.1</td>\n",
       "      <td>Royal Kensington and Chelsea</td>\n",
       "      <td>United Kingdom</td>\n",
       "      <td>iPad 6</td>\n",
       "      <td>1.0.7</td>\n",
       "      <td>2022-03-05 14:40:14.517000+00:00</td>\n",
       "      <td>5</td>\n",
       "      <td>...</td>\n",
       "      <td>0.0</td>\n",
       "      <td>2022-03-05 14:39:48.894000+00:00</td>\n",
       "      <td>5.0</td>\n",
       "      <td>0.0</td>\n",
       "      <td>0</td>\n",
       "      <td>31.0</td>\n",
       "      <td>None</td>\n",
       "      <td>-1.0</td>\n",
       "      <td>NaN</td>\n",
       "      <td>0.427050</td>\n",
       "    </tr>\n",
       "    <tr>\n",
       "      <th>18812</th>\n",
       "      <td>1.652027e+12</td>\n",
       "      <td>Hamburg</td>\n",
       "      <td>English</td>\n",
       "      <td>14.6</td>\n",
       "      <td>Free and Hanseatic City of Hamburg</td>\n",
       "      <td>Germany</td>\n",
       "      <td>iPad Pro</td>\n",
       "      <td>4.1.3</td>\n",
       "      <td>2022-05-08 16:39:55.181000+00:00</td>\n",
       "      <td>17</td>\n",
       "      <td>...</td>\n",
       "      <td>0.0</td>\n",
       "      <td>2022-05-08 16:32:21.326000+00:00</td>\n",
       "      <td>0.0</td>\n",
       "      <td>0.0</td>\n",
       "      <td>0</td>\n",
       "      <td>2525.0</td>\n",
       "      <td>None</td>\n",
       "      <td>4930.0</td>\n",
       "      <td>NaN</td>\n",
       "      <td>7.564250</td>\n",
       "    </tr>\n",
       "    <tr>\n",
       "      <th>18813</th>\n",
       "      <td>1.652029e+12</td>\n",
       "      <td>Hamburg</td>\n",
       "      <td>English</td>\n",
       "      <td>14.6</td>\n",
       "      <td>Free and Hanseatic City of Hamburg</td>\n",
       "      <td>Germany</td>\n",
       "      <td>iPad Pro</td>\n",
       "      <td>4.1.3</td>\n",
       "      <td>2022-05-08 17:01:24.501000+00:00</td>\n",
       "      <td>20</td>\n",
       "      <td>...</td>\n",
       "      <td>0.0</td>\n",
       "      <td>2022-05-08 16:58:54.378000+00:00</td>\n",
       "      <td>0.0</td>\n",
       "      <td>0.0</td>\n",
       "      <td>1</td>\n",
       "      <td>834.0</td>\n",
       "      <td>None</td>\n",
       "      <td>4930.0</td>\n",
       "      <td>NaN</td>\n",
       "      <td>2.502050</td>\n",
       "    </tr>\n",
       "    <tr>\n",
       "      <th>18814</th>\n",
       "      <td>1.652377e+12</td>\n",
       "      <td>Hamburg</td>\n",
       "      <td>English</td>\n",
       "      <td>14.6</td>\n",
       "      <td>Free and Hanseatic City of Hamburg</td>\n",
       "      <td>Germany</td>\n",
       "      <td>iPad Pro</td>\n",
       "      <td>4.1.3</td>\n",
       "      <td>2022-05-12 18:05:34.559000+00:00</td>\n",
       "      <td>19</td>\n",
       "      <td>...</td>\n",
       "      <td>0.0</td>\n",
       "      <td>2022-05-12 17:38:47.898000+00:00</td>\n",
       "      <td>19.0</td>\n",
       "      <td>0.0</td>\n",
       "      <td>1</td>\n",
       "      <td>9393.0</td>\n",
       "      <td>Back</td>\n",
       "      <td>4934.0</td>\n",
       "      <td>100.0</td>\n",
       "      <td>26.777683</td>\n",
       "    </tr>\n",
       "    <tr>\n",
       "      <th>18815</th>\n",
       "      <td>1.651921e+12</td>\n",
       "      <td>Hamburg</td>\n",
       "      <td>German</td>\n",
       "      <td>15.4.1</td>\n",
       "      <td>Free and Hanseatic City of Hamburg</td>\n",
       "      <td>Germany</td>\n",
       "      <td>iPad8,11</td>\n",
       "      <td>4.2.0</td>\n",
       "      <td>2022-05-07 12:38:30.518000+00:00</td>\n",
       "      <td>582</td>\n",
       "      <td>...</td>\n",
       "      <td>0.0</td>\n",
       "      <td>2022-05-07 10:53:03.270000+00:00</td>\n",
       "      <td>0.0</td>\n",
       "      <td>0.0</td>\n",
       "      <td>13</td>\n",
       "      <td>86652.0</td>\n",
       "      <td>Back</td>\n",
       "      <td>2269.0</td>\n",
       "      <td>NaN</td>\n",
       "      <td>105.454133</td>\n",
       "    </tr>\n",
       "  </tbody>\n",
       "</table>\n",
       "<p>18816 rows × 79 columns</p>\n",
       "</div>"
      ],
      "text/plain": [
       "         session_id               city language os_version  \\\n",
       "0      1.647421e+12           Certines   French     15.3.1   \n",
       "1      1.647421e+12           Certines   French       15.1   \n",
       "2      1.648134e+12           Certines   French     15.3.1   \n",
       "3      1.647421e+12           Certines   French       15.1   \n",
       "4      1.646641e+12           Izernore   French       15.2   \n",
       "...             ...                ...      ...        ...   \n",
       "18811  1.646491e+12  Notting Hill Gate  English       15.1   \n",
       "18812  1.652027e+12            Hamburg  English       14.6   \n",
       "18813  1.652029e+12            Hamburg  English       14.6   \n",
       "18814  1.652377e+12            Hamburg  English       14.6   \n",
       "18815  1.651921e+12            Hamburg   German     15.4.1   \n",
       "\n",
       "                                   region         country device_model  \\\n",
       "0                                     Ain          France     iPad11,6   \n",
       "1                                     Ain          France     iPad11,6   \n",
       "2                                     Ain          France     iPad11,6   \n",
       "3                                     Ain          France     iPad11,6   \n",
       "4                                     Ain          France       iPad 6   \n",
       "...                                   ...             ...          ...   \n",
       "18811        Royal Kensington and Chelsea  United Kingdom       iPad 6   \n",
       "18812  Free and Hanseatic City of Hamburg         Germany     iPad Pro   \n",
       "18813  Free and Hanseatic City of Hamburg         Germany     iPad Pro   \n",
       "18814  Free and Hanseatic City of Hamburg         Germany     iPad Pro   \n",
       "18815  Free and Hanseatic City of Hamburg         Germany     iPad8,11   \n",
       "\n",
       "      start_version                      session_end   id  ...  \\\n",
       "0             1.0.1 2022-03-16 08:58:14.214000+00:00    6  ...   \n",
       "1             1.0.1 2022-03-16 08:58:45.380000+00:00    5  ...   \n",
       "2             1.0.1 2022-03-24 15:06:35.838000+00:00    5  ...   \n",
       "3             1.0.1 2022-03-16 08:57:59.845000+00:00    5  ...   \n",
       "4             1.0.3 2022-03-07 08:25:39.783000+00:00    6  ...   \n",
       "...             ...                              ...  ...  ...   \n",
       "18811         1.0.7 2022-03-05 14:40:14.517000+00:00    5  ...   \n",
       "18812         4.1.3 2022-05-08 16:39:55.181000+00:00   17  ...   \n",
       "18813         4.1.3 2022-05-08 17:01:24.501000+00:00   20  ...   \n",
       "18814         4.1.3 2022-05-12 18:05:34.559000+00:00   19  ...   \n",
       "18815         4.2.0 2022-05-07 12:38:30.518000+00:00  582  ...   \n",
       "\n",
       "       event_type_Toast_Disappear                    session_start  \\\n",
       "0                             0.0 2022-03-16 08:56:40.722000+00:00   \n",
       "1                             0.0 2022-03-16 08:58:28.269000+00:00   \n",
       "2                             0.0 2022-03-24 15:06:21.426000+00:00   \n",
       "3                             0.0 2022-03-16 08:57:48.381000+00:00   \n",
       "4                             0.0 2022-03-07 08:24:40.937000+00:00   \n",
       "...                           ...                              ...   \n",
       "18811                         0.0 2022-03-05 14:39:48.894000+00:00   \n",
       "18812                         0.0 2022-05-08 16:32:21.326000+00:00   \n",
       "18813                         0.0 2022-05-08 16:58:54.378000+00:00   \n",
       "18814                         0.0 2022-05-12 17:38:47.898000+00:00   \n",
       "18815                         0.0 2022-05-07 10:53:03.270000+00:00   \n",
       "\n",
       "       game_events  setup_events  unique_activity  Time_Spent  \\\n",
       "0              6.0           0.0                0        37.0   \n",
       "1              5.0           0.0                0        25.0   \n",
       "2              5.0           0.0                0        28.0   \n",
       "3              5.0           0.0                0        20.0   \n",
       "4              6.0           0.0                0       858.0   \n",
       "...            ...           ...              ...         ...   \n",
       "18811          5.0           0.0                0        31.0   \n",
       "18812          0.0           0.0                0      2525.0   \n",
       "18813          0.0           0.0                1       834.0   \n",
       "18814         19.0           0.0                1      9393.0   \n",
       "18815          0.0           0.0               13     86652.0   \n",
       "\n",
       "       Action_Element_Name  Profile_Age_days  good_answer_ratio  duration_min  \n",
       "0                     None              -1.0                NaN      1.558200  \n",
       "1                     None              -1.0                NaN      0.285183  \n",
       "2                     None              -1.0                NaN      0.240200  \n",
       "3                     None              -1.0                NaN      0.191067  \n",
       "4                     Back            1891.0                NaN      0.980767  \n",
       "...                    ...               ...                ...           ...  \n",
       "18811                 None              -1.0                NaN      0.427050  \n",
       "18812                 None            4930.0                NaN      7.564250  \n",
       "18813                 None            4930.0                NaN      2.502050  \n",
       "18814                 Back            4934.0              100.0     26.777683  \n",
       "18815                 Back            2269.0                NaN    105.454133  \n",
       "\n",
       "[18816 rows x 79 columns]"
      ]
     },
     "execution_count": 10,
     "metadata": {},
     "output_type": "execute_result"
    }
   ],
   "source": [
    "sm_df"
   ]
  },
  {
   "cell_type": "code",
   "execution_count": 11,
   "id": "7601826f",
   "metadata": {
    "ExecuteTime": {
     "end_time": "2022-06-30T13:18:43.496891Z",
     "start_time": "2022-06-30T13:18:43.494449Z"
    }
   },
   "outputs": [],
   "source": [
    "def extract_user_metrics(project,credentials):\n",
    "    # Construct a BigQuery client object.\n",
    "    client = bigquery.Client(project=project, credentials=credentials)\n",
    "\n",
    "    query = \"\"\"\n",
    "    SELECT user_creation_time, user_id\n",
    "    FROM `marbotic.marbotic_dataset.users_metrics`\n",
    "    \"\"\"\n",
    "\n",
    "    query_job = client.query(query)  # Make an API request.\n",
    "    results=query_job.result().to_dataframe() # Waits for job to complete.\n",
    "\n",
    "    return pd.DataFrame(results)"
   ]
  },
  {
   "cell_type": "code",
   "execution_count": 12,
   "id": "3f02f973",
   "metadata": {
    "ExecuteTime": {
     "end_time": "2022-06-30T13:18:45.025901Z",
     "start_time": "2022-06-30T13:18:43.498053Z"
    }
   },
   "outputs": [],
   "source": [
    "user_metrics_df = extract_user_metrics(project,credentials)"
   ]
  },
  {
   "cell_type": "code",
   "execution_count": 13,
   "id": "6f994e71",
   "metadata": {
    "ExecuteTime": {
     "end_time": "2022-06-30T13:18:45.056619Z",
     "start_time": "2022-06-30T13:18:45.028774Z"
    }
   },
   "outputs": [],
   "source": [
    "#on merge la date de création dans le cas ou on veut calculer la maturité du user au moment de la session. Non utilisé dans un premier temps\n",
    "sm_df = sm_df.merge(user_metrics_df, on='user_id')"
   ]
  },
  {
   "cell_type": "code",
   "execution_count": 14,
   "id": "0a2b3988",
   "metadata": {
    "ExecuteTime": {
     "end_time": "2022-06-30T13:18:45.087596Z",
     "start_time": "2022-06-30T13:18:45.061310Z"
    }
   },
   "outputs": [
    {
     "data": {
      "text/html": [
       "<div>\n",
       "<style scoped>\n",
       "    .dataframe tbody tr th:only-of-type {\n",
       "        vertical-align: middle;\n",
       "    }\n",
       "\n",
       "    .dataframe tbody tr th {\n",
       "        vertical-align: top;\n",
       "    }\n",
       "\n",
       "    .dataframe thead th {\n",
       "        text-align: right;\n",
       "    }\n",
       "</style>\n",
       "<table border=\"1\" class=\"dataframe\">\n",
       "  <thead>\n",
       "    <tr style=\"text-align: right;\">\n",
       "      <th></th>\n",
       "      <th>session_id</th>\n",
       "      <th>city</th>\n",
       "      <th>language</th>\n",
       "      <th>os_version</th>\n",
       "      <th>region</th>\n",
       "      <th>country</th>\n",
       "      <th>device_model</th>\n",
       "      <th>start_version</th>\n",
       "      <th>session_end</th>\n",
       "      <th>id</th>\n",
       "      <th>...</th>\n",
       "      <th>session_start</th>\n",
       "      <th>game_events</th>\n",
       "      <th>setup_events</th>\n",
       "      <th>unique_activity</th>\n",
       "      <th>Time_Spent</th>\n",
       "      <th>Action_Element_Name</th>\n",
       "      <th>Profile_Age_days</th>\n",
       "      <th>good_answer_ratio</th>\n",
       "      <th>duration_min</th>\n",
       "      <th>user_creation_time</th>\n",
       "    </tr>\n",
       "  </thead>\n",
       "  <tbody>\n",
       "    <tr>\n",
       "      <th>0</th>\n",
       "      <td>1.647421e+12</td>\n",
       "      <td>Certines</td>\n",
       "      <td>French</td>\n",
       "      <td>15.3.1</td>\n",
       "      <td>Ain</td>\n",
       "      <td>France</td>\n",
       "      <td>iPad11,6</td>\n",
       "      <td>1.0.1</td>\n",
       "      <td>2022-03-16 08:58:14.214000+00:00</td>\n",
       "      <td>6</td>\n",
       "      <td>...</td>\n",
       "      <td>2022-03-16 08:56:40.722000+00:00</td>\n",
       "      <td>6.0</td>\n",
       "      <td>0.0</td>\n",
       "      <td>0</td>\n",
       "      <td>37.0</td>\n",
       "      <td>None</td>\n",
       "      <td>-1.0</td>\n",
       "      <td>NaN</td>\n",
       "      <td>1.558200</td>\n",
       "      <td>2021-11-20 15:17:18.537000+00:00</td>\n",
       "    </tr>\n",
       "    <tr>\n",
       "      <th>1</th>\n",
       "      <td>1.647421e+12</td>\n",
       "      <td>Certines</td>\n",
       "      <td>French</td>\n",
       "      <td>15.1</td>\n",
       "      <td>Ain</td>\n",
       "      <td>France</td>\n",
       "      <td>iPad11,6</td>\n",
       "      <td>1.0.1</td>\n",
       "      <td>2022-03-16 08:58:45.380000+00:00</td>\n",
       "      <td>5</td>\n",
       "      <td>...</td>\n",
       "      <td>2022-03-16 08:58:28.269000+00:00</td>\n",
       "      <td>5.0</td>\n",
       "      <td>0.0</td>\n",
       "      <td>0</td>\n",
       "      <td>25.0</td>\n",
       "      <td>None</td>\n",
       "      <td>-1.0</td>\n",
       "      <td>NaN</td>\n",
       "      <td>0.285183</td>\n",
       "      <td>2021-11-20 15:17:18.537000+00:00</td>\n",
       "    </tr>\n",
       "    <tr>\n",
       "      <th>2</th>\n",
       "      <td>1.648134e+12</td>\n",
       "      <td>Certines</td>\n",
       "      <td>French</td>\n",
       "      <td>15.3.1</td>\n",
       "      <td>Ain</td>\n",
       "      <td>France</td>\n",
       "      <td>iPad11,6</td>\n",
       "      <td>1.0.1</td>\n",
       "      <td>2022-03-24 15:06:35.838000+00:00</td>\n",
       "      <td>5</td>\n",
       "      <td>...</td>\n",
       "      <td>2022-03-24 15:06:21.426000+00:00</td>\n",
       "      <td>5.0</td>\n",
       "      <td>0.0</td>\n",
       "      <td>0</td>\n",
       "      <td>28.0</td>\n",
       "      <td>None</td>\n",
       "      <td>-1.0</td>\n",
       "      <td>NaN</td>\n",
       "      <td>0.240200</td>\n",
       "      <td>2021-11-20 15:17:18.537000+00:00</td>\n",
       "    </tr>\n",
       "    <tr>\n",
       "      <th>3</th>\n",
       "      <td>1.647421e+12</td>\n",
       "      <td>Certines</td>\n",
       "      <td>French</td>\n",
       "      <td>15.1</td>\n",
       "      <td>Ain</td>\n",
       "      <td>France</td>\n",
       "      <td>iPad11,6</td>\n",
       "      <td>1.0.1</td>\n",
       "      <td>2022-03-16 08:57:59.845000+00:00</td>\n",
       "      <td>5</td>\n",
       "      <td>...</td>\n",
       "      <td>2022-03-16 08:57:48.381000+00:00</td>\n",
       "      <td>5.0</td>\n",
       "      <td>0.0</td>\n",
       "      <td>0</td>\n",
       "      <td>20.0</td>\n",
       "      <td>None</td>\n",
       "      <td>-1.0</td>\n",
       "      <td>NaN</td>\n",
       "      <td>0.191067</td>\n",
       "      <td>2021-11-20 15:17:18.537000+00:00</td>\n",
       "    </tr>\n",
       "    <tr>\n",
       "      <th>4</th>\n",
       "      <td>1.646641e+12</td>\n",
       "      <td>Izernore</td>\n",
       "      <td>French</td>\n",
       "      <td>15.2</td>\n",
       "      <td>Ain</td>\n",
       "      <td>France</td>\n",
       "      <td>iPad 6</td>\n",
       "      <td>1.0.3</td>\n",
       "      <td>2022-03-07 08:25:39.783000+00:00</td>\n",
       "      <td>6</td>\n",
       "      <td>...</td>\n",
       "      <td>2022-03-07 08:24:40.937000+00:00</td>\n",
       "      <td>6.0</td>\n",
       "      <td>0.0</td>\n",
       "      <td>0</td>\n",
       "      <td>858.0</td>\n",
       "      <td>Back</td>\n",
       "      <td>1891.0</td>\n",
       "      <td>NaN</td>\n",
       "      <td>0.980767</td>\n",
       "      <td>2021-12-07 18:08:20.505000+00:00</td>\n",
       "    </tr>\n",
       "    <tr>\n",
       "      <th>...</th>\n",
       "      <td>...</td>\n",
       "      <td>...</td>\n",
       "      <td>...</td>\n",
       "      <td>...</td>\n",
       "      <td>...</td>\n",
       "      <td>...</td>\n",
       "      <td>...</td>\n",
       "      <td>...</td>\n",
       "      <td>...</td>\n",
       "      <td>...</td>\n",
       "      <td>...</td>\n",
       "      <td>...</td>\n",
       "      <td>...</td>\n",
       "      <td>...</td>\n",
       "      <td>...</td>\n",
       "      <td>...</td>\n",
       "      <td>...</td>\n",
       "      <td>...</td>\n",
       "      <td>...</td>\n",
       "      <td>...</td>\n",
       "      <td>...</td>\n",
       "    </tr>\n",
       "    <tr>\n",
       "      <th>18811</th>\n",
       "      <td>1.649501e+12</td>\n",
       "      <td>Kensington</td>\n",
       "      <td>English</td>\n",
       "      <td>15.1</td>\n",
       "      <td>Royal Kensington and Chelsea</td>\n",
       "      <td>United Kingdom</td>\n",
       "      <td>iPad12,1</td>\n",
       "      <td>1.0.5</td>\n",
       "      <td>2022-04-09 10:45:26.022000+00:00</td>\n",
       "      <td>1</td>\n",
       "      <td>...</td>\n",
       "      <td>2022-04-09 10:45:26.022000+00:00</td>\n",
       "      <td>1.0</td>\n",
       "      <td>0.0</td>\n",
       "      <td>1</td>\n",
       "      <td>3573.0</td>\n",
       "      <td>None</td>\n",
       "      <td>NaN</td>\n",
       "      <td>NaN</td>\n",
       "      <td>0.000000</td>\n",
       "      <td>2021-12-19 14:16:39.549000+00:00</td>\n",
       "    </tr>\n",
       "    <tr>\n",
       "      <th>18812</th>\n",
       "      <td>1.652027e+12</td>\n",
       "      <td>Hamburg</td>\n",
       "      <td>English</td>\n",
       "      <td>14.6</td>\n",
       "      <td>Free and Hanseatic City of Hamburg</td>\n",
       "      <td>Germany</td>\n",
       "      <td>iPad Pro</td>\n",
       "      <td>4.1.3</td>\n",
       "      <td>2022-05-08 16:39:55.181000+00:00</td>\n",
       "      <td>17</td>\n",
       "      <td>...</td>\n",
       "      <td>2022-05-08 16:32:21.326000+00:00</td>\n",
       "      <td>0.0</td>\n",
       "      <td>0.0</td>\n",
       "      <td>0</td>\n",
       "      <td>2525.0</td>\n",
       "      <td>None</td>\n",
       "      <td>4930.0</td>\n",
       "      <td>NaN</td>\n",
       "      <td>7.564250</td>\n",
       "      <td>2022-05-08 16:29:14.356000+00:00</td>\n",
       "    </tr>\n",
       "    <tr>\n",
       "      <th>18813</th>\n",
       "      <td>1.652029e+12</td>\n",
       "      <td>Hamburg</td>\n",
       "      <td>English</td>\n",
       "      <td>14.6</td>\n",
       "      <td>Free and Hanseatic City of Hamburg</td>\n",
       "      <td>Germany</td>\n",
       "      <td>iPad Pro</td>\n",
       "      <td>4.1.3</td>\n",
       "      <td>2022-05-08 17:01:24.501000+00:00</td>\n",
       "      <td>20</td>\n",
       "      <td>...</td>\n",
       "      <td>2022-05-08 16:58:54.378000+00:00</td>\n",
       "      <td>0.0</td>\n",
       "      <td>0.0</td>\n",
       "      <td>1</td>\n",
       "      <td>834.0</td>\n",
       "      <td>None</td>\n",
       "      <td>4930.0</td>\n",
       "      <td>NaN</td>\n",
       "      <td>2.502050</td>\n",
       "      <td>2022-05-08 16:29:14.356000+00:00</td>\n",
       "    </tr>\n",
       "    <tr>\n",
       "      <th>18814</th>\n",
       "      <td>1.652377e+12</td>\n",
       "      <td>Hamburg</td>\n",
       "      <td>English</td>\n",
       "      <td>14.6</td>\n",
       "      <td>Free and Hanseatic City of Hamburg</td>\n",
       "      <td>Germany</td>\n",
       "      <td>iPad Pro</td>\n",
       "      <td>4.1.3</td>\n",
       "      <td>2022-05-12 18:05:34.559000+00:00</td>\n",
       "      <td>19</td>\n",
       "      <td>...</td>\n",
       "      <td>2022-05-12 17:38:47.898000+00:00</td>\n",
       "      <td>19.0</td>\n",
       "      <td>0.0</td>\n",
       "      <td>1</td>\n",
       "      <td>9393.0</td>\n",
       "      <td>Back</td>\n",
       "      <td>4934.0</td>\n",
       "      <td>100.0</td>\n",
       "      <td>26.777683</td>\n",
       "      <td>2022-05-08 16:29:14.356000+00:00</td>\n",
       "    </tr>\n",
       "    <tr>\n",
       "      <th>18815</th>\n",
       "      <td>1.651921e+12</td>\n",
       "      <td>Hamburg</td>\n",
       "      <td>German</td>\n",
       "      <td>15.4.1</td>\n",
       "      <td>Free and Hanseatic City of Hamburg</td>\n",
       "      <td>Germany</td>\n",
       "      <td>iPad8,11</td>\n",
       "      <td>4.2.0</td>\n",
       "      <td>2022-05-07 12:38:30.518000+00:00</td>\n",
       "      <td>582</td>\n",
       "      <td>...</td>\n",
       "      <td>2022-05-07 10:53:03.270000+00:00</td>\n",
       "      <td>0.0</td>\n",
       "      <td>0.0</td>\n",
       "      <td>13</td>\n",
       "      <td>86652.0</td>\n",
       "      <td>Back</td>\n",
       "      <td>2269.0</td>\n",
       "      <td>NaN</td>\n",
       "      <td>105.454133</td>\n",
       "      <td>2020-12-14 02:16:05.855000+00:00</td>\n",
       "    </tr>\n",
       "  </tbody>\n",
       "</table>\n",
       "<p>18816 rows × 80 columns</p>\n",
       "</div>"
      ],
      "text/plain": [
       "         session_id        city language os_version  \\\n",
       "0      1.647421e+12    Certines   French     15.3.1   \n",
       "1      1.647421e+12    Certines   French       15.1   \n",
       "2      1.648134e+12    Certines   French     15.3.1   \n",
       "3      1.647421e+12    Certines   French       15.1   \n",
       "4      1.646641e+12    Izernore   French       15.2   \n",
       "...             ...         ...      ...        ...   \n",
       "18811  1.649501e+12  Kensington  English       15.1   \n",
       "18812  1.652027e+12     Hamburg  English       14.6   \n",
       "18813  1.652029e+12     Hamburg  English       14.6   \n",
       "18814  1.652377e+12     Hamburg  English       14.6   \n",
       "18815  1.651921e+12     Hamburg   German     15.4.1   \n",
       "\n",
       "                                   region         country device_model  \\\n",
       "0                                     Ain          France     iPad11,6   \n",
       "1                                     Ain          France     iPad11,6   \n",
       "2                                     Ain          France     iPad11,6   \n",
       "3                                     Ain          France     iPad11,6   \n",
       "4                                     Ain          France       iPad 6   \n",
       "...                                   ...             ...          ...   \n",
       "18811        Royal Kensington and Chelsea  United Kingdom     iPad12,1   \n",
       "18812  Free and Hanseatic City of Hamburg         Germany     iPad Pro   \n",
       "18813  Free and Hanseatic City of Hamburg         Germany     iPad Pro   \n",
       "18814  Free and Hanseatic City of Hamburg         Germany     iPad Pro   \n",
       "18815  Free and Hanseatic City of Hamburg         Germany     iPad8,11   \n",
       "\n",
       "      start_version                      session_end   id  ...  \\\n",
       "0             1.0.1 2022-03-16 08:58:14.214000+00:00    6  ...   \n",
       "1             1.0.1 2022-03-16 08:58:45.380000+00:00    5  ...   \n",
       "2             1.0.1 2022-03-24 15:06:35.838000+00:00    5  ...   \n",
       "3             1.0.1 2022-03-16 08:57:59.845000+00:00    5  ...   \n",
       "4             1.0.3 2022-03-07 08:25:39.783000+00:00    6  ...   \n",
       "...             ...                              ...  ...  ...   \n",
       "18811         1.0.5 2022-04-09 10:45:26.022000+00:00    1  ...   \n",
       "18812         4.1.3 2022-05-08 16:39:55.181000+00:00   17  ...   \n",
       "18813         4.1.3 2022-05-08 17:01:24.501000+00:00   20  ...   \n",
       "18814         4.1.3 2022-05-12 18:05:34.559000+00:00   19  ...   \n",
       "18815         4.2.0 2022-05-07 12:38:30.518000+00:00  582  ...   \n",
       "\n",
       "                         session_start  game_events  setup_events  \\\n",
       "0     2022-03-16 08:56:40.722000+00:00          6.0           0.0   \n",
       "1     2022-03-16 08:58:28.269000+00:00          5.0           0.0   \n",
       "2     2022-03-24 15:06:21.426000+00:00          5.0           0.0   \n",
       "3     2022-03-16 08:57:48.381000+00:00          5.0           0.0   \n",
       "4     2022-03-07 08:24:40.937000+00:00          6.0           0.0   \n",
       "...                                ...          ...           ...   \n",
       "18811 2022-04-09 10:45:26.022000+00:00          1.0           0.0   \n",
       "18812 2022-05-08 16:32:21.326000+00:00          0.0           0.0   \n",
       "18813 2022-05-08 16:58:54.378000+00:00          0.0           0.0   \n",
       "18814 2022-05-12 17:38:47.898000+00:00         19.0           0.0   \n",
       "18815 2022-05-07 10:53:03.270000+00:00          0.0           0.0   \n",
       "\n",
       "       unique_activity  Time_Spent  Action_Element_Name  Profile_Age_days  \\\n",
       "0                    0        37.0                 None              -1.0   \n",
       "1                    0        25.0                 None              -1.0   \n",
       "2                    0        28.0                 None              -1.0   \n",
       "3                    0        20.0                 None              -1.0   \n",
       "4                    0       858.0                 Back            1891.0   \n",
       "...                ...         ...                  ...               ...   \n",
       "18811                1      3573.0                 None               NaN   \n",
       "18812                0      2525.0                 None            4930.0   \n",
       "18813                1       834.0                 None            4930.0   \n",
       "18814                1      9393.0                 Back            4934.0   \n",
       "18815               13     86652.0                 Back            2269.0   \n",
       "\n",
       "       good_answer_ratio  duration_min               user_creation_time  \n",
       "0                    NaN      1.558200 2021-11-20 15:17:18.537000+00:00  \n",
       "1                    NaN      0.285183 2021-11-20 15:17:18.537000+00:00  \n",
       "2                    NaN      0.240200 2021-11-20 15:17:18.537000+00:00  \n",
       "3                    NaN      0.191067 2021-11-20 15:17:18.537000+00:00  \n",
       "4                    NaN      0.980767 2021-12-07 18:08:20.505000+00:00  \n",
       "...                  ...           ...                              ...  \n",
       "18811                NaN      0.000000 2021-12-19 14:16:39.549000+00:00  \n",
       "18812                NaN      7.564250 2022-05-08 16:29:14.356000+00:00  \n",
       "18813                NaN      2.502050 2022-05-08 16:29:14.356000+00:00  \n",
       "18814              100.0     26.777683 2022-05-08 16:29:14.356000+00:00  \n",
       "18815                NaN    105.454133 2020-12-14 02:16:05.855000+00:00  \n",
       "\n",
       "[18816 rows x 80 columns]"
      ]
     },
     "execution_count": 14,
     "metadata": {},
     "output_type": "execute_result"
    }
   ],
   "source": [
    "sm_df"
   ]
  },
  {
   "cell_type": "code",
   "execution_count": 15,
   "id": "3b848e8d",
   "metadata": {
    "ExecuteTime": {
     "end_time": "2022-06-30T13:18:45.091594Z",
     "start_time": "2022-06-30T13:18:45.088891Z"
    }
   },
   "outputs": [],
   "source": [
    "#On calcul le nombre de sessions avant celle en cours\n",
    "def nb_session(user_id,session_start):\n",
    "    return sm_df[(sm_df['user_id']==user_id) & (sm_df['session_start']<session_start)].shape[0]"
   ]
  },
  {
   "cell_type": "code",
   "execution_count": 16,
   "id": "6997cf58",
   "metadata": {
    "ExecuteTime": {
     "end_time": "2022-06-30T13:18:52.350506Z",
     "start_time": "2022-06-30T13:18:45.092810Z"
    }
   },
   "outputs": [],
   "source": [
    "sm_df['previous_session'] = sm_df.apply(lambda x:nb_session(x.user_id,x.session_start), axis=1)"
   ]
  },
  {
   "cell_type": "code",
   "execution_count": 17,
   "id": "a494c7c2",
   "metadata": {
    "ExecuteTime": {
     "end_time": "2022-06-30T13:18:52.354962Z",
     "start_time": "2022-06-30T13:18:52.352023Z"
    }
   },
   "outputs": [],
   "source": [
    "#On calcul le temps depuis la dernière sessions\n",
    "def last_session_time(user_id,session_start):\n",
    "    last_session = sm_df[(sm_df['user_id']==user_id) & (sm_df['session_start']<session_start)]\\\n",
    "    .sort_values(by='session_start',ascending=True)\\\n",
    "    .groupby('user_id').last()['session_start']\n",
    "    if len(last_session.values)==0:\n",
    "        return timedelta(0)\n",
    "    else:\n",
    "        last_session = last_session.dt.to_pydatetime()[0].replace(tzinfo=None)\n",
    "        return (session_start.to_pydatetime().replace(tzinfo=None) - last_session)"
   ]
  },
  {
   "cell_type": "code",
   "execution_count": 18,
   "id": "1589721a",
   "metadata": {
    "ExecuteTime": {
     "end_time": "2022-06-30T13:18:52.358004Z",
     "start_time": "2022-06-30T13:18:52.356061Z"
    }
   },
   "outputs": [],
   "source": [
    "#(sm_df[(sm_df['user_id']==65616.0) & (sm_df['session_start']<'2022-03-16 08:58:28.269000+00:00')].sort_values(by='session_start',ascending=True).groupby('user_id').last()['session_start'].dt.to_pydatetime()[0].replace(tzinfo=None))"
   ]
  },
  {
   "cell_type": "code",
   "execution_count": 19,
   "id": "8203f318",
   "metadata": {
    "ExecuteTime": {
     "end_time": "2022-06-30T13:19:31.556915Z",
     "start_time": "2022-06-30T13:18:52.359227Z"
    }
   },
   "outputs": [],
   "source": [
    "sm_df['time_since_last_session'] = sm_df.apply(lambda x:last_session_time(x.user_id,x.session_start), axis=1)"
   ]
  },
  {
   "cell_type": "code",
   "execution_count": 20,
   "id": "d7e2be5f",
   "metadata": {
    "ExecuteTime": {
     "end_time": "2022-06-30T13:19:31.565009Z",
     "start_time": "2022-06-30T13:19:31.558270Z"
    }
   },
   "outputs": [
    {
     "data": {
      "text/html": [
       "<div>\n",
       "<style scoped>\n",
       "    .dataframe tbody tr th:only-of-type {\n",
       "        vertical-align: middle;\n",
       "    }\n",
       "\n",
       "    .dataframe tbody tr th {\n",
       "        vertical-align: top;\n",
       "    }\n",
       "\n",
       "    .dataframe thead th {\n",
       "        text-align: right;\n",
       "    }\n",
       "</style>\n",
       "<table border=\"1\" class=\"dataframe\">\n",
       "  <thead>\n",
       "    <tr style=\"text-align: right;\">\n",
       "      <th></th>\n",
       "      <th>session_start</th>\n",
       "      <th>time_since_last_session</th>\n",
       "    </tr>\n",
       "  </thead>\n",
       "  <tbody>\n",
       "    <tr>\n",
       "      <th>10</th>\n",
       "      <td>2022-01-12 15:34:18.911000+00:00</td>\n",
       "      <td>0 days 00:00:00</td>\n",
       "    </tr>\n",
       "    <tr>\n",
       "      <th>11</th>\n",
       "      <td>2022-03-05 16:00:00.822000+00:00</td>\n",
       "      <td>52 days 00:25:41.911000</td>\n",
       "    </tr>\n",
       "    <tr>\n",
       "      <th>9</th>\n",
       "      <td>2022-03-05 20:23:34.583000+00:00</td>\n",
       "      <td>0 days 04:23:33.761000</td>\n",
       "    </tr>\n",
       "    <tr>\n",
       "      <th>6</th>\n",
       "      <td>2022-03-07 07:15:12.051000+00:00</td>\n",
       "      <td>1 days 10:51:37.468000</td>\n",
       "    </tr>\n",
       "    <tr>\n",
       "      <th>7</th>\n",
       "      <td>2022-03-07 07:52:31.465000+00:00</td>\n",
       "      <td>0 days 00:37:19.414000</td>\n",
       "    </tr>\n",
       "    <tr>\n",
       "      <th>4</th>\n",
       "      <td>2022-03-07 08:24:40.937000+00:00</td>\n",
       "      <td>0 days 00:32:09.472000</td>\n",
       "    </tr>\n",
       "    <tr>\n",
       "      <th>5</th>\n",
       "      <td>2022-05-09 09:50:43.882000+00:00</td>\n",
       "      <td>63 days 01:26:02.945000</td>\n",
       "    </tr>\n",
       "    <tr>\n",
       "      <th>8</th>\n",
       "      <td>2022-05-10 06:57:04.671000+00:00</td>\n",
       "      <td>0 days 21:06:20.789000</td>\n",
       "    </tr>\n",
       "    <tr>\n",
       "      <th>12</th>\n",
       "      <td>2022-05-10 14:45:39.525000+00:00</td>\n",
       "      <td>0 days 07:48:34.854000</td>\n",
       "    </tr>\n",
       "    <tr>\n",
       "      <th>16</th>\n",
       "      <td>2022-05-11 06:42:18.649000+00:00</td>\n",
       "      <td>0 days 15:56:39.124000</td>\n",
       "    </tr>\n",
       "    <tr>\n",
       "      <th>14</th>\n",
       "      <td>2022-05-11 06:58:05.849000+00:00</td>\n",
       "      <td>0 days 00:15:47.200000</td>\n",
       "    </tr>\n",
       "    <tr>\n",
       "      <th>15</th>\n",
       "      <td>2022-05-11 06:59:03.619000+00:00</td>\n",
       "      <td>0 days 00:00:57.770000</td>\n",
       "    </tr>\n",
       "    <tr>\n",
       "      <th>17</th>\n",
       "      <td>2022-05-11 07:00:10.908000+00:00</td>\n",
       "      <td>0 days 00:01:07.289000</td>\n",
       "    </tr>\n",
       "    <tr>\n",
       "      <th>19</th>\n",
       "      <td>2022-05-11 07:40:26.784000+00:00</td>\n",
       "      <td>0 days 00:40:15.876000</td>\n",
       "    </tr>\n",
       "    <tr>\n",
       "      <th>22</th>\n",
       "      <td>2022-05-11 07:41:23.017000+00:00</td>\n",
       "      <td>0 days 00:00:56.233000</td>\n",
       "    </tr>\n",
       "    <tr>\n",
       "      <th>20</th>\n",
       "      <td>2022-05-11 07:41:23.160000+00:00</td>\n",
       "      <td>0 days 00:00:00.143000</td>\n",
       "    </tr>\n",
       "    <tr>\n",
       "      <th>21</th>\n",
       "      <td>2022-05-11 07:41:31.708000+00:00</td>\n",
       "      <td>0 days 00:00:08.548000</td>\n",
       "    </tr>\n",
       "    <tr>\n",
       "      <th>18</th>\n",
       "      <td>2022-05-11 08:34:25.716000+00:00</td>\n",
       "      <td>0 days 00:52:54.008000</td>\n",
       "    </tr>\n",
       "    <tr>\n",
       "      <th>13</th>\n",
       "      <td>2022-05-12 12:05:01.125000+00:00</td>\n",
       "      <td>1 days 03:30:35.409000</td>\n",
       "    </tr>\n",
       "  </tbody>\n",
       "</table>\n",
       "</div>"
      ],
      "text/plain": [
       "                      session_start time_since_last_session\n",
       "10 2022-01-12 15:34:18.911000+00:00         0 days 00:00:00\n",
       "11 2022-03-05 16:00:00.822000+00:00 52 days 00:25:41.911000\n",
       "9  2022-03-05 20:23:34.583000+00:00  0 days 04:23:33.761000\n",
       "6  2022-03-07 07:15:12.051000+00:00  1 days 10:51:37.468000\n",
       "7  2022-03-07 07:52:31.465000+00:00  0 days 00:37:19.414000\n",
       "4  2022-03-07 08:24:40.937000+00:00  0 days 00:32:09.472000\n",
       "5  2022-05-09 09:50:43.882000+00:00 63 days 01:26:02.945000\n",
       "8  2022-05-10 06:57:04.671000+00:00  0 days 21:06:20.789000\n",
       "12 2022-05-10 14:45:39.525000+00:00  0 days 07:48:34.854000\n",
       "16 2022-05-11 06:42:18.649000+00:00  0 days 15:56:39.124000\n",
       "14 2022-05-11 06:58:05.849000+00:00  0 days 00:15:47.200000\n",
       "15 2022-05-11 06:59:03.619000+00:00  0 days 00:00:57.770000\n",
       "17 2022-05-11 07:00:10.908000+00:00  0 days 00:01:07.289000\n",
       "19 2022-05-11 07:40:26.784000+00:00  0 days 00:40:15.876000\n",
       "22 2022-05-11 07:41:23.017000+00:00  0 days 00:00:56.233000\n",
       "20 2022-05-11 07:41:23.160000+00:00  0 days 00:00:00.143000\n",
       "21 2022-05-11 07:41:31.708000+00:00  0 days 00:00:08.548000\n",
       "18 2022-05-11 08:34:25.716000+00:00  0 days 00:52:54.008000\n",
       "13 2022-05-12 12:05:01.125000+00:00  1 days 03:30:35.409000"
      ]
     },
     "execution_count": 20,
     "metadata": {},
     "output_type": "execute_result"
    }
   ],
   "source": [
    "#Vérification pour un utilisateur donné, le début de toutes ses sessions ordonné et l'écart avec la dernière session\n",
    "sm_df[sm_df['user_id']==66337.0].sort_values(by='session_start',ascending=True)[['session_start','time_since_last_session']]"
   ]
  },
  {
   "cell_type": "code",
   "execution_count": 21,
   "id": "b5737b74",
   "metadata": {
    "ExecuteTime": {
     "end_time": "2022-06-30T13:19:31.569140Z",
     "start_time": "2022-06-30T13:19:31.566883Z"
    }
   },
   "outputs": [],
   "source": [
    "#sm_df.groupby('user_id').agg({'time_since_last_session':'mean','setup_events':sum,'game_events':sum,'id':'count'})['id'].value_counts()"
   ]
  },
  {
   "cell_type": "code",
   "execution_count": 24,
   "id": "5d54ee63",
   "metadata": {
    "ExecuteTime": {
     "end_time": "2022-06-30T13:22:00.732795Z",
     "start_time": "2022-06-30T13:22:00.714599Z"
    }
   },
   "outputs": [
    {
     "data": {
      "text/plain": [
       "Timedelta('3 days 04:41:50.486608937')"
      ]
     },
     "execution_count": 24,
     "metadata": {},
     "output_type": "execute_result"
    }
   ],
   "source": [
    "#Durée moyenne entre deux sessions\n",
    "sm_df[sm_df['time_since_last_session']!=timedelta(0)]['time_since_last_session'].mean()"
   ]
  },
  {
   "cell_type": "code",
   "execution_count": 27,
   "id": "532183ea",
   "metadata": {
    "ExecuteTime": {
     "end_time": "2022-06-30T13:23:45.250876Z",
     "start_time": "2022-06-30T13:23:45.103618Z"
    }
   },
   "outputs": [],
   "source": [
    "#Conversion de la colonne time_since_last_session timedelta en timestampe[min]\n",
    "sm_df['time_since_last_session_min']=sm_df['time_since_last_session'].map(lambda x : x.total_seconds()/60)"
   ]
  },
  {
   "cell_type": "markdown",
   "id": "0f4278e3",
   "metadata": {},
   "source": [
    "**Ajout de la maturité au moment du début de la sessions**"
   ]
  },
  {
   "cell_type": "code",
   "execution_count": 28,
   "id": "e67d98f0",
   "metadata": {
    "ExecuteTime": {
     "end_time": "2022-06-30T13:23:46.470846Z",
     "start_time": "2022-06-30T13:23:46.309349Z"
    }
   },
   "outputs": [],
   "source": [
    "sm_df[\"week_maturity\"] =(sm_df[\"session_start\"]-sm_df[\"user_creation_time\"]).map(lambda x: int(np.ceil(x.days/7))+1)"
   ]
  },
  {
   "cell_type": "markdown",
   "id": "6e0f4e11",
   "metadata": {},
   "source": [
    "**Ajout du type d'utilisateur depuis la table user_augmented**"
   ]
  },
  {
   "cell_type": "code",
   "execution_count": 29,
   "id": "6aab4e6a",
   "metadata": {
    "ExecuteTime": {
     "end_time": "2022-06-30T13:23:47.781283Z",
     "start_time": "2022-06-30T13:23:47.771153Z"
    }
   },
   "outputs": [],
   "source": [
    "def extract_user_type(project,credentials):\n",
    "    # Construct a BigQuery client object.\n",
    "    client = bigquery.Client(project=project, credentials=credentials)\n",
    "\n",
    "    query = \"\"\"\n",
    "    SELECT Type, user_id\n",
    "    FROM `marbotic.marbotic_dataset.user_augmented`\n",
    "    \"\"\"\n",
    "\n",
    "    query_job = client.query(query)  # Make an API request.\n",
    "    results=query_job.result().to_dataframe() # Waits for job to complete.\n",
    "\n",
    "    return pd.DataFrame(results)"
   ]
  },
  {
   "cell_type": "code",
   "execution_count": 30,
   "id": "54333238",
   "metadata": {
    "ExecuteTime": {
     "end_time": "2022-06-30T13:23:50.610793Z",
     "start_time": "2022-06-30T13:23:48.825200Z"
    }
   },
   "outputs": [
    {
     "data": {
      "text/html": [
       "<div>\n",
       "<style scoped>\n",
       "    .dataframe tbody tr th:only-of-type {\n",
       "        vertical-align: middle;\n",
       "    }\n",
       "\n",
       "    .dataframe tbody tr th {\n",
       "        vertical-align: top;\n",
       "    }\n",
       "\n",
       "    .dataframe thead th {\n",
       "        text-align: right;\n",
       "    }\n",
       "</style>\n",
       "<table border=\"1\" class=\"dataframe\">\n",
       "  <thead>\n",
       "    <tr style=\"text-align: right;\">\n",
       "      <th></th>\n",
       "      <th>Type</th>\n",
       "      <th>user_id</th>\n",
       "    </tr>\n",
       "  </thead>\n",
       "  <tbody>\n",
       "    <tr>\n",
       "      <th>0</th>\n",
       "      <td>None</td>\n",
       "      <td>0</td>\n",
       "    </tr>\n",
       "    <tr>\n",
       "      <th>1</th>\n",
       "      <td>Parent</td>\n",
       "      <td>1220</td>\n",
       "    </tr>\n",
       "    <tr>\n",
       "      <th>2</th>\n",
       "      <td>Parent</td>\n",
       "      <td>1405</td>\n",
       "    </tr>\n",
       "    <tr>\n",
       "      <th>3</th>\n",
       "      <td>Parent</td>\n",
       "      <td>1957</td>\n",
       "    </tr>\n",
       "    <tr>\n",
       "      <th>4</th>\n",
       "      <td>Parent</td>\n",
       "      <td>2560</td>\n",
       "    </tr>\n",
       "    <tr>\n",
       "      <th>...</th>\n",
       "      <td>...</td>\n",
       "      <td>...</td>\n",
       "    </tr>\n",
       "    <tr>\n",
       "      <th>2622</th>\n",
       "      <td>Parent</td>\n",
       "      <td>73098</td>\n",
       "    </tr>\n",
       "    <tr>\n",
       "      <th>2623</th>\n",
       "      <td>Teacher</td>\n",
       "      <td>73127</td>\n",
       "    </tr>\n",
       "    <tr>\n",
       "      <th>2624</th>\n",
       "      <td>Teacher</td>\n",
       "      <td>73128</td>\n",
       "    </tr>\n",
       "    <tr>\n",
       "      <th>2625</th>\n",
       "      <td>Parent</td>\n",
       "      <td>73132</td>\n",
       "    </tr>\n",
       "    <tr>\n",
       "      <th>2626</th>\n",
       "      <td>Teacher</td>\n",
       "      <td>73183</td>\n",
       "    </tr>\n",
       "  </tbody>\n",
       "</table>\n",
       "<p>2627 rows × 2 columns</p>\n",
       "</div>"
      ],
      "text/plain": [
       "         Type  user_id\n",
       "0        None        0\n",
       "1      Parent     1220\n",
       "2      Parent     1405\n",
       "3      Parent     1957\n",
       "4      Parent     2560\n",
       "...       ...      ...\n",
       "2622   Parent    73098\n",
       "2623  Teacher    73127\n",
       "2624  Teacher    73128\n",
       "2625   Parent    73132\n",
       "2626  Teacher    73183\n",
       "\n",
       "[2627 rows x 2 columns]"
      ]
     },
     "execution_count": 30,
     "metadata": {},
     "output_type": "execute_result"
    }
   ],
   "source": [
    "user_type_df = extract_user_type(project,credentials)\n",
    "user_type_df"
   ]
  },
  {
   "cell_type": "code",
   "execution_count": 31,
   "id": "a4bb3ff5",
   "metadata": {
    "ExecuteTime": {
     "end_time": "2022-06-30T13:23:50.633013Z",
     "start_time": "2022-06-30T13:23:50.613946Z"
    }
   },
   "outputs": [],
   "source": [
    "sm_df = sm_df.merge(user_type_df, on='user_id')"
   ]
  },
  {
   "cell_type": "code",
   "execution_count": 69,
   "id": "756a3e28",
   "metadata": {
    "ExecuteTime": {
     "end_time": "2022-06-30T13:32:39.420010Z",
     "start_time": "2022-06-30T13:32:39.372861Z"
    }
   },
   "outputs": [
    {
     "name": "stderr",
     "output_type": "stream",
     "text": [
      "/var/folders/c7/kdqvz76x679f28lhd235r_v40000gn/T/ipykernel_65009/258057669.py:2: UserWarning: Boolean Series key will be reindexed to match DataFrame index.\n",
      "  sm_df[sm_df['Type']=='Parent'][sm_df['time_since_last_session']!=timedelta(0)]['time_since_last_session'].mean()\n"
     ]
    },
    {
     "data": {
      "text/plain": [
       "Timedelta('3 days 10:11:01.818812509')"
      ]
     },
     "execution_count": 69,
     "metadata": {},
     "output_type": "execute_result"
    }
   ],
   "source": [
    "#Durée moyenne entre deux sessions pour les parents\n",
    "sm_df[sm_df['Type']=='Parent'][sm_df['time_since_last_session']!=timedelta(0)]['time_since_last_session'].mean()"
   ]
  },
  {
   "cell_type": "code",
   "execution_count": 73,
   "id": "eca33330",
   "metadata": {
    "ExecuteTime": {
     "end_time": "2022-06-30T13:33:55.234852Z",
     "start_time": "2022-06-30T13:33:55.228401Z"
    }
   },
   "outputs": [],
   "source": [
    "week_maturity = sm_df['week_maturity']\n",
    "min_last_session = sm_df['time_since_last_session_min']"
   ]
  },
  {
   "cell_type": "code",
   "execution_count": 78,
   "id": "bc7d3c56",
   "metadata": {
    "ExecuteTime": {
     "end_time": "2022-06-30T13:35:02.515378Z",
     "start_time": "2022-06-30T13:35:02.477135Z"
    }
   },
   "outputs": [
    {
     "data": {
      "text/html": [
       "<div>\n",
       "<style scoped>\n",
       "    .dataframe tbody tr th:only-of-type {\n",
       "        vertical-align: middle;\n",
       "    }\n",
       "\n",
       "    .dataframe tbody tr th {\n",
       "        vertical-align: top;\n",
       "    }\n",
       "\n",
       "    .dataframe thead th {\n",
       "        text-align: right;\n",
       "    }\n",
       "</style>\n",
       "<table border=\"1\" class=\"dataframe\">\n",
       "  <thead>\n",
       "    <tr style=\"text-align: right;\">\n",
       "      <th></th>\n",
       "      <th>session_id</th>\n",
       "      <th>city</th>\n",
       "      <th>language</th>\n",
       "      <th>os_version</th>\n",
       "      <th>region</th>\n",
       "      <th>country</th>\n",
       "      <th>device_model</th>\n",
       "      <th>start_version</th>\n",
       "      <th>session_end</th>\n",
       "      <th>id</th>\n",
       "      <th>...</th>\n",
       "      <th>Action_Element_Name</th>\n",
       "      <th>Profile_Age_days</th>\n",
       "      <th>good_answer_ratio</th>\n",
       "      <th>duration_min</th>\n",
       "      <th>user_creation_time</th>\n",
       "      <th>previous_session</th>\n",
       "      <th>time_since_last_session</th>\n",
       "      <th>time_since_last_session_min</th>\n",
       "      <th>week_maturity</th>\n",
       "      <th>Type</th>\n",
       "    </tr>\n",
       "  </thead>\n",
       "  <tbody>\n",
       "    <tr>\n",
       "      <th>0</th>\n",
       "      <td>1.647421e+12</td>\n",
       "      <td>Certines</td>\n",
       "      <td>French</td>\n",
       "      <td>15.3.1</td>\n",
       "      <td>Ain</td>\n",
       "      <td>France</td>\n",
       "      <td>iPad11,6</td>\n",
       "      <td>1.0.1</td>\n",
       "      <td>2022-03-16 08:58:14.214000+00:00</td>\n",
       "      <td>6</td>\n",
       "      <td>...</td>\n",
       "      <td>None</td>\n",
       "      <td>-1.0</td>\n",
       "      <td>NaN</td>\n",
       "      <td>1.558200</td>\n",
       "      <td>2021-11-20 15:17:18.537000+00:00</td>\n",
       "      <td>0</td>\n",
       "      <td>0 days 00:00:00</td>\n",
       "      <td>0.000000</td>\n",
       "      <td>18</td>\n",
       "      <td>Teacher</td>\n",
       "    </tr>\n",
       "    <tr>\n",
       "      <th>1</th>\n",
       "      <td>1.647421e+12</td>\n",
       "      <td>Certines</td>\n",
       "      <td>French</td>\n",
       "      <td>15.1</td>\n",
       "      <td>Ain</td>\n",
       "      <td>France</td>\n",
       "      <td>iPad11,6</td>\n",
       "      <td>1.0.1</td>\n",
       "      <td>2022-03-16 08:58:45.380000+00:00</td>\n",
       "      <td>5</td>\n",
       "      <td>...</td>\n",
       "      <td>None</td>\n",
       "      <td>-1.0</td>\n",
       "      <td>NaN</td>\n",
       "      <td>0.285183</td>\n",
       "      <td>2021-11-20 15:17:18.537000+00:00</td>\n",
       "      <td>2</td>\n",
       "      <td>0 days 00:00:39.888000</td>\n",
       "      <td>0.664800</td>\n",
       "      <td>18</td>\n",
       "      <td>Teacher</td>\n",
       "    </tr>\n",
       "    <tr>\n",
       "      <th>2</th>\n",
       "      <td>1.648134e+12</td>\n",
       "      <td>Certines</td>\n",
       "      <td>French</td>\n",
       "      <td>15.3.1</td>\n",
       "      <td>Ain</td>\n",
       "      <td>France</td>\n",
       "      <td>iPad11,6</td>\n",
       "      <td>1.0.1</td>\n",
       "      <td>2022-03-24 15:06:35.838000+00:00</td>\n",
       "      <td>5</td>\n",
       "      <td>...</td>\n",
       "      <td>None</td>\n",
       "      <td>-1.0</td>\n",
       "      <td>NaN</td>\n",
       "      <td>0.240200</td>\n",
       "      <td>2021-11-20 15:17:18.537000+00:00</td>\n",
       "      <td>3</td>\n",
       "      <td>8 days 06:07:53.157000</td>\n",
       "      <td>11887.885950</td>\n",
       "      <td>19</td>\n",
       "      <td>Teacher</td>\n",
       "    </tr>\n",
       "    <tr>\n",
       "      <th>3</th>\n",
       "      <td>1.647421e+12</td>\n",
       "      <td>Certines</td>\n",
       "      <td>French</td>\n",
       "      <td>15.1</td>\n",
       "      <td>Ain</td>\n",
       "      <td>France</td>\n",
       "      <td>iPad11,6</td>\n",
       "      <td>1.0.1</td>\n",
       "      <td>2022-03-16 08:57:59.845000+00:00</td>\n",
       "      <td>5</td>\n",
       "      <td>...</td>\n",
       "      <td>None</td>\n",
       "      <td>-1.0</td>\n",
       "      <td>NaN</td>\n",
       "      <td>0.191067</td>\n",
       "      <td>2021-11-20 15:17:18.537000+00:00</td>\n",
       "      <td>1</td>\n",
       "      <td>0 days 00:01:07.659000</td>\n",
       "      <td>1.127650</td>\n",
       "      <td>18</td>\n",
       "      <td>Teacher</td>\n",
       "    </tr>\n",
       "    <tr>\n",
       "      <th>4</th>\n",
       "      <td>1.646641e+12</td>\n",
       "      <td>Izernore</td>\n",
       "      <td>French</td>\n",
       "      <td>15.2</td>\n",
       "      <td>Ain</td>\n",
       "      <td>France</td>\n",
       "      <td>iPad 6</td>\n",
       "      <td>1.0.3</td>\n",
       "      <td>2022-03-07 08:25:39.783000+00:00</td>\n",
       "      <td>6</td>\n",
       "      <td>...</td>\n",
       "      <td>Back</td>\n",
       "      <td>1891.0</td>\n",
       "      <td>NaN</td>\n",
       "      <td>0.980767</td>\n",
       "      <td>2021-12-07 18:08:20.505000+00:00</td>\n",
       "      <td>5</td>\n",
       "      <td>0 days 00:32:09.472000</td>\n",
       "      <td>32.157867</td>\n",
       "      <td>14</td>\n",
       "      <td>Teacher</td>\n",
       "    </tr>\n",
       "  </tbody>\n",
       "</table>\n",
       "<p>5 rows × 85 columns</p>\n",
       "</div>"
      ],
      "text/plain": [
       "     session_id      city language os_version region country device_model  \\\n",
       "0  1.647421e+12  Certines   French     15.3.1    Ain  France     iPad11,6   \n",
       "1  1.647421e+12  Certines   French       15.1    Ain  France     iPad11,6   \n",
       "2  1.648134e+12  Certines   French     15.3.1    Ain  France     iPad11,6   \n",
       "3  1.647421e+12  Certines   French       15.1    Ain  France     iPad11,6   \n",
       "4  1.646641e+12  Izernore   French       15.2    Ain  France       iPad 6   \n",
       "\n",
       "  start_version                      session_end  id  ...  \\\n",
       "0         1.0.1 2022-03-16 08:58:14.214000+00:00   6  ...   \n",
       "1         1.0.1 2022-03-16 08:58:45.380000+00:00   5  ...   \n",
       "2         1.0.1 2022-03-24 15:06:35.838000+00:00   5  ...   \n",
       "3         1.0.1 2022-03-16 08:57:59.845000+00:00   5  ...   \n",
       "4         1.0.3 2022-03-07 08:25:39.783000+00:00   6  ...   \n",
       "\n",
       "   Action_Element_Name  Profile_Age_days  good_answer_ratio  duration_min  \\\n",
       "0                 None              -1.0                NaN      1.558200   \n",
       "1                 None              -1.0                NaN      0.285183   \n",
       "2                 None              -1.0                NaN      0.240200   \n",
       "3                 None              -1.0                NaN      0.191067   \n",
       "4                 Back            1891.0                NaN      0.980767   \n",
       "\n",
       "                user_creation_time  previous_session  time_since_last_session  \\\n",
       "0 2021-11-20 15:17:18.537000+00:00                 0          0 days 00:00:00   \n",
       "1 2021-11-20 15:17:18.537000+00:00                 2   0 days 00:00:39.888000   \n",
       "2 2021-11-20 15:17:18.537000+00:00                 3   8 days 06:07:53.157000   \n",
       "3 2021-11-20 15:17:18.537000+00:00                 1   0 days 00:01:07.659000   \n",
       "4 2021-12-07 18:08:20.505000+00:00                 5   0 days 00:32:09.472000   \n",
       "\n",
       "   time_since_last_session_min  week_maturity     Type  \n",
       "0                     0.000000             18  Teacher  \n",
       "1                     0.664800             18  Teacher  \n",
       "2                 11887.885950             19  Teacher  \n",
       "3                     1.127650             18  Teacher  \n",
       "4                    32.157867             14  Teacher  \n",
       "\n",
       "[5 rows x 85 columns]"
      ]
     },
     "execution_count": 78,
     "metadata": {},
     "output_type": "execute_result"
    }
   ],
   "source": [
    "sm_df.head()"
   ]
  },
  {
   "cell_type": "code",
   "execution_count": 89,
   "id": "850c15b4",
   "metadata": {
    "ExecuteTime": {
     "end_time": "2022-06-30T13:38:23.638037Z",
     "start_time": "2022-06-30T13:38:23.164448Z"
    }
   },
   "outputs": [
    {
     "data": {
      "image/png": "[encoded data removed]",
      "text/plain": [
       "<Figure size 1080x720 with 1 Axes>"
      ]
     },
     "metadata": {
      "needs_background": "light"
     },
     "output_type": "display_data"
    }
   ],
   "source": [
    "plt.figure(figsize=(15, 10))\n",
    "sns.scatterplot(x=week_maturity,y=min_last_session,hue=sm_df['Type']);"
   ]
  },
  {
   "cell_type": "code",
   "execution_count": 95,
   "id": "7b6644a5",
   "metadata": {
    "ExecuteTime": {
     "end_time": "2022-06-30T14:13:29.127951Z",
     "start_time": "2022-06-30T14:13:29.113677Z"
    }
   },
   "outputs": [],
   "source": [
    "#On drope la colone time_since_last_session en timedelta car incompatbile BQ\n",
    "sm_df.drop('time_since_last_session',axis=1,inplace=True)"
   ]
  },
  {
   "cell_type": "markdown",
   "id": "406188eb",
   "metadata": {},
   "source": [
    "## Correlation"
   ]
  },
  {
   "cell_type": "code",
   "execution_count": 148,
   "id": "2531c611",
   "metadata": {
    "ExecuteTime": {
     "end_time": "2022-06-30T14:24:53.865620Z",
     "start_time": "2022-06-30T14:24:52.339815Z"
    }
   },
   "outputs": [
    {
     "data": {
      "image/png": "[encoded data removed]",
      "text/plain": [
       "<Figure size 432x288 with 2 Axes>"
      ]
     },
     "metadata": {
      "needs_background": "light"
     },
     "output_type": "display_data"
    }
   ],
   "source": [
    "# Heatmap\n",
    "corr = sm_df.corr()\n",
    "sns.heatmap(corr, \n",
    "        xticklabels=corr.columns,\n",
    "        yticklabels=corr.columns,\n",
    "        cmap= \"YlGnBu\");"
   ]
  },
  {
   "cell_type": "code",
   "execution_count": 149,
   "id": "ebb0d854",
   "metadata": {
    "ExecuteTime": {
     "end_time": "2022-06-30T14:24:53.876292Z",
     "start_time": "2022-06-30T14:24:53.867116Z"
    }
   },
   "outputs": [
    {
     "data": {
      "text/html": [
       "<div>\n",
       "<style scoped>\n",
       "    .dataframe tbody tr th:only-of-type {\n",
       "        vertical-align: middle;\n",
       "    }\n",
       "\n",
       "    .dataframe tbody tr th {\n",
       "        vertical-align: top;\n",
       "    }\n",
       "\n",
       "    .dataframe thead th {\n",
       "        text-align: right;\n",
       "    }\n",
       "</style>\n",
       "<table border=\"1\" class=\"dataframe\">\n",
       "  <thead>\n",
       "    <tr style=\"text-align: right;\">\n",
       "      <th></th>\n",
       "      <th>feature_1</th>\n",
       "      <th>feature_2</th>\n",
       "      <th>correlation</th>\n",
       "    </tr>\n",
       "  </thead>\n",
       "  <tbody>\n",
       "    <tr>\n",
       "      <th>4441</th>\n",
       "      <td>event_type_Toast_Appear</td>\n",
       "      <td>event_type_Toast_Disappear</td>\n",
       "      <td>0.990477</td>\n",
       "    </tr>\n",
       "    <tr>\n",
       "      <th>4513</th>\n",
       "      <td>event_type_Toast_Disappear</td>\n",
       "      <td>event_type_Toast_Appear</td>\n",
       "      <td>0.990477</td>\n",
       "    </tr>\n",
       "    <tr>\n",
       "      <th>2591</th>\n",
       "      <td>event_type_OB_ProductActivation</td>\n",
       "      <td>event_type_OB_ProductHelp</td>\n",
       "      <td>0.951336</td>\n",
       "    </tr>\n",
       "    <tr>\n",
       "      <th>2663</th>\n",
       "      <td>event_type_OB_ProductHelp</td>\n",
       "      <td>event_type_OB_ProductActivation</td>\n",
       "      <td>0.951336</td>\n",
       "    </tr>\n",
       "    <tr>\n",
       "      <th>135</th>\n",
       "      <td>id</td>\n",
       "      <td>game_events</td>\n",
       "      <td>0.940707</td>\n",
       "    </tr>\n",
       "    <tr>\n",
       "      <th>4527</th>\n",
       "      <td>game_events</td>\n",
       "      <td>id</td>\n",
       "      <td>0.940707</td>\n",
       "    </tr>\n",
       "    <tr>\n",
       "      <th>4369</th>\n",
       "      <td>event_type_Scene_Leave</td>\n",
       "      <td>game_events</td>\n",
       "      <td>0.937821</td>\n",
       "    </tr>\n",
       "    <tr>\n",
       "      <th>4585</th>\n",
       "      <td>game_events</td>\n",
       "      <td>event_type_Scene_Leave</td>\n",
       "      <td>0.937821</td>\n",
       "    </tr>\n",
       "    <tr>\n",
       "      <th>3107</th>\n",
       "      <td>event_type_OB_ProfileName</td>\n",
       "      <td>event_type_OB_ProfileBirthdate</td>\n",
       "      <td>0.921704</td>\n",
       "    </tr>\n",
       "    <tr>\n",
       "      <th>3035</th>\n",
       "      <td>event_type_OB_ProfileBirthdate</td>\n",
       "      <td>event_type_OB_ProfileName</td>\n",
       "      <td>0.921704</td>\n",
       "    </tr>\n",
       "    <tr>\n",
       "      <th>4308</th>\n",
       "      <td>event_type_Scene_Leave</td>\n",
       "      <td>id</td>\n",
       "      <td>0.886415</td>\n",
       "    </tr>\n",
       "    <tr>\n",
       "      <th>132</th>\n",
       "      <td>id</td>\n",
       "      <td>event_type_Scene_Leave</td>\n",
       "      <td>0.886415</td>\n",
       "    </tr>\n",
       "    <tr>\n",
       "      <th>1999</th>\n",
       "      <td>event_type_OB_DoYouHaveKit</td>\n",
       "      <td>event_type_OB_Email</td>\n",
       "      <td>0.884152</td>\n",
       "    </tr>\n",
       "    <tr>\n",
       "      <th>2071</th>\n",
       "      <td>event_type_OB_Email</td>\n",
       "      <td>event_type_OB_DoYouHaveKit</td>\n",
       "      <td>0.884152</td>\n",
       "    </tr>\n",
       "    <tr>\n",
       "      <th>2884</th>\n",
       "      <td>event_type_OB_ProductSeeMore</td>\n",
       "      <td>event_type_OB_ProductOther</td>\n",
       "      <td>0.883772</td>\n",
       "    </tr>\n",
       "    <tr>\n",
       "      <th>2740</th>\n",
       "      <td>event_type_OB_ProductOther</td>\n",
       "      <td>event_type_OB_ProductSeeMore</td>\n",
       "      <td>0.883772</td>\n",
       "    </tr>\n",
       "    <tr>\n",
       "      <th>3701</th>\n",
       "      <td>event_type_Popup_Close</td>\n",
       "      <td>event_type_Popup_Open</td>\n",
       "      <td>0.883706</td>\n",
       "    </tr>\n",
       "    <tr>\n",
       "      <th>3773</th>\n",
       "      <td>event_type_Popup_Open</td>\n",
       "      <td>event_type_Popup_Close</td>\n",
       "      <td>0.883706</td>\n",
       "    </tr>\n",
       "    <tr>\n",
       "      <th>3837</th>\n",
       "      <td>event_type_Profile_Create</td>\n",
       "      <td>event_type_OB_ProfileBirthdate</td>\n",
       "      <td>0.880044</td>\n",
       "    </tr>\n",
       "    <tr>\n",
       "      <th>3045</th>\n",
       "      <td>event_type_OB_ProfileBirthdate</td>\n",
       "      <td>event_type_Profile_Create</td>\n",
       "      <td>0.880044</td>\n",
       "    </tr>\n",
       "  </tbody>\n",
       "</table>\n",
       "</div>"
      ],
      "text/plain": [
       "                            feature_1                        feature_2  \\\n",
       "4441          event_type_Toast_Appear       event_type_Toast_Disappear   \n",
       "4513       event_type_Toast_Disappear          event_type_Toast_Appear   \n",
       "2591  event_type_OB_ProductActivation        event_type_OB_ProductHelp   \n",
       "2663        event_type_OB_ProductHelp  event_type_OB_ProductActivation   \n",
       "135                                id                      game_events   \n",
       "4527                      game_events                               id   \n",
       "4369           event_type_Scene_Leave                      game_events   \n",
       "4585                      game_events           event_type_Scene_Leave   \n",
       "3107        event_type_OB_ProfileName   event_type_OB_ProfileBirthdate   \n",
       "3035   event_type_OB_ProfileBirthdate        event_type_OB_ProfileName   \n",
       "4308           event_type_Scene_Leave                               id   \n",
       "132                                id           event_type_Scene_Leave   \n",
       "1999       event_type_OB_DoYouHaveKit              event_type_OB_Email   \n",
       "2071              event_type_OB_Email       event_type_OB_DoYouHaveKit   \n",
       "2884     event_type_OB_ProductSeeMore       event_type_OB_ProductOther   \n",
       "2740       event_type_OB_ProductOther     event_type_OB_ProductSeeMore   \n",
       "3701           event_type_Popup_Close            event_type_Popup_Open   \n",
       "3773            event_type_Popup_Open           event_type_Popup_Close   \n",
       "3837        event_type_Profile_Create   event_type_OB_ProfileBirthdate   \n",
       "3045   event_type_OB_ProfileBirthdate        event_type_Profile_Create   \n",
       "\n",
       "      correlation  \n",
       "4441     0.990477  \n",
       "4513     0.990477  \n",
       "2591     0.951336  \n",
       "2663     0.951336  \n",
       "135      0.940707  \n",
       "4527     0.940707  \n",
       "4369     0.937821  \n",
       "4585     0.937821  \n",
       "3107     0.921704  \n",
       "3035     0.921704  \n",
       "4308     0.886415  \n",
       "132      0.886415  \n",
       "1999     0.884152  \n",
       "2071     0.884152  \n",
       "2884     0.883772  \n",
       "2740     0.883772  \n",
       "3701     0.883706  \n",
       "3773     0.883706  \n",
       "3837     0.880044  \n",
       "3045     0.880044  "
      ]
     },
     "execution_count": 149,
     "metadata": {},
     "output_type": "execute_result"
    }
   ],
   "source": [
    "corr_df = corr.unstack().reset_index() # Unstack correlation matrix \n",
    "corr_df.columns = ['feature_1','feature_2', 'correlation'] # rename columns\n",
    "corr_df.sort_values(by=\"correlation\",ascending=False, inplace=True) # sort by correlation\n",
    "corr_df = corr_df[corr_df['feature_1'] != corr_df['feature_2']] # Remove self correlation\n",
    "corr_df.head(20)"
   ]
  },
  {
   "cell_type": "markdown",
   "id": "d0291abe",
   "metadata": {
    "ExecuteTime": {
     "end_time": "2022-06-27T13:42:20.630716Z",
     "start_time": "2022-06-27T13:42:20.479884Z"
    }
   },
   "source": [
    "## Labelling"
   ]
  },
  {
   "cell_type": "code",
   "execution_count": 96,
   "id": "13a17f2c",
   "metadata": {
    "ExecuteTime": {
     "end_time": "2022-06-30T14:13:35.036793Z",
     "start_time": "2022-06-30T14:13:35.027344Z"
    }
   },
   "outputs": [],
   "source": [
    "#On considère le seuil de churn à 3 semaine.\n",
    "#On est en situation de churn si la session suivante arrive dans plus de 3 semaines.\n",
    "CHURN_THRESHOLD = timedelta(days=21)\n",
    "\n",
    "#On utilise une constante TODAY pour evaluer le risque de churn des dernières session.\n",
    "#Dans notre cas TODAY est le max de session end. On considère que l'extract s'arrète au moment de la dernière session de jeu dont on dispose\n",
    "TODAY = datetime(2022, 5, 13, 0, 0)"
   ]
  },
  {
   "cell_type": "code",
   "execution_count": 97,
   "id": "2c74139a",
   "metadata": {
    "ExecuteTime": {
     "end_time": "2022-06-30T14:13:35.468571Z",
     "start_time": "2022-06-30T14:13:35.462790Z"
    }
   },
   "outputs": [],
   "source": [
    "#sm_df[(sm_df['user_id']==65616.0)& ('2022-03-16 08:58:14.214000+00:00'<sm_df['session_end'])].sort_values(by='session_end',ascending=True).groupby('user_id').first()['session_start']"
   ]
  },
  {
   "cell_type": "code",
   "execution_count": 98,
   "id": "f11bfce4",
   "metadata": {
    "ExecuteTime": {
     "end_time": "2022-06-30T14:13:35.840059Z",
     "start_time": "2022-06-30T14:13:35.826551Z"
    }
   },
   "outputs": [],
   "source": [
    "#On calcul le temps jusqu'à la prochaine sessions si superieur au seuil de churn. Label_risque de churn = 1\n",
    "def labelling_churn(user_id,session_end,session_start,CHURN_THRESHOLD,today):\n",
    "    next_session = sm_df[(sm_df['user_id']==user_id) & (session_end<sm_df['session_end'])]\\\n",
    "    .sort_values(by='session_end',ascending=True)\\\n",
    "    .groupby('user_id').first()['session_start']\n",
    "    if len(next_session.values) == 0:\n",
    "        if today - session_start.to_pydatetime().replace(tzinfo=None)> CHURN_THRESHOLD :\n",
    "            return 1\n",
    "        else:\n",
    "            return 0\n",
    "    else:\n",
    "        delta = (next_session - session_end)\n",
    "        if delta.iloc[0] < CHURN_THRESHOLD:\n",
    "            return 0\n",
    "        else:\n",
    "            return 1"
   ]
  },
  {
   "cell_type": "code",
   "execution_count": 99,
   "id": "4184b58a",
   "metadata": {
    "ExecuteTime": {
     "end_time": "2022-06-30T14:14:18.446501Z",
     "start_time": "2022-06-30T14:13:36.211158Z"
    }
   },
   "outputs": [],
   "source": [
    "sm_df['churn_risk'] = sm_df.apply(lambda x:labelling_churn(x.user_id,x.session_end,x.session_start,CHURN_THRESHOLD,TODAY), axis=1)"
   ]
  },
  {
   "cell_type": "code",
   "execution_count": 100,
   "id": "9d8a865a",
   "metadata": {
    "ExecuteTime": {
     "end_time": "2022-06-30T14:14:18.455203Z",
     "start_time": "2022-06-30T14:14:18.448213Z"
    }
   },
   "outputs": [
    {
     "data": {
      "text/html": [
       "<div>\n",
       "<style scoped>\n",
       "    .dataframe tbody tr th:only-of-type {\n",
       "        vertical-align: middle;\n",
       "    }\n",
       "\n",
       "    .dataframe tbody tr th {\n",
       "        vertical-align: top;\n",
       "    }\n",
       "\n",
       "    .dataframe thead th {\n",
       "        text-align: right;\n",
       "    }\n",
       "</style>\n",
       "<table border=\"1\" class=\"dataframe\">\n",
       "  <thead>\n",
       "    <tr style=\"text-align: right;\">\n",
       "      <th></th>\n",
       "      <th>session_start</th>\n",
       "      <th>time_since_last_session_min</th>\n",
       "      <th>churn_risk</th>\n",
       "    </tr>\n",
       "  </thead>\n",
       "  <tbody>\n",
       "    <tr>\n",
       "      <th>10</th>\n",
       "      <td>2022-01-12 15:34:18.911000+00:00</td>\n",
       "      <td>0.000000</td>\n",
       "      <td>1</td>\n",
       "    </tr>\n",
       "    <tr>\n",
       "      <th>11</th>\n",
       "      <td>2022-03-05 16:00:00.822000+00:00</td>\n",
       "      <td>74905.698517</td>\n",
       "      <td>0</td>\n",
       "    </tr>\n",
       "    <tr>\n",
       "      <th>9</th>\n",
       "      <td>2022-03-05 20:23:34.583000+00:00</td>\n",
       "      <td>263.562683</td>\n",
       "      <td>0</td>\n",
       "    </tr>\n",
       "    <tr>\n",
       "      <th>6</th>\n",
       "      <td>2022-03-07 07:15:12.051000+00:00</td>\n",
       "      <td>2091.624467</td>\n",
       "      <td>0</td>\n",
       "    </tr>\n",
       "    <tr>\n",
       "      <th>7</th>\n",
       "      <td>2022-03-07 07:52:31.465000+00:00</td>\n",
       "      <td>37.323567</td>\n",
       "      <td>0</td>\n",
       "    </tr>\n",
       "    <tr>\n",
       "      <th>4</th>\n",
       "      <td>2022-03-07 08:24:40.937000+00:00</td>\n",
       "      <td>32.157867</td>\n",
       "      <td>1</td>\n",
       "    </tr>\n",
       "    <tr>\n",
       "      <th>5</th>\n",
       "      <td>2022-05-09 09:50:43.882000+00:00</td>\n",
       "      <td>90806.049083</td>\n",
       "      <td>0</td>\n",
       "    </tr>\n",
       "    <tr>\n",
       "      <th>8</th>\n",
       "      <td>2022-05-10 06:57:04.671000+00:00</td>\n",
       "      <td>1266.346483</td>\n",
       "      <td>0</td>\n",
       "    </tr>\n",
       "    <tr>\n",
       "      <th>12</th>\n",
       "      <td>2022-05-10 14:45:39.525000+00:00</td>\n",
       "      <td>468.580900</td>\n",
       "      <td>0</td>\n",
       "    </tr>\n",
       "    <tr>\n",
       "      <th>16</th>\n",
       "      <td>2022-05-11 06:42:18.649000+00:00</td>\n",
       "      <td>956.652067</td>\n",
       "      <td>0</td>\n",
       "    </tr>\n",
       "    <tr>\n",
       "      <th>14</th>\n",
       "      <td>2022-05-11 06:58:05.849000+00:00</td>\n",
       "      <td>15.786667</td>\n",
       "      <td>0</td>\n",
       "    </tr>\n",
       "    <tr>\n",
       "      <th>15</th>\n",
       "      <td>2022-05-11 06:59:03.619000+00:00</td>\n",
       "      <td>0.962833</td>\n",
       "      <td>0</td>\n",
       "    </tr>\n",
       "    <tr>\n",
       "      <th>17</th>\n",
       "      <td>2022-05-11 07:00:10.908000+00:00</td>\n",
       "      <td>1.121483</td>\n",
       "      <td>0</td>\n",
       "    </tr>\n",
       "    <tr>\n",
       "      <th>19</th>\n",
       "      <td>2022-05-11 07:40:26.784000+00:00</td>\n",
       "      <td>40.264600</td>\n",
       "      <td>0</td>\n",
       "    </tr>\n",
       "    <tr>\n",
       "      <th>22</th>\n",
       "      <td>2022-05-11 07:41:23.017000+00:00</td>\n",
       "      <td>0.937217</td>\n",
       "      <td>0</td>\n",
       "    </tr>\n",
       "    <tr>\n",
       "      <th>20</th>\n",
       "      <td>2022-05-11 07:41:23.160000+00:00</td>\n",
       "      <td>0.002383</td>\n",
       "      <td>0</td>\n",
       "    </tr>\n",
       "    <tr>\n",
       "      <th>21</th>\n",
       "      <td>2022-05-11 07:41:31.708000+00:00</td>\n",
       "      <td>0.142467</td>\n",
       "      <td>0</td>\n",
       "    </tr>\n",
       "    <tr>\n",
       "      <th>18</th>\n",
       "      <td>2022-05-11 08:34:25.716000+00:00</td>\n",
       "      <td>52.900133</td>\n",
       "      <td>0</td>\n",
       "    </tr>\n",
       "    <tr>\n",
       "      <th>13</th>\n",
       "      <td>2022-05-12 12:05:01.125000+00:00</td>\n",
       "      <td>1650.590150</td>\n",
       "      <td>0</td>\n",
       "    </tr>\n",
       "  </tbody>\n",
       "</table>\n",
       "</div>"
      ],
      "text/plain": [
       "                      session_start  time_since_last_session_min  churn_risk\n",
       "10 2022-01-12 15:34:18.911000+00:00                     0.000000           1\n",
       "11 2022-03-05 16:00:00.822000+00:00                 74905.698517           0\n",
       "9  2022-03-05 20:23:34.583000+00:00                   263.562683           0\n",
       "6  2022-03-07 07:15:12.051000+00:00                  2091.624467           0\n",
       "7  2022-03-07 07:52:31.465000+00:00                    37.323567           0\n",
       "4  2022-03-07 08:24:40.937000+00:00                    32.157867           1\n",
       "5  2022-05-09 09:50:43.882000+00:00                 90806.049083           0\n",
       "8  2022-05-10 06:57:04.671000+00:00                  1266.346483           0\n",
       "12 2022-05-10 14:45:39.525000+00:00                   468.580900           0\n",
       "16 2022-05-11 06:42:18.649000+00:00                   956.652067           0\n",
       "14 2022-05-11 06:58:05.849000+00:00                    15.786667           0\n",
       "15 2022-05-11 06:59:03.619000+00:00                     0.962833           0\n",
       "17 2022-05-11 07:00:10.908000+00:00                     1.121483           0\n",
       "19 2022-05-11 07:40:26.784000+00:00                    40.264600           0\n",
       "22 2022-05-11 07:41:23.017000+00:00                     0.937217           0\n",
       "20 2022-05-11 07:41:23.160000+00:00                     0.002383           0\n",
       "21 2022-05-11 07:41:31.708000+00:00                     0.142467           0\n",
       "18 2022-05-11 08:34:25.716000+00:00                    52.900133           0\n",
       "13 2022-05-12 12:05:01.125000+00:00                  1650.590150           0"
      ]
     },
     "execution_count": 100,
     "metadata": {},
     "output_type": "execute_result"
    }
   ],
   "source": [
    "#Vérification du label de churn sur l'utilisateur déja vérifié plus haut.\n",
    "sm_df[sm_df['user_id']==66337.0].sort_values(by='session_start',ascending=True)[['session_start','time_since_last_session_min','churn_risk']]"
   ]
  },
  {
   "cell_type": "code",
   "execution_count": 101,
   "id": "cd10bf3f",
   "metadata": {
    "ExecuteTime": {
     "end_time": "2022-06-30T14:14:18.466060Z",
     "start_time": "2022-06-30T14:14:18.456285Z"
    }
   },
   "outputs": [
    {
     "data": {
      "text/plain": [
       "0    13090\n",
       "1     1901\n",
       "Name: churn_risk, dtype: int64"
      ]
     },
     "execution_count": 101,
     "metadata": {},
     "output_type": "execute_result"
    }
   ],
   "source": [
    "sm_df[sm_df['Type']=='Parent']['churn_risk'].value_counts()"
   ]
  },
  {
   "cell_type": "code",
   "execution_count": 102,
   "id": "afaddf7e",
   "metadata": {
    "ExecuteTime": {
     "end_time": "2022-06-30T14:14:18.478779Z",
     "start_time": "2022-06-30T14:14:18.468619Z"
    }
   },
   "outputs": [
    {
     "data": {
      "text/plain": [
       "12.680941898472417"
      ]
     },
     "execution_count": 102,
     "metadata": {},
     "output_type": "execute_result"
    }
   ],
   "source": [
    "(1901/(13090+1901))*100"
   ]
  },
  {
   "cell_type": "code",
   "execution_count": 103,
   "id": "c296e6f8",
   "metadata": {
    "ExecuteTime": {
     "end_time": "2022-06-30T14:14:18.486587Z",
     "start_time": "2022-06-30T14:14:18.479835Z"
    }
   },
   "outputs": [
    {
     "data": {
      "text/plain": [
       "0    3495\n",
       "1     329\n",
       "Name: churn_risk, dtype: int64"
      ]
     },
     "execution_count": 103,
     "metadata": {},
     "output_type": "execute_result"
    }
   ],
   "source": [
    "sm_df[sm_df['Type']=='Teacher']['churn_risk'].value_counts()"
   ]
  },
  {
   "cell_type": "code",
   "execution_count": 104,
   "id": "2a6e0ee8",
   "metadata": {
    "ExecuteTime": {
     "end_time": "2022-06-30T14:14:18.491104Z",
     "start_time": "2022-06-30T14:14:18.487660Z"
    }
   },
   "outputs": [
    {
     "data": {
      "text/plain": [
       "8.603556485355648"
      ]
     },
     "execution_count": 104,
     "metadata": {},
     "output_type": "execute_result"
    }
   ],
   "source": [
    "(329/(329+3495))*100"
   ]
  },
  {
   "cell_type": "markdown",
   "id": "a5cae13c",
   "metadata": {},
   "source": [
    "## Cleaning"
   ]
  },
  {
   "cell_type": "code",
   "execution_count": 105,
   "id": "d76e9eba",
   "metadata": {
    "ExecuteTime": {
     "end_time": "2022-06-30T14:14:18.526382Z",
     "start_time": "2022-06-30T14:14:18.492374Z"
    }
   },
   "outputs": [
    {
     "data": {
      "text/plain": [
       "0"
      ]
     },
     "execution_count": 105,
     "metadata": {},
     "output_type": "execute_result"
    }
   ],
   "source": [
    "#No duplicates\n",
    "sm_df.duplicated().sum()"
   ]
  },
  {
   "cell_type": "code",
   "execution_count": 106,
   "id": "371d6e5f",
   "metadata": {
    "ExecuteTime": {
     "end_time": "2022-06-30T14:14:18.549647Z",
     "start_time": "2022-06-30T14:14:18.527647Z"
    }
   },
   "outputs": [
    {
     "data": {
      "text/plain": [
       "good_answer_ratio                 52.651998\n",
       "Action_Element_Name               34.390944\n",
       "Profile_Age_days                  16.911139\n",
       "Time_Spent                         0.031888\n",
       "Type                               0.005315\n",
       "event_type_OB_RenewalSelection     0.000000\n",
       "event_type_Popup_Open              0.000000\n",
       "event_type_Popup_Close             0.000000\n",
       "event_type_OB_VerifCode            0.000000\n",
       "event_type_OB_Type                 0.000000\n",
       "dtype: float64"
      ]
     },
     "execution_count": 106,
     "metadata": {},
     "output_type": "execute_result"
    }
   ],
   "source": [
    "((sm_df.isnull().sum().sort_values(ascending=False)/len(sm_df))*100).head(10)"
   ]
  },
  {
   "cell_type": "markdown",
   "id": "cde28a34",
   "metadata": {},
   "source": [
    "good_answer_ratio Nan correspond to session with no event type answer. On remplace les Nan par -1"
   ]
  },
  {
   "cell_type": "code",
   "execution_count": 107,
   "id": "9f6bd93d",
   "metadata": {
    "ExecuteTime": {
     "end_time": "2022-06-30T14:14:18.556068Z",
     "start_time": "2022-06-30T14:14:18.550768Z"
    }
   },
   "outputs": [],
   "source": [
    "answer_ratio_imputer = SimpleImputer(strategy='constant',fill_value=-1)\n",
    "sm_df['good_answer_ratio'] = answer_ratio_imputer.fit_transform(sm_df[['good_answer_ratio']])"
   ]
  },
  {
   "cell_type": "code",
   "execution_count": 108,
   "id": "ee30ca05",
   "metadata": {
    "ExecuteTime": {
     "end_time": "2022-06-30T14:14:18.563639Z",
     "start_time": "2022-06-30T14:14:18.559410Z"
    }
   },
   "outputs": [
    {
     "data": {
      "text/plain": [
       "Back                         9769\n",
       "Home                          972\n",
       "Play New Activity             751\n",
       "Adults                        458\n",
       "Replay Activity               179\n",
       "Skip FTUE animation            52\n",
       "Account Edit Informations      44\n",
       "Action (Toast)                 39\n",
       "Close (Toast)                  38\n",
       "Let's Go                       35\n",
       "Try Again (No Internet)         3\n",
       "Validation                      2\n",
       "Twitter                         1\n",
       "Youtube                         1\n",
       "Facebook                        1\n",
       "Name: Action_Element_Name, dtype: int64"
      ]
     },
     "execution_count": 108,
     "metadata": {},
     "output_type": "execute_result"
    }
   ],
   "source": [
    "#34% de Nan, on drop cette colonne tant qu'on n'a pas d'information supplémentaire sur la signification des Nan\n",
    "sm_df['Action_Element_Name'].value_counts()"
   ]
  },
  {
   "cell_type": "code",
   "execution_count": 109,
   "id": "669221c6",
   "metadata": {
    "ExecuteTime": {
     "end_time": "2022-06-30T14:14:18.571754Z",
     "start_time": "2022-06-30T14:14:18.564663Z"
    }
   },
   "outputs": [],
   "source": [
    "sm_df.drop('Action_Element_Name',axis=1,inplace=True)"
   ]
  },
  {
   "cell_type": "code",
   "execution_count": 110,
   "id": "557d6c69",
   "metadata": {
    "ExecuteTime": {
     "end_time": "2022-06-30T14:14:18.584894Z",
     "start_time": "2022-06-30T14:14:18.573013Z"
    }
   },
   "outputs": [],
   "source": [
    "#Pour Profile_Age_days(17%), Time_Spent(0.03) on remplace par la médiane car un énorme outlier(-2911184.0) et 3341 valeur = -1\n",
    "med_imputer = SimpleImputer(strategy='median')\n",
    "sm_df['Profile_Age_days'] = med_imputer.fit_transform(sm_df[['Profile_Age_days']])\n",
    "sm_df['Time_Spent'] = med_imputer.fit_transform(sm_df[['Time_Spent']])"
   ]
  },
  {
   "cell_type": "code",
   "execution_count": 111,
   "id": "51fbcba0",
   "metadata": {
    "ExecuteTime": {
     "end_time": "2022-06-30T14:14:18.594948Z",
     "start_time": "2022-06-30T14:14:18.586149Z"
    }
   },
   "outputs": [],
   "source": [
    "#Pour Type, il manque une valeur on remplace par most frequent\n",
    "mmost_freq_imputer = SimpleImputer(missing_values=None,strategy='most_frequent')\n",
    "sm_df['Type'] = mmost_freq_imputer.fit_transform(sm_df[['Type']])"
   ]
  },
  {
   "cell_type": "code",
   "execution_count": 112,
   "id": "512b6f2e",
   "metadata": {
    "ExecuteTime": {
     "end_time": "2022-06-30T14:14:18.616757Z",
     "start_time": "2022-06-30T14:14:18.596032Z"
    }
   },
   "outputs": [
    {
     "data": {
      "text/plain": [
       "session_id                      0.0\n",
       "event_type_OB_RenewalSuccess    0.0\n",
       "event_type_Profile_Delete       0.0\n",
       "event_type_Profile_Create       0.0\n",
       "event_type_Popup_Open           0.0\n",
       "event_type_Popup_Close          0.0\n",
       "event_type_OB_VerifCode         0.0\n",
       "event_type_OB_Type              0.0\n",
       "event_type_OB_TrialStart        0.0\n",
       "event_type_OB_Success           0.0\n",
       "dtype: float64"
      ]
     },
     "execution_count": 112,
     "metadata": {},
     "output_type": "execute_result"
    }
   ],
   "source": [
    "((sm_df.isnull().sum().sort_values(ascending=False)/len(sm_df))*100).head(10)"
   ]
  },
  {
   "cell_type": "markdown",
   "id": "46757fa8",
   "metadata": {},
   "source": [
    "**Traitement des outliers extremes**"
   ]
  },
  {
   "cell_type": "code",
   "execution_count": 113,
   "id": "6761a898",
   "metadata": {
    "ExecuteTime": {
     "end_time": "2022-06-30T14:14:18.623383Z",
     "start_time": "2022-06-30T14:14:18.617855Z"
    }
   },
   "outputs": [
    {
     "data": {
      "text/plain": [
       "Time_Spent    17162486.0\n",
       "dtype: float64"
      ]
     },
     "execution_count": 113,
     "metadata": {},
     "output_type": "execute_result"
    }
   ],
   "source": [
    "# A controle Time_spent max, Profile_Age_days min\n",
    "#On supprime la session avec le time_spent = 17162486.0 de user_id = 23370.0 \n",
    "#Il a 70 sessions avec une médiane de Time_spent 7571\n",
    "sm_df[['Time_Spent']].max()"
   ]
  },
  {
   "cell_type": "code",
   "execution_count": 114,
   "id": "20c203c1",
   "metadata": {
    "ExecuteTime": {
     "end_time": "2022-06-30T14:14:18.627458Z",
     "start_time": "2022-06-30T14:14:18.624574Z"
    }
   },
   "outputs": [
    {
     "data": {
      "text/plain": [
       "(18816, 84)"
      ]
     },
     "execution_count": 114,
     "metadata": {},
     "output_type": "execute_result"
    }
   ],
   "source": [
    "sm_df.shape"
   ]
  },
  {
   "cell_type": "code",
   "execution_count": 115,
   "id": "f4143eac",
   "metadata": {
    "ExecuteTime": {
     "end_time": "2022-06-30T14:14:18.635304Z",
     "start_time": "2022-06-30T14:14:18.628853Z"
    }
   },
   "outputs": [],
   "source": [
    "sm_df.drop(axis=0,index=sm_df[sm_df['Time_Spent']==17162486.0].index,inplace=True)"
   ]
  },
  {
   "cell_type": "code",
   "execution_count": 116,
   "id": "d1aa608b",
   "metadata": {
    "ExecuteTime": {
     "end_time": "2022-06-30T14:14:18.647188Z",
     "start_time": "2022-06-30T14:14:18.636435Z"
    }
   },
   "outputs": [],
   "source": [
    "#On supprime 2 autres lignes avec Time_Spent > 1 000 000 Cela concerne le même utilsateur qui a 20 sessions\n",
    "sm_df.drop(axis=0,index=sm_df[sm_df['Time_Spent']==2190329.0].index,inplace=True)\n",
    "sm_df.drop(axis=0,index=sm_df[sm_df['Time_Spent']==1093473.0].index,inplace=True)"
   ]
  },
  {
   "cell_type": "code",
   "execution_count": 117,
   "id": "219c1aac",
   "metadata": {
    "ExecuteTime": {
     "end_time": "2022-06-30T14:14:18.654529Z",
     "start_time": "2022-06-30T14:14:18.648409Z"
    }
   },
   "outputs": [],
   "source": [
    "# On supprime l'utilisateur avec un age énorme négatif. Session unique user_creation_time : 27-22-2021\n",
    "sm_df.drop(axis=0,index=sm_df[sm_df['Profile_Age_days']==-2911184.0].index,inplace=True)"
   ]
  },
  {
   "cell_type": "markdown",
   "id": "1eb366fe",
   "metadata": {},
   "source": [
    "## processing des colonnes"
   ]
  },
  {
   "cell_type": "code",
   "execution_count": 118,
   "id": "f5581adc",
   "metadata": {
    "ExecuteTime": {
     "end_time": "2022-06-30T14:14:18.662968Z",
     "start_time": "2022-06-30T14:14:18.655689Z"
    }
   },
   "outputs": [
    {
     "data": {
      "text/html": [
       "<div>\n",
       "<style scoped>\n",
       "    .dataframe tbody tr th:only-of-type {\n",
       "        vertical-align: middle;\n",
       "    }\n",
       "\n",
       "    .dataframe tbody tr th {\n",
       "        vertical-align: top;\n",
       "    }\n",
       "\n",
       "    .dataframe thead th {\n",
       "        text-align: right;\n",
       "    }\n",
       "</style>\n",
       "<table border=\"1\" class=\"dataframe\">\n",
       "  <thead>\n",
       "    <tr style=\"text-align: right;\">\n",
       "      <th></th>\n",
       "      <th>city</th>\n",
       "      <th>language</th>\n",
       "      <th>os_version</th>\n",
       "      <th>region</th>\n",
       "      <th>country</th>\n",
       "      <th>device_model</th>\n",
       "      <th>start_version</th>\n",
       "      <th>Type</th>\n",
       "    </tr>\n",
       "  </thead>\n",
       "  <tbody>\n",
       "    <tr>\n",
       "      <th>0</th>\n",
       "      <td>Certines</td>\n",
       "      <td>French</td>\n",
       "      <td>15.3.1</td>\n",
       "      <td>Ain</td>\n",
       "      <td>France</td>\n",
       "      <td>iPad11,6</td>\n",
       "      <td>1.0.1</td>\n",
       "      <td>Teacher</td>\n",
       "    </tr>\n",
       "    <tr>\n",
       "      <th>1</th>\n",
       "      <td>Certines</td>\n",
       "      <td>French</td>\n",
       "      <td>15.1</td>\n",
       "      <td>Ain</td>\n",
       "      <td>France</td>\n",
       "      <td>iPad11,6</td>\n",
       "      <td>1.0.1</td>\n",
       "      <td>Teacher</td>\n",
       "    </tr>\n",
       "    <tr>\n",
       "      <th>2</th>\n",
       "      <td>Certines</td>\n",
       "      <td>French</td>\n",
       "      <td>15.3.1</td>\n",
       "      <td>Ain</td>\n",
       "      <td>France</td>\n",
       "      <td>iPad11,6</td>\n",
       "      <td>1.0.1</td>\n",
       "      <td>Teacher</td>\n",
       "    </tr>\n",
       "    <tr>\n",
       "      <th>3</th>\n",
       "      <td>Certines</td>\n",
       "      <td>French</td>\n",
       "      <td>15.1</td>\n",
       "      <td>Ain</td>\n",
       "      <td>France</td>\n",
       "      <td>iPad11,6</td>\n",
       "      <td>1.0.1</td>\n",
       "      <td>Teacher</td>\n",
       "    </tr>\n",
       "    <tr>\n",
       "      <th>4</th>\n",
       "      <td>Izernore</td>\n",
       "      <td>French</td>\n",
       "      <td>15.2</td>\n",
       "      <td>Ain</td>\n",
       "      <td>France</td>\n",
       "      <td>iPad 6</td>\n",
       "      <td>1.0.3</td>\n",
       "      <td>Teacher</td>\n",
       "    </tr>\n",
       "    <tr>\n",
       "      <th>...</th>\n",
       "      <td>...</td>\n",
       "      <td>...</td>\n",
       "      <td>...</td>\n",
       "      <td>...</td>\n",
       "      <td>...</td>\n",
       "      <td>...</td>\n",
       "      <td>...</td>\n",
       "      <td>...</td>\n",
       "    </tr>\n",
       "    <tr>\n",
       "      <th>18811</th>\n",
       "      <td>Kensington</td>\n",
       "      <td>English</td>\n",
       "      <td>15.1</td>\n",
       "      <td>Royal Kensington and Chelsea</td>\n",
       "      <td>United Kingdom</td>\n",
       "      <td>iPad12,1</td>\n",
       "      <td>1.0.5</td>\n",
       "      <td>Parent</td>\n",
       "    </tr>\n",
       "    <tr>\n",
       "      <th>18812</th>\n",
       "      <td>Hamburg</td>\n",
       "      <td>English</td>\n",
       "      <td>14.6</td>\n",
       "      <td>Free and Hanseatic City of Hamburg</td>\n",
       "      <td>Germany</td>\n",
       "      <td>iPad Pro</td>\n",
       "      <td>4.1.3</td>\n",
       "      <td>Parent</td>\n",
       "    </tr>\n",
       "    <tr>\n",
       "      <th>18813</th>\n",
       "      <td>Hamburg</td>\n",
       "      <td>English</td>\n",
       "      <td>14.6</td>\n",
       "      <td>Free and Hanseatic City of Hamburg</td>\n",
       "      <td>Germany</td>\n",
       "      <td>iPad Pro</td>\n",
       "      <td>4.1.3</td>\n",
       "      <td>Parent</td>\n",
       "    </tr>\n",
       "    <tr>\n",
       "      <th>18814</th>\n",
       "      <td>Hamburg</td>\n",
       "      <td>English</td>\n",
       "      <td>14.6</td>\n",
       "      <td>Free and Hanseatic City of Hamburg</td>\n",
       "      <td>Germany</td>\n",
       "      <td>iPad Pro</td>\n",
       "      <td>4.1.3</td>\n",
       "      <td>Parent</td>\n",
       "    </tr>\n",
       "    <tr>\n",
       "      <th>18815</th>\n",
       "      <td>Hamburg</td>\n",
       "      <td>German</td>\n",
       "      <td>15.4.1</td>\n",
       "      <td>Free and Hanseatic City of Hamburg</td>\n",
       "      <td>Germany</td>\n",
       "      <td>iPad8,11</td>\n",
       "      <td>4.2.0</td>\n",
       "      <td>Parent</td>\n",
       "    </tr>\n",
       "  </tbody>\n",
       "</table>\n",
       "<p>18812 rows × 8 columns</p>\n",
       "</div>"
      ],
      "text/plain": [
       "             city language os_version                              region  \\\n",
       "0        Certines   French     15.3.1                                 Ain   \n",
       "1        Certines   French       15.1                                 Ain   \n",
       "2        Certines   French     15.3.1                                 Ain   \n",
       "3        Certines   French       15.1                                 Ain   \n",
       "4        Izernore   French       15.2                                 Ain   \n",
       "...           ...      ...        ...                                 ...   \n",
       "18811  Kensington  English       15.1        Royal Kensington and Chelsea   \n",
       "18812     Hamburg  English       14.6  Free and Hanseatic City of Hamburg   \n",
       "18813     Hamburg  English       14.6  Free and Hanseatic City of Hamburg   \n",
       "18814     Hamburg  English       14.6  Free and Hanseatic City of Hamburg   \n",
       "18815     Hamburg   German     15.4.1  Free and Hanseatic City of Hamburg   \n",
       "\n",
       "              country device_model start_version     Type  \n",
       "0              France     iPad11,6         1.0.1  Teacher  \n",
       "1              France     iPad11,6         1.0.1  Teacher  \n",
       "2              France     iPad11,6         1.0.1  Teacher  \n",
       "3              France     iPad11,6         1.0.1  Teacher  \n",
       "4              France       iPad 6         1.0.3  Teacher  \n",
       "...               ...          ...           ...      ...  \n",
       "18811  United Kingdom     iPad12,1         1.0.5   Parent  \n",
       "18812         Germany     iPad Pro         4.1.3   Parent  \n",
       "18813         Germany     iPad Pro         4.1.3   Parent  \n",
       "18814         Germany     iPad Pro         4.1.3   Parent  \n",
       "18815         Germany     iPad8,11         4.2.0   Parent  \n",
       "\n",
       "[18812 rows x 8 columns]"
      ]
     },
     "execution_count": 118,
     "metadata": {},
     "output_type": "execute_result"
    }
   ],
   "source": [
    "sm_df.select_dtypes(include='object')"
   ]
  },
  {
   "cell_type": "code",
   "execution_count": 119,
   "id": "8aba5117",
   "metadata": {
    "ExecuteTime": {
     "end_time": "2022-06-30T14:14:18.666560Z",
     "start_time": "2022-06-30T14:14:18.664025Z"
    }
   },
   "outputs": [],
   "source": [
    "cat_transformer = OneHotEncoder(handle_unknown='ignore')\n",
    "cat_selection = sm_df[['Type']].columns"
   ]
  },
  {
   "cell_type": "code",
   "execution_count": 194,
   "id": "f05d5104",
   "metadata": {
    "ExecuteTime": {
     "end_time": "2022-06-30T14:34:23.070705Z",
     "start_time": "2022-06-30T14:34:23.059170Z"
    }
   },
   "outputs": [],
   "source": [
    "#On retire des éléments très corrélés\n",
    "num_transformer = MinMaxScaler()\n",
    "num_selection = sm_df.select_dtypes(include=['float64','int64']).drop(['churn_risk','session_id','id','user_id','event_type_Toast_Disappear','event_type_OB_ProductHelp','event_type_OB_ProfileName'],axis=1).columns"
   ]
  },
  {
   "cell_type": "code",
   "execution_count": 201,
   "id": "d11159c9",
   "metadata": {
    "ExecuteTime": {
     "end_time": "2022-06-30T14:34:30.456450Z",
     "start_time": "2022-06-30T14:34:30.449753Z"
    }
   },
   "outputs": [],
   "source": [
    "preprocessor = make_column_transformer(\n",
    "    (num_transformer,num_selection),\n",
    "    (cat_transformer,cat_selection ),\n",
    "    remainder = 'drop'\n",
    ")"
   ]
  },
  {
   "cell_type": "code",
   "execution_count": 202,
   "id": "f37472c5",
   "metadata": {
    "ExecuteTime": {
     "end_time": "2022-06-30T14:34:30.862834Z",
     "start_time": "2022-06-30T14:34:30.850312Z"
    }
   },
   "outputs": [
    {
     "data": {
      "text/plain": [
       "2230"
      ]
     },
     "execution_count": 202,
     "metadata": {},
     "output_type": "execute_result"
    }
   ],
   "source": [
    "sm_df['churn_risk'].value_counts()[1]"
   ]
  },
  {
   "cell_type": "markdown",
   "id": "936a545e",
   "metadata": {},
   "source": [
    "## Preparation du jeu de donnée"
   ]
  },
  {
   "cell_type": "markdown",
   "id": "42d64266",
   "metadata": {},
   "source": [
    "**On downsample les sessions sans churn risque pour en avoir autant que de churn risque**"
   ]
  },
  {
   "cell_type": "code",
   "execution_count": 203,
   "id": "93ef8282",
   "metadata": {
    "ExecuteTime": {
     "end_time": "2022-06-30T14:34:31.494253Z",
     "start_time": "2022-06-30T14:34:31.482695Z"
    }
   },
   "outputs": [],
   "source": [
    "sm_df_churn_risque = sm_df[sm_df['churn_risk']==1]"
   ]
  },
  {
   "cell_type": "code",
   "execution_count": 204,
   "id": "05984a0f",
   "metadata": {
    "ExecuteTime": {
     "end_time": "2022-06-30T14:34:31.680078Z",
     "start_time": "2022-06-30T14:34:31.656898Z"
    }
   },
   "outputs": [],
   "source": [
    "sm_df_no_churn_risque = sm_df[sm_df['churn_risk']==0]\n",
    "sm_df_no_churn_risque = sm_df_no_churn_risque.loc[np.random.choice(sm_df_no_churn_risque.index,size = sm_df_churn_risque.shape[0])]"
   ]
  },
  {
   "cell_type": "code",
   "execution_count": 205,
   "id": "8f3acf52",
   "metadata": {
    "ExecuteTime": {
     "end_time": "2022-06-30T14:34:31.870235Z",
     "start_time": "2022-06-30T14:34:31.856995Z"
    }
   },
   "outputs": [],
   "source": [
    "sm_df_balanced = pd.concat([sm_df_no_churn_risque,sm_df_churn_risque],axis=0)"
   ]
  },
  {
   "cell_type": "code",
   "execution_count": 206,
   "id": "18e7da1e",
   "metadata": {
    "ExecuteTime": {
     "end_time": "2022-06-30T14:34:32.041046Z",
     "start_time": "2022-06-30T14:34:32.028274Z"
    }
   },
   "outputs": [],
   "source": [
    "X= sm_df_balanced.drop('churn_risk',axis=1).copy()\n",
    "y = sm_df_balanced['churn_risk'].copy()"
   ]
  },
  {
   "cell_type": "markdown",
   "id": "4ca6fcd3",
   "metadata": {},
   "source": [
    "On sépare le jeu de donnée en train et test"
   ]
  },
  {
   "cell_type": "code",
   "execution_count": 207,
   "id": "77d10786",
   "metadata": {
    "ExecuteTime": {
     "end_time": "2022-06-30T14:34:32.421858Z",
     "start_time": "2022-06-30T14:34:32.406505Z"
    }
   },
   "outputs": [],
   "source": [
    "X_train, X_test, y_train, y_test = train_test_split(X, y, test_size=0.30)"
   ]
  },
  {
   "cell_type": "markdown",
   "id": "d4e1c833",
   "metadata": {},
   "source": [
    "## Feature selection"
   ]
  },
  {
   "cell_type": "code",
   "execution_count": 208,
   "id": "0bbd7c20",
   "metadata": {
    "ExecuteTime": {
     "end_time": "2022-06-30T14:34:32.781986Z",
     "start_time": "2022-06-30T14:34:32.756824Z"
    }
   },
   "outputs": [],
   "source": [
    "X_feature_sel = pd.DataFrame(preprocessor.fit_transform(X_train))"
   ]
  },
  {
   "cell_type": "code",
   "execution_count": 209,
   "id": "33246898",
   "metadata": {
    "ExecuteTime": {
     "end_time": "2022-06-30T14:34:33.997810Z",
     "start_time": "2022-06-30T14:34:32.963002Z"
    },
    "scrolled": true
   },
   "outputs": [
    {
     "data": {
      "text/html": [
       "<div>\n",
       "<style scoped>\n",
       "    .dataframe tbody tr th:only-of-type {\n",
       "        vertical-align: middle;\n",
       "    }\n",
       "\n",
       "    .dataframe tbody tr th {\n",
       "        vertical-align: top;\n",
       "    }\n",
       "\n",
       "    .dataframe thead th {\n",
       "        text-align: right;\n",
       "    }\n",
       "</style>\n",
       "<table border=\"1\" class=\"dataframe\">\n",
       "  <thead>\n",
       "    <tr style=\"text-align: right;\">\n",
       "      <th></th>\n",
       "      <th>feature</th>\n",
       "      <th>score decrease</th>\n",
       "    </tr>\n",
       "  </thead>\n",
       "  <tbody>\n",
       "    <tr>\n",
       "      <th>63</th>\n",
       "      <td>63.0</td>\n",
       "      <td>0.133600</td>\n",
       "    </tr>\n",
       "    <tr>\n",
       "      <th>65</th>\n",
       "      <td>65.0</td>\n",
       "      <td>0.006694</td>\n",
       "    </tr>\n",
       "    <tr>\n",
       "      <th>64</th>\n",
       "      <td>64.0</td>\n",
       "      <td>0.006438</td>\n",
       "    </tr>\n",
       "    <tr>\n",
       "      <th>17</th>\n",
       "      <td>17.0</td>\n",
       "      <td>0.004100</td>\n",
       "    </tr>\n",
       "    <tr>\n",
       "      <th>5</th>\n",
       "      <td>5.0</td>\n",
       "      <td>0.003459</td>\n",
       "    </tr>\n",
       "    <tr>\n",
       "      <th>...</th>\n",
       "      <td>...</td>\n",
       "      <td>...</td>\n",
       "    </tr>\n",
       "    <tr>\n",
       "      <th>11</th>\n",
       "      <td>11.0</td>\n",
       "      <td>-0.000673</td>\n",
       "    </tr>\n",
       "    <tr>\n",
       "      <th>10</th>\n",
       "      <td>10.0</td>\n",
       "      <td>-0.000769</td>\n",
       "    </tr>\n",
       "    <tr>\n",
       "      <th>36</th>\n",
       "      <td>36.0</td>\n",
       "      <td>-0.000801</td>\n",
       "    </tr>\n",
       "    <tr>\n",
       "      <th>66</th>\n",
       "      <td>66.0</td>\n",
       "      <td>-0.007367</td>\n",
       "    </tr>\n",
       "    <tr>\n",
       "      <th>67</th>\n",
       "      <td>67.0</td>\n",
       "      <td>-0.007687</td>\n",
       "    </tr>\n",
       "  </tbody>\n",
       "</table>\n",
       "<p>68 rows × 2 columns</p>\n",
       "</div>"
      ],
      "text/plain": [
       "    feature  score decrease\n",
       "63     63.0        0.133600\n",
       "65     65.0        0.006694\n",
       "64     64.0        0.006438\n",
       "17     17.0        0.004100\n",
       "5       5.0        0.003459\n",
       "..      ...             ...\n",
       "11     11.0       -0.000673\n",
       "10     10.0       -0.000769\n",
       "36     36.0       -0.000801\n",
       "66     66.0       -0.007367\n",
       "67     67.0       -0.007687\n",
       "\n",
       "[68 rows x 2 columns]"
      ]
     },
     "execution_count": 209,
     "metadata": {},
     "output_type": "execute_result"
    }
   ],
   "source": [
    "#Permet d'obtenir l'importance des features au regard des autres\n",
    "#pour chaque modèle on l'entraine 10 fois en mélangeant les valeurs d'une colonne gardant toutes les autres identiques\n",
    " \n",
    "from sklearn.inspection import permutation_importance\n",
    "from sklearn.linear_model import LogisticRegression\n",
    "\n",
    "log_model = LogisticRegression().fit(X_feature_sel, y_train) # Fit model\n",
    "# on peut mettre un keyworld arg max_iter=1000, par défaut le modèle a une limite (100, à vérifier)\n",
    "\n",
    "permutation_score = permutation_importance(log_model, X_feature_sel, y_train, n_repeats=10) # Perform Permutation\n",
    "\n",
    "importance_df = pd.DataFrame(np.vstack((X_feature_sel.columns,\n",
    "                                        permutation_score.importances_mean)).T) # Unstack results\n",
    "importance_df.columns=['feature','score decrease']\n",
    "\n",
    "importance_df.sort_values(by=\"score decrease\", ascending = False) # Order by importance"
   ]
  },
  {
   "cell_type": "markdown",
   "id": "6554bcc4",
   "metadata": {},
   "source": [
    "**La méthode de feature permutation ne donne rien de pertinent**"
   ]
  },
  {
   "cell_type": "markdown",
   "id": "44948e9c",
   "metadata": {},
   "source": [
    "## Model"
   ]
  },
  {
   "cell_type": "code",
   "execution_count": 210,
   "id": "3be30161",
   "metadata": {
    "ExecuteTime": {
     "end_time": "2022-06-30T14:34:34.001577Z",
     "start_time": "2022-06-30T14:34:33.999499Z"
    }
   },
   "outputs": [],
   "source": [
    "pipe = make_pipeline(preprocessor, RandomForestClassifier())"
   ]
  },
  {
   "cell_type": "code",
   "execution_count": 211,
   "id": "2b5545c2",
   "metadata": {
    "ExecuteTime": {
     "end_time": "2022-06-30T14:34:34.016440Z",
     "start_time": "2022-06-30T14:34:34.002773Z"
    }
   },
   "outputs": [
    {
     "data": {
      "text/plain": [
       "{'memory': None,\n",
       " 'steps': [('columntransformer',\n",
       "   ColumnTransformer(transformers=[('minmaxscaler', MinMaxScaler(),\n",
       "                                    Index(['event_type_Account_Sign_In', 'event_type_Account_Sign_Out',\n",
       "          'event_type_Account_Sign_Up', 'event_type_Account_Update_Request',\n",
       "          'event_type_Account_Update_Success', 'event_type_Action_Click',\n",
       "          'event_type_Action_ConversionClickRedeem',\n",
       "          'event_type_Action_ConversionClickSubscribe',\n",
       "          'event_...\n",
       "          'event_type_Scaffolding_Scaffolding', 'event_type_Scene_Enter',\n",
       "          'event_type_Scene_Leave', 'event_type_Toast_Appear', 'game_events',\n",
       "          'setup_events', 'unique_activity', 'Time_Spent', 'Profile_Age_days',\n",
       "          'good_answer_ratio', 'duration_min', 'previous_session',\n",
       "          'time_since_last_session_min', 'week_maturity'],\n",
       "         dtype='object')),\n",
       "                                   ('onehotencoder',\n",
       "                                    OneHotEncoder(handle_unknown='ignore'),\n",
       "                                    Index(['Type'], dtype='object'))])),\n",
       "  ('randomforestclassifier', RandomForestClassifier())],\n",
       " 'verbose': False,\n",
       " 'columntransformer': ColumnTransformer(transformers=[('minmaxscaler', MinMaxScaler(),\n",
       "                                  Index(['event_type_Account_Sign_In', 'event_type_Account_Sign_Out',\n",
       "        'event_type_Account_Sign_Up', 'event_type_Account_Update_Request',\n",
       "        'event_type_Account_Update_Success', 'event_type_Action_Click',\n",
       "        'event_type_Action_ConversionClickRedeem',\n",
       "        'event_type_Action_ConversionClickSubscribe',\n",
       "        'event_...\n",
       "        'event_type_Scaffolding_Scaffolding', 'event_type_Scene_Enter',\n",
       "        'event_type_Scene_Leave', 'event_type_Toast_Appear', 'game_events',\n",
       "        'setup_events', 'unique_activity', 'Time_Spent', 'Profile_Age_days',\n",
       "        'good_answer_ratio', 'duration_min', 'previous_session',\n",
       "        'time_since_last_session_min', 'week_maturity'],\n",
       "       dtype='object')),\n",
       "                                 ('onehotencoder',\n",
       "                                  OneHotEncoder(handle_unknown='ignore'),\n",
       "                                  Index(['Type'], dtype='object'))]),\n",
       " 'randomforestclassifier': RandomForestClassifier(),\n",
       " 'columntransformer__n_jobs': None,\n",
       " 'columntransformer__remainder': 'drop',\n",
       " 'columntransformer__sparse_threshold': 0.3,\n",
       " 'columntransformer__transformer_weights': None,\n",
       " 'columntransformer__transformers': [('minmaxscaler',\n",
       "   MinMaxScaler(),\n",
       "   Index(['event_type_Account_Sign_In', 'event_type_Account_Sign_Out',\n",
       "          'event_type_Account_Sign_Up', 'event_type_Account_Update_Request',\n",
       "          'event_type_Account_Update_Success', 'event_type_Action_Click',\n",
       "          'event_type_Action_ConversionClickRedeem',\n",
       "          'event_type_Action_ConversionClickSubscribe',\n",
       "          'event_type_Activation_Game', 'event_type_Activation_New_Activation',\n",
       "          'event_type_Activation_Piece', 'event_type_Activation_Product',\n",
       "          'event_type_Activity_Good_Answer', 'event_type_Activity_Start',\n",
       "          'event_type_Activity_Stop', 'event_type_Activity_Wrong_Answer',\n",
       "          'event_type_Error_Error', 'event_type_Game_Pause',\n",
       "          'event_type_Game_Start', 'event_type_Game_Stop',\n",
       "          'event_type_OB_ClickStore', 'event_type_OB_ClickTrial',\n",
       "          'event_type_OB_CommPreview', 'event_type_OB_DiscoverTrial',\n",
       "          'event_type_OB_DoYouHaveKit', 'event_type_OB_Email',\n",
       "          'event_type_OB_HasKeyNo', 'event_type_OB_HasKitNo',\n",
       "          'event_type_OB_HasKitYes', 'event_type_OB_KeyFail',\n",
       "          'event_type_OB_KeyRedeem', 'event_type_OB_KeySuccess',\n",
       "          'event_type_OB_ProductActivation', 'event_type_OB_ProductOther',\n",
       "          'event_type_OB_ProductSK', 'event_type_OB_ProductSeeMore',\n",
       "          'event_type_OB_ProductSelection', 'event_type_OB_ProfileBirthdate',\n",
       "          'event_type_OB_RenewalFail', 'event_type_OB_RenewalSelection',\n",
       "          'event_type_OB_RenewalSuccess', 'event_type_OB_Success',\n",
       "          'event_type_OB_TrialStart', 'event_type_OB_Type',\n",
       "          'event_type_OB_VerifCode', 'event_type_Popup_Close',\n",
       "          'event_type_Popup_Open', 'event_type_Profile_Create',\n",
       "          'event_type_Profile_Delete',\n",
       "          'event_type_Profile_Reset_Settings_and_Progression',\n",
       "          'event_type_Profile_Update', 'event_type_Scaffolding_Reset',\n",
       "          'event_type_Scaffolding_Scaffolding', 'event_type_Scene_Enter',\n",
       "          'event_type_Scene_Leave', 'event_type_Toast_Appear', 'game_events',\n",
       "          'setup_events', 'unique_activity', 'Time_Spent', 'Profile_Age_days',\n",
       "          'good_answer_ratio', 'duration_min', 'previous_session',\n",
       "          'time_since_last_session_min', 'week_maturity'],\n",
       "         dtype='object')),\n",
       "  ('onehotencoder',\n",
       "   OneHotEncoder(handle_unknown='ignore'),\n",
       "   Index(['Type'], dtype='object'))],\n",
       " 'columntransformer__verbose': False,\n",
       " 'columntransformer__verbose_feature_names_out': True,\n",
       " 'columntransformer__minmaxscaler': MinMaxScaler(),\n",
       " 'columntransformer__onehotencoder': OneHotEncoder(handle_unknown='ignore'),\n",
       " 'columntransformer__minmaxscaler__clip': False,\n",
       " 'columntransformer__minmaxscaler__copy': True,\n",
       " 'columntransformer__minmaxscaler__feature_range': (0, 1),\n",
       " 'columntransformer__onehotencoder__categories': 'auto',\n",
       " 'columntransformer__onehotencoder__drop': None,\n",
       " 'columntransformer__onehotencoder__dtype': numpy.float64,\n",
       " 'columntransformer__onehotencoder__handle_unknown': 'ignore',\n",
       " 'columntransformer__onehotencoder__max_categories': None,\n",
       " 'columntransformer__onehotencoder__min_frequency': None,\n",
       " 'columntransformer__onehotencoder__sparse': True,\n",
       " 'randomforestclassifier__bootstrap': True,\n",
       " 'randomforestclassifier__ccp_alpha': 0.0,\n",
       " 'randomforestclassifier__class_weight': None,\n",
       " 'randomforestclassifier__criterion': 'gini',\n",
       " 'randomforestclassifier__max_depth': None,\n",
       " 'randomforestclassifier__max_features': 'sqrt',\n",
       " 'randomforestclassifier__max_leaf_nodes': None,\n",
       " 'randomforestclassifier__max_samples': None,\n",
       " 'randomforestclassifier__min_impurity_decrease': 0.0,\n",
       " 'randomforestclassifier__min_samples_leaf': 1,\n",
       " 'randomforestclassifier__min_samples_split': 2,\n",
       " 'randomforestclassifier__min_weight_fraction_leaf': 0.0,\n",
       " 'randomforestclassifier__n_estimators': 100,\n",
       " 'randomforestclassifier__n_jobs': None,\n",
       " 'randomforestclassifier__oob_score': False,\n",
       " 'randomforestclassifier__random_state': None,\n",
       " 'randomforestclassifier__verbose': 0,\n",
       " 'randomforestclassifier__warm_start': False}"
      ]
     },
     "execution_count": 211,
     "metadata": {},
     "output_type": "execute_result"
    }
   ],
   "source": [
    "pipe.get_params()"
   ]
  },
  {
   "cell_type": "code",
   "execution_count": 212,
   "id": "a240fc1a",
   "metadata": {
    "ExecuteTime": {
     "end_time": "2022-06-30T14:34:34.022885Z",
     "start_time": "2022-06-30T14:34:34.019442Z"
    }
   },
   "outputs": [],
   "source": [
    "grid_search = GridSearchCV(\n",
    "    pipe, \n",
    "    param_grid={\n",
    "        'randomforestclassifier__max_depth': [30,35],\n",
    "        'randomforestclassifier__min_samples_split': [25,30],\n",
    "        'randomforestclassifier__n_estimators' : [300,400],\n",
    "        'randomforestclassifier__max_samples' : [0.3]\n",
    "    },\n",
    "    cv=5,\n",
    "    scoring=\"accuracy\",\n",
    "verbose=1)"
   ]
  },
  {
   "cell_type": "code",
   "execution_count": 213,
   "id": "8d1b54f7",
   "metadata": {
    "ExecuteTime": {
     "end_time": "2022-06-30T14:34:54.812380Z",
     "start_time": "2022-06-30T14:34:34.051700Z"
    }
   },
   "outputs": [
    {
     "name": "stdout",
     "output_type": "stream",
     "text": [
      "Fitting 5 folds for each of 8 candidates, totalling 40 fits\n"
     ]
    },
    {
     "data": {
      "text/plain": [
       "{'randomforestclassifier__max_depth': 35,\n",
       " 'randomforestclassifier__max_samples': 0.3,\n",
       " 'randomforestclassifier__min_samples_split': 30,\n",
       " 'randomforestclassifier__n_estimators': 300}"
      ]
     },
     "execution_count": 213,
     "metadata": {},
     "output_type": "execute_result"
    }
   ],
   "source": [
    "grid_search.fit(X_train, y_train)\n",
    "grid_search.best_params_"
   ]
  },
  {
   "cell_type": "code",
   "execution_count": 214,
   "id": "18740452",
   "metadata": {
    "ExecuteTime": {
     "end_time": "2022-06-30T14:34:54.817517Z",
     "start_time": "2022-06-30T14:34:54.814250Z"
    }
   },
   "outputs": [
    {
     "data": {
      "text/plain": [
       "0.7203651282051282"
      ]
     },
     "execution_count": 214,
     "metadata": {},
     "output_type": "execute_result"
    }
   ],
   "source": [
    "grid_search.best_score_"
   ]
  },
  {
   "cell_type": "code",
   "execution_count": 215,
   "id": "0f07ff5d",
   "metadata": {
    "ExecuteTime": {
     "end_time": "2022-06-30T14:34:54.821597Z",
     "start_time": "2022-06-30T14:34:54.818811Z"
    }
   },
   "outputs": [],
   "source": [
    "best_search = grid_search.best_estimator_"
   ]
  },
  {
   "cell_type": "code",
   "execution_count": 216,
   "id": "e7e96faa",
   "metadata": {
    "ExecuteTime": {
     "end_time": "2022-06-30T14:34:54.875281Z",
     "start_time": "2022-06-30T14:34:54.823763Z"
    }
   },
   "outputs": [],
   "source": [
    "y_pred = best_search.predict(X_test)"
   ]
  },
  {
   "cell_type": "code",
   "execution_count": 217,
   "id": "44b6070b",
   "metadata": {
    "ExecuteTime": {
     "end_time": "2022-06-30T14:34:54.883398Z",
     "start_time": "2022-06-30T14:34:54.876610Z"
    }
   },
   "outputs": [
    {
     "name": "stdout",
     "output_type": "stream",
     "text": [
      "              precision    recall  f1-score   support\n",
      "\n",
      "    classe 0       0.76      0.68      0.72       685\n",
      "    Classe 1       0.70      0.78      0.73       653\n",
      "\n",
      "    accuracy                           0.72      1338\n",
      "   macro avg       0.73      0.73      0.72      1338\n",
      "weighted avg       0.73      0.72      0.72      1338\n",
      "\n"
     ]
    }
   ],
   "source": [
    "target_names = ['classe 0','Classe 1']\n",
    "print(classification_report(y_test,y_pred,target_names=target_names))"
   ]
  },
  {
   "cell_type": "markdown",
   "id": "138a1000",
   "metadata": {},
   "source": [
    "## Upload dans BQ"
   ]
  },
  {
   "cell_type": "markdown",
   "id": "99c7f4d3",
   "metadata": {},
   "source": [
    "**Upload de la table en cours dans BQ**"
   ]
  },
  {
   "cell_type": "code",
   "execution_count": 69,
   "id": "b3e6f767",
   "metadata": {
    "ExecuteTime": {
     "end_time": "2022-06-30T12:44:15.336328Z",
     "start_time": "2022-06-30T12:44:15.334581Z"
    }
   },
   "outputs": [],
   "source": [
    "###Localisation du projet name et table_id sur gcp\n",
    "#project=\"marbotic\"\n",
    "#table_id = \"marbotic_dataset.session_augmented\"\n",
    "#client = bigquery.Client(project,credentials)\n",
    "#\n",
    "#job = client.load_table_from_dataframe(sm_df, table_id) \n",
    "#\n",
    "#job.result()  # Wait for the job to complete.\n",
    "#table = client.get_table(table_id)  # Make an API request.\n",
    "#print(\"Loaded {} rows and {} columns to {}\".format(table.num_rows, len(table.schema), table_id))"
   ]
  },
  {
   "cell_type": "code",
   "execution_count": 70,
   "id": "12f90ea7",
   "metadata": {
    "ExecuteTime": {
     "end_time": "2022-06-30T13:04:17.281273Z",
     "start_time": "2022-06-30T13:04:17.272668Z"
    }
   },
   "outputs": [
    {
     "data": {
      "text/plain": [
       "180.0"
      ]
     },
     "execution_count": 70,
     "metadata": {},
     "output_type": "execute_result"
    }
   ],
   "source": [
    "9000/(50)"
   ]
  },
  {
   "cell_type": "code",
   "execution_count": 72,
   "id": "20c70616",
   "metadata": {
    "ExecuteTime": {
     "end_time": "2022-06-30T13:04:56.585051Z",
     "start_time": "2022-06-30T13:04:56.576213Z"
    }
   },
   "outputs": [
    {
     "data": {
      "text/plain": [
       "90.0"
      ]
     },
     "execution_count": 72,
     "metadata": {},
     "output_type": "execute_result"
    }
   ],
   "source": [
    "180/2"
   ]
  },
  {
   "cell_type": "code",
   "execution_count": null,
   "id": "caed0a19",
   "metadata": {},
   "outputs": [],
   "source": []
  }
 ],
 "metadata": {
  "kernelspec": {
   "display_name": "Python 3 (ipykernel)",
   "language": "python",
   "name": "python3"
  },
  "language_info": {
   "codemirror_mode": {
    "name": "ipython",
    "version": 3
   },
   "file_extension": ".py",
   "mimetype": "text/x-python",
   "name": "python",
   "nbconvert_exporter": "python",
   "pygments_lexer": "ipython3",
   "version": "3.8.13"
  },
  "toc": {
   "base_numbering": 1,
   "nav_menu": {},
   "number_sections": true,
   "sideBar": true,
   "skip_h1_title": false,
   "title_cell": "Table of Contents",
   "title_sidebar": "Contents",
   "toc_cell": false,
   "toc_position": {},
   "toc_section_display": true,
   "toc_window_display": false
  }
 },
 "nbformat": 4,
 "nbformat_minor": 5
}
