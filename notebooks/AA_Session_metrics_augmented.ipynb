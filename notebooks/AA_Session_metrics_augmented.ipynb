{
 "cells": [
  {
   "cell_type": "code",
   "execution_count": 1,
   "id": "3369e2aa",
   "metadata": {
    "ExecuteTime": {
     "end_time": "2022-07-07T19:10:32.033801Z",
     "start_time": "2022-07-07T19:10:30.658456Z"
    }
   },
   "outputs": [],
   "source": [
    "import pandas as pd\n",
    "import numpy as np\n",
    "\n",
    "import seaborn as sns\n",
    "import matplotlib.pyplot as plt\n",
    "\n",
    "#import json\n",
    "from google.cloud import bigquery\n",
    "from datetime import datetime,timedelta\n",
    "\n",
    "from sklearn.impute import SimpleImputer\n",
    "from sklearn.preprocessing import OneHotEncoder\n",
    "from sklearn.preprocessing import MinMaxScaler\n",
    "from sklearn.base import TransformerMixin, BaseEstimator\n",
    "\n",
    "from sklearn.compose import make_column_transformer\n",
    "from sklearn.compose import ColumnTransformer\n",
    "from sklearn.feature_selection import SelectPercentile\n",
    "\n",
    "from imblearn.over_sampling import SMOTE\n",
    "from imblearn.under_sampling import RandomUnderSampler\n",
    "from sklearn.model_selection import train_test_split\n",
    "\n",
    "\n",
    "from sklearn.ensemble import RandomForestClassifier\n",
    "from sklearn.linear_model import LogisticRegression\n",
    "from sklearn.svm import SVC\n",
    "from sklearn.neighbors import KNeighborsClassifier\n",
    "from sklearn.ensemble import AdaBoostClassifier\n",
    "from sklearn.ensemble import StackingClassifier\n",
    "from sklearn.linear_model import RidgeClassifier\n",
    "from sklearn.ensemble import GradientBoostingClassifier\n",
    "\n",
    "from imblearn.pipeline import Pipeline\n",
    "\n",
    "from sklearn.pipeline import make_pipeline\n",
    "from sklearn.model_selection import GridSearchCV,cross_validate\n",
    "\n",
    "from sklearn.metrics import classification_report\n"
   ]
  },
  {
   "cell_type": "code",
   "execution_count": 2,
   "id": "2f549361",
   "metadata": {
    "ExecuteTime": {
     "end_time": "2022-07-07T19:10:32.037486Z",
     "start_time": "2022-07-07T19:10:32.035479Z"
    }
   },
   "outputs": [],
   "source": [
    "#Localisation du projet name et table_id sur gcp\n",
    "project=\"marbotic\""
   ]
  },
  {
   "cell_type": "code",
   "execution_count": 3,
   "id": "13f67d8a",
   "metadata": {
    "ExecuteTime": {
     "end_time": "2022-07-07T19:10:32.043231Z",
     "start_time": "2022-07-07T19:10:32.039075Z"
    }
   },
   "outputs": [],
   "source": [
    "#intégration des credentials \n",
    "from google.oauth2 import service_account\n",
    "\n",
    "key_path = \"/Users/antonin/code/AntoninAnq/gcp/marbotic-7d02fac30bd8.json\"\n",
    "\n",
    "credentials = service_account.Credentials.from_service_account_file(\n",
    "    key_path, scopes=[\"https://www.googleapis.com/auth/cloud-platform\"],\n",
    ")"
   ]
  },
  {
   "cell_type": "code",
   "execution_count": 4,
   "id": "276f8ece",
   "metadata": {
    "ExecuteTime": {
     "end_time": "2022-07-07T19:10:32.048777Z",
     "start_time": "2022-07-07T19:10:32.045438Z"
    }
   },
   "outputs": [],
   "source": [
    "def extract(project,credentials):\n",
    "    # Construct a BigQuery client object.\n",
    "    client = bigquery.Client(project=project, credentials=credentials)\n",
    "\n",
    "    query = \"\"\"\n",
    "    SELECT\n",
    "    COUNT(DISTINCT ep.Activity_Name) as unique_activity, \n",
    "    sm.session_id,sum(Time_Spent) as Time_Spent,\n",
    "    any_value(Action_Element_Name) as Action_Element_Name,\n",
    "    any_value(Profile_Age_days) as Profile_Age_days,\n",
    "    (SAFE_DIVIDE(SUM(event_type_Activity_Good_Answer) , (SUM(event_type_Activity_Good_Answer)\n",
    "    + SUM(event_type_Activity_Wrong_Answer))))*100 as good_answer_ratio\n",
    "    FROM `marbotic.marbotic_dataset.event_properties` as ep\n",
    "    JOIN `marbotic.marbotic_dataset.sessions_metrics` as sm on ep.session_id = sm.session_id\n",
    "    GROUP BY sm.session_id\n",
    "    ORDER BY unique_activity DESC\n",
    "    \"\"\"\n",
    "\n",
    "    query_job = client.query(query)  # Make an API request.\n",
    "    results=query_job.result().to_dataframe() # Waits for job to complete.\n",
    "\n",
    "    return pd.DataFrame(results)"
   ]
  },
  {
   "cell_type": "code",
   "execution_count": 5,
   "id": "1bd192ff",
   "metadata": {
    "ExecuteTime": {
     "end_time": "2022-07-07T19:10:34.990545Z",
     "start_time": "2022-07-07T19:10:32.050097Z"
    },
    "scrolled": true
   },
   "outputs": [
    {
     "data": {
      "text/html": [
       "<div>\n",
       "<style scoped>\n",
       "    .dataframe tbody tr th:only-of-type {\n",
       "        vertical-align: middle;\n",
       "    }\n",
       "\n",
       "    .dataframe tbody tr th {\n",
       "        vertical-align: top;\n",
       "    }\n",
       "\n",
       "    .dataframe thead th {\n",
       "        text-align: right;\n",
       "    }\n",
       "</style>\n",
       "<table border=\"1\" class=\"dataframe\">\n",
       "  <thead>\n",
       "    <tr style=\"text-align: right;\">\n",
       "      <th></th>\n",
       "      <th>unique_activity</th>\n",
       "      <th>session_id</th>\n",
       "      <th>Time_Spent</th>\n",
       "      <th>Action_Element_Name</th>\n",
       "      <th>Profile_Age_days</th>\n",
       "      <th>good_answer_ratio</th>\n",
       "    </tr>\n",
       "  </thead>\n",
       "  <tbody>\n",
       "    <tr>\n",
       "      <th>0</th>\n",
       "      <td>42</td>\n",
       "      <td>1.648054e+12</td>\n",
       "      <td>19329.0</td>\n",
       "      <td>Back</td>\n",
       "      <td>1899.0</td>\n",
       "      <td>100.0</td>\n",
       "    </tr>\n",
       "    <tr>\n",
       "      <th>1</th>\n",
       "      <td>41</td>\n",
       "      <td>1.646647e+12</td>\n",
       "      <td>21882.0</td>\n",
       "      <td>Back</td>\n",
       "      <td>8434.0</td>\n",
       "      <td>NaN</td>\n",
       "    </tr>\n",
       "    <tr>\n",
       "      <th>2</th>\n",
       "      <td>40</td>\n",
       "      <td>1.646297e+12</td>\n",
       "      <td>54083.0</td>\n",
       "      <td>Back</td>\n",
       "      <td>1968.0</td>\n",
       "      <td>100.0</td>\n",
       "    </tr>\n",
       "    <tr>\n",
       "      <th>3</th>\n",
       "      <td>39</td>\n",
       "      <td>1.647908e+12</td>\n",
       "      <td>9693.0</td>\n",
       "      <td>Back</td>\n",
       "      <td>2376.0</td>\n",
       "      <td>100.0</td>\n",
       "    </tr>\n",
       "    <tr>\n",
       "      <th>4</th>\n",
       "      <td>38</td>\n",
       "      <td>1.646244e+12</td>\n",
       "      <td>16048.0</td>\n",
       "      <td>Back</td>\n",
       "      <td>2227.0</td>\n",
       "      <td>100.0</td>\n",
       "    </tr>\n",
       "    <tr>\n",
       "      <th>...</th>\n",
       "      <td>...</td>\n",
       "      <td>...</td>\n",
       "      <td>...</td>\n",
       "      <td>...</td>\n",
       "      <td>...</td>\n",
       "      <td>...</td>\n",
       "    </tr>\n",
       "    <tr>\n",
       "      <th>18811</th>\n",
       "      <td>0</td>\n",
       "      <td>1.650445e+12</td>\n",
       "      <td>414.0</td>\n",
       "      <td>None</td>\n",
       "      <td>NaN</td>\n",
       "      <td>NaN</td>\n",
       "    </tr>\n",
       "    <tr>\n",
       "      <th>18812</th>\n",
       "      <td>0</td>\n",
       "      <td>1.650582e+12</td>\n",
       "      <td>371.0</td>\n",
       "      <td>None</td>\n",
       "      <td>NaN</td>\n",
       "      <td>NaN</td>\n",
       "    </tr>\n",
       "    <tr>\n",
       "      <th>18813</th>\n",
       "      <td>0</td>\n",
       "      <td>1.650516e+12</td>\n",
       "      <td>5286.0</td>\n",
       "      <td>None</td>\n",
       "      <td>NaN</td>\n",
       "      <td>NaN</td>\n",
       "    </tr>\n",
       "    <tr>\n",
       "      <th>18814</th>\n",
       "      <td>0</td>\n",
       "      <td>1.650721e+12</td>\n",
       "      <td>2110.0</td>\n",
       "      <td>None</td>\n",
       "      <td>NaN</td>\n",
       "      <td>NaN</td>\n",
       "    </tr>\n",
       "    <tr>\n",
       "      <th>18815</th>\n",
       "      <td>0</td>\n",
       "      <td>1.650331e+12</td>\n",
       "      <td>14643.0</td>\n",
       "      <td>None</td>\n",
       "      <td>1596.0</td>\n",
       "      <td>NaN</td>\n",
       "    </tr>\n",
       "  </tbody>\n",
       "</table>\n",
       "<p>18816 rows × 6 columns</p>\n",
       "</div>"
      ],
      "text/plain": [
       "       unique_activity    session_id  Time_Spent Action_Element_Name  \\\n",
       "0                   42  1.648054e+12     19329.0                Back   \n",
       "1                   41  1.646647e+12     21882.0                Back   \n",
       "2                   40  1.646297e+12     54083.0                Back   \n",
       "3                   39  1.647908e+12      9693.0                Back   \n",
       "4                   38  1.646244e+12     16048.0                Back   \n",
       "...                ...           ...         ...                 ...   \n",
       "18811                0  1.650445e+12       414.0                None   \n",
       "18812                0  1.650582e+12       371.0                None   \n",
       "18813                0  1.650516e+12      5286.0                None   \n",
       "18814                0  1.650721e+12      2110.0                None   \n",
       "18815                0  1.650331e+12     14643.0                None   \n",
       "\n",
       "       Profile_Age_days  good_answer_ratio  \n",
       "0                1899.0              100.0  \n",
       "1                8434.0                NaN  \n",
       "2                1968.0              100.0  \n",
       "3                2376.0              100.0  \n",
       "4                2227.0              100.0  \n",
       "...                 ...                ...  \n",
       "18811               NaN                NaN  \n",
       "18812               NaN                NaN  \n",
       "18813               NaN                NaN  \n",
       "18814               NaN                NaN  \n",
       "18815            1596.0                NaN  \n",
       "\n",
       "[18816 rows x 6 columns]"
      ]
     },
     "execution_count": 5,
     "metadata": {},
     "output_type": "execute_result"
    }
   ],
   "source": [
    "#On récupère d'event le nombre d'activity unique par session, le ratio de bonne réponse par sessions et le time spent par sessions\n",
    "first_data = extract(project,credentials)\n",
    "first_data"
   ]
  },
  {
   "cell_type": "code",
   "execution_count": 6,
   "id": "23159dd8",
   "metadata": {
    "ExecuteTime": {
     "end_time": "2022-07-07T19:10:34.994240Z",
     "start_time": "2022-07-07T19:10:34.991769Z"
    }
   },
   "outputs": [],
   "source": [
    "def extract_session_metrics(project,credentials):\n",
    "    # Construct a BigQuery client object.\n",
    "    client = bigquery.Client(project=project, credentials=credentials)\n",
    "\n",
    "    query = \"\"\"\n",
    "    SELECT *\n",
    "    FROM `marbotic.marbotic_dataset.sessions_metrics`\n",
    "    \"\"\"\n",
    "\n",
    "    query_job = client.query(query)  # Make an API request.\n",
    "    results=query_job.result().to_dataframe() # Waits for job to complete.\n",
    "\n",
    "    return pd.DataFrame(results)"
   ]
  },
  {
   "cell_type": "code",
   "execution_count": 7,
   "id": "e974abe6",
   "metadata": {
    "ExecuteTime": {
     "end_time": "2022-07-07T19:10:46.007401Z",
     "start_time": "2022-07-07T19:10:34.995430Z"
    }
   },
   "outputs": [
    {
     "data": {
      "text/html": [
       "<div>\n",
       "<style scoped>\n",
       "    .dataframe tbody tr th:only-of-type {\n",
       "        vertical-align: middle;\n",
       "    }\n",
       "\n",
       "    .dataframe tbody tr th {\n",
       "        vertical-align: top;\n",
       "    }\n",
       "\n",
       "    .dataframe thead th {\n",
       "        text-align: right;\n",
       "    }\n",
       "</style>\n",
       "<table border=\"1\" class=\"dataframe\">\n",
       "  <thead>\n",
       "    <tr style=\"text-align: right;\">\n",
       "      <th></th>\n",
       "      <th>session_id</th>\n",
       "      <th>city</th>\n",
       "      <th>language</th>\n",
       "      <th>os_version</th>\n",
       "      <th>region</th>\n",
       "      <th>country</th>\n",
       "      <th>device_model</th>\n",
       "      <th>start_version</th>\n",
       "      <th>session_end</th>\n",
       "      <th>id</th>\n",
       "      <th>...</th>\n",
       "      <th>event_type_Profile_Update</th>\n",
       "      <th>event_type_Scaffolding_Reset</th>\n",
       "      <th>event_type_Scaffolding_Scaffolding</th>\n",
       "      <th>event_type_Scene_Enter</th>\n",
       "      <th>event_type_Scene_Leave</th>\n",
       "      <th>event_type_Toast_Appear</th>\n",
       "      <th>event_type_Toast_Disappear</th>\n",
       "      <th>session_start</th>\n",
       "      <th>game_events</th>\n",
       "      <th>setup_events</th>\n",
       "    </tr>\n",
       "  </thead>\n",
       "  <tbody>\n",
       "    <tr>\n",
       "      <th>0</th>\n",
       "      <td>1.647421e+12</td>\n",
       "      <td>Certines</td>\n",
       "      <td>French</td>\n",
       "      <td>15.3.1</td>\n",
       "      <td>Ain</td>\n",
       "      <td>France</td>\n",
       "      <td>iPad11,6</td>\n",
       "      <td>1.0.1</td>\n",
       "      <td>2022-03-16 08:58:14.214000+00:00</td>\n",
       "      <td>6</td>\n",
       "      <td>...</td>\n",
       "      <td>0.0</td>\n",
       "      <td>0.0</td>\n",
       "      <td>0.0</td>\n",
       "      <td>5.0</td>\n",
       "      <td>1.0</td>\n",
       "      <td>0.0</td>\n",
       "      <td>0.0</td>\n",
       "      <td>2022-03-16 08:56:40.722000+00:00</td>\n",
       "      <td>6.0</td>\n",
       "      <td>0.0</td>\n",
       "    </tr>\n",
       "    <tr>\n",
       "      <th>1</th>\n",
       "      <td>1.647421e+12</td>\n",
       "      <td>Certines</td>\n",
       "      <td>French</td>\n",
       "      <td>15.1</td>\n",
       "      <td>Ain</td>\n",
       "      <td>France</td>\n",
       "      <td>iPad11,6</td>\n",
       "      <td>1.0.1</td>\n",
       "      <td>2022-03-16 08:58:45.380000+00:00</td>\n",
       "      <td>5</td>\n",
       "      <td>...</td>\n",
       "      <td>0.0</td>\n",
       "      <td>0.0</td>\n",
       "      <td>0.0</td>\n",
       "      <td>4.0</td>\n",
       "      <td>1.0</td>\n",
       "      <td>0.0</td>\n",
       "      <td>0.0</td>\n",
       "      <td>2022-03-16 08:58:28.269000+00:00</td>\n",
       "      <td>5.0</td>\n",
       "      <td>0.0</td>\n",
       "    </tr>\n",
       "    <tr>\n",
       "      <th>2</th>\n",
       "      <td>1.648134e+12</td>\n",
       "      <td>Certines</td>\n",
       "      <td>French</td>\n",
       "      <td>15.3.1</td>\n",
       "      <td>Ain</td>\n",
       "      <td>France</td>\n",
       "      <td>iPad11,6</td>\n",
       "      <td>1.0.1</td>\n",
       "      <td>2022-03-24 15:06:35.838000+00:00</td>\n",
       "      <td>5</td>\n",
       "      <td>...</td>\n",
       "      <td>0.0</td>\n",
       "      <td>0.0</td>\n",
       "      <td>0.0</td>\n",
       "      <td>1.0</td>\n",
       "      <td>1.0</td>\n",
       "      <td>0.0</td>\n",
       "      <td>0.0</td>\n",
       "      <td>2022-03-24 15:06:21.426000+00:00</td>\n",
       "      <td>5.0</td>\n",
       "      <td>0.0</td>\n",
       "    </tr>\n",
       "    <tr>\n",
       "      <th>3</th>\n",
       "      <td>1.647421e+12</td>\n",
       "      <td>Certines</td>\n",
       "      <td>French</td>\n",
       "      <td>15.1</td>\n",
       "      <td>Ain</td>\n",
       "      <td>France</td>\n",
       "      <td>iPad11,6</td>\n",
       "      <td>1.0.1</td>\n",
       "      <td>2022-03-16 08:57:59.845000+00:00</td>\n",
       "      <td>5</td>\n",
       "      <td>...</td>\n",
       "      <td>0.0</td>\n",
       "      <td>0.0</td>\n",
       "      <td>0.0</td>\n",
       "      <td>4.0</td>\n",
       "      <td>1.0</td>\n",
       "      <td>0.0</td>\n",
       "      <td>0.0</td>\n",
       "      <td>2022-03-16 08:57:48.381000+00:00</td>\n",
       "      <td>5.0</td>\n",
       "      <td>0.0</td>\n",
       "    </tr>\n",
       "    <tr>\n",
       "      <th>4</th>\n",
       "      <td>1.646641e+12</td>\n",
       "      <td>Izernore</td>\n",
       "      <td>French</td>\n",
       "      <td>15.2</td>\n",
       "      <td>Ain</td>\n",
       "      <td>France</td>\n",
       "      <td>iPad 6</td>\n",
       "      <td>1.0.3</td>\n",
       "      <td>2022-03-07 08:25:39.783000+00:00</td>\n",
       "      <td>6</td>\n",
       "      <td>...</td>\n",
       "      <td>0.0</td>\n",
       "      <td>0.0</td>\n",
       "      <td>0.0</td>\n",
       "      <td>1.0</td>\n",
       "      <td>1.0</td>\n",
       "      <td>0.0</td>\n",
       "      <td>0.0</td>\n",
       "      <td>2022-03-07 08:24:40.937000+00:00</td>\n",
       "      <td>6.0</td>\n",
       "      <td>0.0</td>\n",
       "    </tr>\n",
       "    <tr>\n",
       "      <th>...</th>\n",
       "      <td>...</td>\n",
       "      <td>...</td>\n",
       "      <td>...</td>\n",
       "      <td>...</td>\n",
       "      <td>...</td>\n",
       "      <td>...</td>\n",
       "      <td>...</td>\n",
       "      <td>...</td>\n",
       "      <td>...</td>\n",
       "      <td>...</td>\n",
       "      <td>...</td>\n",
       "      <td>...</td>\n",
       "      <td>...</td>\n",
       "      <td>...</td>\n",
       "      <td>...</td>\n",
       "      <td>...</td>\n",
       "      <td>...</td>\n",
       "      <td>...</td>\n",
       "      <td>...</td>\n",
       "      <td>...</td>\n",
       "      <td>...</td>\n",
       "    </tr>\n",
       "    <tr>\n",
       "      <th>18811</th>\n",
       "      <td>1.646491e+12</td>\n",
       "      <td>Notting Hill Gate</td>\n",
       "      <td>English</td>\n",
       "      <td>15.1</td>\n",
       "      <td>Royal Kensington and Chelsea</td>\n",
       "      <td>United Kingdom</td>\n",
       "      <td>iPad 6</td>\n",
       "      <td>1.0.7</td>\n",
       "      <td>2022-03-05 14:40:14.517000+00:00</td>\n",
       "      <td>5</td>\n",
       "      <td>...</td>\n",
       "      <td>0.0</td>\n",
       "      <td>0.0</td>\n",
       "      <td>0.0</td>\n",
       "      <td>4.0</td>\n",
       "      <td>1.0</td>\n",
       "      <td>0.0</td>\n",
       "      <td>0.0</td>\n",
       "      <td>2022-03-05 14:39:48.894000+00:00</td>\n",
       "      <td>5.0</td>\n",
       "      <td>0.0</td>\n",
       "    </tr>\n",
       "    <tr>\n",
       "      <th>18812</th>\n",
       "      <td>1.652027e+12</td>\n",
       "      <td>Hamburg</td>\n",
       "      <td>English</td>\n",
       "      <td>14.6</td>\n",
       "      <td>Free and Hanseatic City of Hamburg</td>\n",
       "      <td>Germany</td>\n",
       "      <td>iPad Pro</td>\n",
       "      <td>4.1.3</td>\n",
       "      <td>2022-05-08 16:39:55.181000+00:00</td>\n",
       "      <td>17</td>\n",
       "      <td>...</td>\n",
       "      <td>0.0</td>\n",
       "      <td>0.0</td>\n",
       "      <td>0.0</td>\n",
       "      <td>0.0</td>\n",
       "      <td>0.0</td>\n",
       "      <td>0.0</td>\n",
       "      <td>0.0</td>\n",
       "      <td>2022-05-08 16:32:21.326000+00:00</td>\n",
       "      <td>0.0</td>\n",
       "      <td>0.0</td>\n",
       "    </tr>\n",
       "    <tr>\n",
       "      <th>18813</th>\n",
       "      <td>1.652029e+12</td>\n",
       "      <td>Hamburg</td>\n",
       "      <td>English</td>\n",
       "      <td>14.6</td>\n",
       "      <td>Free and Hanseatic City of Hamburg</td>\n",
       "      <td>Germany</td>\n",
       "      <td>iPad Pro</td>\n",
       "      <td>4.1.3</td>\n",
       "      <td>2022-05-08 17:01:24.501000+00:00</td>\n",
       "      <td>20</td>\n",
       "      <td>...</td>\n",
       "      <td>0.0</td>\n",
       "      <td>0.0</td>\n",
       "      <td>0.0</td>\n",
       "      <td>0.0</td>\n",
       "      <td>0.0</td>\n",
       "      <td>0.0</td>\n",
       "      <td>0.0</td>\n",
       "      <td>2022-05-08 16:58:54.378000+00:00</td>\n",
       "      <td>0.0</td>\n",
       "      <td>0.0</td>\n",
       "    </tr>\n",
       "    <tr>\n",
       "      <th>18814</th>\n",
       "      <td>1.652377e+12</td>\n",
       "      <td>Hamburg</td>\n",
       "      <td>English</td>\n",
       "      <td>14.6</td>\n",
       "      <td>Free and Hanseatic City of Hamburg</td>\n",
       "      <td>Germany</td>\n",
       "      <td>iPad Pro</td>\n",
       "      <td>4.1.3</td>\n",
       "      <td>2022-05-12 18:05:34.559000+00:00</td>\n",
       "      <td>19</td>\n",
       "      <td>...</td>\n",
       "      <td>0.0</td>\n",
       "      <td>0.0</td>\n",
       "      <td>0.0</td>\n",
       "      <td>10.0</td>\n",
       "      <td>4.0</td>\n",
       "      <td>0.0</td>\n",
       "      <td>0.0</td>\n",
       "      <td>2022-05-12 17:38:47.898000+00:00</td>\n",
       "      <td>19.0</td>\n",
       "      <td>0.0</td>\n",
       "    </tr>\n",
       "    <tr>\n",
       "      <th>18815</th>\n",
       "      <td>1.651921e+12</td>\n",
       "      <td>Hamburg</td>\n",
       "      <td>German</td>\n",
       "      <td>15.4.1</td>\n",
       "      <td>Free and Hanseatic City of Hamburg</td>\n",
       "      <td>Germany</td>\n",
       "      <td>iPad8,11</td>\n",
       "      <td>4.2.0</td>\n",
       "      <td>2022-05-07 12:38:30.518000+00:00</td>\n",
       "      <td>582</td>\n",
       "      <td>...</td>\n",
       "      <td>0.0</td>\n",
       "      <td>0.0</td>\n",
       "      <td>0.0</td>\n",
       "      <td>0.0</td>\n",
       "      <td>0.0</td>\n",
       "      <td>0.0</td>\n",
       "      <td>0.0</td>\n",
       "      <td>2022-05-07 10:53:03.270000+00:00</td>\n",
       "      <td>0.0</td>\n",
       "      <td>0.0</td>\n",
       "    </tr>\n",
       "  </tbody>\n",
       "</table>\n",
       "<p>18816 rows × 73 columns</p>\n",
       "</div>"
      ],
      "text/plain": [
       "         session_id               city language os_version  \\\n",
       "0      1.647421e+12           Certines   French     15.3.1   \n",
       "1      1.647421e+12           Certines   French       15.1   \n",
       "2      1.648134e+12           Certines   French     15.3.1   \n",
       "3      1.647421e+12           Certines   French       15.1   \n",
       "4      1.646641e+12           Izernore   French       15.2   \n",
       "...             ...                ...      ...        ...   \n",
       "18811  1.646491e+12  Notting Hill Gate  English       15.1   \n",
       "18812  1.652027e+12            Hamburg  English       14.6   \n",
       "18813  1.652029e+12            Hamburg  English       14.6   \n",
       "18814  1.652377e+12            Hamburg  English       14.6   \n",
       "18815  1.651921e+12            Hamburg   German     15.4.1   \n",
       "\n",
       "                                   region         country device_model  \\\n",
       "0                                     Ain          France     iPad11,6   \n",
       "1                                     Ain          France     iPad11,6   \n",
       "2                                     Ain          France     iPad11,6   \n",
       "3                                     Ain          France     iPad11,6   \n",
       "4                                     Ain          France       iPad 6   \n",
       "...                                   ...             ...          ...   \n",
       "18811        Royal Kensington and Chelsea  United Kingdom       iPad 6   \n",
       "18812  Free and Hanseatic City of Hamburg         Germany     iPad Pro   \n",
       "18813  Free and Hanseatic City of Hamburg         Germany     iPad Pro   \n",
       "18814  Free and Hanseatic City of Hamburg         Germany     iPad Pro   \n",
       "18815  Free and Hanseatic City of Hamburg         Germany     iPad8,11   \n",
       "\n",
       "      start_version                      session_end   id  ...  \\\n",
       "0             1.0.1 2022-03-16 08:58:14.214000+00:00    6  ...   \n",
       "1             1.0.1 2022-03-16 08:58:45.380000+00:00    5  ...   \n",
       "2             1.0.1 2022-03-24 15:06:35.838000+00:00    5  ...   \n",
       "3             1.0.1 2022-03-16 08:57:59.845000+00:00    5  ...   \n",
       "4             1.0.3 2022-03-07 08:25:39.783000+00:00    6  ...   \n",
       "...             ...                              ...  ...  ...   \n",
       "18811         1.0.7 2022-03-05 14:40:14.517000+00:00    5  ...   \n",
       "18812         4.1.3 2022-05-08 16:39:55.181000+00:00   17  ...   \n",
       "18813         4.1.3 2022-05-08 17:01:24.501000+00:00   20  ...   \n",
       "18814         4.1.3 2022-05-12 18:05:34.559000+00:00   19  ...   \n",
       "18815         4.2.0 2022-05-07 12:38:30.518000+00:00  582  ...   \n",
       "\n",
       "       event_type_Profile_Update  event_type_Scaffolding_Reset  \\\n",
       "0                            0.0                           0.0   \n",
       "1                            0.0                           0.0   \n",
       "2                            0.0                           0.0   \n",
       "3                            0.0                           0.0   \n",
       "4                            0.0                           0.0   \n",
       "...                          ...                           ...   \n",
       "18811                        0.0                           0.0   \n",
       "18812                        0.0                           0.0   \n",
       "18813                        0.0                           0.0   \n",
       "18814                        0.0                           0.0   \n",
       "18815                        0.0                           0.0   \n",
       "\n",
       "       event_type_Scaffolding_Scaffolding  event_type_Scene_Enter  \\\n",
       "0                                     0.0                     5.0   \n",
       "1                                     0.0                     4.0   \n",
       "2                                     0.0                     1.0   \n",
       "3                                     0.0                     4.0   \n",
       "4                                     0.0                     1.0   \n",
       "...                                   ...                     ...   \n",
       "18811                                 0.0                     4.0   \n",
       "18812                                 0.0                     0.0   \n",
       "18813                                 0.0                     0.0   \n",
       "18814                                 0.0                    10.0   \n",
       "18815                                 0.0                     0.0   \n",
       "\n",
       "       event_type_Scene_Leave  event_type_Toast_Appear  \\\n",
       "0                         1.0                      0.0   \n",
       "1                         1.0                      0.0   \n",
       "2                         1.0                      0.0   \n",
       "3                         1.0                      0.0   \n",
       "4                         1.0                      0.0   \n",
       "...                       ...                      ...   \n",
       "18811                     1.0                      0.0   \n",
       "18812                     0.0                      0.0   \n",
       "18813                     0.0                      0.0   \n",
       "18814                     4.0                      0.0   \n",
       "18815                     0.0                      0.0   \n",
       "\n",
       "       event_type_Toast_Disappear                    session_start  \\\n",
       "0                             0.0 2022-03-16 08:56:40.722000+00:00   \n",
       "1                             0.0 2022-03-16 08:58:28.269000+00:00   \n",
       "2                             0.0 2022-03-24 15:06:21.426000+00:00   \n",
       "3                             0.0 2022-03-16 08:57:48.381000+00:00   \n",
       "4                             0.0 2022-03-07 08:24:40.937000+00:00   \n",
       "...                           ...                              ...   \n",
       "18811                         0.0 2022-03-05 14:39:48.894000+00:00   \n",
       "18812                         0.0 2022-05-08 16:32:21.326000+00:00   \n",
       "18813                         0.0 2022-05-08 16:58:54.378000+00:00   \n",
       "18814                         0.0 2022-05-12 17:38:47.898000+00:00   \n",
       "18815                         0.0 2022-05-07 10:53:03.270000+00:00   \n",
       "\n",
       "       game_events  setup_events  \n",
       "0              6.0           0.0  \n",
       "1              5.0           0.0  \n",
       "2              5.0           0.0  \n",
       "3              5.0           0.0  \n",
       "4              6.0           0.0  \n",
       "...            ...           ...  \n",
       "18811          5.0           0.0  \n",
       "18812          0.0           0.0  \n",
       "18813          0.0           0.0  \n",
       "18814         19.0           0.0  \n",
       "18815          0.0           0.0  \n",
       "\n",
       "[18816 rows x 73 columns]"
      ]
     },
     "execution_count": 7,
     "metadata": {},
     "output_type": "execute_result"
    }
   ],
   "source": [
    "session_metrics_df = extract_session_metrics(project,credentials)\n",
    "session_metrics_df"
   ]
  },
  {
   "cell_type": "code",
   "execution_count": 8,
   "id": "4c2f77e7",
   "metadata": {
    "ExecuteTime": {
     "end_time": "2022-07-07T19:10:46.022335Z",
     "start_time": "2022-07-07T19:10:46.008695Z"
    }
   },
   "outputs": [],
   "source": [
    "#on merge les première colonnes crées avec la table sessions metrics\n",
    "sm_df = session_metrics_df.merge(first_data, on='session_id')"
   ]
  },
  {
   "cell_type": "code",
   "execution_count": 9,
   "id": "e2245399",
   "metadata": {
    "ExecuteTime": {
     "end_time": "2022-07-07T19:10:46.163818Z",
     "start_time": "2022-07-07T19:10:46.023676Z"
    }
   },
   "outputs": [],
   "source": [
    "#Calcul du temps de chaque session\n",
    "sm_df['duration_min'] = (sm_df['session_end']-sm_df['session_start']).apply(lambda x: x.total_seconds()/60)"
   ]
  },
  {
   "cell_type": "code",
   "execution_count": 10,
   "id": "7d8146aa",
   "metadata": {
    "ExecuteTime": {
     "end_time": "2022-07-07T19:10:46.188790Z",
     "start_time": "2022-07-07T19:10:46.166983Z"
    }
   },
   "outputs": [
    {
     "data": {
      "text/html": [
       "<div>\n",
       "<style scoped>\n",
       "    .dataframe tbody tr th:only-of-type {\n",
       "        vertical-align: middle;\n",
       "    }\n",
       "\n",
       "    .dataframe tbody tr th {\n",
       "        vertical-align: top;\n",
       "    }\n",
       "\n",
       "    .dataframe thead th {\n",
       "        text-align: right;\n",
       "    }\n",
       "</style>\n",
       "<table border=\"1\" class=\"dataframe\">\n",
       "  <thead>\n",
       "    <tr style=\"text-align: right;\">\n",
       "      <th></th>\n",
       "      <th>session_id</th>\n",
       "      <th>city</th>\n",
       "      <th>language</th>\n",
       "      <th>os_version</th>\n",
       "      <th>region</th>\n",
       "      <th>country</th>\n",
       "      <th>device_model</th>\n",
       "      <th>start_version</th>\n",
       "      <th>session_end</th>\n",
       "      <th>id</th>\n",
       "      <th>...</th>\n",
       "      <th>event_type_Toast_Disappear</th>\n",
       "      <th>session_start</th>\n",
       "      <th>game_events</th>\n",
       "      <th>setup_events</th>\n",
       "      <th>unique_activity</th>\n",
       "      <th>Time_Spent</th>\n",
       "      <th>Action_Element_Name</th>\n",
       "      <th>Profile_Age_days</th>\n",
       "      <th>good_answer_ratio</th>\n",
       "      <th>duration_min</th>\n",
       "    </tr>\n",
       "  </thead>\n",
       "  <tbody>\n",
       "    <tr>\n",
       "      <th>0</th>\n",
       "      <td>1.647421e+12</td>\n",
       "      <td>Certines</td>\n",
       "      <td>French</td>\n",
       "      <td>15.3.1</td>\n",
       "      <td>Ain</td>\n",
       "      <td>France</td>\n",
       "      <td>iPad11,6</td>\n",
       "      <td>1.0.1</td>\n",
       "      <td>2022-03-16 08:58:14.214000+00:00</td>\n",
       "      <td>6</td>\n",
       "      <td>...</td>\n",
       "      <td>0.0</td>\n",
       "      <td>2022-03-16 08:56:40.722000+00:00</td>\n",
       "      <td>6.0</td>\n",
       "      <td>0.0</td>\n",
       "      <td>0</td>\n",
       "      <td>37.0</td>\n",
       "      <td>None</td>\n",
       "      <td>-1.0</td>\n",
       "      <td>NaN</td>\n",
       "      <td>1.558200</td>\n",
       "    </tr>\n",
       "    <tr>\n",
       "      <th>1</th>\n",
       "      <td>1.647421e+12</td>\n",
       "      <td>Certines</td>\n",
       "      <td>French</td>\n",
       "      <td>15.1</td>\n",
       "      <td>Ain</td>\n",
       "      <td>France</td>\n",
       "      <td>iPad11,6</td>\n",
       "      <td>1.0.1</td>\n",
       "      <td>2022-03-16 08:58:45.380000+00:00</td>\n",
       "      <td>5</td>\n",
       "      <td>...</td>\n",
       "      <td>0.0</td>\n",
       "      <td>2022-03-16 08:58:28.269000+00:00</td>\n",
       "      <td>5.0</td>\n",
       "      <td>0.0</td>\n",
       "      <td>0</td>\n",
       "      <td>25.0</td>\n",
       "      <td>None</td>\n",
       "      <td>-1.0</td>\n",
       "      <td>NaN</td>\n",
       "      <td>0.285183</td>\n",
       "    </tr>\n",
       "    <tr>\n",
       "      <th>2</th>\n",
       "      <td>1.648134e+12</td>\n",
       "      <td>Certines</td>\n",
       "      <td>French</td>\n",
       "      <td>15.3.1</td>\n",
       "      <td>Ain</td>\n",
       "      <td>France</td>\n",
       "      <td>iPad11,6</td>\n",
       "      <td>1.0.1</td>\n",
       "      <td>2022-03-24 15:06:35.838000+00:00</td>\n",
       "      <td>5</td>\n",
       "      <td>...</td>\n",
       "      <td>0.0</td>\n",
       "      <td>2022-03-24 15:06:21.426000+00:00</td>\n",
       "      <td>5.0</td>\n",
       "      <td>0.0</td>\n",
       "      <td>0</td>\n",
       "      <td>28.0</td>\n",
       "      <td>None</td>\n",
       "      <td>-1.0</td>\n",
       "      <td>NaN</td>\n",
       "      <td>0.240200</td>\n",
       "    </tr>\n",
       "    <tr>\n",
       "      <th>3</th>\n",
       "      <td>1.647421e+12</td>\n",
       "      <td>Certines</td>\n",
       "      <td>French</td>\n",
       "      <td>15.1</td>\n",
       "      <td>Ain</td>\n",
       "      <td>France</td>\n",
       "      <td>iPad11,6</td>\n",
       "      <td>1.0.1</td>\n",
       "      <td>2022-03-16 08:57:59.845000+00:00</td>\n",
       "      <td>5</td>\n",
       "      <td>...</td>\n",
       "      <td>0.0</td>\n",
       "      <td>2022-03-16 08:57:48.381000+00:00</td>\n",
       "      <td>5.0</td>\n",
       "      <td>0.0</td>\n",
       "      <td>0</td>\n",
       "      <td>20.0</td>\n",
       "      <td>None</td>\n",
       "      <td>-1.0</td>\n",
       "      <td>NaN</td>\n",
       "      <td>0.191067</td>\n",
       "    </tr>\n",
       "    <tr>\n",
       "      <th>4</th>\n",
       "      <td>1.646641e+12</td>\n",
       "      <td>Izernore</td>\n",
       "      <td>French</td>\n",
       "      <td>15.2</td>\n",
       "      <td>Ain</td>\n",
       "      <td>France</td>\n",
       "      <td>iPad 6</td>\n",
       "      <td>1.0.3</td>\n",
       "      <td>2022-03-07 08:25:39.783000+00:00</td>\n",
       "      <td>6</td>\n",
       "      <td>...</td>\n",
       "      <td>0.0</td>\n",
       "      <td>2022-03-07 08:24:40.937000+00:00</td>\n",
       "      <td>6.0</td>\n",
       "      <td>0.0</td>\n",
       "      <td>0</td>\n",
       "      <td>858.0</td>\n",
       "      <td>Back</td>\n",
       "      <td>1891.0</td>\n",
       "      <td>NaN</td>\n",
       "      <td>0.980767</td>\n",
       "    </tr>\n",
       "    <tr>\n",
       "      <th>...</th>\n",
       "      <td>...</td>\n",
       "      <td>...</td>\n",
       "      <td>...</td>\n",
       "      <td>...</td>\n",
       "      <td>...</td>\n",
       "      <td>...</td>\n",
       "      <td>...</td>\n",
       "      <td>...</td>\n",
       "      <td>...</td>\n",
       "      <td>...</td>\n",
       "      <td>...</td>\n",
       "      <td>...</td>\n",
       "      <td>...</td>\n",
       "      <td>...</td>\n",
       "      <td>...</td>\n",
       "      <td>...</td>\n",
       "      <td>...</td>\n",
       "      <td>...</td>\n",
       "      <td>...</td>\n",
       "      <td>...</td>\n",
       "      <td>...</td>\n",
       "    </tr>\n",
       "    <tr>\n",
       "      <th>18811</th>\n",
       "      <td>1.646491e+12</td>\n",
       "      <td>Notting Hill Gate</td>\n",
       "      <td>English</td>\n",
       "      <td>15.1</td>\n",
       "      <td>Royal Kensington and Chelsea</td>\n",
       "      <td>United Kingdom</td>\n",
       "      <td>iPad 6</td>\n",
       "      <td>1.0.7</td>\n",
       "      <td>2022-03-05 14:40:14.517000+00:00</td>\n",
       "      <td>5</td>\n",
       "      <td>...</td>\n",
       "      <td>0.0</td>\n",
       "      <td>2022-03-05 14:39:48.894000+00:00</td>\n",
       "      <td>5.0</td>\n",
       "      <td>0.0</td>\n",
       "      <td>0</td>\n",
       "      <td>31.0</td>\n",
       "      <td>None</td>\n",
       "      <td>-1.0</td>\n",
       "      <td>NaN</td>\n",
       "      <td>0.427050</td>\n",
       "    </tr>\n",
       "    <tr>\n",
       "      <th>18812</th>\n",
       "      <td>1.652027e+12</td>\n",
       "      <td>Hamburg</td>\n",
       "      <td>English</td>\n",
       "      <td>14.6</td>\n",
       "      <td>Free and Hanseatic City of Hamburg</td>\n",
       "      <td>Germany</td>\n",
       "      <td>iPad Pro</td>\n",
       "      <td>4.1.3</td>\n",
       "      <td>2022-05-08 16:39:55.181000+00:00</td>\n",
       "      <td>17</td>\n",
       "      <td>...</td>\n",
       "      <td>0.0</td>\n",
       "      <td>2022-05-08 16:32:21.326000+00:00</td>\n",
       "      <td>0.0</td>\n",
       "      <td>0.0</td>\n",
       "      <td>0</td>\n",
       "      <td>2525.0</td>\n",
       "      <td>None</td>\n",
       "      <td>4930.0</td>\n",
       "      <td>NaN</td>\n",
       "      <td>7.564250</td>\n",
       "    </tr>\n",
       "    <tr>\n",
       "      <th>18813</th>\n",
       "      <td>1.652029e+12</td>\n",
       "      <td>Hamburg</td>\n",
       "      <td>English</td>\n",
       "      <td>14.6</td>\n",
       "      <td>Free and Hanseatic City of Hamburg</td>\n",
       "      <td>Germany</td>\n",
       "      <td>iPad Pro</td>\n",
       "      <td>4.1.3</td>\n",
       "      <td>2022-05-08 17:01:24.501000+00:00</td>\n",
       "      <td>20</td>\n",
       "      <td>...</td>\n",
       "      <td>0.0</td>\n",
       "      <td>2022-05-08 16:58:54.378000+00:00</td>\n",
       "      <td>0.0</td>\n",
       "      <td>0.0</td>\n",
       "      <td>1</td>\n",
       "      <td>834.0</td>\n",
       "      <td>None</td>\n",
       "      <td>4930.0</td>\n",
       "      <td>NaN</td>\n",
       "      <td>2.502050</td>\n",
       "    </tr>\n",
       "    <tr>\n",
       "      <th>18814</th>\n",
       "      <td>1.652377e+12</td>\n",
       "      <td>Hamburg</td>\n",
       "      <td>English</td>\n",
       "      <td>14.6</td>\n",
       "      <td>Free and Hanseatic City of Hamburg</td>\n",
       "      <td>Germany</td>\n",
       "      <td>iPad Pro</td>\n",
       "      <td>4.1.3</td>\n",
       "      <td>2022-05-12 18:05:34.559000+00:00</td>\n",
       "      <td>19</td>\n",
       "      <td>...</td>\n",
       "      <td>0.0</td>\n",
       "      <td>2022-05-12 17:38:47.898000+00:00</td>\n",
       "      <td>19.0</td>\n",
       "      <td>0.0</td>\n",
       "      <td>1</td>\n",
       "      <td>9393.0</td>\n",
       "      <td>Back</td>\n",
       "      <td>4934.0</td>\n",
       "      <td>100.0</td>\n",
       "      <td>26.777683</td>\n",
       "    </tr>\n",
       "    <tr>\n",
       "      <th>18815</th>\n",
       "      <td>1.651921e+12</td>\n",
       "      <td>Hamburg</td>\n",
       "      <td>German</td>\n",
       "      <td>15.4.1</td>\n",
       "      <td>Free and Hanseatic City of Hamburg</td>\n",
       "      <td>Germany</td>\n",
       "      <td>iPad8,11</td>\n",
       "      <td>4.2.0</td>\n",
       "      <td>2022-05-07 12:38:30.518000+00:00</td>\n",
       "      <td>582</td>\n",
       "      <td>...</td>\n",
       "      <td>0.0</td>\n",
       "      <td>2022-05-07 10:53:03.270000+00:00</td>\n",
       "      <td>0.0</td>\n",
       "      <td>0.0</td>\n",
       "      <td>13</td>\n",
       "      <td>86652.0</td>\n",
       "      <td>Back</td>\n",
       "      <td>2269.0</td>\n",
       "      <td>NaN</td>\n",
       "      <td>105.454133</td>\n",
       "    </tr>\n",
       "  </tbody>\n",
       "</table>\n",
       "<p>18816 rows × 79 columns</p>\n",
       "</div>"
      ],
      "text/plain": [
       "         session_id               city language os_version  \\\n",
       "0      1.647421e+12           Certines   French     15.3.1   \n",
       "1      1.647421e+12           Certines   French       15.1   \n",
       "2      1.648134e+12           Certines   French     15.3.1   \n",
       "3      1.647421e+12           Certines   French       15.1   \n",
       "4      1.646641e+12           Izernore   French       15.2   \n",
       "...             ...                ...      ...        ...   \n",
       "18811  1.646491e+12  Notting Hill Gate  English       15.1   \n",
       "18812  1.652027e+12            Hamburg  English       14.6   \n",
       "18813  1.652029e+12            Hamburg  English       14.6   \n",
       "18814  1.652377e+12            Hamburg  English       14.6   \n",
       "18815  1.651921e+12            Hamburg   German     15.4.1   \n",
       "\n",
       "                                   region         country device_model  \\\n",
       "0                                     Ain          France     iPad11,6   \n",
       "1                                     Ain          France     iPad11,6   \n",
       "2                                     Ain          France     iPad11,6   \n",
       "3                                     Ain          France     iPad11,6   \n",
       "4                                     Ain          France       iPad 6   \n",
       "...                                   ...             ...          ...   \n",
       "18811        Royal Kensington and Chelsea  United Kingdom       iPad 6   \n",
       "18812  Free and Hanseatic City of Hamburg         Germany     iPad Pro   \n",
       "18813  Free and Hanseatic City of Hamburg         Germany     iPad Pro   \n",
       "18814  Free and Hanseatic City of Hamburg         Germany     iPad Pro   \n",
       "18815  Free and Hanseatic City of Hamburg         Germany     iPad8,11   \n",
       "\n",
       "      start_version                      session_end   id  ...  \\\n",
       "0             1.0.1 2022-03-16 08:58:14.214000+00:00    6  ...   \n",
       "1             1.0.1 2022-03-16 08:58:45.380000+00:00    5  ...   \n",
       "2             1.0.1 2022-03-24 15:06:35.838000+00:00    5  ...   \n",
       "3             1.0.1 2022-03-16 08:57:59.845000+00:00    5  ...   \n",
       "4             1.0.3 2022-03-07 08:25:39.783000+00:00    6  ...   \n",
       "...             ...                              ...  ...  ...   \n",
       "18811         1.0.7 2022-03-05 14:40:14.517000+00:00    5  ...   \n",
       "18812         4.1.3 2022-05-08 16:39:55.181000+00:00   17  ...   \n",
       "18813         4.1.3 2022-05-08 17:01:24.501000+00:00   20  ...   \n",
       "18814         4.1.3 2022-05-12 18:05:34.559000+00:00   19  ...   \n",
       "18815         4.2.0 2022-05-07 12:38:30.518000+00:00  582  ...   \n",
       "\n",
       "       event_type_Toast_Disappear                    session_start  \\\n",
       "0                             0.0 2022-03-16 08:56:40.722000+00:00   \n",
       "1                             0.0 2022-03-16 08:58:28.269000+00:00   \n",
       "2                             0.0 2022-03-24 15:06:21.426000+00:00   \n",
       "3                             0.0 2022-03-16 08:57:48.381000+00:00   \n",
       "4                             0.0 2022-03-07 08:24:40.937000+00:00   \n",
       "...                           ...                              ...   \n",
       "18811                         0.0 2022-03-05 14:39:48.894000+00:00   \n",
       "18812                         0.0 2022-05-08 16:32:21.326000+00:00   \n",
       "18813                         0.0 2022-05-08 16:58:54.378000+00:00   \n",
       "18814                         0.0 2022-05-12 17:38:47.898000+00:00   \n",
       "18815                         0.0 2022-05-07 10:53:03.270000+00:00   \n",
       "\n",
       "       game_events  setup_events  unique_activity  Time_Spent  \\\n",
       "0              6.0           0.0                0        37.0   \n",
       "1              5.0           0.0                0        25.0   \n",
       "2              5.0           0.0                0        28.0   \n",
       "3              5.0           0.0                0        20.0   \n",
       "4              6.0           0.0                0       858.0   \n",
       "...            ...           ...              ...         ...   \n",
       "18811          5.0           0.0                0        31.0   \n",
       "18812          0.0           0.0                0      2525.0   \n",
       "18813          0.0           0.0                1       834.0   \n",
       "18814         19.0           0.0                1      9393.0   \n",
       "18815          0.0           0.0               13     86652.0   \n",
       "\n",
       "       Action_Element_Name  Profile_Age_days  good_answer_ratio  duration_min  \n",
       "0                     None              -1.0                NaN      1.558200  \n",
       "1                     None              -1.0                NaN      0.285183  \n",
       "2                     None              -1.0                NaN      0.240200  \n",
       "3                     None              -1.0                NaN      0.191067  \n",
       "4                     Back            1891.0                NaN      0.980767  \n",
       "...                    ...               ...                ...           ...  \n",
       "18811                 None              -1.0                NaN      0.427050  \n",
       "18812                 None            4930.0                NaN      7.564250  \n",
       "18813                 None            4930.0                NaN      2.502050  \n",
       "18814                 Back            4934.0              100.0     26.777683  \n",
       "18815                 Back            2269.0                NaN    105.454133  \n",
       "\n",
       "[18816 rows x 79 columns]"
      ]
     },
     "execution_count": 10,
     "metadata": {},
     "output_type": "execute_result"
    }
   ],
   "source": [
    "sm_df"
   ]
  },
  {
   "cell_type": "code",
   "execution_count": 11,
   "id": "7601826f",
   "metadata": {
    "ExecuteTime": {
     "end_time": "2022-07-07T19:10:46.192443Z",
     "start_time": "2022-07-07T19:10:46.189939Z"
    }
   },
   "outputs": [],
   "source": [
    "def extract_user_metrics(project,credentials):\n",
    "    # Construct a BigQuery client object.\n",
    "    client = bigquery.Client(project=project, credentials=credentials)\n",
    "\n",
    "    query = \"\"\"\n",
    "    SELECT user_creation_time, user_id\n",
    "    FROM `marbotic.marbotic_dataset.users_metrics`\n",
    "    \"\"\"\n",
    "\n",
    "    query_job = client.query(query)  # Make an API request.\n",
    "    results=query_job.result().to_dataframe() # Waits for job to complete.\n",
    "\n",
    "    return pd.DataFrame(results)"
   ]
  },
  {
   "cell_type": "code",
   "execution_count": 12,
   "id": "3f02f973",
   "metadata": {
    "ExecuteTime": {
     "end_time": "2022-07-07T19:10:47.731117Z",
     "start_time": "2022-07-07T19:10:46.193567Z"
    }
   },
   "outputs": [],
   "source": [
    "user_metrics_df = extract_user_metrics(project,credentials)"
   ]
  },
  {
   "cell_type": "code",
   "execution_count": 13,
   "id": "6f994e71",
   "metadata": {
    "ExecuteTime": {
     "end_time": "2022-07-07T19:10:47.760692Z",
     "start_time": "2022-07-07T19:10:47.733893Z"
    }
   },
   "outputs": [],
   "source": [
    "#on merge la date de création dans le cas ou on veut calculer la maturité du user au moment de la session. Non utilisé dans un premier temps\n",
    "sm_df = sm_df.merge(user_metrics_df, on='user_id')"
   ]
  },
  {
   "cell_type": "code",
   "execution_count": 14,
   "id": "0a2b3988",
   "metadata": {
    "ExecuteTime": {
     "end_time": "2022-07-07T19:10:47.789694Z",
     "start_time": "2022-07-07T19:10:47.762458Z"
    }
   },
   "outputs": [
    {
     "data": {
      "text/html": [
       "<div>\n",
       "<style scoped>\n",
       "    .dataframe tbody tr th:only-of-type {\n",
       "        vertical-align: middle;\n",
       "    }\n",
       "\n",
       "    .dataframe tbody tr th {\n",
       "        vertical-align: top;\n",
       "    }\n",
       "\n",
       "    .dataframe thead th {\n",
       "        text-align: right;\n",
       "    }\n",
       "</style>\n",
       "<table border=\"1\" class=\"dataframe\">\n",
       "  <thead>\n",
       "    <tr style=\"text-align: right;\">\n",
       "      <th></th>\n",
       "      <th>session_id</th>\n",
       "      <th>city</th>\n",
       "      <th>language</th>\n",
       "      <th>os_version</th>\n",
       "      <th>region</th>\n",
       "      <th>country</th>\n",
       "      <th>device_model</th>\n",
       "      <th>start_version</th>\n",
       "      <th>session_end</th>\n",
       "      <th>id</th>\n",
       "      <th>...</th>\n",
       "      <th>session_start</th>\n",
       "      <th>game_events</th>\n",
       "      <th>setup_events</th>\n",
       "      <th>unique_activity</th>\n",
       "      <th>Time_Spent</th>\n",
       "      <th>Action_Element_Name</th>\n",
       "      <th>Profile_Age_days</th>\n",
       "      <th>good_answer_ratio</th>\n",
       "      <th>duration_min</th>\n",
       "      <th>user_creation_time</th>\n",
       "    </tr>\n",
       "  </thead>\n",
       "  <tbody>\n",
       "    <tr>\n",
       "      <th>0</th>\n",
       "      <td>1.647421e+12</td>\n",
       "      <td>Certines</td>\n",
       "      <td>French</td>\n",
       "      <td>15.3.1</td>\n",
       "      <td>Ain</td>\n",
       "      <td>France</td>\n",
       "      <td>iPad11,6</td>\n",
       "      <td>1.0.1</td>\n",
       "      <td>2022-03-16 08:58:14.214000+00:00</td>\n",
       "      <td>6</td>\n",
       "      <td>...</td>\n",
       "      <td>2022-03-16 08:56:40.722000+00:00</td>\n",
       "      <td>6.0</td>\n",
       "      <td>0.0</td>\n",
       "      <td>0</td>\n",
       "      <td>37.0</td>\n",
       "      <td>None</td>\n",
       "      <td>-1.0</td>\n",
       "      <td>NaN</td>\n",
       "      <td>1.558200</td>\n",
       "      <td>2021-11-20 15:17:18.537000+00:00</td>\n",
       "    </tr>\n",
       "    <tr>\n",
       "      <th>1</th>\n",
       "      <td>1.647421e+12</td>\n",
       "      <td>Certines</td>\n",
       "      <td>French</td>\n",
       "      <td>15.1</td>\n",
       "      <td>Ain</td>\n",
       "      <td>France</td>\n",
       "      <td>iPad11,6</td>\n",
       "      <td>1.0.1</td>\n",
       "      <td>2022-03-16 08:58:45.380000+00:00</td>\n",
       "      <td>5</td>\n",
       "      <td>...</td>\n",
       "      <td>2022-03-16 08:58:28.269000+00:00</td>\n",
       "      <td>5.0</td>\n",
       "      <td>0.0</td>\n",
       "      <td>0</td>\n",
       "      <td>25.0</td>\n",
       "      <td>None</td>\n",
       "      <td>-1.0</td>\n",
       "      <td>NaN</td>\n",
       "      <td>0.285183</td>\n",
       "      <td>2021-11-20 15:17:18.537000+00:00</td>\n",
       "    </tr>\n",
       "    <tr>\n",
       "      <th>2</th>\n",
       "      <td>1.648134e+12</td>\n",
       "      <td>Certines</td>\n",
       "      <td>French</td>\n",
       "      <td>15.3.1</td>\n",
       "      <td>Ain</td>\n",
       "      <td>France</td>\n",
       "      <td>iPad11,6</td>\n",
       "      <td>1.0.1</td>\n",
       "      <td>2022-03-24 15:06:35.838000+00:00</td>\n",
       "      <td>5</td>\n",
       "      <td>...</td>\n",
       "      <td>2022-03-24 15:06:21.426000+00:00</td>\n",
       "      <td>5.0</td>\n",
       "      <td>0.0</td>\n",
       "      <td>0</td>\n",
       "      <td>28.0</td>\n",
       "      <td>None</td>\n",
       "      <td>-1.0</td>\n",
       "      <td>NaN</td>\n",
       "      <td>0.240200</td>\n",
       "      <td>2021-11-20 15:17:18.537000+00:00</td>\n",
       "    </tr>\n",
       "    <tr>\n",
       "      <th>3</th>\n",
       "      <td>1.647421e+12</td>\n",
       "      <td>Certines</td>\n",
       "      <td>French</td>\n",
       "      <td>15.1</td>\n",
       "      <td>Ain</td>\n",
       "      <td>France</td>\n",
       "      <td>iPad11,6</td>\n",
       "      <td>1.0.1</td>\n",
       "      <td>2022-03-16 08:57:59.845000+00:00</td>\n",
       "      <td>5</td>\n",
       "      <td>...</td>\n",
       "      <td>2022-03-16 08:57:48.381000+00:00</td>\n",
       "      <td>5.0</td>\n",
       "      <td>0.0</td>\n",
       "      <td>0</td>\n",
       "      <td>20.0</td>\n",
       "      <td>None</td>\n",
       "      <td>-1.0</td>\n",
       "      <td>NaN</td>\n",
       "      <td>0.191067</td>\n",
       "      <td>2021-11-20 15:17:18.537000+00:00</td>\n",
       "    </tr>\n",
       "    <tr>\n",
       "      <th>4</th>\n",
       "      <td>1.646641e+12</td>\n",
       "      <td>Izernore</td>\n",
       "      <td>French</td>\n",
       "      <td>15.2</td>\n",
       "      <td>Ain</td>\n",
       "      <td>France</td>\n",
       "      <td>iPad 6</td>\n",
       "      <td>1.0.3</td>\n",
       "      <td>2022-03-07 08:25:39.783000+00:00</td>\n",
       "      <td>6</td>\n",
       "      <td>...</td>\n",
       "      <td>2022-03-07 08:24:40.937000+00:00</td>\n",
       "      <td>6.0</td>\n",
       "      <td>0.0</td>\n",
       "      <td>0</td>\n",
       "      <td>858.0</td>\n",
       "      <td>Back</td>\n",
       "      <td>1891.0</td>\n",
       "      <td>NaN</td>\n",
       "      <td>0.980767</td>\n",
       "      <td>2021-12-07 18:08:20.505000+00:00</td>\n",
       "    </tr>\n",
       "    <tr>\n",
       "      <th>...</th>\n",
       "      <td>...</td>\n",
       "      <td>...</td>\n",
       "      <td>...</td>\n",
       "      <td>...</td>\n",
       "      <td>...</td>\n",
       "      <td>...</td>\n",
       "      <td>...</td>\n",
       "      <td>...</td>\n",
       "      <td>...</td>\n",
       "      <td>...</td>\n",
       "      <td>...</td>\n",
       "      <td>...</td>\n",
       "      <td>...</td>\n",
       "      <td>...</td>\n",
       "      <td>...</td>\n",
       "      <td>...</td>\n",
       "      <td>...</td>\n",
       "      <td>...</td>\n",
       "      <td>...</td>\n",
       "      <td>...</td>\n",
       "      <td>...</td>\n",
       "    </tr>\n",
       "    <tr>\n",
       "      <th>18811</th>\n",
       "      <td>1.649501e+12</td>\n",
       "      <td>Kensington</td>\n",
       "      <td>English</td>\n",
       "      <td>15.1</td>\n",
       "      <td>Royal Kensington and Chelsea</td>\n",
       "      <td>United Kingdom</td>\n",
       "      <td>iPad12,1</td>\n",
       "      <td>1.0.5</td>\n",
       "      <td>2022-04-09 10:45:26.022000+00:00</td>\n",
       "      <td>1</td>\n",
       "      <td>...</td>\n",
       "      <td>2022-04-09 10:45:26.022000+00:00</td>\n",
       "      <td>1.0</td>\n",
       "      <td>0.0</td>\n",
       "      <td>1</td>\n",
       "      <td>3573.0</td>\n",
       "      <td>None</td>\n",
       "      <td>NaN</td>\n",
       "      <td>NaN</td>\n",
       "      <td>0.000000</td>\n",
       "      <td>2021-12-19 14:16:39.549000+00:00</td>\n",
       "    </tr>\n",
       "    <tr>\n",
       "      <th>18812</th>\n",
       "      <td>1.652027e+12</td>\n",
       "      <td>Hamburg</td>\n",
       "      <td>English</td>\n",
       "      <td>14.6</td>\n",
       "      <td>Free and Hanseatic City of Hamburg</td>\n",
       "      <td>Germany</td>\n",
       "      <td>iPad Pro</td>\n",
       "      <td>4.1.3</td>\n",
       "      <td>2022-05-08 16:39:55.181000+00:00</td>\n",
       "      <td>17</td>\n",
       "      <td>...</td>\n",
       "      <td>2022-05-08 16:32:21.326000+00:00</td>\n",
       "      <td>0.0</td>\n",
       "      <td>0.0</td>\n",
       "      <td>0</td>\n",
       "      <td>2525.0</td>\n",
       "      <td>None</td>\n",
       "      <td>4930.0</td>\n",
       "      <td>NaN</td>\n",
       "      <td>7.564250</td>\n",
       "      <td>2022-05-08 16:29:14.356000+00:00</td>\n",
       "    </tr>\n",
       "    <tr>\n",
       "      <th>18813</th>\n",
       "      <td>1.652029e+12</td>\n",
       "      <td>Hamburg</td>\n",
       "      <td>English</td>\n",
       "      <td>14.6</td>\n",
       "      <td>Free and Hanseatic City of Hamburg</td>\n",
       "      <td>Germany</td>\n",
       "      <td>iPad Pro</td>\n",
       "      <td>4.1.3</td>\n",
       "      <td>2022-05-08 17:01:24.501000+00:00</td>\n",
       "      <td>20</td>\n",
       "      <td>...</td>\n",
       "      <td>2022-05-08 16:58:54.378000+00:00</td>\n",
       "      <td>0.0</td>\n",
       "      <td>0.0</td>\n",
       "      <td>1</td>\n",
       "      <td>834.0</td>\n",
       "      <td>None</td>\n",
       "      <td>4930.0</td>\n",
       "      <td>NaN</td>\n",
       "      <td>2.502050</td>\n",
       "      <td>2022-05-08 16:29:14.356000+00:00</td>\n",
       "    </tr>\n",
       "    <tr>\n",
       "      <th>18814</th>\n",
       "      <td>1.652377e+12</td>\n",
       "      <td>Hamburg</td>\n",
       "      <td>English</td>\n",
       "      <td>14.6</td>\n",
       "      <td>Free and Hanseatic City of Hamburg</td>\n",
       "      <td>Germany</td>\n",
       "      <td>iPad Pro</td>\n",
       "      <td>4.1.3</td>\n",
       "      <td>2022-05-12 18:05:34.559000+00:00</td>\n",
       "      <td>19</td>\n",
       "      <td>...</td>\n",
       "      <td>2022-05-12 17:38:47.898000+00:00</td>\n",
       "      <td>19.0</td>\n",
       "      <td>0.0</td>\n",
       "      <td>1</td>\n",
       "      <td>9393.0</td>\n",
       "      <td>Back</td>\n",
       "      <td>4934.0</td>\n",
       "      <td>100.0</td>\n",
       "      <td>26.777683</td>\n",
       "      <td>2022-05-08 16:29:14.356000+00:00</td>\n",
       "    </tr>\n",
       "    <tr>\n",
       "      <th>18815</th>\n",
       "      <td>1.651921e+12</td>\n",
       "      <td>Hamburg</td>\n",
       "      <td>German</td>\n",
       "      <td>15.4.1</td>\n",
       "      <td>Free and Hanseatic City of Hamburg</td>\n",
       "      <td>Germany</td>\n",
       "      <td>iPad8,11</td>\n",
       "      <td>4.2.0</td>\n",
       "      <td>2022-05-07 12:38:30.518000+00:00</td>\n",
       "      <td>582</td>\n",
       "      <td>...</td>\n",
       "      <td>2022-05-07 10:53:03.270000+00:00</td>\n",
       "      <td>0.0</td>\n",
       "      <td>0.0</td>\n",
       "      <td>13</td>\n",
       "      <td>86652.0</td>\n",
       "      <td>Back</td>\n",
       "      <td>2269.0</td>\n",
       "      <td>NaN</td>\n",
       "      <td>105.454133</td>\n",
       "      <td>2020-12-14 02:16:05.855000+00:00</td>\n",
       "    </tr>\n",
       "  </tbody>\n",
       "</table>\n",
       "<p>18816 rows × 80 columns</p>\n",
       "</div>"
      ],
      "text/plain": [
       "         session_id        city language os_version  \\\n",
       "0      1.647421e+12    Certines   French     15.3.1   \n",
       "1      1.647421e+12    Certines   French       15.1   \n",
       "2      1.648134e+12    Certines   French     15.3.1   \n",
       "3      1.647421e+12    Certines   French       15.1   \n",
       "4      1.646641e+12    Izernore   French       15.2   \n",
       "...             ...         ...      ...        ...   \n",
       "18811  1.649501e+12  Kensington  English       15.1   \n",
       "18812  1.652027e+12     Hamburg  English       14.6   \n",
       "18813  1.652029e+12     Hamburg  English       14.6   \n",
       "18814  1.652377e+12     Hamburg  English       14.6   \n",
       "18815  1.651921e+12     Hamburg   German     15.4.1   \n",
       "\n",
       "                                   region         country device_model  \\\n",
       "0                                     Ain          France     iPad11,6   \n",
       "1                                     Ain          France     iPad11,6   \n",
       "2                                     Ain          France     iPad11,6   \n",
       "3                                     Ain          France     iPad11,6   \n",
       "4                                     Ain          France       iPad 6   \n",
       "...                                   ...             ...          ...   \n",
       "18811        Royal Kensington and Chelsea  United Kingdom     iPad12,1   \n",
       "18812  Free and Hanseatic City of Hamburg         Germany     iPad Pro   \n",
       "18813  Free and Hanseatic City of Hamburg         Germany     iPad Pro   \n",
       "18814  Free and Hanseatic City of Hamburg         Germany     iPad Pro   \n",
       "18815  Free and Hanseatic City of Hamburg         Germany     iPad8,11   \n",
       "\n",
       "      start_version                      session_end   id  ...  \\\n",
       "0             1.0.1 2022-03-16 08:58:14.214000+00:00    6  ...   \n",
       "1             1.0.1 2022-03-16 08:58:45.380000+00:00    5  ...   \n",
       "2             1.0.1 2022-03-24 15:06:35.838000+00:00    5  ...   \n",
       "3             1.0.1 2022-03-16 08:57:59.845000+00:00    5  ...   \n",
       "4             1.0.3 2022-03-07 08:25:39.783000+00:00    6  ...   \n",
       "...             ...                              ...  ...  ...   \n",
       "18811         1.0.5 2022-04-09 10:45:26.022000+00:00    1  ...   \n",
       "18812         4.1.3 2022-05-08 16:39:55.181000+00:00   17  ...   \n",
       "18813         4.1.3 2022-05-08 17:01:24.501000+00:00   20  ...   \n",
       "18814         4.1.3 2022-05-12 18:05:34.559000+00:00   19  ...   \n",
       "18815         4.2.0 2022-05-07 12:38:30.518000+00:00  582  ...   \n",
       "\n",
       "                         session_start  game_events  setup_events  \\\n",
       "0     2022-03-16 08:56:40.722000+00:00          6.0           0.0   \n",
       "1     2022-03-16 08:58:28.269000+00:00          5.0           0.0   \n",
       "2     2022-03-24 15:06:21.426000+00:00          5.0           0.0   \n",
       "3     2022-03-16 08:57:48.381000+00:00          5.0           0.0   \n",
       "4     2022-03-07 08:24:40.937000+00:00          6.0           0.0   \n",
       "...                                ...          ...           ...   \n",
       "18811 2022-04-09 10:45:26.022000+00:00          1.0           0.0   \n",
       "18812 2022-05-08 16:32:21.326000+00:00          0.0           0.0   \n",
       "18813 2022-05-08 16:58:54.378000+00:00          0.0           0.0   \n",
       "18814 2022-05-12 17:38:47.898000+00:00         19.0           0.0   \n",
       "18815 2022-05-07 10:53:03.270000+00:00          0.0           0.0   \n",
       "\n",
       "       unique_activity  Time_Spent  Action_Element_Name  Profile_Age_days  \\\n",
       "0                    0        37.0                 None              -1.0   \n",
       "1                    0        25.0                 None              -1.0   \n",
       "2                    0        28.0                 None              -1.0   \n",
       "3                    0        20.0                 None              -1.0   \n",
       "4                    0       858.0                 Back            1891.0   \n",
       "...                ...         ...                  ...               ...   \n",
       "18811                1      3573.0                 None               NaN   \n",
       "18812                0      2525.0                 None            4930.0   \n",
       "18813                1       834.0                 None            4930.0   \n",
       "18814                1      9393.0                 Back            4934.0   \n",
       "18815               13     86652.0                 Back            2269.0   \n",
       "\n",
       "       good_answer_ratio  duration_min               user_creation_time  \n",
       "0                    NaN      1.558200 2021-11-20 15:17:18.537000+00:00  \n",
       "1                    NaN      0.285183 2021-11-20 15:17:18.537000+00:00  \n",
       "2                    NaN      0.240200 2021-11-20 15:17:18.537000+00:00  \n",
       "3                    NaN      0.191067 2021-11-20 15:17:18.537000+00:00  \n",
       "4                    NaN      0.980767 2021-12-07 18:08:20.505000+00:00  \n",
       "...                  ...           ...                              ...  \n",
       "18811                NaN      0.000000 2021-12-19 14:16:39.549000+00:00  \n",
       "18812                NaN      7.564250 2022-05-08 16:29:14.356000+00:00  \n",
       "18813                NaN      2.502050 2022-05-08 16:29:14.356000+00:00  \n",
       "18814              100.0     26.777683 2022-05-08 16:29:14.356000+00:00  \n",
       "18815                NaN    105.454133 2020-12-14 02:16:05.855000+00:00  \n",
       "\n",
       "[18816 rows x 80 columns]"
      ]
     },
     "execution_count": 14,
     "metadata": {},
     "output_type": "execute_result"
    }
   ],
   "source": [
    "sm_df"
   ]
  },
  {
   "cell_type": "code",
   "execution_count": 15,
   "id": "8fd7f4d4",
   "metadata": {
    "ExecuteTime": {
     "end_time": "2022-07-07T19:10:47.793837Z",
     "start_time": "2022-07-07T19:10:47.790896Z"
    }
   },
   "outputs": [
    {
     "data": {
      "text/plain": [
       "Index(['session_id', 'city', 'language', 'os_version', 'region', 'country',\n",
       "       'device_model', 'start_version', 'session_end', 'id', 'user_id',\n",
       "       'event_type_Account_Sign_In', 'event_type_Account_Sign_Out',\n",
       "       'event_type_Account_Sign_Up', 'event_type_Account_Update_Request',\n",
       "       'event_type_Account_Update_Success', 'event_type_Action_Click',\n",
       "       'event_type_Action_ConversionClickRedeem',\n",
       "       'event_type_Action_ConversionClickSubscribe',\n",
       "       'event_type_Activation_Game', 'event_type_Activation_New_Activation',\n",
       "       'event_type_Activation_Piece', 'event_type_Activation_Product',\n",
       "       'event_type_Activity_Good_Answer', 'event_type_Activity_Start',\n",
       "       'event_type_Activity_Stop', 'event_type_Activity_Wrong_Answer',\n",
       "       'event_type_Error_Error', 'event_type_Game_Pause',\n",
       "       'event_type_Game_Start', 'event_type_Game_Stop',\n",
       "       'event_type_OB_ClickStore', 'event_type_OB_ClickTrial',\n",
       "       'event_type_OB_CommPreview', 'event_type_OB_DiscoverTrial',\n",
       "       'event_type_OB_DoYouHaveKit', 'event_type_OB_Email',\n",
       "       'event_type_OB_HasKeyNo', 'event_type_OB_HasKitNo',\n",
       "       'event_type_OB_HasKitYes', 'event_type_OB_KeyFail',\n",
       "       'event_type_OB_KeyRedeem', 'event_type_OB_KeySuccess',\n",
       "       'event_type_OB_ProductActivation', 'event_type_OB_ProductHelp',\n",
       "       'event_type_OB_ProductOther', 'event_type_OB_ProductSK',\n",
       "       'event_type_OB_ProductSeeMore', 'event_type_OB_ProductSelection',\n",
       "       'event_type_OB_ProfileBirthdate', 'event_type_OB_ProfileName',\n",
       "       'event_type_OB_RenewalFail', 'event_type_OB_RenewalSelection',\n",
       "       'event_type_OB_RenewalSuccess', 'event_type_OB_Success',\n",
       "       'event_type_OB_TrialStart', 'event_type_OB_Type',\n",
       "       'event_type_OB_VerifCode', 'event_type_Popup_Close',\n",
       "       'event_type_Popup_Open', 'event_type_Profile_Create',\n",
       "       'event_type_Profile_Delete',\n",
       "       'event_type_Profile_Reset_Settings_and_Progression',\n",
       "       'event_type_Profile_Update', 'event_type_Scaffolding_Reset',\n",
       "       'event_type_Scaffolding_Scaffolding', 'event_type_Scene_Enter',\n",
       "       'event_type_Scene_Leave', 'event_type_Toast_Appear',\n",
       "       'event_type_Toast_Disappear', 'session_start', 'game_events',\n",
       "       'setup_events', 'unique_activity', 'Time_Spent', 'Action_Element_Name',\n",
       "       'Profile_Age_days', 'good_answer_ratio', 'duration_min',\n",
       "       'user_creation_time'],\n",
       "      dtype='object')"
      ]
     },
     "execution_count": 15,
     "metadata": {},
     "output_type": "execute_result"
    }
   ],
   "source": [
    "sm_df.columns"
   ]
  },
  {
   "cell_type": "code",
   "execution_count": 16,
   "id": "3b848e8d",
   "metadata": {
    "ExecuteTime": {
     "end_time": "2022-07-07T19:10:47.797596Z",
     "start_time": "2022-07-07T19:10:47.795261Z"
    }
   },
   "outputs": [],
   "source": [
    "#On calcul le nombre de sessions avant celle en cours\n",
    "def nb_session(user_id,session_start):\n",
    "    return sm_df[(sm_df['user_id']==user_id) & (sm_df['session_start']<session_start)].shape[0]"
   ]
  },
  {
   "cell_type": "code",
   "execution_count": 17,
   "id": "6997cf58",
   "metadata": {
    "ExecuteTime": {
     "end_time": "2022-07-07T19:10:54.871679Z",
     "start_time": "2022-07-07T19:10:47.798934Z"
    }
   },
   "outputs": [],
   "source": [
    "sm_df['previous_session'] = sm_df.apply(lambda x:nb_session(x.user_id,x.session_start), axis=1)"
   ]
  },
  {
   "cell_type": "code",
   "execution_count": 18,
   "id": "a494c7c2",
   "metadata": {
    "ExecuteTime": {
     "end_time": "2022-07-07T19:10:54.876711Z",
     "start_time": "2022-07-07T19:10:54.873111Z"
    }
   },
   "outputs": [],
   "source": [
    "#On calcul le temps depuis la dernière sessions\n",
    "def last_session_time(user_id,session_start):\n",
    "    last_session = sm_df[(sm_df['user_id']==user_id) & (sm_df['session_start']<session_start)]\\\n",
    "    .sort_values(by='session_start',ascending=True)\\\n",
    "    .groupby('user_id').last()['session_start']\n",
    "    if len(last_session.values)==0:\n",
    "        return timedelta(0)\n",
    "    else:\n",
    "        last_session = last_session.dt.to_pydatetime()[0].replace(tzinfo=None)\n",
    "        return (session_start.to_pydatetime().replace(tzinfo=None) - last_session)"
   ]
  },
  {
   "cell_type": "code",
   "execution_count": 19,
   "id": "1589721a",
   "metadata": {
    "ExecuteTime": {
     "end_time": "2022-07-07T19:10:54.880084Z",
     "start_time": "2022-07-07T19:10:54.878324Z"
    }
   },
   "outputs": [],
   "source": [
    "#(sm_df[(sm_df['user_id']==65616.0) & (sm_df['session_start']<'2022-03-16 08:58:28.269000+00:00')].sort_values(by='session_start',ascending=True).groupby('user_id').last()['session_start'].dt.to_pydatetime()[0].replace(tzinfo=None))"
   ]
  },
  {
   "cell_type": "code",
   "execution_count": 20,
   "id": "8203f318",
   "metadata": {
    "ExecuteTime": {
     "end_time": "2022-07-07T19:11:33.409423Z",
     "start_time": "2022-07-07T19:10:54.881340Z"
    }
   },
   "outputs": [],
   "source": [
    "sm_df['time_since_last_session'] = sm_df.apply(lambda x:last_session_time(x.user_id,x.session_start), axis=1)"
   ]
  },
  {
   "cell_type": "code",
   "execution_count": 21,
   "id": "d7e2be5f",
   "metadata": {
    "ExecuteTime": {
     "end_time": "2022-07-07T19:11:33.417319Z",
     "start_time": "2022-07-07T19:11:33.410624Z"
    }
   },
   "outputs": [
    {
     "data": {
      "text/html": [
       "<div>\n",
       "<style scoped>\n",
       "    .dataframe tbody tr th:only-of-type {\n",
       "        vertical-align: middle;\n",
       "    }\n",
       "\n",
       "    .dataframe tbody tr th {\n",
       "        vertical-align: top;\n",
       "    }\n",
       "\n",
       "    .dataframe thead th {\n",
       "        text-align: right;\n",
       "    }\n",
       "</style>\n",
       "<table border=\"1\" class=\"dataframe\">\n",
       "  <thead>\n",
       "    <tr style=\"text-align: right;\">\n",
       "      <th></th>\n",
       "      <th>session_start</th>\n",
       "      <th>time_since_last_session</th>\n",
       "    </tr>\n",
       "  </thead>\n",
       "  <tbody>\n",
       "    <tr>\n",
       "      <th>10</th>\n",
       "      <td>2022-01-12 15:34:18.911000+00:00</td>\n",
       "      <td>0 days 00:00:00</td>\n",
       "    </tr>\n",
       "    <tr>\n",
       "      <th>11</th>\n",
       "      <td>2022-03-05 16:00:00.822000+00:00</td>\n",
       "      <td>52 days 00:25:41.911000</td>\n",
       "    </tr>\n",
       "    <tr>\n",
       "      <th>9</th>\n",
       "      <td>2022-03-05 20:23:34.583000+00:00</td>\n",
       "      <td>0 days 04:23:33.761000</td>\n",
       "    </tr>\n",
       "    <tr>\n",
       "      <th>6</th>\n",
       "      <td>2022-03-07 07:15:12.051000+00:00</td>\n",
       "      <td>1 days 10:51:37.468000</td>\n",
       "    </tr>\n",
       "    <tr>\n",
       "      <th>7</th>\n",
       "      <td>2022-03-07 07:52:31.465000+00:00</td>\n",
       "      <td>0 days 00:37:19.414000</td>\n",
       "    </tr>\n",
       "    <tr>\n",
       "      <th>4</th>\n",
       "      <td>2022-03-07 08:24:40.937000+00:00</td>\n",
       "      <td>0 days 00:32:09.472000</td>\n",
       "    </tr>\n",
       "    <tr>\n",
       "      <th>5</th>\n",
       "      <td>2022-05-09 09:50:43.882000+00:00</td>\n",
       "      <td>63 days 01:26:02.945000</td>\n",
       "    </tr>\n",
       "    <tr>\n",
       "      <th>8</th>\n",
       "      <td>2022-05-10 06:57:04.671000+00:00</td>\n",
       "      <td>0 days 21:06:20.789000</td>\n",
       "    </tr>\n",
       "    <tr>\n",
       "      <th>12</th>\n",
       "      <td>2022-05-10 14:45:39.525000+00:00</td>\n",
       "      <td>0 days 07:48:34.854000</td>\n",
       "    </tr>\n",
       "    <tr>\n",
       "      <th>16</th>\n",
       "      <td>2022-05-11 06:42:18.649000+00:00</td>\n",
       "      <td>0 days 15:56:39.124000</td>\n",
       "    </tr>\n",
       "    <tr>\n",
       "      <th>14</th>\n",
       "      <td>2022-05-11 06:58:05.849000+00:00</td>\n",
       "      <td>0 days 00:15:47.200000</td>\n",
       "    </tr>\n",
       "    <tr>\n",
       "      <th>15</th>\n",
       "      <td>2022-05-11 06:59:03.619000+00:00</td>\n",
       "      <td>0 days 00:00:57.770000</td>\n",
       "    </tr>\n",
       "    <tr>\n",
       "      <th>17</th>\n",
       "      <td>2022-05-11 07:00:10.908000+00:00</td>\n",
       "      <td>0 days 00:01:07.289000</td>\n",
       "    </tr>\n",
       "    <tr>\n",
       "      <th>19</th>\n",
       "      <td>2022-05-11 07:40:26.784000+00:00</td>\n",
       "      <td>0 days 00:40:15.876000</td>\n",
       "    </tr>\n",
       "    <tr>\n",
       "      <th>22</th>\n",
       "      <td>2022-05-11 07:41:23.017000+00:00</td>\n",
       "      <td>0 days 00:00:56.233000</td>\n",
       "    </tr>\n",
       "    <tr>\n",
       "      <th>20</th>\n",
       "      <td>2022-05-11 07:41:23.160000+00:00</td>\n",
       "      <td>0 days 00:00:00.143000</td>\n",
       "    </tr>\n",
       "    <tr>\n",
       "      <th>21</th>\n",
       "      <td>2022-05-11 07:41:31.708000+00:00</td>\n",
       "      <td>0 days 00:00:08.548000</td>\n",
       "    </tr>\n",
       "    <tr>\n",
       "      <th>18</th>\n",
       "      <td>2022-05-11 08:34:25.716000+00:00</td>\n",
       "      <td>0 days 00:52:54.008000</td>\n",
       "    </tr>\n",
       "    <tr>\n",
       "      <th>13</th>\n",
       "      <td>2022-05-12 12:05:01.125000+00:00</td>\n",
       "      <td>1 days 03:30:35.409000</td>\n",
       "    </tr>\n",
       "  </tbody>\n",
       "</table>\n",
       "</div>"
      ],
      "text/plain": [
       "                      session_start time_since_last_session\n",
       "10 2022-01-12 15:34:18.911000+00:00         0 days 00:00:00\n",
       "11 2022-03-05 16:00:00.822000+00:00 52 days 00:25:41.911000\n",
       "9  2022-03-05 20:23:34.583000+00:00  0 days 04:23:33.761000\n",
       "6  2022-03-07 07:15:12.051000+00:00  1 days 10:51:37.468000\n",
       "7  2022-03-07 07:52:31.465000+00:00  0 days 00:37:19.414000\n",
       "4  2022-03-07 08:24:40.937000+00:00  0 days 00:32:09.472000\n",
       "5  2022-05-09 09:50:43.882000+00:00 63 days 01:26:02.945000\n",
       "8  2022-05-10 06:57:04.671000+00:00  0 days 21:06:20.789000\n",
       "12 2022-05-10 14:45:39.525000+00:00  0 days 07:48:34.854000\n",
       "16 2022-05-11 06:42:18.649000+00:00  0 days 15:56:39.124000\n",
       "14 2022-05-11 06:58:05.849000+00:00  0 days 00:15:47.200000\n",
       "15 2022-05-11 06:59:03.619000+00:00  0 days 00:00:57.770000\n",
       "17 2022-05-11 07:00:10.908000+00:00  0 days 00:01:07.289000\n",
       "19 2022-05-11 07:40:26.784000+00:00  0 days 00:40:15.876000\n",
       "22 2022-05-11 07:41:23.017000+00:00  0 days 00:00:56.233000\n",
       "20 2022-05-11 07:41:23.160000+00:00  0 days 00:00:00.143000\n",
       "21 2022-05-11 07:41:31.708000+00:00  0 days 00:00:08.548000\n",
       "18 2022-05-11 08:34:25.716000+00:00  0 days 00:52:54.008000\n",
       "13 2022-05-12 12:05:01.125000+00:00  1 days 03:30:35.409000"
      ]
     },
     "execution_count": 21,
     "metadata": {},
     "output_type": "execute_result"
    }
   ],
   "source": [
    "#Vérification pour un utilisateur donné, le début de toutes ses sessions ordonné et l'écart avec la dernière session\n",
    "sm_df[sm_df['user_id']==66337.0].sort_values(by='session_start',ascending=True)[['session_start','time_since_last_session']]"
   ]
  },
  {
   "cell_type": "code",
   "execution_count": 22,
   "id": "b5737b74",
   "metadata": {
    "ExecuteTime": {
     "end_time": "2022-07-07T19:11:33.420115Z",
     "start_time": "2022-07-07T19:11:33.418473Z"
    }
   },
   "outputs": [],
   "source": [
    "#sm_df.groupby('user_id').agg({'time_since_last_session':'mean','setup_events':sum,'game_events':sum,'id':'count'})['id'].value_counts()"
   ]
  },
  {
   "cell_type": "code",
   "execution_count": 23,
   "id": "5d54ee63",
   "metadata": {
    "ExecuteTime": {
     "end_time": "2022-07-07T19:11:33.428351Z",
     "start_time": "2022-07-07T19:11:33.421073Z"
    }
   },
   "outputs": [
    {
     "data": {
      "text/plain": [
       "Timedelta('3 days 04:41:50.486608937')"
      ]
     },
     "execution_count": 23,
     "metadata": {},
     "output_type": "execute_result"
    }
   ],
   "source": [
    "#Durée moyenne entre deux sessions\n",
    "sm_df[sm_df['time_since_last_session']!=timedelta(0)]['time_since_last_session'].mean()"
   ]
  },
  {
   "cell_type": "code",
   "execution_count": 24,
   "id": "532183ea",
   "metadata": {
    "ExecuteTime": {
     "end_time": "2022-07-07T19:11:33.529653Z",
     "start_time": "2022-07-07T19:11:33.429658Z"
    }
   },
   "outputs": [],
   "source": [
    "#Conversion de la colonne time_since_last_session timedelta en timestampe[min]\n",
    "sm_df['time_since_last_session_min']=sm_df['time_since_last_session'].map(lambda x : x.total_seconds()/60)"
   ]
  },
  {
   "cell_type": "markdown",
   "id": "0f4278e3",
   "metadata": {},
   "source": [
    "**Ajout de la maturité au moment du début de la sessions**"
   ]
  },
  {
   "cell_type": "code",
   "execution_count": 25,
   "id": "e67d98f0",
   "metadata": {
    "ExecuteTime": {
     "end_time": "2022-07-07T19:11:33.685646Z",
     "start_time": "2022-07-07T19:11:33.530726Z"
    }
   },
   "outputs": [],
   "source": [
    "sm_df[\"week_maturity\"] =(sm_df[\"session_start\"]-sm_df[\"user_creation_time\"]).map(lambda x: int(np.ceil(x.days/7))+1)"
   ]
  },
  {
   "cell_type": "markdown",
   "id": "6e0f4e11",
   "metadata": {},
   "source": [
    "**Ajout du type d'utilisateur depuis la table user_augmented**"
   ]
  },
  {
   "cell_type": "code",
   "execution_count": 26,
   "id": "6aab4e6a",
   "metadata": {
    "ExecuteTime": {
     "end_time": "2022-07-07T19:11:33.689252Z",
     "start_time": "2022-07-07T19:11:33.686730Z"
    }
   },
   "outputs": [],
   "source": [
    "def extract_user_type(project,credentials):\n",
    "    # Construct a BigQuery client object.\n",
    "    client = bigquery.Client(project=project, credentials=credentials)\n",
    "\n",
    "    query = \"\"\"\n",
    "    SELECT Type, user_id\n",
    "    FROM `marbotic.marbotic_dataset.user_augmented`\n",
    "    \"\"\"\n",
    "\n",
    "    query_job = client.query(query)  # Make an API request.\n",
    "    results=query_job.result().to_dataframe() # Waits for job to complete.\n",
    "\n",
    "    return pd.DataFrame(results)"
   ]
  },
  {
   "cell_type": "code",
   "execution_count": 27,
   "id": "54333238",
   "metadata": {
    "ExecuteTime": {
     "end_time": "2022-07-07T19:11:34.978349Z",
     "start_time": "2022-07-07T19:11:33.690448Z"
    }
   },
   "outputs": [
    {
     "ename": "BadRequest",
     "evalue": "400 Unrecognized name: Type at [2:12]\n\nLocation: US\nJob ID: ce0b7f85-c960-475e-bfd1-235e44458aa4\n",
     "output_type": "error",
     "traceback": [
      "\u001b[0;31m---------------------------------------------------------------------------\u001b[0m",
      "\u001b[0;31mBadRequest\u001b[0m                                Traceback (most recent call last)",
      "Input \u001b[0;32mIn [27]\u001b[0m, in \u001b[0;36m<cell line: 1>\u001b[0;34m()\u001b[0m\n\u001b[0;32m----> 1\u001b[0m user_type_df \u001b[38;5;241m=\u001b[39m \u001b[43mextract_user_type\u001b[49m\u001b[43m(\u001b[49m\u001b[43mproject\u001b[49m\u001b[43m,\u001b[49m\u001b[43mcredentials\u001b[49m\u001b[43m)\u001b[49m\n\u001b[1;32m      2\u001b[0m user_type_df\n",
      "Input \u001b[0;32mIn [26]\u001b[0m, in \u001b[0;36mextract_user_type\u001b[0;34m(project, credentials)\u001b[0m\n\u001b[1;32m      5\u001b[0m query \u001b[38;5;241m=\u001b[39m \u001b[38;5;124m\"\"\"\u001b[39m\n\u001b[1;32m      6\u001b[0m \u001b[38;5;124mSELECT Type, user_id\u001b[39m\n\u001b[1;32m      7\u001b[0m \u001b[38;5;124mFROM `marbotic.marbotic_dataset.user_augmented`\u001b[39m\n\u001b[1;32m      8\u001b[0m \u001b[38;5;124m\u001b[39m\u001b[38;5;124m\"\"\"\u001b[39m\n\u001b[1;32m     10\u001b[0m query_job \u001b[38;5;241m=\u001b[39m client\u001b[38;5;241m.\u001b[39mquery(query)  \u001b[38;5;66;03m# Make an API request.\u001b[39;00m\n\u001b[0;32m---> 11\u001b[0m results\u001b[38;5;241m=\u001b[39m\u001b[43mquery_job\u001b[49m\u001b[38;5;241;43m.\u001b[39;49m\u001b[43mresult\u001b[49m\u001b[43m(\u001b[49m\u001b[43m)\u001b[49m\u001b[38;5;241m.\u001b[39mto_dataframe() \u001b[38;5;66;03m# Waits for job to complete.\u001b[39;00m\n\u001b[1;32m     13\u001b[0m \u001b[38;5;28;01mreturn\u001b[39;00m pd\u001b[38;5;241m.\u001b[39mDataFrame(results)\n",
      "File \u001b[0;32m~/.pyenv/versions/3.8.13/envs/marbotic/lib/python3.8/site-packages/google/cloud/bigquery/job/query.py:1499\u001b[0m, in \u001b[0;36mQueryJob.result\u001b[0;34m(self, page_size, max_results, retry, timeout, start_index, job_retry)\u001b[0m\n\u001b[1;32m   1496\u001b[0m     \u001b[38;5;28;01mif\u001b[39;00m retry_do_query \u001b[38;5;129;01mis\u001b[39;00m \u001b[38;5;129;01mnot\u001b[39;00m \u001b[38;5;28;01mNone\u001b[39;00m \u001b[38;5;129;01mand\u001b[39;00m job_retry \u001b[38;5;129;01mis\u001b[39;00m \u001b[38;5;129;01mnot\u001b[39;00m \u001b[38;5;28;01mNone\u001b[39;00m:\n\u001b[1;32m   1497\u001b[0m         do_get_result \u001b[38;5;241m=\u001b[39m job_retry(do_get_result)\n\u001b[0;32m-> 1499\u001b[0m     \u001b[43mdo_get_result\u001b[49m\u001b[43m(\u001b[49m\u001b[43m)\u001b[49m\n\u001b[1;32m   1501\u001b[0m \u001b[38;5;28;01mexcept\u001b[39;00m exceptions\u001b[38;5;241m.\u001b[39mGoogleAPICallError \u001b[38;5;28;01mas\u001b[39;00m exc:\n\u001b[1;32m   1502\u001b[0m     exc\u001b[38;5;241m.\u001b[39mmessage \u001b[38;5;241m=\u001b[39m _EXCEPTION_FOOTER_TEMPLATE\u001b[38;5;241m.\u001b[39mformat(\n\u001b[1;32m   1503\u001b[0m         message\u001b[38;5;241m=\u001b[39mexc\u001b[38;5;241m.\u001b[39mmessage, location\u001b[38;5;241m=\u001b[39m\u001b[38;5;28mself\u001b[39m\u001b[38;5;241m.\u001b[39mlocation, job_id\u001b[38;5;241m=\u001b[39m\u001b[38;5;28mself\u001b[39m\u001b[38;5;241m.\u001b[39mjob_id\n\u001b[1;32m   1504\u001b[0m     )\n",
      "File \u001b[0;32m~/.pyenv/versions/3.8.13/envs/marbotic/lib/python3.8/site-packages/google/api_core/retry.py:283\u001b[0m, in \u001b[0;36mRetry.__call__.<locals>.retry_wrapped_func\u001b[0;34m(*args, **kwargs)\u001b[0m\n\u001b[1;32m    279\u001b[0m target \u001b[38;5;241m=\u001b[39m functools\u001b[38;5;241m.\u001b[39mpartial(func, \u001b[38;5;241m*\u001b[39margs, \u001b[38;5;241m*\u001b[39m\u001b[38;5;241m*\u001b[39mkwargs)\n\u001b[1;32m    280\u001b[0m sleep_generator \u001b[38;5;241m=\u001b[39m exponential_sleep_generator(\n\u001b[1;32m    281\u001b[0m     \u001b[38;5;28mself\u001b[39m\u001b[38;5;241m.\u001b[39m_initial, \u001b[38;5;28mself\u001b[39m\u001b[38;5;241m.\u001b[39m_maximum, multiplier\u001b[38;5;241m=\u001b[39m\u001b[38;5;28mself\u001b[39m\u001b[38;5;241m.\u001b[39m_multiplier\n\u001b[1;32m    282\u001b[0m )\n\u001b[0;32m--> 283\u001b[0m \u001b[38;5;28;01mreturn\u001b[39;00m \u001b[43mretry_target\u001b[49m\u001b[43m(\u001b[49m\n\u001b[1;32m    284\u001b[0m \u001b[43m    \u001b[49m\u001b[43mtarget\u001b[49m\u001b[43m,\u001b[49m\n\u001b[1;32m    285\u001b[0m \u001b[43m    \u001b[49m\u001b[38;5;28;43mself\u001b[39;49m\u001b[38;5;241;43m.\u001b[39;49m\u001b[43m_predicate\u001b[49m\u001b[43m,\u001b[49m\n\u001b[1;32m    286\u001b[0m \u001b[43m    \u001b[49m\u001b[43msleep_generator\u001b[49m\u001b[43m,\u001b[49m\n\u001b[1;32m    287\u001b[0m \u001b[43m    \u001b[49m\u001b[38;5;28;43mself\u001b[39;49m\u001b[38;5;241;43m.\u001b[39;49m\u001b[43m_deadline\u001b[49m\u001b[43m,\u001b[49m\n\u001b[1;32m    288\u001b[0m \u001b[43m    \u001b[49m\u001b[43mon_error\u001b[49m\u001b[38;5;241;43m=\u001b[39;49m\u001b[43mon_error\u001b[49m\u001b[43m,\u001b[49m\n\u001b[1;32m    289\u001b[0m \u001b[43m\u001b[49m\u001b[43m)\u001b[49m\n",
      "File \u001b[0;32m~/.pyenv/versions/3.8.13/envs/marbotic/lib/python3.8/site-packages/google/api_core/retry.py:190\u001b[0m, in \u001b[0;36mretry_target\u001b[0;34m(target, predicate, sleep_generator, deadline, on_error)\u001b[0m\n\u001b[1;32m    188\u001b[0m \u001b[38;5;28;01mfor\u001b[39;00m sleep \u001b[38;5;129;01min\u001b[39;00m sleep_generator:\n\u001b[1;32m    189\u001b[0m     \u001b[38;5;28;01mtry\u001b[39;00m:\n\u001b[0;32m--> 190\u001b[0m         \u001b[38;5;28;01mreturn\u001b[39;00m \u001b[43mtarget\u001b[49m\u001b[43m(\u001b[49m\u001b[43m)\u001b[49m\n\u001b[1;32m    192\u001b[0m     \u001b[38;5;66;03m# pylint: disable=broad-except\u001b[39;00m\n\u001b[1;32m    193\u001b[0m     \u001b[38;5;66;03m# This function explicitly must deal with broad exceptions.\u001b[39;00m\n\u001b[1;32m    194\u001b[0m     \u001b[38;5;28;01mexcept\u001b[39;00m \u001b[38;5;167;01mException\u001b[39;00m \u001b[38;5;28;01mas\u001b[39;00m exc:\n",
      "File \u001b[0;32m~/.pyenv/versions/3.8.13/envs/marbotic/lib/python3.8/site-packages/google/cloud/bigquery/job/query.py:1489\u001b[0m, in \u001b[0;36mQueryJob.result.<locals>.do_get_result\u001b[0;34m()\u001b[0m\n\u001b[1;32m   1486\u001b[0m     \u001b[38;5;28mself\u001b[39m\u001b[38;5;241m.\u001b[39m_retry_do_query \u001b[38;5;241m=\u001b[39m retry_do_query\n\u001b[1;32m   1487\u001b[0m     \u001b[38;5;28mself\u001b[39m\u001b[38;5;241m.\u001b[39m_job_retry \u001b[38;5;241m=\u001b[39m job_retry\n\u001b[0;32m-> 1489\u001b[0m \u001b[38;5;28;43msuper\u001b[39;49m\u001b[43m(\u001b[49m\u001b[43mQueryJob\u001b[49m\u001b[43m,\u001b[49m\u001b[43m \u001b[49m\u001b[38;5;28;43mself\u001b[39;49m\u001b[43m)\u001b[49m\u001b[38;5;241;43m.\u001b[39;49m\u001b[43mresult\u001b[49m\u001b[43m(\u001b[49m\u001b[43mretry\u001b[49m\u001b[38;5;241;43m=\u001b[39;49m\u001b[43mretry\u001b[49m\u001b[43m,\u001b[49m\u001b[43m \u001b[49m\u001b[43mtimeout\u001b[49m\u001b[38;5;241;43m=\u001b[39;49m\u001b[43mtimeout\u001b[49m\u001b[43m)\u001b[49m\n\u001b[1;32m   1491\u001b[0m \u001b[38;5;66;03m# Since the job could already be \"done\" (e.g. got a finished job\u001b[39;00m\n\u001b[1;32m   1492\u001b[0m \u001b[38;5;66;03m# via client.get_job), the superclass call to done() might not\u001b[39;00m\n\u001b[1;32m   1493\u001b[0m \u001b[38;5;66;03m# set the self._query_results cache.\u001b[39;00m\n\u001b[1;32m   1494\u001b[0m \u001b[38;5;28mself\u001b[39m\u001b[38;5;241m.\u001b[39m_reload_query_results(retry\u001b[38;5;241m=\u001b[39mretry, timeout\u001b[38;5;241m=\u001b[39mtimeout)\n",
      "File \u001b[0;32m~/.pyenv/versions/3.8.13/envs/marbotic/lib/python3.8/site-packages/google/cloud/bigquery/job/base.py:728\u001b[0m, in \u001b[0;36m_AsyncJob.result\u001b[0;34m(self, retry, timeout)\u001b[0m\n\u001b[1;32m    725\u001b[0m     \u001b[38;5;28mself\u001b[39m\u001b[38;5;241m.\u001b[39m_begin(retry\u001b[38;5;241m=\u001b[39mretry, timeout\u001b[38;5;241m=\u001b[39mtimeout)\n\u001b[1;32m    727\u001b[0m kwargs \u001b[38;5;241m=\u001b[39m {} \u001b[38;5;28;01mif\u001b[39;00m retry \u001b[38;5;129;01mis\u001b[39;00m DEFAULT_RETRY \u001b[38;5;28;01melse\u001b[39;00m {\u001b[38;5;124m\"\u001b[39m\u001b[38;5;124mretry\u001b[39m\u001b[38;5;124m\"\u001b[39m: retry}\n\u001b[0;32m--> 728\u001b[0m \u001b[38;5;28;01mreturn\u001b[39;00m \u001b[38;5;28;43msuper\u001b[39;49m\u001b[43m(\u001b[49m\u001b[43m_AsyncJob\u001b[49m\u001b[43m,\u001b[49m\u001b[43m \u001b[49m\u001b[38;5;28;43mself\u001b[39;49m\u001b[43m)\u001b[49m\u001b[38;5;241;43m.\u001b[39;49m\u001b[43mresult\u001b[49m\u001b[43m(\u001b[49m\u001b[43mtimeout\u001b[49m\u001b[38;5;241;43m=\u001b[39;49m\u001b[43mtimeout\u001b[49m\u001b[43m,\u001b[49m\u001b[43m \u001b[49m\u001b[38;5;241;43m*\u001b[39;49m\u001b[38;5;241;43m*\u001b[39;49m\u001b[43mkwargs\u001b[49m\u001b[43m)\u001b[49m\n",
      "File \u001b[0;32m~/.pyenv/versions/3.8.13/envs/marbotic/lib/python3.8/site-packages/google/api_core/future/polling.py:137\u001b[0m, in \u001b[0;36mPollingFuture.result\u001b[0;34m(self, timeout, retry)\u001b[0m\n\u001b[1;32m    132\u001b[0m \u001b[38;5;28mself\u001b[39m\u001b[38;5;241m.\u001b[39m_blocking_poll(timeout\u001b[38;5;241m=\u001b[39mtimeout, \u001b[38;5;241m*\u001b[39m\u001b[38;5;241m*\u001b[39mkwargs)\n\u001b[1;32m    134\u001b[0m \u001b[38;5;28;01mif\u001b[39;00m \u001b[38;5;28mself\u001b[39m\u001b[38;5;241m.\u001b[39m_exception \u001b[38;5;129;01mis\u001b[39;00m \u001b[38;5;129;01mnot\u001b[39;00m \u001b[38;5;28;01mNone\u001b[39;00m:\n\u001b[1;32m    135\u001b[0m     \u001b[38;5;66;03m# pylint: disable=raising-bad-type\u001b[39;00m\n\u001b[1;32m    136\u001b[0m     \u001b[38;5;66;03m# Pylint doesn't recognize that this is valid in this case.\u001b[39;00m\n\u001b[0;32m--> 137\u001b[0m     \u001b[38;5;28;01mraise\u001b[39;00m \u001b[38;5;28mself\u001b[39m\u001b[38;5;241m.\u001b[39m_exception\n\u001b[1;32m    139\u001b[0m \u001b[38;5;28;01mreturn\u001b[39;00m \u001b[38;5;28mself\u001b[39m\u001b[38;5;241m.\u001b[39m_result\n",
      "\u001b[0;31mBadRequest\u001b[0m: 400 Unrecognized name: Type at [2:12]\n\nLocation: US\nJob ID: ce0b7f85-c960-475e-bfd1-235e44458aa4\n"
     ]
    }
   ],
   "source": [
    "user_type_df = extract_user_type(project,credentials)\n",
    "user_type_df"
   ]
  },
  {
   "cell_type": "code",
   "execution_count": null,
   "id": "c57723a8",
   "metadata": {
    "ExecuteTime": {
     "end_time": "2022-07-07T19:11:34.986918Z",
     "start_time": "2022-07-07T19:11:34.986909Z"
    }
   },
   "outputs": [],
   "source": [
    "user_type_df.drop_duplicates(subset='user_id',inplace=True)"
   ]
  },
  {
   "cell_type": "code",
   "execution_count": null,
   "id": "a4bb3ff5",
   "metadata": {
    "ExecuteTime": {
     "end_time": "2022-07-07T19:11:34.987860Z",
     "start_time": "2022-07-07T19:11:34.987852Z"
    }
   },
   "outputs": [],
   "source": [
    "sm_df = sm_df.merge(user_type_df, on='user_id')"
   ]
  },
  {
   "cell_type": "code",
   "execution_count": null,
   "id": "756a3e28",
   "metadata": {
    "ExecuteTime": {
     "end_time": "2022-07-07T19:11:34.988685Z",
     "start_time": "2022-07-07T19:11:34.988676Z"
    }
   },
   "outputs": [],
   "source": [
    "#Durée moyenne entre deux sessions pour les parents\n",
    "sm_df[sm_df['Type']=='Parent'][sm_df['time_since_last_session']!=timedelta(0)]['time_since_last_session'].mean()"
   ]
  },
  {
   "cell_type": "code",
   "execution_count": null,
   "id": "eca33330",
   "metadata": {
    "ExecuteTime": {
     "end_time": "2022-07-07T19:11:34.989484Z",
     "start_time": "2022-07-07T19:11:34.989471Z"
    }
   },
   "outputs": [],
   "source": [
    "week_maturity = sm_df['week_maturity']\n",
    "min_last_session = sm_df['time_since_last_session_min']"
   ]
  },
  {
   "cell_type": "code",
   "execution_count": null,
   "id": "3d9a46fc",
   "metadata": {
    "ExecuteTime": {
     "end_time": "2022-07-07T19:11:34.990229Z",
     "start_time": "2022-07-07T19:11:34.990221Z"
    }
   },
   "outputs": [],
   "source": [
    "sm_df['session_start_day'] = sm_df['session_start'].apply(lambda x: x.weekday()+1)"
   ]
  },
  {
   "cell_type": "code",
   "execution_count": null,
   "id": "036d6923",
   "metadata": {
    "ExecuteTime": {
     "end_time": "2022-07-07T19:11:34.991478Z",
     "start_time": "2022-07-07T19:11:34.991468Z"
    }
   },
   "outputs": [],
   "source": [
    "sm_df['session_start_month'] = sm_df['session_start'].apply(lambda x: x.month)"
   ]
  },
  {
   "cell_type": "code",
   "execution_count": null,
   "id": "9db6f027",
   "metadata": {
    "ExecuteTime": {
     "end_time": "2022-07-07T19:11:34.992224Z",
     "start_time": "2022-07-07T19:11:34.992215Z"
    }
   },
   "outputs": [],
   "source": [
    "#Gros pic de session au mois de mars (= Merge de l'appli ? puis uniquement décroissance)\n",
    "sm_df[sm_df['Type']=='Parent'][['session_start_month']].hist();"
   ]
  },
  {
   "cell_type": "code",
   "execution_count": null,
   "id": "bc7d3c56",
   "metadata": {
    "ExecuteTime": {
     "end_time": "2022-07-07T19:11:34.993304Z",
     "start_time": "2022-07-07T19:11:34.993295Z"
    }
   },
   "outputs": [],
   "source": [
    "#On ne retrouve pas la saisonalité hebdomadaire annoncée\n",
    "sm_df[sm_df['Type']=='Parent'][['session_start_day']].hist();"
   ]
  },
  {
   "cell_type": "code",
   "execution_count": null,
   "id": "850c15b4",
   "metadata": {
    "ExecuteTime": {
     "end_time": "2022-07-07T19:11:34.994305Z",
     "start_time": "2022-07-07T19:11:34.994296Z"
    }
   },
   "outputs": [],
   "source": [
    "plt.figure(figsize=(15, 10))\n",
    "\n",
    "sns.scatterplot(x=week_maturity,y=min_last_session,alpha=0.4,hue=sm_df['Type'])\n",
    "\n",
    "plt.axhline(30240, ls='--', linewidth=1.5, color='red')\n",
    "plt.text(92,30240, \"3 semaines depuis la dernière session\")\n",
    "\n",
    "plt.axhline(21160, ls='--', linewidth=1.5, color='red')\n",
    "plt.text(92,21160, \"2 semaines depuis la dernière session\")\n",
    "\n",
    "plt.axhline(10080, ls='--', linewidth=1.5, color='red')\n",
    "plt.text(92,10080, \"1 semaines depuis la dernière session\")\n",
    "\n",
    "plt.show()"
   ]
  },
  {
   "cell_type": "code",
   "execution_count": null,
   "id": "c3f637a1",
   "metadata": {
    "ExecuteTime": {
     "end_time": "2022-07-07T19:11:34.995175Z",
     "start_time": "2022-07-07T19:11:34.995166Z"
    }
   },
   "outputs": [],
   "source": [
    "plt.figure(figsize=(15, 10))\n",
    "\n",
    "sns.scatterplot(x=week_maturity,y=sm_df['good_answer_ratio'],alpha=0.4,hue=sm_df['Type'])\n",
    "\n",
    "#plt.axhline(30240, ls='--', linewidth=1.5, color='red')\n",
    "#plt.text(92,30240, \"3 semaines depuis la dernière session\")\n",
    "\n",
    "#plt.axhline(21160, ls='--', linewidth=1.5, color='red')\n",
    "#plt.text(92,21160, \"2 semaines depuis la dernière session\")\n",
    "\n",
    "#plt.axhline(10080, ls='--', linewidth=1.5, color='red')\n",
    "#plt.text(92,10080, \"1 semaines depuis la dernière session\")\n",
    "#plt.ylim(0,100)\n",
    "plt.show()"
   ]
  },
  {
   "cell_type": "code",
   "execution_count": null,
   "id": "7b6644a5",
   "metadata": {
    "ExecuteTime": {
     "end_time": "2022-07-07T19:11:34.996174Z",
     "start_time": "2022-07-07T19:11:34.996165Z"
    }
   },
   "outputs": [],
   "source": [
    "#On drope la colone time_since_last_session en timedelta car incompatbile BQ\n",
    "sm_df.drop('time_since_last_session',axis=1,inplace=True)"
   ]
  },
  {
   "cell_type": "markdown",
   "id": "406188eb",
   "metadata": {},
   "source": [
    "## Correlation"
   ]
  },
  {
   "cell_type": "code",
   "execution_count": null,
   "id": "2531c611",
   "metadata": {
    "ExecuteTime": {
     "end_time": "2022-07-07T19:11:34.997596Z",
     "start_time": "2022-07-07T19:11:34.997587Z"
    }
   },
   "outputs": [],
   "source": [
    "# Heatmap\n",
    "corr = sm_df.corr()\n",
    "sns.heatmap(corr, \n",
    "        xticklabels=corr.columns,\n",
    "        yticklabels=corr.columns,\n",
    "        cmap= \"YlGnBu\");"
   ]
  },
  {
   "cell_type": "code",
   "execution_count": null,
   "id": "ebb0d854",
   "metadata": {
    "ExecuteTime": {
     "end_time": "2022-07-07T19:11:34.998769Z",
     "start_time": "2022-07-07T19:11:34.998759Z"
    }
   },
   "outputs": [],
   "source": [
    "corr_df = corr.unstack().reset_index() # Unstack correlation matrix \n",
    "corr_df.columns = ['feature_1','feature_2', 'correlation'] # rename columns\n",
    "corr_df.sort_values(by=\"correlation\",ascending=False, inplace=True) # sort by correlation\n",
    "corr_df = corr_df[corr_df['feature_1'] != corr_df['feature_2']] # Remove self correlation\n",
    "corr_df.head(20)"
   ]
  },
  {
   "cell_type": "code",
   "execution_count": null,
   "id": "35fd5874",
   "metadata": {
    "ExecuteTime": {
     "end_time": "2022-07-07T19:11:34.999512Z",
     "start_time": "2022-07-07T19:11:34.999502Z"
    }
   },
   "outputs": [],
   "source": [
    "upper = corr.where(np.triu(np.ones(corr.shape), k=1).astype(np.bool))\n",
    "to_drop = [column for column in upper.columns if any(upper[column] > 0.9)]"
   ]
  },
  {
   "cell_type": "code",
   "execution_count": null,
   "id": "837403ee",
   "metadata": {
    "ExecuteTime": {
     "end_time": "2022-07-07T19:11:35.000359Z",
     "start_time": "2022-07-07T19:11:35.000351Z"
    }
   },
   "outputs": [],
   "source": [
    "to_drop"
   ]
  },
  {
   "cell_type": "markdown",
   "id": "d0291abe",
   "metadata": {
    "ExecuteTime": {
     "end_time": "2022-06-27T13:42:20.630716Z",
     "start_time": "2022-06-27T13:42:20.479884Z"
    }
   },
   "source": [
    "## Labelling"
   ]
  },
  {
   "cell_type": "code",
   "execution_count": null,
   "id": "13a17f2c",
   "metadata": {
    "ExecuteTime": {
     "end_time": "2022-07-07T19:11:35.001353Z",
     "start_time": "2022-07-07T19:11:35.001344Z"
    }
   },
   "outputs": [],
   "source": [
    "#On considère le seuil de churn à 3 semaine.\n",
    "#On est en situation de churn si la session suivante arrive dans plus de 3 semaines.\n",
    "CHURN_THRESHOLD = timedelta(days=7)\n",
    "\n",
    "#On utilise une constante TODAY pour evaluer le risque de churn des dernières session.\n",
    "#Dans notre cas TODAY est le max de session end. On considère que l'extract s'arrète au moment de la dernière session de jeu dont on dispose\n",
    "TODAY = datetime(2022, 5, 13, 0, 0)"
   ]
  },
  {
   "cell_type": "code",
   "execution_count": null,
   "id": "2c74139a",
   "metadata": {
    "ExecuteTime": {
     "end_time": "2022-07-07T19:11:35.002343Z",
     "start_time": "2022-07-07T19:11:35.002334Z"
    }
   },
   "outputs": [],
   "source": [
    "#sm_df[(sm_df['user_id']==65616.0)& ('2022-03-16 08:58:14.214000+00:00'<sm_df['session_end'])].sort_values(by='session_end',ascending=True).groupby('user_id').first()['session_start']"
   ]
  },
  {
   "cell_type": "code",
   "execution_count": null,
   "id": "f11bfce4",
   "metadata": {
    "ExecuteTime": {
     "end_time": "2022-07-07T19:11:35.003187Z",
     "start_time": "2022-07-07T19:11:35.003178Z"
    }
   },
   "outputs": [],
   "source": [
    "#On calcul le temps jusqu'à la prochaine sessions si superieur au seuil de churn. Label_risque de churn = 1\n",
    "def labelling_churn(user_id,session_end,session_start,CHURN_THRESHOLD,today):\n",
    "    next_session = sm_df[(sm_df['user_id']==user_id) & (session_end<sm_df['session_end'])]\\\n",
    "    .sort_values(by='session_end',ascending=True)\\\n",
    "    .groupby('user_id').first()['session_start']\n",
    "    if len(next_session.values) == 0:\n",
    "        if today - session_start.to_pydatetime().replace(tzinfo=None)> CHURN_THRESHOLD :\n",
    "            return 1\n",
    "        else:\n",
    "            return 0\n",
    "    else:\n",
    "        delta = (next_session - session_end)\n",
    "        if delta.iloc[0] < CHURN_THRESHOLD:\n",
    "            return 0\n",
    "        else:\n",
    "            return 1"
   ]
  },
  {
   "cell_type": "code",
   "execution_count": null,
   "id": "4184b58a",
   "metadata": {
    "ExecuteTime": {
     "end_time": "2022-07-07T19:11:35.004030Z",
     "start_time": "2022-07-07T19:11:35.004021Z"
    }
   },
   "outputs": [],
   "source": [
    "sm_df['churn_risk'] = sm_df.apply(lambda x:labelling_churn(x.user_id,x.session_end,x.session_start,CHURN_THRESHOLD,TODAY), axis=1)"
   ]
  },
  {
   "cell_type": "code",
   "execution_count": null,
   "id": "9d8a865a",
   "metadata": {
    "ExecuteTime": {
     "end_time": "2022-07-07T19:11:35.005138Z",
     "start_time": "2022-07-07T19:11:35.005128Z"
    }
   },
   "outputs": [],
   "source": [
    "#Vérification du label de churn sur l'utilisateur déja vérifié plus haut.\n",
    "sm_df[sm_df['user_id']==66337.0].sort_values(by='session_start',ascending=True)[['session_start','time_since_last_session_min','churn_risk']]"
   ]
  },
  {
   "cell_type": "code",
   "execution_count": null,
   "id": "cd10bf3f",
   "metadata": {
    "ExecuteTime": {
     "end_time": "2022-07-07T19:11:35.006082Z",
     "start_time": "2022-07-07T19:11:35.006073Z"
    }
   },
   "outputs": [],
   "source": [
    "sm_df[sm_df['Type']=='Parent']['churn_risk'].value_counts()"
   ]
  },
  {
   "cell_type": "code",
   "execution_count": null,
   "id": "afaddf7e",
   "metadata": {
    "ExecuteTime": {
     "end_time": "2022-07-07T19:11:35.006876Z",
     "start_time": "2022-07-07T19:11:35.006866Z"
    }
   },
   "outputs": [],
   "source": [
    "(1901/(13090+1901))*100"
   ]
  },
  {
   "cell_type": "code",
   "execution_count": null,
   "id": "c296e6f8",
   "metadata": {
    "ExecuteTime": {
     "end_time": "2022-07-07T19:11:35.007749Z",
     "start_time": "2022-07-07T19:11:35.007740Z"
    }
   },
   "outputs": [],
   "source": [
    "sm_df[sm_df['Type']=='Teacher']['churn_risk'].value_counts()"
   ]
  },
  {
   "cell_type": "code",
   "execution_count": null,
   "id": "2a6e0ee8",
   "metadata": {
    "ExecuteTime": {
     "end_time": "2022-07-07T19:11:35.008806Z",
     "start_time": "2022-07-07T19:11:35.008797Z"
    }
   },
   "outputs": [],
   "source": [
    "(329/(329+3495))*100"
   ]
  },
  {
   "cell_type": "markdown",
   "id": "a5cae13c",
   "metadata": {},
   "source": [
    "## Cleaning"
   ]
  },
  {
   "cell_type": "code",
   "execution_count": null,
   "id": "d76e9eba",
   "metadata": {
    "ExecuteTime": {
     "end_time": "2022-07-07T19:11:35.009633Z",
     "start_time": "2022-07-07T19:11:35.009625Z"
    }
   },
   "outputs": [],
   "source": [
    "#No duplicates\n",
    "sm_df.duplicated().sum()"
   ]
  },
  {
   "cell_type": "code",
   "execution_count": null,
   "id": "371d6e5f",
   "metadata": {
    "ExecuteTime": {
     "end_time": "2022-07-07T19:11:35.010909Z",
     "start_time": "2022-07-07T19:11:35.010900Z"
    }
   },
   "outputs": [],
   "source": [
    "((sm_df.isnull().sum().sort_values(ascending=False)/len(sm_df))*100).head(10)"
   ]
  },
  {
   "cell_type": "markdown",
   "id": "cde28a34",
   "metadata": {},
   "source": [
    "good_answer_ratio Nan correspond to session with no event type answer. On remplace les Nan par -1"
   ]
  },
  {
   "cell_type": "code",
   "execution_count": null,
   "id": "9f6bd93d",
   "metadata": {
    "ExecuteTime": {
     "end_time": "2022-07-07T19:11:35.012242Z",
     "start_time": "2022-07-07T19:11:35.012231Z"
    }
   },
   "outputs": [],
   "source": [
    "answer_ratio_imputer = SimpleImputer(strategy='constant',fill_value=-1)\n",
    "sm_df['good_answer_ratio'] = answer_ratio_imputer.fit_transform(sm_df[['good_answer_ratio']])"
   ]
  },
  {
   "cell_type": "code",
   "execution_count": null,
   "id": "ee30ca05",
   "metadata": {
    "ExecuteTime": {
     "end_time": "2022-07-07T19:11:35.013017Z",
     "start_time": "2022-07-07T19:11:35.013009Z"
    }
   },
   "outputs": [],
   "source": [
    "#34% de Nan, on drop cette colonne tant qu'on n'a pas d'information supplémentaire sur la signification des Nan\n",
    "sm_df['Action_Element_Name'].value_counts()"
   ]
  },
  {
   "cell_type": "code",
   "execution_count": null,
   "id": "669221c6",
   "metadata": {
    "ExecuteTime": {
     "end_time": "2022-07-07T19:11:35.014156Z",
     "start_time": "2022-07-07T19:11:35.014147Z"
    }
   },
   "outputs": [],
   "source": [
    "sm_df.drop('Action_Element_Name',axis=1,inplace=True)"
   ]
  },
  {
   "cell_type": "code",
   "execution_count": null,
   "id": "557d6c69",
   "metadata": {
    "ExecuteTime": {
     "end_time": "2022-07-07T19:11:35.015824Z",
     "start_time": "2022-07-07T19:11:35.015806Z"
    }
   },
   "outputs": [],
   "source": [
    "#Pour Profile_Age_days(17%), Time_Spent(0.03) on remplace par la médiane car un énorme outlier(-2911184.0) et 3341 valeur = -1\n",
    "med_imputer = SimpleImputer(strategy='median')\n",
    "sm_df['Profile_Age_days'] = med_imputer.fit_transform(sm_df[['Profile_Age_days']])\n",
    "sm_df['Time_Spent'] = med_imputer.fit_transform(sm_df[['Time_Spent']])"
   ]
  },
  {
   "cell_type": "code",
   "execution_count": null,
   "id": "51fbcba0",
   "metadata": {
    "ExecuteTime": {
     "end_time": "2022-07-07T19:11:35.016884Z",
     "start_time": "2022-07-07T19:11:35.016875Z"
    }
   },
   "outputs": [],
   "source": [
    "#Pour Type, il manque une valeur on remplace par most frequent\n",
    "mmost_freq_imputer = SimpleImputer(missing_values=None,strategy='most_frequent')\n",
    "sm_df['Type'] = mmost_freq_imputer.fit_transform(sm_df[['Type']])"
   ]
  },
  {
   "cell_type": "code",
   "execution_count": null,
   "id": "512b6f2e",
   "metadata": {
    "ExecuteTime": {
     "end_time": "2022-07-07T19:11:35.017933Z",
     "start_time": "2022-07-07T19:11:35.017925Z"
    }
   },
   "outputs": [],
   "source": [
    "((sm_df.isnull().sum().sort_values(ascending=False)/len(sm_df))*100).head(10)"
   ]
  },
  {
   "cell_type": "markdown",
   "id": "46757fa8",
   "metadata": {},
   "source": [
    "**Traitement des outliers extremes**"
   ]
  },
  {
   "cell_type": "code",
   "execution_count": null,
   "id": "6761a898",
   "metadata": {
    "ExecuteTime": {
     "end_time": "2022-07-07T19:11:35.019183Z",
     "start_time": "2022-07-07T19:11:35.019174Z"
    }
   },
   "outputs": [],
   "source": [
    "# A controle Time_spent max, Profile_Age_days min\n",
    "#On supprime la session avec le time_spent = 17162486.0 de user_id = 23370.0 \n",
    "#Il a 70 sessions avec une médiane de Time_spent 7571\n",
    "sm_df[['Time_Spent']].max()"
   ]
  },
  {
   "cell_type": "code",
   "execution_count": null,
   "id": "20c203c1",
   "metadata": {
    "ExecuteTime": {
     "end_time": "2022-07-07T19:11:35.020265Z",
     "start_time": "2022-07-07T19:11:35.020255Z"
    }
   },
   "outputs": [],
   "source": [
    "sm_df.shape"
   ]
  },
  {
   "cell_type": "code",
   "execution_count": null,
   "id": "f4143eac",
   "metadata": {
    "ExecuteTime": {
     "end_time": "2022-07-07T19:11:35.020922Z",
     "start_time": "2022-07-07T19:11:35.020913Z"
    }
   },
   "outputs": [],
   "source": [
    "sm_df.drop(axis=0,index=sm_df[sm_df['Time_Spent']==17162486.0].index,inplace=True)"
   ]
  },
  {
   "cell_type": "code",
   "execution_count": null,
   "id": "d1aa608b",
   "metadata": {
    "ExecuteTime": {
     "end_time": "2022-07-07T19:11:35.021577Z",
     "start_time": "2022-07-07T19:11:35.021569Z"
    }
   },
   "outputs": [],
   "source": [
    "#On supprime 2 autres lignes avec Time_Spent > 1 000 000 Cela concerne le même utilsateur qui a 20 sessions\n",
    "sm_df.drop(axis=0,index=sm_df[sm_df['Time_Spent']==2190329.0].index,inplace=True)\n",
    "sm_df.drop(axis=0,index=sm_df[sm_df['Time_Spent']==1093473.0].index,inplace=True)"
   ]
  },
  {
   "cell_type": "code",
   "execution_count": null,
   "id": "219c1aac",
   "metadata": {
    "ExecuteTime": {
     "end_time": "2022-07-07T19:11:35.022514Z",
     "start_time": "2022-07-07T19:11:35.022504Z"
    }
   },
   "outputs": [],
   "source": [
    "# On supprime l'utilisateur avec un age énorme négatif. Session unique user_creation_time : 27-22-2021\n",
    "sm_df.drop(axis=0,index=sm_df[sm_df['Profile_Age_days']==-2911184.0].index,inplace=True)"
   ]
  },
  {
   "cell_type": "markdown",
   "id": "1eb366fe",
   "metadata": {},
   "source": [
    "## processing des colonnes"
   ]
  },
  {
   "cell_type": "code",
   "execution_count": null,
   "id": "f5581adc",
   "metadata": {
    "ExecuteTime": {
     "end_time": "2022-07-07T19:11:35.023549Z",
     "start_time": "2022-07-07T19:11:35.023540Z"
    }
   },
   "outputs": [],
   "source": [
    "sm_df.select_dtypes(include='object')"
   ]
  },
  {
   "cell_type": "code",
   "execution_count": null,
   "id": "c30e636e",
   "metadata": {
    "ExecuteTime": {
     "end_time": "2022-07-07T19:11:35.024534Z",
     "start_time": "2022-07-07T19:11:35.024526Z"
    }
   },
   "outputs": [],
   "source": [
    "class CustomOHE(OneHotEncoder):\n",
    "    def fit(self, *args, **kwargs):\n",
    "        return super().fit(*args, **kwargs) \n",
    "    \n",
    "    def transform(self,*args, **kwargs):\n",
    "        return pd.DataFrame(super().transform(*args, **kwargs), columns=self.get_feature_names_out())\n",
    "\n",
    "    def fit_transform(self,*args, **kwargs):\n",
    "        return pd.DataFrame(super().fit_transform(*args, **kwargs), columns=self.get_feature_names_out())"
   ]
  },
  {
   "cell_type": "code",
   "execution_count": null,
   "id": "8aba5117",
   "metadata": {
    "ExecuteTime": {
     "end_time": "2022-07-07T19:11:35.025309Z",
     "start_time": "2022-07-07T19:11:35.025300Z"
    }
   },
   "outputs": [],
   "source": [
    "cat_transformer = CustomOHE(sparse = False, handle_unknown = \"ignore\", drop='if_binary')\n",
    "cat_selection = sm_df[['Type']].columns"
   ]
  },
  {
   "cell_type": "code",
   "execution_count": null,
   "id": "85cad84d",
   "metadata": {
    "ExecuteTime": {
     "end_time": "2022-07-07T19:11:35.026810Z",
     "start_time": "2022-07-07T19:11:35.026801Z"
    }
   },
   "outputs": [],
   "source": [
    "class CustomMinMaxScale(MinMaxScaler):\n",
    "    def fit(self, *args, **kwargs):\n",
    "        return super().fit(*args, **kwargs) \n",
    "    \n",
    "    def transform(self,*args, **kwargs):\n",
    "        return pd.DataFrame(super().transform(*args, **kwargs), columns=self.get_feature_names_out())\n",
    "\n",
    "    def fit_transform(self,*args, **kwargs):\n",
    "        return pd.DataFrame(super().fit_transform(*args, **kwargs), columns=self.get_feature_names_out())"
   ]
  },
  {
   "cell_type": "code",
   "execution_count": null,
   "id": "f05d5104",
   "metadata": {
    "ExecuteTime": {
     "end_time": "2022-07-07T19:11:35.027717Z",
     "start_time": "2022-07-07T19:11:35.027694Z"
    }
   },
   "outputs": [],
   "source": [
    "#On retire des éléments très corrélés\n",
    "num_transformer = CustomMinMaxScale()\n",
    "num_selection = sm_df.select_dtypes(include=['float64','int64']).drop(['churn_risk','session_id','id','user_id','event_type_Toast_Disappear','event_type_OB_ProductHelp','event_type_OB_ProfileName'],axis=1).columns"
   ]
  },
  {
   "cell_type": "code",
   "execution_count": null,
   "id": "2d192768",
   "metadata": {
    "ExecuteTime": {
     "end_time": "2022-07-07T19:11:35.029168Z",
     "start_time": "2022-07-07T19:11:35.029157Z"
    }
   },
   "outputs": [],
   "source": [
    "class Cyclical_month_Encoder(BaseEstimator, TransformerMixin):\n",
    "    '''Custom transformer to convert month into cyclical encoding cos and sin'''\n",
    "    def _init_(self):\n",
    "        pass \n",
    "    \n",
    "    def fit(self, X,y=None):\n",
    "        return super().fit(*args, **kwargs) \n",
    "    \n",
    "    def transform(self, X,y=None):\n",
    "        X = pd.DataFrame(X)\n",
    "        df = pd.DataFrame()\n",
    "        cst = (2*np.pi/12)\n",
    "        df['month_cos'] = X.apply(lambda x: np.cos(cst*x))\n",
    "        df['month_sin'] = X.apply(lambda x: np.sin(cst*x))\n",
    "        return df\n",
    "    \n",
    "    def fit_transform(self, X,y=None):\n",
    "        X = pd.DataFrame(X)\n",
    "        df = pd.DataFrame()\n",
    "        cst = (2*np.pi/12)\n",
    "        df['month_cos'] = X.apply(lambda x: np.cos(cst*x))\n",
    "        df['month_sin'] = X.apply(lambda x: np.sin(cst*x))\n",
    "        return df\n",
    "    \n",
    "    def get_feature_names_out(self,X):\n",
    "        return 'month_cos','month_sin'"
   ]
  },
  {
   "cell_type": "code",
   "execution_count": null,
   "id": "1e0ec17a",
   "metadata": {
    "ExecuteTime": {
     "end_time": "2022-07-07T19:11:35.030119Z",
     "start_time": "2022-07-07T19:11:35.030109Z"
    }
   },
   "outputs": [],
   "source": [
    "month_transformer = Cyclical_month_Encoder()\n",
    "month_selection = sm_df[['session_start_month']].columns"
   ]
  },
  {
   "cell_type": "code",
   "execution_count": null,
   "id": "91591e41",
   "metadata": {
    "ExecuteTime": {
     "end_time": "2022-07-07T19:11:35.030858Z",
     "start_time": "2022-07-07T19:11:35.030850Z"
    }
   },
   "outputs": [],
   "source": [
    "class Cyclical_day_Encoder(BaseEstimator, TransformerMixin):\n",
    "    '''Custom transformer to convert day into cyclical encoding cos and sin'''\n",
    "    def _init_(self):\n",
    "        pass \n",
    "    \n",
    "    def fit(self, X,y=None):\n",
    "        return self\n",
    "    \n",
    "    def transform(self, X,y=None):\n",
    "        X = pd.DataFrame(X)\n",
    "        df = pd.DataFrame()\n",
    "        cst = (2*np.pi/7)\n",
    "        df['day_cos'] = X.apply(lambda x: np.cos(cst*x))\n",
    "        df['day_sin'] = X.apply(lambda x: np.sin(cst*x))\n",
    "        return df\n",
    "    \n",
    "    def get_feature_names_out(self,X):\n",
    "        return 'day_cos','day_sin'"
   ]
  },
  {
   "cell_type": "code",
   "execution_count": null,
   "id": "5642fa54",
   "metadata": {
    "ExecuteTime": {
     "end_time": "2022-07-07T19:11:35.031721Z",
     "start_time": "2022-07-07T19:11:35.031713Z"
    }
   },
   "outputs": [],
   "source": [
    "day_transformer = Cyclical_day_Encoder()\n",
    "day_selection = sm_df[['session_start_day']].columns"
   ]
  },
  {
   "cell_type": "code",
   "execution_count": null,
   "id": "135faaee",
   "metadata": {
    "ExecuteTime": {
     "end_time": "2022-07-07T19:11:35.032685Z",
     "start_time": "2022-07-07T19:11:35.032673Z"
    }
   },
   "outputs": [],
   "source": [
    "class CustomColumnTransformer(ColumnTransformer):\n",
    "    \n",
    "    def fit(self, *args, **kwargs):\n",
    "        return super().fit(*args, **kwargs)\n",
    "    \n",
    "    def transform(self, X, *args, **kwargs):\n",
    "        return pd.DataFrame(super().transform(X, *args, **kwargs), columns=self.get_feature_names_out())\n",
    "    \n",
    "    def fit_transform(self, X, *args, **kwargs):\n",
    "        return pd.DataFrame(super().fit_transform(X, *args, **kwargs), columns=self.get_feature_names_out())"
   ]
  },
  {
   "cell_type": "code",
   "execution_count": null,
   "id": "6b83dec8",
   "metadata": {
    "ExecuteTime": {
     "end_time": "2022-07-07T19:11:35.033856Z",
     "start_time": "2022-07-07T19:11:35.033846Z"
    }
   },
   "outputs": [],
   "source": [
    "sm_df.shape"
   ]
  },
  {
   "cell_type": "code",
   "execution_count": null,
   "id": "b08d7e39",
   "metadata": {
    "ExecuteTime": {
     "end_time": "2022-07-07T19:11:35.034635Z",
     "start_time": "2022-07-07T19:11:35.034627Z"
    }
   },
   "outputs": [],
   "source": [
    "len(num_selection) + len(cat_selection) + len(month_selection) + len(day_selection)"
   ]
  },
  {
   "cell_type": "code",
   "execution_count": null,
   "id": "d11159c9",
   "metadata": {
    "ExecuteTime": {
     "end_time": "2022-07-07T19:11:35.035573Z",
     "start_time": "2022-07-07T19:11:35.035564Z"
    }
   },
   "outputs": [],
   "source": [
    "preprocessor = CustomColumnTransformer([\n",
    "    ('num_tr',num_transformer,num_selection),\n",
    "    ('cat_tr',cat_transformer,cat_selection ),\n",
    "    ('month_tr',month_transformer,month_selection ),\n",
    "    ('day_tr',day_transformer,day_selection )],\n",
    "    remainder = 'drop'\n",
    ")"
   ]
  },
  {
   "cell_type": "code",
   "execution_count": null,
   "id": "25858944",
   "metadata": {
    "ExecuteTime": {
     "end_time": "2022-07-07T19:11:35.036480Z",
     "start_time": "2022-07-07T19:11:35.036471Z"
    }
   },
   "outputs": [],
   "source": [
    "preprocessor"
   ]
  },
  {
   "cell_type": "code",
   "execution_count": null,
   "id": "dbed51fb",
   "metadata": {
    "ExecuteTime": {
     "end_time": "2022-07-07T19:11:35.037304Z",
     "start_time": "2022-07-07T19:11:35.037295Z"
    }
   },
   "outputs": [],
   "source": [
    "#oversample = SMOTE()\n",
    "# la bonne pratique et d'oversampler et de downsampler\n",
    "#over = SMOTE(sampling_strategy=0.1)\n",
    "#under = RandomUnderSampler(sampling_strategy=0.5)"
   ]
  },
  {
   "cell_type": "code",
   "execution_count": null,
   "id": "1875cf68",
   "metadata": {
    "ExecuteTime": {
     "end_time": "2022-07-07T19:11:35.038375Z",
     "start_time": "2022-07-07T19:11:35.038366Z"
    }
   },
   "outputs": [],
   "source": [
    "#X_smote = preprocessor.fit_transform(sm_df)"
   ]
  },
  {
   "cell_type": "code",
   "execution_count": null,
   "id": "b1ed7865",
   "metadata": {
    "ExecuteTime": {
     "end_time": "2022-07-07T19:11:35.039293Z",
     "start_time": "2022-07-07T19:11:35.039283Z"
    }
   },
   "outputs": [],
   "source": [
    "#y_smote = sm_df['churn_risk'].copy()"
   ]
  },
  {
   "cell_type": "code",
   "execution_count": null,
   "id": "05211819",
   "metadata": {
    "ExecuteTime": {
     "end_time": "2022-07-07T19:11:35.040186Z",
     "start_time": "2022-07-07T19:11:35.040177Z"
    }
   },
   "outputs": [],
   "source": [
    "#X_smote, y_smote = oversample.fit_resample(X_smote, y_smote)\n"
   ]
  },
  {
   "cell_type": "code",
   "execution_count": null,
   "id": "f37472c5",
   "metadata": {
    "ExecuteTime": {
     "end_time": "2022-07-07T19:11:35.041288Z",
     "start_time": "2022-07-07T19:11:35.041279Z"
    }
   },
   "outputs": [],
   "source": [
    "sm_df['churn_risk'].value_counts()"
   ]
  },
  {
   "cell_type": "markdown",
   "id": "936a545e",
   "metadata": {},
   "source": [
    "## Preparation du jeu de donnée"
   ]
  },
  {
   "cell_type": "markdown",
   "id": "42d64266",
   "metadata": {},
   "source": [
    "**On downsample les sessions sans churn risque pour en avoir autant que de churn risque**"
   ]
  },
  {
   "cell_type": "code",
   "execution_count": null,
   "id": "f2921d37",
   "metadata": {
    "ExecuteTime": {
     "end_time": "2022-07-07T19:11:35.042125Z",
     "start_time": "2022-07-07T19:11:35.042116Z"
    }
   },
   "outputs": [],
   "source": [
    "#def downsample_churn_risk(df):\n",
    "#    sm_df_churn_risque = df[df['churn_risk']==1]\n",
    "#    sm_df_no_churn_risque = df[df['churn_risk']==0]\n",
    "#    sm_df_no_churn_risque = sm_df_no_churn_risque.loc\\\n",
    "#    [np.random.choice(sm_df_no_churn_risque.index,size = sm_df_churn_risque.shape[0])]\n",
    "#    \n",
    "#    sm_df_balanced = pd.concat([sm_df_no_churn_risque,sm_df_churn_risque],axis=0)\n",
    "#    X= sm_df_balanced.drop('churn_risk',axis=1).copy()\n",
    "#    y = sm_df_balanced['churn_risk'].copy()\n",
    "#    return X,y"
   ]
  },
  {
   "cell_type": "code",
   "execution_count": null,
   "id": "7d910846",
   "metadata": {
    "ExecuteTime": {
     "end_time": "2022-07-07T19:11:35.043301Z",
     "start_time": "2022-07-07T19:11:35.043292Z"
    }
   },
   "outputs": [],
   "source": [
    "#X,y = downsample_churn_risk(sm_df)"
   ]
  },
  {
   "cell_type": "markdown",
   "id": "975b7eab",
   "metadata": {},
   "source": [
    "**On va plutôt oversample avec SMOT directement dans le pipeline** Il faut uniquement des données numériques"
   ]
  },
  {
   "cell_type": "code",
   "execution_count": null,
   "id": "c7119cad",
   "metadata": {
    "ExecuteTime": {
     "end_time": "2022-07-07T19:11:35.044196Z",
     "start_time": "2022-07-07T19:11:35.044188Z"
    }
   },
   "outputs": [],
   "source": [
    "X = sm_df.drop('churn_risk',axis=1).copy()\n",
    "y = sm_df['churn_risk'].copy()"
   ]
  },
  {
   "cell_type": "code",
   "execution_count": null,
   "id": "2a9db990",
   "metadata": {
    "ExecuteTime": {
     "end_time": "2022-07-07T19:11:35.044884Z",
     "start_time": "2022-07-07T19:11:35.044875Z"
    }
   },
   "outputs": [],
   "source": [
    "X.shape,y.shape"
   ]
  },
  {
   "cell_type": "code",
   "execution_count": null,
   "id": "5be5db3b",
   "metadata": {
    "ExecuteTime": {
     "end_time": "2022-07-07T19:11:35.045947Z",
     "start_time": "2022-07-07T19:11:35.045937Z"
    }
   },
   "outputs": [],
   "source": [
    "y.value_counts()"
   ]
  },
  {
   "cell_type": "markdown",
   "id": "4ca6fcd3",
   "metadata": {},
   "source": [
    "On sépare le jeu de donnée en train et test"
   ]
  },
  {
   "cell_type": "code",
   "execution_count": null,
   "id": "77d10786",
   "metadata": {
    "ExecuteTime": {
     "end_time": "2022-07-07T19:11:35.046598Z",
     "start_time": "2022-07-07T19:11:35.046589Z"
    }
   },
   "outputs": [],
   "source": [
    "X_train, X_test, y_train, y_test = train_test_split(X, y, test_size=0.30)"
   ]
  },
  {
   "cell_type": "markdown",
   "id": "d4e1c833",
   "metadata": {},
   "source": [
    "## Feature selection"
   ]
  },
  {
   "cell_type": "code",
   "execution_count": null,
   "id": "0bbd7c20",
   "metadata": {
    "ExecuteTime": {
     "end_time": "2022-07-07T19:11:35.047543Z",
     "start_time": "2022-07-07T19:11:35.047534Z"
    }
   },
   "outputs": [],
   "source": [
    "X_feature_sel = pd.DataFrame(preprocessor.fit_transform(X_train))"
   ]
  },
  {
   "cell_type": "code",
   "execution_count": null,
   "id": "33246898",
   "metadata": {
    "ExecuteTime": {
     "end_time": "2022-07-07T19:11:35.048731Z",
     "start_time": "2022-07-07T19:11:35.048723Z"
    },
    "scrolled": true
   },
   "outputs": [],
   "source": [
    "#Permet d'obtenir l'importance des features au regard des autres\n",
    "#pour chaque modèle on l'entraine 10 fois en mélangeant les valeurs d'une colonne gardant toutes les autres identiques\n",
    " \n",
    "from sklearn.inspection import permutation_importance\n",
    "from sklearn.linear_model import LogisticRegression\n",
    "\n",
    "log_model = LogisticRegression().fit(X_feature_sel, y_train) # Fit model\n",
    "# on peut mettre un keyworld arg max_iter=1000, par défaut le modèle a une limite (100, à vérifier)\n",
    "\n",
    "permutation_score = permutation_importance(log_model, X_feature_sel, y_train, n_repeats=10) # Perform Permutation\n",
    "\n",
    "importance_df = pd.DataFrame(np.vstack((X_feature_sel.columns,\n",
    "                                        permutation_score.importances_mean)).T) # Unstack results\n",
    "importance_df.columns=['feature','score decrease']\n",
    "\n",
    "importance_df.sort_values(by=\"score decrease\", ascending = False) # Order by importance"
   ]
  },
  {
   "cell_type": "markdown",
   "id": "6554bcc4",
   "metadata": {},
   "source": [
    "**La méthode de feature permutation ne donne rien de pertinent**"
   ]
  },
  {
   "cell_type": "markdown",
   "id": "44948e9c",
   "metadata": {},
   "source": [
    "## Model"
   ]
  },
  {
   "cell_type": "code",
   "execution_count": null,
   "id": "8f662460",
   "metadata": {},
   "outputs": [],
   "source": []
  },
  {
   "cell_type": "code",
   "execution_count": null,
   "id": "e13392de",
   "metadata": {
    "ExecuteTime": {
     "end_time": "2022-07-07T19:11:35.049521Z",
     "start_time": "2022-07-07T19:11:35.049513Z"
    }
   },
   "outputs": [],
   "source": [
    "class CustomSelectPercentile(SelectPercentile):\n",
    "    def fit(self, *args, **kwargs):\n",
    "        return super().fit(*args, **kwargs) \n",
    "    \n",
    "    def transform(self,*args, **kwargs):\n",
    "        return pd.DataFrame(super().transform(*args, **kwargs), columns=self.get_feature_names_out())\n",
    "\n",
    "    def fit_transform(self,*args, **kwargs):\n",
    "        return pd.DataFrame(super().fit_transform(*args, **kwargs), columns=self.get_feature_names_out())"
   ]
  },
  {
   "cell_type": "code",
   "execution_count": null,
   "id": "3be30161",
   "metadata": {
    "ExecuteTime": {
     "end_time": "2022-07-07T19:11:35.050292Z",
     "start_time": "2022-07-07T19:11:35.050284Z"
    }
   },
   "outputs": [],
   "source": [
    "pipe = make_pipeline(preprocessor,CustomSelectPercentile(percentile=75), RandomForestClassifier())"
   ]
  },
  {
   "cell_type": "code",
   "execution_count": null,
   "id": "ba9812cf",
   "metadata": {
    "ExecuteTime": {
     "end_time": "2022-07-07T19:11:35.051011Z",
     "start_time": "2022-07-07T19:11:35.051002Z"
    }
   },
   "outputs": [],
   "source": [
    "pipe"
   ]
  },
  {
   "cell_type": "code",
   "execution_count": null,
   "id": "ab00a04c",
   "metadata": {
    "ExecuteTime": {
     "end_time": "2022-07-07T19:11:35.051756Z",
     "start_time": "2022-07-07T19:11:35.051748Z"
    }
   },
   "outputs": [],
   "source": [
    "smote_pipe = Pipeline([('prep',preprocessor),\\\n",
    "                       ('smote',SMOTE()),\\\n",
    "                       ('feat_selec',CustomSelectPercentile(percentile=50)),\\\n",
    "                       ('RF',RandomForestClassifier())])"
   ]
  },
  {
   "cell_type": "code",
   "execution_count": null,
   "id": "2b5545c2",
   "metadata": {
    "ExecuteTime": {
     "end_time": "2022-07-07T19:11:35.052518Z",
     "start_time": "2022-07-07T19:11:35.052510Z"
    }
   },
   "outputs": [],
   "source": [
    "smote_pipe.get_params()"
   ]
  },
  {
   "cell_type": "code",
   "execution_count": null,
   "id": "a240fc1a",
   "metadata": {
    "ExecuteTime": {
     "end_time": "2022-07-07T19:11:35.053293Z",
     "start_time": "2022-07-07T19:11:35.053284Z"
    }
   },
   "outputs": [],
   "source": [
    "grid_search = GridSearchCV(\n",
    "    smote_pipe, \n",
    "    param_grid={\n",
    "        'RF__n_estimators': [400,450],\n",
    "        'RF__max_depth': [40],\n",
    "        'RF__min_samples_split' : [15],\n",
    "        'RF__max_samples' : [0.8],\n",
    "        'RF__n_jobs' : [-1]\n",
    "    },\n",
    "    cv=5,\n",
    "    scoring=\"accuracy\",\n",
    "verbose=1)"
   ]
  },
  {
   "cell_type": "code",
   "execution_count": null,
   "id": "8d1b54f7",
   "metadata": {
    "ExecuteTime": {
     "end_time": "2022-07-07T19:11:35.054082Z",
     "start_time": "2022-07-07T19:11:35.054074Z"
    }
   },
   "outputs": [],
   "source": [
    "grid_search.fit(X_train, y_train)\n",
    "grid_search.best_params_"
   ]
  },
  {
   "cell_type": "code",
   "execution_count": null,
   "id": "18740452",
   "metadata": {
    "ExecuteTime": {
     "end_time": "2022-07-07T19:11:35.054775Z",
     "start_time": "2022-07-07T19:11:35.054767Z"
    }
   },
   "outputs": [],
   "source": [
    "grid_search.best_score_"
   ]
  },
  {
   "cell_type": "code",
   "execution_count": null,
   "id": "0f07ff5d",
   "metadata": {
    "ExecuteTime": {
     "end_time": "2022-07-07T19:11:35.055927Z",
     "start_time": "2022-07-07T19:11:35.055919Z"
    }
   },
   "outputs": [],
   "source": [
    "best_search = grid_search.best_estimator_"
   ]
  },
  {
   "cell_type": "code",
   "execution_count": null,
   "id": "a8943826",
   "metadata": {
    "ExecuteTime": {
     "end_time": "2022-07-07T19:11:35.056756Z",
     "start_time": "2022-07-07T19:11:35.056747Z"
    }
   },
   "outputs": [],
   "source": [
    "#Pipeline de rééquilibrage du test set\n",
    "test_set_smote = Pipeline([('prep',preprocessor),\\\n",
    "                       ('smote',SMOTE())])"
   ]
  },
  {
   "cell_type": "code",
   "execution_count": null,
   "id": "6468ba0f",
   "metadata": {
    "ExecuteTime": {
     "end_time": "2022-07-07T19:11:35.057671Z",
     "start_time": "2022-07-07T19:11:35.057662Z"
    }
   },
   "outputs": [],
   "source": [
    "X_test, y_test = test_set_smote.fit_resample(X_test,y_test)"
   ]
  },
  {
   "cell_type": "code",
   "execution_count": null,
   "id": "295b1c5f",
   "metadata": {
    "ExecuteTime": {
     "end_time": "2022-07-07T19:11:35.058518Z",
     "start_time": "2022-07-07T19:11:35.058509Z"
    }
   },
   "outputs": [],
   "source": [
    "#Predicting with oversample X_test\n",
    "y_pred = best_search.predict(X_test)"
   ]
  },
  {
   "cell_type": "code",
   "execution_count": null,
   "id": "44b6070b",
   "metadata": {
    "ExecuteTime": {
     "end_time": "2022-07-07T19:11:35.059690Z",
     "start_time": "2022-07-07T19:11:35.059679Z"
    }
   },
   "outputs": [],
   "source": [
    "target_names = ['classe 0','Classe 1']\n",
    "print(classification_report(y_test,y_pred,target_names=target_names))"
   ]
  },
  {
   "cell_type": "code",
   "execution_count": null,
   "id": "03e97664",
   "metadata": {
    "ExecuteTime": {
     "end_time": "2022-07-07T19:11:35.060502Z",
     "start_time": "2022-07-07T19:11:35.060494Z"
    }
   },
   "outputs": [],
   "source": [
    "ran_for_C = RandomForestClassifier(max_depth=40,max_samples= 0.8,min_samples_split= 15, n_estimators=450)\n",
    "log_reg_C = LogisticRegression(max_iter = 1000,n_jobs=-1, C= 1.5,solver= 'newton-cg')\n",
    "svc_C = SVC(C= 10,gamma= 1,kernel= 'rbf')\n",
    "knn_C = KNeighborsClassifier(n_jobs= -1,n_neighbors= 30,p= 1,weights= 'distance')\n",
    "ada_b_C = AdaBoostClassifier(algorithm= 'SAMME.R',learning_rate= 1,n_estimators= 50)\n",
    "ridge_C = RidgeClassifier(alpha= 2,max_iter= 1000,solver= 'lsqr')\n",
    "\n",
    "ensemble = StackingClassifier(\n",
    "    estimators = [(\"rf\", ran_for_C),\n",
    "                  (\"knn\", knn_C),\n",
    "                  ('log',log_reg_C),\n",
    "                  ('svc',svc_C),\n",
    "                  ('ada',ada_b_C),\n",
    "                  ('ridge',ridge_C)\n",
    "                 ],\n",
    "    final_estimator = GradientBoostingClassifier())\n",
    "stacked_pipe = Pipeline([('prep',preprocessor),\\\n",
    "                       ('smote',SMOTE()),\\\n",
    "                       ('feat_selec',CustomSelectPercentile(percentile=50)),\\\n",
    "                       ('ensemble_stack',ensemble)])"
   ]
  },
  {
   "cell_type": "code",
   "execution_count": null,
   "id": "00e3448a",
   "metadata": {
    "ExecuteTime": {
     "end_time": "2022-07-07T19:11:35.061925Z",
     "start_time": "2022-07-07T19:11:35.061916Z"
    }
   },
   "outputs": [],
   "source": [
    "cv_results_stacked = cross_validate(stacked_pipe, X_train, y_train, scoring='accuracy', cv=5)\n"
   ]
  },
  {
   "cell_type": "code",
   "execution_count": null,
   "id": "75563bd6",
   "metadata": {
    "ExecuteTime": {
     "end_time": "2022-07-07T19:11:35.062876Z",
     "start_time": "2022-07-07T19:11:35.062868Z"
    }
   },
   "outputs": [],
   "source": [
    "score_stacked = cv_results_stacked['test_score'].mean()\n",
    "score_stacked"
   ]
  },
  {
   "cell_type": "code",
   "execution_count": null,
   "id": "bc193dd8",
   "metadata": {
    "ExecuteTime": {
     "end_time": "2022-07-07T19:11:35.063921Z",
     "start_time": "2022-07-07T19:11:35.063912Z"
    }
   },
   "outputs": [],
   "source": [
    "stacked_pipe.fit(X_train, y_train)"
   ]
  },
  {
   "cell_type": "code",
   "execution_count": null,
   "id": "99f11917",
   "metadata": {
    "ExecuteTime": {
     "end_time": "2022-07-07T19:11:35.064946Z",
     "start_time": "2022-07-07T19:11:35.064937Z"
    }
   },
   "outputs": [],
   "source": [
    "y_pred_stacked = stacked_pipe.predict(X_test)"
   ]
  },
  {
   "cell_type": "code",
   "execution_count": null,
   "id": "83c2df35",
   "metadata": {
    "ExecuteTime": {
     "end_time": "2022-07-07T19:11:35.065532Z",
     "start_time": "2022-07-07T19:11:35.065523Z"
    }
   },
   "outputs": [],
   "source": [
    "print(classification_report(y_test,y_pred_stacked,target_names=target_names))"
   ]
  },
  {
   "cell_type": "code",
   "execution_count": null,
   "id": "1ae14f70",
   "metadata": {
    "ExecuteTime": {
     "end_time": "2022-07-07T19:11:35.066706Z",
     "start_time": "2022-07-07T19:11:35.066697Z"
    }
   },
   "outputs": [],
   "source": [
    "#Confusion matrix\n",
    "from sklearn.metrics import confusion_matrix, ConfusionMatrixDisplay\n",
    "label = ['No churn risk', 'Churn risk'] \n",
    "cm = confusion_matrix(y_test, y_pred_stacked)\n",
    "disp = ConfusionMatrixDisplay(confusion_matrix=cm,display_labels=label)\n",
    "disp.plot();"
   ]
  },
  {
   "cell_type": "code",
   "execution_count": null,
   "id": "0957c295",
   "metadata": {
    "ExecuteTime": {
     "end_time": "2022-07-07T19:11:35.068001Z",
     "start_time": "2022-07-07T19:11:35.067992Z"
    }
   },
   "outputs": [],
   "source": [
    "stacked_pipe.named_steps.keys()"
   ]
  },
  {
   "cell_type": "code",
   "execution_count": null,
   "id": "0e33ef35",
   "metadata": {
    "ExecuteTime": {
     "end_time": "2022-07-07T19:11:35.069191Z",
     "start_time": "2022-07-07T19:11:35.069183Z"
    }
   },
   "outputs": [],
   "source": [
    "#Analyse de la variance des colonnes gardées\n",
    "pd.DataFrame(stacked_pipe.named_steps[\"customselectpercentile\"].scores_,index=stacked_pipe.named_steps[\"customselectpercentile\"].feature_names_in_).sort_values(by=0,ascending=False)[:33]"
   ]
  },
  {
   "cell_type": "markdown",
   "id": "8d484df1",
   "metadata": {},
   "source": [
    "**Quels sont les colonnes qui ont été gardée dans le modèle de stacking**"
   ]
  },
  {
   "cell_type": "code",
   "execution_count": null,
   "id": "c9a5c32c",
   "metadata": {
    "ExecuteTime": {
     "end_time": "2022-07-07T19:11:35.069936Z",
     "start_time": "2022-07-07T19:11:35.069927Z"
    },
    "scrolled": true
   },
   "outputs": [],
   "source": [
    "columns_selected_pipe = make_pipeline(preprocessor,CustomSelectPercentile(percentile=50))\n",
    "columns_selected = columns_selected_pipe.fit_transform(X_train, y_train).columns"
   ]
  },
  {
   "cell_type": "code",
   "execution_count": null,
   "id": "a87d1dee",
   "metadata": {
    "ExecuteTime": {
     "end_time": "2022-07-07T19:11:35.070720Z",
     "start_time": "2022-07-07T19:11:35.070712Z"
    }
   },
   "outputs": [],
   "source": [
    "columns_selected = [f[8:] for f in columns_selected]"
   ]
  },
  {
   "cell_type": "code",
   "execution_count": null,
   "id": "608e0dea",
   "metadata": {
    "ExecuteTime": {
     "end_time": "2022-07-07T19:11:35.071643Z",
     "start_time": "2022-07-07T19:11:35.071634Z"
    }
   },
   "outputs": [],
   "source": [
    "#33 colonnes gardées\n",
    "columns_selected"
   ]
  },
  {
   "cell_type": "markdown",
   "id": "0ea12a08",
   "metadata": {},
   "source": [
    "## Modèle uniquement sur les parents"
   ]
  },
  {
   "cell_type": "code",
   "execution_count": null,
   "id": "28952f2c",
   "metadata": {
    "ExecuteTime": {
     "end_time": "2022-07-07T19:11:35.072462Z",
     "start_time": "2022-07-07T19:11:35.072454Z"
    }
   },
   "outputs": [],
   "source": [
    "parent_df = sm_df[sm_df['Type']==\"Parent\"]"
   ]
  },
  {
   "cell_type": "code",
   "execution_count": null,
   "id": "062c2ad0",
   "metadata": {
    "ExecuteTime": {
     "end_time": "2022-07-07T19:11:35.073438Z",
     "start_time": "2022-07-07T19:11:35.073429Z"
    }
   },
   "outputs": [],
   "source": [
    "X_parent, y_parent = downsample_churn_risk(parent_df)"
   ]
  },
  {
   "cell_type": "code",
   "execution_count": null,
   "id": "43a0b573",
   "metadata": {
    "ExecuteTime": {
     "end_time": "2022-07-07T19:11:35.074129Z",
     "start_time": "2022-07-07T19:11:35.074121Z"
    }
   },
   "outputs": [],
   "source": [
    "X_train_parent, X_test_parent, y_train_parent, y_test_parent = train_test_split(X_parent, y_parent, test_size=0.30)"
   ]
  },
  {
   "cell_type": "code",
   "execution_count": null,
   "id": "8956f6b3",
   "metadata": {
    "ExecuteTime": {
     "end_time": "2022-07-07T19:11:35.075376Z",
     "start_time": "2022-07-07T19:11:35.075365Z"
    }
   },
   "outputs": [],
   "source": [
    "stacked_pipe.fit(X_train_parent, y_train_parent)"
   ]
  },
  {
   "cell_type": "code",
   "execution_count": null,
   "id": "4f4e3e8f",
   "metadata": {
    "ExecuteTime": {
     "end_time": "2022-07-07T19:11:35.076151Z",
     "start_time": "2022-07-07T19:11:35.076142Z"
    }
   },
   "outputs": [],
   "source": [
    "y_pred_parent_stacked = stacked_pipe.predict(X_test_parent)"
   ]
  },
  {
   "cell_type": "code",
   "execution_count": null,
   "id": "4b314a76",
   "metadata": {
    "ExecuteTime": {
     "end_time": "2022-07-07T19:11:35.076919Z",
     "start_time": "2022-07-07T19:11:35.076910Z"
    }
   },
   "outputs": [],
   "source": [
    "print(classification_report(y_test_parent,y_pred_parent_stacked,target_names=target_names))"
   ]
  },
  {
   "cell_type": "markdown",
   "id": "138a1000",
   "metadata": {},
   "source": [
    "## Upload dans BQ"
   ]
  },
  {
   "cell_type": "markdown",
   "id": "99c7f4d3",
   "metadata": {},
   "source": [
    "**Upload de la table en cours dans BQ**"
   ]
  },
  {
   "cell_type": "code",
   "execution_count": null,
   "id": "b3e6f767",
   "metadata": {
    "ExecuteTime": {
     "end_time": "2022-07-07T19:11:35.077761Z",
     "start_time": "2022-07-07T19:11:35.077749Z"
    }
   },
   "outputs": [],
   "source": [
    "###Localisation du projet name et table_id sur gcp\n",
    "#project=\"marbotic\"\n",
    "#table_id = \"marbotic_dataset.session_augmented\"\n",
    "#client = bigquery.Client(project,credentials)\n",
    "#\n",
    "#job = client.load_table_from_dataframe(sm_df, table_id) \n",
    "#\n",
    "#job.result()  # Wait for the job to complete.\n",
    "#table = client.get_table(table_id)  # Make an API request.\n",
    "#print(\"Loaded {} rows and {} columns to {}\".format(table.num_rows, len(table.schema), table_id))"
   ]
  },
  {
   "cell_type": "code",
   "execution_count": null,
   "id": "12f90ea7",
   "metadata": {
    "ExecuteTime": {
     "end_time": "2022-07-07T19:11:35.079196Z",
     "start_time": "2022-07-07T19:11:35.079186Z"
    }
   },
   "outputs": [],
   "source": [
    "9000/(50)"
   ]
  },
  {
   "cell_type": "code",
   "execution_count": null,
   "id": "20c70616",
   "metadata": {
    "ExecuteTime": {
     "end_time": "2022-07-07T19:11:35.079929Z",
     "start_time": "2022-07-07T19:11:35.079921Z"
    }
   },
   "outputs": [],
   "source": [
    "180/2"
   ]
  },
  {
   "cell_type": "code",
   "execution_count": null,
   "id": "caed0a19",
   "metadata": {},
   "outputs": [],
   "source": []
  }
 ],
 "metadata": {
  "kernelspec": {
   "display_name": "Python 3 (ipykernel)",
   "language": "python",
   "name": "python3"
  },
  "language_info": {
   "codemirror_mode": {
    "name": "ipython",
    "version": 3
   },
   "file_extension": ".py",
   "mimetype": "text/x-python",
   "name": "python",
   "nbconvert_exporter": "python",
   "pygments_lexer": "ipython3",
   "version": "3.8.13"
  },
  "toc": {
   "base_numbering": 1,
   "nav_menu": {},
   "number_sections": true,
   "sideBar": true,
   "skip_h1_title": false,
   "title_cell": "Table of Contents",
   "title_sidebar": "Contents",
   "toc_cell": false,
   "toc_position": {},
   "toc_section_display": true,
   "toc_window_display": false
  }
 },
 "nbformat": 4,
 "nbformat_minor": 5
}
