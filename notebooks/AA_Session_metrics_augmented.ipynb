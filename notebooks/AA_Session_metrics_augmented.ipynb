{
 "cells": [
  {
   "cell_type": "code",
   "execution_count": 1,
   "id": "3369e2aa",
   "metadata": {
    "ExecuteTime": {
     "end_time": "2022-07-07T15:29:15.205216Z",
     "start_time": "2022-07-07T15:29:14.068819Z"
    }
   },
   "outputs": [],
   "source": [
    "import pandas as pd\n",
    "import numpy as np\n",
    "\n",
    "import seaborn as sns\n",
    "import matplotlib.pyplot as plt\n",
    "\n",
    "#import json\n",
    "from google.cloud import bigquery\n",
    "from datetime import datetime,timedelta\n",
    "\n",
    "from sklearn.impute import SimpleImputer\n",
    "from sklearn.preprocessing import OneHotEncoder\n",
    "from sklearn.preprocessing import MinMaxScaler\n",
    "from sklearn.base import TransformerMixin, BaseEstimator\n",
    "\n",
    "from sklearn.compose import make_column_transformer\n",
    "from sklearn.compose import ColumnTransformer\n",
    "from sklearn.feature_selection import SelectPercentile\n",
    "\n",
    "\n",
    "from sklearn.model_selection import train_test_split\n",
    "\n",
    "from sklearn.ensemble import RandomForestClassifier\n",
    "from sklearn.linear_model import LogisticRegression\n",
    "from sklearn.svm import SVC\n",
    "from sklearn.neighbors import KNeighborsClassifier\n",
    "from sklearn.ensemble import AdaBoostClassifier\n",
    "from sklearn.ensemble import StackingClassifier\n",
    "from sklearn.linear_model import RidgeClassifier\n",
    "from sklearn.ensemble import GradientBoostingClassifier\n",
    "\n",
    "\n",
    "from sklearn.pipeline import make_pipeline\n",
    "from sklearn.model_selection import GridSearchCV,cross_validate\n",
    "\n",
    "from sklearn.metrics import classification_report\n"
   ]
  },
  {
   "cell_type": "code",
   "execution_count": 2,
   "id": "2f549361",
   "metadata": {
    "ExecuteTime": {
     "end_time": "2022-07-07T15:29:15.208704Z",
     "start_time": "2022-07-07T15:29:15.206848Z"
    }
   },
   "outputs": [],
   "source": [
    "#Localisation du projet name et table_id sur gcp\n",
    "project=\"marbotic\""
   ]
  },
  {
   "cell_type": "code",
   "execution_count": 3,
   "id": "13f67d8a",
   "metadata": {
    "ExecuteTime": {
     "end_time": "2022-07-07T15:29:15.212940Z",
     "start_time": "2022-07-07T15:29:15.209849Z"
    }
   },
   "outputs": [],
   "source": [
    "#intégration des credentials \n",
    "from google.oauth2 import service_account\n",
    "\n",
    "key_path = \"/Users/antonin/code/AntoninAnq/gcp/marbotic-7d02fac30bd8.json\"\n",
    "\n",
    "credentials = service_account.Credentials.from_service_account_file(\n",
    "    key_path, scopes=[\"https://www.googleapis.com/auth/cloud-platform\"],\n",
    ")"
   ]
  },
  {
   "cell_type": "code",
   "execution_count": 4,
   "id": "276f8ece",
   "metadata": {
    "ExecuteTime": {
     "end_time": "2022-07-07T15:29:15.217499Z",
     "start_time": "2022-07-07T15:29:15.214751Z"
    }
   },
   "outputs": [],
   "source": [
    "def extract(project,credentials):\n",
    "    # Construct a BigQuery client object.\n",
    "    client = bigquery.Client(project=project, credentials=credentials)\n",
    "\n",
    "    query = \"\"\"\n",
    "    SELECT\n",
    "    COUNT(DISTINCT ep.Activity_Name) as unique_activity, \n",
    "    sm.session_id,sum(Time_Spent) as Time_Spent,\n",
    "    any_value(Action_Element_Name) as Action_Element_Name,\n",
    "    any_value(Profile_Age_days) as Profile_Age_days,\n",
    "    (SAFE_DIVIDE(SUM(event_type_Activity_Good_Answer) , (SUM(event_type_Activity_Good_Answer)\n",
    "    + SUM(event_type_Activity_Wrong_Answer))))*100 as good_answer_ratio\n",
    "    FROM `marbotic.marbotic_dataset.event_properties` as ep\n",
    "    JOIN `marbotic.marbotic_dataset.sessions_metrics` as sm on ep.session_id = sm.session_id\n",
    "    GROUP BY sm.session_id\n",
    "    ORDER BY unique_activity DESC\n",
    "    \"\"\"\n",
    "\n",
    "    query_job = client.query(query)  # Make an API request.\n",
    "    results=query_job.result().to_dataframe() # Waits for job to complete.\n",
    "\n",
    "    return pd.DataFrame(results)"
   ]
  },
  {
   "cell_type": "code",
   "execution_count": 5,
   "id": "1bd192ff",
   "metadata": {
    "ExecuteTime": {
     "end_time": "2022-07-07T15:29:18.577332Z",
     "start_time": "2022-07-07T15:29:15.218931Z"
    },
    "scrolled": true
   },
   "outputs": [
    {
     "data": {
      "text/html": [
       "<div>\n",
       "<style scoped>\n",
       "    .dataframe tbody tr th:only-of-type {\n",
       "        vertical-align: middle;\n",
       "    }\n",
       "\n",
       "    .dataframe tbody tr th {\n",
       "        vertical-align: top;\n",
       "    }\n",
       "\n",
       "    .dataframe thead th {\n",
       "        text-align: right;\n",
       "    }\n",
       "</style>\n",
       "<table border=\"1\" class=\"dataframe\">\n",
       "  <thead>\n",
       "    <tr style=\"text-align: right;\">\n",
       "      <th></th>\n",
       "      <th>unique_activity</th>\n",
       "      <th>session_id</th>\n",
       "      <th>Time_Spent</th>\n",
       "      <th>Action_Element_Name</th>\n",
       "      <th>Profile_Age_days</th>\n",
       "      <th>good_answer_ratio</th>\n",
       "    </tr>\n",
       "  </thead>\n",
       "  <tbody>\n",
       "    <tr>\n",
       "      <th>0</th>\n",
       "      <td>42</td>\n",
       "      <td>1.648054e+12</td>\n",
       "      <td>19329.0</td>\n",
       "      <td>Back</td>\n",
       "      <td>1899.0</td>\n",
       "      <td>100.0</td>\n",
       "    </tr>\n",
       "    <tr>\n",
       "      <th>1</th>\n",
       "      <td>41</td>\n",
       "      <td>1.646647e+12</td>\n",
       "      <td>21882.0</td>\n",
       "      <td>Back</td>\n",
       "      <td>8434.0</td>\n",
       "      <td>NaN</td>\n",
       "    </tr>\n",
       "    <tr>\n",
       "      <th>2</th>\n",
       "      <td>40</td>\n",
       "      <td>1.646297e+12</td>\n",
       "      <td>54083.0</td>\n",
       "      <td>Back</td>\n",
       "      <td>1968.0</td>\n",
       "      <td>100.0</td>\n",
       "    </tr>\n",
       "    <tr>\n",
       "      <th>3</th>\n",
       "      <td>39</td>\n",
       "      <td>1.647908e+12</td>\n",
       "      <td>9693.0</td>\n",
       "      <td>Back</td>\n",
       "      <td>2376.0</td>\n",
       "      <td>100.0</td>\n",
       "    </tr>\n",
       "    <tr>\n",
       "      <th>4</th>\n",
       "      <td>38</td>\n",
       "      <td>1.646244e+12</td>\n",
       "      <td>16048.0</td>\n",
       "      <td>Back</td>\n",
       "      <td>2227.0</td>\n",
       "      <td>100.0</td>\n",
       "    </tr>\n",
       "    <tr>\n",
       "      <th>...</th>\n",
       "      <td>...</td>\n",
       "      <td>...</td>\n",
       "      <td>...</td>\n",
       "      <td>...</td>\n",
       "      <td>...</td>\n",
       "      <td>...</td>\n",
       "    </tr>\n",
       "    <tr>\n",
       "      <th>18811</th>\n",
       "      <td>0</td>\n",
       "      <td>1.650445e+12</td>\n",
       "      <td>414.0</td>\n",
       "      <td>None</td>\n",
       "      <td>NaN</td>\n",
       "      <td>NaN</td>\n",
       "    </tr>\n",
       "    <tr>\n",
       "      <th>18812</th>\n",
       "      <td>0</td>\n",
       "      <td>1.650582e+12</td>\n",
       "      <td>371.0</td>\n",
       "      <td>None</td>\n",
       "      <td>NaN</td>\n",
       "      <td>NaN</td>\n",
       "    </tr>\n",
       "    <tr>\n",
       "      <th>18813</th>\n",
       "      <td>0</td>\n",
       "      <td>1.650516e+12</td>\n",
       "      <td>5286.0</td>\n",
       "      <td>None</td>\n",
       "      <td>NaN</td>\n",
       "      <td>NaN</td>\n",
       "    </tr>\n",
       "    <tr>\n",
       "      <th>18814</th>\n",
       "      <td>0</td>\n",
       "      <td>1.650721e+12</td>\n",
       "      <td>2110.0</td>\n",
       "      <td>None</td>\n",
       "      <td>NaN</td>\n",
       "      <td>NaN</td>\n",
       "    </tr>\n",
       "    <tr>\n",
       "      <th>18815</th>\n",
       "      <td>0</td>\n",
       "      <td>1.650331e+12</td>\n",
       "      <td>14643.0</td>\n",
       "      <td>None</td>\n",
       "      <td>1596.0</td>\n",
       "      <td>NaN</td>\n",
       "    </tr>\n",
       "  </tbody>\n",
       "</table>\n",
       "<p>18816 rows × 6 columns</p>\n",
       "</div>"
      ],
      "text/plain": [
       "       unique_activity    session_id  Time_Spent Action_Element_Name  \\\n",
       "0                   42  1.648054e+12     19329.0                Back   \n",
       "1                   41  1.646647e+12     21882.0                Back   \n",
       "2                   40  1.646297e+12     54083.0                Back   \n",
       "3                   39  1.647908e+12      9693.0                Back   \n",
       "4                   38  1.646244e+12     16048.0                Back   \n",
       "...                ...           ...         ...                 ...   \n",
       "18811                0  1.650445e+12       414.0                None   \n",
       "18812                0  1.650582e+12       371.0                None   \n",
       "18813                0  1.650516e+12      5286.0                None   \n",
       "18814                0  1.650721e+12      2110.0                None   \n",
       "18815                0  1.650331e+12     14643.0                None   \n",
       "\n",
       "       Profile_Age_days  good_answer_ratio  \n",
       "0                1899.0              100.0  \n",
       "1                8434.0                NaN  \n",
       "2                1968.0              100.0  \n",
       "3                2376.0              100.0  \n",
       "4                2227.0              100.0  \n",
       "...                 ...                ...  \n",
       "18811               NaN                NaN  \n",
       "18812               NaN                NaN  \n",
       "18813               NaN                NaN  \n",
       "18814               NaN                NaN  \n",
       "18815            1596.0                NaN  \n",
       "\n",
       "[18816 rows x 6 columns]"
      ]
     },
     "execution_count": 5,
     "metadata": {},
     "output_type": "execute_result"
    }
   ],
   "source": [
    "#On récupère d'event le nombre d'activity unique par session, le ratio de bonne réponse par sessions et le time spent par sessions\n",
    "first_data = extract(project,credentials)\n",
    "first_data"
   ]
  },
  {
   "cell_type": "code",
   "execution_count": 6,
   "id": "23159dd8",
   "metadata": {
    "ExecuteTime": {
     "end_time": "2022-07-07T15:29:18.580969Z",
     "start_time": "2022-07-07T15:29:18.578455Z"
    }
   },
   "outputs": [],
   "source": [
    "def extract_session_metrics(project,credentials):\n",
    "    # Construct a BigQuery client object.\n",
    "    client = bigquery.Client(project=project, credentials=credentials)\n",
    "\n",
    "    query = \"\"\"\n",
    "    SELECT *\n",
    "    FROM `marbotic.marbotic_dataset.sessions_metrics`\n",
    "    \"\"\"\n",
    "\n",
    "    query_job = client.query(query)  # Make an API request.\n",
    "    results=query_job.result().to_dataframe() # Waits for job to complete.\n",
    "\n",
    "    return pd.DataFrame(results)"
   ]
  },
  {
   "cell_type": "code",
   "execution_count": 7,
   "id": "e974abe6",
   "metadata": {
    "ExecuteTime": {
     "end_time": "2022-07-07T15:29:29.638127Z",
     "start_time": "2022-07-07T15:29:18.582067Z"
    }
   },
   "outputs": [
    {
     "data": {
      "text/html": [
       "<div>\n",
       "<style scoped>\n",
       "    .dataframe tbody tr th:only-of-type {\n",
       "        vertical-align: middle;\n",
       "    }\n",
       "\n",
       "    .dataframe tbody tr th {\n",
       "        vertical-align: top;\n",
       "    }\n",
       "\n",
       "    .dataframe thead th {\n",
       "        text-align: right;\n",
       "    }\n",
       "</style>\n",
       "<table border=\"1\" class=\"dataframe\">\n",
       "  <thead>\n",
       "    <tr style=\"text-align: right;\">\n",
       "      <th></th>\n",
       "      <th>session_id</th>\n",
       "      <th>city</th>\n",
       "      <th>language</th>\n",
       "      <th>os_version</th>\n",
       "      <th>region</th>\n",
       "      <th>country</th>\n",
       "      <th>device_model</th>\n",
       "      <th>start_version</th>\n",
       "      <th>session_end</th>\n",
       "      <th>id</th>\n",
       "      <th>...</th>\n",
       "      <th>event_type_Profile_Update</th>\n",
       "      <th>event_type_Scaffolding_Reset</th>\n",
       "      <th>event_type_Scaffolding_Scaffolding</th>\n",
       "      <th>event_type_Scene_Enter</th>\n",
       "      <th>event_type_Scene_Leave</th>\n",
       "      <th>event_type_Toast_Appear</th>\n",
       "      <th>event_type_Toast_Disappear</th>\n",
       "      <th>session_start</th>\n",
       "      <th>game_events</th>\n",
       "      <th>setup_events</th>\n",
       "    </tr>\n",
       "  </thead>\n",
       "  <tbody>\n",
       "    <tr>\n",
       "      <th>0</th>\n",
       "      <td>1.647421e+12</td>\n",
       "      <td>Certines</td>\n",
       "      <td>French</td>\n",
       "      <td>15.3.1</td>\n",
       "      <td>Ain</td>\n",
       "      <td>France</td>\n",
       "      <td>iPad11,6</td>\n",
       "      <td>1.0.1</td>\n",
       "      <td>2022-03-16 08:58:14.214000+00:00</td>\n",
       "      <td>6</td>\n",
       "      <td>...</td>\n",
       "      <td>0.0</td>\n",
       "      <td>0.0</td>\n",
       "      <td>0.0</td>\n",
       "      <td>5.0</td>\n",
       "      <td>1.0</td>\n",
       "      <td>0.0</td>\n",
       "      <td>0.0</td>\n",
       "      <td>2022-03-16 08:56:40.722000+00:00</td>\n",
       "      <td>6.0</td>\n",
       "      <td>0.0</td>\n",
       "    </tr>\n",
       "    <tr>\n",
       "      <th>1</th>\n",
       "      <td>1.647421e+12</td>\n",
       "      <td>Certines</td>\n",
       "      <td>French</td>\n",
       "      <td>15.1</td>\n",
       "      <td>Ain</td>\n",
       "      <td>France</td>\n",
       "      <td>iPad11,6</td>\n",
       "      <td>1.0.1</td>\n",
       "      <td>2022-03-16 08:58:45.380000+00:00</td>\n",
       "      <td>5</td>\n",
       "      <td>...</td>\n",
       "      <td>0.0</td>\n",
       "      <td>0.0</td>\n",
       "      <td>0.0</td>\n",
       "      <td>4.0</td>\n",
       "      <td>1.0</td>\n",
       "      <td>0.0</td>\n",
       "      <td>0.0</td>\n",
       "      <td>2022-03-16 08:58:28.269000+00:00</td>\n",
       "      <td>5.0</td>\n",
       "      <td>0.0</td>\n",
       "    </tr>\n",
       "    <tr>\n",
       "      <th>2</th>\n",
       "      <td>1.648134e+12</td>\n",
       "      <td>Certines</td>\n",
       "      <td>French</td>\n",
       "      <td>15.3.1</td>\n",
       "      <td>Ain</td>\n",
       "      <td>France</td>\n",
       "      <td>iPad11,6</td>\n",
       "      <td>1.0.1</td>\n",
       "      <td>2022-03-24 15:06:35.838000+00:00</td>\n",
       "      <td>5</td>\n",
       "      <td>...</td>\n",
       "      <td>0.0</td>\n",
       "      <td>0.0</td>\n",
       "      <td>0.0</td>\n",
       "      <td>1.0</td>\n",
       "      <td>1.0</td>\n",
       "      <td>0.0</td>\n",
       "      <td>0.0</td>\n",
       "      <td>2022-03-24 15:06:21.426000+00:00</td>\n",
       "      <td>5.0</td>\n",
       "      <td>0.0</td>\n",
       "    </tr>\n",
       "    <tr>\n",
       "      <th>3</th>\n",
       "      <td>1.647421e+12</td>\n",
       "      <td>Certines</td>\n",
       "      <td>French</td>\n",
       "      <td>15.1</td>\n",
       "      <td>Ain</td>\n",
       "      <td>France</td>\n",
       "      <td>iPad11,6</td>\n",
       "      <td>1.0.1</td>\n",
       "      <td>2022-03-16 08:57:59.845000+00:00</td>\n",
       "      <td>5</td>\n",
       "      <td>...</td>\n",
       "      <td>0.0</td>\n",
       "      <td>0.0</td>\n",
       "      <td>0.0</td>\n",
       "      <td>4.0</td>\n",
       "      <td>1.0</td>\n",
       "      <td>0.0</td>\n",
       "      <td>0.0</td>\n",
       "      <td>2022-03-16 08:57:48.381000+00:00</td>\n",
       "      <td>5.0</td>\n",
       "      <td>0.0</td>\n",
       "    </tr>\n",
       "    <tr>\n",
       "      <th>4</th>\n",
       "      <td>1.646641e+12</td>\n",
       "      <td>Izernore</td>\n",
       "      <td>French</td>\n",
       "      <td>15.2</td>\n",
       "      <td>Ain</td>\n",
       "      <td>France</td>\n",
       "      <td>iPad 6</td>\n",
       "      <td>1.0.3</td>\n",
       "      <td>2022-03-07 08:25:39.783000+00:00</td>\n",
       "      <td>6</td>\n",
       "      <td>...</td>\n",
       "      <td>0.0</td>\n",
       "      <td>0.0</td>\n",
       "      <td>0.0</td>\n",
       "      <td>1.0</td>\n",
       "      <td>1.0</td>\n",
       "      <td>0.0</td>\n",
       "      <td>0.0</td>\n",
       "      <td>2022-03-07 08:24:40.937000+00:00</td>\n",
       "      <td>6.0</td>\n",
       "      <td>0.0</td>\n",
       "    </tr>\n",
       "    <tr>\n",
       "      <th>...</th>\n",
       "      <td>...</td>\n",
       "      <td>...</td>\n",
       "      <td>...</td>\n",
       "      <td>...</td>\n",
       "      <td>...</td>\n",
       "      <td>...</td>\n",
       "      <td>...</td>\n",
       "      <td>...</td>\n",
       "      <td>...</td>\n",
       "      <td>...</td>\n",
       "      <td>...</td>\n",
       "      <td>...</td>\n",
       "      <td>...</td>\n",
       "      <td>...</td>\n",
       "      <td>...</td>\n",
       "      <td>...</td>\n",
       "      <td>...</td>\n",
       "      <td>...</td>\n",
       "      <td>...</td>\n",
       "      <td>...</td>\n",
       "      <td>...</td>\n",
       "    </tr>\n",
       "    <tr>\n",
       "      <th>18811</th>\n",
       "      <td>1.646491e+12</td>\n",
       "      <td>Notting Hill Gate</td>\n",
       "      <td>English</td>\n",
       "      <td>15.1</td>\n",
       "      <td>Royal Kensington and Chelsea</td>\n",
       "      <td>United Kingdom</td>\n",
       "      <td>iPad 6</td>\n",
       "      <td>1.0.7</td>\n",
       "      <td>2022-03-05 14:40:14.517000+00:00</td>\n",
       "      <td>5</td>\n",
       "      <td>...</td>\n",
       "      <td>0.0</td>\n",
       "      <td>0.0</td>\n",
       "      <td>0.0</td>\n",
       "      <td>4.0</td>\n",
       "      <td>1.0</td>\n",
       "      <td>0.0</td>\n",
       "      <td>0.0</td>\n",
       "      <td>2022-03-05 14:39:48.894000+00:00</td>\n",
       "      <td>5.0</td>\n",
       "      <td>0.0</td>\n",
       "    </tr>\n",
       "    <tr>\n",
       "      <th>18812</th>\n",
       "      <td>1.652027e+12</td>\n",
       "      <td>Hamburg</td>\n",
       "      <td>English</td>\n",
       "      <td>14.6</td>\n",
       "      <td>Free and Hanseatic City of Hamburg</td>\n",
       "      <td>Germany</td>\n",
       "      <td>iPad Pro</td>\n",
       "      <td>4.1.3</td>\n",
       "      <td>2022-05-08 16:39:55.181000+00:00</td>\n",
       "      <td>17</td>\n",
       "      <td>...</td>\n",
       "      <td>0.0</td>\n",
       "      <td>0.0</td>\n",
       "      <td>0.0</td>\n",
       "      <td>0.0</td>\n",
       "      <td>0.0</td>\n",
       "      <td>0.0</td>\n",
       "      <td>0.0</td>\n",
       "      <td>2022-05-08 16:32:21.326000+00:00</td>\n",
       "      <td>0.0</td>\n",
       "      <td>0.0</td>\n",
       "    </tr>\n",
       "    <tr>\n",
       "      <th>18813</th>\n",
       "      <td>1.652029e+12</td>\n",
       "      <td>Hamburg</td>\n",
       "      <td>English</td>\n",
       "      <td>14.6</td>\n",
       "      <td>Free and Hanseatic City of Hamburg</td>\n",
       "      <td>Germany</td>\n",
       "      <td>iPad Pro</td>\n",
       "      <td>4.1.3</td>\n",
       "      <td>2022-05-08 17:01:24.501000+00:00</td>\n",
       "      <td>20</td>\n",
       "      <td>...</td>\n",
       "      <td>0.0</td>\n",
       "      <td>0.0</td>\n",
       "      <td>0.0</td>\n",
       "      <td>0.0</td>\n",
       "      <td>0.0</td>\n",
       "      <td>0.0</td>\n",
       "      <td>0.0</td>\n",
       "      <td>2022-05-08 16:58:54.378000+00:00</td>\n",
       "      <td>0.0</td>\n",
       "      <td>0.0</td>\n",
       "    </tr>\n",
       "    <tr>\n",
       "      <th>18814</th>\n",
       "      <td>1.652377e+12</td>\n",
       "      <td>Hamburg</td>\n",
       "      <td>English</td>\n",
       "      <td>14.6</td>\n",
       "      <td>Free and Hanseatic City of Hamburg</td>\n",
       "      <td>Germany</td>\n",
       "      <td>iPad Pro</td>\n",
       "      <td>4.1.3</td>\n",
       "      <td>2022-05-12 18:05:34.559000+00:00</td>\n",
       "      <td>19</td>\n",
       "      <td>...</td>\n",
       "      <td>0.0</td>\n",
       "      <td>0.0</td>\n",
       "      <td>0.0</td>\n",
       "      <td>10.0</td>\n",
       "      <td>4.0</td>\n",
       "      <td>0.0</td>\n",
       "      <td>0.0</td>\n",
       "      <td>2022-05-12 17:38:47.898000+00:00</td>\n",
       "      <td>19.0</td>\n",
       "      <td>0.0</td>\n",
       "    </tr>\n",
       "    <tr>\n",
       "      <th>18815</th>\n",
       "      <td>1.651921e+12</td>\n",
       "      <td>Hamburg</td>\n",
       "      <td>German</td>\n",
       "      <td>15.4.1</td>\n",
       "      <td>Free and Hanseatic City of Hamburg</td>\n",
       "      <td>Germany</td>\n",
       "      <td>iPad8,11</td>\n",
       "      <td>4.2.0</td>\n",
       "      <td>2022-05-07 12:38:30.518000+00:00</td>\n",
       "      <td>582</td>\n",
       "      <td>...</td>\n",
       "      <td>0.0</td>\n",
       "      <td>0.0</td>\n",
       "      <td>0.0</td>\n",
       "      <td>0.0</td>\n",
       "      <td>0.0</td>\n",
       "      <td>0.0</td>\n",
       "      <td>0.0</td>\n",
       "      <td>2022-05-07 10:53:03.270000+00:00</td>\n",
       "      <td>0.0</td>\n",
       "      <td>0.0</td>\n",
       "    </tr>\n",
       "  </tbody>\n",
       "</table>\n",
       "<p>18816 rows × 73 columns</p>\n",
       "</div>"
      ],
      "text/plain": [
       "         session_id               city language os_version  \\\n",
       "0      1.647421e+12           Certines   French     15.3.1   \n",
       "1      1.647421e+12           Certines   French       15.1   \n",
       "2      1.648134e+12           Certines   French     15.3.1   \n",
       "3      1.647421e+12           Certines   French       15.1   \n",
       "4      1.646641e+12           Izernore   French       15.2   \n",
       "...             ...                ...      ...        ...   \n",
       "18811  1.646491e+12  Notting Hill Gate  English       15.1   \n",
       "18812  1.652027e+12            Hamburg  English       14.6   \n",
       "18813  1.652029e+12            Hamburg  English       14.6   \n",
       "18814  1.652377e+12            Hamburg  English       14.6   \n",
       "18815  1.651921e+12            Hamburg   German     15.4.1   \n",
       "\n",
       "                                   region         country device_model  \\\n",
       "0                                     Ain          France     iPad11,6   \n",
       "1                                     Ain          France     iPad11,6   \n",
       "2                                     Ain          France     iPad11,6   \n",
       "3                                     Ain          France     iPad11,6   \n",
       "4                                     Ain          France       iPad 6   \n",
       "...                                   ...             ...          ...   \n",
       "18811        Royal Kensington and Chelsea  United Kingdom       iPad 6   \n",
       "18812  Free and Hanseatic City of Hamburg         Germany     iPad Pro   \n",
       "18813  Free and Hanseatic City of Hamburg         Germany     iPad Pro   \n",
       "18814  Free and Hanseatic City of Hamburg         Germany     iPad Pro   \n",
       "18815  Free and Hanseatic City of Hamburg         Germany     iPad8,11   \n",
       "\n",
       "      start_version                      session_end   id  ...  \\\n",
       "0             1.0.1 2022-03-16 08:58:14.214000+00:00    6  ...   \n",
       "1             1.0.1 2022-03-16 08:58:45.380000+00:00    5  ...   \n",
       "2             1.0.1 2022-03-24 15:06:35.838000+00:00    5  ...   \n",
       "3             1.0.1 2022-03-16 08:57:59.845000+00:00    5  ...   \n",
       "4             1.0.3 2022-03-07 08:25:39.783000+00:00    6  ...   \n",
       "...             ...                              ...  ...  ...   \n",
       "18811         1.0.7 2022-03-05 14:40:14.517000+00:00    5  ...   \n",
       "18812         4.1.3 2022-05-08 16:39:55.181000+00:00   17  ...   \n",
       "18813         4.1.3 2022-05-08 17:01:24.501000+00:00   20  ...   \n",
       "18814         4.1.3 2022-05-12 18:05:34.559000+00:00   19  ...   \n",
       "18815         4.2.0 2022-05-07 12:38:30.518000+00:00  582  ...   \n",
       "\n",
       "       event_type_Profile_Update  event_type_Scaffolding_Reset  \\\n",
       "0                            0.0                           0.0   \n",
       "1                            0.0                           0.0   \n",
       "2                            0.0                           0.0   \n",
       "3                            0.0                           0.0   \n",
       "4                            0.0                           0.0   \n",
       "...                          ...                           ...   \n",
       "18811                        0.0                           0.0   \n",
       "18812                        0.0                           0.0   \n",
       "18813                        0.0                           0.0   \n",
       "18814                        0.0                           0.0   \n",
       "18815                        0.0                           0.0   \n",
       "\n",
       "       event_type_Scaffolding_Scaffolding  event_type_Scene_Enter  \\\n",
       "0                                     0.0                     5.0   \n",
       "1                                     0.0                     4.0   \n",
       "2                                     0.0                     1.0   \n",
       "3                                     0.0                     4.0   \n",
       "4                                     0.0                     1.0   \n",
       "...                                   ...                     ...   \n",
       "18811                                 0.0                     4.0   \n",
       "18812                                 0.0                     0.0   \n",
       "18813                                 0.0                     0.0   \n",
       "18814                                 0.0                    10.0   \n",
       "18815                                 0.0                     0.0   \n",
       "\n",
       "       event_type_Scene_Leave  event_type_Toast_Appear  \\\n",
       "0                         1.0                      0.0   \n",
       "1                         1.0                      0.0   \n",
       "2                         1.0                      0.0   \n",
       "3                         1.0                      0.0   \n",
       "4                         1.0                      0.0   \n",
       "...                       ...                      ...   \n",
       "18811                     1.0                      0.0   \n",
       "18812                     0.0                      0.0   \n",
       "18813                     0.0                      0.0   \n",
       "18814                     4.0                      0.0   \n",
       "18815                     0.0                      0.0   \n",
       "\n",
       "       event_type_Toast_Disappear                    session_start  \\\n",
       "0                             0.0 2022-03-16 08:56:40.722000+00:00   \n",
       "1                             0.0 2022-03-16 08:58:28.269000+00:00   \n",
       "2                             0.0 2022-03-24 15:06:21.426000+00:00   \n",
       "3                             0.0 2022-03-16 08:57:48.381000+00:00   \n",
       "4                             0.0 2022-03-07 08:24:40.937000+00:00   \n",
       "...                           ...                              ...   \n",
       "18811                         0.0 2022-03-05 14:39:48.894000+00:00   \n",
       "18812                         0.0 2022-05-08 16:32:21.326000+00:00   \n",
       "18813                         0.0 2022-05-08 16:58:54.378000+00:00   \n",
       "18814                         0.0 2022-05-12 17:38:47.898000+00:00   \n",
       "18815                         0.0 2022-05-07 10:53:03.270000+00:00   \n",
       "\n",
       "       game_events  setup_events  \n",
       "0              6.0           0.0  \n",
       "1              5.0           0.0  \n",
       "2              5.0           0.0  \n",
       "3              5.0           0.0  \n",
       "4              6.0           0.0  \n",
       "...            ...           ...  \n",
       "18811          5.0           0.0  \n",
       "18812          0.0           0.0  \n",
       "18813          0.0           0.0  \n",
       "18814         19.0           0.0  \n",
       "18815          0.0           0.0  \n",
       "\n",
       "[18816 rows x 73 columns]"
      ]
     },
     "execution_count": 7,
     "metadata": {},
     "output_type": "execute_result"
    }
   ],
   "source": [
    "session_metrics_df = extract_session_metrics(project,credentials)\n",
    "session_metrics_df"
   ]
  },
  {
   "cell_type": "code",
   "execution_count": 8,
   "id": "4c2f77e7",
   "metadata": {
    "ExecuteTime": {
     "end_time": "2022-07-07T15:29:29.653309Z",
     "start_time": "2022-07-07T15:29:29.639242Z"
    }
   },
   "outputs": [],
   "source": [
    "#on merge les première colonnes crées avec la table sessions metrics\n",
    "sm_df = session_metrics_df.merge(first_data, on='session_id')"
   ]
  },
  {
   "cell_type": "code",
   "execution_count": 9,
   "id": "e2245399",
   "metadata": {
    "ExecuteTime": {
     "end_time": "2022-07-07T15:29:29.797151Z",
     "start_time": "2022-07-07T15:29:29.654715Z"
    }
   },
   "outputs": [],
   "source": [
    "#Calcul du temps de chaque session\n",
    "sm_df['duration_min'] = (sm_df['session_end']-sm_df['session_start']).apply(lambda x: x.total_seconds()/60)"
   ]
  },
  {
   "cell_type": "code",
   "execution_count": 10,
   "id": "7d8146aa",
   "metadata": {
    "ExecuteTime": {
     "end_time": "2022-07-07T15:29:29.823595Z",
     "start_time": "2022-07-07T15:29:29.800302Z"
    }
   },
   "outputs": [
    {
     "data": {
      "text/html": [
       "<div>\n",
       "<style scoped>\n",
       "    .dataframe tbody tr th:only-of-type {\n",
       "        vertical-align: middle;\n",
       "    }\n",
       "\n",
       "    .dataframe tbody tr th {\n",
       "        vertical-align: top;\n",
       "    }\n",
       "\n",
       "    .dataframe thead th {\n",
       "        text-align: right;\n",
       "    }\n",
       "</style>\n",
       "<table border=\"1\" class=\"dataframe\">\n",
       "  <thead>\n",
       "    <tr style=\"text-align: right;\">\n",
       "      <th></th>\n",
       "      <th>session_id</th>\n",
       "      <th>city</th>\n",
       "      <th>language</th>\n",
       "      <th>os_version</th>\n",
       "      <th>region</th>\n",
       "      <th>country</th>\n",
       "      <th>device_model</th>\n",
       "      <th>start_version</th>\n",
       "      <th>session_end</th>\n",
       "      <th>id</th>\n",
       "      <th>...</th>\n",
       "      <th>event_type_Toast_Disappear</th>\n",
       "      <th>session_start</th>\n",
       "      <th>game_events</th>\n",
       "      <th>setup_events</th>\n",
       "      <th>unique_activity</th>\n",
       "      <th>Time_Spent</th>\n",
       "      <th>Action_Element_Name</th>\n",
       "      <th>Profile_Age_days</th>\n",
       "      <th>good_answer_ratio</th>\n",
       "      <th>duration_min</th>\n",
       "    </tr>\n",
       "  </thead>\n",
       "  <tbody>\n",
       "    <tr>\n",
       "      <th>0</th>\n",
       "      <td>1.647421e+12</td>\n",
       "      <td>Certines</td>\n",
       "      <td>French</td>\n",
       "      <td>15.3.1</td>\n",
       "      <td>Ain</td>\n",
       "      <td>France</td>\n",
       "      <td>iPad11,6</td>\n",
       "      <td>1.0.1</td>\n",
       "      <td>2022-03-16 08:58:14.214000+00:00</td>\n",
       "      <td>6</td>\n",
       "      <td>...</td>\n",
       "      <td>0.0</td>\n",
       "      <td>2022-03-16 08:56:40.722000+00:00</td>\n",
       "      <td>6.0</td>\n",
       "      <td>0.0</td>\n",
       "      <td>0</td>\n",
       "      <td>37.0</td>\n",
       "      <td>None</td>\n",
       "      <td>-1.0</td>\n",
       "      <td>NaN</td>\n",
       "      <td>1.558200</td>\n",
       "    </tr>\n",
       "    <tr>\n",
       "      <th>1</th>\n",
       "      <td>1.647421e+12</td>\n",
       "      <td>Certines</td>\n",
       "      <td>French</td>\n",
       "      <td>15.1</td>\n",
       "      <td>Ain</td>\n",
       "      <td>France</td>\n",
       "      <td>iPad11,6</td>\n",
       "      <td>1.0.1</td>\n",
       "      <td>2022-03-16 08:58:45.380000+00:00</td>\n",
       "      <td>5</td>\n",
       "      <td>...</td>\n",
       "      <td>0.0</td>\n",
       "      <td>2022-03-16 08:58:28.269000+00:00</td>\n",
       "      <td>5.0</td>\n",
       "      <td>0.0</td>\n",
       "      <td>0</td>\n",
       "      <td>25.0</td>\n",
       "      <td>None</td>\n",
       "      <td>-1.0</td>\n",
       "      <td>NaN</td>\n",
       "      <td>0.285183</td>\n",
       "    </tr>\n",
       "    <tr>\n",
       "      <th>2</th>\n",
       "      <td>1.648134e+12</td>\n",
       "      <td>Certines</td>\n",
       "      <td>French</td>\n",
       "      <td>15.3.1</td>\n",
       "      <td>Ain</td>\n",
       "      <td>France</td>\n",
       "      <td>iPad11,6</td>\n",
       "      <td>1.0.1</td>\n",
       "      <td>2022-03-24 15:06:35.838000+00:00</td>\n",
       "      <td>5</td>\n",
       "      <td>...</td>\n",
       "      <td>0.0</td>\n",
       "      <td>2022-03-24 15:06:21.426000+00:00</td>\n",
       "      <td>5.0</td>\n",
       "      <td>0.0</td>\n",
       "      <td>0</td>\n",
       "      <td>28.0</td>\n",
       "      <td>None</td>\n",
       "      <td>-1.0</td>\n",
       "      <td>NaN</td>\n",
       "      <td>0.240200</td>\n",
       "    </tr>\n",
       "    <tr>\n",
       "      <th>3</th>\n",
       "      <td>1.647421e+12</td>\n",
       "      <td>Certines</td>\n",
       "      <td>French</td>\n",
       "      <td>15.1</td>\n",
       "      <td>Ain</td>\n",
       "      <td>France</td>\n",
       "      <td>iPad11,6</td>\n",
       "      <td>1.0.1</td>\n",
       "      <td>2022-03-16 08:57:59.845000+00:00</td>\n",
       "      <td>5</td>\n",
       "      <td>...</td>\n",
       "      <td>0.0</td>\n",
       "      <td>2022-03-16 08:57:48.381000+00:00</td>\n",
       "      <td>5.0</td>\n",
       "      <td>0.0</td>\n",
       "      <td>0</td>\n",
       "      <td>20.0</td>\n",
       "      <td>None</td>\n",
       "      <td>-1.0</td>\n",
       "      <td>NaN</td>\n",
       "      <td>0.191067</td>\n",
       "    </tr>\n",
       "    <tr>\n",
       "      <th>4</th>\n",
       "      <td>1.646641e+12</td>\n",
       "      <td>Izernore</td>\n",
       "      <td>French</td>\n",
       "      <td>15.2</td>\n",
       "      <td>Ain</td>\n",
       "      <td>France</td>\n",
       "      <td>iPad 6</td>\n",
       "      <td>1.0.3</td>\n",
       "      <td>2022-03-07 08:25:39.783000+00:00</td>\n",
       "      <td>6</td>\n",
       "      <td>...</td>\n",
       "      <td>0.0</td>\n",
       "      <td>2022-03-07 08:24:40.937000+00:00</td>\n",
       "      <td>6.0</td>\n",
       "      <td>0.0</td>\n",
       "      <td>0</td>\n",
       "      <td>858.0</td>\n",
       "      <td>Back</td>\n",
       "      <td>1891.0</td>\n",
       "      <td>NaN</td>\n",
       "      <td>0.980767</td>\n",
       "    </tr>\n",
       "    <tr>\n",
       "      <th>...</th>\n",
       "      <td>...</td>\n",
       "      <td>...</td>\n",
       "      <td>...</td>\n",
       "      <td>...</td>\n",
       "      <td>...</td>\n",
       "      <td>...</td>\n",
       "      <td>...</td>\n",
       "      <td>...</td>\n",
       "      <td>...</td>\n",
       "      <td>...</td>\n",
       "      <td>...</td>\n",
       "      <td>...</td>\n",
       "      <td>...</td>\n",
       "      <td>...</td>\n",
       "      <td>...</td>\n",
       "      <td>...</td>\n",
       "      <td>...</td>\n",
       "      <td>...</td>\n",
       "      <td>...</td>\n",
       "      <td>...</td>\n",
       "      <td>...</td>\n",
       "    </tr>\n",
       "    <tr>\n",
       "      <th>18811</th>\n",
       "      <td>1.646491e+12</td>\n",
       "      <td>Notting Hill Gate</td>\n",
       "      <td>English</td>\n",
       "      <td>15.1</td>\n",
       "      <td>Royal Kensington and Chelsea</td>\n",
       "      <td>United Kingdom</td>\n",
       "      <td>iPad 6</td>\n",
       "      <td>1.0.7</td>\n",
       "      <td>2022-03-05 14:40:14.517000+00:00</td>\n",
       "      <td>5</td>\n",
       "      <td>...</td>\n",
       "      <td>0.0</td>\n",
       "      <td>2022-03-05 14:39:48.894000+00:00</td>\n",
       "      <td>5.0</td>\n",
       "      <td>0.0</td>\n",
       "      <td>0</td>\n",
       "      <td>31.0</td>\n",
       "      <td>None</td>\n",
       "      <td>-1.0</td>\n",
       "      <td>NaN</td>\n",
       "      <td>0.427050</td>\n",
       "    </tr>\n",
       "    <tr>\n",
       "      <th>18812</th>\n",
       "      <td>1.652027e+12</td>\n",
       "      <td>Hamburg</td>\n",
       "      <td>English</td>\n",
       "      <td>14.6</td>\n",
       "      <td>Free and Hanseatic City of Hamburg</td>\n",
       "      <td>Germany</td>\n",
       "      <td>iPad Pro</td>\n",
       "      <td>4.1.3</td>\n",
       "      <td>2022-05-08 16:39:55.181000+00:00</td>\n",
       "      <td>17</td>\n",
       "      <td>...</td>\n",
       "      <td>0.0</td>\n",
       "      <td>2022-05-08 16:32:21.326000+00:00</td>\n",
       "      <td>0.0</td>\n",
       "      <td>0.0</td>\n",
       "      <td>0</td>\n",
       "      <td>2525.0</td>\n",
       "      <td>None</td>\n",
       "      <td>4930.0</td>\n",
       "      <td>NaN</td>\n",
       "      <td>7.564250</td>\n",
       "    </tr>\n",
       "    <tr>\n",
       "      <th>18813</th>\n",
       "      <td>1.652029e+12</td>\n",
       "      <td>Hamburg</td>\n",
       "      <td>English</td>\n",
       "      <td>14.6</td>\n",
       "      <td>Free and Hanseatic City of Hamburg</td>\n",
       "      <td>Germany</td>\n",
       "      <td>iPad Pro</td>\n",
       "      <td>4.1.3</td>\n",
       "      <td>2022-05-08 17:01:24.501000+00:00</td>\n",
       "      <td>20</td>\n",
       "      <td>...</td>\n",
       "      <td>0.0</td>\n",
       "      <td>2022-05-08 16:58:54.378000+00:00</td>\n",
       "      <td>0.0</td>\n",
       "      <td>0.0</td>\n",
       "      <td>1</td>\n",
       "      <td>834.0</td>\n",
       "      <td>None</td>\n",
       "      <td>4930.0</td>\n",
       "      <td>NaN</td>\n",
       "      <td>2.502050</td>\n",
       "    </tr>\n",
       "    <tr>\n",
       "      <th>18814</th>\n",
       "      <td>1.652377e+12</td>\n",
       "      <td>Hamburg</td>\n",
       "      <td>English</td>\n",
       "      <td>14.6</td>\n",
       "      <td>Free and Hanseatic City of Hamburg</td>\n",
       "      <td>Germany</td>\n",
       "      <td>iPad Pro</td>\n",
       "      <td>4.1.3</td>\n",
       "      <td>2022-05-12 18:05:34.559000+00:00</td>\n",
       "      <td>19</td>\n",
       "      <td>...</td>\n",
       "      <td>0.0</td>\n",
       "      <td>2022-05-12 17:38:47.898000+00:00</td>\n",
       "      <td>19.0</td>\n",
       "      <td>0.0</td>\n",
       "      <td>1</td>\n",
       "      <td>9393.0</td>\n",
       "      <td>Back</td>\n",
       "      <td>4934.0</td>\n",
       "      <td>100.0</td>\n",
       "      <td>26.777683</td>\n",
       "    </tr>\n",
       "    <tr>\n",
       "      <th>18815</th>\n",
       "      <td>1.651921e+12</td>\n",
       "      <td>Hamburg</td>\n",
       "      <td>German</td>\n",
       "      <td>15.4.1</td>\n",
       "      <td>Free and Hanseatic City of Hamburg</td>\n",
       "      <td>Germany</td>\n",
       "      <td>iPad8,11</td>\n",
       "      <td>4.2.0</td>\n",
       "      <td>2022-05-07 12:38:30.518000+00:00</td>\n",
       "      <td>582</td>\n",
       "      <td>...</td>\n",
       "      <td>0.0</td>\n",
       "      <td>2022-05-07 10:53:03.270000+00:00</td>\n",
       "      <td>0.0</td>\n",
       "      <td>0.0</td>\n",
       "      <td>13</td>\n",
       "      <td>86652.0</td>\n",
       "      <td>Back</td>\n",
       "      <td>2269.0</td>\n",
       "      <td>NaN</td>\n",
       "      <td>105.454133</td>\n",
       "    </tr>\n",
       "  </tbody>\n",
       "</table>\n",
       "<p>18816 rows × 79 columns</p>\n",
       "</div>"
      ],
      "text/plain": [
       "         session_id               city language os_version  \\\n",
       "0      1.647421e+12           Certines   French     15.3.1   \n",
       "1      1.647421e+12           Certines   French       15.1   \n",
       "2      1.648134e+12           Certines   French     15.3.1   \n",
       "3      1.647421e+12           Certines   French       15.1   \n",
       "4      1.646641e+12           Izernore   French       15.2   \n",
       "...             ...                ...      ...        ...   \n",
       "18811  1.646491e+12  Notting Hill Gate  English       15.1   \n",
       "18812  1.652027e+12            Hamburg  English       14.6   \n",
       "18813  1.652029e+12            Hamburg  English       14.6   \n",
       "18814  1.652377e+12            Hamburg  English       14.6   \n",
       "18815  1.651921e+12            Hamburg   German     15.4.1   \n",
       "\n",
       "                                   region         country device_model  \\\n",
       "0                                     Ain          France     iPad11,6   \n",
       "1                                     Ain          France     iPad11,6   \n",
       "2                                     Ain          France     iPad11,6   \n",
       "3                                     Ain          France     iPad11,6   \n",
       "4                                     Ain          France       iPad 6   \n",
       "...                                   ...             ...          ...   \n",
       "18811        Royal Kensington and Chelsea  United Kingdom       iPad 6   \n",
       "18812  Free and Hanseatic City of Hamburg         Germany     iPad Pro   \n",
       "18813  Free and Hanseatic City of Hamburg         Germany     iPad Pro   \n",
       "18814  Free and Hanseatic City of Hamburg         Germany     iPad Pro   \n",
       "18815  Free and Hanseatic City of Hamburg         Germany     iPad8,11   \n",
       "\n",
       "      start_version                      session_end   id  ...  \\\n",
       "0             1.0.1 2022-03-16 08:58:14.214000+00:00    6  ...   \n",
       "1             1.0.1 2022-03-16 08:58:45.380000+00:00    5  ...   \n",
       "2             1.0.1 2022-03-24 15:06:35.838000+00:00    5  ...   \n",
       "3             1.0.1 2022-03-16 08:57:59.845000+00:00    5  ...   \n",
       "4             1.0.3 2022-03-07 08:25:39.783000+00:00    6  ...   \n",
       "...             ...                              ...  ...  ...   \n",
       "18811         1.0.7 2022-03-05 14:40:14.517000+00:00    5  ...   \n",
       "18812         4.1.3 2022-05-08 16:39:55.181000+00:00   17  ...   \n",
       "18813         4.1.3 2022-05-08 17:01:24.501000+00:00   20  ...   \n",
       "18814         4.1.3 2022-05-12 18:05:34.559000+00:00   19  ...   \n",
       "18815         4.2.0 2022-05-07 12:38:30.518000+00:00  582  ...   \n",
       "\n",
       "       event_type_Toast_Disappear                    session_start  \\\n",
       "0                             0.0 2022-03-16 08:56:40.722000+00:00   \n",
       "1                             0.0 2022-03-16 08:58:28.269000+00:00   \n",
       "2                             0.0 2022-03-24 15:06:21.426000+00:00   \n",
       "3                             0.0 2022-03-16 08:57:48.381000+00:00   \n",
       "4                             0.0 2022-03-07 08:24:40.937000+00:00   \n",
       "...                           ...                              ...   \n",
       "18811                         0.0 2022-03-05 14:39:48.894000+00:00   \n",
       "18812                         0.0 2022-05-08 16:32:21.326000+00:00   \n",
       "18813                         0.0 2022-05-08 16:58:54.378000+00:00   \n",
       "18814                         0.0 2022-05-12 17:38:47.898000+00:00   \n",
       "18815                         0.0 2022-05-07 10:53:03.270000+00:00   \n",
       "\n",
       "       game_events  setup_events  unique_activity  Time_Spent  \\\n",
       "0              6.0           0.0                0        37.0   \n",
       "1              5.0           0.0                0        25.0   \n",
       "2              5.0           0.0                0        28.0   \n",
       "3              5.0           0.0                0        20.0   \n",
       "4              6.0           0.0                0       858.0   \n",
       "...            ...           ...              ...         ...   \n",
       "18811          5.0           0.0                0        31.0   \n",
       "18812          0.0           0.0                0      2525.0   \n",
       "18813          0.0           0.0                1       834.0   \n",
       "18814         19.0           0.0                1      9393.0   \n",
       "18815          0.0           0.0               13     86652.0   \n",
       "\n",
       "       Action_Element_Name  Profile_Age_days  good_answer_ratio  duration_min  \n",
       "0                     None              -1.0                NaN      1.558200  \n",
       "1                     None              -1.0                NaN      0.285183  \n",
       "2                     None              -1.0                NaN      0.240200  \n",
       "3                     None              -1.0                NaN      0.191067  \n",
       "4                     Back            1891.0                NaN      0.980767  \n",
       "...                    ...               ...                ...           ...  \n",
       "18811                 None              -1.0                NaN      0.427050  \n",
       "18812                 None            4930.0                NaN      7.564250  \n",
       "18813                 None            4930.0                NaN      2.502050  \n",
       "18814                 Back            4934.0              100.0     26.777683  \n",
       "18815                 Back            2269.0                NaN    105.454133  \n",
       "\n",
       "[18816 rows x 79 columns]"
      ]
     },
     "execution_count": 10,
     "metadata": {},
     "output_type": "execute_result"
    }
   ],
   "source": [
    "sm_df"
   ]
  },
  {
   "cell_type": "code",
   "execution_count": 11,
   "id": "7601826f",
   "metadata": {
    "ExecuteTime": {
     "end_time": "2022-07-07T15:29:29.827498Z",
     "start_time": "2022-07-07T15:29:29.824848Z"
    }
   },
   "outputs": [],
   "source": [
    "def extract_user_metrics(project,credentials):\n",
    "    # Construct a BigQuery client object.\n",
    "    client = bigquery.Client(project=project, credentials=credentials)\n",
    "\n",
    "    query = \"\"\"\n",
    "    SELECT user_creation_time, user_id\n",
    "    FROM `marbotic.marbotic_dataset.users_metrics`\n",
    "    \"\"\"\n",
    "\n",
    "    query_job = client.query(query)  # Make an API request.\n",
    "    results=query_job.result().to_dataframe() # Waits for job to complete.\n",
    "\n",
    "    return pd.DataFrame(results)"
   ]
  },
  {
   "cell_type": "code",
   "execution_count": 12,
   "id": "3f02f973",
   "metadata": {
    "ExecuteTime": {
     "end_time": "2022-07-07T15:29:31.356248Z",
     "start_time": "2022-07-07T15:29:29.828880Z"
    }
   },
   "outputs": [],
   "source": [
    "user_metrics_df = extract_user_metrics(project,credentials)"
   ]
  },
  {
   "cell_type": "code",
   "execution_count": 13,
   "id": "6f994e71",
   "metadata": {
    "ExecuteTime": {
     "end_time": "2022-07-07T15:29:31.386060Z",
     "start_time": "2022-07-07T15:29:31.359113Z"
    }
   },
   "outputs": [],
   "source": [
    "#on merge la date de création dans le cas ou on veut calculer la maturité du user au moment de la session. Non utilisé dans un premier temps\n",
    "sm_df = sm_df.merge(user_metrics_df, on='user_id')"
   ]
  },
  {
   "cell_type": "code",
   "execution_count": 14,
   "id": "0a2b3988",
   "metadata": {
    "ExecuteTime": {
     "end_time": "2022-07-07T15:29:31.414816Z",
     "start_time": "2022-07-07T15:29:31.387586Z"
    }
   },
   "outputs": [
    {
     "data": {
      "text/html": [
       "<div>\n",
       "<style scoped>\n",
       "    .dataframe tbody tr th:only-of-type {\n",
       "        vertical-align: middle;\n",
       "    }\n",
       "\n",
       "    .dataframe tbody tr th {\n",
       "        vertical-align: top;\n",
       "    }\n",
       "\n",
       "    .dataframe thead th {\n",
       "        text-align: right;\n",
       "    }\n",
       "</style>\n",
       "<table border=\"1\" class=\"dataframe\">\n",
       "  <thead>\n",
       "    <tr style=\"text-align: right;\">\n",
       "      <th></th>\n",
       "      <th>session_id</th>\n",
       "      <th>city</th>\n",
       "      <th>language</th>\n",
       "      <th>os_version</th>\n",
       "      <th>region</th>\n",
       "      <th>country</th>\n",
       "      <th>device_model</th>\n",
       "      <th>start_version</th>\n",
       "      <th>session_end</th>\n",
       "      <th>id</th>\n",
       "      <th>...</th>\n",
       "      <th>session_start</th>\n",
       "      <th>game_events</th>\n",
       "      <th>setup_events</th>\n",
       "      <th>unique_activity</th>\n",
       "      <th>Time_Spent</th>\n",
       "      <th>Action_Element_Name</th>\n",
       "      <th>Profile_Age_days</th>\n",
       "      <th>good_answer_ratio</th>\n",
       "      <th>duration_min</th>\n",
       "      <th>user_creation_time</th>\n",
       "    </tr>\n",
       "  </thead>\n",
       "  <tbody>\n",
       "    <tr>\n",
       "      <th>0</th>\n",
       "      <td>1.647421e+12</td>\n",
       "      <td>Certines</td>\n",
       "      <td>French</td>\n",
       "      <td>15.3.1</td>\n",
       "      <td>Ain</td>\n",
       "      <td>France</td>\n",
       "      <td>iPad11,6</td>\n",
       "      <td>1.0.1</td>\n",
       "      <td>2022-03-16 08:58:14.214000+00:00</td>\n",
       "      <td>6</td>\n",
       "      <td>...</td>\n",
       "      <td>2022-03-16 08:56:40.722000+00:00</td>\n",
       "      <td>6.0</td>\n",
       "      <td>0.0</td>\n",
       "      <td>0</td>\n",
       "      <td>37.0</td>\n",
       "      <td>None</td>\n",
       "      <td>-1.0</td>\n",
       "      <td>NaN</td>\n",
       "      <td>1.558200</td>\n",
       "      <td>2021-11-20 15:17:18.537000+00:00</td>\n",
       "    </tr>\n",
       "    <tr>\n",
       "      <th>1</th>\n",
       "      <td>1.647421e+12</td>\n",
       "      <td>Certines</td>\n",
       "      <td>French</td>\n",
       "      <td>15.1</td>\n",
       "      <td>Ain</td>\n",
       "      <td>France</td>\n",
       "      <td>iPad11,6</td>\n",
       "      <td>1.0.1</td>\n",
       "      <td>2022-03-16 08:58:45.380000+00:00</td>\n",
       "      <td>5</td>\n",
       "      <td>...</td>\n",
       "      <td>2022-03-16 08:58:28.269000+00:00</td>\n",
       "      <td>5.0</td>\n",
       "      <td>0.0</td>\n",
       "      <td>0</td>\n",
       "      <td>25.0</td>\n",
       "      <td>None</td>\n",
       "      <td>-1.0</td>\n",
       "      <td>NaN</td>\n",
       "      <td>0.285183</td>\n",
       "      <td>2021-11-20 15:17:18.537000+00:00</td>\n",
       "    </tr>\n",
       "    <tr>\n",
       "      <th>2</th>\n",
       "      <td>1.648134e+12</td>\n",
       "      <td>Certines</td>\n",
       "      <td>French</td>\n",
       "      <td>15.3.1</td>\n",
       "      <td>Ain</td>\n",
       "      <td>France</td>\n",
       "      <td>iPad11,6</td>\n",
       "      <td>1.0.1</td>\n",
       "      <td>2022-03-24 15:06:35.838000+00:00</td>\n",
       "      <td>5</td>\n",
       "      <td>...</td>\n",
       "      <td>2022-03-24 15:06:21.426000+00:00</td>\n",
       "      <td>5.0</td>\n",
       "      <td>0.0</td>\n",
       "      <td>0</td>\n",
       "      <td>28.0</td>\n",
       "      <td>None</td>\n",
       "      <td>-1.0</td>\n",
       "      <td>NaN</td>\n",
       "      <td>0.240200</td>\n",
       "      <td>2021-11-20 15:17:18.537000+00:00</td>\n",
       "    </tr>\n",
       "    <tr>\n",
       "      <th>3</th>\n",
       "      <td>1.647421e+12</td>\n",
       "      <td>Certines</td>\n",
       "      <td>French</td>\n",
       "      <td>15.1</td>\n",
       "      <td>Ain</td>\n",
       "      <td>France</td>\n",
       "      <td>iPad11,6</td>\n",
       "      <td>1.0.1</td>\n",
       "      <td>2022-03-16 08:57:59.845000+00:00</td>\n",
       "      <td>5</td>\n",
       "      <td>...</td>\n",
       "      <td>2022-03-16 08:57:48.381000+00:00</td>\n",
       "      <td>5.0</td>\n",
       "      <td>0.0</td>\n",
       "      <td>0</td>\n",
       "      <td>20.0</td>\n",
       "      <td>None</td>\n",
       "      <td>-1.0</td>\n",
       "      <td>NaN</td>\n",
       "      <td>0.191067</td>\n",
       "      <td>2021-11-20 15:17:18.537000+00:00</td>\n",
       "    </tr>\n",
       "    <tr>\n",
       "      <th>4</th>\n",
       "      <td>1.646641e+12</td>\n",
       "      <td>Izernore</td>\n",
       "      <td>French</td>\n",
       "      <td>15.2</td>\n",
       "      <td>Ain</td>\n",
       "      <td>France</td>\n",
       "      <td>iPad 6</td>\n",
       "      <td>1.0.3</td>\n",
       "      <td>2022-03-07 08:25:39.783000+00:00</td>\n",
       "      <td>6</td>\n",
       "      <td>...</td>\n",
       "      <td>2022-03-07 08:24:40.937000+00:00</td>\n",
       "      <td>6.0</td>\n",
       "      <td>0.0</td>\n",
       "      <td>0</td>\n",
       "      <td>858.0</td>\n",
       "      <td>Back</td>\n",
       "      <td>1891.0</td>\n",
       "      <td>NaN</td>\n",
       "      <td>0.980767</td>\n",
       "      <td>2021-12-07 18:08:20.505000+00:00</td>\n",
       "    </tr>\n",
       "    <tr>\n",
       "      <th>...</th>\n",
       "      <td>...</td>\n",
       "      <td>...</td>\n",
       "      <td>...</td>\n",
       "      <td>...</td>\n",
       "      <td>...</td>\n",
       "      <td>...</td>\n",
       "      <td>...</td>\n",
       "      <td>...</td>\n",
       "      <td>...</td>\n",
       "      <td>...</td>\n",
       "      <td>...</td>\n",
       "      <td>...</td>\n",
       "      <td>...</td>\n",
       "      <td>...</td>\n",
       "      <td>...</td>\n",
       "      <td>...</td>\n",
       "      <td>...</td>\n",
       "      <td>...</td>\n",
       "      <td>...</td>\n",
       "      <td>...</td>\n",
       "      <td>...</td>\n",
       "    </tr>\n",
       "    <tr>\n",
       "      <th>18811</th>\n",
       "      <td>1.649501e+12</td>\n",
       "      <td>Kensington</td>\n",
       "      <td>English</td>\n",
       "      <td>15.1</td>\n",
       "      <td>Royal Kensington and Chelsea</td>\n",
       "      <td>United Kingdom</td>\n",
       "      <td>iPad12,1</td>\n",
       "      <td>1.0.5</td>\n",
       "      <td>2022-04-09 10:45:26.022000+00:00</td>\n",
       "      <td>1</td>\n",
       "      <td>...</td>\n",
       "      <td>2022-04-09 10:45:26.022000+00:00</td>\n",
       "      <td>1.0</td>\n",
       "      <td>0.0</td>\n",
       "      <td>1</td>\n",
       "      <td>3573.0</td>\n",
       "      <td>None</td>\n",
       "      <td>NaN</td>\n",
       "      <td>NaN</td>\n",
       "      <td>0.000000</td>\n",
       "      <td>2021-12-19 14:16:39.549000+00:00</td>\n",
       "    </tr>\n",
       "    <tr>\n",
       "      <th>18812</th>\n",
       "      <td>1.652027e+12</td>\n",
       "      <td>Hamburg</td>\n",
       "      <td>English</td>\n",
       "      <td>14.6</td>\n",
       "      <td>Free and Hanseatic City of Hamburg</td>\n",
       "      <td>Germany</td>\n",
       "      <td>iPad Pro</td>\n",
       "      <td>4.1.3</td>\n",
       "      <td>2022-05-08 16:39:55.181000+00:00</td>\n",
       "      <td>17</td>\n",
       "      <td>...</td>\n",
       "      <td>2022-05-08 16:32:21.326000+00:00</td>\n",
       "      <td>0.0</td>\n",
       "      <td>0.0</td>\n",
       "      <td>0</td>\n",
       "      <td>2525.0</td>\n",
       "      <td>None</td>\n",
       "      <td>4930.0</td>\n",
       "      <td>NaN</td>\n",
       "      <td>7.564250</td>\n",
       "      <td>2022-05-08 16:29:14.356000+00:00</td>\n",
       "    </tr>\n",
       "    <tr>\n",
       "      <th>18813</th>\n",
       "      <td>1.652029e+12</td>\n",
       "      <td>Hamburg</td>\n",
       "      <td>English</td>\n",
       "      <td>14.6</td>\n",
       "      <td>Free and Hanseatic City of Hamburg</td>\n",
       "      <td>Germany</td>\n",
       "      <td>iPad Pro</td>\n",
       "      <td>4.1.3</td>\n",
       "      <td>2022-05-08 17:01:24.501000+00:00</td>\n",
       "      <td>20</td>\n",
       "      <td>...</td>\n",
       "      <td>2022-05-08 16:58:54.378000+00:00</td>\n",
       "      <td>0.0</td>\n",
       "      <td>0.0</td>\n",
       "      <td>1</td>\n",
       "      <td>834.0</td>\n",
       "      <td>None</td>\n",
       "      <td>4930.0</td>\n",
       "      <td>NaN</td>\n",
       "      <td>2.502050</td>\n",
       "      <td>2022-05-08 16:29:14.356000+00:00</td>\n",
       "    </tr>\n",
       "    <tr>\n",
       "      <th>18814</th>\n",
       "      <td>1.652377e+12</td>\n",
       "      <td>Hamburg</td>\n",
       "      <td>English</td>\n",
       "      <td>14.6</td>\n",
       "      <td>Free and Hanseatic City of Hamburg</td>\n",
       "      <td>Germany</td>\n",
       "      <td>iPad Pro</td>\n",
       "      <td>4.1.3</td>\n",
       "      <td>2022-05-12 18:05:34.559000+00:00</td>\n",
       "      <td>19</td>\n",
       "      <td>...</td>\n",
       "      <td>2022-05-12 17:38:47.898000+00:00</td>\n",
       "      <td>19.0</td>\n",
       "      <td>0.0</td>\n",
       "      <td>1</td>\n",
       "      <td>9393.0</td>\n",
       "      <td>Back</td>\n",
       "      <td>4934.0</td>\n",
       "      <td>100.0</td>\n",
       "      <td>26.777683</td>\n",
       "      <td>2022-05-08 16:29:14.356000+00:00</td>\n",
       "    </tr>\n",
       "    <tr>\n",
       "      <th>18815</th>\n",
       "      <td>1.651921e+12</td>\n",
       "      <td>Hamburg</td>\n",
       "      <td>German</td>\n",
       "      <td>15.4.1</td>\n",
       "      <td>Free and Hanseatic City of Hamburg</td>\n",
       "      <td>Germany</td>\n",
       "      <td>iPad8,11</td>\n",
       "      <td>4.2.0</td>\n",
       "      <td>2022-05-07 12:38:30.518000+00:00</td>\n",
       "      <td>582</td>\n",
       "      <td>...</td>\n",
       "      <td>2022-05-07 10:53:03.270000+00:00</td>\n",
       "      <td>0.0</td>\n",
       "      <td>0.0</td>\n",
       "      <td>13</td>\n",
       "      <td>86652.0</td>\n",
       "      <td>Back</td>\n",
       "      <td>2269.0</td>\n",
       "      <td>NaN</td>\n",
       "      <td>105.454133</td>\n",
       "      <td>2020-12-14 02:16:05.855000+00:00</td>\n",
       "    </tr>\n",
       "  </tbody>\n",
       "</table>\n",
       "<p>18816 rows × 80 columns</p>\n",
       "</div>"
      ],
      "text/plain": [
       "         session_id        city language os_version  \\\n",
       "0      1.647421e+12    Certines   French     15.3.1   \n",
       "1      1.647421e+12    Certines   French       15.1   \n",
       "2      1.648134e+12    Certines   French     15.3.1   \n",
       "3      1.647421e+12    Certines   French       15.1   \n",
       "4      1.646641e+12    Izernore   French       15.2   \n",
       "...             ...         ...      ...        ...   \n",
       "18811  1.649501e+12  Kensington  English       15.1   \n",
       "18812  1.652027e+12     Hamburg  English       14.6   \n",
       "18813  1.652029e+12     Hamburg  English       14.6   \n",
       "18814  1.652377e+12     Hamburg  English       14.6   \n",
       "18815  1.651921e+12     Hamburg   German     15.4.1   \n",
       "\n",
       "                                   region         country device_model  \\\n",
       "0                                     Ain          France     iPad11,6   \n",
       "1                                     Ain          France     iPad11,6   \n",
       "2                                     Ain          France     iPad11,6   \n",
       "3                                     Ain          France     iPad11,6   \n",
       "4                                     Ain          France       iPad 6   \n",
       "...                                   ...             ...          ...   \n",
       "18811        Royal Kensington and Chelsea  United Kingdom     iPad12,1   \n",
       "18812  Free and Hanseatic City of Hamburg         Germany     iPad Pro   \n",
       "18813  Free and Hanseatic City of Hamburg         Germany     iPad Pro   \n",
       "18814  Free and Hanseatic City of Hamburg         Germany     iPad Pro   \n",
       "18815  Free and Hanseatic City of Hamburg         Germany     iPad8,11   \n",
       "\n",
       "      start_version                      session_end   id  ...  \\\n",
       "0             1.0.1 2022-03-16 08:58:14.214000+00:00    6  ...   \n",
       "1             1.0.1 2022-03-16 08:58:45.380000+00:00    5  ...   \n",
       "2             1.0.1 2022-03-24 15:06:35.838000+00:00    5  ...   \n",
       "3             1.0.1 2022-03-16 08:57:59.845000+00:00    5  ...   \n",
       "4             1.0.3 2022-03-07 08:25:39.783000+00:00    6  ...   \n",
       "...             ...                              ...  ...  ...   \n",
       "18811         1.0.5 2022-04-09 10:45:26.022000+00:00    1  ...   \n",
       "18812         4.1.3 2022-05-08 16:39:55.181000+00:00   17  ...   \n",
       "18813         4.1.3 2022-05-08 17:01:24.501000+00:00   20  ...   \n",
       "18814         4.1.3 2022-05-12 18:05:34.559000+00:00   19  ...   \n",
       "18815         4.2.0 2022-05-07 12:38:30.518000+00:00  582  ...   \n",
       "\n",
       "                         session_start  game_events  setup_events  \\\n",
       "0     2022-03-16 08:56:40.722000+00:00          6.0           0.0   \n",
       "1     2022-03-16 08:58:28.269000+00:00          5.0           0.0   \n",
       "2     2022-03-24 15:06:21.426000+00:00          5.0           0.0   \n",
       "3     2022-03-16 08:57:48.381000+00:00          5.0           0.0   \n",
       "4     2022-03-07 08:24:40.937000+00:00          6.0           0.0   \n",
       "...                                ...          ...           ...   \n",
       "18811 2022-04-09 10:45:26.022000+00:00          1.0           0.0   \n",
       "18812 2022-05-08 16:32:21.326000+00:00          0.0           0.0   \n",
       "18813 2022-05-08 16:58:54.378000+00:00          0.0           0.0   \n",
       "18814 2022-05-12 17:38:47.898000+00:00         19.0           0.0   \n",
       "18815 2022-05-07 10:53:03.270000+00:00          0.0           0.0   \n",
       "\n",
       "       unique_activity  Time_Spent  Action_Element_Name  Profile_Age_days  \\\n",
       "0                    0        37.0                 None              -1.0   \n",
       "1                    0        25.0                 None              -1.0   \n",
       "2                    0        28.0                 None              -1.0   \n",
       "3                    0        20.0                 None              -1.0   \n",
       "4                    0       858.0                 Back            1891.0   \n",
       "...                ...         ...                  ...               ...   \n",
       "18811                1      3573.0                 None               NaN   \n",
       "18812                0      2525.0                 None            4930.0   \n",
       "18813                1       834.0                 None            4930.0   \n",
       "18814                1      9393.0                 Back            4934.0   \n",
       "18815               13     86652.0                 Back            2269.0   \n",
       "\n",
       "       good_answer_ratio  duration_min               user_creation_time  \n",
       "0                    NaN      1.558200 2021-11-20 15:17:18.537000+00:00  \n",
       "1                    NaN      0.285183 2021-11-20 15:17:18.537000+00:00  \n",
       "2                    NaN      0.240200 2021-11-20 15:17:18.537000+00:00  \n",
       "3                    NaN      0.191067 2021-11-20 15:17:18.537000+00:00  \n",
       "4                    NaN      0.980767 2021-12-07 18:08:20.505000+00:00  \n",
       "...                  ...           ...                              ...  \n",
       "18811                NaN      0.000000 2021-12-19 14:16:39.549000+00:00  \n",
       "18812                NaN      7.564250 2022-05-08 16:29:14.356000+00:00  \n",
       "18813                NaN      2.502050 2022-05-08 16:29:14.356000+00:00  \n",
       "18814              100.0     26.777683 2022-05-08 16:29:14.356000+00:00  \n",
       "18815                NaN    105.454133 2020-12-14 02:16:05.855000+00:00  \n",
       "\n",
       "[18816 rows x 80 columns]"
      ]
     },
     "execution_count": 14,
     "metadata": {},
     "output_type": "execute_result"
    }
   ],
   "source": [
    "sm_df"
   ]
  },
  {
   "cell_type": "code",
   "execution_count": 15,
   "id": "57c1328d",
   "metadata": {
    "ExecuteTime": {
     "end_time": "2022-07-07T15:29:31.419585Z",
     "start_time": "2022-07-07T15:29:31.415992Z"
    }
   },
   "outputs": [
    {
     "data": {
      "text/plain": [
       "Index(['session_id', 'city', 'language', 'os_version', 'region', 'country',\n",
       "       'device_model', 'start_version', 'session_end', 'id', 'user_id',\n",
       "       'event_type_Account_Sign_In', 'event_type_Account_Sign_Out',\n",
       "       'event_type_Account_Sign_Up', 'event_type_Account_Update_Request',\n",
       "       'event_type_Account_Update_Success', 'event_type_Action_Click',\n",
       "       'event_type_Action_ConversionClickRedeem',\n",
       "       'event_type_Action_ConversionClickSubscribe',\n",
       "       'event_type_Activation_Game', 'event_type_Activation_New_Activation',\n",
       "       'event_type_Activation_Piece', 'event_type_Activation_Product',\n",
       "       'event_type_Activity_Good_Answer', 'event_type_Activity_Start',\n",
       "       'event_type_Activity_Stop', 'event_type_Activity_Wrong_Answer',\n",
       "       'event_type_Error_Error', 'event_type_Game_Pause',\n",
       "       'event_type_Game_Start', 'event_type_Game_Stop',\n",
       "       'event_type_OB_ClickStore', 'event_type_OB_ClickTrial',\n",
       "       'event_type_OB_CommPreview', 'event_type_OB_DiscoverTrial',\n",
       "       'event_type_OB_DoYouHaveKit', 'event_type_OB_Email',\n",
       "       'event_type_OB_HasKeyNo', 'event_type_OB_HasKitNo',\n",
       "       'event_type_OB_HasKitYes', 'event_type_OB_KeyFail',\n",
       "       'event_type_OB_KeyRedeem', 'event_type_OB_KeySuccess',\n",
       "       'event_type_OB_ProductActivation', 'event_type_OB_ProductHelp',\n",
       "       'event_type_OB_ProductOther', 'event_type_OB_ProductSK',\n",
       "       'event_type_OB_ProductSeeMore', 'event_type_OB_ProductSelection',\n",
       "       'event_type_OB_ProfileBirthdate', 'event_type_OB_ProfileName',\n",
       "       'event_type_OB_RenewalFail', 'event_type_OB_RenewalSelection',\n",
       "       'event_type_OB_RenewalSuccess', 'event_type_OB_Success',\n",
       "       'event_type_OB_TrialStart', 'event_type_OB_Type',\n",
       "       'event_type_OB_VerifCode', 'event_type_Popup_Close',\n",
       "       'event_type_Popup_Open', 'event_type_Profile_Create',\n",
       "       'event_type_Profile_Delete',\n",
       "       'event_type_Profile_Reset_Settings_and_Progression',\n",
       "       'event_type_Profile_Update', 'event_type_Scaffolding_Reset',\n",
       "       'event_type_Scaffolding_Scaffolding', 'event_type_Scene_Enter',\n",
       "       'event_type_Scene_Leave', 'event_type_Toast_Appear',\n",
       "       'event_type_Toast_Disappear', 'session_start', 'game_events',\n",
       "       'setup_events', 'unique_activity', 'Time_Spent', 'Action_Element_Name',\n",
       "       'Profile_Age_days', 'good_answer_ratio', 'duration_min',\n",
       "       'user_creation_time'],\n",
       "      dtype='object')"
      ]
     },
     "execution_count": 15,
     "metadata": {},
     "output_type": "execute_result"
    }
   ],
   "source": [
    "sm_df.columns"
   ]
  },
  {
   "cell_type": "code",
   "execution_count": 16,
   "id": "3b848e8d",
   "metadata": {
    "ExecuteTime": {
     "end_time": "2022-07-07T15:29:31.423277Z",
     "start_time": "2022-07-07T15:29:31.420938Z"
    }
   },
   "outputs": [],
   "source": [
    "#On calcul le nombre de sessions avant celle en cours\n",
    "def nb_session(user_id,session_start):\n",
    "    return sm_df[(sm_df['user_id']==user_id) & (sm_df['session_start']<session_start)].shape[0]"
   ]
  },
  {
   "cell_type": "code",
   "execution_count": 17,
   "id": "6997cf58",
   "metadata": {
    "ExecuteTime": {
     "end_time": "2022-07-07T15:29:38.684257Z",
     "start_time": "2022-07-07T15:29:31.424582Z"
    }
   },
   "outputs": [],
   "source": [
    "sm_df['previous_session'] = sm_df.apply(lambda x:nb_session(x.user_id,x.session_start), axis=1)"
   ]
  },
  {
   "cell_type": "code",
   "execution_count": 18,
   "id": "a494c7c2",
   "metadata": {
    "ExecuteTime": {
     "end_time": "2022-07-07T15:29:38.689009Z",
     "start_time": "2022-07-07T15:29:38.685847Z"
    }
   },
   "outputs": [],
   "source": [
    "#On calcul le temps depuis la dernière sessions\n",
    "def last_session_time(user_id,session_start):\n",
    "    last_session = sm_df[(sm_df['user_id']==user_id) & (sm_df['session_start']<session_start)]\\\n",
    "    .sort_values(by='session_start',ascending=True)\\\n",
    "    .groupby('user_id').last()['session_start']\n",
    "    if len(last_session.values)==0:\n",
    "        return timedelta(0)\n",
    "    else:\n",
    "        last_session = last_session.dt.to_pydatetime()[0].replace(tzinfo=None)\n",
    "        return (session_start.to_pydatetime().replace(tzinfo=None) - last_session)"
   ]
  },
  {
   "cell_type": "code",
   "execution_count": 19,
   "id": "1589721a",
   "metadata": {
    "ExecuteTime": {
     "end_time": "2022-07-07T15:29:38.691922Z",
     "start_time": "2022-07-07T15:29:38.690204Z"
    }
   },
   "outputs": [],
   "source": [
    "#(sm_df[(sm_df['user_id']==65616.0) & (sm_df['session_start']<'2022-03-16 08:58:28.269000+00:00')].sort_values(by='session_start',ascending=True).groupby('user_id').last()['session_start'].dt.to_pydatetime()[0].replace(tzinfo=None))"
   ]
  },
  {
   "cell_type": "code",
   "execution_count": 20,
   "id": "8203f318",
   "metadata": {
    "ExecuteTime": {
     "end_time": "2022-07-07T15:30:17.988276Z",
     "start_time": "2022-07-07T15:29:38.692953Z"
    }
   },
   "outputs": [],
   "source": [
    "sm_df['time_since_last_session'] = sm_df.apply(lambda x:last_session_time(x.user_id,x.session_start), axis=1)"
   ]
  },
  {
   "cell_type": "code",
   "execution_count": 21,
   "id": "d7e2be5f",
   "metadata": {
    "ExecuteTime": {
     "end_time": "2022-07-07T15:30:17.996286Z",
     "start_time": "2022-07-07T15:30:17.989458Z"
    }
   },
   "outputs": [
    {
     "data": {
      "text/html": [
       "<div>\n",
       "<style scoped>\n",
       "    .dataframe tbody tr th:only-of-type {\n",
       "        vertical-align: middle;\n",
       "    }\n",
       "\n",
       "    .dataframe tbody tr th {\n",
       "        vertical-align: top;\n",
       "    }\n",
       "\n",
       "    .dataframe thead th {\n",
       "        text-align: right;\n",
       "    }\n",
       "</style>\n",
       "<table border=\"1\" class=\"dataframe\">\n",
       "  <thead>\n",
       "    <tr style=\"text-align: right;\">\n",
       "      <th></th>\n",
       "      <th>session_start</th>\n",
       "      <th>time_since_last_session</th>\n",
       "    </tr>\n",
       "  </thead>\n",
       "  <tbody>\n",
       "    <tr>\n",
       "      <th>10</th>\n",
       "      <td>2022-01-12 15:34:18.911000+00:00</td>\n",
       "      <td>0 days 00:00:00</td>\n",
       "    </tr>\n",
       "    <tr>\n",
       "      <th>11</th>\n",
       "      <td>2022-03-05 16:00:00.822000+00:00</td>\n",
       "      <td>52 days 00:25:41.911000</td>\n",
       "    </tr>\n",
       "    <tr>\n",
       "      <th>9</th>\n",
       "      <td>2022-03-05 20:23:34.583000+00:00</td>\n",
       "      <td>0 days 04:23:33.761000</td>\n",
       "    </tr>\n",
       "    <tr>\n",
       "      <th>6</th>\n",
       "      <td>2022-03-07 07:15:12.051000+00:00</td>\n",
       "      <td>1 days 10:51:37.468000</td>\n",
       "    </tr>\n",
       "    <tr>\n",
       "      <th>7</th>\n",
       "      <td>2022-03-07 07:52:31.465000+00:00</td>\n",
       "      <td>0 days 00:37:19.414000</td>\n",
       "    </tr>\n",
       "    <tr>\n",
       "      <th>4</th>\n",
       "      <td>2022-03-07 08:24:40.937000+00:00</td>\n",
       "      <td>0 days 00:32:09.472000</td>\n",
       "    </tr>\n",
       "    <tr>\n",
       "      <th>5</th>\n",
       "      <td>2022-05-09 09:50:43.882000+00:00</td>\n",
       "      <td>63 days 01:26:02.945000</td>\n",
       "    </tr>\n",
       "    <tr>\n",
       "      <th>8</th>\n",
       "      <td>2022-05-10 06:57:04.671000+00:00</td>\n",
       "      <td>0 days 21:06:20.789000</td>\n",
       "    </tr>\n",
       "    <tr>\n",
       "      <th>12</th>\n",
       "      <td>2022-05-10 14:45:39.525000+00:00</td>\n",
       "      <td>0 days 07:48:34.854000</td>\n",
       "    </tr>\n",
       "    <tr>\n",
       "      <th>16</th>\n",
       "      <td>2022-05-11 06:42:18.649000+00:00</td>\n",
       "      <td>0 days 15:56:39.124000</td>\n",
       "    </tr>\n",
       "    <tr>\n",
       "      <th>14</th>\n",
       "      <td>2022-05-11 06:58:05.849000+00:00</td>\n",
       "      <td>0 days 00:15:47.200000</td>\n",
       "    </tr>\n",
       "    <tr>\n",
       "      <th>15</th>\n",
       "      <td>2022-05-11 06:59:03.619000+00:00</td>\n",
       "      <td>0 days 00:00:57.770000</td>\n",
       "    </tr>\n",
       "    <tr>\n",
       "      <th>17</th>\n",
       "      <td>2022-05-11 07:00:10.908000+00:00</td>\n",
       "      <td>0 days 00:01:07.289000</td>\n",
       "    </tr>\n",
       "    <tr>\n",
       "      <th>19</th>\n",
       "      <td>2022-05-11 07:40:26.784000+00:00</td>\n",
       "      <td>0 days 00:40:15.876000</td>\n",
       "    </tr>\n",
       "    <tr>\n",
       "      <th>22</th>\n",
       "      <td>2022-05-11 07:41:23.017000+00:00</td>\n",
       "      <td>0 days 00:00:56.233000</td>\n",
       "    </tr>\n",
       "    <tr>\n",
       "      <th>20</th>\n",
       "      <td>2022-05-11 07:41:23.160000+00:00</td>\n",
       "      <td>0 days 00:00:00.143000</td>\n",
       "    </tr>\n",
       "    <tr>\n",
       "      <th>21</th>\n",
       "      <td>2022-05-11 07:41:31.708000+00:00</td>\n",
       "      <td>0 days 00:00:08.548000</td>\n",
       "    </tr>\n",
       "    <tr>\n",
       "      <th>18</th>\n",
       "      <td>2022-05-11 08:34:25.716000+00:00</td>\n",
       "      <td>0 days 00:52:54.008000</td>\n",
       "    </tr>\n",
       "    <tr>\n",
       "      <th>13</th>\n",
       "      <td>2022-05-12 12:05:01.125000+00:00</td>\n",
       "      <td>1 days 03:30:35.409000</td>\n",
       "    </tr>\n",
       "  </tbody>\n",
       "</table>\n",
       "</div>"
      ],
      "text/plain": [
       "                      session_start time_since_last_session\n",
       "10 2022-01-12 15:34:18.911000+00:00         0 days 00:00:00\n",
       "11 2022-03-05 16:00:00.822000+00:00 52 days 00:25:41.911000\n",
       "9  2022-03-05 20:23:34.583000+00:00  0 days 04:23:33.761000\n",
       "6  2022-03-07 07:15:12.051000+00:00  1 days 10:51:37.468000\n",
       "7  2022-03-07 07:52:31.465000+00:00  0 days 00:37:19.414000\n",
       "4  2022-03-07 08:24:40.937000+00:00  0 days 00:32:09.472000\n",
       "5  2022-05-09 09:50:43.882000+00:00 63 days 01:26:02.945000\n",
       "8  2022-05-10 06:57:04.671000+00:00  0 days 21:06:20.789000\n",
       "12 2022-05-10 14:45:39.525000+00:00  0 days 07:48:34.854000\n",
       "16 2022-05-11 06:42:18.649000+00:00  0 days 15:56:39.124000\n",
       "14 2022-05-11 06:58:05.849000+00:00  0 days 00:15:47.200000\n",
       "15 2022-05-11 06:59:03.619000+00:00  0 days 00:00:57.770000\n",
       "17 2022-05-11 07:00:10.908000+00:00  0 days 00:01:07.289000\n",
       "19 2022-05-11 07:40:26.784000+00:00  0 days 00:40:15.876000\n",
       "22 2022-05-11 07:41:23.017000+00:00  0 days 00:00:56.233000\n",
       "20 2022-05-11 07:41:23.160000+00:00  0 days 00:00:00.143000\n",
       "21 2022-05-11 07:41:31.708000+00:00  0 days 00:00:08.548000\n",
       "18 2022-05-11 08:34:25.716000+00:00  0 days 00:52:54.008000\n",
       "13 2022-05-12 12:05:01.125000+00:00  1 days 03:30:35.409000"
      ]
     },
     "execution_count": 21,
     "metadata": {},
     "output_type": "execute_result"
    }
   ],
   "source": [
    "#Vérification pour un utilisateur donné, le début de toutes ses sessions ordonné et l'écart avec la dernière session\n",
    "sm_df[sm_df['user_id']==66337.0].sort_values(by='session_start',ascending=True)[['session_start','time_since_last_session']]"
   ]
  },
  {
   "cell_type": "code",
   "execution_count": 22,
   "id": "b5737b74",
   "metadata": {
    "ExecuteTime": {
     "end_time": "2022-07-07T15:30:17.999030Z",
     "start_time": "2022-07-07T15:30:17.997425Z"
    }
   },
   "outputs": [],
   "source": [
    "#sm_df.groupby('user_id').agg({'time_since_last_session':'mean','setup_events':sum,'game_events':sum,'id':'count'})['id'].value_counts()"
   ]
  },
  {
   "cell_type": "code",
   "execution_count": 23,
   "id": "5d54ee63",
   "metadata": {
    "ExecuteTime": {
     "end_time": "2022-07-07T15:30:18.007778Z",
     "start_time": "2022-07-07T15:30:18.000217Z"
    }
   },
   "outputs": [
    {
     "data": {
      "text/plain": [
       "Timedelta('3 days 04:41:50.486608937')"
      ]
     },
     "execution_count": 23,
     "metadata": {},
     "output_type": "execute_result"
    }
   ],
   "source": [
    "#Durée moyenne entre deux sessions\n",
    "sm_df[sm_df['time_since_last_session']!=timedelta(0)]['time_since_last_session'].mean()"
   ]
  },
  {
   "cell_type": "code",
   "execution_count": 24,
   "id": "532183ea",
   "metadata": {
    "ExecuteTime": {
     "end_time": "2022-07-07T15:30:18.154467Z",
     "start_time": "2022-07-07T15:30:18.009523Z"
    }
   },
   "outputs": [],
   "source": [
    "#Conversion de la colonne time_since_last_session timedelta en timestampe[min]\n",
    "sm_df['time_since_last_session_min']=sm_df['time_since_last_session'].map(lambda x : x.total_seconds()/60)"
   ]
  },
  {
   "cell_type": "markdown",
   "id": "0f4278e3",
   "metadata": {},
   "source": [
    "**Ajout de la maturité au moment du début de la sessions**"
   ]
  },
  {
   "cell_type": "code",
   "execution_count": 25,
   "id": "e67d98f0",
   "metadata": {
    "ExecuteTime": {
     "end_time": "2022-07-07T15:30:18.276632Z",
     "start_time": "2022-07-07T15:30:18.155543Z"
    }
   },
   "outputs": [],
   "source": [
    "sm_df[\"week_maturity\"] =(sm_df[\"session_start\"]-sm_df[\"user_creation_time\"]).map(lambda x: int(np.ceil(x.days/7))+1)"
   ]
  },
  {
   "cell_type": "markdown",
   "id": "6e0f4e11",
   "metadata": {},
   "source": [
    "**Ajout du type d'utilisateur depuis la table user_augmented**"
   ]
  },
  {
   "cell_type": "code",
   "execution_count": 26,
   "id": "6aab4e6a",
   "metadata": {
    "ExecuteTime": {
     "end_time": "2022-07-07T15:30:18.280426Z",
     "start_time": "2022-07-07T15:30:18.277883Z"
    }
   },
   "outputs": [],
   "source": [
    "def extract_user_type(project,credentials):\n",
    "    # Construct a BigQuery client object.\n",
    "    client = bigquery.Client(project=project, credentials=credentials)\n",
    "\n",
    "    query = \"\"\"\n",
    "    SELECT Type, user_id\n",
    "    FROM `marbotic.marbotic_dataset.user_augmented`\n",
    "    \"\"\"\n",
    "\n",
    "    query_job = client.query(query)  # Make an API request.\n",
    "    results=query_job.result().to_dataframe() # Waits for job to complete.\n",
    "\n",
    "    return pd.DataFrame(results)"
   ]
  },
  {
   "cell_type": "code",
   "execution_count": 27,
   "id": "54333238",
   "metadata": {
    "ExecuteTime": {
     "end_time": "2022-07-07T15:30:20.109312Z",
     "start_time": "2022-07-07T15:30:18.281767Z"
    }
   },
   "outputs": [
    {
     "data": {
      "text/html": [
       "<div>\n",
       "<style scoped>\n",
       "    .dataframe tbody tr th:only-of-type {\n",
       "        vertical-align: middle;\n",
       "    }\n",
       "\n",
       "    .dataframe tbody tr th {\n",
       "        vertical-align: top;\n",
       "    }\n",
       "\n",
       "    .dataframe thead th {\n",
       "        text-align: right;\n",
       "    }\n",
       "</style>\n",
       "<table border=\"1\" class=\"dataframe\">\n",
       "  <thead>\n",
       "    <tr style=\"text-align: right;\">\n",
       "      <th></th>\n",
       "      <th>Type</th>\n",
       "      <th>user_id</th>\n",
       "    </tr>\n",
       "  </thead>\n",
       "  <tbody>\n",
       "    <tr>\n",
       "      <th>0</th>\n",
       "      <td>None</td>\n",
       "      <td>0</td>\n",
       "    </tr>\n",
       "    <tr>\n",
       "      <th>1</th>\n",
       "      <td>Parent</td>\n",
       "      <td>1220</td>\n",
       "    </tr>\n",
       "    <tr>\n",
       "      <th>2</th>\n",
       "      <td>Parent</td>\n",
       "      <td>1405</td>\n",
       "    </tr>\n",
       "    <tr>\n",
       "      <th>3</th>\n",
       "      <td>Parent</td>\n",
       "      <td>1957</td>\n",
       "    </tr>\n",
       "    <tr>\n",
       "      <th>4</th>\n",
       "      <td>Parent</td>\n",
       "      <td>2560</td>\n",
       "    </tr>\n",
       "    <tr>\n",
       "      <th>...</th>\n",
       "      <td>...</td>\n",
       "      <td>...</td>\n",
       "    </tr>\n",
       "    <tr>\n",
       "      <th>5249</th>\n",
       "      <td>Parent</td>\n",
       "      <td>73098</td>\n",
       "    </tr>\n",
       "    <tr>\n",
       "      <th>5250</th>\n",
       "      <td>Teacher</td>\n",
       "      <td>73127</td>\n",
       "    </tr>\n",
       "    <tr>\n",
       "      <th>5251</th>\n",
       "      <td>Teacher</td>\n",
       "      <td>73128</td>\n",
       "    </tr>\n",
       "    <tr>\n",
       "      <th>5252</th>\n",
       "      <td>Parent</td>\n",
       "      <td>73132</td>\n",
       "    </tr>\n",
       "    <tr>\n",
       "      <th>5253</th>\n",
       "      <td>Teacher</td>\n",
       "      <td>73183</td>\n",
       "    </tr>\n",
       "  </tbody>\n",
       "</table>\n",
       "<p>5254 rows × 2 columns</p>\n",
       "</div>"
      ],
      "text/plain": [
       "         Type  user_id\n",
       "0        None        0\n",
       "1      Parent     1220\n",
       "2      Parent     1405\n",
       "3      Parent     1957\n",
       "4      Parent     2560\n",
       "...       ...      ...\n",
       "5249   Parent    73098\n",
       "5250  Teacher    73127\n",
       "5251  Teacher    73128\n",
       "5252   Parent    73132\n",
       "5253  Teacher    73183\n",
       "\n",
       "[5254 rows x 2 columns]"
      ]
     },
     "execution_count": 27,
     "metadata": {},
     "output_type": "execute_result"
    }
   ],
   "source": [
    "user_type_df = extract_user_type(project,credentials)\n",
    "user_type_df"
   ]
  },
  {
   "cell_type": "code",
   "execution_count": 33,
   "id": "c932064e",
   "metadata": {
    "ExecuteTime": {
     "end_time": "2022-07-07T15:34:55.838725Z",
     "start_time": "2022-07-07T15:34:55.828262Z"
    }
   },
   "outputs": [],
   "source": [
    "user_type_df.drop_duplicates(subset='user_id',inplace=True)"
   ]
  },
  {
   "cell_type": "code",
   "execution_count": 35,
   "id": "a4bb3ff5",
   "metadata": {
    "ExecuteTime": {
     "end_time": "2022-07-07T15:35:23.639076Z",
     "start_time": "2022-07-07T15:35:23.611825Z"
    }
   },
   "outputs": [],
   "source": [
    "sm_df = sm_df.merge(user_type_df, on='user_id')"
   ]
  },
  {
   "cell_type": "code",
   "execution_count": 37,
   "id": "756a3e28",
   "metadata": {
    "ExecuteTime": {
     "end_time": "2022-07-07T15:35:35.960336Z",
     "start_time": "2022-07-07T15:35:35.786480Z"
    }
   },
   "outputs": [
    {
     "name": "stderr",
     "output_type": "stream",
     "text": [
      "/var/folders/c7/kdqvz76x679f28lhd235r_v40000gn/T/ipykernel_85788/258057669.py:2: UserWarning: Boolean Series key will be reindexed to match DataFrame index.\n",
      "  sm_df[sm_df['Type']=='Parent'][sm_df['time_since_last_session']!=timedelta(0)]['time_since_last_session'].mean()\n"
     ]
    },
    {
     "data": {
      "text/plain": [
       "Timedelta('3 days 10:11:01.818812509')"
      ]
     },
     "execution_count": 37,
     "metadata": {},
     "output_type": "execute_result"
    }
   ],
   "source": [
    "#Durée moyenne entre deux sessions pour les parents\n",
    "sm_df[sm_df['Type']=='Parent'][sm_df['time_since_last_session']!=timedelta(0)]['time_since_last_session'].mean()"
   ]
  },
  {
   "cell_type": "code",
   "execution_count": 38,
   "id": "eca33330",
   "metadata": {
    "ExecuteTime": {
     "end_time": "2022-07-07T15:35:35.964131Z",
     "start_time": "2022-07-07T15:35:35.961996Z"
    }
   },
   "outputs": [],
   "source": [
    "week_maturity = sm_df['week_maturity']\n",
    "min_last_session = sm_df['time_since_last_session_min']"
   ]
  },
  {
   "cell_type": "code",
   "execution_count": 39,
   "id": "1dfd8a7e",
   "metadata": {
    "ExecuteTime": {
     "end_time": "2022-07-07T15:35:35.991159Z",
     "start_time": "2022-07-07T15:35:35.965510Z"
    }
   },
   "outputs": [],
   "source": [
    "sm_df['session_start_day'] = sm_df['session_start'].apply(lambda x: x.weekday()+1)"
   ]
  },
  {
   "cell_type": "code",
   "execution_count": 40,
   "id": "13455a38",
   "metadata": {
    "ExecuteTime": {
     "end_time": "2022-07-07T15:35:35.997064Z",
     "start_time": "2022-07-07T15:35:35.993501Z"
    }
   },
   "outputs": [],
   "source": [
    "sm_df['session_start_month'] = sm_df['session_start'].apply(lambda x: x.month)"
   ]
  },
  {
   "cell_type": "code",
   "execution_count": 41,
   "id": "56a7f9f1",
   "metadata": {
    "ExecuteTime": {
     "end_time": "2022-07-07T15:35:36.099349Z",
     "start_time": "2022-07-07T15:35:35.998199Z"
    }
   },
   "outputs": [
    {
     "data": {
      "image/png": "[encoded data removed]",
      "text/plain": [
       "<Figure size 432x288 with 1 Axes>"
      ]
     },
     "metadata": {
      "needs_background": "light"
     },
     "output_type": "display_data"
    }
   ],
   "source": [
    "#Gros pic de session au mois de mars (= Merge de l'appli ? puis uniquement décroissance)\n",
    "sm_df[sm_df['Type']=='Parent'][['session_start_month']].hist();"
   ]
  },
  {
   "cell_type": "code",
   "execution_count": 42,
   "id": "bc7d3c56",
   "metadata": {
    "ExecuteTime": {
     "end_time": "2022-07-07T15:35:36.181604Z",
     "start_time": "2022-07-07T15:35:36.101150Z"
    }
   },
   "outputs": [
    {
     "data": {
      "image/png": "[encoded data removed]",
      "text/plain": [
       "<Figure size 432x288 with 1 Axes>"
      ]
     },
     "metadata": {
      "needs_background": "light"
     },
     "output_type": "display_data"
    }
   ],
   "source": [
    "#On ne retrouve pas la saisonalité hebdomadaire annoncée\n",
    "sm_df[sm_df['Type']=='Parent'][['session_start_day']].hist();"
   ]
  },
  {
   "cell_type": "code",
   "execution_count": 43,
   "id": "850c15b4",
   "metadata": {
    "ExecuteTime": {
     "end_time": "2022-07-07T15:35:36.680974Z",
     "start_time": "2022-07-07T15:35:36.183256Z"
    }
   },
   "outputs": [
    {
     "data": {
      "image/png": "[encoded data removed]",
      "text/plain": [
       "<Figure size 1080x720 with 1 Axes>"
      ]
     },
     "metadata": {
      "needs_background": "light"
     },
     "output_type": "display_data"
    }
   ],
   "source": [
    "plt.figure(figsize=(15, 10))\n",
    "\n",
    "sns.scatterplot(x=week_maturity,y=min_last_session,alpha=0.4,hue=sm_df['Type'])\n",
    "\n",
    "plt.axhline(30240, ls='--', linewidth=1.5, color='red')\n",
    "plt.text(92,30240, \"3 semaines depuis la dernière session\")\n",
    "\n",
    "plt.axhline(21160, ls='--', linewidth=1.5, color='red')\n",
    "plt.text(92,21160, \"2 semaines depuis la dernière session\")\n",
    "\n",
    "plt.axhline(10080, ls='--', linewidth=1.5, color='red')\n",
    "plt.text(92,10080, \"1 semaines depuis la dernière session\")\n",
    "\n",
    "plt.show()"
   ]
  },
  {
   "cell_type": "code",
   "execution_count": 44,
   "id": "c3f637a1",
   "metadata": {
    "ExecuteTime": {
     "end_time": "2022-07-07T15:35:37.145078Z",
     "start_time": "2022-07-07T15:35:36.682057Z"
    }
   },
   "outputs": [
    {
     "data": {
      "image/png": "[encoded data removed]",
      "text/plain": [
       "<Figure size 1080x720 with 1 Axes>"
      ]
     },
     "metadata": {
      "needs_background": "light"
     },
     "output_type": "display_data"
    }
   ],
   "source": [
    "plt.figure(figsize=(15, 10))\n",
    "\n",
    "sns.scatterplot(x=week_maturity,y=sm_df['good_answer_ratio'],alpha=0.4,hue=sm_df['Type'])\n",
    "\n",
    "#plt.axhline(30240, ls='--', linewidth=1.5, color='red')\n",
    "#plt.text(92,30240, \"3 semaines depuis la dernière session\")\n",
    "\n",
    "#plt.axhline(21160, ls='--', linewidth=1.5, color='red')\n",
    "#plt.text(92,21160, \"2 semaines depuis la dernière session\")\n",
    "\n",
    "#plt.axhline(10080, ls='--', linewidth=1.5, color='red')\n",
    "#plt.text(92,10080, \"1 semaines depuis la dernière session\")\n",
    "#plt.ylim(0,100)\n",
    "plt.show()"
   ]
  },
  {
   "cell_type": "code",
   "execution_count": 45,
   "id": "7b6644a5",
   "metadata": {
    "ExecuteTime": {
     "end_time": "2022-07-07T15:35:37.153260Z",
     "start_time": "2022-07-07T15:35:37.146290Z"
    }
   },
   "outputs": [],
   "source": [
    "#On drope la colone time_since_last_session en timedelta car incompatbile BQ\n",
    "sm_df.drop('time_since_last_session',axis=1,inplace=True)"
   ]
  },
  {
   "cell_type": "markdown",
   "id": "406188eb",
   "metadata": {},
   "source": [
    "## Correlation"
   ]
  },
  {
   "cell_type": "code",
   "execution_count": 46,
   "id": "2531c611",
   "metadata": {
    "ExecuteTime": {
     "end_time": "2022-07-07T15:35:38.714096Z",
     "start_time": "2022-07-07T15:35:37.156570Z"
    }
   },
   "outputs": [
    {
     "data": {
      "image/png": "[encoded data removed]",
      "text/plain": [
       "<Figure size 432x288 with 2 Axes>"
      ]
     },
     "metadata": {
      "needs_background": "light"
     },
     "output_type": "display_data"
    }
   ],
   "source": [
    "# Heatmap\n",
    "corr = sm_df.corr()\n",
    "sns.heatmap(corr, \n",
    "        xticklabels=corr.columns,\n",
    "        yticklabels=corr.columns,\n",
    "        cmap= \"YlGnBu\");"
   ]
  },
  {
   "cell_type": "code",
   "execution_count": 47,
   "id": "ebb0d854",
   "metadata": {
    "ExecuteTime": {
     "end_time": "2022-07-07T15:35:38.725023Z",
     "start_time": "2022-07-07T15:35:38.715258Z"
    }
   },
   "outputs": [
    {
     "data": {
      "text/html": [
       "<div>\n",
       "<style scoped>\n",
       "    .dataframe tbody tr th:only-of-type {\n",
       "        vertical-align: middle;\n",
       "    }\n",
       "\n",
       "    .dataframe tbody tr th {\n",
       "        vertical-align: top;\n",
       "    }\n",
       "\n",
       "    .dataframe thead th {\n",
       "        text-align: right;\n",
       "    }\n",
       "</style>\n",
       "<table border=\"1\" class=\"dataframe\">\n",
       "  <thead>\n",
       "    <tr style=\"text-align: right;\">\n",
       "      <th></th>\n",
       "      <th>feature_1</th>\n",
       "      <th>feature_2</th>\n",
       "      <th>correlation</th>\n",
       "    </tr>\n",
       "  </thead>\n",
       "  <tbody>\n",
       "    <tr>\n",
       "      <th>4574</th>\n",
       "      <td>event_type_Toast_Disappear</td>\n",
       "      <td>event_type_Toast_Appear</td>\n",
       "      <td>0.990477</td>\n",
       "    </tr>\n",
       "    <tr>\n",
       "      <th>4501</th>\n",
       "      <td>event_type_Toast_Appear</td>\n",
       "      <td>event_type_Toast_Disappear</td>\n",
       "      <td>0.990477</td>\n",
       "    </tr>\n",
       "    <tr>\n",
       "      <th>2626</th>\n",
       "      <td>event_type_OB_ProductActivation</td>\n",
       "      <td>event_type_OB_ProductHelp</td>\n",
       "      <td>0.951273</td>\n",
       "    </tr>\n",
       "    <tr>\n",
       "      <th>2699</th>\n",
       "      <td>event_type_OB_ProductHelp</td>\n",
       "      <td>event_type_OB_ProductActivation</td>\n",
       "      <td>0.951273</td>\n",
       "    </tr>\n",
       "    <tr>\n",
       "      <th>4589</th>\n",
       "      <td>game_events</td>\n",
       "      <td>id</td>\n",
       "      <td>0.941049</td>\n",
       "    </tr>\n",
       "    <tr>\n",
       "      <th>136</th>\n",
       "      <td>id</td>\n",
       "      <td>game_events</td>\n",
       "      <td>0.941049</td>\n",
       "    </tr>\n",
       "    <tr>\n",
       "      <th>5402</th>\n",
       "      <td>session_start_month</td>\n",
       "      <td>session_id</td>\n",
       "      <td>0.934344</td>\n",
       "    </tr>\n",
       "    <tr>\n",
       "      <th>73</th>\n",
       "      <td>session_id</td>\n",
       "      <td>session_start_month</td>\n",
       "      <td>0.934344</td>\n",
       "    </tr>\n",
       "    <tr>\n",
       "      <th>4647</th>\n",
       "      <td>game_events</td>\n",
       "      <td>event_type_Scene_Leave</td>\n",
       "      <td>0.933703</td>\n",
       "    </tr>\n",
       "    <tr>\n",
       "      <th>4428</th>\n",
       "      <td>event_type_Scene_Leave</td>\n",
       "      <td>game_events</td>\n",
       "      <td>0.933703</td>\n",
       "    </tr>\n",
       "    <tr>\n",
       "      <th>3149</th>\n",
       "      <td>event_type_OB_ProfileName</td>\n",
       "      <td>event_type_OB_ProfileBirthdate</td>\n",
       "      <td>0.921720</td>\n",
       "    </tr>\n",
       "    <tr>\n",
       "      <th>3076</th>\n",
       "      <td>event_type_OB_ProfileBirthdate</td>\n",
       "      <td>event_type_OB_ProfileName</td>\n",
       "      <td>0.921720</td>\n",
       "    </tr>\n",
       "    <tr>\n",
       "      <th>2026</th>\n",
       "      <td>event_type_OB_DoYouHaveKit</td>\n",
       "      <td>event_type_OB_Email</td>\n",
       "      <td>0.884152</td>\n",
       "    </tr>\n",
       "    <tr>\n",
       "      <th>2099</th>\n",
       "      <td>event_type_OB_Email</td>\n",
       "      <td>event_type_OB_DoYouHaveKit</td>\n",
       "      <td>0.884152</td>\n",
       "    </tr>\n",
       "    <tr>\n",
       "      <th>2777</th>\n",
       "      <td>event_type_OB_ProductOther</td>\n",
       "      <td>event_type_OB_ProductSeeMore</td>\n",
       "      <td>0.883772</td>\n",
       "    </tr>\n",
       "    <tr>\n",
       "      <th>2923</th>\n",
       "      <td>event_type_OB_ProductSeeMore</td>\n",
       "      <td>event_type_OB_ProductOther</td>\n",
       "      <td>0.883772</td>\n",
       "    </tr>\n",
       "    <tr>\n",
       "      <th>3751</th>\n",
       "      <td>event_type_Popup_Close</td>\n",
       "      <td>event_type_Popup_Open</td>\n",
       "      <td>0.883707</td>\n",
       "    </tr>\n",
       "    <tr>\n",
       "      <th>3824</th>\n",
       "      <td>event_type_Popup_Open</td>\n",
       "      <td>event_type_Popup_Close</td>\n",
       "      <td>0.883707</td>\n",
       "    </tr>\n",
       "    <tr>\n",
       "      <th>4367</th>\n",
       "      <td>event_type_Scene_Leave</td>\n",
       "      <td>id</td>\n",
       "      <td>0.882874</td>\n",
       "    </tr>\n",
       "    <tr>\n",
       "      <th>133</th>\n",
       "      <td>id</td>\n",
       "      <td>event_type_Scene_Leave</td>\n",
       "      <td>0.882874</td>\n",
       "    </tr>\n",
       "  </tbody>\n",
       "</table>\n",
       "</div>"
      ],
      "text/plain": [
       "                            feature_1                        feature_2  \\\n",
       "4574       event_type_Toast_Disappear          event_type_Toast_Appear   \n",
       "4501          event_type_Toast_Appear       event_type_Toast_Disappear   \n",
       "2626  event_type_OB_ProductActivation        event_type_OB_ProductHelp   \n",
       "2699        event_type_OB_ProductHelp  event_type_OB_ProductActivation   \n",
       "4589                      game_events                               id   \n",
       "136                                id                      game_events   \n",
       "5402              session_start_month                       session_id   \n",
       "73                         session_id              session_start_month   \n",
       "4647                      game_events           event_type_Scene_Leave   \n",
       "4428           event_type_Scene_Leave                      game_events   \n",
       "3149        event_type_OB_ProfileName   event_type_OB_ProfileBirthdate   \n",
       "3076   event_type_OB_ProfileBirthdate        event_type_OB_ProfileName   \n",
       "2026       event_type_OB_DoYouHaveKit              event_type_OB_Email   \n",
       "2099              event_type_OB_Email       event_type_OB_DoYouHaveKit   \n",
       "2777       event_type_OB_ProductOther     event_type_OB_ProductSeeMore   \n",
       "2923     event_type_OB_ProductSeeMore       event_type_OB_ProductOther   \n",
       "3751           event_type_Popup_Close            event_type_Popup_Open   \n",
       "3824            event_type_Popup_Open           event_type_Popup_Close   \n",
       "4367           event_type_Scene_Leave                               id   \n",
       "133                                id           event_type_Scene_Leave   \n",
       "\n",
       "      correlation  \n",
       "4574     0.990477  \n",
       "4501     0.990477  \n",
       "2626     0.951273  \n",
       "2699     0.951273  \n",
       "4589     0.941049  \n",
       "136      0.941049  \n",
       "5402     0.934344  \n",
       "73       0.934344  \n",
       "4647     0.933703  \n",
       "4428     0.933703  \n",
       "3149     0.921720  \n",
       "3076     0.921720  \n",
       "2026     0.884152  \n",
       "2099     0.884152  \n",
       "2777     0.883772  \n",
       "2923     0.883772  \n",
       "3751     0.883707  \n",
       "3824     0.883707  \n",
       "4367     0.882874  \n",
       "133      0.882874  "
      ]
     },
     "execution_count": 47,
     "metadata": {},
     "output_type": "execute_result"
    }
   ],
   "source": [
    "corr_df = corr.unstack().reset_index() # Unstack correlation matrix \n",
    "corr_df.columns = ['feature_1','feature_2', 'correlation'] # rename columns\n",
    "corr_df.sort_values(by=\"correlation\",ascending=False, inplace=True) # sort by correlation\n",
    "corr_df = corr_df[corr_df['feature_1'] != corr_df['feature_2']] # Remove self correlation\n",
    "corr_df.head(20)"
   ]
  },
  {
   "cell_type": "code",
   "execution_count": 48,
   "id": "35fd5874",
   "metadata": {
    "ExecuteTime": {
     "end_time": "2022-07-07T15:35:38.736049Z",
     "start_time": "2022-07-07T15:35:38.726575Z"
    }
   },
   "outputs": [
    {
     "name": "stderr",
     "output_type": "stream",
     "text": [
      "/var/folders/c7/kdqvz76x679f28lhd235r_v40000gn/T/ipykernel_85788/4073438736.py:1: DeprecationWarning: `np.bool` is a deprecated alias for the builtin `bool`. To silence this warning, use `bool` by itself. Doing this will not modify any behavior and is safe. If you specifically wanted the numpy scalar type, use `np.bool_` here.\n",
      "Deprecated in NumPy 1.20; for more details and guidance: https://numpy.org/devdocs/release/1.20.0-notes.html#deprecations\n",
      "  upper = corr.where(np.triu(np.ones(corr.shape), k=1).astype(np.bool))\n"
     ]
    }
   ],
   "source": [
    "upper = corr.where(np.triu(np.ones(corr.shape), k=1).astype(np.bool))\n",
    "to_drop = [column for column in upper.columns if any(upper[column] > 0.9)]"
   ]
  },
  {
   "cell_type": "code",
   "execution_count": 49,
   "id": "837403ee",
   "metadata": {
    "ExecuteTime": {
     "end_time": "2022-07-07T15:35:38.740852Z",
     "start_time": "2022-07-07T15:35:38.737605Z"
    }
   },
   "outputs": [
    {
     "data": {
      "text/plain": [
       "['event_type_OB_ProductHelp',\n",
       " 'event_type_OB_ProfileName',\n",
       " 'event_type_Toast_Disappear',\n",
       " 'game_events',\n",
       " 'session_start_month']"
      ]
     },
     "execution_count": 49,
     "metadata": {},
     "output_type": "execute_result"
    }
   ],
   "source": [
    "to_drop"
   ]
  },
  {
   "cell_type": "markdown",
   "id": "d0291abe",
   "metadata": {
    "ExecuteTime": {
     "end_time": "2022-06-27T13:42:20.630716Z",
     "start_time": "2022-06-27T13:42:20.479884Z"
    }
   },
   "source": [
    "## Labelling"
   ]
  },
  {
   "cell_type": "code",
   "execution_count": 122,
   "id": "13a17f2c",
   "metadata": {
    "ExecuteTime": {
     "end_time": "2022-07-07T15:38:48.490175Z",
     "start_time": "2022-07-07T15:38:48.483967Z"
    }
   },
   "outputs": [],
   "source": [
    "#On considère le seuil de churn à 3 semaine.\n",
    "#On est en situation de churn si la session suivante arrive dans plus de 3 semaines.\n",
    "CHURN_THRESHOLD = timedelta(days=7)\n",
    "\n",
    "#On utilise une constante TODAY pour evaluer le risque de churn des dernières session.\n",
    "#Dans notre cas TODAY est le max de session end. On considère que l'extract s'arrète au moment de la dernière session de jeu dont on dispose\n",
    "TODAY = datetime(2022, 5, 13, 0, 0)"
   ]
  },
  {
   "cell_type": "code",
   "execution_count": 123,
   "id": "2c74139a",
   "metadata": {
    "ExecuteTime": {
     "end_time": "2022-07-07T15:38:51.576301Z",
     "start_time": "2022-07-07T15:38:51.571366Z"
    }
   },
   "outputs": [],
   "source": [
    "#sm_df[(sm_df['user_id']==65616.0)& ('2022-03-16 08:58:14.214000+00:00'<sm_df['session_end'])].sort_values(by='session_end',ascending=True).groupby('user_id').first()['session_start']"
   ]
  },
  {
   "cell_type": "code",
   "execution_count": 124,
   "id": "f11bfce4",
   "metadata": {
    "ExecuteTime": {
     "end_time": "2022-07-07T15:38:51.591857Z",
     "start_time": "2022-07-07T15:38:51.582275Z"
    }
   },
   "outputs": [],
   "source": [
    "#On calcul le temps jusqu'à la prochaine sessions si superieur au seuil de churn. Label_risque de churn = 1\n",
    "def labelling_churn(user_id,session_end,session_start,CHURN_THRESHOLD,today):\n",
    "    next_session = sm_df[(sm_df['user_id']==user_id) & (session_end<sm_df['session_end'])]\\\n",
    "    .sort_values(by='session_end',ascending=True)\\\n",
    "    .groupby('user_id').first()['session_start']\n",
    "    if len(next_session.values) == 0:\n",
    "        if today - session_start.to_pydatetime().replace(tzinfo=None)> CHURN_THRESHOLD :\n",
    "            return 1\n",
    "        else:\n",
    "            return 0\n",
    "    else:\n",
    "        delta = (next_session - session_end)\n",
    "        if delta.iloc[0] < CHURN_THRESHOLD:\n",
    "            return 0\n",
    "        else:\n",
    "            return 1"
   ]
  },
  {
   "cell_type": "code",
   "execution_count": 125,
   "id": "4184b58a",
   "metadata": {
    "ExecuteTime": {
     "end_time": "2022-07-07T15:39:33.162492Z",
     "start_time": "2022-07-07T15:38:51.594276Z"
    }
   },
   "outputs": [],
   "source": [
    "sm_df['churn_risk'] = sm_df.apply(lambda x:labelling_churn(x.user_id,x.session_end,x.session_start,CHURN_THRESHOLD,TODAY), axis=1)"
   ]
  },
  {
   "cell_type": "code",
   "execution_count": 126,
   "id": "9d8a865a",
   "metadata": {
    "ExecuteTime": {
     "end_time": "2022-07-07T15:39:33.171569Z",
     "start_time": "2022-07-07T15:39:33.164449Z"
    }
   },
   "outputs": [
    {
     "data": {
      "text/html": [
       "<div>\n",
       "<style scoped>\n",
       "    .dataframe tbody tr th:only-of-type {\n",
       "        vertical-align: middle;\n",
       "    }\n",
       "\n",
       "    .dataframe tbody tr th {\n",
       "        vertical-align: top;\n",
       "    }\n",
       "\n",
       "    .dataframe thead th {\n",
       "        text-align: right;\n",
       "    }\n",
       "</style>\n",
       "<table border=\"1\" class=\"dataframe\">\n",
       "  <thead>\n",
       "    <tr style=\"text-align: right;\">\n",
       "      <th></th>\n",
       "      <th>session_start</th>\n",
       "      <th>time_since_last_session_min</th>\n",
       "      <th>churn_risk</th>\n",
       "    </tr>\n",
       "  </thead>\n",
       "  <tbody>\n",
       "    <tr>\n",
       "      <th>10</th>\n",
       "      <td>2022-01-12 15:34:18.911000+00:00</td>\n",
       "      <td>0.000000</td>\n",
       "      <td>1</td>\n",
       "    </tr>\n",
       "    <tr>\n",
       "      <th>11</th>\n",
       "      <td>2022-03-05 16:00:00.822000+00:00</td>\n",
       "      <td>74905.698517</td>\n",
       "      <td>0</td>\n",
       "    </tr>\n",
       "    <tr>\n",
       "      <th>9</th>\n",
       "      <td>2022-03-05 20:23:34.583000+00:00</td>\n",
       "      <td>263.562683</td>\n",
       "      <td>0</td>\n",
       "    </tr>\n",
       "    <tr>\n",
       "      <th>6</th>\n",
       "      <td>2022-03-07 07:15:12.051000+00:00</td>\n",
       "      <td>2091.624467</td>\n",
       "      <td>0</td>\n",
       "    </tr>\n",
       "    <tr>\n",
       "      <th>7</th>\n",
       "      <td>2022-03-07 07:52:31.465000+00:00</td>\n",
       "      <td>37.323567</td>\n",
       "      <td>0</td>\n",
       "    </tr>\n",
       "    <tr>\n",
       "      <th>4</th>\n",
       "      <td>2022-03-07 08:24:40.937000+00:00</td>\n",
       "      <td>32.157867</td>\n",
       "      <td>1</td>\n",
       "    </tr>\n",
       "    <tr>\n",
       "      <th>5</th>\n",
       "      <td>2022-05-09 09:50:43.882000+00:00</td>\n",
       "      <td>90806.049083</td>\n",
       "      <td>0</td>\n",
       "    </tr>\n",
       "    <tr>\n",
       "      <th>8</th>\n",
       "      <td>2022-05-10 06:57:04.671000+00:00</td>\n",
       "      <td>1266.346483</td>\n",
       "      <td>0</td>\n",
       "    </tr>\n",
       "    <tr>\n",
       "      <th>12</th>\n",
       "      <td>2022-05-10 14:45:39.525000+00:00</td>\n",
       "      <td>468.580900</td>\n",
       "      <td>0</td>\n",
       "    </tr>\n",
       "    <tr>\n",
       "      <th>16</th>\n",
       "      <td>2022-05-11 06:42:18.649000+00:00</td>\n",
       "      <td>956.652067</td>\n",
       "      <td>0</td>\n",
       "    </tr>\n",
       "    <tr>\n",
       "      <th>14</th>\n",
       "      <td>2022-05-11 06:58:05.849000+00:00</td>\n",
       "      <td>15.786667</td>\n",
       "      <td>0</td>\n",
       "    </tr>\n",
       "    <tr>\n",
       "      <th>15</th>\n",
       "      <td>2022-05-11 06:59:03.619000+00:00</td>\n",
       "      <td>0.962833</td>\n",
       "      <td>0</td>\n",
       "    </tr>\n",
       "    <tr>\n",
       "      <th>17</th>\n",
       "      <td>2022-05-11 07:00:10.908000+00:00</td>\n",
       "      <td>1.121483</td>\n",
       "      <td>0</td>\n",
       "    </tr>\n",
       "    <tr>\n",
       "      <th>19</th>\n",
       "      <td>2022-05-11 07:40:26.784000+00:00</td>\n",
       "      <td>40.264600</td>\n",
       "      <td>0</td>\n",
       "    </tr>\n",
       "    <tr>\n",
       "      <th>22</th>\n",
       "      <td>2022-05-11 07:41:23.017000+00:00</td>\n",
       "      <td>0.937217</td>\n",
       "      <td>0</td>\n",
       "    </tr>\n",
       "    <tr>\n",
       "      <th>20</th>\n",
       "      <td>2022-05-11 07:41:23.160000+00:00</td>\n",
       "      <td>0.002383</td>\n",
       "      <td>0</td>\n",
       "    </tr>\n",
       "    <tr>\n",
       "      <th>21</th>\n",
       "      <td>2022-05-11 07:41:31.708000+00:00</td>\n",
       "      <td>0.142467</td>\n",
       "      <td>0</td>\n",
       "    </tr>\n",
       "    <tr>\n",
       "      <th>18</th>\n",
       "      <td>2022-05-11 08:34:25.716000+00:00</td>\n",
       "      <td>52.900133</td>\n",
       "      <td>0</td>\n",
       "    </tr>\n",
       "    <tr>\n",
       "      <th>13</th>\n",
       "      <td>2022-05-12 12:05:01.125000+00:00</td>\n",
       "      <td>1650.590150</td>\n",
       "      <td>0</td>\n",
       "    </tr>\n",
       "  </tbody>\n",
       "</table>\n",
       "</div>"
      ],
      "text/plain": [
       "                      session_start  time_since_last_session_min  churn_risk\n",
       "10 2022-01-12 15:34:18.911000+00:00                     0.000000           1\n",
       "11 2022-03-05 16:00:00.822000+00:00                 74905.698517           0\n",
       "9  2022-03-05 20:23:34.583000+00:00                   263.562683           0\n",
       "6  2022-03-07 07:15:12.051000+00:00                  2091.624467           0\n",
       "7  2022-03-07 07:52:31.465000+00:00                    37.323567           0\n",
       "4  2022-03-07 08:24:40.937000+00:00                    32.157867           1\n",
       "5  2022-05-09 09:50:43.882000+00:00                 90806.049083           0\n",
       "8  2022-05-10 06:57:04.671000+00:00                  1266.346483           0\n",
       "12 2022-05-10 14:45:39.525000+00:00                   468.580900           0\n",
       "16 2022-05-11 06:42:18.649000+00:00                   956.652067           0\n",
       "14 2022-05-11 06:58:05.849000+00:00                    15.786667           0\n",
       "15 2022-05-11 06:59:03.619000+00:00                     0.962833           0\n",
       "17 2022-05-11 07:00:10.908000+00:00                     1.121483           0\n",
       "19 2022-05-11 07:40:26.784000+00:00                    40.264600           0\n",
       "22 2022-05-11 07:41:23.017000+00:00                     0.937217           0\n",
       "20 2022-05-11 07:41:23.160000+00:00                     0.002383           0\n",
       "21 2022-05-11 07:41:31.708000+00:00                     0.142467           0\n",
       "18 2022-05-11 08:34:25.716000+00:00                    52.900133           0\n",
       "13 2022-05-12 12:05:01.125000+00:00                  1650.590150           0"
      ]
     },
     "execution_count": 126,
     "metadata": {},
     "output_type": "execute_result"
    }
   ],
   "source": [
    "#Vérification du label de churn sur l'utilisateur déja vérifié plus haut.\n",
    "sm_df[sm_df['user_id']==66337.0].sort_values(by='session_start',ascending=True)[['session_start','time_since_last_session_min','churn_risk']]"
   ]
  },
  {
   "cell_type": "code",
   "execution_count": 127,
   "id": "cd10bf3f",
   "metadata": {
    "ExecuteTime": {
     "end_time": "2022-07-07T15:39:33.181293Z",
     "start_time": "2022-07-07T15:39:33.172662Z"
    }
   },
   "outputs": [
    {
     "data": {
      "text/plain": [
       "0    11532\n",
       "1     3457\n",
       "Name: churn_risk, dtype: int64"
      ]
     },
     "execution_count": 127,
     "metadata": {},
     "output_type": "execute_result"
    }
   ],
   "source": [
    "sm_df[sm_df['Type']=='Parent']['churn_risk'].value_counts()"
   ]
  },
  {
   "cell_type": "code",
   "execution_count": 128,
   "id": "afaddf7e",
   "metadata": {
    "ExecuteTime": {
     "end_time": "2022-07-07T15:39:33.186040Z",
     "start_time": "2022-07-07T15:39:33.182702Z"
    }
   },
   "outputs": [
    {
     "data": {
      "text/plain": [
       "12.680941898472417"
      ]
     },
     "execution_count": 128,
     "metadata": {},
     "output_type": "execute_result"
    }
   ],
   "source": [
    "(1901/(13090+1901))*100"
   ]
  },
  {
   "cell_type": "code",
   "execution_count": 129,
   "id": "c296e6f8",
   "metadata": {
    "ExecuteTime": {
     "end_time": "2022-07-07T15:39:33.194082Z",
     "start_time": "2022-07-07T15:39:33.187421Z"
    }
   },
   "outputs": [
    {
     "data": {
      "text/plain": [
       "0    3264\n",
       "1     559\n",
       "Name: churn_risk, dtype: int64"
      ]
     },
     "execution_count": 129,
     "metadata": {},
     "output_type": "execute_result"
    }
   ],
   "source": [
    "sm_df[sm_df['Type']=='Teacher']['churn_risk'].value_counts()"
   ]
  },
  {
   "cell_type": "code",
   "execution_count": 130,
   "id": "2a6e0ee8",
   "metadata": {
    "ExecuteTime": {
     "end_time": "2022-07-07T15:39:33.198076Z",
     "start_time": "2022-07-07T15:39:33.195272Z"
    }
   },
   "outputs": [
    {
     "data": {
      "text/plain": [
       "8.603556485355648"
      ]
     },
     "execution_count": 130,
     "metadata": {},
     "output_type": "execute_result"
    }
   ],
   "source": [
    "(329/(329+3495))*100"
   ]
  },
  {
   "cell_type": "markdown",
   "id": "a5cae13c",
   "metadata": {},
   "source": [
    "## Cleaning"
   ]
  },
  {
   "cell_type": "code",
   "execution_count": 131,
   "id": "d76e9eba",
   "metadata": {
    "ExecuteTime": {
     "end_time": "2022-07-07T15:39:33.230135Z",
     "start_time": "2022-07-07T15:39:33.199450Z"
    }
   },
   "outputs": [
    {
     "data": {
      "text/plain": [
       "0"
      ]
     },
     "execution_count": 131,
     "metadata": {},
     "output_type": "execute_result"
    }
   ],
   "source": [
    "#No duplicates\n",
    "sm_df.duplicated().sum()"
   ]
  },
  {
   "cell_type": "code",
   "execution_count": 132,
   "id": "371d6e5f",
   "metadata": {
    "ExecuteTime": {
     "end_time": "2022-07-07T15:39:33.253763Z",
     "start_time": "2022-07-07T15:39:33.233517Z"
    }
   },
   "outputs": [
    {
     "data": {
      "text/plain": [
       "session_id                                           0.0\n",
       "event_type_OB_Success                                0.0\n",
       "event_type_Profile_Reset_Settings_and_Progression    0.0\n",
       "event_type_Profile_Delete                            0.0\n",
       "event_type_Profile_Create                            0.0\n",
       "event_type_Popup_Open                                0.0\n",
       "event_type_Popup_Close                               0.0\n",
       "event_type_OB_VerifCode                              0.0\n",
       "event_type_OB_Type                                   0.0\n",
       "event_type_OB_TrialStart                             0.0\n",
       "dtype: float64"
      ]
     },
     "execution_count": 132,
     "metadata": {},
     "output_type": "execute_result"
    }
   ],
   "source": [
    "((sm_df.isnull().sum().sort_values(ascending=False)/len(sm_df))*100).head(10)"
   ]
  },
  {
   "cell_type": "markdown",
   "id": "cde28a34",
   "metadata": {},
   "source": [
    "good_answer_ratio Nan correspond to session with no event type answer. On remplace les Nan par -1"
   ]
  },
  {
   "cell_type": "code",
   "execution_count": 133,
   "id": "9f6bd93d",
   "metadata": {
    "ExecuteTime": {
     "end_time": "2022-07-07T15:39:33.262987Z",
     "start_time": "2022-07-07T15:39:33.254999Z"
    }
   },
   "outputs": [],
   "source": [
    "answer_ratio_imputer = SimpleImputer(strategy='constant',fill_value=-1)\n",
    "sm_df['good_answer_ratio'] = answer_ratio_imputer.fit_transform(sm_df[['good_answer_ratio']])"
   ]
  },
  {
   "cell_type": "code",
   "execution_count": 134,
   "id": "ee30ca05",
   "metadata": {
    "ExecuteTime": {
     "end_time": "2022-07-07T15:39:34.859389Z",
     "start_time": "2022-07-07T15:39:33.264133Z"
    }
   },
   "outputs": [
    {
     "ename": "KeyError",
     "evalue": "'Action_Element_Name'",
     "output_type": "error",
     "traceback": [
      "\u001b[0;31m---------------------------------------------------------------------------\u001b[0m",
      "\u001b[0;31mKeyError\u001b[0m                                  Traceback (most recent call last)",
      "File \u001b[0;32m~/.pyenv/versions/3.8.13/envs/marbotic/lib/python3.8/site-packages/pandas/core/indexes/base.py:3621\u001b[0m, in \u001b[0;36mIndex.get_loc\u001b[0;34m(self, key, method, tolerance)\u001b[0m\n\u001b[1;32m   3620\u001b[0m \u001b[38;5;28;01mtry\u001b[39;00m:\n\u001b[0;32m-> 3621\u001b[0m     \u001b[38;5;28;01mreturn\u001b[39;00m \u001b[38;5;28;43mself\u001b[39;49m\u001b[38;5;241;43m.\u001b[39;49m\u001b[43m_engine\u001b[49m\u001b[38;5;241;43m.\u001b[39;49m\u001b[43mget_loc\u001b[49m\u001b[43m(\u001b[49m\u001b[43mcasted_key\u001b[49m\u001b[43m)\u001b[49m\n\u001b[1;32m   3622\u001b[0m \u001b[38;5;28;01mexcept\u001b[39;00m \u001b[38;5;167;01mKeyError\u001b[39;00m \u001b[38;5;28;01mas\u001b[39;00m err:\n",
      "File \u001b[0;32mpandas/_libs/index.pyx:136\u001b[0m, in \u001b[0;36mpandas._libs.index.IndexEngine.get_loc\u001b[0;34m()\u001b[0m\n",
      "File \u001b[0;32mpandas/_libs/index.pyx:163\u001b[0m, in \u001b[0;36mpandas._libs.index.IndexEngine.get_loc\u001b[0;34m()\u001b[0m\n",
      "File \u001b[0;32mpandas/_libs/hashtable_class_helper.pxi:5198\u001b[0m, in \u001b[0;36mpandas._libs.hashtable.PyObjectHashTable.get_item\u001b[0;34m()\u001b[0m\n",
      "File \u001b[0;32mpandas/_libs/hashtable_class_helper.pxi:5206\u001b[0m, in \u001b[0;36mpandas._libs.hashtable.PyObjectHashTable.get_item\u001b[0;34m()\u001b[0m\n",
      "\u001b[0;31mKeyError\u001b[0m: 'Action_Element_Name'",
      "\nThe above exception was the direct cause of the following exception:\n",
      "\u001b[0;31mKeyError\u001b[0m                                  Traceback (most recent call last)",
      "Input \u001b[0;32mIn [134]\u001b[0m, in \u001b[0;36m<cell line: 2>\u001b[0;34m()\u001b[0m\n\u001b[1;32m      1\u001b[0m \u001b[38;5;66;03m#34% de Nan, on drop cette colonne tant qu'on n'a pas d'information supplémentaire sur la signification des Nan\u001b[39;00m\n\u001b[0;32m----> 2\u001b[0m \u001b[43msm_df\u001b[49m\u001b[43m[\u001b[49m\u001b[38;5;124;43m'\u001b[39;49m\u001b[38;5;124;43mAction_Element_Name\u001b[39;49m\u001b[38;5;124;43m'\u001b[39;49m\u001b[43m]\u001b[49m\u001b[38;5;241m.\u001b[39mvalue_counts()\n",
      "File \u001b[0;32m~/.pyenv/versions/3.8.13/envs/marbotic/lib/python3.8/site-packages/pandas/core/frame.py:3505\u001b[0m, in \u001b[0;36mDataFrame.__getitem__\u001b[0;34m(self, key)\u001b[0m\n\u001b[1;32m   3503\u001b[0m \u001b[38;5;28;01mif\u001b[39;00m \u001b[38;5;28mself\u001b[39m\u001b[38;5;241m.\u001b[39mcolumns\u001b[38;5;241m.\u001b[39mnlevels \u001b[38;5;241m>\u001b[39m \u001b[38;5;241m1\u001b[39m:\n\u001b[1;32m   3504\u001b[0m     \u001b[38;5;28;01mreturn\u001b[39;00m \u001b[38;5;28mself\u001b[39m\u001b[38;5;241m.\u001b[39m_getitem_multilevel(key)\n\u001b[0;32m-> 3505\u001b[0m indexer \u001b[38;5;241m=\u001b[39m \u001b[38;5;28;43mself\u001b[39;49m\u001b[38;5;241;43m.\u001b[39;49m\u001b[43mcolumns\u001b[49m\u001b[38;5;241;43m.\u001b[39;49m\u001b[43mget_loc\u001b[49m\u001b[43m(\u001b[49m\u001b[43mkey\u001b[49m\u001b[43m)\u001b[49m\n\u001b[1;32m   3506\u001b[0m \u001b[38;5;28;01mif\u001b[39;00m is_integer(indexer):\n\u001b[1;32m   3507\u001b[0m     indexer \u001b[38;5;241m=\u001b[39m [indexer]\n",
      "File \u001b[0;32m~/.pyenv/versions/3.8.13/envs/marbotic/lib/python3.8/site-packages/pandas/core/indexes/base.py:3623\u001b[0m, in \u001b[0;36mIndex.get_loc\u001b[0;34m(self, key, method, tolerance)\u001b[0m\n\u001b[1;32m   3621\u001b[0m     \u001b[38;5;28;01mreturn\u001b[39;00m \u001b[38;5;28mself\u001b[39m\u001b[38;5;241m.\u001b[39m_engine\u001b[38;5;241m.\u001b[39mget_loc(casted_key)\n\u001b[1;32m   3622\u001b[0m \u001b[38;5;28;01mexcept\u001b[39;00m \u001b[38;5;167;01mKeyError\u001b[39;00m \u001b[38;5;28;01mas\u001b[39;00m err:\n\u001b[0;32m-> 3623\u001b[0m     \u001b[38;5;28;01mraise\u001b[39;00m \u001b[38;5;167;01mKeyError\u001b[39;00m(key) \u001b[38;5;28;01mfrom\u001b[39;00m \u001b[38;5;21;01merr\u001b[39;00m\n\u001b[1;32m   3624\u001b[0m \u001b[38;5;28;01mexcept\u001b[39;00m \u001b[38;5;167;01mTypeError\u001b[39;00m:\n\u001b[1;32m   3625\u001b[0m     \u001b[38;5;66;03m# If we have a listlike key, _check_indexing_error will raise\u001b[39;00m\n\u001b[1;32m   3626\u001b[0m     \u001b[38;5;66;03m#  InvalidIndexError. Otherwise we fall through and re-raise\u001b[39;00m\n\u001b[1;32m   3627\u001b[0m     \u001b[38;5;66;03m#  the TypeError.\u001b[39;00m\n\u001b[1;32m   3628\u001b[0m     \u001b[38;5;28mself\u001b[39m\u001b[38;5;241m.\u001b[39m_check_indexing_error(key)\n",
      "\u001b[0;31mKeyError\u001b[0m: 'Action_Element_Name'"
     ]
    }
   ],
   "source": [
    "#34% de Nan, on drop cette colonne tant qu'on n'a pas d'information supplémentaire sur la signification des Nan\n",
    "sm_df['Action_Element_Name'].value_counts()"
   ]
  },
  {
   "cell_type": "code",
   "execution_count": null,
   "id": "669221c6",
   "metadata": {
    "ExecuteTime": {
     "end_time": "2022-07-07T15:39:34.863506Z",
     "start_time": "2022-07-07T15:39:34.863497Z"
    }
   },
   "outputs": [],
   "source": [
    "sm_df.drop('Action_Element_Name',axis=1,inplace=True)"
   ]
  },
  {
   "cell_type": "code",
   "execution_count": 135,
   "id": "557d6c69",
   "metadata": {
    "ExecuteTime": {
     "end_time": "2022-07-07T15:40:05.462475Z",
     "start_time": "2022-07-07T15:40:05.425410Z"
    }
   },
   "outputs": [],
   "source": [
    "#Pour Profile_Age_days(17%), Time_Spent(0.03) on remplace par la médiane car un énorme outlier(-2911184.0) et 3341 valeur = -1\n",
    "med_imputer = SimpleImputer(strategy='median')\n",
    "sm_df['Profile_Age_days'] = med_imputer.fit_transform(sm_df[['Profile_Age_days']])\n",
    "sm_df['Time_Spent'] = med_imputer.fit_transform(sm_df[['Time_Spent']])"
   ]
  },
  {
   "cell_type": "code",
   "execution_count": 136,
   "id": "51fbcba0",
   "metadata": {
    "ExecuteTime": {
     "end_time": "2022-07-07T15:40:07.979640Z",
     "start_time": "2022-07-07T15:40:07.955201Z"
    }
   },
   "outputs": [],
   "source": [
    "#Pour Type, il manque une valeur on remplace par most frequent\n",
    "mmost_freq_imputer = SimpleImputer(missing_values=None,strategy='most_frequent')\n",
    "sm_df['Type'] = mmost_freq_imputer.fit_transform(sm_df[['Type']])"
   ]
  },
  {
   "cell_type": "code",
   "execution_count": 137,
   "id": "512b6f2e",
   "metadata": {
    "ExecuteTime": {
     "end_time": "2022-07-07T15:40:08.011048Z",
     "start_time": "2022-07-07T15:40:07.982366Z"
    }
   },
   "outputs": [
    {
     "data": {
      "text/plain": [
       "session_id                                           0.0\n",
       "event_type_OB_Success                                0.0\n",
       "event_type_Profile_Reset_Settings_and_Progression    0.0\n",
       "event_type_Profile_Delete                            0.0\n",
       "event_type_Profile_Create                            0.0\n",
       "event_type_Popup_Open                                0.0\n",
       "event_type_Popup_Close                               0.0\n",
       "event_type_OB_VerifCode                              0.0\n",
       "event_type_OB_Type                                   0.0\n",
       "event_type_OB_TrialStart                             0.0\n",
       "dtype: float64"
      ]
     },
     "execution_count": 137,
     "metadata": {},
     "output_type": "execute_result"
    }
   ],
   "source": [
    "((sm_df.isnull().sum().sort_values(ascending=False)/len(sm_df))*100).head(10)"
   ]
  },
  {
   "cell_type": "markdown",
   "id": "46757fa8",
   "metadata": {},
   "source": [
    "**Traitement des outliers extremes**"
   ]
  },
  {
   "cell_type": "code",
   "execution_count": 138,
   "id": "6761a898",
   "metadata": {
    "ExecuteTime": {
     "end_time": "2022-07-07T15:40:08.019470Z",
     "start_time": "2022-07-07T15:40:08.012496Z"
    }
   },
   "outputs": [
    {
     "data": {
      "text/plain": [
       "Time_Spent    837348.0\n",
       "dtype: float64"
      ]
     },
     "execution_count": 138,
     "metadata": {},
     "output_type": "execute_result"
    }
   ],
   "source": [
    "# A controle Time_spent max, Profile_Age_days min\n",
    "#On supprime la session avec le time_spent = 17162486.0 de user_id = 23370.0 \n",
    "#Il a 70 sessions avec une médiane de Time_spent 7571\n",
    "sm_df[['Time_Spent']].max()"
   ]
  },
  {
   "cell_type": "code",
   "execution_count": 139,
   "id": "20c203c1",
   "metadata": {
    "ExecuteTime": {
     "end_time": "2022-07-07T15:40:08.024256Z",
     "start_time": "2022-07-07T15:40:08.021650Z"
    }
   },
   "outputs": [
    {
     "data": {
      "text/plain": [
       "(18812, 86)"
      ]
     },
     "execution_count": 139,
     "metadata": {},
     "output_type": "execute_result"
    }
   ],
   "source": [
    "sm_df.shape"
   ]
  },
  {
   "cell_type": "code",
   "execution_count": 140,
   "id": "f4143eac",
   "metadata": {
    "ExecuteTime": {
     "end_time": "2022-07-07T15:40:08.031861Z",
     "start_time": "2022-07-07T15:40:08.025646Z"
    }
   },
   "outputs": [],
   "source": [
    "sm_df.drop(axis=0,index=sm_df[sm_df['Time_Spent']==17162486.0].index,inplace=True)"
   ]
  },
  {
   "cell_type": "code",
   "execution_count": 141,
   "id": "d1aa608b",
   "metadata": {
    "ExecuteTime": {
     "end_time": "2022-07-07T15:40:08.044321Z",
     "start_time": "2022-07-07T15:40:08.033230Z"
    }
   },
   "outputs": [],
   "source": [
    "#On supprime 2 autres lignes avec Time_Spent > 1 000 000 Cela concerne le même utilsateur qui a 20 sessions\n",
    "sm_df.drop(axis=0,index=sm_df[sm_df['Time_Spent']==2190329.0].index,inplace=True)\n",
    "sm_df.drop(axis=0,index=sm_df[sm_df['Time_Spent']==1093473.0].index,inplace=True)"
   ]
  },
  {
   "cell_type": "code",
   "execution_count": 142,
   "id": "219c1aac",
   "metadata": {
    "ExecuteTime": {
     "end_time": "2022-07-07T15:40:08.052549Z",
     "start_time": "2022-07-07T15:40:08.045998Z"
    }
   },
   "outputs": [],
   "source": [
    "# On supprime l'utilisateur avec un age énorme négatif. Session unique user_creation_time : 27-22-2021\n",
    "sm_df.drop(axis=0,index=sm_df[sm_df['Profile_Age_days']==-2911184.0].index,inplace=True)"
   ]
  },
  {
   "cell_type": "markdown",
   "id": "1eb366fe",
   "metadata": {},
   "source": [
    "## processing des colonnes"
   ]
  },
  {
   "cell_type": "code",
   "execution_count": 143,
   "id": "f5581adc",
   "metadata": {
    "ExecuteTime": {
     "end_time": "2022-07-07T15:40:08.061654Z",
     "start_time": "2022-07-07T15:40:08.053780Z"
    }
   },
   "outputs": [
    {
     "data": {
      "text/html": [
       "<div>\n",
       "<style scoped>\n",
       "    .dataframe tbody tr th:only-of-type {\n",
       "        vertical-align: middle;\n",
       "    }\n",
       "\n",
       "    .dataframe tbody tr th {\n",
       "        vertical-align: top;\n",
       "    }\n",
       "\n",
       "    .dataframe thead th {\n",
       "        text-align: right;\n",
       "    }\n",
       "</style>\n",
       "<table border=\"1\" class=\"dataframe\">\n",
       "  <thead>\n",
       "    <tr style=\"text-align: right;\">\n",
       "      <th></th>\n",
       "      <th>city</th>\n",
       "      <th>language</th>\n",
       "      <th>os_version</th>\n",
       "      <th>region</th>\n",
       "      <th>country</th>\n",
       "      <th>device_model</th>\n",
       "      <th>start_version</th>\n",
       "      <th>Type</th>\n",
       "    </tr>\n",
       "  </thead>\n",
       "  <tbody>\n",
       "    <tr>\n",
       "      <th>0</th>\n",
       "      <td>Certines</td>\n",
       "      <td>French</td>\n",
       "      <td>15.3.1</td>\n",
       "      <td>Ain</td>\n",
       "      <td>France</td>\n",
       "      <td>iPad11,6</td>\n",
       "      <td>1.0.1</td>\n",
       "      <td>Teacher</td>\n",
       "    </tr>\n",
       "    <tr>\n",
       "      <th>1</th>\n",
       "      <td>Certines</td>\n",
       "      <td>French</td>\n",
       "      <td>15.1</td>\n",
       "      <td>Ain</td>\n",
       "      <td>France</td>\n",
       "      <td>iPad11,6</td>\n",
       "      <td>1.0.1</td>\n",
       "      <td>Teacher</td>\n",
       "    </tr>\n",
       "    <tr>\n",
       "      <th>2</th>\n",
       "      <td>Certines</td>\n",
       "      <td>French</td>\n",
       "      <td>15.3.1</td>\n",
       "      <td>Ain</td>\n",
       "      <td>France</td>\n",
       "      <td>iPad11,6</td>\n",
       "      <td>1.0.1</td>\n",
       "      <td>Teacher</td>\n",
       "    </tr>\n",
       "    <tr>\n",
       "      <th>3</th>\n",
       "      <td>Certines</td>\n",
       "      <td>French</td>\n",
       "      <td>15.1</td>\n",
       "      <td>Ain</td>\n",
       "      <td>France</td>\n",
       "      <td>iPad11,6</td>\n",
       "      <td>1.0.1</td>\n",
       "      <td>Teacher</td>\n",
       "    </tr>\n",
       "    <tr>\n",
       "      <th>4</th>\n",
       "      <td>Izernore</td>\n",
       "      <td>French</td>\n",
       "      <td>15.2</td>\n",
       "      <td>Ain</td>\n",
       "      <td>France</td>\n",
       "      <td>iPad 6</td>\n",
       "      <td>1.0.3</td>\n",
       "      <td>Teacher</td>\n",
       "    </tr>\n",
       "    <tr>\n",
       "      <th>...</th>\n",
       "      <td>...</td>\n",
       "      <td>...</td>\n",
       "      <td>...</td>\n",
       "      <td>...</td>\n",
       "      <td>...</td>\n",
       "      <td>...</td>\n",
       "      <td>...</td>\n",
       "      <td>...</td>\n",
       "    </tr>\n",
       "    <tr>\n",
       "      <th>18811</th>\n",
       "      <td>Kensington</td>\n",
       "      <td>English</td>\n",
       "      <td>15.1</td>\n",
       "      <td>Royal Kensington and Chelsea</td>\n",
       "      <td>United Kingdom</td>\n",
       "      <td>iPad12,1</td>\n",
       "      <td>1.0.5</td>\n",
       "      <td>Parent</td>\n",
       "    </tr>\n",
       "    <tr>\n",
       "      <th>18812</th>\n",
       "      <td>Hamburg</td>\n",
       "      <td>English</td>\n",
       "      <td>14.6</td>\n",
       "      <td>Free and Hanseatic City of Hamburg</td>\n",
       "      <td>Germany</td>\n",
       "      <td>iPad Pro</td>\n",
       "      <td>4.1.3</td>\n",
       "      <td>Parent</td>\n",
       "    </tr>\n",
       "    <tr>\n",
       "      <th>18813</th>\n",
       "      <td>Hamburg</td>\n",
       "      <td>English</td>\n",
       "      <td>14.6</td>\n",
       "      <td>Free and Hanseatic City of Hamburg</td>\n",
       "      <td>Germany</td>\n",
       "      <td>iPad Pro</td>\n",
       "      <td>4.1.3</td>\n",
       "      <td>Parent</td>\n",
       "    </tr>\n",
       "    <tr>\n",
       "      <th>18814</th>\n",
       "      <td>Hamburg</td>\n",
       "      <td>English</td>\n",
       "      <td>14.6</td>\n",
       "      <td>Free and Hanseatic City of Hamburg</td>\n",
       "      <td>Germany</td>\n",
       "      <td>iPad Pro</td>\n",
       "      <td>4.1.3</td>\n",
       "      <td>Parent</td>\n",
       "    </tr>\n",
       "    <tr>\n",
       "      <th>18815</th>\n",
       "      <td>Hamburg</td>\n",
       "      <td>German</td>\n",
       "      <td>15.4.1</td>\n",
       "      <td>Free and Hanseatic City of Hamburg</td>\n",
       "      <td>Germany</td>\n",
       "      <td>iPad8,11</td>\n",
       "      <td>4.2.0</td>\n",
       "      <td>Parent</td>\n",
       "    </tr>\n",
       "  </tbody>\n",
       "</table>\n",
       "<p>18812 rows × 8 columns</p>\n",
       "</div>"
      ],
      "text/plain": [
       "             city language os_version                              region  \\\n",
       "0        Certines   French     15.3.1                                 Ain   \n",
       "1        Certines   French       15.1                                 Ain   \n",
       "2        Certines   French     15.3.1                                 Ain   \n",
       "3        Certines   French       15.1                                 Ain   \n",
       "4        Izernore   French       15.2                                 Ain   \n",
       "...           ...      ...        ...                                 ...   \n",
       "18811  Kensington  English       15.1        Royal Kensington and Chelsea   \n",
       "18812     Hamburg  English       14.6  Free and Hanseatic City of Hamburg   \n",
       "18813     Hamburg  English       14.6  Free and Hanseatic City of Hamburg   \n",
       "18814     Hamburg  English       14.6  Free and Hanseatic City of Hamburg   \n",
       "18815     Hamburg   German     15.4.1  Free and Hanseatic City of Hamburg   \n",
       "\n",
       "              country device_model start_version     Type  \n",
       "0              France     iPad11,6         1.0.1  Teacher  \n",
       "1              France     iPad11,6         1.0.1  Teacher  \n",
       "2              France     iPad11,6         1.0.1  Teacher  \n",
       "3              France     iPad11,6         1.0.1  Teacher  \n",
       "4              France       iPad 6         1.0.3  Teacher  \n",
       "...               ...          ...           ...      ...  \n",
       "18811  United Kingdom     iPad12,1         1.0.5   Parent  \n",
       "18812         Germany     iPad Pro         4.1.3   Parent  \n",
       "18813         Germany     iPad Pro         4.1.3   Parent  \n",
       "18814         Germany     iPad Pro         4.1.3   Parent  \n",
       "18815         Germany     iPad8,11         4.2.0   Parent  \n",
       "\n",
       "[18812 rows x 8 columns]"
      ]
     },
     "execution_count": 143,
     "metadata": {},
     "output_type": "execute_result"
    }
   ],
   "source": [
    "sm_df.select_dtypes(include='object')"
   ]
  },
  {
   "cell_type": "code",
   "execution_count": 144,
   "id": "c30e636e",
   "metadata": {
    "ExecuteTime": {
     "end_time": "2022-07-07T15:40:08.066240Z",
     "start_time": "2022-07-07T15:40:08.063112Z"
    }
   },
   "outputs": [],
   "source": [
    "class CustomOHE(OneHotEncoder):\n",
    "    def fit(self, *args, **kwargs):\n",
    "        return super().fit(*args, **kwargs) \n",
    "    \n",
    "    def transform(self,*args, **kwargs):\n",
    "        return pd.DataFrame(super().transform(*args, **kwargs), columns=self.get_feature_names_out())\n",
    "\n",
    "    def fit_transform(self,*args, **kwargs):\n",
    "        return pd.DataFrame(super().fit_transform(*args, **kwargs), columns=self.get_feature_names_out())"
   ]
  },
  {
   "cell_type": "code",
   "execution_count": 145,
   "id": "8aba5117",
   "metadata": {
    "ExecuteTime": {
     "end_time": "2022-07-07T15:40:08.073862Z",
     "start_time": "2022-07-07T15:40:08.069445Z"
    }
   },
   "outputs": [],
   "source": [
    "cat_transformer = CustomOHE(sparse = False, handle_unknown = \"ignore\", drop='if_binary')\n",
    "cat_selection = sm_df[['Type']].columns"
   ]
  },
  {
   "cell_type": "code",
   "execution_count": 146,
   "id": "85cad84d",
   "metadata": {
    "ExecuteTime": {
     "end_time": "2022-07-07T15:40:08.078918Z",
     "start_time": "2022-07-07T15:40:08.075556Z"
    }
   },
   "outputs": [],
   "source": [
    "class CustomMinMaxScale(MinMaxScaler):\n",
    "    def fit(self, *args, **kwargs):\n",
    "        return super().fit(*args, **kwargs) \n",
    "    \n",
    "    def transform(self,*args, **kwargs):\n",
    "        return pd.DataFrame(super().transform(*args, **kwargs), columns=self.get_feature_names_out())\n",
    "\n",
    "    def fit_transform(self,*args, **kwargs):\n",
    "        return pd.DataFrame(super().fit_transform(*args, **kwargs), columns=self.get_feature_names_out())"
   ]
  },
  {
   "cell_type": "code",
   "execution_count": 147,
   "id": "f05d5104",
   "metadata": {
    "ExecuteTime": {
     "end_time": "2022-07-07T15:40:08.084279Z",
     "start_time": "2022-07-07T15:40:08.080341Z"
    }
   },
   "outputs": [],
   "source": [
    "#On retire des éléments très corrélés\n",
    "num_transformer = CustomMinMaxScale()\n",
    "num_selection = sm_df.select_dtypes(include=['float64','int64']).drop(['churn_risk','session_id','id','user_id','event_type_Toast_Disappear','event_type_OB_ProductHelp','event_type_OB_ProfileName'],axis=1).columns"
   ]
  },
  {
   "cell_type": "code",
   "execution_count": 148,
   "id": "65d4e3cc",
   "metadata": {
    "ExecuteTime": {
     "end_time": "2022-07-07T15:40:08.091312Z",
     "start_time": "2022-07-07T15:40:08.085561Z"
    }
   },
   "outputs": [],
   "source": [
    "class Cyclical_month_Encoder(BaseEstimator, TransformerMixin):\n",
    "    '''Custom transformer to convert month into cyclical encoding cos and sin'''\n",
    "    def _init_(self):\n",
    "        pass \n",
    "    \n",
    "    def fit(self, X,y=None):\n",
    "        return super().fit(*args, **kwargs) \n",
    "    \n",
    "    def transform(self, X,y=None):\n",
    "        X = pd.DataFrame(X)\n",
    "        df = pd.DataFrame()\n",
    "        cst = (2*np.pi/12)\n",
    "        df['month_cos'] = X.apply(lambda x: np.cos(cst*x))\n",
    "        df['month_sin'] = X.apply(lambda x: np.sin(cst*x))\n",
    "        return df\n",
    "    \n",
    "    def fit_transform(self, X,y=None):\n",
    "        X = pd.DataFrame(X)\n",
    "        df = pd.DataFrame()\n",
    "        cst = (2*np.pi/12)\n",
    "        df['month_cos'] = X.apply(lambda x: np.cos(cst*x))\n",
    "        df['month_sin'] = X.apply(lambda x: np.sin(cst*x))\n",
    "        return df\n",
    "    \n",
    "    def get_feature_names_out(self,X):\n",
    "        return 'month_cos','month_sin'"
   ]
  },
  {
   "cell_type": "code",
   "execution_count": 149,
   "id": "37e2a0ff",
   "metadata": {
    "ExecuteTime": {
     "end_time": "2022-07-07T15:40:08.095487Z",
     "start_time": "2022-07-07T15:40:08.092762Z"
    }
   },
   "outputs": [],
   "source": [
    "month_transformer = Cyclical_month_Encoder()\n",
    "month_selection = sm_df[['session_start_month']].columns"
   ]
  },
  {
   "cell_type": "code",
   "execution_count": 150,
   "id": "c999c9df",
   "metadata": {
    "ExecuteTime": {
     "end_time": "2022-07-07T15:40:08.100655Z",
     "start_time": "2022-07-07T15:40:08.097078Z"
    }
   },
   "outputs": [],
   "source": [
    "class Cyclical_day_Encoder(BaseEstimator, TransformerMixin):\n",
    "    '''Custom transformer to convert month into cyclical encoding cos and sin'''\n",
    "    def _init_(self):\n",
    "        pass \n",
    "    \n",
    "    def fit(self, X,y=None):\n",
    "        return self\n",
    "    \n",
    "    def transform(self, X,y=None):\n",
    "        X = pd.DataFrame(X)\n",
    "        df = pd.DataFrame()\n",
    "        cst = (2*np.pi/7)\n",
    "        df['day_cos'] = X.apply(lambda x: np.cos(cst*x))\n",
    "        df['day_sin'] = X.apply(lambda x: np.sin(cst*x))\n",
    "        return df\n",
    "    \n",
    "    def get_feature_names_out(self,X):\n",
    "        return 'day_cos','day_sin'"
   ]
  },
  {
   "cell_type": "code",
   "execution_count": 151,
   "id": "c8b3d525",
   "metadata": {
    "ExecuteTime": {
     "end_time": "2022-07-07T15:40:08.104866Z",
     "start_time": "2022-07-07T15:40:08.101888Z"
    }
   },
   "outputs": [],
   "source": [
    "day_transformer = Cyclical_day_Encoder()\n",
    "day_selection = sm_df[['session_start_day']].columns"
   ]
  },
  {
   "cell_type": "code",
   "execution_count": 152,
   "id": "135faaee",
   "metadata": {
    "ExecuteTime": {
     "end_time": "2022-07-07T15:40:08.109763Z",
     "start_time": "2022-07-07T15:40:08.106214Z"
    }
   },
   "outputs": [],
   "source": [
    "class CustomColumnTransformer(ColumnTransformer):\n",
    "    \n",
    "    def fit(self, *args, **kwargs):\n",
    "        return super().fit(*args, **kwargs)\n",
    "    \n",
    "    def transform(self, X, *args, **kwargs):\n",
    "        return pd.DataFrame(super().transform(X, *args, **kwargs), columns=self.get_feature_names_out())\n",
    "    \n",
    "    def fit_transform(self, X, *args, **kwargs):\n",
    "        return pd.DataFrame(super().fit_transform(X, *args, **kwargs), columns=self.get_feature_names_out())"
   ]
  },
  {
   "cell_type": "code",
   "execution_count": 153,
   "id": "e7a48214",
   "metadata": {
    "ExecuteTime": {
     "end_time": "2022-07-07T15:40:08.113747Z",
     "start_time": "2022-07-07T15:40:08.111034Z"
    }
   },
   "outputs": [
    {
     "data": {
      "text/plain": [
       "(18812, 86)"
      ]
     },
     "execution_count": 153,
     "metadata": {},
     "output_type": "execute_result"
    }
   ],
   "source": [
    "sm_df.shape"
   ]
  },
  {
   "cell_type": "code",
   "execution_count": 154,
   "id": "7c2e96d2",
   "metadata": {
    "ExecuteTime": {
     "end_time": "2022-07-07T15:40:08.118182Z",
     "start_time": "2022-07-07T15:40:08.115336Z"
    }
   },
   "outputs": [
    {
     "data": {
      "text/plain": [
       "71"
      ]
     },
     "execution_count": 154,
     "metadata": {},
     "output_type": "execute_result"
    }
   ],
   "source": [
    "len(num_selection) + len(cat_selection) + len(month_selection) + len(day_selection)"
   ]
  },
  {
   "cell_type": "code",
   "execution_count": 155,
   "id": "d11159c9",
   "metadata": {
    "ExecuteTime": {
     "end_time": "2022-07-07T15:40:08.121588Z",
     "start_time": "2022-07-07T15:40:08.119296Z"
    }
   },
   "outputs": [],
   "source": [
    "preprocessor = CustomColumnTransformer([\n",
    "    ('num_tr',num_transformer,num_selection),\n",
    "    ('cat_tr',cat_transformer,cat_selection ),\n",
    "    ('month_tr',month_transformer,month_selection ),\n",
    "    ('day_tr',day_transformer,day_selection )],\n",
    "    remainder = 'drop'\n",
    ")"
   ]
  },
  {
   "cell_type": "code",
   "execution_count": 156,
   "id": "f37472c5",
   "metadata": {
    "ExecuteTime": {
     "end_time": "2022-07-07T15:40:08.126552Z",
     "start_time": "2022-07-07T15:40:08.122762Z"
    }
   },
   "outputs": [
    {
     "data": {
      "text/plain": [
       "4016"
      ]
     },
     "execution_count": 156,
     "metadata": {},
     "output_type": "execute_result"
    }
   ],
   "source": [
    "sm_df['churn_risk'].value_counts()[1]"
   ]
  },
  {
   "cell_type": "markdown",
   "id": "936a545e",
   "metadata": {},
   "source": [
    "## Preparation du jeu de donnée"
   ]
  },
  {
   "cell_type": "markdown",
   "id": "42d64266",
   "metadata": {},
   "source": [
    "**On downsample les sessions sans churn risque pour en avoir autant que de churn risque**"
   ]
  },
  {
   "cell_type": "code",
   "execution_count": 157,
   "id": "f2921d37",
   "metadata": {
    "ExecuteTime": {
     "end_time": "2022-07-07T15:40:08.131107Z",
     "start_time": "2022-07-07T15:40:08.127894Z"
    }
   },
   "outputs": [],
   "source": [
    "def downsample_churn_risk(df):\n",
    "    sm_df_churn_risque = df[df['churn_risk']==1]\n",
    "    sm_df_no_churn_risque = df[df['churn_risk']==0]\n",
    "    sm_df_no_churn_risque = sm_df_no_churn_risque.loc\\\n",
    "    [np.random.choice(sm_df_no_churn_risque.index,size = sm_df_churn_risque.shape[0])]\n",
    "    \n",
    "    sm_df_balanced = pd.concat([sm_df_no_churn_risque,sm_df_churn_risque],axis=0)\n",
    "    X= sm_df_balanced.drop('churn_risk',axis=1).copy()\n",
    "    y = sm_df_balanced['churn_risk'].copy()\n",
    "    return X,y"
   ]
  },
  {
   "cell_type": "code",
   "execution_count": 158,
   "id": "7d910846",
   "metadata": {
    "ExecuteTime": {
     "end_time": "2022-07-07T15:40:08.151722Z",
     "start_time": "2022-07-07T15:40:08.132910Z"
    }
   },
   "outputs": [],
   "source": [
    "X,y = downsample_churn_risk(sm_df)"
   ]
  },
  {
   "cell_type": "markdown",
   "id": "4ca6fcd3",
   "metadata": {},
   "source": [
    "On sépare le jeu de donnée en train et test"
   ]
  },
  {
   "cell_type": "code",
   "execution_count": 159,
   "id": "77d10786",
   "metadata": {
    "ExecuteTime": {
     "end_time": "2022-07-07T15:40:08.159827Z",
     "start_time": "2022-07-07T15:40:08.153129Z"
    }
   },
   "outputs": [],
   "source": [
    "X_train, X_test, y_train, y_test = train_test_split(X, y, test_size=0.30)"
   ]
  },
  {
   "cell_type": "markdown",
   "id": "d4e1c833",
   "metadata": {},
   "source": [
    "## Feature selection"
   ]
  },
  {
   "cell_type": "code",
   "execution_count": 160,
   "id": "0bbd7c20",
   "metadata": {
    "ExecuteTime": {
     "end_time": "2022-07-07T15:40:08.180867Z",
     "start_time": "2022-07-07T15:40:08.161159Z"
    }
   },
   "outputs": [],
   "source": [
    "X_feature_sel = pd.DataFrame(preprocessor.fit_transform(X_train))"
   ]
  },
  {
   "cell_type": "code",
   "execution_count": 161,
   "id": "33246898",
   "metadata": {
    "ExecuteTime": {
     "end_time": "2022-07-07T15:40:09.603460Z",
     "start_time": "2022-07-07T15:40:08.182513Z"
    },
    "scrolled": true
   },
   "outputs": [
    {
     "name": "stderr",
     "output_type": "stream",
     "text": [
      "/Users/antonin/.pyenv/versions/3.8.13/envs/marbotic/lib/python3.8/site-packages/sklearn/linear_model/_logistic.py:444: ConvergenceWarning: lbfgs failed to converge (status=1):\n",
      "STOP: TOTAL NO. of ITERATIONS REACHED LIMIT.\n",
      "\n",
      "Increase the number of iterations (max_iter) or scale the data as shown in:\n",
      "    https://scikit-learn.org/stable/modules/preprocessing.html\n",
      "Please also refer to the documentation for alternative solver options:\n",
      "    https://scikit-learn.org/stable/modules/linear_model.html#logistic-regression\n",
      "  n_iter_i = _check_optimize_result(\n"
     ]
    },
    {
     "data": {
      "text/html": [
       "<div>\n",
       "<style scoped>\n",
       "    .dataframe tbody tr th:only-of-type {\n",
       "        vertical-align: middle;\n",
       "    }\n",
       "\n",
       "    .dataframe tbody tr th {\n",
       "        vertical-align: top;\n",
       "    }\n",
       "\n",
       "    .dataframe thead th {\n",
       "        text-align: right;\n",
       "    }\n",
       "</style>\n",
       "<table border=\"1\" class=\"dataframe\">\n",
       "  <thead>\n",
       "    <tr style=\"text-align: right;\">\n",
       "      <th></th>\n",
       "      <th>feature</th>\n",
       "      <th>score decrease</th>\n",
       "    </tr>\n",
       "  </thead>\n",
       "  <tbody>\n",
       "    <tr>\n",
       "      <th>63</th>\n",
       "      <td>num_tr__previous_session</td>\n",
       "      <td>0.094575</td>\n",
       "    </tr>\n",
       "    <tr>\n",
       "      <th>67</th>\n",
       "      <td>num_tr__session_start_month</td>\n",
       "      <td>0.081323</td>\n",
       "    </tr>\n",
       "    <tr>\n",
       "      <th>69</th>\n",
       "      <td>month_tr__month_cos</td>\n",
       "      <td>0.05121</td>\n",
       "    </tr>\n",
       "    <tr>\n",
       "      <th>68</th>\n",
       "      <td>cat_tr__Type_Teacher</td>\n",
       "      <td>0.012576</td>\n",
       "    </tr>\n",
       "    <tr>\n",
       "      <th>64</th>\n",
       "      <td>num_tr__time_since_last_session_min</td>\n",
       "      <td>0.007649</td>\n",
       "    </tr>\n",
       "    <tr>\n",
       "      <th>...</th>\n",
       "      <td>...</td>\n",
       "      <td>...</td>\n",
       "    </tr>\n",
       "    <tr>\n",
       "      <th>56</th>\n",
       "      <td>num_tr__game_events</td>\n",
       "      <td>-0.001263</td>\n",
       "    </tr>\n",
       "    <tr>\n",
       "      <th>54</th>\n",
       "      <td>num_tr__event_type_Scene_Leave</td>\n",
       "      <td>-0.001797</td>\n",
       "    </tr>\n",
       "    <tr>\n",
       "      <th>12</th>\n",
       "      <td>num_tr__event_type_Activity_Good_Answer</td>\n",
       "      <td>-0.001832</td>\n",
       "    </tr>\n",
       "    <tr>\n",
       "      <th>72</th>\n",
       "      <td>day_tr__day_sin</td>\n",
       "      <td>-0.001921</td>\n",
       "    </tr>\n",
       "    <tr>\n",
       "      <th>71</th>\n",
       "      <td>day_tr__day_cos</td>\n",
       "      <td>-0.003593</td>\n",
       "    </tr>\n",
       "  </tbody>\n",
       "</table>\n",
       "<p>73 rows × 2 columns</p>\n",
       "</div>"
      ],
      "text/plain": [
       "                                    feature score decrease\n",
       "63                 num_tr__previous_session       0.094575\n",
       "67              num_tr__session_start_month       0.081323\n",
       "69                      month_tr__month_cos        0.05121\n",
       "68                     cat_tr__Type_Teacher       0.012576\n",
       "64      num_tr__time_since_last_session_min       0.007649\n",
       "..                                      ...            ...\n",
       "56                      num_tr__game_events      -0.001263\n",
       "54           num_tr__event_type_Scene_Leave      -0.001797\n",
       "12  num_tr__event_type_Activity_Good_Answer      -0.001832\n",
       "72                          day_tr__day_sin      -0.001921\n",
       "71                          day_tr__day_cos      -0.003593\n",
       "\n",
       "[73 rows x 2 columns]"
      ]
     },
     "execution_count": 161,
     "metadata": {},
     "output_type": "execute_result"
    }
   ],
   "source": [
    "#Permet d'obtenir l'importance des features au regard des autres\n",
    "#pour chaque modèle on l'entraine 10 fois en mélangeant les valeurs d'une colonne gardant toutes les autres identiques\n",
    " \n",
    "from sklearn.inspection import permutation_importance\n",
    "from sklearn.linear_model import LogisticRegression\n",
    "\n",
    "log_model = LogisticRegression().fit(X_feature_sel, y_train) # Fit model\n",
    "# on peut mettre un keyworld arg max_iter=1000, par défaut le modèle a une limite (100, à vérifier)\n",
    "\n",
    "permutation_score = permutation_importance(log_model, X_feature_sel, y_train, n_repeats=10) # Perform Permutation\n",
    "\n",
    "importance_df = pd.DataFrame(np.vstack((X_feature_sel.columns,\n",
    "                                        permutation_score.importances_mean)).T) # Unstack results\n",
    "importance_df.columns=['feature','score decrease']\n",
    "\n",
    "importance_df.sort_values(by=\"score decrease\", ascending = False) # Order by importance"
   ]
  },
  {
   "cell_type": "markdown",
   "id": "6554bcc4",
   "metadata": {},
   "source": [
    "**La méthode de feature permutation ne donne rien de pertinent**"
   ]
  },
  {
   "cell_type": "markdown",
   "id": "44948e9c",
   "metadata": {},
   "source": [
    "## Model"
   ]
  },
  {
   "cell_type": "code",
   "execution_count": 162,
   "id": "e13392de",
   "metadata": {
    "ExecuteTime": {
     "end_time": "2022-07-07T15:40:09.608096Z",
     "start_time": "2022-07-07T15:40:09.604757Z"
    }
   },
   "outputs": [],
   "source": [
    "class CustomSelectPercentile(SelectPercentile):\n",
    "    def fit(self, *args, **kwargs):\n",
    "        return super().fit(*args, **kwargs) \n",
    "    \n",
    "    def transform(self,*args, **kwargs):\n",
    "        return pd.DataFrame(super().transform(*args, **kwargs), columns=self.get_feature_names_out())\n",
    "\n",
    "    def fit_transform(self,*args, **kwargs):\n",
    "        return pd.DataFrame(super().fit_transform(*args, **kwargs), columns=self.get_feature_names_out())"
   ]
  },
  {
   "cell_type": "code",
   "execution_count": 163,
   "id": "3be30161",
   "metadata": {
    "ExecuteTime": {
     "end_time": "2022-07-07T15:40:09.617126Z",
     "start_time": "2022-07-07T15:40:09.614985Z"
    }
   },
   "outputs": [],
   "source": [
    "pipe = make_pipeline(preprocessor,CustomSelectPercentile(percentile=75), RandomForestClassifier())"
   ]
  },
  {
   "cell_type": "code",
   "execution_count": 164,
   "id": "ba9812cf",
   "metadata": {
    "ExecuteTime": {
     "end_time": "2022-07-07T15:40:09.664341Z",
     "start_time": "2022-07-07T15:40:09.618601Z"
    }
   },
   "outputs": [
    {
     "data": {
      "text/html": [
       "<style>#sk-container-id-4 {color: black;background-color: white;}#sk-container-id-4 pre{padding: 0;}#sk-container-id-4 div.sk-toggleable {background-color: white;}#sk-container-id-4 label.sk-toggleable__label {cursor: pointer;display: block;width: 100%;margin-bottom: 0;padding: 0.3em;box-sizing: border-box;text-align: center;}#sk-container-id-4 label.sk-toggleable__label-arrow:before {content: \"▸\";float: left;margin-right: 0.25em;color: #696969;}#sk-container-id-4 label.sk-toggleable__label-arrow:hover:before {color: black;}#sk-container-id-4 div.sk-estimator:hover label.sk-toggleable__label-arrow:before {color: black;}#sk-container-id-4 div.sk-toggleable__content {max-height: 0;max-width: 0;overflow: hidden;text-align: left;background-color: #f0f8ff;}#sk-container-id-4 div.sk-toggleable__content pre {margin: 0.2em;color: black;border-radius: 0.25em;background-color: #f0f8ff;}#sk-container-id-4 input.sk-toggleable__control:checked~div.sk-toggleable__content {max-height: 200px;max-width: 100%;overflow: auto;}#sk-container-id-4 input.sk-toggleable__control:checked~label.sk-toggleable__label-arrow:before {content: \"▾\";}#sk-container-id-4 div.sk-estimator input.sk-toggleable__control:checked~label.sk-toggleable__label {background-color: #d4ebff;}#sk-container-id-4 div.sk-label input.sk-toggleable__control:checked~label.sk-toggleable__label {background-color: #d4ebff;}#sk-container-id-4 input.sk-hidden--visually {border: 0;clip: rect(1px 1px 1px 1px);clip: rect(1px, 1px, 1px, 1px);height: 1px;margin: -1px;overflow: hidden;padding: 0;position: absolute;width: 1px;}#sk-container-id-4 div.sk-estimator {font-family: monospace;background-color: #f0f8ff;border: 1px dotted black;border-radius: 0.25em;box-sizing: border-box;margin-bottom: 0.5em;}#sk-container-id-4 div.sk-estimator:hover {background-color: #d4ebff;}#sk-container-id-4 div.sk-parallel-item::after {content: \"\";width: 100%;border-bottom: 1px solid gray;flex-grow: 1;}#sk-container-id-4 div.sk-label:hover label.sk-toggleable__label {background-color: #d4ebff;}#sk-container-id-4 div.sk-serial::before {content: \"\";position: absolute;border-left: 1px solid gray;box-sizing: border-box;top: 0;bottom: 0;left: 50%;z-index: 0;}#sk-container-id-4 div.sk-serial {display: flex;flex-direction: column;align-items: center;background-color: white;padding-right: 0.2em;padding-left: 0.2em;position: relative;}#sk-container-id-4 div.sk-item {position: relative;z-index: 1;}#sk-container-id-4 div.sk-parallel {display: flex;align-items: stretch;justify-content: center;background-color: white;position: relative;}#sk-container-id-4 div.sk-item::before, #sk-container-id-4 div.sk-parallel-item::before {content: \"\";position: absolute;border-left: 1px solid gray;box-sizing: border-box;top: 0;bottom: 0;left: 50%;z-index: -1;}#sk-container-id-4 div.sk-parallel-item {display: flex;flex-direction: column;z-index: 1;position: relative;background-color: white;}#sk-container-id-4 div.sk-parallel-item:first-child::after {align-self: flex-end;width: 50%;}#sk-container-id-4 div.sk-parallel-item:last-child::after {align-self: flex-start;width: 50%;}#sk-container-id-4 div.sk-parallel-item:only-child::after {width: 0;}#sk-container-id-4 div.sk-dashed-wrapped {border: 1px dashed gray;margin: 0 0.4em 0.5em 0.4em;box-sizing: border-box;padding-bottom: 0.4em;background-color: white;}#sk-container-id-4 div.sk-label label {font-family: monospace;font-weight: bold;display: inline-block;line-height: 1.2em;}#sk-container-id-4 div.sk-label-container {text-align: center;}#sk-container-id-4 div.sk-container {/* jupyter's `normalize.less` sets `[hidden] { display: none; }` but bootstrap.min.css set `[hidden] { display: none !important; }` so we also need the `!important` here to be able to override the default hidden behavior on the sphinx rendered scikit-learn.org. See: https://github.com/scikit-learn/scikit-learn/issues/21755 */display: inline-block !important;position: relative;}#sk-container-id-4 div.sk-text-repr-fallback {display: none;}</style><div id=\"sk-container-id-4\" class=\"sk-top-container\"><div class=\"sk-text-repr-fallback\"><pre>Pipeline(steps=[(&#x27;customcolumntransformer&#x27;,\n",
       "                 CustomColumnTransformer(transformers=[(&#x27;num_tr&#x27;,\n",
       "                                                        CustomMinMaxScale(),\n",
       "                                                        Index([&#x27;event_type_Account_Sign_In&#x27;, &#x27;event_type_Account_Sign_Out&#x27;,\n",
       "       &#x27;event_type_Account_Sign_Up&#x27;, &#x27;event_type_Account_Update_Request&#x27;,\n",
       "       &#x27;event_type_Account_Update_Success&#x27;, &#x27;event_type_Action_Click&#x27;,\n",
       "       &#x27;event_type_Action_ConversionClickRedeem&#x27;,\n",
       "       &#x27;eve...\n",
       "                                                                  handle_unknown=&#x27;ignore&#x27;,\n",
       "                                                                  sparse=False),\n",
       "                                                        Index([&#x27;Type&#x27;], dtype=&#x27;object&#x27;)),\n",
       "                                                       (&#x27;month_tr&#x27;,\n",
       "                                                        Cyclical_month_Encoder(),\n",
       "                                                        Index([&#x27;session_start_month&#x27;], dtype=&#x27;object&#x27;)),\n",
       "                                                       (&#x27;day_tr&#x27;,\n",
       "                                                        Cyclical_day_Encoder(),\n",
       "                                                        Index([&#x27;session_start_day&#x27;], dtype=&#x27;object&#x27;))])),\n",
       "                (&#x27;customselectpercentile&#x27;,\n",
       "                 CustomSelectPercentile(percentile=75)),\n",
       "                (&#x27;randomforestclassifier&#x27;, RandomForestClassifier())])</pre><b>In a Jupyter environment, please rerun this cell to show the HTML representation or trust the notebook. <br />On GitHub, the HTML representation is unable to render, please try loading this page with nbviewer.org.</b></div><div class=\"sk-container\" hidden><div class=\"sk-item sk-dashed-wrapped\"><div class=\"sk-label-container\"><div class=\"sk-label sk-toggleable\"><input class=\"sk-toggleable__control sk-hidden--visually\" id=\"sk-estimator-id-51\" type=\"checkbox\" ><label for=\"sk-estimator-id-51\" class=\"sk-toggleable__label sk-toggleable__label-arrow\">Pipeline</label><div class=\"sk-toggleable__content\"><pre>Pipeline(steps=[(&#x27;customcolumntransformer&#x27;,\n",
       "                 CustomColumnTransformer(transformers=[(&#x27;num_tr&#x27;,\n",
       "                                                        CustomMinMaxScale(),\n",
       "                                                        Index([&#x27;event_type_Account_Sign_In&#x27;, &#x27;event_type_Account_Sign_Out&#x27;,\n",
       "       &#x27;event_type_Account_Sign_Up&#x27;, &#x27;event_type_Account_Update_Request&#x27;,\n",
       "       &#x27;event_type_Account_Update_Success&#x27;, &#x27;event_type_Action_Click&#x27;,\n",
       "       &#x27;event_type_Action_ConversionClickRedeem&#x27;,\n",
       "       &#x27;eve...\n",
       "                                                                  handle_unknown=&#x27;ignore&#x27;,\n",
       "                                                                  sparse=False),\n",
       "                                                        Index([&#x27;Type&#x27;], dtype=&#x27;object&#x27;)),\n",
       "                                                       (&#x27;month_tr&#x27;,\n",
       "                                                        Cyclical_month_Encoder(),\n",
       "                                                        Index([&#x27;session_start_month&#x27;], dtype=&#x27;object&#x27;)),\n",
       "                                                       (&#x27;day_tr&#x27;,\n",
       "                                                        Cyclical_day_Encoder(),\n",
       "                                                        Index([&#x27;session_start_day&#x27;], dtype=&#x27;object&#x27;))])),\n",
       "                (&#x27;customselectpercentile&#x27;,\n",
       "                 CustomSelectPercentile(percentile=75)),\n",
       "                (&#x27;randomforestclassifier&#x27;, RandomForestClassifier())])</pre></div></div></div><div class=\"sk-serial\"><div class=\"sk-item sk-dashed-wrapped\"><div class=\"sk-label-container\"><div class=\"sk-label sk-toggleable\"><input class=\"sk-toggleable__control sk-hidden--visually\" id=\"sk-estimator-id-52\" type=\"checkbox\" ><label for=\"sk-estimator-id-52\" class=\"sk-toggleable__label sk-toggleable__label-arrow\">customcolumntransformer: CustomColumnTransformer</label><div class=\"sk-toggleable__content\"><pre>CustomColumnTransformer(transformers=[(&#x27;num_tr&#x27;, CustomMinMaxScale(),\n",
       "                                       Index([&#x27;event_type_Account_Sign_In&#x27;, &#x27;event_type_Account_Sign_Out&#x27;,\n",
       "       &#x27;event_type_Account_Sign_Up&#x27;, &#x27;event_type_Account_Update_Request&#x27;,\n",
       "       &#x27;event_type_Account_Update_Success&#x27;, &#x27;event_type_Action_Click&#x27;,\n",
       "       &#x27;event_type_Action_ConversionClickRedeem&#x27;,\n",
       "       &#x27;event_type_Action_ConversionClickSubscribe&#x27;,\n",
       "       &#x27;e...\n",
       "       &#x27;time_since_last_session_min&#x27;, &#x27;week_maturity&#x27;, &#x27;session_start_day&#x27;,\n",
       "       &#x27;session_start_month&#x27;],\n",
       "      dtype=&#x27;object&#x27;)),\n",
       "                                      (&#x27;cat_tr&#x27;,\n",
       "                                       CustomOHE(drop=&#x27;if_binary&#x27;,\n",
       "                                                 handle_unknown=&#x27;ignore&#x27;,\n",
       "                                                 sparse=False),\n",
       "                                       Index([&#x27;Type&#x27;], dtype=&#x27;object&#x27;)),\n",
       "                                      (&#x27;month_tr&#x27;, Cyclical_month_Encoder(),\n",
       "                                       Index([&#x27;session_start_month&#x27;], dtype=&#x27;object&#x27;)),\n",
       "                                      (&#x27;day_tr&#x27;, Cyclical_day_Encoder(),\n",
       "                                       Index([&#x27;session_start_day&#x27;], dtype=&#x27;object&#x27;))])</pre></div></div></div><div class=\"sk-parallel\"><div class=\"sk-parallel-item\"><div class=\"sk-item\"><div class=\"sk-label-container\"><div class=\"sk-label sk-toggleable\"><input class=\"sk-toggleable__control sk-hidden--visually\" id=\"sk-estimator-id-53\" type=\"checkbox\" ><label for=\"sk-estimator-id-53\" class=\"sk-toggleable__label sk-toggleable__label-arrow\">num_tr</label><div class=\"sk-toggleable__content\"><pre>Index([&#x27;event_type_Account_Sign_In&#x27;, &#x27;event_type_Account_Sign_Out&#x27;,\n",
       "       &#x27;event_type_Account_Sign_Up&#x27;, &#x27;event_type_Account_Update_Request&#x27;,\n",
       "       &#x27;event_type_Account_Update_Success&#x27;, &#x27;event_type_Action_Click&#x27;,\n",
       "       &#x27;event_type_Action_ConversionClickRedeem&#x27;,\n",
       "       &#x27;event_type_Action_ConversionClickSubscribe&#x27;,\n",
       "       &#x27;event_type_Activation_Game&#x27;, &#x27;event_type_Activation_New_Activation&#x27;,\n",
       "       &#x27;event_type_Activation_Piece&#x27;, &#x27;event_type_Activation_Product&#x27;,\n",
       "       &#x27;event_type_Activity_Good_Answer&#x27;, &#x27;event_type_Activity_Start&#x27;,\n",
       "       &#x27;event_type_Activity_Stop&#x27;, &#x27;event_type_Activity_Wrong_Answer&#x27;,\n",
       "       &#x27;event_type_Error_Error&#x27;, &#x27;event_type_Game_Pause&#x27;,\n",
       "       &#x27;event_type_Game_Start&#x27;, &#x27;event_type_Game_Stop&#x27;,\n",
       "       &#x27;event_type_OB_ClickStore&#x27;, &#x27;event_type_OB_ClickTrial&#x27;,\n",
       "       &#x27;event_type_OB_CommPreview&#x27;, &#x27;event_type_OB_DiscoverTrial&#x27;,\n",
       "       &#x27;event_type_OB_DoYouHaveKit&#x27;, &#x27;event_type_OB_Email&#x27;,\n",
       "       &#x27;event_type_OB_HasKeyNo&#x27;, &#x27;event_type_OB_HasKitNo&#x27;,\n",
       "       &#x27;event_type_OB_HasKitYes&#x27;, &#x27;event_type_OB_KeyFail&#x27;,\n",
       "       &#x27;event_type_OB_KeyRedeem&#x27;, &#x27;event_type_OB_KeySuccess&#x27;,\n",
       "       &#x27;event_type_OB_ProductActivation&#x27;, &#x27;event_type_OB_ProductOther&#x27;,\n",
       "       &#x27;event_type_OB_ProductSK&#x27;, &#x27;event_type_OB_ProductSeeMore&#x27;,\n",
       "       &#x27;event_type_OB_ProductSelection&#x27;, &#x27;event_type_OB_ProfileBirthdate&#x27;,\n",
       "       &#x27;event_type_OB_RenewalFail&#x27;, &#x27;event_type_OB_RenewalSelection&#x27;,\n",
       "       &#x27;event_type_OB_RenewalSuccess&#x27;, &#x27;event_type_OB_Success&#x27;,\n",
       "       &#x27;event_type_OB_TrialStart&#x27;, &#x27;event_type_OB_Type&#x27;,\n",
       "       &#x27;event_type_OB_VerifCode&#x27;, &#x27;event_type_Popup_Close&#x27;,\n",
       "       &#x27;event_type_Popup_Open&#x27;, &#x27;event_type_Profile_Create&#x27;,\n",
       "       &#x27;event_type_Profile_Delete&#x27;,\n",
       "       &#x27;event_type_Profile_Reset_Settings_and_Progression&#x27;,\n",
       "       &#x27;event_type_Profile_Update&#x27;, &#x27;event_type_Scaffolding_Reset&#x27;,\n",
       "       &#x27;event_type_Scaffolding_Scaffolding&#x27;, &#x27;event_type_Scene_Enter&#x27;,\n",
       "       &#x27;event_type_Scene_Leave&#x27;, &#x27;event_type_Toast_Appear&#x27;, &#x27;game_events&#x27;,\n",
       "       &#x27;setup_events&#x27;, &#x27;unique_activity&#x27;, &#x27;Time_Spent&#x27;, &#x27;Profile_Age_days&#x27;,\n",
       "       &#x27;good_answer_ratio&#x27;, &#x27;duration_min&#x27;, &#x27;previous_session&#x27;,\n",
       "       &#x27;time_since_last_session_min&#x27;, &#x27;week_maturity&#x27;, &#x27;session_start_day&#x27;,\n",
       "       &#x27;session_start_month&#x27;],\n",
       "      dtype=&#x27;object&#x27;)</pre></div></div></div><div class=\"sk-serial\"><div class=\"sk-item\"><div class=\"sk-estimator sk-toggleable\"><input class=\"sk-toggleable__control sk-hidden--visually\" id=\"sk-estimator-id-54\" type=\"checkbox\" ><label for=\"sk-estimator-id-54\" class=\"sk-toggleable__label sk-toggleable__label-arrow\">CustomMinMaxScale</label><div class=\"sk-toggleable__content\"><pre>CustomMinMaxScale()</pre></div></div></div></div></div></div><div class=\"sk-parallel-item\"><div class=\"sk-item\"><div class=\"sk-label-container\"><div class=\"sk-label sk-toggleable\"><input class=\"sk-toggleable__control sk-hidden--visually\" id=\"sk-estimator-id-55\" type=\"checkbox\" ><label for=\"sk-estimator-id-55\" class=\"sk-toggleable__label sk-toggleable__label-arrow\">cat_tr</label><div class=\"sk-toggleable__content\"><pre>Index([&#x27;Type&#x27;], dtype=&#x27;object&#x27;)</pre></div></div></div><div class=\"sk-serial\"><div class=\"sk-item\"><div class=\"sk-estimator sk-toggleable\"><input class=\"sk-toggleable__control sk-hidden--visually\" id=\"sk-estimator-id-56\" type=\"checkbox\" ><label for=\"sk-estimator-id-56\" class=\"sk-toggleable__label sk-toggleable__label-arrow\">CustomOHE</label><div class=\"sk-toggleable__content\"><pre>CustomOHE(drop=&#x27;if_binary&#x27;, handle_unknown=&#x27;ignore&#x27;, sparse=False)</pre></div></div></div></div></div></div><div class=\"sk-parallel-item\"><div class=\"sk-item\"><div class=\"sk-label-container\"><div class=\"sk-label sk-toggleable\"><input class=\"sk-toggleable__control sk-hidden--visually\" id=\"sk-estimator-id-57\" type=\"checkbox\" ><label for=\"sk-estimator-id-57\" class=\"sk-toggleable__label sk-toggleable__label-arrow\">month_tr</label><div class=\"sk-toggleable__content\"><pre>Index([&#x27;session_start_month&#x27;], dtype=&#x27;object&#x27;)</pre></div></div></div><div class=\"sk-serial\"><div class=\"sk-item\"><div class=\"sk-estimator sk-toggleable\"><input class=\"sk-toggleable__control sk-hidden--visually\" id=\"sk-estimator-id-58\" type=\"checkbox\" ><label for=\"sk-estimator-id-58\" class=\"sk-toggleable__label sk-toggleable__label-arrow\">Cyclical_month_Encoder</label><div class=\"sk-toggleable__content\"><pre>Cyclical_month_Encoder()</pre></div></div></div></div></div></div><div class=\"sk-parallel-item\"><div class=\"sk-item\"><div class=\"sk-label-container\"><div class=\"sk-label sk-toggleable\"><input class=\"sk-toggleable__control sk-hidden--visually\" id=\"sk-estimator-id-59\" type=\"checkbox\" ><label for=\"sk-estimator-id-59\" class=\"sk-toggleable__label sk-toggleable__label-arrow\">day_tr</label><div class=\"sk-toggleable__content\"><pre>Index([&#x27;session_start_day&#x27;], dtype=&#x27;object&#x27;)</pre></div></div></div><div class=\"sk-serial\"><div class=\"sk-item\"><div class=\"sk-estimator sk-toggleable\"><input class=\"sk-toggleable__control sk-hidden--visually\" id=\"sk-estimator-id-60\" type=\"checkbox\" ><label for=\"sk-estimator-id-60\" class=\"sk-toggleable__label sk-toggleable__label-arrow\">Cyclical_day_Encoder</label><div class=\"sk-toggleable__content\"><pre>Cyclical_day_Encoder()</pre></div></div></div></div></div></div></div></div><div class=\"sk-item\"><div class=\"sk-estimator sk-toggleable\"><input class=\"sk-toggleable__control sk-hidden--visually\" id=\"sk-estimator-id-61\" type=\"checkbox\" ><label for=\"sk-estimator-id-61\" class=\"sk-toggleable__label sk-toggleable__label-arrow\">CustomSelectPercentile</label><div class=\"sk-toggleable__content\"><pre>CustomSelectPercentile(percentile=75)</pre></div></div></div><div class=\"sk-item\"><div class=\"sk-estimator sk-toggleable\"><input class=\"sk-toggleable__control sk-hidden--visually\" id=\"sk-estimator-id-62\" type=\"checkbox\" ><label for=\"sk-estimator-id-62\" class=\"sk-toggleable__label sk-toggleable__label-arrow\">RandomForestClassifier</label><div class=\"sk-toggleable__content\"><pre>RandomForestClassifier()</pre></div></div></div></div></div></div></div>"
      ],
      "text/plain": [
       "Pipeline(steps=[('customcolumntransformer',\n",
       "                 CustomColumnTransformer(transformers=[('num_tr',\n",
       "                                                        CustomMinMaxScale(),\n",
       "                                                        Index(['event_type_Account_Sign_In', 'event_type_Account_Sign_Out',\n",
       "       'event_type_Account_Sign_Up', 'event_type_Account_Update_Request',\n",
       "       'event_type_Account_Update_Success', 'event_type_Action_Click',\n",
       "       'event_type_Action_ConversionClickRedeem',\n",
       "       'eve...\n",
       "                                                                  handle_unknown='ignore',\n",
       "                                                                  sparse=False),\n",
       "                                                        Index(['Type'], dtype='object')),\n",
       "                                                       ('month_tr',\n",
       "                                                        Cyclical_month_Encoder(),\n",
       "                                                        Index(['session_start_month'], dtype='object')),\n",
       "                                                       ('day_tr',\n",
       "                                                        Cyclical_day_Encoder(),\n",
       "                                                        Index(['session_start_day'], dtype='object'))])),\n",
       "                ('customselectpercentile',\n",
       "                 CustomSelectPercentile(percentile=75)),\n",
       "                ('randomforestclassifier', RandomForestClassifier())])"
      ]
     },
     "execution_count": 164,
     "metadata": {},
     "output_type": "execute_result"
    }
   ],
   "source": [
    "pipe"
   ]
  },
  {
   "cell_type": "code",
   "execution_count": 165,
   "id": "2b5545c2",
   "metadata": {
    "ExecuteTime": {
     "end_time": "2022-07-07T15:40:09.692738Z",
     "start_time": "2022-07-07T15:40:09.665658Z"
    }
   },
   "outputs": [
    {
     "data": {
      "text/plain": [
       "{'memory': None,\n",
       " 'steps': [('customcolumntransformer',\n",
       "   CustomColumnTransformer(transformers=[('num_tr', CustomMinMaxScale(),\n",
       "                                          Index(['event_type_Account_Sign_In', 'event_type_Account_Sign_Out',\n",
       "          'event_type_Account_Sign_Up', 'event_type_Account_Update_Request',\n",
       "          'event_type_Account_Update_Success', 'event_type_Action_Click',\n",
       "          'event_type_Action_ConversionClickRedeem',\n",
       "          'event_type_Action_ConversionClickSubscribe',\n",
       "          'e...\n",
       "          'time_since_last_session_min', 'week_maturity', 'session_start_day',\n",
       "          'session_start_month'],\n",
       "         dtype='object')),\n",
       "                                         ('cat_tr',\n",
       "                                          CustomOHE(drop='if_binary',\n",
       "                                                    handle_unknown='ignore',\n",
       "                                                    sparse=False),\n",
       "                                          Index(['Type'], dtype='object')),\n",
       "                                         ('month_tr', Cyclical_month_Encoder(),\n",
       "                                          Index(['session_start_month'], dtype='object')),\n",
       "                                         ('day_tr', Cyclical_day_Encoder(),\n",
       "                                          Index(['session_start_day'], dtype='object'))])),\n",
       "  ('customselectpercentile', CustomSelectPercentile(percentile=75)),\n",
       "  ('randomforestclassifier', RandomForestClassifier())],\n",
       " 'verbose': False,\n",
       " 'customcolumntransformer': CustomColumnTransformer(transformers=[('num_tr', CustomMinMaxScale(),\n",
       "                                        Index(['event_type_Account_Sign_In', 'event_type_Account_Sign_Out',\n",
       "        'event_type_Account_Sign_Up', 'event_type_Account_Update_Request',\n",
       "        'event_type_Account_Update_Success', 'event_type_Action_Click',\n",
       "        'event_type_Action_ConversionClickRedeem',\n",
       "        'event_type_Action_ConversionClickSubscribe',\n",
       "        'e...\n",
       "        'time_since_last_session_min', 'week_maturity', 'session_start_day',\n",
       "        'session_start_month'],\n",
       "       dtype='object')),\n",
       "                                       ('cat_tr',\n",
       "                                        CustomOHE(drop='if_binary',\n",
       "                                                  handle_unknown='ignore',\n",
       "                                                  sparse=False),\n",
       "                                        Index(['Type'], dtype='object')),\n",
       "                                       ('month_tr', Cyclical_month_Encoder(),\n",
       "                                        Index(['session_start_month'], dtype='object')),\n",
       "                                       ('day_tr', Cyclical_day_Encoder(),\n",
       "                                        Index(['session_start_day'], dtype='object'))]),\n",
       " 'customselectpercentile': CustomSelectPercentile(percentile=75),\n",
       " 'randomforestclassifier': RandomForestClassifier(),\n",
       " 'customcolumntransformer__n_jobs': None,\n",
       " 'customcolumntransformer__remainder': 'drop',\n",
       " 'customcolumntransformer__sparse_threshold': 0.3,\n",
       " 'customcolumntransformer__transformer_weights': None,\n",
       " 'customcolumntransformer__transformers': [('num_tr',\n",
       "   CustomMinMaxScale(),\n",
       "   Index(['event_type_Account_Sign_In', 'event_type_Account_Sign_Out',\n",
       "          'event_type_Account_Sign_Up', 'event_type_Account_Update_Request',\n",
       "          'event_type_Account_Update_Success', 'event_type_Action_Click',\n",
       "          'event_type_Action_ConversionClickRedeem',\n",
       "          'event_type_Action_ConversionClickSubscribe',\n",
       "          'event_type_Activation_Game', 'event_type_Activation_New_Activation',\n",
       "          'event_type_Activation_Piece', 'event_type_Activation_Product',\n",
       "          'event_type_Activity_Good_Answer', 'event_type_Activity_Start',\n",
       "          'event_type_Activity_Stop', 'event_type_Activity_Wrong_Answer',\n",
       "          'event_type_Error_Error', 'event_type_Game_Pause',\n",
       "          'event_type_Game_Start', 'event_type_Game_Stop',\n",
       "          'event_type_OB_ClickStore', 'event_type_OB_ClickTrial',\n",
       "          'event_type_OB_CommPreview', 'event_type_OB_DiscoverTrial',\n",
       "          'event_type_OB_DoYouHaveKit', 'event_type_OB_Email',\n",
       "          'event_type_OB_HasKeyNo', 'event_type_OB_HasKitNo',\n",
       "          'event_type_OB_HasKitYes', 'event_type_OB_KeyFail',\n",
       "          'event_type_OB_KeyRedeem', 'event_type_OB_KeySuccess',\n",
       "          'event_type_OB_ProductActivation', 'event_type_OB_ProductOther',\n",
       "          'event_type_OB_ProductSK', 'event_type_OB_ProductSeeMore',\n",
       "          'event_type_OB_ProductSelection', 'event_type_OB_ProfileBirthdate',\n",
       "          'event_type_OB_RenewalFail', 'event_type_OB_RenewalSelection',\n",
       "          'event_type_OB_RenewalSuccess', 'event_type_OB_Success',\n",
       "          'event_type_OB_TrialStart', 'event_type_OB_Type',\n",
       "          'event_type_OB_VerifCode', 'event_type_Popup_Close',\n",
       "          'event_type_Popup_Open', 'event_type_Profile_Create',\n",
       "          'event_type_Profile_Delete',\n",
       "          'event_type_Profile_Reset_Settings_and_Progression',\n",
       "          'event_type_Profile_Update', 'event_type_Scaffolding_Reset',\n",
       "          'event_type_Scaffolding_Scaffolding', 'event_type_Scene_Enter',\n",
       "          'event_type_Scene_Leave', 'event_type_Toast_Appear', 'game_events',\n",
       "          'setup_events', 'unique_activity', 'Time_Spent', 'Profile_Age_days',\n",
       "          'good_answer_ratio', 'duration_min', 'previous_session',\n",
       "          'time_since_last_session_min', 'week_maturity', 'session_start_day',\n",
       "          'session_start_month'],\n",
       "         dtype='object')),\n",
       "  ('cat_tr',\n",
       "   CustomOHE(drop='if_binary', handle_unknown='ignore', sparse=False),\n",
       "   Index(['Type'], dtype='object')),\n",
       "  ('month_tr',\n",
       "   Cyclical_month_Encoder(),\n",
       "   Index(['session_start_month'], dtype='object')),\n",
       "  ('day_tr',\n",
       "   Cyclical_day_Encoder(),\n",
       "   Index(['session_start_day'], dtype='object'))],\n",
       " 'customcolumntransformer__verbose': False,\n",
       " 'customcolumntransformer__verbose_feature_names_out': True,\n",
       " 'customcolumntransformer__num_tr': CustomMinMaxScale(),\n",
       " 'customcolumntransformer__cat_tr': CustomOHE(drop='if_binary', handle_unknown='ignore', sparse=False),\n",
       " 'customcolumntransformer__month_tr': Cyclical_month_Encoder(),\n",
       " 'customcolumntransformer__day_tr': Cyclical_day_Encoder(),\n",
       " 'customcolumntransformer__num_tr__clip': False,\n",
       " 'customcolumntransformer__num_tr__copy': True,\n",
       " 'customcolumntransformer__num_tr__feature_range': (0, 1),\n",
       " 'customcolumntransformer__cat_tr__categories': 'auto',\n",
       " 'customcolumntransformer__cat_tr__drop': 'if_binary',\n",
       " 'customcolumntransformer__cat_tr__dtype': numpy.float64,\n",
       " 'customcolumntransformer__cat_tr__handle_unknown': 'ignore',\n",
       " 'customcolumntransformer__cat_tr__max_categories': None,\n",
       " 'customcolumntransformer__cat_tr__min_frequency': None,\n",
       " 'customcolumntransformer__cat_tr__sparse': False,\n",
       " 'customselectpercentile__percentile': 75,\n",
       " 'customselectpercentile__score_func': <function sklearn.feature_selection._univariate_selection.f_classif(X, y)>,\n",
       " 'randomforestclassifier__bootstrap': True,\n",
       " 'randomforestclassifier__ccp_alpha': 0.0,\n",
       " 'randomforestclassifier__class_weight': None,\n",
       " 'randomforestclassifier__criterion': 'gini',\n",
       " 'randomforestclassifier__max_depth': None,\n",
       " 'randomforestclassifier__max_features': 'sqrt',\n",
       " 'randomforestclassifier__max_leaf_nodes': None,\n",
       " 'randomforestclassifier__max_samples': None,\n",
       " 'randomforestclassifier__min_impurity_decrease': 0.0,\n",
       " 'randomforestclassifier__min_samples_leaf': 1,\n",
       " 'randomforestclassifier__min_samples_split': 2,\n",
       " 'randomforestclassifier__min_weight_fraction_leaf': 0.0,\n",
       " 'randomforestclassifier__n_estimators': 100,\n",
       " 'randomforestclassifier__n_jobs': None,\n",
       " 'randomforestclassifier__oob_score': False,\n",
       " 'randomforestclassifier__random_state': None,\n",
       " 'randomforestclassifier__verbose': 0,\n",
       " 'randomforestclassifier__warm_start': False}"
      ]
     },
     "execution_count": 165,
     "metadata": {},
     "output_type": "execute_result"
    }
   ],
   "source": [
    "pipe.get_params()"
   ]
  },
  {
   "cell_type": "code",
   "execution_count": 166,
   "id": "a240fc1a",
   "metadata": {
    "ExecuteTime": {
     "end_time": "2022-07-07T15:40:09.697573Z",
     "start_time": "2022-07-07T15:40:09.694465Z"
    }
   },
   "outputs": [],
   "source": [
    "grid_search = GridSearchCV(\n",
    "    pipe, \n",
    "    param_grid={\n",
    "        'randomforestclassifier__n_estimators': [400,450],\n",
    "        'randomforestclassifier__max_depth': [40],\n",
    "        'randomforestclassifier__min_samples_split' : [15],\n",
    "        'randomforestclassifier__max_samples' : [0.8],\n",
    "        'randomforestclassifier__n_jobs' : [-1]\n",
    "    },\n",
    "    cv=5,\n",
    "    scoring=\"accuracy\",\n",
    "verbose=1)"
   ]
  },
  {
   "cell_type": "code",
   "execution_count": 167,
   "id": "8d1b54f7",
   "metadata": {
    "ExecuteTime": {
     "end_time": "2022-07-07T15:40:16.435398Z",
     "start_time": "2022-07-07T15:40:09.698984Z"
    }
   },
   "outputs": [
    {
     "name": "stdout",
     "output_type": "stream",
     "text": [
      "Fitting 5 folds for each of 2 candidates, totalling 10 fits\n"
     ]
    },
    {
     "name": "stderr",
     "output_type": "stream",
     "text": [
      "/Users/antonin/.pyenv/versions/3.8.13/envs/marbotic/lib/python3.8/site-packages/sklearn/feature_selection/_univariate_selection.py:112: UserWarning: Features [7] are constant.\n",
      "  warnings.warn(\"Features %s are constant.\" % constant_features_idx, UserWarning)\n",
      "/Users/antonin/.pyenv/versions/3.8.13/envs/marbotic/lib/python3.8/site-packages/sklearn/feature_selection/_univariate_selection.py:113: RuntimeWarning: invalid value encountered in true_divide\n",
      "  f = msb / msw\n",
      "/Users/antonin/.pyenv/versions/3.8.13/envs/marbotic/lib/python3.8/site-packages/sklearn/feature_selection/_univariate_selection.py:112: UserWarning: Features [7] are constant.\n",
      "  warnings.warn(\"Features %s are constant.\" % constant_features_idx, UserWarning)\n",
      "/Users/antonin/.pyenv/versions/3.8.13/envs/marbotic/lib/python3.8/site-packages/sklearn/feature_selection/_univariate_selection.py:113: RuntimeWarning: invalid value encountered in true_divide\n",
      "  f = msb / msw\n",
      "/Users/antonin/.pyenv/versions/3.8.13/envs/marbotic/lib/python3.8/site-packages/sklearn/feature_selection/_univariate_selection.py:112: UserWarning: Features [7] are constant.\n",
      "  warnings.warn(\"Features %s are constant.\" % constant_features_idx, UserWarning)\n",
      "/Users/antonin/.pyenv/versions/3.8.13/envs/marbotic/lib/python3.8/site-packages/sklearn/feature_selection/_univariate_selection.py:113: RuntimeWarning: invalid value encountered in true_divide\n",
      "  f = msb / msw\n",
      "/Users/antonin/.pyenv/versions/3.8.13/envs/marbotic/lib/python3.8/site-packages/sklearn/feature_selection/_univariate_selection.py:112: UserWarning: Features [7] are constant.\n",
      "  warnings.warn(\"Features %s are constant.\" % constant_features_idx, UserWarning)\n",
      "/Users/antonin/.pyenv/versions/3.8.13/envs/marbotic/lib/python3.8/site-packages/sklearn/feature_selection/_univariate_selection.py:113: RuntimeWarning: invalid value encountered in true_divide\n",
      "  f = msb / msw\n",
      "/Users/antonin/.pyenv/versions/3.8.13/envs/marbotic/lib/python3.8/site-packages/sklearn/feature_selection/_univariate_selection.py:112: UserWarning: Features [ 7 48] are constant.\n",
      "  warnings.warn(\"Features %s are constant.\" % constant_features_idx, UserWarning)\n",
      "/Users/antonin/.pyenv/versions/3.8.13/envs/marbotic/lib/python3.8/site-packages/sklearn/feature_selection/_univariate_selection.py:113: RuntimeWarning: invalid value encountered in true_divide\n",
      "  f = msb / msw\n",
      "/Users/antonin/.pyenv/versions/3.8.13/envs/marbotic/lib/python3.8/site-packages/sklearn/feature_selection/_univariate_selection.py:112: UserWarning: Features [7] are constant.\n",
      "  warnings.warn(\"Features %s are constant.\" % constant_features_idx, UserWarning)\n",
      "/Users/antonin/.pyenv/versions/3.8.13/envs/marbotic/lib/python3.8/site-packages/sklearn/feature_selection/_univariate_selection.py:113: RuntimeWarning: invalid value encountered in true_divide\n",
      "  f = msb / msw\n",
      "/Users/antonin/.pyenv/versions/3.8.13/envs/marbotic/lib/python3.8/site-packages/sklearn/feature_selection/_univariate_selection.py:112: UserWarning: Features [7] are constant.\n",
      "  warnings.warn(\"Features %s are constant.\" % constant_features_idx, UserWarning)\n",
      "/Users/antonin/.pyenv/versions/3.8.13/envs/marbotic/lib/python3.8/site-packages/sklearn/feature_selection/_univariate_selection.py:113: RuntimeWarning: invalid value encountered in true_divide\n",
      "  f = msb / msw\n",
      "/Users/antonin/.pyenv/versions/3.8.13/envs/marbotic/lib/python3.8/site-packages/sklearn/feature_selection/_univariate_selection.py:112: UserWarning: Features [7] are constant.\n",
      "  warnings.warn(\"Features %s are constant.\" % constant_features_idx, UserWarning)\n",
      "/Users/antonin/.pyenv/versions/3.8.13/envs/marbotic/lib/python3.8/site-packages/sklearn/feature_selection/_univariate_selection.py:113: RuntimeWarning: invalid value encountered in true_divide\n",
      "  f = msb / msw\n",
      "/Users/antonin/.pyenv/versions/3.8.13/envs/marbotic/lib/python3.8/site-packages/sklearn/feature_selection/_univariate_selection.py:112: UserWarning: Features [7] are constant.\n",
      "  warnings.warn(\"Features %s are constant.\" % constant_features_idx, UserWarning)\n",
      "/Users/antonin/.pyenv/versions/3.8.13/envs/marbotic/lib/python3.8/site-packages/sklearn/feature_selection/_univariate_selection.py:113: RuntimeWarning: invalid value encountered in true_divide\n",
      "  f = msb / msw\n",
      "/Users/antonin/.pyenv/versions/3.8.13/envs/marbotic/lib/python3.8/site-packages/sklearn/feature_selection/_univariate_selection.py:112: UserWarning: Features [ 7 48] are constant.\n",
      "  warnings.warn(\"Features %s are constant.\" % constant_features_idx, UserWarning)\n",
      "/Users/antonin/.pyenv/versions/3.8.13/envs/marbotic/lib/python3.8/site-packages/sklearn/feature_selection/_univariate_selection.py:113: RuntimeWarning: invalid value encountered in true_divide\n",
      "  f = msb / msw\n",
      "/Users/antonin/.pyenv/versions/3.8.13/envs/marbotic/lib/python3.8/site-packages/sklearn/feature_selection/_univariate_selection.py:112: UserWarning: Features [7] are constant.\n",
      "  warnings.warn(\"Features %s are constant.\" % constant_features_idx, UserWarning)\n",
      "/Users/antonin/.pyenv/versions/3.8.13/envs/marbotic/lib/python3.8/site-packages/sklearn/feature_selection/_univariate_selection.py:113: RuntimeWarning: invalid value encountered in true_divide\n",
      "  f = msb / msw\n"
     ]
    },
    {
     "data": {
      "text/plain": [
       "{'randomforestclassifier__max_depth': 40,\n",
       " 'randomforestclassifier__max_samples': 0.8,\n",
       " 'randomforestclassifier__min_samples_split': 15,\n",
       " 'randomforestclassifier__n_estimators': 400,\n",
       " 'randomforestclassifier__n_jobs': -1}"
      ]
     },
     "execution_count": 167,
     "metadata": {},
     "output_type": "execute_result"
    }
   ],
   "source": [
    "grid_search.fit(X_train, y_train)\n",
    "grid_search.best_params_"
   ]
  },
  {
   "cell_type": "code",
   "execution_count": 168,
   "id": "18740452",
   "metadata": {
    "ExecuteTime": {
     "end_time": "2022-07-07T15:40:16.438835Z",
     "start_time": "2022-07-07T15:40:16.436484Z"
    }
   },
   "outputs": [
    {
     "data": {
      "text/plain": [
       "0.7171876631079479"
      ]
     },
     "execution_count": 168,
     "metadata": {},
     "output_type": "execute_result"
    }
   ],
   "source": [
    "grid_search.best_score_"
   ]
  },
  {
   "cell_type": "code",
   "execution_count": 169,
   "id": "0f07ff5d",
   "metadata": {
    "ExecuteTime": {
     "end_time": "2022-07-07T15:40:16.442355Z",
     "start_time": "2022-07-07T15:40:16.439980Z"
    }
   },
   "outputs": [],
   "source": [
    "best_search = grid_search.best_estimator_"
   ]
  },
  {
   "cell_type": "code",
   "execution_count": 170,
   "id": "e7e96faa",
   "metadata": {
    "ExecuteTime": {
     "end_time": "2022-07-07T15:40:16.524629Z",
     "start_time": "2022-07-07T15:40:16.443458Z"
    }
   },
   "outputs": [],
   "source": [
    "y_pred = best_search.predict(X_test)"
   ]
  },
  {
   "cell_type": "code",
   "execution_count": 171,
   "id": "44b6070b",
   "metadata": {
    "ExecuteTime": {
     "end_time": "2022-07-07T15:40:16.532190Z",
     "start_time": "2022-07-07T15:40:16.526009Z"
    }
   },
   "outputs": [
    {
     "name": "stdout",
     "output_type": "stream",
     "text": [
      "              precision    recall  f1-score   support\n",
      "\n",
      "    classe 0       0.76      0.69      0.72      1183\n",
      "    Classe 1       0.73      0.78      0.75      1227\n",
      "\n",
      "    accuracy                           0.74      2410\n",
      "   macro avg       0.74      0.74      0.74      2410\n",
      "weighted avg       0.74      0.74      0.74      2410\n",
      "\n"
     ]
    }
   ],
   "source": [
    "target_names = ['classe 0','Classe 1']\n",
    "print(classification_report(y_test,y_pred,target_names=target_names))"
   ]
  },
  {
   "cell_type": "code",
   "execution_count": 172,
   "id": "03e97664",
   "metadata": {
    "ExecuteTime": {
     "end_time": "2022-07-07T15:40:16.537076Z",
     "start_time": "2022-07-07T15:40:16.533168Z"
    }
   },
   "outputs": [],
   "source": [
    "ran_for_C = RandomForestClassifier(max_depth=40,max_samples= 0.8,min_samples_split= 15, n_estimators=450)\n",
    "log_reg_C = LogisticRegression(max_iter = 1000,n_jobs=-1, C= 1.5,solver= 'newton-cg')\n",
    "svc_C = SVC(C= 10,gamma= 1,kernel= 'rbf')\n",
    "knn_C = KNeighborsClassifier(n_jobs= -1,n_neighbors= 30,p= 1,weights= 'distance')\n",
    "ada_b_C = AdaBoostClassifier(algorithm= 'SAMME.R',learning_rate= 1,n_estimators= 50)\n",
    "ridge_C = RidgeClassifier(alpha= 2,max_iter= 1000,solver= 'lsqr')\n",
    "\n",
    "ensemble = StackingClassifier(\n",
    "    estimators = [(\"rf\", ran_for_C),\n",
    "                  (\"knn\", knn_C),\n",
    "                  ('log',log_reg_C),\n",
    "                  ('svc',svc_C),\n",
    "                  ('ada',ada_b_C),\n",
    "                  ('ridge',ridge_C)\n",
    "                 ],\n",
    "    final_estimator = GradientBoostingClassifier())\n",
    "stacked_pipe = make_pipeline(preprocessor,CustomSelectPercentile(percentile=50),ensemble)\n"
   ]
  },
  {
   "cell_type": "code",
   "execution_count": 173,
   "id": "00e3448a",
   "metadata": {
    "ExecuteTime": {
     "end_time": "2022-07-07T15:41:43.780304Z",
     "start_time": "2022-07-07T15:40:16.538126Z"
    }
   },
   "outputs": [
    {
     "name": "stderr",
     "output_type": "stream",
     "text": [
      "/Users/antonin/.pyenv/versions/3.8.13/envs/marbotic/lib/python3.8/site-packages/sklearn/feature_selection/_univariate_selection.py:112: UserWarning: Features [7] are constant.\n",
      "  warnings.warn(\"Features %s are constant.\" % constant_features_idx, UserWarning)\n",
      "/Users/antonin/.pyenv/versions/3.8.13/envs/marbotic/lib/python3.8/site-packages/sklearn/feature_selection/_univariate_selection.py:113: RuntimeWarning: invalid value encountered in true_divide\n",
      "  f = msb / msw\n",
      "/Users/antonin/.pyenv/versions/3.8.13/envs/marbotic/lib/python3.8/site-packages/sklearn/feature_selection/_univariate_selection.py:112: UserWarning: Features [7] are constant.\n",
      "  warnings.warn(\"Features %s are constant.\" % constant_features_idx, UserWarning)\n",
      "/Users/antonin/.pyenv/versions/3.8.13/envs/marbotic/lib/python3.8/site-packages/sklearn/feature_selection/_univariate_selection.py:113: RuntimeWarning: invalid value encountered in true_divide\n",
      "  f = msb / msw\n",
      "/Users/antonin/.pyenv/versions/3.8.13/envs/marbotic/lib/python3.8/site-packages/sklearn/feature_selection/_univariate_selection.py:112: UserWarning: Features [7] are constant.\n",
      "  warnings.warn(\"Features %s are constant.\" % constant_features_idx, UserWarning)\n",
      "/Users/antonin/.pyenv/versions/3.8.13/envs/marbotic/lib/python3.8/site-packages/sklearn/feature_selection/_univariate_selection.py:113: RuntimeWarning: invalid value encountered in true_divide\n",
      "  f = msb / msw\n",
      "/Users/antonin/.pyenv/versions/3.8.13/envs/marbotic/lib/python3.8/site-packages/sklearn/feature_selection/_univariate_selection.py:112: UserWarning: Features [7] are constant.\n",
      "  warnings.warn(\"Features %s are constant.\" % constant_features_idx, UserWarning)\n",
      "/Users/antonin/.pyenv/versions/3.8.13/envs/marbotic/lib/python3.8/site-packages/sklearn/feature_selection/_univariate_selection.py:113: RuntimeWarning: invalid value encountered in true_divide\n",
      "  f = msb / msw\n",
      "/Users/antonin/.pyenv/versions/3.8.13/envs/marbotic/lib/python3.8/site-packages/sklearn/feature_selection/_univariate_selection.py:112: UserWarning: Features [ 7 48] are constant.\n",
      "  warnings.warn(\"Features %s are constant.\" % constant_features_idx, UserWarning)\n",
      "/Users/antonin/.pyenv/versions/3.8.13/envs/marbotic/lib/python3.8/site-packages/sklearn/feature_selection/_univariate_selection.py:113: RuntimeWarning: invalid value encountered in true_divide\n",
      "  f = msb / msw\n"
     ]
    }
   ],
   "source": [
    "cv_results_stacked = cross_validate(stacked_pipe, X_train, y_train, scoring='accuracy', cv=5)\n"
   ]
  },
  {
   "cell_type": "code",
   "execution_count": 174,
   "id": "75563bd6",
   "metadata": {
    "ExecuteTime": {
     "end_time": "2022-07-07T15:41:43.784471Z",
     "start_time": "2022-07-07T15:41:43.781720Z"
    }
   },
   "outputs": [
    {
     "data": {
      "text/plain": [
       "0.7273260577303281"
      ]
     },
     "execution_count": 174,
     "metadata": {},
     "output_type": "execute_result"
    }
   ],
   "source": [
    "score_stacked = cv_results_stacked['test_score'].mean()\n",
    "score_stacked"
   ]
  },
  {
   "cell_type": "code",
   "execution_count": 175,
   "id": "bc193dd8",
   "metadata": {
    "ExecuteTime": {
     "end_time": "2022-07-07T15:42:07.021647Z",
     "start_time": "2022-07-07T15:41:43.785544Z"
    }
   },
   "outputs": [
    {
     "name": "stderr",
     "output_type": "stream",
     "text": [
      "/Users/antonin/.pyenv/versions/3.8.13/envs/marbotic/lib/python3.8/site-packages/sklearn/feature_selection/_univariate_selection.py:112: UserWarning: Features [7] are constant.\n",
      "  warnings.warn(\"Features %s are constant.\" % constant_features_idx, UserWarning)\n",
      "/Users/antonin/.pyenv/versions/3.8.13/envs/marbotic/lib/python3.8/site-packages/sklearn/feature_selection/_univariate_selection.py:113: RuntimeWarning: invalid value encountered in true_divide\n",
      "  f = msb / msw\n"
     ]
    },
    {
     "data": {
      "text/html": [
       "<style>#sk-container-id-5 {color: black;background-color: white;}#sk-container-id-5 pre{padding: 0;}#sk-container-id-5 div.sk-toggleable {background-color: white;}#sk-container-id-5 label.sk-toggleable__label {cursor: pointer;display: block;width: 100%;margin-bottom: 0;padding: 0.3em;box-sizing: border-box;text-align: center;}#sk-container-id-5 label.sk-toggleable__label-arrow:before {content: \"▸\";float: left;margin-right: 0.25em;color: #696969;}#sk-container-id-5 label.sk-toggleable__label-arrow:hover:before {color: black;}#sk-container-id-5 div.sk-estimator:hover label.sk-toggleable__label-arrow:before {color: black;}#sk-container-id-5 div.sk-toggleable__content {max-height: 0;max-width: 0;overflow: hidden;text-align: left;background-color: #f0f8ff;}#sk-container-id-5 div.sk-toggleable__content pre {margin: 0.2em;color: black;border-radius: 0.25em;background-color: #f0f8ff;}#sk-container-id-5 input.sk-toggleable__control:checked~div.sk-toggleable__content {max-height: 200px;max-width: 100%;overflow: auto;}#sk-container-id-5 input.sk-toggleable__control:checked~label.sk-toggleable__label-arrow:before {content: \"▾\";}#sk-container-id-5 div.sk-estimator input.sk-toggleable__control:checked~label.sk-toggleable__label {background-color: #d4ebff;}#sk-container-id-5 div.sk-label input.sk-toggleable__control:checked~label.sk-toggleable__label {background-color: #d4ebff;}#sk-container-id-5 input.sk-hidden--visually {border: 0;clip: rect(1px 1px 1px 1px);clip: rect(1px, 1px, 1px, 1px);height: 1px;margin: -1px;overflow: hidden;padding: 0;position: absolute;width: 1px;}#sk-container-id-5 div.sk-estimator {font-family: monospace;background-color: #f0f8ff;border: 1px dotted black;border-radius: 0.25em;box-sizing: border-box;margin-bottom: 0.5em;}#sk-container-id-5 div.sk-estimator:hover {background-color: #d4ebff;}#sk-container-id-5 div.sk-parallel-item::after {content: \"\";width: 100%;border-bottom: 1px solid gray;flex-grow: 1;}#sk-container-id-5 div.sk-label:hover label.sk-toggleable__label {background-color: #d4ebff;}#sk-container-id-5 div.sk-serial::before {content: \"\";position: absolute;border-left: 1px solid gray;box-sizing: border-box;top: 0;bottom: 0;left: 50%;z-index: 0;}#sk-container-id-5 div.sk-serial {display: flex;flex-direction: column;align-items: center;background-color: white;padding-right: 0.2em;padding-left: 0.2em;position: relative;}#sk-container-id-5 div.sk-item {position: relative;z-index: 1;}#sk-container-id-5 div.sk-parallel {display: flex;align-items: stretch;justify-content: center;background-color: white;position: relative;}#sk-container-id-5 div.sk-item::before, #sk-container-id-5 div.sk-parallel-item::before {content: \"\";position: absolute;border-left: 1px solid gray;box-sizing: border-box;top: 0;bottom: 0;left: 50%;z-index: -1;}#sk-container-id-5 div.sk-parallel-item {display: flex;flex-direction: column;z-index: 1;position: relative;background-color: white;}#sk-container-id-5 div.sk-parallel-item:first-child::after {align-self: flex-end;width: 50%;}#sk-container-id-5 div.sk-parallel-item:last-child::after {align-self: flex-start;width: 50%;}#sk-container-id-5 div.sk-parallel-item:only-child::after {width: 0;}#sk-container-id-5 div.sk-dashed-wrapped {border: 1px dashed gray;margin: 0 0.4em 0.5em 0.4em;box-sizing: border-box;padding-bottom: 0.4em;background-color: white;}#sk-container-id-5 div.sk-label label {font-family: monospace;font-weight: bold;display: inline-block;line-height: 1.2em;}#sk-container-id-5 div.sk-label-container {text-align: center;}#sk-container-id-5 div.sk-container {/* jupyter's `normalize.less` sets `[hidden] { display: none; }` but bootstrap.min.css set `[hidden] { display: none !important; }` so we also need the `!important` here to be able to override the default hidden behavior on the sphinx rendered scikit-learn.org. See: https://github.com/scikit-learn/scikit-learn/issues/21755 */display: inline-block !important;position: relative;}#sk-container-id-5 div.sk-text-repr-fallback {display: none;}</style><div id=\"sk-container-id-5\" class=\"sk-top-container\"><div class=\"sk-text-repr-fallback\"><pre>Pipeline(steps=[(&#x27;customcolumntransformer&#x27;,\n",
       "                 CustomColumnTransformer(transformers=[(&#x27;num_tr&#x27;,\n",
       "                                                        CustomMinMaxScale(),\n",
       "                                                        Index([&#x27;event_type_Account_Sign_In&#x27;, &#x27;event_type_Account_Sign_Out&#x27;,\n",
       "       &#x27;event_type_Account_Sign_Up&#x27;, &#x27;event_type_Account_Update_Request&#x27;,\n",
       "       &#x27;event_type_Account_Update_Success&#x27;, &#x27;event_type_Action_Click&#x27;,\n",
       "       &#x27;event_type_Action_ConversionClickRedeem&#x27;,\n",
       "       &#x27;eve...\n",
       "                                                                        n_estimators=450)),\n",
       "                                                (&#x27;knn&#x27;,\n",
       "                                                 KNeighborsClassifier(n_jobs=-1,\n",
       "                                                                      n_neighbors=30,\n",
       "                                                                      p=1,\n",
       "                                                                      weights=&#x27;distance&#x27;)),\n",
       "                                                (&#x27;log&#x27;,\n",
       "                                                 LogisticRegression(C=1.5,\n",
       "                                                                    max_iter=1000,\n",
       "                                                                    n_jobs=-1,\n",
       "                                                                    solver=&#x27;newton-cg&#x27;)),\n",
       "                                                (&#x27;svc&#x27;, SVC(C=10, gamma=1)),\n",
       "                                                (&#x27;ada&#x27;,\n",
       "                                                 AdaBoostClassifier(learning_rate=1)),\n",
       "                                                (&#x27;ridge&#x27;,\n",
       "                                                 RidgeClassifier(alpha=2,\n",
       "                                                                 max_iter=1000,\n",
       "                                                                 solver=&#x27;lsqr&#x27;))],\n",
       "                                    final_estimator=GradientBoostingClassifier()))])</pre><b>In a Jupyter environment, please rerun this cell to show the HTML representation or trust the notebook. <br />On GitHub, the HTML representation is unable to render, please try loading this page with nbviewer.org.</b></div><div class=\"sk-container\" hidden><div class=\"sk-item sk-dashed-wrapped\"><div class=\"sk-label-container\"><div class=\"sk-label sk-toggleable\"><input class=\"sk-toggleable__control sk-hidden--visually\" id=\"sk-estimator-id-63\" type=\"checkbox\" ><label for=\"sk-estimator-id-63\" class=\"sk-toggleable__label sk-toggleable__label-arrow\">Pipeline</label><div class=\"sk-toggleable__content\"><pre>Pipeline(steps=[(&#x27;customcolumntransformer&#x27;,\n",
       "                 CustomColumnTransformer(transformers=[(&#x27;num_tr&#x27;,\n",
       "                                                        CustomMinMaxScale(),\n",
       "                                                        Index([&#x27;event_type_Account_Sign_In&#x27;, &#x27;event_type_Account_Sign_Out&#x27;,\n",
       "       &#x27;event_type_Account_Sign_Up&#x27;, &#x27;event_type_Account_Update_Request&#x27;,\n",
       "       &#x27;event_type_Account_Update_Success&#x27;, &#x27;event_type_Action_Click&#x27;,\n",
       "       &#x27;event_type_Action_ConversionClickRedeem&#x27;,\n",
       "       &#x27;eve...\n",
       "                                                                        n_estimators=450)),\n",
       "                                                (&#x27;knn&#x27;,\n",
       "                                                 KNeighborsClassifier(n_jobs=-1,\n",
       "                                                                      n_neighbors=30,\n",
       "                                                                      p=1,\n",
       "                                                                      weights=&#x27;distance&#x27;)),\n",
       "                                                (&#x27;log&#x27;,\n",
       "                                                 LogisticRegression(C=1.5,\n",
       "                                                                    max_iter=1000,\n",
       "                                                                    n_jobs=-1,\n",
       "                                                                    solver=&#x27;newton-cg&#x27;)),\n",
       "                                                (&#x27;svc&#x27;, SVC(C=10, gamma=1)),\n",
       "                                                (&#x27;ada&#x27;,\n",
       "                                                 AdaBoostClassifier(learning_rate=1)),\n",
       "                                                (&#x27;ridge&#x27;,\n",
       "                                                 RidgeClassifier(alpha=2,\n",
       "                                                                 max_iter=1000,\n",
       "                                                                 solver=&#x27;lsqr&#x27;))],\n",
       "                                    final_estimator=GradientBoostingClassifier()))])</pre></div></div></div><div class=\"sk-serial\"><div class=\"sk-item sk-dashed-wrapped\"><div class=\"sk-label-container\"><div class=\"sk-label sk-toggleable\"><input class=\"sk-toggleable__control sk-hidden--visually\" id=\"sk-estimator-id-64\" type=\"checkbox\" ><label for=\"sk-estimator-id-64\" class=\"sk-toggleable__label sk-toggleable__label-arrow\">customcolumntransformer: CustomColumnTransformer</label><div class=\"sk-toggleable__content\"><pre>CustomColumnTransformer(transformers=[(&#x27;num_tr&#x27;, CustomMinMaxScale(),\n",
       "                                       Index([&#x27;event_type_Account_Sign_In&#x27;, &#x27;event_type_Account_Sign_Out&#x27;,\n",
       "       &#x27;event_type_Account_Sign_Up&#x27;, &#x27;event_type_Account_Update_Request&#x27;,\n",
       "       &#x27;event_type_Account_Update_Success&#x27;, &#x27;event_type_Action_Click&#x27;,\n",
       "       &#x27;event_type_Action_ConversionClickRedeem&#x27;,\n",
       "       &#x27;event_type_Action_ConversionClickSubscribe&#x27;,\n",
       "       &#x27;e...\n",
       "       &#x27;time_since_last_session_min&#x27;, &#x27;week_maturity&#x27;, &#x27;session_start_day&#x27;,\n",
       "       &#x27;session_start_month&#x27;],\n",
       "      dtype=&#x27;object&#x27;)),\n",
       "                                      (&#x27;cat_tr&#x27;,\n",
       "                                       CustomOHE(drop=&#x27;if_binary&#x27;,\n",
       "                                                 handle_unknown=&#x27;ignore&#x27;,\n",
       "                                                 sparse=False),\n",
       "                                       Index([&#x27;Type&#x27;], dtype=&#x27;object&#x27;)),\n",
       "                                      (&#x27;month_tr&#x27;, Cyclical_month_Encoder(),\n",
       "                                       Index([&#x27;session_start_month&#x27;], dtype=&#x27;object&#x27;)),\n",
       "                                      (&#x27;day_tr&#x27;, Cyclical_day_Encoder(),\n",
       "                                       Index([&#x27;session_start_day&#x27;], dtype=&#x27;object&#x27;))])</pre></div></div></div><div class=\"sk-parallel\"><div class=\"sk-parallel-item\"><div class=\"sk-item\"><div class=\"sk-label-container\"><div class=\"sk-label sk-toggleable\"><input class=\"sk-toggleable__control sk-hidden--visually\" id=\"sk-estimator-id-65\" type=\"checkbox\" ><label for=\"sk-estimator-id-65\" class=\"sk-toggleable__label sk-toggleable__label-arrow\">num_tr</label><div class=\"sk-toggleable__content\"><pre>Index([&#x27;event_type_Account_Sign_In&#x27;, &#x27;event_type_Account_Sign_Out&#x27;,\n",
       "       &#x27;event_type_Account_Sign_Up&#x27;, &#x27;event_type_Account_Update_Request&#x27;,\n",
       "       &#x27;event_type_Account_Update_Success&#x27;, &#x27;event_type_Action_Click&#x27;,\n",
       "       &#x27;event_type_Action_ConversionClickRedeem&#x27;,\n",
       "       &#x27;event_type_Action_ConversionClickSubscribe&#x27;,\n",
       "       &#x27;event_type_Activation_Game&#x27;, &#x27;event_type_Activation_New_Activation&#x27;,\n",
       "       &#x27;event_type_Activation_Piece&#x27;, &#x27;event_type_Activation_Product&#x27;,\n",
       "       &#x27;event_type_Activity_Good_Answer&#x27;, &#x27;event_type_Activity_Start&#x27;,\n",
       "       &#x27;event_type_Activity_Stop&#x27;, &#x27;event_type_Activity_Wrong_Answer&#x27;,\n",
       "       &#x27;event_type_Error_Error&#x27;, &#x27;event_type_Game_Pause&#x27;,\n",
       "       &#x27;event_type_Game_Start&#x27;, &#x27;event_type_Game_Stop&#x27;,\n",
       "       &#x27;event_type_OB_ClickStore&#x27;, &#x27;event_type_OB_ClickTrial&#x27;,\n",
       "       &#x27;event_type_OB_CommPreview&#x27;, &#x27;event_type_OB_DiscoverTrial&#x27;,\n",
       "       &#x27;event_type_OB_DoYouHaveKit&#x27;, &#x27;event_type_OB_Email&#x27;,\n",
       "       &#x27;event_type_OB_HasKeyNo&#x27;, &#x27;event_type_OB_HasKitNo&#x27;,\n",
       "       &#x27;event_type_OB_HasKitYes&#x27;, &#x27;event_type_OB_KeyFail&#x27;,\n",
       "       &#x27;event_type_OB_KeyRedeem&#x27;, &#x27;event_type_OB_KeySuccess&#x27;,\n",
       "       &#x27;event_type_OB_ProductActivation&#x27;, &#x27;event_type_OB_ProductOther&#x27;,\n",
       "       &#x27;event_type_OB_ProductSK&#x27;, &#x27;event_type_OB_ProductSeeMore&#x27;,\n",
       "       &#x27;event_type_OB_ProductSelection&#x27;, &#x27;event_type_OB_ProfileBirthdate&#x27;,\n",
       "       &#x27;event_type_OB_RenewalFail&#x27;, &#x27;event_type_OB_RenewalSelection&#x27;,\n",
       "       &#x27;event_type_OB_RenewalSuccess&#x27;, &#x27;event_type_OB_Success&#x27;,\n",
       "       &#x27;event_type_OB_TrialStart&#x27;, &#x27;event_type_OB_Type&#x27;,\n",
       "       &#x27;event_type_OB_VerifCode&#x27;, &#x27;event_type_Popup_Close&#x27;,\n",
       "       &#x27;event_type_Popup_Open&#x27;, &#x27;event_type_Profile_Create&#x27;,\n",
       "       &#x27;event_type_Profile_Delete&#x27;,\n",
       "       &#x27;event_type_Profile_Reset_Settings_and_Progression&#x27;,\n",
       "       &#x27;event_type_Profile_Update&#x27;, &#x27;event_type_Scaffolding_Reset&#x27;,\n",
       "       &#x27;event_type_Scaffolding_Scaffolding&#x27;, &#x27;event_type_Scene_Enter&#x27;,\n",
       "       &#x27;event_type_Scene_Leave&#x27;, &#x27;event_type_Toast_Appear&#x27;, &#x27;game_events&#x27;,\n",
       "       &#x27;setup_events&#x27;, &#x27;unique_activity&#x27;, &#x27;Time_Spent&#x27;, &#x27;Profile_Age_days&#x27;,\n",
       "       &#x27;good_answer_ratio&#x27;, &#x27;duration_min&#x27;, &#x27;previous_session&#x27;,\n",
       "       &#x27;time_since_last_session_min&#x27;, &#x27;week_maturity&#x27;, &#x27;session_start_day&#x27;,\n",
       "       &#x27;session_start_month&#x27;],\n",
       "      dtype=&#x27;object&#x27;)</pre></div></div></div><div class=\"sk-serial\"><div class=\"sk-item\"><div class=\"sk-estimator sk-toggleable\"><input class=\"sk-toggleable__control sk-hidden--visually\" id=\"sk-estimator-id-66\" type=\"checkbox\" ><label for=\"sk-estimator-id-66\" class=\"sk-toggleable__label sk-toggleable__label-arrow\">CustomMinMaxScale</label><div class=\"sk-toggleable__content\"><pre>CustomMinMaxScale()</pre></div></div></div></div></div></div><div class=\"sk-parallel-item\"><div class=\"sk-item\"><div class=\"sk-label-container\"><div class=\"sk-label sk-toggleable\"><input class=\"sk-toggleable__control sk-hidden--visually\" id=\"sk-estimator-id-67\" type=\"checkbox\" ><label for=\"sk-estimator-id-67\" class=\"sk-toggleable__label sk-toggleable__label-arrow\">cat_tr</label><div class=\"sk-toggleable__content\"><pre>Index([&#x27;Type&#x27;], dtype=&#x27;object&#x27;)</pre></div></div></div><div class=\"sk-serial\"><div class=\"sk-item\"><div class=\"sk-estimator sk-toggleable\"><input class=\"sk-toggleable__control sk-hidden--visually\" id=\"sk-estimator-id-68\" type=\"checkbox\" ><label for=\"sk-estimator-id-68\" class=\"sk-toggleable__label sk-toggleable__label-arrow\">CustomOHE</label><div class=\"sk-toggleable__content\"><pre>CustomOHE(drop=&#x27;if_binary&#x27;, handle_unknown=&#x27;ignore&#x27;, sparse=False)</pre></div></div></div></div></div></div><div class=\"sk-parallel-item\"><div class=\"sk-item\"><div class=\"sk-label-container\"><div class=\"sk-label sk-toggleable\"><input class=\"sk-toggleable__control sk-hidden--visually\" id=\"sk-estimator-id-69\" type=\"checkbox\" ><label for=\"sk-estimator-id-69\" class=\"sk-toggleable__label sk-toggleable__label-arrow\">month_tr</label><div class=\"sk-toggleable__content\"><pre>Index([&#x27;session_start_month&#x27;], dtype=&#x27;object&#x27;)</pre></div></div></div><div class=\"sk-serial\"><div class=\"sk-item\"><div class=\"sk-estimator sk-toggleable\"><input class=\"sk-toggleable__control sk-hidden--visually\" id=\"sk-estimator-id-70\" type=\"checkbox\" ><label for=\"sk-estimator-id-70\" class=\"sk-toggleable__label sk-toggleable__label-arrow\">Cyclical_month_Encoder</label><div class=\"sk-toggleable__content\"><pre>Cyclical_month_Encoder()</pre></div></div></div></div></div></div><div class=\"sk-parallel-item\"><div class=\"sk-item\"><div class=\"sk-label-container\"><div class=\"sk-label sk-toggleable\"><input class=\"sk-toggleable__control sk-hidden--visually\" id=\"sk-estimator-id-71\" type=\"checkbox\" ><label for=\"sk-estimator-id-71\" class=\"sk-toggleable__label sk-toggleable__label-arrow\">day_tr</label><div class=\"sk-toggleable__content\"><pre>Index([&#x27;session_start_day&#x27;], dtype=&#x27;object&#x27;)</pre></div></div></div><div class=\"sk-serial\"><div class=\"sk-item\"><div class=\"sk-estimator sk-toggleable\"><input class=\"sk-toggleable__control sk-hidden--visually\" id=\"sk-estimator-id-72\" type=\"checkbox\" ><label for=\"sk-estimator-id-72\" class=\"sk-toggleable__label sk-toggleable__label-arrow\">Cyclical_day_Encoder</label><div class=\"sk-toggleable__content\"><pre>Cyclical_day_Encoder()</pre></div></div></div></div></div></div></div></div><div class=\"sk-item\"><div class=\"sk-estimator sk-toggleable\"><input class=\"sk-toggleable__control sk-hidden--visually\" id=\"sk-estimator-id-73\" type=\"checkbox\" ><label for=\"sk-estimator-id-73\" class=\"sk-toggleable__label sk-toggleable__label-arrow\">CustomSelectPercentile</label><div class=\"sk-toggleable__content\"><pre>CustomSelectPercentile(percentile=50)</pre></div></div></div><div class=\"sk-item\"><div class=\"sk-label-container\"><div class=\"sk-label sk-toggleable\"><input class=\"sk-toggleable__control sk-hidden--visually\" id=\"sk-estimator-id-74\" type=\"checkbox\" ><label for=\"sk-estimator-id-74\" class=\"sk-toggleable__label sk-toggleable__label-arrow\">stackingclassifier: StackingClassifier</label><div class=\"sk-toggleable__content\"><pre>StackingClassifier(estimators=[(&#x27;rf&#x27;,\n",
       "                                RandomForestClassifier(max_depth=40,\n",
       "                                                       max_samples=0.8,\n",
       "                                                       min_samples_split=15,\n",
       "                                                       n_estimators=450)),\n",
       "                               (&#x27;knn&#x27;,\n",
       "                                KNeighborsClassifier(n_jobs=-1, n_neighbors=30,\n",
       "                                                     p=1, weights=&#x27;distance&#x27;)),\n",
       "                               (&#x27;log&#x27;,\n",
       "                                LogisticRegression(C=1.5, max_iter=1000,\n",
       "                                                   n_jobs=-1,\n",
       "                                                   solver=&#x27;newton-cg&#x27;)),\n",
       "                               (&#x27;svc&#x27;, SVC(C=10, gamma=1)),\n",
       "                               (&#x27;ada&#x27;, AdaBoostClassifier(learning_rate=1)),\n",
       "                               (&#x27;ridge&#x27;,\n",
       "                                RidgeClassifier(alpha=2, max_iter=1000,\n",
       "                                                solver=&#x27;lsqr&#x27;))],\n",
       "                   final_estimator=GradientBoostingClassifier())</pre></div></div></div><div class=\"sk-serial\"><div class=\"sk-item\"><div class=\"sk-parallel\"><div class=\"sk-parallel-item\"><div class=\"sk-item\"><div class=\"sk-label-container\"><div class=\"sk-label sk-toggleable\"><label>rf</label></div></div><div class=\"sk-serial\"><div class=\"sk-item\"><div class=\"sk-estimator sk-toggleable\"><input class=\"sk-toggleable__control sk-hidden--visually\" id=\"sk-estimator-id-75\" type=\"checkbox\" ><label for=\"sk-estimator-id-75\" class=\"sk-toggleable__label sk-toggleable__label-arrow\">RandomForestClassifier</label><div class=\"sk-toggleable__content\"><pre>RandomForestClassifier(max_depth=40, max_samples=0.8, min_samples_split=15,\n",
       "                       n_estimators=450)</pre></div></div></div></div></div></div><div class=\"sk-parallel-item\"><div class=\"sk-item\"><div class=\"sk-label-container\"><div class=\"sk-label sk-toggleable\"><label>knn</label></div></div><div class=\"sk-serial\"><div class=\"sk-item\"><div class=\"sk-estimator sk-toggleable\"><input class=\"sk-toggleable__control sk-hidden--visually\" id=\"sk-estimator-id-76\" type=\"checkbox\" ><label for=\"sk-estimator-id-76\" class=\"sk-toggleable__label sk-toggleable__label-arrow\">KNeighborsClassifier</label><div class=\"sk-toggleable__content\"><pre>KNeighborsClassifier(n_jobs=-1, n_neighbors=30, p=1, weights=&#x27;distance&#x27;)</pre></div></div></div></div></div></div><div class=\"sk-parallel-item\"><div class=\"sk-item\"><div class=\"sk-label-container\"><div class=\"sk-label sk-toggleable\"><label>log</label></div></div><div class=\"sk-serial\"><div class=\"sk-item\"><div class=\"sk-estimator sk-toggleable\"><input class=\"sk-toggleable__control sk-hidden--visually\" id=\"sk-estimator-id-77\" type=\"checkbox\" ><label for=\"sk-estimator-id-77\" class=\"sk-toggleable__label sk-toggleable__label-arrow\">LogisticRegression</label><div class=\"sk-toggleable__content\"><pre>LogisticRegression(C=1.5, max_iter=1000, n_jobs=-1, solver=&#x27;newton-cg&#x27;)</pre></div></div></div></div></div></div><div class=\"sk-parallel-item\"><div class=\"sk-item\"><div class=\"sk-label-container\"><div class=\"sk-label sk-toggleable\"><label>svc</label></div></div><div class=\"sk-serial\"><div class=\"sk-item\"><div class=\"sk-estimator sk-toggleable\"><input class=\"sk-toggleable__control sk-hidden--visually\" id=\"sk-estimator-id-78\" type=\"checkbox\" ><label for=\"sk-estimator-id-78\" class=\"sk-toggleable__label sk-toggleable__label-arrow\">SVC</label><div class=\"sk-toggleable__content\"><pre>SVC(C=10, gamma=1)</pre></div></div></div></div></div></div><div class=\"sk-parallel-item\"><div class=\"sk-item\"><div class=\"sk-label-container\"><div class=\"sk-label sk-toggleable\"><label>ada</label></div></div><div class=\"sk-serial\"><div class=\"sk-item\"><div class=\"sk-estimator sk-toggleable\"><input class=\"sk-toggleable__control sk-hidden--visually\" id=\"sk-estimator-id-79\" type=\"checkbox\" ><label for=\"sk-estimator-id-79\" class=\"sk-toggleable__label sk-toggleable__label-arrow\">AdaBoostClassifier</label><div class=\"sk-toggleable__content\"><pre>AdaBoostClassifier(learning_rate=1)</pre></div></div></div></div></div></div><div class=\"sk-parallel-item\"><div class=\"sk-item\"><div class=\"sk-label-container\"><div class=\"sk-label sk-toggleable\"><label>ridge</label></div></div><div class=\"sk-serial\"><div class=\"sk-item\"><div class=\"sk-estimator sk-toggleable\"><input class=\"sk-toggleable__control sk-hidden--visually\" id=\"sk-estimator-id-80\" type=\"checkbox\" ><label for=\"sk-estimator-id-80\" class=\"sk-toggleable__label sk-toggleable__label-arrow\">RidgeClassifier</label><div class=\"sk-toggleable__content\"><pre>RidgeClassifier(alpha=2, max_iter=1000, solver=&#x27;lsqr&#x27;)</pre></div></div></div></div></div></div></div></div><div class=\"sk-item\"><div class=\"sk-parallel\"><div class=\"sk-parallel-item\"><div class=\"sk-item\"><div class=\"sk-label-container\"><div class=\"sk-label sk-toggleable\"><label>final_estimator</label></div></div><div class=\"sk-serial\"><div class=\"sk-item\"><div class=\"sk-estimator sk-toggleable\"><input class=\"sk-toggleable__control sk-hidden--visually\" id=\"sk-estimator-id-81\" type=\"checkbox\" ><label for=\"sk-estimator-id-81\" class=\"sk-toggleable__label sk-toggleable__label-arrow\">GradientBoostingClassifier</label><div class=\"sk-toggleable__content\"><pre>GradientBoostingClassifier()</pre></div></div></div></div></div></div></div></div></div></div></div></div></div></div>"
      ],
      "text/plain": [
       "Pipeline(steps=[('customcolumntransformer',\n",
       "                 CustomColumnTransformer(transformers=[('num_tr',\n",
       "                                                        CustomMinMaxScale(),\n",
       "                                                        Index(['event_type_Account_Sign_In', 'event_type_Account_Sign_Out',\n",
       "       'event_type_Account_Sign_Up', 'event_type_Account_Update_Request',\n",
       "       'event_type_Account_Update_Success', 'event_type_Action_Click',\n",
       "       'event_type_Action_ConversionClickRedeem',\n",
       "       'eve...\n",
       "                                                                        n_estimators=450)),\n",
       "                                                ('knn',\n",
       "                                                 KNeighborsClassifier(n_jobs=-1,\n",
       "                                                                      n_neighbors=30,\n",
       "                                                                      p=1,\n",
       "                                                                      weights='distance')),\n",
       "                                                ('log',\n",
       "                                                 LogisticRegression(C=1.5,\n",
       "                                                                    max_iter=1000,\n",
       "                                                                    n_jobs=-1,\n",
       "                                                                    solver='newton-cg')),\n",
       "                                                ('svc', SVC(C=10, gamma=1)),\n",
       "                                                ('ada',\n",
       "                                                 AdaBoostClassifier(learning_rate=1)),\n",
       "                                                ('ridge',\n",
       "                                                 RidgeClassifier(alpha=2,\n",
       "                                                                 max_iter=1000,\n",
       "                                                                 solver='lsqr'))],\n",
       "                                    final_estimator=GradientBoostingClassifier()))])"
      ]
     },
     "execution_count": 175,
     "metadata": {},
     "output_type": "execute_result"
    }
   ],
   "source": [
    "stacked_pipe.fit(X_train, y_train)"
   ]
  },
  {
   "cell_type": "code",
   "execution_count": 176,
   "id": "99f11917",
   "metadata": {
    "ExecuteTime": {
     "end_time": "2022-07-07T15:42:08.609774Z",
     "start_time": "2022-07-07T15:42:07.022721Z"
    }
   },
   "outputs": [],
   "source": [
    "y_pred_stacked = stacked_pipe.predict(X_test)"
   ]
  },
  {
   "cell_type": "code",
   "execution_count": 177,
   "id": "83c2df35",
   "metadata": {
    "ExecuteTime": {
     "end_time": "2022-07-07T15:42:08.617370Z",
     "start_time": "2022-07-07T15:42:08.611108Z"
    }
   },
   "outputs": [
    {
     "name": "stdout",
     "output_type": "stream",
     "text": [
      "              precision    recall  f1-score   support\n",
      "\n",
      "    classe 0       0.79      0.63      0.70      1183\n",
      "    Classe 1       0.70      0.84      0.76      1227\n",
      "\n",
      "    accuracy                           0.74      2410\n",
      "   macro avg       0.75      0.74      0.73      2410\n",
      "weighted avg       0.75      0.74      0.73      2410\n",
      "\n"
     ]
    }
   ],
   "source": [
    "print(classification_report(y_test,y_pred_stacked,target_names=target_names))"
   ]
  },
  {
   "cell_type": "code",
   "execution_count": 178,
   "id": "1ae14f70",
   "metadata": {
    "ExecuteTime": {
     "end_time": "2022-07-07T15:42:08.705228Z",
     "start_time": "2022-07-07T15:42:08.618603Z"
    }
   },
   "outputs": [
    {
     "data": {
      "image/png": "[encoded data removed]",
      "text/plain": [
       "<Figure size 432x288 with 2 Axes>"
      ]
     },
     "metadata": {
      "needs_background": "light"
     },
     "output_type": "display_data"
    }
   ],
   "source": [
    "#Confusion matrix\n",
    "from sklearn.metrics import confusion_matrix, ConfusionMatrixDisplay\n",
    "label = ['No churn risk', 'Churn risk'] \n",
    "cm = confusion_matrix(y_test, y_pred_stacked)\n",
    "disp = ConfusionMatrixDisplay(confusion_matrix=cm,display_labels=label)\n",
    "disp.plot();"
   ]
  },
  {
   "cell_type": "code",
   "execution_count": 179,
   "id": "0957c295",
   "metadata": {
    "ExecuteTime": {
     "end_time": "2022-07-07T15:42:08.710135Z",
     "start_time": "2022-07-07T15:42:08.707033Z"
    }
   },
   "outputs": [
    {
     "data": {
      "text/plain": [
       "dict_keys(['customcolumntransformer', 'customselectpercentile', 'stackingclassifier'])"
      ]
     },
     "execution_count": 179,
     "metadata": {},
     "output_type": "execute_result"
    }
   ],
   "source": [
    "stacked_pipe.named_steps.keys()"
   ]
  },
  {
   "cell_type": "code",
   "execution_count": 180,
   "id": "0e33ef35",
   "metadata": {
    "ExecuteTime": {
     "end_time": "2022-07-07T15:42:08.718850Z",
     "start_time": "2022-07-07T15:42:08.711692Z"
    }
   },
   "outputs": [
    {
     "data": {
      "text/html": [
       "<div>\n",
       "<style scoped>\n",
       "    .dataframe tbody tr th:only-of-type {\n",
       "        vertical-align: middle;\n",
       "    }\n",
       "\n",
       "    .dataframe tbody tr th {\n",
       "        vertical-align: top;\n",
       "    }\n",
       "\n",
       "    .dataframe thead th {\n",
       "        text-align: right;\n",
       "    }\n",
       "</style>\n",
       "<table border=\"1\" class=\"dataframe\">\n",
       "  <thead>\n",
       "    <tr style=\"text-align: right;\">\n",
       "      <th></th>\n",
       "      <th>0</th>\n",
       "    </tr>\n",
       "  </thead>\n",
       "  <tbody>\n",
       "    <tr>\n",
       "      <th>num_tr__previous_session</th>\n",
       "      <td>522.688047</td>\n",
       "    </tr>\n",
       "    <tr>\n",
       "      <th>num_tr__time_since_last_session_min</th>\n",
       "      <td>84.870248</td>\n",
       "    </tr>\n",
       "    <tr>\n",
       "      <th>num_tr__session_start_month</th>\n",
       "      <td>82.218469</td>\n",
       "    </tr>\n",
       "    <tr>\n",
       "      <th>month_tr__month_sin</th>\n",
       "      <td>79.941426</td>\n",
       "    </tr>\n",
       "    <tr>\n",
       "      <th>cat_tr__Type_Teacher</th>\n",
       "      <td>71.497092</td>\n",
       "    </tr>\n",
       "    <tr>\n",
       "      <th>month_tr__month_cos</th>\n",
       "      <td>66.635687</td>\n",
       "    </tr>\n",
       "    <tr>\n",
       "      <th>num_tr__Time_Spent</th>\n",
       "      <td>59.231504</td>\n",
       "    </tr>\n",
       "    <tr>\n",
       "      <th>num_tr__unique_activity</th>\n",
       "      <td>36.867567</td>\n",
       "    </tr>\n",
       "    <tr>\n",
       "      <th>num_tr__week_maturity</th>\n",
       "      <td>34.464642</td>\n",
       "    </tr>\n",
       "    <tr>\n",
       "      <th>num_tr__session_start_day</th>\n",
       "      <td>34.342147</td>\n",
       "    </tr>\n",
       "    <tr>\n",
       "      <th>num_tr__duration_min</th>\n",
       "      <td>28.892073</td>\n",
       "    </tr>\n",
       "    <tr>\n",
       "      <th>num_tr__event_type_Activity_Start</th>\n",
       "      <td>27.926949</td>\n",
       "    </tr>\n",
       "    <tr>\n",
       "      <th>num_tr__game_events</th>\n",
       "      <td>27.575016</td>\n",
       "    </tr>\n",
       "    <tr>\n",
       "      <th>num_tr__event_type_Scene_Leave</th>\n",
       "      <td>20.314305</td>\n",
       "    </tr>\n",
       "    <tr>\n",
       "      <th>num_tr__event_type_Scene_Enter</th>\n",
       "      <td>19.566581</td>\n",
       "    </tr>\n",
       "    <tr>\n",
       "      <th>num_tr__event_type_Action_Click</th>\n",
       "      <td>18.268509</td>\n",
       "    </tr>\n",
       "    <tr>\n",
       "      <th>day_tr__day_sin</th>\n",
       "      <td>17.511520</td>\n",
       "    </tr>\n",
       "    <tr>\n",
       "      <th>day_tr__day_cos</th>\n",
       "      <td>15.870971</td>\n",
       "    </tr>\n",
       "    <tr>\n",
       "      <th>num_tr__event_type_Activity_Good_Answer</th>\n",
       "      <td>9.950280</td>\n",
       "    </tr>\n",
       "    <tr>\n",
       "      <th>num_tr__event_type_Activity_Wrong_Answer</th>\n",
       "      <td>9.416184</td>\n",
       "    </tr>\n",
       "    <tr>\n",
       "      <th>num_tr__event_type_OB_HasKitYes</th>\n",
       "      <td>7.485323</td>\n",
       "    </tr>\n",
       "    <tr>\n",
       "      <th>num_tr__Profile_Age_days</th>\n",
       "      <td>6.629393</td>\n",
       "    </tr>\n",
       "    <tr>\n",
       "      <th>num_tr__event_type_Game_Pause</th>\n",
       "      <td>6.197179</td>\n",
       "    </tr>\n",
       "    <tr>\n",
       "      <th>num_tr__event_type_OB_VerifCode</th>\n",
       "      <td>6.048371</td>\n",
       "    </tr>\n",
       "    <tr>\n",
       "      <th>num_tr__event_type_OB_DoYouHaveKit</th>\n",
       "      <td>5.833489</td>\n",
       "    </tr>\n",
       "    <tr>\n",
       "      <th>num_tr__event_type_Account_Sign_Up</th>\n",
       "      <td>5.384731</td>\n",
       "    </tr>\n",
       "    <tr>\n",
       "      <th>num_tr__good_answer_ratio</th>\n",
       "      <td>5.102880</td>\n",
       "    </tr>\n",
       "    <tr>\n",
       "      <th>num_tr__event_type_Activation_New_Activation</th>\n",
       "      <td>5.005871</td>\n",
       "    </tr>\n",
       "    <tr>\n",
       "      <th>num_tr__event_type_Activation_Game</th>\n",
       "      <td>4.740935</td>\n",
       "    </tr>\n",
       "    <tr>\n",
       "      <th>num_tr__event_type_OB_Email</th>\n",
       "      <td>4.708506</td>\n",
       "    </tr>\n",
       "    <tr>\n",
       "      <th>num_tr__event_type_Activation_Product</th>\n",
       "      <td>4.443326</td>\n",
       "    </tr>\n",
       "    <tr>\n",
       "      <th>num_tr__event_type_Scaffolding_Scaffolding</th>\n",
       "      <td>4.369744</td>\n",
       "    </tr>\n",
       "    <tr>\n",
       "      <th>num_tr__event_type_OB_CommPreview</th>\n",
       "      <td>4.050693</td>\n",
       "    </tr>\n",
       "  </tbody>\n",
       "</table>\n",
       "</div>"
      ],
      "text/plain": [
       "                                                       0\n",
       "num_tr__previous_session                      522.688047\n",
       "num_tr__time_since_last_session_min            84.870248\n",
       "num_tr__session_start_month                    82.218469\n",
       "month_tr__month_sin                            79.941426\n",
       "cat_tr__Type_Teacher                           71.497092\n",
       "month_tr__month_cos                            66.635687\n",
       "num_tr__Time_Spent                             59.231504\n",
       "num_tr__unique_activity                        36.867567\n",
       "num_tr__week_maturity                          34.464642\n",
       "num_tr__session_start_day                      34.342147\n",
       "num_tr__duration_min                           28.892073\n",
       "num_tr__event_type_Activity_Start              27.926949\n",
       "num_tr__game_events                            27.575016\n",
       "num_tr__event_type_Scene_Leave                 20.314305\n",
       "num_tr__event_type_Scene_Enter                 19.566581\n",
       "num_tr__event_type_Action_Click                18.268509\n",
       "day_tr__day_sin                                17.511520\n",
       "day_tr__day_cos                                15.870971\n",
       "num_tr__event_type_Activity_Good_Answer         9.950280\n",
       "num_tr__event_type_Activity_Wrong_Answer        9.416184\n",
       "num_tr__event_type_OB_HasKitYes                 7.485323\n",
       "num_tr__Profile_Age_days                        6.629393\n",
       "num_tr__event_type_Game_Pause                   6.197179\n",
       "num_tr__event_type_OB_VerifCode                 6.048371\n",
       "num_tr__event_type_OB_DoYouHaveKit              5.833489\n",
       "num_tr__event_type_Account_Sign_Up              5.384731\n",
       "num_tr__good_answer_ratio                       5.102880\n",
       "num_tr__event_type_Activation_New_Activation    5.005871\n",
       "num_tr__event_type_Activation_Game              4.740935\n",
       "num_tr__event_type_OB_Email                     4.708506\n",
       "num_tr__event_type_Activation_Product           4.443326\n",
       "num_tr__event_type_Scaffolding_Scaffolding      4.369744\n",
       "num_tr__event_type_OB_CommPreview               4.050693"
      ]
     },
     "execution_count": 180,
     "metadata": {},
     "output_type": "execute_result"
    }
   ],
   "source": [
    "#Analyse de la variance des colonnes gardées\n",
    "pd.DataFrame(stacked_pipe.named_steps[\"customselectpercentile\"].scores_,index=stacked_pipe.named_steps[\"customselectpercentile\"].feature_names_in_).sort_values(by=0,ascending=False)[:33]"
   ]
  },
  {
   "cell_type": "markdown",
   "id": "8d484df1",
   "metadata": {},
   "source": [
    "**Quels sont les colonnes qui ont été gardée dans le modèle de stacking**"
   ]
  },
  {
   "cell_type": "code",
   "execution_count": 181,
   "id": "c9a5c32c",
   "metadata": {
    "ExecuteTime": {
     "end_time": "2022-07-07T15:42:08.745058Z",
     "start_time": "2022-07-07T15:42:08.720893Z"
    },
    "scrolled": true
   },
   "outputs": [
    {
     "name": "stderr",
     "output_type": "stream",
     "text": [
      "/Users/antonin/.pyenv/versions/3.8.13/envs/marbotic/lib/python3.8/site-packages/sklearn/feature_selection/_univariate_selection.py:112: UserWarning: Features [7] are constant.\n",
      "  warnings.warn(\"Features %s are constant.\" % constant_features_idx, UserWarning)\n",
      "/Users/antonin/.pyenv/versions/3.8.13/envs/marbotic/lib/python3.8/site-packages/sklearn/feature_selection/_univariate_selection.py:113: RuntimeWarning: invalid value encountered in true_divide\n",
      "  f = msb / msw\n"
     ]
    }
   ],
   "source": [
    "columns_selected_pipe = make_pipeline(preprocessor,CustomSelectPercentile(percentile=50))\n",
    "columns_selected = columns_selected_pipe.fit_transform(X_train, y_train).columns"
   ]
  },
  {
   "cell_type": "code",
   "execution_count": 182,
   "id": "a87d1dee",
   "metadata": {
    "ExecuteTime": {
     "end_time": "2022-07-07T15:42:08.750468Z",
     "start_time": "2022-07-07T15:42:08.747545Z"
    }
   },
   "outputs": [],
   "source": [
    "columns_selected = [f[8:] for f in columns_selected]"
   ]
  },
  {
   "cell_type": "code",
   "execution_count": 183,
   "id": "608e0dea",
   "metadata": {
    "ExecuteTime": {
     "end_time": "2022-07-07T15:42:08.757657Z",
     "start_time": "2022-07-07T15:42:08.753182Z"
    }
   },
   "outputs": [
    {
     "data": {
      "text/plain": [
       "['event_type_Account_Sign_In',\n",
       " 'event_type_Account_Sign_Up',\n",
       " 'event_type_Action_Click',\n",
       " 'event_type_Activation_Game',\n",
       " 'event_type_Activation_New_Activation',\n",
       " 'event_type_Activation_Product',\n",
       " 'event_type_Activity_Good_Answer',\n",
       " 'event_type_Activity_Start',\n",
       " 'event_type_Activity_Stop',\n",
       " 'event_type_Activity_Wrong_Answer',\n",
       " 'event_type_Game_Pause',\n",
       " 'event_type_OB_CommPreview',\n",
       " 'event_type_OB_DoYouHaveKit',\n",
       " 'event_type_OB_Email',\n",
       " 'event_type_OB_HasKitYes',\n",
       " 'event_type_OB_VerifCode',\n",
       " 'event_type_Scaffolding_Scaffolding',\n",
       " 'event_type_Scene_Enter',\n",
       " 'event_type_Scene_Leave',\n",
       " 'game_events',\n",
       " 'setup_events',\n",
       " 'unique_activity',\n",
       " 'Time_Spent',\n",
       " 'Profile_Age_days',\n",
       " 'good_answer_ratio',\n",
       " 'duration_min',\n",
       " 'previous_session',\n",
       " 'time_since_last_session_min',\n",
       " 'week_maturity',\n",
       " 'session_start_day',\n",
       " 'session_start_month',\n",
       " 'Type_Teacher',\n",
       " '__month_cos',\n",
       " '__month_sin',\n",
       " 'day_cos',\n",
       " 'day_sin']"
      ]
     },
     "execution_count": 183,
     "metadata": {},
     "output_type": "execute_result"
    }
   ],
   "source": [
    "#33 colonnes gardées\n",
    "columns_selected"
   ]
  },
  {
   "cell_type": "markdown",
   "id": "0ea12a08",
   "metadata": {},
   "source": [
    "## Modèle uniquement sur les parents"
   ]
  },
  {
   "cell_type": "code",
   "execution_count": 184,
   "id": "28952f2c",
   "metadata": {
    "ExecuteTime": {
     "end_time": "2022-07-07T15:42:08.766380Z",
     "start_time": "2022-07-07T15:42:08.759246Z"
    }
   },
   "outputs": [],
   "source": [
    "parent_df = sm_df[sm_df['Type']==\"Parent\"]"
   ]
  },
  {
   "cell_type": "code",
   "execution_count": 185,
   "id": "062c2ad0",
   "metadata": {
    "ExecuteTime": {
     "end_time": "2022-07-07T15:42:08.784485Z",
     "start_time": "2022-07-07T15:42:08.767809Z"
    }
   },
   "outputs": [],
   "source": [
    "X_parent, y_parent = downsample_churn_risk(parent_df)"
   ]
  },
  {
   "cell_type": "code",
   "execution_count": 186,
   "id": "43a0b573",
   "metadata": {
    "ExecuteTime": {
     "end_time": "2022-07-07T15:42:08.791896Z",
     "start_time": "2022-07-07T15:42:08.785986Z"
    }
   },
   "outputs": [],
   "source": [
    "X_train_parent, X_test_parent, y_train_parent, y_test_parent = train_test_split(X_parent, y_parent, test_size=0.30)"
   ]
  },
  {
   "cell_type": "code",
   "execution_count": 187,
   "id": "8956f6b3",
   "metadata": {
    "ExecuteTime": {
     "end_time": "2022-07-07T15:42:27.865855Z",
     "start_time": "2022-07-07T15:42:08.793383Z"
    }
   },
   "outputs": [
    {
     "name": "stderr",
     "output_type": "stream",
     "text": [
      "/Users/antonin/.pyenv/versions/3.8.13/envs/marbotic/lib/python3.8/site-packages/sklearn/feature_selection/_univariate_selection.py:112: UserWarning: Features [ 6 68] are constant.\n",
      "  warnings.warn(\"Features %s are constant.\" % constant_features_idx, UserWarning)\n",
      "/Users/antonin/.pyenv/versions/3.8.13/envs/marbotic/lib/python3.8/site-packages/sklearn/feature_selection/_univariate_selection.py:113: RuntimeWarning: invalid value encountered in true_divide\n",
      "  f = msb / msw\n"
     ]
    },
    {
     "data": {
      "text/html": [
       "<style>#sk-container-id-6 {color: black;background-color: white;}#sk-container-id-6 pre{padding: 0;}#sk-container-id-6 div.sk-toggleable {background-color: white;}#sk-container-id-6 label.sk-toggleable__label {cursor: pointer;display: block;width: 100%;margin-bottom: 0;padding: 0.3em;box-sizing: border-box;text-align: center;}#sk-container-id-6 label.sk-toggleable__label-arrow:before {content: \"▸\";float: left;margin-right: 0.25em;color: #696969;}#sk-container-id-6 label.sk-toggleable__label-arrow:hover:before {color: black;}#sk-container-id-6 div.sk-estimator:hover label.sk-toggleable__label-arrow:before {color: black;}#sk-container-id-6 div.sk-toggleable__content {max-height: 0;max-width: 0;overflow: hidden;text-align: left;background-color: #f0f8ff;}#sk-container-id-6 div.sk-toggleable__content pre {margin: 0.2em;color: black;border-radius: 0.25em;background-color: #f0f8ff;}#sk-container-id-6 input.sk-toggleable__control:checked~div.sk-toggleable__content {max-height: 200px;max-width: 100%;overflow: auto;}#sk-container-id-6 input.sk-toggleable__control:checked~label.sk-toggleable__label-arrow:before {content: \"▾\";}#sk-container-id-6 div.sk-estimator input.sk-toggleable__control:checked~label.sk-toggleable__label {background-color: #d4ebff;}#sk-container-id-6 div.sk-label input.sk-toggleable__control:checked~label.sk-toggleable__label {background-color: #d4ebff;}#sk-container-id-6 input.sk-hidden--visually {border: 0;clip: rect(1px 1px 1px 1px);clip: rect(1px, 1px, 1px, 1px);height: 1px;margin: -1px;overflow: hidden;padding: 0;position: absolute;width: 1px;}#sk-container-id-6 div.sk-estimator {font-family: monospace;background-color: #f0f8ff;border: 1px dotted black;border-radius: 0.25em;box-sizing: border-box;margin-bottom: 0.5em;}#sk-container-id-6 div.sk-estimator:hover {background-color: #d4ebff;}#sk-container-id-6 div.sk-parallel-item::after {content: \"\";width: 100%;border-bottom: 1px solid gray;flex-grow: 1;}#sk-container-id-6 div.sk-label:hover label.sk-toggleable__label {background-color: #d4ebff;}#sk-container-id-6 div.sk-serial::before {content: \"\";position: absolute;border-left: 1px solid gray;box-sizing: border-box;top: 0;bottom: 0;left: 50%;z-index: 0;}#sk-container-id-6 div.sk-serial {display: flex;flex-direction: column;align-items: center;background-color: white;padding-right: 0.2em;padding-left: 0.2em;position: relative;}#sk-container-id-6 div.sk-item {position: relative;z-index: 1;}#sk-container-id-6 div.sk-parallel {display: flex;align-items: stretch;justify-content: center;background-color: white;position: relative;}#sk-container-id-6 div.sk-item::before, #sk-container-id-6 div.sk-parallel-item::before {content: \"\";position: absolute;border-left: 1px solid gray;box-sizing: border-box;top: 0;bottom: 0;left: 50%;z-index: -1;}#sk-container-id-6 div.sk-parallel-item {display: flex;flex-direction: column;z-index: 1;position: relative;background-color: white;}#sk-container-id-6 div.sk-parallel-item:first-child::after {align-self: flex-end;width: 50%;}#sk-container-id-6 div.sk-parallel-item:last-child::after {align-self: flex-start;width: 50%;}#sk-container-id-6 div.sk-parallel-item:only-child::after {width: 0;}#sk-container-id-6 div.sk-dashed-wrapped {border: 1px dashed gray;margin: 0 0.4em 0.5em 0.4em;box-sizing: border-box;padding-bottom: 0.4em;background-color: white;}#sk-container-id-6 div.sk-label label {font-family: monospace;font-weight: bold;display: inline-block;line-height: 1.2em;}#sk-container-id-6 div.sk-label-container {text-align: center;}#sk-container-id-6 div.sk-container {/* jupyter's `normalize.less` sets `[hidden] { display: none; }` but bootstrap.min.css set `[hidden] { display: none !important; }` so we also need the `!important` here to be able to override the default hidden behavior on the sphinx rendered scikit-learn.org. See: https://github.com/scikit-learn/scikit-learn/issues/21755 */display: inline-block !important;position: relative;}#sk-container-id-6 div.sk-text-repr-fallback {display: none;}</style><div id=\"sk-container-id-6\" class=\"sk-top-container\"><div class=\"sk-text-repr-fallback\"><pre>Pipeline(steps=[(&#x27;customcolumntransformer&#x27;,\n",
       "                 CustomColumnTransformer(transformers=[(&#x27;num_tr&#x27;,\n",
       "                                                        CustomMinMaxScale(),\n",
       "                                                        Index([&#x27;event_type_Account_Sign_In&#x27;, &#x27;event_type_Account_Sign_Out&#x27;,\n",
       "       &#x27;event_type_Account_Sign_Up&#x27;, &#x27;event_type_Account_Update_Request&#x27;,\n",
       "       &#x27;event_type_Account_Update_Success&#x27;, &#x27;event_type_Action_Click&#x27;,\n",
       "       &#x27;event_type_Action_ConversionClickRedeem&#x27;,\n",
       "       &#x27;eve...\n",
       "                                                                        n_estimators=450)),\n",
       "                                                (&#x27;knn&#x27;,\n",
       "                                                 KNeighborsClassifier(n_jobs=-1,\n",
       "                                                                      n_neighbors=30,\n",
       "                                                                      p=1,\n",
       "                                                                      weights=&#x27;distance&#x27;)),\n",
       "                                                (&#x27;log&#x27;,\n",
       "                                                 LogisticRegression(C=1.5,\n",
       "                                                                    max_iter=1000,\n",
       "                                                                    n_jobs=-1,\n",
       "                                                                    solver=&#x27;newton-cg&#x27;)),\n",
       "                                                (&#x27;svc&#x27;, SVC(C=10, gamma=1)),\n",
       "                                                (&#x27;ada&#x27;,\n",
       "                                                 AdaBoostClassifier(learning_rate=1)),\n",
       "                                                (&#x27;ridge&#x27;,\n",
       "                                                 RidgeClassifier(alpha=2,\n",
       "                                                                 max_iter=1000,\n",
       "                                                                 solver=&#x27;lsqr&#x27;))],\n",
       "                                    final_estimator=GradientBoostingClassifier()))])</pre><b>In a Jupyter environment, please rerun this cell to show the HTML representation or trust the notebook. <br />On GitHub, the HTML representation is unable to render, please try loading this page with nbviewer.org.</b></div><div class=\"sk-container\" hidden><div class=\"sk-item sk-dashed-wrapped\"><div class=\"sk-label-container\"><div class=\"sk-label sk-toggleable\"><input class=\"sk-toggleable__control sk-hidden--visually\" id=\"sk-estimator-id-82\" type=\"checkbox\" ><label for=\"sk-estimator-id-82\" class=\"sk-toggleable__label sk-toggleable__label-arrow\">Pipeline</label><div class=\"sk-toggleable__content\"><pre>Pipeline(steps=[(&#x27;customcolumntransformer&#x27;,\n",
       "                 CustomColumnTransformer(transformers=[(&#x27;num_tr&#x27;,\n",
       "                                                        CustomMinMaxScale(),\n",
       "                                                        Index([&#x27;event_type_Account_Sign_In&#x27;, &#x27;event_type_Account_Sign_Out&#x27;,\n",
       "       &#x27;event_type_Account_Sign_Up&#x27;, &#x27;event_type_Account_Update_Request&#x27;,\n",
       "       &#x27;event_type_Account_Update_Success&#x27;, &#x27;event_type_Action_Click&#x27;,\n",
       "       &#x27;event_type_Action_ConversionClickRedeem&#x27;,\n",
       "       &#x27;eve...\n",
       "                                                                        n_estimators=450)),\n",
       "                                                (&#x27;knn&#x27;,\n",
       "                                                 KNeighborsClassifier(n_jobs=-1,\n",
       "                                                                      n_neighbors=30,\n",
       "                                                                      p=1,\n",
       "                                                                      weights=&#x27;distance&#x27;)),\n",
       "                                                (&#x27;log&#x27;,\n",
       "                                                 LogisticRegression(C=1.5,\n",
       "                                                                    max_iter=1000,\n",
       "                                                                    n_jobs=-1,\n",
       "                                                                    solver=&#x27;newton-cg&#x27;)),\n",
       "                                                (&#x27;svc&#x27;, SVC(C=10, gamma=1)),\n",
       "                                                (&#x27;ada&#x27;,\n",
       "                                                 AdaBoostClassifier(learning_rate=1)),\n",
       "                                                (&#x27;ridge&#x27;,\n",
       "                                                 RidgeClassifier(alpha=2,\n",
       "                                                                 max_iter=1000,\n",
       "                                                                 solver=&#x27;lsqr&#x27;))],\n",
       "                                    final_estimator=GradientBoostingClassifier()))])</pre></div></div></div><div class=\"sk-serial\"><div class=\"sk-item sk-dashed-wrapped\"><div class=\"sk-label-container\"><div class=\"sk-label sk-toggleable\"><input class=\"sk-toggleable__control sk-hidden--visually\" id=\"sk-estimator-id-83\" type=\"checkbox\" ><label for=\"sk-estimator-id-83\" class=\"sk-toggleable__label sk-toggleable__label-arrow\">customcolumntransformer: CustomColumnTransformer</label><div class=\"sk-toggleable__content\"><pre>CustomColumnTransformer(transformers=[(&#x27;num_tr&#x27;, CustomMinMaxScale(),\n",
       "                                       Index([&#x27;event_type_Account_Sign_In&#x27;, &#x27;event_type_Account_Sign_Out&#x27;,\n",
       "       &#x27;event_type_Account_Sign_Up&#x27;, &#x27;event_type_Account_Update_Request&#x27;,\n",
       "       &#x27;event_type_Account_Update_Success&#x27;, &#x27;event_type_Action_Click&#x27;,\n",
       "       &#x27;event_type_Action_ConversionClickRedeem&#x27;,\n",
       "       &#x27;event_type_Action_ConversionClickSubscribe&#x27;,\n",
       "       &#x27;e...\n",
       "       &#x27;time_since_last_session_min&#x27;, &#x27;week_maturity&#x27;, &#x27;session_start_day&#x27;,\n",
       "       &#x27;session_start_month&#x27;],\n",
       "      dtype=&#x27;object&#x27;)),\n",
       "                                      (&#x27;cat_tr&#x27;,\n",
       "                                       CustomOHE(drop=&#x27;if_binary&#x27;,\n",
       "                                                 handle_unknown=&#x27;ignore&#x27;,\n",
       "                                                 sparse=False),\n",
       "                                       Index([&#x27;Type&#x27;], dtype=&#x27;object&#x27;)),\n",
       "                                      (&#x27;month_tr&#x27;, Cyclical_month_Encoder(),\n",
       "                                       Index([&#x27;session_start_month&#x27;], dtype=&#x27;object&#x27;)),\n",
       "                                      (&#x27;day_tr&#x27;, Cyclical_day_Encoder(),\n",
       "                                       Index([&#x27;session_start_day&#x27;], dtype=&#x27;object&#x27;))])</pre></div></div></div><div class=\"sk-parallel\"><div class=\"sk-parallel-item\"><div class=\"sk-item\"><div class=\"sk-label-container\"><div class=\"sk-label sk-toggleable\"><input class=\"sk-toggleable__control sk-hidden--visually\" id=\"sk-estimator-id-84\" type=\"checkbox\" ><label for=\"sk-estimator-id-84\" class=\"sk-toggleable__label sk-toggleable__label-arrow\">num_tr</label><div class=\"sk-toggleable__content\"><pre>Index([&#x27;event_type_Account_Sign_In&#x27;, &#x27;event_type_Account_Sign_Out&#x27;,\n",
       "       &#x27;event_type_Account_Sign_Up&#x27;, &#x27;event_type_Account_Update_Request&#x27;,\n",
       "       &#x27;event_type_Account_Update_Success&#x27;, &#x27;event_type_Action_Click&#x27;,\n",
       "       &#x27;event_type_Action_ConversionClickRedeem&#x27;,\n",
       "       &#x27;event_type_Action_ConversionClickSubscribe&#x27;,\n",
       "       &#x27;event_type_Activation_Game&#x27;, &#x27;event_type_Activation_New_Activation&#x27;,\n",
       "       &#x27;event_type_Activation_Piece&#x27;, &#x27;event_type_Activation_Product&#x27;,\n",
       "       &#x27;event_type_Activity_Good_Answer&#x27;, &#x27;event_type_Activity_Start&#x27;,\n",
       "       &#x27;event_type_Activity_Stop&#x27;, &#x27;event_type_Activity_Wrong_Answer&#x27;,\n",
       "       &#x27;event_type_Error_Error&#x27;, &#x27;event_type_Game_Pause&#x27;,\n",
       "       &#x27;event_type_Game_Start&#x27;, &#x27;event_type_Game_Stop&#x27;,\n",
       "       &#x27;event_type_OB_ClickStore&#x27;, &#x27;event_type_OB_ClickTrial&#x27;,\n",
       "       &#x27;event_type_OB_CommPreview&#x27;, &#x27;event_type_OB_DiscoverTrial&#x27;,\n",
       "       &#x27;event_type_OB_DoYouHaveKit&#x27;, &#x27;event_type_OB_Email&#x27;,\n",
       "       &#x27;event_type_OB_HasKeyNo&#x27;, &#x27;event_type_OB_HasKitNo&#x27;,\n",
       "       &#x27;event_type_OB_HasKitYes&#x27;, &#x27;event_type_OB_KeyFail&#x27;,\n",
       "       &#x27;event_type_OB_KeyRedeem&#x27;, &#x27;event_type_OB_KeySuccess&#x27;,\n",
       "       &#x27;event_type_OB_ProductActivation&#x27;, &#x27;event_type_OB_ProductOther&#x27;,\n",
       "       &#x27;event_type_OB_ProductSK&#x27;, &#x27;event_type_OB_ProductSeeMore&#x27;,\n",
       "       &#x27;event_type_OB_ProductSelection&#x27;, &#x27;event_type_OB_ProfileBirthdate&#x27;,\n",
       "       &#x27;event_type_OB_RenewalFail&#x27;, &#x27;event_type_OB_RenewalSelection&#x27;,\n",
       "       &#x27;event_type_OB_RenewalSuccess&#x27;, &#x27;event_type_OB_Success&#x27;,\n",
       "       &#x27;event_type_OB_TrialStart&#x27;, &#x27;event_type_OB_Type&#x27;,\n",
       "       &#x27;event_type_OB_VerifCode&#x27;, &#x27;event_type_Popup_Close&#x27;,\n",
       "       &#x27;event_type_Popup_Open&#x27;, &#x27;event_type_Profile_Create&#x27;,\n",
       "       &#x27;event_type_Profile_Delete&#x27;,\n",
       "       &#x27;event_type_Profile_Reset_Settings_and_Progression&#x27;,\n",
       "       &#x27;event_type_Profile_Update&#x27;, &#x27;event_type_Scaffolding_Reset&#x27;,\n",
       "       &#x27;event_type_Scaffolding_Scaffolding&#x27;, &#x27;event_type_Scene_Enter&#x27;,\n",
       "       &#x27;event_type_Scene_Leave&#x27;, &#x27;event_type_Toast_Appear&#x27;, &#x27;game_events&#x27;,\n",
       "       &#x27;setup_events&#x27;, &#x27;unique_activity&#x27;, &#x27;Time_Spent&#x27;, &#x27;Profile_Age_days&#x27;,\n",
       "       &#x27;good_answer_ratio&#x27;, &#x27;duration_min&#x27;, &#x27;previous_session&#x27;,\n",
       "       &#x27;time_since_last_session_min&#x27;, &#x27;week_maturity&#x27;, &#x27;session_start_day&#x27;,\n",
       "       &#x27;session_start_month&#x27;],\n",
       "      dtype=&#x27;object&#x27;)</pre></div></div></div><div class=\"sk-serial\"><div class=\"sk-item\"><div class=\"sk-estimator sk-toggleable\"><input class=\"sk-toggleable__control sk-hidden--visually\" id=\"sk-estimator-id-85\" type=\"checkbox\" ><label for=\"sk-estimator-id-85\" class=\"sk-toggleable__label sk-toggleable__label-arrow\">CustomMinMaxScale</label><div class=\"sk-toggleable__content\"><pre>CustomMinMaxScale()</pre></div></div></div></div></div></div><div class=\"sk-parallel-item\"><div class=\"sk-item\"><div class=\"sk-label-container\"><div class=\"sk-label sk-toggleable\"><input class=\"sk-toggleable__control sk-hidden--visually\" id=\"sk-estimator-id-86\" type=\"checkbox\" ><label for=\"sk-estimator-id-86\" class=\"sk-toggleable__label sk-toggleable__label-arrow\">cat_tr</label><div class=\"sk-toggleable__content\"><pre>Index([&#x27;Type&#x27;], dtype=&#x27;object&#x27;)</pre></div></div></div><div class=\"sk-serial\"><div class=\"sk-item\"><div class=\"sk-estimator sk-toggleable\"><input class=\"sk-toggleable__control sk-hidden--visually\" id=\"sk-estimator-id-87\" type=\"checkbox\" ><label for=\"sk-estimator-id-87\" class=\"sk-toggleable__label sk-toggleable__label-arrow\">CustomOHE</label><div class=\"sk-toggleable__content\"><pre>CustomOHE(drop=&#x27;if_binary&#x27;, handle_unknown=&#x27;ignore&#x27;, sparse=False)</pre></div></div></div></div></div></div><div class=\"sk-parallel-item\"><div class=\"sk-item\"><div class=\"sk-label-container\"><div class=\"sk-label sk-toggleable\"><input class=\"sk-toggleable__control sk-hidden--visually\" id=\"sk-estimator-id-88\" type=\"checkbox\" ><label for=\"sk-estimator-id-88\" class=\"sk-toggleable__label sk-toggleable__label-arrow\">month_tr</label><div class=\"sk-toggleable__content\"><pre>Index([&#x27;session_start_month&#x27;], dtype=&#x27;object&#x27;)</pre></div></div></div><div class=\"sk-serial\"><div class=\"sk-item\"><div class=\"sk-estimator sk-toggleable\"><input class=\"sk-toggleable__control sk-hidden--visually\" id=\"sk-estimator-id-89\" type=\"checkbox\" ><label for=\"sk-estimator-id-89\" class=\"sk-toggleable__label sk-toggleable__label-arrow\">Cyclical_month_Encoder</label><div class=\"sk-toggleable__content\"><pre>Cyclical_month_Encoder()</pre></div></div></div></div></div></div><div class=\"sk-parallel-item\"><div class=\"sk-item\"><div class=\"sk-label-container\"><div class=\"sk-label sk-toggleable\"><input class=\"sk-toggleable__control sk-hidden--visually\" id=\"sk-estimator-id-90\" type=\"checkbox\" ><label for=\"sk-estimator-id-90\" class=\"sk-toggleable__label sk-toggleable__label-arrow\">day_tr</label><div class=\"sk-toggleable__content\"><pre>Index([&#x27;session_start_day&#x27;], dtype=&#x27;object&#x27;)</pre></div></div></div><div class=\"sk-serial\"><div class=\"sk-item\"><div class=\"sk-estimator sk-toggleable\"><input class=\"sk-toggleable__control sk-hidden--visually\" id=\"sk-estimator-id-91\" type=\"checkbox\" ><label for=\"sk-estimator-id-91\" class=\"sk-toggleable__label sk-toggleable__label-arrow\">Cyclical_day_Encoder</label><div class=\"sk-toggleable__content\"><pre>Cyclical_day_Encoder()</pre></div></div></div></div></div></div></div></div><div class=\"sk-item\"><div class=\"sk-estimator sk-toggleable\"><input class=\"sk-toggleable__control sk-hidden--visually\" id=\"sk-estimator-id-92\" type=\"checkbox\" ><label for=\"sk-estimator-id-92\" class=\"sk-toggleable__label sk-toggleable__label-arrow\">CustomSelectPercentile</label><div class=\"sk-toggleable__content\"><pre>CustomSelectPercentile(percentile=50)</pre></div></div></div><div class=\"sk-item\"><div class=\"sk-label-container\"><div class=\"sk-label sk-toggleable\"><input class=\"sk-toggleable__control sk-hidden--visually\" id=\"sk-estimator-id-93\" type=\"checkbox\" ><label for=\"sk-estimator-id-93\" class=\"sk-toggleable__label sk-toggleable__label-arrow\">stackingclassifier: StackingClassifier</label><div class=\"sk-toggleable__content\"><pre>StackingClassifier(estimators=[(&#x27;rf&#x27;,\n",
       "                                RandomForestClassifier(max_depth=40,\n",
       "                                                       max_samples=0.8,\n",
       "                                                       min_samples_split=15,\n",
       "                                                       n_estimators=450)),\n",
       "                               (&#x27;knn&#x27;,\n",
       "                                KNeighborsClassifier(n_jobs=-1, n_neighbors=30,\n",
       "                                                     p=1, weights=&#x27;distance&#x27;)),\n",
       "                               (&#x27;log&#x27;,\n",
       "                                LogisticRegression(C=1.5, max_iter=1000,\n",
       "                                                   n_jobs=-1,\n",
       "                                                   solver=&#x27;newton-cg&#x27;)),\n",
       "                               (&#x27;svc&#x27;, SVC(C=10, gamma=1)),\n",
       "                               (&#x27;ada&#x27;, AdaBoostClassifier(learning_rate=1)),\n",
       "                               (&#x27;ridge&#x27;,\n",
       "                                RidgeClassifier(alpha=2, max_iter=1000,\n",
       "                                                solver=&#x27;lsqr&#x27;))],\n",
       "                   final_estimator=GradientBoostingClassifier())</pre></div></div></div><div class=\"sk-serial\"><div class=\"sk-item\"><div class=\"sk-parallel\"><div class=\"sk-parallel-item\"><div class=\"sk-item\"><div class=\"sk-label-container\"><div class=\"sk-label sk-toggleable\"><label>rf</label></div></div><div class=\"sk-serial\"><div class=\"sk-item\"><div class=\"sk-estimator sk-toggleable\"><input class=\"sk-toggleable__control sk-hidden--visually\" id=\"sk-estimator-id-94\" type=\"checkbox\" ><label for=\"sk-estimator-id-94\" class=\"sk-toggleable__label sk-toggleable__label-arrow\">RandomForestClassifier</label><div class=\"sk-toggleable__content\"><pre>RandomForestClassifier(max_depth=40, max_samples=0.8, min_samples_split=15,\n",
       "                       n_estimators=450)</pre></div></div></div></div></div></div><div class=\"sk-parallel-item\"><div class=\"sk-item\"><div class=\"sk-label-container\"><div class=\"sk-label sk-toggleable\"><label>knn</label></div></div><div class=\"sk-serial\"><div class=\"sk-item\"><div class=\"sk-estimator sk-toggleable\"><input class=\"sk-toggleable__control sk-hidden--visually\" id=\"sk-estimator-id-95\" type=\"checkbox\" ><label for=\"sk-estimator-id-95\" class=\"sk-toggleable__label sk-toggleable__label-arrow\">KNeighborsClassifier</label><div class=\"sk-toggleable__content\"><pre>KNeighborsClassifier(n_jobs=-1, n_neighbors=30, p=1, weights=&#x27;distance&#x27;)</pre></div></div></div></div></div></div><div class=\"sk-parallel-item\"><div class=\"sk-item\"><div class=\"sk-label-container\"><div class=\"sk-label sk-toggleable\"><label>log</label></div></div><div class=\"sk-serial\"><div class=\"sk-item\"><div class=\"sk-estimator sk-toggleable\"><input class=\"sk-toggleable__control sk-hidden--visually\" id=\"sk-estimator-id-96\" type=\"checkbox\" ><label for=\"sk-estimator-id-96\" class=\"sk-toggleable__label sk-toggleable__label-arrow\">LogisticRegression</label><div class=\"sk-toggleable__content\"><pre>LogisticRegression(C=1.5, max_iter=1000, n_jobs=-1, solver=&#x27;newton-cg&#x27;)</pre></div></div></div></div></div></div><div class=\"sk-parallel-item\"><div class=\"sk-item\"><div class=\"sk-label-container\"><div class=\"sk-label sk-toggleable\"><label>svc</label></div></div><div class=\"sk-serial\"><div class=\"sk-item\"><div class=\"sk-estimator sk-toggleable\"><input class=\"sk-toggleable__control sk-hidden--visually\" id=\"sk-estimator-id-97\" type=\"checkbox\" ><label for=\"sk-estimator-id-97\" class=\"sk-toggleable__label sk-toggleable__label-arrow\">SVC</label><div class=\"sk-toggleable__content\"><pre>SVC(C=10, gamma=1)</pre></div></div></div></div></div></div><div class=\"sk-parallel-item\"><div class=\"sk-item\"><div class=\"sk-label-container\"><div class=\"sk-label sk-toggleable\"><label>ada</label></div></div><div class=\"sk-serial\"><div class=\"sk-item\"><div class=\"sk-estimator sk-toggleable\"><input class=\"sk-toggleable__control sk-hidden--visually\" id=\"sk-estimator-id-98\" type=\"checkbox\" ><label for=\"sk-estimator-id-98\" class=\"sk-toggleable__label sk-toggleable__label-arrow\">AdaBoostClassifier</label><div class=\"sk-toggleable__content\"><pre>AdaBoostClassifier(learning_rate=1)</pre></div></div></div></div></div></div><div class=\"sk-parallel-item\"><div class=\"sk-item\"><div class=\"sk-label-container\"><div class=\"sk-label sk-toggleable\"><label>ridge</label></div></div><div class=\"sk-serial\"><div class=\"sk-item\"><div class=\"sk-estimator sk-toggleable\"><input class=\"sk-toggleable__control sk-hidden--visually\" id=\"sk-estimator-id-99\" type=\"checkbox\" ><label for=\"sk-estimator-id-99\" class=\"sk-toggleable__label sk-toggleable__label-arrow\">RidgeClassifier</label><div class=\"sk-toggleable__content\"><pre>RidgeClassifier(alpha=2, max_iter=1000, solver=&#x27;lsqr&#x27;)</pre></div></div></div></div></div></div></div></div><div class=\"sk-item\"><div class=\"sk-parallel\"><div class=\"sk-parallel-item\"><div class=\"sk-item\"><div class=\"sk-label-container\"><div class=\"sk-label sk-toggleable\"><label>final_estimator</label></div></div><div class=\"sk-serial\"><div class=\"sk-item\"><div class=\"sk-estimator sk-toggleable\"><input class=\"sk-toggleable__control sk-hidden--visually\" id=\"sk-estimator-id-100\" type=\"checkbox\" ><label for=\"sk-estimator-id-100\" class=\"sk-toggleable__label sk-toggleable__label-arrow\">GradientBoostingClassifier</label><div class=\"sk-toggleable__content\"><pre>GradientBoostingClassifier()</pre></div></div></div></div></div></div></div></div></div></div></div></div></div></div>"
      ],
      "text/plain": [
       "Pipeline(steps=[('customcolumntransformer',\n",
       "                 CustomColumnTransformer(transformers=[('num_tr',\n",
       "                                                        CustomMinMaxScale(),\n",
       "                                                        Index(['event_type_Account_Sign_In', 'event_type_Account_Sign_Out',\n",
       "       'event_type_Account_Sign_Up', 'event_type_Account_Update_Request',\n",
       "       'event_type_Account_Update_Success', 'event_type_Action_Click',\n",
       "       'event_type_Action_ConversionClickRedeem',\n",
       "       'eve...\n",
       "                                                                        n_estimators=450)),\n",
       "                                                ('knn',\n",
       "                                                 KNeighborsClassifier(n_jobs=-1,\n",
       "                                                                      n_neighbors=30,\n",
       "                                                                      p=1,\n",
       "                                                                      weights='distance')),\n",
       "                                                ('log',\n",
       "                                                 LogisticRegression(C=1.5,\n",
       "                                                                    max_iter=1000,\n",
       "                                                                    n_jobs=-1,\n",
       "                                                                    solver='newton-cg')),\n",
       "                                                ('svc', SVC(C=10, gamma=1)),\n",
       "                                                ('ada',\n",
       "                                                 AdaBoostClassifier(learning_rate=1)),\n",
       "                                                ('ridge',\n",
       "                                                 RidgeClassifier(alpha=2,\n",
       "                                                                 max_iter=1000,\n",
       "                                                                 solver='lsqr'))],\n",
       "                                    final_estimator=GradientBoostingClassifier()))])"
      ]
     },
     "execution_count": 187,
     "metadata": {},
     "output_type": "execute_result"
    }
   ],
   "source": [
    "stacked_pipe.fit(X_train_parent, y_train_parent)"
   ]
  },
  {
   "cell_type": "code",
   "execution_count": 188,
   "id": "4f4e3e8f",
   "metadata": {
    "ExecuteTime": {
     "end_time": "2022-07-07T15:42:28.963753Z",
     "start_time": "2022-07-07T15:42:27.867216Z"
    }
   },
   "outputs": [],
   "source": [
    "y_pred_parent_stacked = stacked_pipe.predict(X_test_parent)"
   ]
  },
  {
   "cell_type": "code",
   "execution_count": 189,
   "id": "4b314a76",
   "metadata": {
    "ExecuteTime": {
     "end_time": "2022-07-07T15:42:28.971170Z",
     "start_time": "2022-07-07T15:42:28.964870Z"
    }
   },
   "outputs": [
    {
     "name": "stdout",
     "output_type": "stream",
     "text": [
      "              precision    recall  f1-score   support\n",
      "\n",
      "    classe 0       0.75      0.70      0.73      1003\n",
      "    Classe 1       0.74      0.78      0.76      1072\n",
      "\n",
      "    accuracy                           0.74      2075\n",
      "   macro avg       0.74      0.74      0.74      2075\n",
      "weighted avg       0.74      0.74      0.74      2075\n",
      "\n"
     ]
    }
   ],
   "source": [
    "print(classification_report(y_test_parent,y_pred_parent_stacked,target_names=target_names))"
   ]
  },
  {
   "cell_type": "markdown",
   "id": "138a1000",
   "metadata": {},
   "source": [
    "## Upload dans BQ"
   ]
  },
  {
   "cell_type": "markdown",
   "id": "99c7f4d3",
   "metadata": {},
   "source": [
    "**Upload de la table en cours dans BQ**"
   ]
  },
  {
   "cell_type": "code",
   "execution_count": 190,
   "id": "b3e6f767",
   "metadata": {
    "ExecuteTime": {
     "end_time": "2022-07-07T15:42:28.974244Z",
     "start_time": "2022-07-07T15:42:28.972390Z"
    }
   },
   "outputs": [],
   "source": [
    "###Localisation du projet name et table_id sur gcp\n",
    "#project=\"marbotic\"\n",
    "#table_id = \"marbotic_dataset.session_augmented\"\n",
    "#client = bigquery.Client(project,credentials)\n",
    "#\n",
    "#job = client.load_table_from_dataframe(sm_df, table_id) \n",
    "#\n",
    "#job.result()  # Wait for the job to complete.\n",
    "#table = client.get_table(table_id)  # Make an API request.\n",
    "#print(\"Loaded {} rows and {} columns to {}\".format(table.num_rows, len(table.schema), table_id))"
   ]
  },
  {
   "cell_type": "code",
   "execution_count": 191,
   "id": "12f90ea7",
   "metadata": {
    "ExecuteTime": {
     "end_time": "2022-07-07T15:42:28.979828Z",
     "start_time": "2022-07-07T15:42:28.976429Z"
    }
   },
   "outputs": [
    {
     "data": {
      "text/plain": [
       "180.0"
      ]
     },
     "execution_count": 191,
     "metadata": {},
     "output_type": "execute_result"
    }
   ],
   "source": [
    "9000/(50)"
   ]
  },
  {
   "cell_type": "code",
   "execution_count": 192,
   "id": "20c70616",
   "metadata": {
    "ExecuteTime": {
     "end_time": "2022-07-07T15:42:28.986399Z",
     "start_time": "2022-07-07T15:42:28.981321Z"
    }
   },
   "outputs": [
    {
     "data": {
      "text/plain": [
       "90.0"
      ]
     },
     "execution_count": 192,
     "metadata": {},
     "output_type": "execute_result"
    }
   ],
   "source": [
    "180/2"
   ]
  },
  {
   "cell_type": "code",
   "execution_count": null,
   "id": "caed0a19",
   "metadata": {},
   "outputs": [],
   "source": []
  }
 ],
 "metadata": {
  "kernelspec": {
   "display_name": "Python 3 (ipykernel)",
   "language": "python",
   "name": "python3"
  },
  "language_info": {
   "codemirror_mode": {
    "name": "ipython",
    "version": 3
   },
   "file_extension": ".py",
   "mimetype": "text/x-python",
   "name": "python",
   "nbconvert_exporter": "python",
   "pygments_lexer": "ipython3",
   "version": "3.8.13"
  },
  "toc": {
   "base_numbering": 1,
   "nav_menu": {},
   "number_sections": true,
   "sideBar": true,
   "skip_h1_title": false,
   "title_cell": "Table of Contents",
   "title_sidebar": "Contents",
   "toc_cell": false,
   "toc_position": {},
   "toc_section_display": true,
   "toc_window_display": false
  }
 },
 "nbformat": 4,
 "nbformat_minor": 5
}
