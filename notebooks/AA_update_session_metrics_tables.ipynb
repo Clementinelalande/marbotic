{
 "cells": [
  {
   "cell_type": "code",
   "execution_count": 8,
   "id": "7d1a5d28",
   "metadata": {
    "ExecuteTime": {
     "end_time": "2022-06-13T16:53:14.861435Z",
     "start_time": "2022-06-13T16:53:14.857217Z"
    }
   },
   "outputs": [],
   "source": [
    "import pandas as pd\n",
    "#import numpy as np\n",
    "#import json\n",
    "from google.cloud import bigquery"
   ]
  },
  {
   "cell_type": "code",
   "execution_count": 9,
   "id": "511ce835",
   "metadata": {
    "ExecuteTime": {
     "end_time": "2022-06-13T16:53:15.217379Z",
     "start_time": "2022-06-13T16:53:15.211447Z"
    }
   },
   "outputs": [],
   "source": [
    "#Localisation du projet name et table_id sur gcp\n",
    "project=\"marbotic\"\n",
    "table_id = \"marbotic_dataset.sessions_metrics\""
   ]
  },
  {
   "cell_type": "code",
   "execution_count": 10,
   "id": "5ce91019",
   "metadata": {
    "ExecuteTime": {
     "end_time": "2022-06-13T16:53:15.717029Z",
     "start_time": "2022-06-13T16:53:15.705933Z"
    }
   },
   "outputs": [],
   "source": [
    "#intégration des credentials \n",
    "from google.oauth2 import service_account\n",
    "\n",
    "key_path = \"/Users/antonin/code/AntoninAnq/gcp/marbotic-7d02fac30bd8.json\"\n",
    "\n",
    "credentials = service_account.Credentials.from_service_account_file(\n",
    "    key_path, scopes=[\"https://www.googleapis.com/auth/cloud-platform\"],\n",
    ")"
   ]
  },
  {
   "cell_type": "code",
   "execution_count": 11,
   "id": "a7def7d5",
   "metadata": {
    "ExecuteTime": {
     "end_time": "2022-06-13T16:53:16.866102Z",
     "start_time": "2022-06-13T16:53:16.848361Z"
    }
   },
   "outputs": [],
   "source": [
    "event_setup = { 'event_type_Profile_Create': \"setup\",\n",
    "                   'event_type_Profile_Update' : \"setup\",\n",
    "                   'event_type_Account_Sign_In' : \"setup\",\n",
    "                   'event_type_OB_ProfileName' : \"setup\",\n",
    "                   'event_type_OB_ProfileBirthdate' : \"setup\",\n",
    "                   'event_type_OB_KeyRedeem' : \"setup\",\n",
    "                   'event_type_OB_KeyFail' : \"setup\",\n",
    "                   'event_type_OB_RenewalSelection' : \"setup\",\n",
    "                   'event_type_Account_Sign_Up' : \"setup\",\n",
    "                   'event_type_OB_ProductSelection' : \"setup\",\n",
    "                   'event_type_OB_ProductSK' : \"setup\",\n",
    "                   'event_type_OB_ProductHelp' : \"setup\",\n",
    "                   'event_type_OB_ProductActivation' : \"setup\",\n",
    "                   'event_type_OB_RenewalSuccess' : \"setup\",\n",
    "                   'event_type_OB_ProductSeeMore' : \"setup\",\n",
    "                   'event_type_OB_ProductOther' : \"setup\",\n",
    "                   'event_type_Account_Sign_Out' : \"setup\",\n",
    "                   'event_type_OB_CommPreview' : \"setup\",\n",
    "                   'event_type_OB_DoYouHaveKit' : \"setup\",\n",
    "                   'event_type_OB_HasKitYes' : \"setup\",\n",
    "                   'event_type_OB_Email' : \"setup\",\n",
    "                   'event_type_OB_VerifCode' : \"setup\",\n",
    "                   'event_type_Activation_New_Activation' : \"setup\",\n",
    "                   'event_type_Activation_Product' : \"setup\",\n",
    "                   'event_type_Activation_Piece' : \"setup\",\n",
    "                   'event_type_OB_Success':\"setup\",\n",
    "                   'event_type_OB_RenewalFail':\"setup\",\n",
    "                   'event_type_OB_ClickTrial' : \"setup\",\n",
    "                   'event_type_Popup_Open' : \"setup\",\n",
    "                   'event_type_Popup_Close' : \"setup\",\n",
    "                   'event_type_OB_HasKitNo' : \"setup\",\n",
    "                   'event_type_OB_DiscoverTrial' : \"setup\",\n",
    "                   'event_type_Account_Update_Request' : \"setup\",\n",
    "                   'event_type_Account_Update_Success' : \"setup\",\n",
    "                   'event_type_Profile_Delete' : \"setup\",\n",
    "                   'event_type_OB_TrialStart' : \"setup\",\n",
    "                   'event_type_OB_ClickStore' : \"setup\",\n",
    "                   'event_type_OB_HasKeyNo' : \"setup\",\n",
    "                   'event_type_OB_Type' : \"setup\",\n",
    "                   'event_type_OB_KeySuccess' : \"setup\",\n",
    "                   'event_type_Profile_Reset_Settings_and_Progression' : \"setup\",\n",
    "                   'event_type_Action_ConversionClickRedeem':\"setup\",\n",
    "                   'event_type_Action_ConversionClickSubscribe' : \"setup\",\n",
    "                   'event_type_Toast_Appear':\"setup\",\n",
    "                   'event_type_Toast_Disappear' : \"setup\"\n",
    "              }\n",
    "event_game = {    \n",
    "                   'event_type_Activation_Game' : \"game\",\n",
    "                   'event_type_Game_Stop' : \"game\",\n",
    "                   'event_type_Scaffolding_Reset' : \"game\",\n",
    "                   'event_type_Game_Pause' : \"game\",\n",
    "                   'event_type_Game_Start' : \"game\",\n",
    "                   'event_type_Error_Error' : \"game\",\n",
    "                   'event_type_Scene_Enter' : \"game\",\n",
    "                   'event_type_Scene_Leave' : \"game\",\n",
    "                   'event_type_Action_Click' : \"game\",\n",
    "                   'event_type_Activity_Stop' : \"game\",\n",
    "                   'event_type_Activity_Start' : \"game\",\n",
    "                   'event_type_Activity_Good_Answer' : \"game\",\n",
    "                   'event_type_Activity_Wrong_Answer' : \"game\",\n",
    "                   'event_type_Scaffolding_Scaffolding':\"game\"\n",
    "                  }"
   ]
  },
  {
   "cell_type": "markdown",
   "id": "9482fc23",
   "metadata": {},
   "source": [
    "# On mets à jour les colonnes avec une commande SQL dans la console GCP"
   ]
  },
  {
   "cell_type": "code",
   "execution_count": 12,
   "id": "a320d445",
   "metadata": {
    "ExecuteTime": {
     "end_time": "2022-06-13T16:53:17.636797Z",
     "start_time": "2022-06-13T16:53:17.628684Z"
    }
   },
   "outputs": [
    {
     "data": {
      "text/plain": [
       "dict_keys(['event_type_Activation_Game', 'event_type_Game_Stop', 'event_type_Scaffolding_Reset', 'event_type_Game_Pause', 'event_type_Game_Start', 'event_type_Error_Error', 'event_type_Scene_Enter', 'event_type_Scene_Leave', 'event_type_Action_Click', 'event_type_Activity_Stop', 'event_type_Activity_Start', 'event_type_Activity_Good_Answer', 'event_type_Activity_Wrong_Answer', 'event_type_Scaffolding_Scaffolding'])"
      ]
     },
     "execution_count": 12,
     "metadata": {},
     "output_type": "execute_result"
    }
   ],
   "source": [
    "# Version big query pour les game type\n",
    "UPDATE `marbotic.marbotic_dataset.sessions_metrics` \n",
    "SET game_events = \n",
    " event_type_Activation_Game + event_type_Game_Stop + event_type_Scaffolding_Reset + event_type_Game_Pause + event_type_Game_Start + event_type_Error_Error + event_type_Scene_Enter + event_type_Scene_Leave + event_type_Action_Click + event_type_Activity_Stop + event_type_Activity_Start + event_type_Activity_Good_Answer + event_type_Activity_Wrong_Answer + event_type_Scaffolding_Scaffolding as game_total\n",
    "WHERE True\n",
    "##"
   ]
  },
  {
   "cell_type": "code",
   "execution_count": null,
   "id": "1afce438",
   "metadata": {},
   "outputs": [],
   "source": [
    "# Version big query pour les setup type\n",
    "UPDATE `marbotic.marbotic_dataset.sessions_metrics` \n",
    "SET setup_events = \n",
    "event_type_Profile_Create + \n",
    "event_type_Profile_Update +\n",
    "event_type_Account_Sign_In +\n",
    "event_type_OB_ProfileName +\n",
    "event_type_OB_ProfileBirthdate +\n",
    "event_type_OB_KeyRedeem +\n",
    "event_type_OB_KeyFail +\n",
    "event_type_OB_RenewalSelection +\n",
    "event_type_Account_Sign_Up +\n",
    "event_type_OB_ProductSelection +\n",
    "event_type_OB_ProductSK +\n",
    "event_type_OB_ProductHelp +\n",
    "event_type_OB_ProductActivation +\n",
    "event_type_OB_RenewalSuccess+\n",
    "event_type_OB_ProductSeeMore+\n",
    "event_type_OB_ProductOther+\n",
    "event_type_Account_Sign_Out+\n",
    "event_type_OB_CommPreview+\n",
    "event_type_OB_DoYouHaveKit+\n",
    "event_type_OB_HasKitYes+\n",
    "event_type_OB_Email+\n",
    "event_type_OB_VerifCode+\n",
    "event_type_Activation_New_Activation+\n",
    "event_type_Activation_Product+\n",
    "event_type_Activation_Piece+\n",
    "event_type_OB_Success+\n",
    "event_type_OB_RenewalFail+\n",
    "event_type_OB_ClickTrial+\n",
    "event_type_Popup_Open+\n",
    "event_type_Popup_Close+\n",
    "event_type_OB_HasKitNo+\n",
    "event_type_OB_DiscoverTrial+\n",
    "event_type_Account_Update_Request+\n",
    "event_type_Account_Update_Success+\n",
    "event_type_Profile_Delete+\n",
    "event_type_OB_TrialStart+\n",
    "event_type_OB_ClickStore+\n",
    "event_type_OB_HasKeyNo+\n",
    "event_type_OB_Type+\n",
    "event_type_OB_KeySuccess+\n",
    "event_type_Profile_Reset_Settings_and_Progression+\n",
    "event_type_Action_ConversionClickRedeem+\n",
    "event_type_Action_ConversionClickSubscribe+\n",
    "event_type_Toast_Appear+\n",
    "event_type_Toast_Disappear\n",
    "WHERE True\n",
    "##"
   ]
  },
  {
   "cell_type": "code",
   "execution_count": null,
   "id": "6768a91f",
   "metadata": {},
   "outputs": [],
   "source": []
  }
 ],
 "metadata": {
  "kernelspec": {
   "display_name": "Python 3 (ipykernel)",
   "language": "python",
   "name": "python3"
  },
  "language_info": {
   "codemirror_mode": {
    "name": "ipython",
    "version": 3
   },
   "file_extension": ".py",
   "mimetype": "text/x-python",
   "name": "python",
   "nbconvert_exporter": "python",
   "pygments_lexer": "ipython3",
   "version": "3.8.13"
  },
  "toc": {
   "base_numbering": 1,
   "nav_menu": {},
   "number_sections": true,
   "sideBar": true,
   "skip_h1_title": false,
   "title_cell": "Table of Contents",
   "title_sidebar": "Contents",
   "toc_cell": false,
   "toc_position": {},
   "toc_section_display": true,
   "toc_window_display": false
  }
 },
 "nbformat": 4,
 "nbformat_minor": 5
}
