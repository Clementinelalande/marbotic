{
 "cells": [
  {
   "cell_type": "code",
   "execution_count": 1,
   "id": "d194e287",
   "metadata": {
    "ExecuteTime": {
     "end_time": "2022-06-07T08:27:05.776738Z",
     "start_time": "2022-06-07T08:26:57.303899Z"
    }
   },
   "outputs": [],
   "source": [
    "import pandas as pd"
   ]
  },
  {
   "cell_type": "code",
   "execution_count": 3,
   "id": "d87ccf3f",
   "metadata": {
    "ExecuteTime": {
     "end_time": "2022-06-07T08:40:51.826794Z",
     "start_time": "2022-06-07T08:29:49.800384Z"
    }
   },
   "outputs": [],
   "source": [
    "data = pd.read_json('../raw_data/export_23-5_minified.json')"
   ]
  },
  {
   "cell_type": "code",
   "execution_count": 4,
   "id": "662efa49",
   "metadata": {
    "ExecuteTime": {
     "end_time": "2022-06-07T08:40:54.113629Z",
     "start_time": "2022-06-07T08:40:54.050708Z"
    }
   },
   "outputs": [
    {
     "data": {
      "text/html": [
       "<div>\n",
       "<style scoped>\n",
       "    .dataframe tbody tr th:only-of-type {\n",
       "        vertical-align: middle;\n",
       "    }\n",
       "\n",
       "    .dataframe tbody tr th {\n",
       "        vertical-align: top;\n",
       "    }\n",
       "\n",
       "    .dataframe thead th {\n",
       "        text-align: right;\n",
       "    }\n",
       "</style>\n",
       "<table border=\"1\" class=\"dataframe\">\n",
       "  <thead>\n",
       "    <tr style=\"text-align: right;\">\n",
       "      <th></th>\n",
       "      <th>city</th>\n",
       "      <th>client_event_time</th>\n",
       "      <th>country</th>\n",
       "      <th>device_model</th>\n",
       "      <th>event_id</th>\n",
       "      <th>event_type</th>\n",
       "      <th>is_attribution_event</th>\n",
       "      <th>language</th>\n",
       "      <th>os_version</th>\n",
       "      <th>region</th>\n",
       "      <th>session_id</th>\n",
       "      <th>start_version</th>\n",
       "      <th>user_creation_time</th>\n",
       "      <th>user_id</th>\n",
       "      <th>user_properties</th>\n",
       "      <th>event_properties</th>\n",
       "    </tr>\n",
       "  </thead>\n",
       "  <tbody>\n",
       "    <tr>\n",
       "      <th>0</th>\n",
       "      <td>Dallas</td>\n",
       "      <td>2022-03-01 00:57:25.903</td>\n",
       "      <td>United States</td>\n",
       "      <td>iPad13,4</td>\n",
       "      <td>1110</td>\n",
       "      <td>[Activity] Good Answer</td>\n",
       "      <td>False</td>\n",
       "      <td>English</td>\n",
       "      <td>15.3</td>\n",
       "      <td>Texas</td>\n",
       "      <td>1646095346396</td>\n",
       "      <td>1.0.7</td>\n",
       "      <td>2021-12-28 01:29:38.094</td>\n",
       "      <td>67531</td>\n",
       "      <td>{'Newsletter': 'False', 'Products': ['Smart Le...</td>\n",
       "      <td>{'[Activity] Name': 'LinePanties', '[Activity]...</td>\n",
       "    </tr>\n",
       "    <tr>\n",
       "      <th>1</th>\n",
       "      <td>Dallas</td>\n",
       "      <td>2022-03-01 00:57:41.878</td>\n",
       "      <td>United States</td>\n",
       "      <td>iPad13,4</td>\n",
       "      <td>1111</td>\n",
       "      <td>[Activity] Wrong Answer</td>\n",
       "      <td>False</td>\n",
       "      <td>English</td>\n",
       "      <td>15.3</td>\n",
       "      <td>Texas</td>\n",
       "      <td>1646095346396</td>\n",
       "      <td>1.0.7</td>\n",
       "      <td>2021-12-28 01:29:38.094</td>\n",
       "      <td>67531</td>\n",
       "      <td>{'Newsletter': 'False', 'Products': ['Smart Le...</td>\n",
       "      <td>{'[Activity] Name': 'LinePanties', '[Activity]...</td>\n",
       "    </tr>\n",
       "    <tr>\n",
       "      <th>2</th>\n",
       "      <td>Toronto</td>\n",
       "      <td>2022-03-01 00:57:28.175</td>\n",
       "      <td>Canada</td>\n",
       "      <td>iPad12,1</td>\n",
       "      <td>1430</td>\n",
       "      <td>[Activity] Stop</td>\n",
       "      <td>False</td>\n",
       "      <td>English</td>\n",
       "      <td>15.2</td>\n",
       "      <td>Ontario</td>\n",
       "      <td>1646096085235</td>\n",
       "      <td>1.3.1</td>\n",
       "      <td>2021-07-19 20:24:36.326</td>\n",
       "      <td>60882</td>\n",
       "      <td>{'Newsletter': 'True', 'Products': ['Smart Let...</td>\n",
       "      <td>{'[Activity] Name': '1.2', '[Game] Code': 'Mar...</td>\n",
       "    </tr>\n",
       "    <tr>\n",
       "      <th>3</th>\n",
       "      <td>Toronto</td>\n",
       "      <td>2022-03-01 00:57:28.177</td>\n",
       "      <td>Canada</td>\n",
       "      <td>iPad12,1</td>\n",
       "      <td>1431</td>\n",
       "      <td>[Activity] Start</td>\n",
       "      <td>False</td>\n",
       "      <td>English</td>\n",
       "      <td>15.2</td>\n",
       "      <td>Ontario</td>\n",
       "      <td>1646096085235</td>\n",
       "      <td>1.3.1</td>\n",
       "      <td>2021-07-19 20:24:36.326</td>\n",
       "      <td>60882</td>\n",
       "      <td>{'Newsletter': 'True', 'Products': ['Smart Let...</td>\n",
       "      <td>{'[Activity] Name': '1.3', '[Game] Code': 'Mar...</td>\n",
       "    </tr>\n",
       "    <tr>\n",
       "      <th>4</th>\n",
       "      <td>Toronto</td>\n",
       "      <td>2022-03-01 00:57:38.278</td>\n",
       "      <td>Canada</td>\n",
       "      <td>iPad12,1</td>\n",
       "      <td>1432</td>\n",
       "      <td>[Activity] Stop</td>\n",
       "      <td>False</td>\n",
       "      <td>English</td>\n",
       "      <td>15.2</td>\n",
       "      <td>Ontario</td>\n",
       "      <td>1646096085235</td>\n",
       "      <td>1.3.1</td>\n",
       "      <td>2021-07-19 20:24:36.326</td>\n",
       "      <td>60882</td>\n",
       "      <td>{'Newsletter': 'True', 'Products': ['Smart Let...</td>\n",
       "      <td>{'[Activity] Name': '1.3', '[Game] Code': 'Mar...</td>\n",
       "    </tr>\n",
       "    <tr>\n",
       "      <th>...</th>\n",
       "      <td>...</td>\n",
       "      <td>...</td>\n",
       "      <td>...</td>\n",
       "      <td>...</td>\n",
       "      <td>...</td>\n",
       "      <td>...</td>\n",
       "      <td>...</td>\n",
       "      <td>...</td>\n",
       "      <td>...</td>\n",
       "      <td>...</td>\n",
       "      <td>...</td>\n",
       "      <td>...</td>\n",
       "      <td>...</td>\n",
       "      <td>...</td>\n",
       "      <td>...</td>\n",
       "      <td>...</td>\n",
       "    </tr>\n",
       "    <tr>\n",
       "      <th>1320224</th>\n",
       "      <td>Montreal</td>\n",
       "      <td>2022-05-13 09:32:23.714</td>\n",
       "      <td>France</td>\n",
       "      <td>iPad 4</td>\n",
       "      <td>1538</td>\n",
       "      <td>[Error] Error</td>\n",
       "      <td>False</td>\n",
       "      <td>French</td>\n",
       "      <td>10.3.3</td>\n",
       "      <td>Aude</td>\n",
       "      <td>1652434239636</td>\n",
       "      <td>1.0.1</td>\n",
       "      <td>2021-11-21 21:40:21.468</td>\n",
       "      <td>65663</td>\n",
       "      <td>{'Newsletter': 'True', 'Products': ['Smart Kit...</td>\n",
       "      <td>{'[Game] Code': 'Marbotic', '[Scene] Name': 'V...</td>\n",
       "    </tr>\n",
       "    <tr>\n",
       "      <th>1320225</th>\n",
       "      <td>Montreal</td>\n",
       "      <td>2022-05-13 09:32:43.732</td>\n",
       "      <td>France</td>\n",
       "      <td>iPad 4</td>\n",
       "      <td>1539</td>\n",
       "      <td>[Error] Error</td>\n",
       "      <td>False</td>\n",
       "      <td>French</td>\n",
       "      <td>10.3.3</td>\n",
       "      <td>Aude</td>\n",
       "      <td>1652434239636</td>\n",
       "      <td>1.0.1</td>\n",
       "      <td>2021-11-21 21:40:21.468</td>\n",
       "      <td>65663</td>\n",
       "      <td>{'Newsletter': 'True', 'Products': ['Smart Kit...</td>\n",
       "      <td>{'[Game] Code': 'Marbotic', '[Scene] Name': 'V...</td>\n",
       "    </tr>\n",
       "    <tr>\n",
       "      <th>1320226</th>\n",
       "      <td>Montreal</td>\n",
       "      <td>2022-05-13 09:32:26.362</td>\n",
       "      <td>France</td>\n",
       "      <td>iPad 4</td>\n",
       "      <td>1426</td>\n",
       "      <td>[Action] Click</td>\n",
       "      <td>False</td>\n",
       "      <td>French</td>\n",
       "      <td>10.3.3</td>\n",
       "      <td>Aude</td>\n",
       "      <td>1652434294048</td>\n",
       "      <td>1.0.1</td>\n",
       "      <td>2021-11-21 21:40:21.468</td>\n",
       "      <td>65663</td>\n",
       "      <td>{'Newsletter': 'True', 'Products': ['Smart Kit...</td>\n",
       "      <td>{'[Game] Code': 'Marbotic', '[Profile] Age (da...</td>\n",
       "    </tr>\n",
       "    <tr>\n",
       "      <th>1320227</th>\n",
       "      <td>Montreal</td>\n",
       "      <td>2022-05-13 09:33:04.599</td>\n",
       "      <td>France</td>\n",
       "      <td>iPad 4</td>\n",
       "      <td>1540</td>\n",
       "      <td>[Error] Error</td>\n",
       "      <td>False</td>\n",
       "      <td>French</td>\n",
       "      <td>10.3.3</td>\n",
       "      <td>Aude</td>\n",
       "      <td>1652434239636</td>\n",
       "      <td>1.0.1</td>\n",
       "      <td>2021-11-21 21:40:21.468</td>\n",
       "      <td>65663</td>\n",
       "      <td>{'Newsletter': 'True', 'Products': ['Smart Kit...</td>\n",
       "      <td>{'[Game] Code': 'Marbotic', '[Scene] Name': 'V...</td>\n",
       "    </tr>\n",
       "    <tr>\n",
       "      <th>1320228</th>\n",
       "      <td>Montreal</td>\n",
       "      <td>2022-05-13 09:33:59.905</td>\n",
       "      <td>France</td>\n",
       "      <td>iPad 4</td>\n",
       "      <td>1428</td>\n",
       "      <td>[Game] Pause</td>\n",
       "      <td>False</td>\n",
       "      <td>French</td>\n",
       "      <td>10.3.3</td>\n",
       "      <td>Aude</td>\n",
       "      <td>1652434224805</td>\n",
       "      <td>1.0.1</td>\n",
       "      <td>2021-11-21 21:40:21.468</td>\n",
       "      <td>65663</td>\n",
       "      <td>{'Newsletter': 'True', 'Products': ['Smart Kit...</td>\n",
       "      <td>{'[Game] Code': 'Marbotic', '[Time] Spent': 49...</td>\n",
       "    </tr>\n",
       "  </tbody>\n",
       "</table>\n",
       "<p>1320229 rows × 16 columns</p>\n",
       "</div>"
      ],
      "text/plain": [
       "             city       client_event_time        country device_model  \\\n",
       "0          Dallas 2022-03-01 00:57:25.903  United States     iPad13,4   \n",
       "1          Dallas 2022-03-01 00:57:41.878  United States     iPad13,4   \n",
       "2         Toronto 2022-03-01 00:57:28.175         Canada     iPad12,1   \n",
       "3         Toronto 2022-03-01 00:57:28.177         Canada     iPad12,1   \n",
       "4         Toronto 2022-03-01 00:57:38.278         Canada     iPad12,1   \n",
       "...           ...                     ...            ...          ...   \n",
       "1320224  Montreal 2022-05-13 09:32:23.714         France       iPad 4   \n",
       "1320225  Montreal 2022-05-13 09:32:43.732         France       iPad 4   \n",
       "1320226  Montreal 2022-05-13 09:32:26.362         France       iPad 4   \n",
       "1320227  Montreal 2022-05-13 09:33:04.599         France       iPad 4   \n",
       "1320228  Montreal 2022-05-13 09:33:59.905         France       iPad 4   \n",
       "\n",
       "         event_id               event_type  is_attribution_event language  \\\n",
       "0            1110   [Activity] Good Answer                 False  English   \n",
       "1            1111  [Activity] Wrong Answer                 False  English   \n",
       "2            1430          [Activity] Stop                 False  English   \n",
       "3            1431         [Activity] Start                 False  English   \n",
       "4            1432          [Activity] Stop                 False  English   \n",
       "...           ...                      ...                   ...      ...   \n",
       "1320224      1538            [Error] Error                 False   French   \n",
       "1320225      1539            [Error] Error                 False   French   \n",
       "1320226      1426           [Action] Click                 False   French   \n",
       "1320227      1540            [Error] Error                 False   French   \n",
       "1320228      1428             [Game] Pause                 False   French   \n",
       "\n",
       "        os_version   region     session_id start_version  \\\n",
       "0             15.3    Texas  1646095346396         1.0.7   \n",
       "1             15.3    Texas  1646095346396         1.0.7   \n",
       "2             15.2  Ontario  1646096085235         1.3.1   \n",
       "3             15.2  Ontario  1646096085235         1.3.1   \n",
       "4             15.2  Ontario  1646096085235         1.3.1   \n",
       "...            ...      ...            ...           ...   \n",
       "1320224     10.3.3     Aude  1652434239636         1.0.1   \n",
       "1320225     10.3.3     Aude  1652434239636         1.0.1   \n",
       "1320226     10.3.3     Aude  1652434294048         1.0.1   \n",
       "1320227     10.3.3     Aude  1652434239636         1.0.1   \n",
       "1320228     10.3.3     Aude  1652434224805         1.0.1   \n",
       "\n",
       "             user_creation_time user_id  \\\n",
       "0       2021-12-28 01:29:38.094   67531   \n",
       "1       2021-12-28 01:29:38.094   67531   \n",
       "2       2021-07-19 20:24:36.326   60882   \n",
       "3       2021-07-19 20:24:36.326   60882   \n",
       "4       2021-07-19 20:24:36.326   60882   \n",
       "...                         ...     ...   \n",
       "1320224 2021-11-21 21:40:21.468   65663   \n",
       "1320225 2021-11-21 21:40:21.468   65663   \n",
       "1320226 2021-11-21 21:40:21.468   65663   \n",
       "1320227 2021-11-21 21:40:21.468   65663   \n",
       "1320228 2021-11-21 21:40:21.468   65663   \n",
       "\n",
       "                                           user_properties  \\\n",
       "0        {'Newsletter': 'False', 'Products': ['Smart Le...   \n",
       "1        {'Newsletter': 'False', 'Products': ['Smart Le...   \n",
       "2        {'Newsletter': 'True', 'Products': ['Smart Let...   \n",
       "3        {'Newsletter': 'True', 'Products': ['Smart Let...   \n",
       "4        {'Newsletter': 'True', 'Products': ['Smart Let...   \n",
       "...                                                    ...   \n",
       "1320224  {'Newsletter': 'True', 'Products': ['Smart Kit...   \n",
       "1320225  {'Newsletter': 'True', 'Products': ['Smart Kit...   \n",
       "1320226  {'Newsletter': 'True', 'Products': ['Smart Kit...   \n",
       "1320227  {'Newsletter': 'True', 'Products': ['Smart Kit...   \n",
       "1320228  {'Newsletter': 'True', 'Products': ['Smart Kit...   \n",
       "\n",
       "                                          event_properties  \n",
       "0        {'[Activity] Name': 'LinePanties', '[Activity]...  \n",
       "1        {'[Activity] Name': 'LinePanties', '[Activity]...  \n",
       "2        {'[Activity] Name': '1.2', '[Game] Code': 'Mar...  \n",
       "3        {'[Activity] Name': '1.3', '[Game] Code': 'Mar...  \n",
       "4        {'[Activity] Name': '1.3', '[Game] Code': 'Mar...  \n",
       "...                                                    ...  \n",
       "1320224  {'[Game] Code': 'Marbotic', '[Scene] Name': 'V...  \n",
       "1320225  {'[Game] Code': 'Marbotic', '[Scene] Name': 'V...  \n",
       "1320226  {'[Game] Code': 'Marbotic', '[Profile] Age (da...  \n",
       "1320227  {'[Game] Code': 'Marbotic', '[Scene] Name': 'V...  \n",
       "1320228  {'[Game] Code': 'Marbotic', '[Time] Spent': 49...  \n",
       "\n",
       "[1320229 rows x 16 columns]"
      ]
     },
     "execution_count": 4,
     "metadata": {},
     "output_type": "execute_result"
    }
   ],
   "source": [
    "data"
   ]
  },
  {
   "cell_type": "code",
   "execution_count": 5,
   "id": "bcb333aa",
   "metadata": {
    "ExecuteTime": {
     "end_time": "2022-06-07T08:41:09.523781Z",
     "start_time": "2022-06-07T08:41:05.693250Z"
    }
   },
   "outputs": [
    {
     "name": "stdout",
     "output_type": "stream",
     "text": [
      "<class 'pandas.core.frame.DataFrame'>\n",
      "RangeIndex: 1320229 entries, 0 to 1320228\n",
      "Data columns (total 16 columns):\n",
      " #   Column                Non-Null Count    Dtype         \n",
      "---  ------                --------------    -----         \n",
      " 0   city                  1305842 non-null  object        \n",
      " 1   client_event_time     1320229 non-null  datetime64[ns]\n",
      " 2   country               1320229 non-null  object        \n",
      " 3   device_model          1320229 non-null  object        \n",
      " 4   event_id              1320229 non-null  int64         \n",
      " 5   event_type            1320229 non-null  object        \n",
      " 6   is_attribution_event  1320229 non-null  bool          \n",
      " 7   language              1320229 non-null  object        \n",
      " 8   os_version            1320229 non-null  object        \n",
      " 9   region                1308214 non-null  object        \n",
      " 10  session_id            1320229 non-null  int64         \n",
      " 11  start_version         1320229 non-null  object        \n",
      " 12  user_creation_time    1320229 non-null  datetime64[ns]\n",
      " 13  user_id               1293126 non-null  object        \n",
      " 14  user_properties       1320229 non-null  object        \n",
      " 15  event_properties      1320229 non-null  object        \n",
      "dtypes: bool(1), datetime64[ns](2), int64(2), object(11)\n",
      "memory usage: 152.3+ MB\n"
     ]
    }
   ],
   "source": [
    "data.info()"
   ]
  },
  {
   "cell_type": "code",
   "execution_count": 6,
   "id": "d2989e51",
   "metadata": {
    "ExecuteTime": {
     "end_time": "2022-06-07T08:41:12.420873Z",
     "start_time": "2022-06-07T08:41:09.525316Z"
    }
   },
   "outputs": [
    {
     "data": {
      "text/plain": [
       "city                    14387\n",
       "client_event_time           0\n",
       "country                     0\n",
       "device_model                0\n",
       "event_id                    0\n",
       "event_type                  0\n",
       "is_attribution_event        0\n",
       "language                    0\n",
       "os_version                  0\n",
       "region                  12015\n",
       "session_id                  0\n",
       "start_version               0\n",
       "user_creation_time          0\n",
       "user_id                 27103\n",
       "user_properties             0\n",
       "event_properties            0\n",
       "dtype: int64"
      ]
     },
     "execution_count": 6,
     "metadata": {},
     "output_type": "execute_result"
    }
   ],
   "source": [
    "#Valeurs manquantes\n",
    "data.isna().sum()"
   ]
  },
  {
   "cell_type": "code",
   "execution_count": 7,
   "id": "1b498b99",
   "metadata": {
    "ExecuteTime": {
     "end_time": "2022-06-07T08:41:12.723644Z",
     "start_time": "2022-06-07T08:41:12.422051Z"
    }
   },
   "outputs": [
    {
     "data": {
      "text/plain": [
       "2707"
      ]
     },
     "execution_count": 7,
     "metadata": {},
     "output_type": "execute_result"
    }
   ],
   "source": [
    "#2707 joueur uniques\n",
    "data['user_id'].nunique()"
   ]
  },
  {
   "cell_type": "code",
   "execution_count": 30,
   "id": "b6ade7d3",
   "metadata": {
    "ExecuteTime": {
     "end_time": "2022-06-07T10:11:43.769634Z",
     "start_time": "2022-06-07T10:11:43.759308Z"
    }
   },
   "outputs": [],
   "source": [
    "def create_secondary_table(dict):\n",
    "    df = pd.DataFrame(columns=['Newsletter','Products','Pieces','Language','Type','Country','Games'])\n",
    "    df['Newsletter'] = dict['Newsletter']\n",
    "    df['Products'] = dict['Products']\n",
    "    df['Pieces'] = dict['Pieces']\n",
    "    df['Language'] = dict['Language']\n",
    "    df['Type'] = dict['Type']\n",
    "    df['Country'] = dict['Country']\n",
    "    df['Games'] = dict['Games']\n",
    "    return df\n",
    "    \n",
    "\n",
    "#pd.DataFrame(data[data['user_id']=='60882']['user_properties']).iloc[0]"
   ]
  },
  {
   "cell_type": "code",
   "execution_count": 8,
   "id": "1fd7718b",
   "metadata": {
    "ExecuteTime": {
     "end_time": "2022-06-07T13:42:57.003792Z",
     "start_time": "2022-06-07T13:42:49.968432Z"
    }
   },
   "outputs": [
    {
     "name": "stdout",
     "output_type": "stream",
     "text": [
      "Your browser has been opened to visit:\n",
      "\n",
      "    https://accounts.google.com/o/oauth2/auth?response_type=code&client_id=32555940559.apps.googleusercontent.com&redirect_uri=http%3A%2F%2Flocalhost%3A8085%2F&scope=openid+https%3A%2F%2Fwww.googleapis.com%2Fauth%2Fuserinfo.email+https%3A%2F%2Fwww.googleapis.com%2Fauth%2Fcloud-platform+https%3A%2F%2Fwww.googleapis.com%2Fauth%2Fappengine.admin+https%3A%2F%2Fwww.googleapis.com%2Fauth%2Fcompute+https%3A%2F%2Fwww.googleapis.com%2Fauth%2Faccounts.reauth&state=nL2BuVpKpzUa0BRAqkZziFnsCMFMVO&access_type=offline&code_challenge=HQNWaYggn--6iUFLIIq6pWKeTbDwXv8xzNimFaJ9Cck&code_challenge_method=S256\n",
      "\n",
      "\n",
      "You are now logged in as [antonin.anquetil@gmail.com].\n",
      "Your current project is [marbotic].  You can change this setting by running:\n",
      "  $ gcloud config set project PROJECT_ID\n",
      "Updated property [core/project].\n"
     ]
    }
   ],
   "source": [
    "!gcloud auth login                                                                                                   \n",
    "!gcloud config set project marbotic  "
   ]
  },
  {
   "cell_type": "code",
   "execution_count": 10,
   "id": "55ed7437",
   "metadata": {
    "ExecuteTime": {
     "end_time": "2022-06-07T13:48:05.128301Z",
     "start_time": "2022-06-07T13:48:03.581656Z"
    }
   },
   "outputs": [
    {
     "name": "stdout",
     "output_type": "stream",
     "text": [
      "PROJECT_ID           NAME              PROJECT_NUMBER\r\n",
      "calm-photon-346915   My First Project  60189183081\r\n",
      "marbotic             Marbotic          566474310042\r\n",
      "noble-hangar-346915  Wagon Bootcamp    598802098486\r\n"
     ]
    }
   ],
   "source": [
    "!gcloud projects list"
   ]
  },
  {
   "cell_type": "code",
   "execution_count": 14,
   "id": "8c36f12f",
   "metadata": {
    "ExecuteTime": {
     "end_time": "2022-06-07T13:53:42.054912Z",
     "start_time": "2022-06-07T13:53:42.044294Z"
    }
   },
   "outputs": [],
   "source": [
    "from google.oauth2 import service_account\n",
    "\n",
    "key_path = \"/Users/antonin/code/AntoninAnq/gcp/marbotic-7d02fac30bd8.json\"\n",
    "\n",
    "credentials = service_account.Credentials.from_service_account_file(\n",
    "    key_path, scopes=[\"https://www.googleapis.com/auth/cloud-platform\"],\n",
    ")"
   ]
  },
  {
   "cell_type": "code",
   "execution_count": 36,
   "id": "a76594a8",
   "metadata": {
    "ExecuteTime": {
     "end_time": "2022-06-07T14:56:40.657953Z",
     "start_time": "2022-06-07T14:55:56.433935Z"
    }
   },
   "outputs": [
    {
     "name": "stdout",
     "output_type": "stream",
     "text": [
      "<class 'str'>\n",
      "Loaded 1 rows into marbotic_dataset:event_test.\n",
      "<class 'str'>\n",
      "Loaded 1 rows into marbotic_dataset:event_test.\n",
      "<class 'str'>\n",
      "Loaded 1 rows into marbotic_dataset:event_test.\n",
      "<class 'str'>\n",
      "Loaded 1 rows into marbotic_dataset:event_test.\n",
      "<class 'str'>\n",
      "Loaded 1 rows into marbotic_dataset:event_test.\n",
      "<class 'str'>\n",
      "Loaded 1 rows into marbotic_dataset:event_test.\n",
      "<class 'str'>\n",
      "Loaded 1 rows into marbotic_dataset:event_test.\n",
      "<class 'str'>\n",
      "Loaded 1 rows into marbotic_dataset:event_test.\n",
      "<class 'str'>\n",
      "Loaded 1 rows into marbotic_dataset:event_test.\n",
      "<class 'str'>\n",
      "Loaded 1 rows into marbotic_dataset:event_test.\n"
     ]
    }
   ],
   "source": [
    "from itertools import islice\n",
    "import naya\n",
    "import json\n",
    "from google.cloud import bigquery\n",
    "\n",
    "fp = open('../raw_data/export_23-5_minified.json', 'r')\n",
    "messages = naya.stream_array(naya.tokenize(fp))\n",
    "list_dict = list(next(messages).keys())[:-2]\n",
    "result = {}\n",
    "for m in islice(messages,10):\n",
    "    for elmnt in next(messages).keys():\n",
    "        if elmnt in list_dict:\n",
    "            result[elmnt] = next(messages)[elmnt]\n",
    "            if elmnt == 'os_version':\n",
    "                result[elmnt] = str(next(messages)[elmnt])\n",
    "                print(type(result[elmnt]))\n",
    "        out_file =  open('json_data.json','w+')\n",
    "        json.dump(result,out_file)\n",
    "    client = bigquery.Client('marbotic',credentials=credentials)\n",
    "    #filename = 'json_data.json'\n",
    "    dataset_id = 'marbotic_dataset' # Dossier contenant les tables\n",
    "    table_id = 'event_test' #table e destination\n",
    "    \n",
    "    dataset_ref = client.dataset(dataset_id)\n",
    "    table_ref = dataset_ref.table(table_id)\n",
    "    job_config = bigquery.LoadJobConfig()\n",
    "    job_config.source_format = bigquery.SourceFormat.NEWLINE_DELIMITED_JSON\n",
    "    #job_config.autodetect = True\n",
    "    \n",
    "    with open(\"json_data.json\", \"rb\") as source_file:\n",
    "        job = client.load_table_from_file(source_file, table_ref, job_config=job_config)\n",
    "    \n",
    "    job.result()  # Waits for table load to complete.\n",
    "        \n",
    "    print(\"Loaded {} rows into {}:{}.\".format(job.output_rows, dataset_id, table_id))"
   ]
  },
  {
   "cell_type": "code",
   "execution_count": 28,
   "id": "fcbada1c",
   "metadata": {
    "ExecuteTime": {
     "end_time": "2022-06-07T14:44:19.990827Z",
     "start_time": "2022-06-07T14:44:19.980564Z"
    }
   },
   "outputs": [
    {
     "data": {
      "text/plain": [
       "{'city': 'Brooklyn',\n",
       " 'client_event_time': '2022-03-01 00:59:29.975000',\n",
       " 'country': 'United States',\n",
       " 'device_model': 'iPad 5',\n",
       " 'event_id': 324,\n",
       " 'event_type': '[Scene] Leave',\n",
       " 'is_attribution_event': False,\n",
       " 'language': 'English',\n",
       " 'os_version': '15.3.1',\n",
       " 'region': 'Queensland',\n",
       " 'session_id': 1646093775882,\n",
       " 'start_version': '8.1.0',\n",
       " 'user_creation_time': '2020-12-14 08:55:39.373000',\n",
       " 'user_id': '29698'}"
      ]
     },
     "execution_count": 28,
     "metadata": {},
     "output_type": "execute_result"
    }
   ],
   "source": [
    "result"
   ]
  },
  {
   "cell_type": "code",
   "execution_count": null,
   "id": "b001fbd2",
   "metadata": {},
   "outputs": [],
   "source": []
  }
 ],
 "metadata": {
  "kernelspec": {
   "display_name": "Python 3 (ipykernel)",
   "language": "python",
   "name": "python3"
  },
  "language_info": {
   "codemirror_mode": {
    "name": "ipython",
    "version": 3
   },
   "file_extension": ".py",
   "mimetype": "text/x-python",
   "name": "python",
   "nbconvert_exporter": "python",
   "pygments_lexer": "ipython3",
   "version": "3.8.13"
  },
  "toc": {
   "base_numbering": 1,
   "nav_menu": {},
   "number_sections": true,
   "sideBar": true,
   "skip_h1_title": false,
   "title_cell": "Table of Contents",
   "title_sidebar": "Contents",
   "toc_cell": false,
   "toc_position": {},
   "toc_section_display": true,
   "toc_window_display": false
  }
 },
 "nbformat": 4,
 "nbformat_minor": 5
}
