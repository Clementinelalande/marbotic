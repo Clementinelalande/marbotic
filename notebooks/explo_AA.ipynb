{
 "cells": [
  {
   "cell_type": "code",
   "execution_count": 38,
   "id": "d194e287",
   "metadata": {
    "ExecuteTime": {
     "end_time": "2022-06-07T15:08:54.275417Z",
     "start_time": "2022-06-07T15:08:54.271552Z"
    }
   },
   "outputs": [],
   "source": [
    "import pandas as pd"
   ]
  },
  {
   "cell_type": "code",
   "execution_count": 39,
   "id": "d87ccf3f",
   "metadata": {
    "ExecuteTime": {
     "end_time": "2022-06-07T15:21:33.135459Z",
     "start_time": "2022-06-07T15:08:58.545261Z"
    }
   },
   "outputs": [],
   "source": [
    "data = pd.read_json('../raw_data/export_23-5_minified.json')"
   ]
  },
  {
   "cell_type": "code",
   "execution_count": 53,
   "id": "662efa49",
   "metadata": {
    "ExecuteTime": {
     "end_time": "2022-06-08T13:16:15.178059Z",
     "start_time": "2022-06-08T13:15:32.100552Z"
    }
   },
   "outputs": [
    {
     "data": {
      "text/html": [
       "<div>\n",
       "<style scoped>\n",
       "    .dataframe tbody tr th:only-of-type {\n",
       "        vertical-align: middle;\n",
       "    }\n",
       "\n",
       "    .dataframe tbody tr th {\n",
       "        vertical-align: top;\n",
       "    }\n",
       "\n",
       "    .dataframe thead th {\n",
       "        text-align: right;\n",
       "    }\n",
       "</style>\n",
       "<table border=\"1\" class=\"dataframe\">\n",
       "  <thead>\n",
       "    <tr style=\"text-align: right;\">\n",
       "      <th></th>\n",
       "      <th>city</th>\n",
       "      <th>client_event_time</th>\n",
       "      <th>country</th>\n",
       "      <th>device_model</th>\n",
       "      <th>event_id</th>\n",
       "      <th>event_type</th>\n",
       "      <th>is_attribution_event</th>\n",
       "      <th>language</th>\n",
       "      <th>os_version</th>\n",
       "      <th>region</th>\n",
       "      <th>session_id</th>\n",
       "      <th>start_version</th>\n",
       "      <th>user_creation_time</th>\n",
       "      <th>user_id</th>\n",
       "      <th>user_properties</th>\n",
       "      <th>event_properties</th>\n",
       "    </tr>\n",
       "  </thead>\n",
       "  <tbody>\n",
       "    <tr>\n",
       "      <th>171624</th>\n",
       "      <td>Newquay</td>\n",
       "      <td>2022-03-08 09:20:00.986</td>\n",
       "      <td>United Kingdom</td>\n",
       "      <td>iPad 6</td>\n",
       "      <td>1</td>\n",
       "      <td>[Game] Start</td>\n",
       "      <td>False</td>\n",
       "      <td>English</td>\n",
       "      <td>14.8.1</td>\n",
       "      <td>Cornwall</td>\n",
       "      <td>1646731201002</td>\n",
       "      <td>1.0.9</td>\n",
       "      <td>2022-03-08 09:20:00.986</td>\n",
       "      <td>None</td>\n",
       "      <td>{}</td>\n",
       "      <td>{'[Game] Code': 'Marbotic', '[Game] Language':...</td>\n",
       "    </tr>\n",
       "    <tr>\n",
       "      <th>207236</th>\n",
       "      <td>Coraopolis</td>\n",
       "      <td>2022-03-10 23:42:21.175</td>\n",
       "      <td>United States</td>\n",
       "      <td>iPad Mini 5</td>\n",
       "      <td>1</td>\n",
       "      <td>[Game] Start</td>\n",
       "      <td>False</td>\n",
       "      <td>English</td>\n",
       "      <td>14.7.1</td>\n",
       "      <td>Pennsylvania</td>\n",
       "      <td>1646955741181</td>\n",
       "      <td>1.0.9</td>\n",
       "      <td>2022-03-10 23:42:21.175</td>\n",
       "      <td>None</td>\n",
       "      <td>{}</td>\n",
       "      <td>{'[Game] Code': 'Marbotic', '[Game] Language':...</td>\n",
       "    </tr>\n",
       "    <tr>\n",
       "      <th>1302282</th>\n",
       "      <td>Saint-Eustache</td>\n",
       "      <td>2022-05-12 16:14:11.339</td>\n",
       "      <td>Canada</td>\n",
       "      <td>iPad 5</td>\n",
       "      <td>1</td>\n",
       "      <td>[Game] Start</td>\n",
       "      <td>False</td>\n",
       "      <td>French</td>\n",
       "      <td>15.3.1</td>\n",
       "      <td>Quebec</td>\n",
       "      <td>1652372051381</td>\n",
       "      <td>2.0.6</td>\n",
       "      <td>2022-05-12 16:14:11.339</td>\n",
       "      <td>None</td>\n",
       "      <td>{}</td>\n",
       "      <td>{'[Game] Code': 'Marbotic', '[Game] Language':...</td>\n",
       "    </tr>\n",
       "    <tr>\n",
       "      <th>1249395</th>\n",
       "      <td>London</td>\n",
       "      <td>2022-05-09 14:41:44.302</td>\n",
       "      <td>United Kingdom</td>\n",
       "      <td>iPad Pro</td>\n",
       "      <td>1</td>\n",
       "      <td>[Game] Start</td>\n",
       "      <td>False</td>\n",
       "      <td>English</td>\n",
       "      <td>15.4.1</td>\n",
       "      <td>England</td>\n",
       "      <td>1652107304320</td>\n",
       "      <td>2.0.5</td>\n",
       "      <td>2022-05-09 14:41:44.302</td>\n",
       "      <td>None</td>\n",
       "      <td>{}</td>\n",
       "      <td>{'[Game] Code': 'Marbotic', '[Game] Language':...</td>\n",
       "    </tr>\n",
       "    <tr>\n",
       "      <th>90195</th>\n",
       "      <td>Yeovil</td>\n",
       "      <td>2022-03-05 14:35:22.159</td>\n",
       "      <td>United Kingdom</td>\n",
       "      <td>iPad11,6</td>\n",
       "      <td>1</td>\n",
       "      <td>[Game] Start</td>\n",
       "      <td>False</td>\n",
       "      <td>English</td>\n",
       "      <td>15.3.1</td>\n",
       "      <td>Somerset</td>\n",
       "      <td>1646490922165</td>\n",
       "      <td>1.0.9</td>\n",
       "      <td>2022-03-05 14:35:22.159</td>\n",
       "      <td>None</td>\n",
       "      <td>{}</td>\n",
       "      <td>{'[Game] Code': 'Marbotic', '[Game] Language':...</td>\n",
       "    </tr>\n",
       "    <tr>\n",
       "      <th>...</th>\n",
       "      <td>...</td>\n",
       "      <td>...</td>\n",
       "      <td>...</td>\n",
       "      <td>...</td>\n",
       "      <td>...</td>\n",
       "      <td>...</td>\n",
       "      <td>...</td>\n",
       "      <td>...</td>\n",
       "      <td>...</td>\n",
       "      <td>...</td>\n",
       "      <td>...</td>\n",
       "      <td>...</td>\n",
       "      <td>...</td>\n",
       "      <td>...</td>\n",
       "      <td>...</td>\n",
       "      <td>...</td>\n",
       "    </tr>\n",
       "    <tr>\n",
       "      <th>1300492</th>\n",
       "      <td>Calgary</td>\n",
       "      <td>2022-05-12 13:51:28.087</td>\n",
       "      <td>Canada</td>\n",
       "      <td>iPad Pro</td>\n",
       "      <td>35270</td>\n",
       "      <td>[Action] Click</td>\n",
       "      <td>False</td>\n",
       "      <td>English</td>\n",
       "      <td>15.3.1</td>\n",
       "      <td>Alberta</td>\n",
       "      <td>1652363479668</td>\n",
       "      <td>1.0.9</td>\n",
       "      <td>2022-03-13 20:51:34.543</td>\n",
       "      <td>71309</td>\n",
       "      <td>{'Newsletter': 'True', 'Products': ['Smart Let...</td>\n",
       "      <td>{'[Game] Code': 'Marbotic', '[Scene] Name': 'N...</td>\n",
       "    </tr>\n",
       "    <tr>\n",
       "      <th>1300493</th>\n",
       "      <td>Calgary</td>\n",
       "      <td>2022-05-12 13:51:29.957</td>\n",
       "      <td>Canada</td>\n",
       "      <td>iPad Pro</td>\n",
       "      <td>35271</td>\n",
       "      <td>[Scene] Leave</td>\n",
       "      <td>False</td>\n",
       "      <td>English</td>\n",
       "      <td>15.3.1</td>\n",
       "      <td>Alberta</td>\n",
       "      <td>1652363479668</td>\n",
       "      <td>1.0.9</td>\n",
       "      <td>2022-03-13 20:51:34.543</td>\n",
       "      <td>71309</td>\n",
       "      <td>{'Newsletter': 'True', 'Products': ['Smart Let...</td>\n",
       "      <td>{'[Game] Code': 'Marbotic', '[Time] Spent': 5,...</td>\n",
       "    </tr>\n",
       "    <tr>\n",
       "      <th>1300494</th>\n",
       "      <td>Calgary</td>\n",
       "      <td>2022-05-12 13:51:30.423</td>\n",
       "      <td>Canada</td>\n",
       "      <td>iPad Pro</td>\n",
       "      <td>35272</td>\n",
       "      <td>[Scene] Enter</td>\n",
       "      <td>False</td>\n",
       "      <td>English</td>\n",
       "      <td>15.3.1</td>\n",
       "      <td>Alberta</td>\n",
       "      <td>1652363479668</td>\n",
       "      <td>1.0.9</td>\n",
       "      <td>2022-03-13 20:51:34.543</td>\n",
       "      <td>71309</td>\n",
       "      <td>{'Newsletter': 'True', 'Products': ['Smart Let...</td>\n",
       "      <td>{'[Game] Code': 'Marbotic', '[Scene] Name': 'A...</td>\n",
       "    </tr>\n",
       "    <tr>\n",
       "      <th>1300495</th>\n",
       "      <td>Calgary</td>\n",
       "      <td>2022-05-12 13:51:37.356</td>\n",
       "      <td>Canada</td>\n",
       "      <td>iPad Pro</td>\n",
       "      <td>35273</td>\n",
       "      <td>[Activity] Start</td>\n",
       "      <td>False</td>\n",
       "      <td>English</td>\n",
       "      <td>15.3.1</td>\n",
       "      <td>Alberta</td>\n",
       "      <td>1652363479668</td>\n",
       "      <td>1.0.9</td>\n",
       "      <td>2022-03-13 20:51:34.543</td>\n",
       "      <td>71309</td>\n",
       "      <td>{'Newsletter': 'True', 'Products': ['Smart Let...</td>\n",
       "      <td>{'[Activity] Name': 'HatLvl1', '[Game] Code': ...</td>\n",
       "    </tr>\n",
       "    <tr>\n",
       "      <th>1300496</th>\n",
       "      <td>Calgary</td>\n",
       "      <td>2022-05-12 13:52:00.895</td>\n",
       "      <td>Canada</td>\n",
       "      <td>iPad Pro</td>\n",
       "      <td>35274</td>\n",
       "      <td>[Game] Pause</td>\n",
       "      <td>False</td>\n",
       "      <td>English</td>\n",
       "      <td>15.3.1</td>\n",
       "      <td>Alberta</td>\n",
       "      <td>1652363479668</td>\n",
       "      <td>1.0.9</td>\n",
       "      <td>2022-03-13 20:51:34.543</td>\n",
       "      <td>71309</td>\n",
       "      <td>{'Newsletter': 'True', 'Products': ['Smart Let...</td>\n",
       "      <td>{'[Activity] Name': 'HatLvl1', '[Game] Code': ...</td>\n",
       "    </tr>\n",
       "  </tbody>\n",
       "</table>\n",
       "<p>1320229 rows × 16 columns</p>\n",
       "</div>"
      ],
      "text/plain": [
       "                   city       client_event_time         country device_model  \\\n",
       "171624          Newquay 2022-03-08 09:20:00.986  United Kingdom       iPad 6   \n",
       "207236       Coraopolis 2022-03-10 23:42:21.175   United States  iPad Mini 5   \n",
       "1302282  Saint-Eustache 2022-05-12 16:14:11.339          Canada       iPad 5   \n",
       "1249395          London 2022-05-09 14:41:44.302  United Kingdom     iPad Pro   \n",
       "90195            Yeovil 2022-03-05 14:35:22.159  United Kingdom     iPad11,6   \n",
       "...                 ...                     ...             ...          ...   \n",
       "1300492         Calgary 2022-05-12 13:51:28.087          Canada     iPad Pro   \n",
       "1300493         Calgary 2022-05-12 13:51:29.957          Canada     iPad Pro   \n",
       "1300494         Calgary 2022-05-12 13:51:30.423          Canada     iPad Pro   \n",
       "1300495         Calgary 2022-05-12 13:51:37.356          Canada     iPad Pro   \n",
       "1300496         Calgary 2022-05-12 13:52:00.895          Canada     iPad Pro   \n",
       "\n",
       "         event_id        event_type  is_attribution_event language os_version  \\\n",
       "171624          1      [Game] Start                 False  English     14.8.1   \n",
       "207236          1      [Game] Start                 False  English     14.7.1   \n",
       "1302282         1      [Game] Start                 False   French     15.3.1   \n",
       "1249395         1      [Game] Start                 False  English     15.4.1   \n",
       "90195           1      [Game] Start                 False  English     15.3.1   \n",
       "...           ...               ...                   ...      ...        ...   \n",
       "1300492     35270    [Action] Click                 False  English     15.3.1   \n",
       "1300493     35271     [Scene] Leave                 False  English     15.3.1   \n",
       "1300494     35272     [Scene] Enter                 False  English     15.3.1   \n",
       "1300495     35273  [Activity] Start                 False  English     15.3.1   \n",
       "1300496     35274      [Game] Pause                 False  English     15.3.1   \n",
       "\n",
       "               region     session_id start_version      user_creation_time  \\\n",
       "171624       Cornwall  1646731201002         1.0.9 2022-03-08 09:20:00.986   \n",
       "207236   Pennsylvania  1646955741181         1.0.9 2022-03-10 23:42:21.175   \n",
       "1302282        Quebec  1652372051381         2.0.6 2022-05-12 16:14:11.339   \n",
       "1249395       England  1652107304320         2.0.5 2022-05-09 14:41:44.302   \n",
       "90195        Somerset  1646490922165         1.0.9 2022-03-05 14:35:22.159   \n",
       "...               ...            ...           ...                     ...   \n",
       "1300492       Alberta  1652363479668         1.0.9 2022-03-13 20:51:34.543   \n",
       "1300493       Alberta  1652363479668         1.0.9 2022-03-13 20:51:34.543   \n",
       "1300494       Alberta  1652363479668         1.0.9 2022-03-13 20:51:34.543   \n",
       "1300495       Alberta  1652363479668         1.0.9 2022-03-13 20:51:34.543   \n",
       "1300496       Alberta  1652363479668         1.0.9 2022-03-13 20:51:34.543   \n",
       "\n",
       "        user_id                                    user_properties  \\\n",
       "171624     None                                                 {}   \n",
       "207236     None                                                 {}   \n",
       "1302282    None                                                 {}   \n",
       "1249395    None                                                 {}   \n",
       "90195      None                                                 {}   \n",
       "...         ...                                                ...   \n",
       "1300492   71309  {'Newsletter': 'True', 'Products': ['Smart Let...   \n",
       "1300493   71309  {'Newsletter': 'True', 'Products': ['Smart Let...   \n",
       "1300494   71309  {'Newsletter': 'True', 'Products': ['Smart Let...   \n",
       "1300495   71309  {'Newsletter': 'True', 'Products': ['Smart Let...   \n",
       "1300496   71309  {'Newsletter': 'True', 'Products': ['Smart Let...   \n",
       "\n",
       "                                          event_properties  \n",
       "171624   {'[Game] Code': 'Marbotic', '[Game] Language':...  \n",
       "207236   {'[Game] Code': 'Marbotic', '[Game] Language':...  \n",
       "1302282  {'[Game] Code': 'Marbotic', '[Game] Language':...  \n",
       "1249395  {'[Game] Code': 'Marbotic', '[Game] Language':...  \n",
       "90195    {'[Game] Code': 'Marbotic', '[Game] Language':...  \n",
       "...                                                    ...  \n",
       "1300492  {'[Game] Code': 'Marbotic', '[Scene] Name': 'N...  \n",
       "1300493  {'[Game] Code': 'Marbotic', '[Time] Spent': 5,...  \n",
       "1300494  {'[Game] Code': 'Marbotic', '[Scene] Name': 'A...  \n",
       "1300495  {'[Activity] Name': 'HatLvl1', '[Game] Code': ...  \n",
       "1300496  {'[Activity] Name': 'HatLvl1', '[Game] Code': ...  \n",
       "\n",
       "[1320229 rows x 16 columns]"
      ]
     },
     "execution_count": 53,
     "metadata": {},
     "output_type": "execute_result"
    }
   ],
   "source": [
    "data.sort_values(\"event_id\")"
   ]
  },
  {
   "cell_type": "code",
   "execution_count": 57,
   "id": "c643c99f",
   "metadata": {
    "ExecuteTime": {
     "end_time": "2022-06-08T13:18:19.858071Z",
     "start_time": "2022-06-08T13:18:18.891086Z"
    }
   },
   "outputs": [
    {
     "data": {
      "text/plain": [
       "35274"
      ]
     },
     "execution_count": 57,
     "metadata": {},
     "output_type": "execute_result"
    }
   ],
   "source": [
    "data.event_id.astype(str).nunique()"
   ]
  },
  {
   "cell_type": "code",
   "execution_count": 61,
   "id": "39d3f912",
   "metadata": {
    "ExecuteTime": {
     "end_time": "2022-06-08T13:26:48.508333Z",
     "start_time": "2022-06-08T13:26:39.002356Z"
    }
   },
   "outputs": [
    {
     "data": {
      "text/plain": [
       "array(['[Activity] Good Answer', '[Activity] Wrong Answer',\n",
       "       '[Activity] Stop', '[Activity] Start', '[Action] Click',\n",
       "       '[Scene] Leave', '[Scene] Enter', '[Game] Pause',\n",
       "       '[Scaffolding] Scaffolding', '[Game] Start', '[Error] Error',\n",
       "       '[Game] Stop', '[OB] CommPreview', '[OB] DoYouHaveKit',\n",
       "       '[OB] HasKitYes', '[OB] Email', '[OB] VerifCode',\n",
       "       '[Activation] Game', '[OB] HasKitNo', '[OB] DiscoverTrial',\n",
       "       '[OB] ClickTrial', '[Account] Sign In', '[Profile] Create',\n",
       "       '[Profile] Update', '[OB] ProductSelection', '[OB] ProductHelp',\n",
       "       '[OB] Type', '[Account] Sign Up', '[OB] ProfileName',\n",
       "       '[OB] ProfileBirthdate', '[Activation] New Activation',\n",
       "       '[Activation] Product', '[Activation] Piece', '[OB] Success',\n",
       "       '[OB] ProductActivation', '[Scaffolding] Reset', '[OB] TrialStart',\n",
       "       '[Account] Update Request', '[Profile] Delete', '[Popup] Open',\n",
       "       '[Popup] Close', '[Account] Update Success', '[Account] Sign Out',\n",
       "       '[Profile] Reset Settings and Progression', '[OB] ClickStore',\n",
       "       '[OB] RenewalSelection', '[OB] ProductSeeMore',\n",
       "       '[OB] ProductOther', '[OB] KeyRedeem', '[OB] RenewalFail',\n",
       "       '[OB] ProductSK', '[OB] HasKeyNo', '[OB] KeyFail',\n",
       "       '[OB] RenewalSuccess', '[OB] KeySuccess', '[Toast] Appear',\n",
       "       '[Toast] Disappear', '[Action] ConversionClickSubscribe',\n",
       "       '[Action] ConversionClickRedeem'], dtype=object)"
      ]
     },
     "execution_count": 61,
     "metadata": {},
     "output_type": "execute_result"
    }
   ],
   "source": [
    "data.event_type.unique()"
   ]
  },
  {
   "cell_type": "code",
   "execution_count": 5,
   "id": "bcb333aa",
   "metadata": {
    "ExecuteTime": {
     "end_time": "2022-06-07T08:41:09.523781Z",
     "start_time": "2022-06-07T08:41:05.693250Z"
    }
   },
   "outputs": [
    {
     "name": "stdout",
     "output_type": "stream",
     "text": [
      "<class 'pandas.core.frame.DataFrame'>\n",
      "RangeIndex: 1320229 entries, 0 to 1320228\n",
      "Data columns (total 16 columns):\n",
      " #   Column                Non-Null Count    Dtype         \n",
      "---  ------                --------------    -----         \n",
      " 0   city                  1305842 non-null  object        \n",
      " 1   client_event_time     1320229 non-null  datetime64[ns]\n",
      " 2   country               1320229 non-null  object        \n",
      " 3   device_model          1320229 non-null  object        \n",
      " 4   event_id              1320229 non-null  int64         \n",
      " 5   event_type            1320229 non-null  object        \n",
      " 6   is_attribution_event  1320229 non-null  bool          \n",
      " 7   language              1320229 non-null  object        \n",
      " 8   os_version            1320229 non-null  object        \n",
      " 9   region                1308214 non-null  object        \n",
      " 10  session_id            1320229 non-null  int64         \n",
      " 11  start_version         1320229 non-null  object        \n",
      " 12  user_creation_time    1320229 non-null  datetime64[ns]\n",
      " 13  user_id               1293126 non-null  object        \n",
      " 14  user_properties       1320229 non-null  object        \n",
      " 15  event_properties      1320229 non-null  object        \n",
      "dtypes: bool(1), datetime64[ns](2), int64(2), object(11)\n",
      "memory usage: 152.3+ MB\n"
     ]
    }
   ],
   "source": [
    "data.info()"
   ]
  },
  {
   "cell_type": "code",
   "execution_count": 6,
   "id": "d2989e51",
   "metadata": {
    "ExecuteTime": {
     "end_time": "2022-06-07T08:41:12.420873Z",
     "start_time": "2022-06-07T08:41:09.525316Z"
    }
   },
   "outputs": [
    {
     "data": {
      "text/plain": [
       "city                    14387\n",
       "client_event_time           0\n",
       "country                     0\n",
       "device_model                0\n",
       "event_id                    0\n",
       "event_type                  0\n",
       "is_attribution_event        0\n",
       "language                    0\n",
       "os_version                  0\n",
       "region                  12015\n",
       "session_id                  0\n",
       "start_version               0\n",
       "user_creation_time          0\n",
       "user_id                 27103\n",
       "user_properties             0\n",
       "event_properties            0\n",
       "dtype: int64"
      ]
     },
     "execution_count": 6,
     "metadata": {},
     "output_type": "execute_result"
    }
   ],
   "source": [
    "#Valeurs manquantes\n",
    "data.isna().sum()"
   ]
  },
  {
   "cell_type": "code",
   "execution_count": 7,
   "id": "1b498b99",
   "metadata": {
    "ExecuteTime": {
     "end_time": "2022-06-07T08:41:12.723644Z",
     "start_time": "2022-06-07T08:41:12.422051Z"
    }
   },
   "outputs": [
    {
     "data": {
      "text/plain": [
       "2707"
      ]
     },
     "execution_count": 7,
     "metadata": {},
     "output_type": "execute_result"
    }
   ],
   "source": [
    "#2707 joueur uniques\n",
    "data['user_id'].nunique()"
   ]
  },
  {
   "cell_type": "code",
   "execution_count": 37,
   "id": "e362c6b5",
   "metadata": {
    "ExecuteTime": {
     "end_time": "2022-06-07T15:08:46.373424Z",
     "start_time": "2022-06-07T15:08:46.344254Z"
    }
   },
   "outputs": [
    {
     "ename": "NameError",
     "evalue": "name 'data' is not defined",
     "output_type": "error",
     "traceback": [
      "\u001b[0;31m---------------------------------------------------------------------------\u001b[0m",
      "\u001b[0;31mNameError\u001b[0m                                 Traceback (most recent call last)",
      "Input \u001b[0;32mIn [37]\u001b[0m, in \u001b[0;36m<cell line: 1>\u001b[0;34m()\u001b[0m\n\u001b[0;32m----> 1\u001b[0m \u001b[43mdata\u001b[49m[\u001b[38;5;124m'\u001b[39m\u001b[38;5;124muser_properties\u001b[39m\u001b[38;5;124m'\u001b[39m]\u001b[38;5;241m.\u001b[39miloc[\u001b[38;5;241m0\u001b[39m]\n",
      "\u001b[0;31mNameError\u001b[0m: name 'data' is not defined"
     ]
    }
   ],
   "source": [
    "data['user_properties'].iloc[0]"
   ]
  },
  {
   "cell_type": "code",
   "execution_count": 30,
   "id": "b6ade7d3",
   "metadata": {
    "ExecuteTime": {
     "end_time": "2022-06-07T10:11:43.769634Z",
     "start_time": "2022-06-07T10:11:43.759308Z"
    }
   },
   "outputs": [],
   "source": [
    "def create_secondary_table(dict):\n",
    "    df = pd.DataFrame(columns=['Newsletter','Products','Pieces','Language','Type','Country','Games'])\n",
    "    df['Newsletter'] = dict['Newsletter']\n",
    "    df['Products'] = dict['Products']\n",
    "    df['Pieces'] = dict['Pieces']\n",
    "    df['Language'] = dict['Language']\n",
    "    df['Type'] = dict['Type']\n",
    "    df['Country'] = dict['Country']\n",
    "    df['Games'] = dict['Games']\n",
    "    return df\n",
    "    \n",
    "\n",
    "#pd.DataFrame(data[data['user_id']=='60882']['user_properties']).iloc[0]"
   ]
  },
  {
   "cell_type": "code",
   "execution_count": 8,
   "id": "1fd7718b",
   "metadata": {
    "ExecuteTime": {
     "end_time": "2022-06-07T13:42:57.003792Z",
     "start_time": "2022-06-07T13:42:49.968432Z"
    }
   },
   "outputs": [
    {
     "name": "stdout",
     "output_type": "stream",
     "text": [
      "Your browser has been opened to visit:\n",
      "\n",
      "    https://accounts.google.com/o/oauth2/auth?response_type=code&client_id=32555940559.apps.googleusercontent.com&redirect_uri=http%3A%2F%2Flocalhost%3A8085%2F&scope=openid+https%3A%2F%2Fwww.googleapis.com%2Fauth%2Fuserinfo.email+https%3A%2F%2Fwww.googleapis.com%2Fauth%2Fcloud-platform+https%3A%2F%2Fwww.googleapis.com%2Fauth%2Fappengine.admin+https%3A%2F%2Fwww.googleapis.com%2Fauth%2Fcompute+https%3A%2F%2Fwww.googleapis.com%2Fauth%2Faccounts.reauth&state=nL2BuVpKpzUa0BRAqkZziFnsCMFMVO&access_type=offline&code_challenge=HQNWaYggn--6iUFLIIq6pWKeTbDwXv8xzNimFaJ9Cck&code_challenge_method=S256\n",
      "\n",
      "\n",
      "You are now logged in as [antonin.anquetil@gmail.com].\n",
      "Your current project is [marbotic].  You can change this setting by running:\n",
      "  $ gcloud config set project PROJECT_ID\n",
      "Updated property [core/project].\n"
     ]
    }
   ],
   "source": [
    "!gcloud auth login                                                                                                   \n",
    "!gcloud config set project marbotic  "
   ]
  },
  {
   "cell_type": "code",
   "execution_count": 10,
   "id": "55ed7437",
   "metadata": {
    "ExecuteTime": {
     "end_time": "2022-06-07T13:48:05.128301Z",
     "start_time": "2022-06-07T13:48:03.581656Z"
    }
   },
   "outputs": [
    {
     "name": "stdout",
     "output_type": "stream",
     "text": [
      "PROJECT_ID           NAME              PROJECT_NUMBER\r\n",
      "calm-photon-346915   My First Project  60189183081\r\n",
      "marbotic             Marbotic          566474310042\r\n",
      "noble-hangar-346915  Wagon Bootcamp    598802098486\r\n"
     ]
    }
   ],
   "source": [
    "!gcloud projects list"
   ]
  },
  {
   "cell_type": "code",
   "execution_count": 14,
   "id": "8c36f12f",
   "metadata": {
    "ExecuteTime": {
     "end_time": "2022-06-07T13:53:42.054912Z",
     "start_time": "2022-06-07T13:53:42.044294Z"
    }
   },
   "outputs": [],
   "source": [
    "from google.oauth2 import service_account\n",
    "\n",
    "key_path = \"/Users/antonin/code/AntoninAnq/gcp/marbotic-7d02fac30bd8.json\"\n",
    "\n",
    "credentials = service_account.Credentials.from_service_account_file(\n",
    "    key_path, scopes=[\"https://www.googleapis.com/auth/cloud-platform\"],\n",
    ")"
   ]
  },
  {
   "cell_type": "code",
   "execution_count": 36,
   "id": "a76594a8",
   "metadata": {
    "ExecuteTime": {
     "end_time": "2022-06-07T14:56:40.657953Z",
     "start_time": "2022-06-07T14:55:56.433935Z"
    }
   },
   "outputs": [
    {
     "name": "stdout",
     "output_type": "stream",
     "text": [
      "<class 'str'>\n",
      "Loaded 1 rows into marbotic_dataset:event_test.\n",
      "<class 'str'>\n",
      "Loaded 1 rows into marbotic_dataset:event_test.\n",
      "<class 'str'>\n",
      "Loaded 1 rows into marbotic_dataset:event_test.\n",
      "<class 'str'>\n",
      "Loaded 1 rows into marbotic_dataset:event_test.\n",
      "<class 'str'>\n",
      "Loaded 1 rows into marbotic_dataset:event_test.\n",
      "<class 'str'>\n",
      "Loaded 1 rows into marbotic_dataset:event_test.\n",
      "<class 'str'>\n",
      "Loaded 1 rows into marbotic_dataset:event_test.\n",
      "<class 'str'>\n",
      "Loaded 1 rows into marbotic_dataset:event_test.\n",
      "<class 'str'>\n",
      "Loaded 1 rows into marbotic_dataset:event_test.\n",
      "<class 'str'>\n",
      "Loaded 1 rows into marbotic_dataset:event_test.\n"
     ]
    }
   ],
   "source": [
    "from itertools import islice\n",
    "import naya\n",
    "import json\n",
    "from google.cloud import bigquery\n",
    "\n",
    "fp = open('../raw_data/export_23-5_minified.json', 'r')\n",
    "messages = naya.stream_array(naya.tokenize(fp))\n",
    "list_dict = list(next(messages).keys())[:-2]\n",
    "result = {}\n",
    "for m in islice(messages,10):\n",
    "    for elmnt in next(messages).keys():\n",
    "        if elmnt in list_dict:\n",
    "            result[elmnt] = next(messages)[elmnt]\n",
    "            if elmnt == 'os_version':\n",
    "                result[elmnt] = str(next(messages)[elmnt])\n",
    "                print(type(result[elmnt]))\n",
    "        out_file =  open('json_data.json','w+')\n",
    "        json.dump(result,out_file)\n",
    "    client = bigquery.Client('marbotic',credentials=credentials)\n",
    "    #filename = 'json_data.json'\n",
    "    dataset_id = 'marbotic_dataset' # Dossier contenant les tables\n",
    "    table_id = 'event_test' #table e destination\n",
    "    \n",
    "    dataset_ref = client.dataset(dataset_id)\n",
    "    table_ref = dataset_ref.table(table_id)\n",
    "    job_config = bigquery.LoadJobConfig()\n",
    "    job_config.source_format = bigquery.SourceFormat.NEWLINE_DELIMITED_JSON\n",
    "    #job_config.autodetect = True\n",
    "    \n",
    "    with open(\"json_data.json\", \"rb\") as source_file:\n",
    "        job = client.load_table_from_file(source_file, table_ref, job_config=job_config)\n",
    "    \n",
    "    job.result()  # Waits for table load to complete.\n",
    "        \n",
    "    print(\"Loaded {} rows into {}:{}.\".format(job.output_rows, dataset_id, table_id))"
   ]
  },
  {
   "cell_type": "code",
   "execution_count": 28,
   "id": "fcbada1c",
   "metadata": {
    "ExecuteTime": {
     "end_time": "2022-06-07T14:44:19.990827Z",
     "start_time": "2022-06-07T14:44:19.980564Z"
    }
   },
   "outputs": [
    {
     "data": {
      "text/plain": [
       "{'city': 'Brooklyn',\n",
       " 'client_event_time': '2022-03-01 00:59:29.975000',\n",
       " 'country': 'United States',\n",
       " 'device_model': 'iPad 5',\n",
       " 'event_id': 324,\n",
       " 'event_type': '[Scene] Leave',\n",
       " 'is_attribution_event': False,\n",
       " 'language': 'English',\n",
       " 'os_version': '15.3.1',\n",
       " 'region': 'Queensland',\n",
       " 'session_id': 1646093775882,\n",
       " 'start_version': '8.1.0',\n",
       " 'user_creation_time': '2020-12-14 08:55:39.373000',\n",
       " 'user_id': '29698'}"
      ]
     },
     "execution_count": 28,
     "metadata": {},
     "output_type": "execute_result"
    }
   ],
   "source": [
    "result"
   ]
  },
  {
   "cell_type": "code",
   "execution_count": null,
   "id": "b001fbd2",
   "metadata": {},
   "outputs": [],
   "source": []
  }
 ],
 "metadata": {
  "kernelspec": {
   "display_name": "Python 3 (ipykernel)",
   "language": "python",
   "name": "python3"
  },
  "language_info": {
   "codemirror_mode": {
    "name": "ipython",
    "version": 3
   },
   "file_extension": ".py",
   "mimetype": "text/x-python",
   "name": "python",
   "nbconvert_exporter": "python",
   "pygments_lexer": "ipython3",
   "version": "3.8.13"
  },
  "toc": {
   "base_numbering": 1,
   "nav_menu": {},
   "number_sections": true,
   "sideBar": true,
   "skip_h1_title": false,
   "title_cell": "Table of Contents",
   "title_sidebar": "Contents",
   "toc_cell": false,
   "toc_position": {},
   "toc_section_display": true,
   "toc_window_display": false
  }
 },
 "nbformat": 4,
 "nbformat_minor": 5
}
