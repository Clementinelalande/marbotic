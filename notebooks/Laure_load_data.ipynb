{
 "cells": [
  {
   "cell_type": "code",
   "execution_count": null,
   "metadata": {},
   "outputs": [],
   "source": [
    "!cat ../data/export_23-5_minified.json | jq -c '.[]' > ../data/goodformat.json"
   ]
  },
  {
   "cell_type": "code",
   "execution_count": 11,
   "metadata": {},
   "outputs": [
    {
     "name": "stdout",
     "output_type": "stream",
     "text": [
      "/Users/lauredegrave/code/casicoco/gcp/sage-outrider-328009-2876898e70e0.json\n"
     ]
    }
   ],
   "source": [
    "!export GOOGLE_APPLICATION_CREDENTIALS=/Users/lauredegrave/code/casicoco/gcp/marbotic-310a9a33f756.json\n",
    "!export GOOGLE_APPLICATION_CREDENTIALS=~/key.json\n",
    "!echo $GOOGLE_APPLICATION_CREDENTIALS"
   ]
  },
  {
   "cell_type": "code",
   "execution_count": 2,
   "metadata": {},
   "outputs": [
    {
     "name": "stdout",
     "output_type": "stream",
     "text": [
      "Index(['city', 'client_event_time', 'country', 'device_model', 'event_id',\n",
      "       'event_type', 'is_attribution_event', 'language', 'os_version',\n",
      "       'region', 'session_id', 'start_version', 'user_creation_time',\n",
      "       'user_id', 'user_properties', 'event_properties'],\n",
      "      dtype='object')\n"
     ]
    },
    {
     "ename": "NotFound",
     "evalue": "404 POST https://bigquery.googleapis.com/upload/bigquery/v2/projects/sage-outrider-328009/jobs?uploadType=multipart: Not found: Dataset sage-outrider-328009:marbotic_dataset",
     "output_type": "error",
     "traceback": [
      "\u001b[0;31m---------------------------------------------------------------------------\u001b[0m",
      "\u001b[0;31mInvalidResponse\u001b[0m                           Traceback (most recent call last)",
      "File \u001b[0;32m~/.pyenv/versions/3.8.12/envs/marbotic/lib/python3.8/site-packages/google/cloud/bigquery/client.py:2426\u001b[0m, in \u001b[0;36mClient.load_table_from_file\u001b[0;34m(self, file_obj, destination, rewind, size, num_retries, job_id, job_id_prefix, location, project, job_config, timeout)\u001b[0m\n\u001b[1;32m   <a href='file:///Users/lauredegrave/.pyenv/versions/3.8.12/envs/marbotic/lib/python3.8/site-packages/google/cloud/bigquery/client.py?line=2424'>2425</a>\u001b[0m     \u001b[39melse\u001b[39;00m:\n\u001b[0;32m-> <a href='file:///Users/lauredegrave/.pyenv/versions/3.8.12/envs/marbotic/lib/python3.8/site-packages/google/cloud/bigquery/client.py?line=2425'>2426</a>\u001b[0m         response \u001b[39m=\u001b[39m \u001b[39mself\u001b[39;49m\u001b[39m.\u001b[39;49m_do_multipart_upload(\n\u001b[1;32m   <a href='file:///Users/lauredegrave/.pyenv/versions/3.8.12/envs/marbotic/lib/python3.8/site-packages/google/cloud/bigquery/client.py?line=2426'>2427</a>\u001b[0m             file_obj, job_resource, size, num_retries, timeout, project\u001b[39m=\u001b[39;49mproject\n\u001b[1;32m   <a href='file:///Users/lauredegrave/.pyenv/versions/3.8.12/envs/marbotic/lib/python3.8/site-packages/google/cloud/bigquery/client.py?line=2427'>2428</a>\u001b[0m         )\n\u001b[1;32m   <a href='file:///Users/lauredegrave/.pyenv/versions/3.8.12/envs/marbotic/lib/python3.8/site-packages/google/cloud/bigquery/client.py?line=2428'>2429</a>\u001b[0m \u001b[39mexcept\u001b[39;00m resumable_media\u001b[39m.\u001b[39mInvalidResponse \u001b[39mas\u001b[39;00m exc:\n",
      "File \u001b[0;32m~/.pyenv/versions/3.8.12/envs/marbotic/lib/python3.8/site-packages/google/cloud/bigquery/client.py:2979\u001b[0m, in \u001b[0;36mClient._do_multipart_upload\u001b[0;34m(self, stream, metadata, size, num_retries, timeout, project)\u001b[0m\n\u001b[1;32m   <a href='file:///Users/lauredegrave/.pyenv/versions/3.8.12/envs/marbotic/lib/python3.8/site-packages/google/cloud/bigquery/client.py?line=2974'>2975</a>\u001b[0m     upload\u001b[39m.\u001b[39m_retry_strategy \u001b[39m=\u001b[39m resumable_media\u001b[39m.\u001b[39mRetryStrategy(\n\u001b[1;32m   <a href='file:///Users/lauredegrave/.pyenv/versions/3.8.12/envs/marbotic/lib/python3.8/site-packages/google/cloud/bigquery/client.py?line=2975'>2976</a>\u001b[0m         max_retries\u001b[39m=\u001b[39mnum_retries\n\u001b[1;32m   <a href='file:///Users/lauredegrave/.pyenv/versions/3.8.12/envs/marbotic/lib/python3.8/site-packages/google/cloud/bigquery/client.py?line=2976'>2977</a>\u001b[0m     )\n\u001b[0;32m-> <a href='file:///Users/lauredegrave/.pyenv/versions/3.8.12/envs/marbotic/lib/python3.8/site-packages/google/cloud/bigquery/client.py?line=2978'>2979</a>\u001b[0m response \u001b[39m=\u001b[39m upload\u001b[39m.\u001b[39;49mtransmit(\n\u001b[1;32m   <a href='file:///Users/lauredegrave/.pyenv/versions/3.8.12/envs/marbotic/lib/python3.8/site-packages/google/cloud/bigquery/client.py?line=2979'>2980</a>\u001b[0m     \u001b[39mself\u001b[39;49m\u001b[39m.\u001b[39;49m_http, data, metadata, _GENERIC_CONTENT_TYPE, timeout\u001b[39m=\u001b[39;49mtimeout\n\u001b[1;32m   <a href='file:///Users/lauredegrave/.pyenv/versions/3.8.12/envs/marbotic/lib/python3.8/site-packages/google/cloud/bigquery/client.py?line=2980'>2981</a>\u001b[0m )\n\u001b[1;32m   <a href='file:///Users/lauredegrave/.pyenv/versions/3.8.12/envs/marbotic/lib/python3.8/site-packages/google/cloud/bigquery/client.py?line=2982'>2983</a>\u001b[0m \u001b[39mreturn\u001b[39;00m response\n",
      "File \u001b[0;32m~/.pyenv/versions/3.8.12/envs/marbotic/lib/python3.8/site-packages/google/resumable_media/requests/upload.py:153\u001b[0m, in \u001b[0;36mMultipartUpload.transmit\u001b[0;34m(self, transport, data, metadata, content_type, timeout)\u001b[0m\n\u001b[1;32m    <a href='file:///Users/lauredegrave/.pyenv/versions/3.8.12/envs/marbotic/lib/python3.8/site-packages/google/resumable_media/requests/upload.py?line=150'>151</a>\u001b[0m     \u001b[39mreturn\u001b[39;00m result\n\u001b[0;32m--> <a href='file:///Users/lauredegrave/.pyenv/versions/3.8.12/envs/marbotic/lib/python3.8/site-packages/google/resumable_media/requests/upload.py?line=152'>153</a>\u001b[0m \u001b[39mreturn\u001b[39;00m _request_helpers\u001b[39m.\u001b[39;49mwait_and_retry(\n\u001b[1;32m    <a href='file:///Users/lauredegrave/.pyenv/versions/3.8.12/envs/marbotic/lib/python3.8/site-packages/google/resumable_media/requests/upload.py?line=153'>154</a>\u001b[0m     retriable_request, \u001b[39mself\u001b[39;49m\u001b[39m.\u001b[39;49m_get_status_code, \u001b[39mself\u001b[39;49m\u001b[39m.\u001b[39;49m_retry_strategy\n\u001b[1;32m    <a href='file:///Users/lauredegrave/.pyenv/versions/3.8.12/envs/marbotic/lib/python3.8/site-packages/google/resumable_media/requests/upload.py?line=154'>155</a>\u001b[0m )\n",
      "File \u001b[0;32m~/.pyenv/versions/3.8.12/envs/marbotic/lib/python3.8/site-packages/google/resumable_media/requests/_request_helpers.py:148\u001b[0m, in \u001b[0;36mwait_and_retry\u001b[0;34m(func, get_status_code, retry_strategy)\u001b[0m\n\u001b[1;32m    <a href='file:///Users/lauredegrave/.pyenv/versions/3.8.12/envs/marbotic/lib/python3.8/site-packages/google/resumable_media/requests/_request_helpers.py?line=146'>147</a>\u001b[0m \u001b[39mtry\u001b[39;00m:\n\u001b[0;32m--> <a href='file:///Users/lauredegrave/.pyenv/versions/3.8.12/envs/marbotic/lib/python3.8/site-packages/google/resumable_media/requests/_request_helpers.py?line=147'>148</a>\u001b[0m     response \u001b[39m=\u001b[39m func()\n\u001b[1;32m    <a href='file:///Users/lauredegrave/.pyenv/versions/3.8.12/envs/marbotic/lib/python3.8/site-packages/google/resumable_media/requests/_request_helpers.py?line=148'>149</a>\u001b[0m \u001b[39mexcept\u001b[39;00m _CONNECTION_ERROR_CLASSES \u001b[39mas\u001b[39;00m e:\n",
      "File \u001b[0;32m~/.pyenv/versions/3.8.12/envs/marbotic/lib/python3.8/site-packages/google/resumable_media/requests/upload.py:149\u001b[0m, in \u001b[0;36mMultipartUpload.transmit.<locals>.retriable_request\u001b[0;34m()\u001b[0m\n\u001b[1;32m    <a href='file:///Users/lauredegrave/.pyenv/versions/3.8.12/envs/marbotic/lib/python3.8/site-packages/google/resumable_media/requests/upload.py?line=144'>145</a>\u001b[0m result \u001b[39m=\u001b[39m transport\u001b[39m.\u001b[39mrequest(\n\u001b[1;32m    <a href='file:///Users/lauredegrave/.pyenv/versions/3.8.12/envs/marbotic/lib/python3.8/site-packages/google/resumable_media/requests/upload.py?line=145'>146</a>\u001b[0m     method, url, data\u001b[39m=\u001b[39mpayload, headers\u001b[39m=\u001b[39mheaders, timeout\u001b[39m=\u001b[39mtimeout\n\u001b[1;32m    <a href='file:///Users/lauredegrave/.pyenv/versions/3.8.12/envs/marbotic/lib/python3.8/site-packages/google/resumable_media/requests/upload.py?line=146'>147</a>\u001b[0m )\n\u001b[0;32m--> <a href='file:///Users/lauredegrave/.pyenv/versions/3.8.12/envs/marbotic/lib/python3.8/site-packages/google/resumable_media/requests/upload.py?line=148'>149</a>\u001b[0m \u001b[39mself\u001b[39;49m\u001b[39m.\u001b[39;49m_process_response(result)\n\u001b[1;32m    <a href='file:///Users/lauredegrave/.pyenv/versions/3.8.12/envs/marbotic/lib/python3.8/site-packages/google/resumable_media/requests/upload.py?line=150'>151</a>\u001b[0m \u001b[39mreturn\u001b[39;00m result\n",
      "File \u001b[0;32m~/.pyenv/versions/3.8.12/envs/marbotic/lib/python3.8/site-packages/google/resumable_media/_upload.py:114\u001b[0m, in \u001b[0;36mUploadBase._process_response\u001b[0;34m(self, response)\u001b[0m\n\u001b[1;32m    <a href='file:///Users/lauredegrave/.pyenv/versions/3.8.12/envs/marbotic/lib/python3.8/site-packages/google/resumable_media/_upload.py?line=112'>113</a>\u001b[0m \u001b[39mself\u001b[39m\u001b[39m.\u001b[39m_finished \u001b[39m=\u001b[39m \u001b[39mTrue\u001b[39;00m\n\u001b[0;32m--> <a href='file:///Users/lauredegrave/.pyenv/versions/3.8.12/envs/marbotic/lib/python3.8/site-packages/google/resumable_media/_upload.py?line=113'>114</a>\u001b[0m _helpers\u001b[39m.\u001b[39;49mrequire_status_code(response, (http\u001b[39m.\u001b[39;49mclient\u001b[39m.\u001b[39;49mOK,), \u001b[39mself\u001b[39;49m\u001b[39m.\u001b[39;49m_get_status_code)\n",
      "File \u001b[0;32m~/.pyenv/versions/3.8.12/envs/marbotic/lib/python3.8/site-packages/google/resumable_media/_helpers.py:105\u001b[0m, in \u001b[0;36mrequire_status_code\u001b[0;34m(response, status_codes, get_status_code, callback)\u001b[0m\n\u001b[1;32m    <a href='file:///Users/lauredegrave/.pyenv/versions/3.8.12/envs/marbotic/lib/python3.8/site-packages/google/resumable_media/_helpers.py?line=103'>104</a>\u001b[0m         callback()\n\u001b[0;32m--> <a href='file:///Users/lauredegrave/.pyenv/versions/3.8.12/envs/marbotic/lib/python3.8/site-packages/google/resumable_media/_helpers.py?line=104'>105</a>\u001b[0m     \u001b[39mraise\u001b[39;00m common\u001b[39m.\u001b[39mInvalidResponse(\n\u001b[1;32m    <a href='file:///Users/lauredegrave/.pyenv/versions/3.8.12/envs/marbotic/lib/python3.8/site-packages/google/resumable_media/_helpers.py?line=105'>106</a>\u001b[0m         response,\n\u001b[1;32m    <a href='file:///Users/lauredegrave/.pyenv/versions/3.8.12/envs/marbotic/lib/python3.8/site-packages/google/resumable_media/_helpers.py?line=106'>107</a>\u001b[0m         \u001b[39m\"\u001b[39m\u001b[39mRequest failed with status code\u001b[39m\u001b[39m\"\u001b[39m,\n\u001b[1;32m    <a href='file:///Users/lauredegrave/.pyenv/versions/3.8.12/envs/marbotic/lib/python3.8/site-packages/google/resumable_media/_helpers.py?line=107'>108</a>\u001b[0m         status_code,\n\u001b[1;32m    <a href='file:///Users/lauredegrave/.pyenv/versions/3.8.12/envs/marbotic/lib/python3.8/site-packages/google/resumable_media/_helpers.py?line=108'>109</a>\u001b[0m         \u001b[39m\"\u001b[39m\u001b[39mExpected one of\u001b[39m\u001b[39m\"\u001b[39m,\n\u001b[1;32m    <a href='file:///Users/lauredegrave/.pyenv/versions/3.8.12/envs/marbotic/lib/python3.8/site-packages/google/resumable_media/_helpers.py?line=109'>110</a>\u001b[0m         \u001b[39m*\u001b[39mstatus_codes\n\u001b[1;32m    <a href='file:///Users/lauredegrave/.pyenv/versions/3.8.12/envs/marbotic/lib/python3.8/site-packages/google/resumable_media/_helpers.py?line=110'>111</a>\u001b[0m     )\n\u001b[1;32m    <a href='file:///Users/lauredegrave/.pyenv/versions/3.8.12/envs/marbotic/lib/python3.8/site-packages/google/resumable_media/_helpers.py?line=111'>112</a>\u001b[0m \u001b[39mreturn\u001b[39;00m status_code\n",
      "\u001b[0;31mInvalidResponse\u001b[0m: ('Request failed with status code', 404, 'Expected one of', <HTTPStatus.OK: 200>)",
      "\nDuring handling of the above exception, another exception occurred:\n",
      "\u001b[0;31mNotFound\u001b[0m                                  Traceback (most recent call last)",
      "\u001b[1;32m/Users/lauredegrave/code/others/marbotic/notebooks/Laure_load_data.ipynb Cell 2'\u001b[0m in \u001b[0;36m<cell line: 15>\u001b[0;34m()\u001b[0m\n\u001b[1;32m     <a href='vscode-notebook-cell:/Users/lauredegrave/code/others/marbotic/notebooks/Laure_load_data.ipynb#ch0000001?line=18'>19</a>\u001b[0m c \u001b[39m=\u001b[39m c\u001b[39m.\u001b[39mdrop(columns\u001b[39m=\u001b[39m[\u001b[39m'\u001b[39m\u001b[39muser_properties\u001b[39m\u001b[39m'\u001b[39m,\u001b[39m'\u001b[39m\u001b[39mevent_properties\u001b[39m\u001b[39m'\u001b[39m], axis\u001b[39m=\u001b[39m\u001b[39m1\u001b[39m)\n\u001b[1;32m     <a href='vscode-notebook-cell:/Users/lauredegrave/code/others/marbotic/notebooks/Laure_load_data.ipynb#ch0000001?line=19'>20</a>\u001b[0m client \u001b[39m=\u001b[39m bigquery\u001b[39m.\u001b[39mClient()\n\u001b[0;32m---> <a href='vscode-notebook-cell:/Users/lauredegrave/code/others/marbotic/notebooks/Laure_load_data.ipynb#ch0000001?line=20'>21</a>\u001b[0m job \u001b[39m=\u001b[39m client\u001b[39m.\u001b[39;49mload_table_from_dataframe(c, table_id)  \u001b[39m# Make an API request.\u001b[39;00m\n\u001b[1;32m     <a href='vscode-notebook-cell:/Users/lauredegrave/code/others/marbotic/notebooks/Laure_load_data.ipynb#ch0000001?line=21'>22</a>\u001b[0m job\u001b[39m.\u001b[39mresult()  \u001b[39m# Wait for the job to complete.\u001b[39;00m\n\u001b[1;32m     <a href='vscode-notebook-cell:/Users/lauredegrave/code/others/marbotic/notebooks/Laure_load_data.ipynb#ch0000001?line=22'>23</a>\u001b[0m table \u001b[39m=\u001b[39m client\u001b[39m.\u001b[39mget_table(table_id)  \u001b[39m# Make an API request.\u001b[39;00m\n",
      "File \u001b[0;32m~/.pyenv/versions/3.8.12/envs/marbotic/lib/python3.8/site-packages/google/cloud/bigquery/client.py:2660\u001b[0m, in \u001b[0;36mClient.load_table_from_dataframe\u001b[0;34m(self, dataframe, destination, num_retries, job_id, job_id_prefix, location, project, job_config, parquet_compression, timeout)\u001b[0m\n\u001b[1;32m   <a href='file:///Users/lauredegrave/.pyenv/versions/3.8.12/envs/marbotic/lib/python3.8/site-packages/google/cloud/bigquery/client.py?line=2657'>2658</a>\u001b[0m     \u001b[39mwith\u001b[39;00m \u001b[39mopen\u001b[39m(tmppath, \u001b[39m\"\u001b[39m\u001b[39mrb\u001b[39m\u001b[39m\"\u001b[39m) \u001b[39mas\u001b[39;00m tmpfile:\n\u001b[1;32m   <a href='file:///Users/lauredegrave/.pyenv/versions/3.8.12/envs/marbotic/lib/python3.8/site-packages/google/cloud/bigquery/client.py?line=2658'>2659</a>\u001b[0m         file_size \u001b[39m=\u001b[39m os\u001b[39m.\u001b[39mpath\u001b[39m.\u001b[39mgetsize(tmppath)\n\u001b[0;32m-> <a href='file:///Users/lauredegrave/.pyenv/versions/3.8.12/envs/marbotic/lib/python3.8/site-packages/google/cloud/bigquery/client.py?line=2659'>2660</a>\u001b[0m         \u001b[39mreturn\u001b[39;00m \u001b[39mself\u001b[39;49m\u001b[39m.\u001b[39;49mload_table_from_file(\n\u001b[1;32m   <a href='file:///Users/lauredegrave/.pyenv/versions/3.8.12/envs/marbotic/lib/python3.8/site-packages/google/cloud/bigquery/client.py?line=2660'>2661</a>\u001b[0m             tmpfile,\n\u001b[1;32m   <a href='file:///Users/lauredegrave/.pyenv/versions/3.8.12/envs/marbotic/lib/python3.8/site-packages/google/cloud/bigquery/client.py?line=2661'>2662</a>\u001b[0m             destination,\n\u001b[1;32m   <a href='file:///Users/lauredegrave/.pyenv/versions/3.8.12/envs/marbotic/lib/python3.8/site-packages/google/cloud/bigquery/client.py?line=2662'>2663</a>\u001b[0m             num_retries\u001b[39m=\u001b[39;49mnum_retries,\n\u001b[1;32m   <a href='file:///Users/lauredegrave/.pyenv/versions/3.8.12/envs/marbotic/lib/python3.8/site-packages/google/cloud/bigquery/client.py?line=2663'>2664</a>\u001b[0m             rewind\u001b[39m=\u001b[39;49m\u001b[39mTrue\u001b[39;49;00m,\n\u001b[1;32m   <a href='file:///Users/lauredegrave/.pyenv/versions/3.8.12/envs/marbotic/lib/python3.8/site-packages/google/cloud/bigquery/client.py?line=2664'>2665</a>\u001b[0m             size\u001b[39m=\u001b[39;49mfile_size,\n\u001b[1;32m   <a href='file:///Users/lauredegrave/.pyenv/versions/3.8.12/envs/marbotic/lib/python3.8/site-packages/google/cloud/bigquery/client.py?line=2665'>2666</a>\u001b[0m             job_id\u001b[39m=\u001b[39;49mjob_id,\n\u001b[1;32m   <a href='file:///Users/lauredegrave/.pyenv/versions/3.8.12/envs/marbotic/lib/python3.8/site-packages/google/cloud/bigquery/client.py?line=2666'>2667</a>\u001b[0m             job_id_prefix\u001b[39m=\u001b[39;49mjob_id_prefix,\n\u001b[1;32m   <a href='file:///Users/lauredegrave/.pyenv/versions/3.8.12/envs/marbotic/lib/python3.8/site-packages/google/cloud/bigquery/client.py?line=2667'>2668</a>\u001b[0m             location\u001b[39m=\u001b[39;49mlocation,\n\u001b[1;32m   <a href='file:///Users/lauredegrave/.pyenv/versions/3.8.12/envs/marbotic/lib/python3.8/site-packages/google/cloud/bigquery/client.py?line=2668'>2669</a>\u001b[0m             project\u001b[39m=\u001b[39;49mproject,\n\u001b[1;32m   <a href='file:///Users/lauredegrave/.pyenv/versions/3.8.12/envs/marbotic/lib/python3.8/site-packages/google/cloud/bigquery/client.py?line=2669'>2670</a>\u001b[0m             job_config\u001b[39m=\u001b[39;49mjob_config,\n\u001b[1;32m   <a href='file:///Users/lauredegrave/.pyenv/versions/3.8.12/envs/marbotic/lib/python3.8/site-packages/google/cloud/bigquery/client.py?line=2670'>2671</a>\u001b[0m             timeout\u001b[39m=\u001b[39;49mtimeout,\n\u001b[1;32m   <a href='file:///Users/lauredegrave/.pyenv/versions/3.8.12/envs/marbotic/lib/python3.8/site-packages/google/cloud/bigquery/client.py?line=2671'>2672</a>\u001b[0m         )\n\u001b[1;32m   <a href='file:///Users/lauredegrave/.pyenv/versions/3.8.12/envs/marbotic/lib/python3.8/site-packages/google/cloud/bigquery/client.py?line=2673'>2674</a>\u001b[0m \u001b[39mfinally\u001b[39;00m:\n\u001b[1;32m   <a href='file:///Users/lauredegrave/.pyenv/versions/3.8.12/envs/marbotic/lib/python3.8/site-packages/google/cloud/bigquery/client.py?line=2674'>2675</a>\u001b[0m     os\u001b[39m.\u001b[39mremove(tmppath)\n",
      "File \u001b[0;32m~/.pyenv/versions/3.8.12/envs/marbotic/lib/python3.8/site-packages/google/cloud/bigquery/client.py:2430\u001b[0m, in \u001b[0;36mClient.load_table_from_file\u001b[0;34m(self, file_obj, destination, rewind, size, num_retries, job_id, job_id_prefix, location, project, job_config, timeout)\u001b[0m\n\u001b[1;32m   <a href='file:///Users/lauredegrave/.pyenv/versions/3.8.12/envs/marbotic/lib/python3.8/site-packages/google/cloud/bigquery/client.py?line=2425'>2426</a>\u001b[0m         response \u001b[39m=\u001b[39m \u001b[39mself\u001b[39m\u001b[39m.\u001b[39m_do_multipart_upload(\n\u001b[1;32m   <a href='file:///Users/lauredegrave/.pyenv/versions/3.8.12/envs/marbotic/lib/python3.8/site-packages/google/cloud/bigquery/client.py?line=2426'>2427</a>\u001b[0m             file_obj, job_resource, size, num_retries, timeout, project\u001b[39m=\u001b[39mproject\n\u001b[1;32m   <a href='file:///Users/lauredegrave/.pyenv/versions/3.8.12/envs/marbotic/lib/python3.8/site-packages/google/cloud/bigquery/client.py?line=2427'>2428</a>\u001b[0m         )\n\u001b[1;32m   <a href='file:///Users/lauredegrave/.pyenv/versions/3.8.12/envs/marbotic/lib/python3.8/site-packages/google/cloud/bigquery/client.py?line=2428'>2429</a>\u001b[0m \u001b[39mexcept\u001b[39;00m resumable_media\u001b[39m.\u001b[39mInvalidResponse \u001b[39mas\u001b[39;00m exc:\n\u001b[0;32m-> <a href='file:///Users/lauredegrave/.pyenv/versions/3.8.12/envs/marbotic/lib/python3.8/site-packages/google/cloud/bigquery/client.py?line=2429'>2430</a>\u001b[0m     \u001b[39mraise\u001b[39;00m exceptions\u001b[39m.\u001b[39mfrom_http_response(exc\u001b[39m.\u001b[39mresponse)\n\u001b[1;32m   <a href='file:///Users/lauredegrave/.pyenv/versions/3.8.12/envs/marbotic/lib/python3.8/site-packages/google/cloud/bigquery/client.py?line=2431'>2432</a>\u001b[0m \u001b[39mreturn\u001b[39;00m typing\u001b[39m.\u001b[39mcast(LoadJob, \u001b[39mself\u001b[39m\u001b[39m.\u001b[39mjob_from_resource(response\u001b[39m.\u001b[39mjson()))\n",
      "\u001b[0;31mNotFound\u001b[0m: 404 POST https://bigquery.googleapis.com/upload/bigquery/v2/projects/sage-outrider-328009/jobs?uploadType=multipart: Not found: Dataset sage-outrider-328009:marbotic_dataset"
     ]
    }
   ],
   "source": [
    "import pandas as pd\n",
    "from google.cloud import bigquery\n",
    "\n",
    "project=\"marbotic\"\n",
    "credentials = \"/Users/lauredegrave/code/casicoco/gcp/marbotic-310a9a33f756.json\"\n",
    "table_id = \"marbotic_dataset.event_test\"\n",
    "\n",
    "#client = bigquery.Client(project=project, credentials=credentials)\n",
    "client =bigquery.Client.from_service_account_json(credentials)\n",
    "\n",
    "chunks = pd.read_json('../marbotic/data/goodformat.json',\n",
    "                      lines=True,\n",
    "                      chunksize=1000)\n",
    "\n",
    "for c in chunks:\n",
    "    print(c.columns)\n",
    "    up = c[['event_id','user_properties']].copy()\n",
    "    ep = c[['event_id', 'event_properties']].copy()\n",
    "    c = c.drop(columns=['user_properties','event_properties'], axis=1)\n",
    "    client = bigquery.Client()\n",
    "    job = client.load_table_from_dataframe(c, table_id)  # Make an API request.\n",
    "    job.result()  # Wait for the job to complete.\n",
    "    table = client.get_table(table_id)  # Make an API request.\n",
    "    print(\n",
    "        \"Loaded {} rows and {} columns to {}\".format(\n",
    "            table.num_rows, len(table.schema), table_id\n",
    "        )\n",
    "    )\n",
    "    break"
   ]
  },
  {
   "cell_type": "code",
   "execution_count": null,
   "metadata": {},
   "outputs": [],
   "source": []
  }
 ],
 "metadata": {
  "interpreter": {
   "hash": "716756f4d79260a81a518c6b1f5f51749786bf8e48d1fc9146fc241b6cd607b3"
  },
  "kernelspec": {
   "display_name": "Python 3.8.12 64-bit ('marbotic')",
   "language": "python",
   "name": "python3"
  },
  "language_info": {
   "codemirror_mode": {
    "name": "ipython",
    "version": 3
   },
   "file_extension": ".py",
   "mimetype": "text/x-python",
   "name": "python",
   "nbconvert_exporter": "python",
   "pygments_lexer": "ipython3",
   "version": "3.8.12"
  },
  "orig_nbformat": 4
 },
 "nbformat": 4,
 "nbformat_minor": 2
}
