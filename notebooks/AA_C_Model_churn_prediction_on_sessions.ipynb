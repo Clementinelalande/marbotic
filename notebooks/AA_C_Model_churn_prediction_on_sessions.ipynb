{
 "cells": [
  {
   "cell_type": "markdown",
   "id": "0ec8799d",
   "metadata": {},
   "source": [
    "# imports"
   ]
  },
  {
   "cell_type": "code",
   "execution_count": 61,
   "id": "00168e06",
   "metadata": {
    "ExecuteTime": {
     "end_time": "2022-07-22T13:22:31.359424Z",
     "start_time": "2022-07-22T13:22:31.347610Z"
    }
   },
   "outputs": [],
   "source": [
    "import pandas as pd\n",
    "import numpy as np\n",
    "\n",
    "from google.cloud import bigquery\n",
    "from google.oauth2 import service_account\n",
    "\n",
    "from sklearn.impute import SimpleImputer\n",
    "from sklearn.preprocessing import OneHotEncoder\n",
    "from sklearn.preprocessing import MinMaxScaler\n",
    "from sklearn.base import TransformerMixin, BaseEstimator\n",
    "\n",
    "from sklearn.compose import ColumnTransformer\n",
    "from sklearn.feature_selection import SelectPercentile\n",
    "\n",
    "from sklearn.model_selection import train_test_split\n",
    "from imblearn.ensemble import BalancedRandomForestClassifier\n",
    "\n",
    "from imblearn.pipeline import Pipeline\n",
    "\n",
    "from sklearn.model_selection import GridSearchCV\n",
    "\n",
    "from sklearn.metrics import classification_report"
   ]
  },
  {
   "cell_type": "markdown",
   "id": "7983d3f6",
   "metadata": {
    "heading_collapsed": true
   },
   "source": [
    "# GCP config"
   ]
  },
  {
   "cell_type": "code",
   "execution_count": 7,
   "id": "0911cb25",
   "metadata": {
    "ExecuteTime": {
     "end_time": "2022-07-22T13:13:18.092590Z",
     "start_time": "2022-07-22T13:13:18.087818Z"
    },
    "hidden": true
   },
   "outputs": [],
   "source": [
    "#Localisation du projet name et table_id sur gcp\n",
    "#TODO : Remplacer le nom du projet et du dataset sur GCP \n",
    "project=\"marbotic\"\n",
    "dataset = \"marbotic_dataset\""
   ]
  },
  {
   "cell_type": "code",
   "execution_count": 8,
   "id": "657f6fa2",
   "metadata": {
    "ExecuteTime": {
     "end_time": "2022-07-22T13:13:18.102356Z",
     "start_time": "2022-07-22T13:13:18.096594Z"
    },
    "hidden": true
   },
   "outputs": [],
   "source": [
    "#intégration des credentials\n",
    "#TODO : Remplacer le path de credential d'accès à notre projet GCP\n",
    "key_path = \"/Users/antonin/code/AntoninAnq/gcp/marbotic-7d02fac30bd8.json\"\n",
    "\n",
    "credentials = service_account.Credentials.from_service_account_file(\n",
    "    key_path, scopes=[\"https://www.googleapis.com/auth/cloud-platform\"],)"
   ]
  },
  {
   "cell_type": "markdown",
   "id": "3eacf2bc",
   "metadata": {
    "heading_collapsed": true
   },
   "source": [
    "# Retrive session augmented table"
   ]
  },
  {
   "cell_type": "code",
   "execution_count": 9,
   "id": "54414a0c",
   "metadata": {
    "ExecuteTime": {
     "end_time": "2022-07-22T13:13:18.111544Z",
     "start_time": "2022-07-22T13:13:18.106447Z"
    },
    "hidden": true
   },
   "outputs": [],
   "source": [
    "def extract_table(project,dataset,credentials,table):\n",
    "    '''Extracting specified table'''\n",
    "\n",
    "    client = bigquery.Client(project, credentials=credentials)\n",
    "\n",
    "    query = f\"\"\"SELECT * FROM {project}.{dataset}.{table}\"\"\"\n",
    "\n",
    "    query_job = client.query(query)  \n",
    "    results=query_job.result().to_dataframe() \n",
    "\n",
    "    return pd.DataFrame(results)"
   ]
  },
  {
   "cell_type": "code",
   "execution_count": 10,
   "id": "fa4f3f8c",
   "metadata": {
    "ExecuteTime": {
     "end_time": "2022-07-22T13:13:34.200576Z",
     "start_time": "2022-07-22T13:13:18.114320Z"
    },
    "hidden": true
   },
   "outputs": [],
   "source": [
    "sm_df = extract_table(project,dataset,credentials,\"sessions_augmented_f\")"
   ]
  },
  {
   "cell_type": "markdown",
   "id": "56e60419",
   "metadata": {
    "heading_collapsed": true
   },
   "source": [
    "# Cleaning"
   ]
  },
  {
   "cell_type": "markdown",
   "id": "9ce99ff8",
   "metadata": {
    "heading_collapsed": true,
    "hidden": true
   },
   "source": [
    "## Duplicates"
   ]
  },
  {
   "cell_type": "code",
   "execution_count": 11,
   "id": "80930918",
   "metadata": {
    "ExecuteTime": {
     "end_time": "2022-07-22T13:13:34.241398Z",
     "start_time": "2022-07-22T13:13:34.201946Z"
    },
    "hidden": true
   },
   "outputs": [
    {
     "data": {
      "text/plain": [
       "0"
      ]
     },
     "execution_count": 11,
     "metadata": {},
     "output_type": "execute_result"
    }
   ],
   "source": [
    "#No duplicates\n",
    "sm_df.duplicated().sum()"
   ]
  },
  {
   "cell_type": "markdown",
   "id": "ebcaee71",
   "metadata": {
    "heading_collapsed": true,
    "hidden": true
   },
   "source": [
    "## Missing values"
   ]
  },
  {
   "cell_type": "code",
   "execution_count": 12,
   "id": "6376aa2b",
   "metadata": {
    "ExecuteTime": {
     "end_time": "2022-07-22T13:13:34.265610Z",
     "start_time": "2022-07-22T13:13:34.242752Z"
    },
    "hidden": true
   },
   "outputs": [
    {
     "data": {
      "text/plain": [
       "good_answer_ratio               52.651998\n",
       "Action_Element_Name             34.390944\n",
       "Profile_Age_days                16.911139\n",
       "Time_Spent                       0.031888\n",
       "Type                             0.005315\n",
       "event_type_OB_RenewalSuccess     0.000000\n",
       "event_type_Profile_Delete        0.000000\n",
       "event_type_Profile_Create        0.000000\n",
       "event_type_Popup_Open            0.000000\n",
       "event_type_Popup_Close           0.000000\n",
       "dtype: float64"
      ]
     },
     "execution_count": 12,
     "metadata": {},
     "output_type": "execute_result"
    }
   ],
   "source": [
    "#Checking missing values\n",
    "((sm_df.isnull().sum().sort_values(ascending=False)/len(sm_df))*100).head(10)"
   ]
  },
  {
   "cell_type": "markdown",
   "id": "94d0b9f8",
   "metadata": {
    "hidden": true
   },
   "source": [
    "good_answer_ratio Nan correspond to session with no event type answer. On remplace les Nan par -1"
   ]
  },
  {
   "cell_type": "code",
   "execution_count": 13,
   "id": "993fe1ee",
   "metadata": {
    "ExecuteTime": {
     "end_time": "2022-07-22T13:13:34.274686Z",
     "start_time": "2022-07-22T13:13:34.266685Z"
    },
    "hidden": true
   },
   "outputs": [],
   "source": [
    "#Imputing missing values for good answer ration\n",
    "answer_ratio_imputer = SimpleImputer(strategy='constant',fill_value=-1)\n",
    "sm_df['good_answer_ratio'] = answer_ratio_imputer.fit_transform(sm_df[['good_answer_ratio']])"
   ]
  },
  {
   "cell_type": "code",
   "execution_count": 14,
   "id": "9e48b966",
   "metadata": {
    "ExecuteTime": {
     "end_time": "2022-07-22T13:13:34.279880Z",
     "start_time": "2022-07-22T13:13:34.275968Z"
    },
    "hidden": true
   },
   "outputs": [
    {
     "data": {
      "text/plain": [
       "Back                         9771\n",
       "Home                          973\n",
       "Play New Activity             750\n",
       "Adults                        458\n",
       "Replay Activity               179\n",
       "Skip FTUE animation            51\n",
       "Account Edit Informations      44\n",
       "Action (Toast)                 39\n",
       "Close (Toast)                  38\n",
       "Let's Go                       35\n",
       "Try Again (No Internet)         3\n",
       "Twitter                         1\n",
       "Validation                      1\n",
       "Youtube                         1\n",
       "Facebook                        1\n",
       "Name: Action_Element_Name, dtype: int64"
      ]
     },
     "execution_count": 14,
     "metadata": {},
     "output_type": "execute_result"
    }
   ],
   "source": [
    "#34% de Nan pour la colonne Action_Element_Name, on drop cette colonne tant qu'on n'a pas d'information supplémentaire sur la signification des Nan et l'interpretation de cet donnée\n",
    "sm_df['Action_Element_Name'].value_counts()"
   ]
  },
  {
   "cell_type": "code",
   "execution_count": 15,
   "id": "bbf28a0d",
   "metadata": {
    "ExecuteTime": {
     "end_time": "2022-07-22T13:13:34.293894Z",
     "start_time": "2022-07-22T13:13:34.282958Z"
    },
    "hidden": true
   },
   "outputs": [],
   "source": [
    "sm_df.drop('Action_Element_Name',axis=1,inplace=True)"
   ]
  },
  {
   "cell_type": "code",
   "execution_count": 16,
   "id": "93eee053",
   "metadata": {
    "ExecuteTime": {
     "end_time": "2022-07-22T13:13:34.307762Z",
     "start_time": "2022-07-22T13:13:34.295020Z"
    },
    "hidden": true
   },
   "outputs": [],
   "source": [
    "#Pour Profile_Age_days(17%), Time_Spent(0.03) on remplace par la médiane car un énorme outlier(-2911184.0) et 3341 valeur = -1\n",
    "med_imputer = SimpleImputer(strategy='median')\n",
    "sm_df['Profile_Age_days'] = med_imputer.fit_transform(sm_df[['Profile_Age_days']])\n",
    "sm_df['Time_Spent'] = med_imputer.fit_transform(sm_df[['Time_Spent']])"
   ]
  },
  {
   "cell_type": "code",
   "execution_count": 17,
   "id": "35f9dd9a",
   "metadata": {
    "ExecuteTime": {
     "end_time": "2022-07-22T13:13:34.317533Z",
     "start_time": "2022-07-22T13:13:34.309007Z"
    },
    "hidden": true
   },
   "outputs": [],
   "source": [
    "#Pour Type, il manque une valeur on remplace par most frequent\n",
    "mmost_freq_imputer = SimpleImputer(missing_values=None,strategy='most_frequent')\n",
    "sm_df['Type'] = mmost_freq_imputer.fit_transform(sm_df[['Type']])"
   ]
  },
  {
   "cell_type": "code",
   "execution_count": 18,
   "id": "d553a3ad",
   "metadata": {
    "ExecuteTime": {
     "end_time": "2022-07-22T13:13:34.339847Z",
     "start_time": "2022-07-22T13:13:34.318672Z"
    },
    "hidden": true
   },
   "outputs": [
    {
     "data": {
      "text/plain": [
       "session_id                                           0.0\n",
       "event_type_OB_Success                                0.0\n",
       "event_type_Profile_Reset_Settings_and_Progression    0.0\n",
       "event_type_Profile_Delete                            0.0\n",
       "event_type_Profile_Create                            0.0\n",
       "event_type_Popup_Open                                0.0\n",
       "event_type_Popup_Close                               0.0\n",
       "event_type_OB_VerifCode                              0.0\n",
       "event_type_OB_Type                                   0.0\n",
       "event_type_OB_TrialStart                             0.0\n",
       "dtype: float64"
      ]
     },
     "execution_count": 18,
     "metadata": {},
     "output_type": "execute_result"
    }
   ],
   "source": [
    "((sm_df.isnull().sum().sort_values(ascending=False)/len(sm_df))*100).head(10)"
   ]
  },
  {
   "cell_type": "markdown",
   "id": "ef42a67c",
   "metadata": {
    "heading_collapsed": true,
    "hidden": true
   },
   "source": [
    "## Outliers"
   ]
  },
  {
   "cell_type": "markdown",
   "id": "7969428d",
   "metadata": {
    "hidden": true
   },
   "source": [
    "On a de gros outliers sur le time_spent max et Profile_Age_days min"
   ]
  },
  {
   "cell_type": "code",
   "execution_count": 19,
   "id": "54b7d4d9",
   "metadata": {
    "ExecuteTime": {
     "end_time": "2022-07-22T13:13:34.349785Z",
     "start_time": "2022-07-22T13:13:34.341029Z"
    },
    "hidden": true
   },
   "outputs": [],
   "source": [
    "#On supprime la session avec le time_spent = 17162486.0 de user_id = 23370.0 \n",
    "#Il a 70 sessions avec une médiane de Time_spent 7571\n",
    "sm_df.drop(axis=0,index=sm_df[sm_df['Time_Spent']==17162486.0].index,inplace=True)"
   ]
  },
  {
   "cell_type": "code",
   "execution_count": 20,
   "id": "a50fa1cb",
   "metadata": {
    "ExecuteTime": {
     "end_time": "2022-07-22T13:13:34.361732Z",
     "start_time": "2022-07-22T13:13:34.350964Z"
    },
    "hidden": true
   },
   "outputs": [],
   "source": [
    "#On supprime 2 autres lignes avec Time_Spent > 1 000 000 Cela concerne le même utilsateur qui a 20 sessions\n",
    "sm_df.drop(axis=0,index=sm_df[sm_df['Time_Spent']==2190329.0].index,inplace=True)\n",
    "sm_df.drop(axis=0,index=sm_df[sm_df['Time_Spent']==1093473.0].index,inplace=True)"
   ]
  },
  {
   "cell_type": "code",
   "execution_count": 21,
   "id": "4e451112",
   "metadata": {
    "ExecuteTime": {
     "end_time": "2022-07-22T13:13:34.369845Z",
     "start_time": "2022-07-22T13:13:34.363109Z"
    },
    "hidden": true
   },
   "outputs": [],
   "source": [
    "# On supprime l'utilisateur avec un age énorme négatif. Session unique user_creation_time : 27-22-2021\n",
    "sm_df.drop(axis=0,index=sm_df[sm_df['Profile_Age_days']==-2911184.0].index,inplace=True)"
   ]
  },
  {
   "cell_type": "markdown",
   "id": "5afb9781",
   "metadata": {
    "heading_collapsed": true
   },
   "source": [
    "# Pre processing"
   ]
  },
  {
   "cell_type": "markdown",
   "id": "c65f19ff",
   "metadata": {
    "heading_collapsed": true,
    "hidden": true
   },
   "source": [
    "## Pre processing"
   ]
  },
  {
   "cell_type": "code",
   "execution_count": 22,
   "id": "03389f68",
   "metadata": {
    "ExecuteTime": {
     "end_time": "2022-07-22T13:13:34.380167Z",
     "start_time": "2022-07-22T13:13:34.371149Z"
    },
    "hidden": true
   },
   "outputs": [
    {
     "data": {
      "text/html": [
       "<div>\n",
       "<style scoped>\n",
       "    .dataframe tbody tr th:only-of-type {\n",
       "        vertical-align: middle;\n",
       "    }\n",
       "\n",
       "    .dataframe tbody tr th {\n",
       "        vertical-align: top;\n",
       "    }\n",
       "\n",
       "    .dataframe thead th {\n",
       "        text-align: right;\n",
       "    }\n",
       "</style>\n",
       "<table border=\"1\" class=\"dataframe\">\n",
       "  <thead>\n",
       "    <tr style=\"text-align: right;\">\n",
       "      <th></th>\n",
       "      <th>city</th>\n",
       "      <th>language</th>\n",
       "      <th>os_version</th>\n",
       "      <th>region</th>\n",
       "      <th>country</th>\n",
       "      <th>device_model</th>\n",
       "      <th>start_version</th>\n",
       "      <th>Type</th>\n",
       "    </tr>\n",
       "  </thead>\n",
       "  <tbody>\n",
       "    <tr>\n",
       "      <th>0</th>\n",
       "      <td>Bourg-en-Bresse</td>\n",
       "      <td>French</td>\n",
       "      <td>15.3.1</td>\n",
       "      <td>Ain</td>\n",
       "      <td>France</td>\n",
       "      <td>iPad 6</td>\n",
       "      <td>1.7.2</td>\n",
       "      <td>Parent</td>\n",
       "    </tr>\n",
       "    <tr>\n",
       "      <th>1</th>\n",
       "      <td>Toulon</td>\n",
       "      <td>English</td>\n",
       "      <td>12.5.5</td>\n",
       "      <td>Var</td>\n",
       "      <td>France</td>\n",
       "      <td>iPad Mini 2</td>\n",
       "      <td>1.3.0</td>\n",
       "      <td>Parent</td>\n",
       "    </tr>\n",
       "    <tr>\n",
       "      <th>2</th>\n",
       "      <td>Zug</td>\n",
       "      <td>English</td>\n",
       "      <td>15.1</td>\n",
       "      <td>Zug</td>\n",
       "      <td>Switzerland</td>\n",
       "      <td>iPad11,6</td>\n",
       "      <td>4.2.2</td>\n",
       "      <td>Teacher</td>\n",
       "    </tr>\n",
       "    <tr>\n",
       "      <th>3</th>\n",
       "      <td>Zug</td>\n",
       "      <td>English</td>\n",
       "      <td>15.1</td>\n",
       "      <td>Zug</td>\n",
       "      <td>Switzerland</td>\n",
       "      <td>iPad11,6</td>\n",
       "      <td>4.2.2</td>\n",
       "      <td>Teacher</td>\n",
       "    </tr>\n",
       "    <tr>\n",
       "      <th>4</th>\n",
       "      <td>Zug</td>\n",
       "      <td>English</td>\n",
       "      <td>15.1</td>\n",
       "      <td>Zug</td>\n",
       "      <td>Switzerland</td>\n",
       "      <td>iPad11,6</td>\n",
       "      <td>4.2.2</td>\n",
       "      <td>Teacher</td>\n",
       "    </tr>\n",
       "    <tr>\n",
       "      <th>...</th>\n",
       "      <td>...</td>\n",
       "      <td>...</td>\n",
       "      <td>...</td>\n",
       "      <td>...</td>\n",
       "      <td>...</td>\n",
       "      <td>...</td>\n",
       "      <td>...</td>\n",
       "      <td>...</td>\n",
       "    </tr>\n",
       "    <tr>\n",
       "      <th>18811</th>\n",
       "      <td>Central</td>\n",
       "      <td>English</td>\n",
       "      <td>14.7.1</td>\n",
       "      <td>Central and Western District</td>\n",
       "      <td>Hong Kong</td>\n",
       "      <td>iPad8,12</td>\n",
       "      <td>1.3.0</td>\n",
       "      <td>Parent</td>\n",
       "    </tr>\n",
       "    <tr>\n",
       "      <th>18812</th>\n",
       "      <td>Central</td>\n",
       "      <td>English</td>\n",
       "      <td>14.7.1</td>\n",
       "      <td>Central and Western District</td>\n",
       "      <td>Hong Kong</td>\n",
       "      <td>iPad8,12</td>\n",
       "      <td>1.3.0</td>\n",
       "      <td>Parent</td>\n",
       "    </tr>\n",
       "    <tr>\n",
       "      <th>18813</th>\n",
       "      <td>Central</td>\n",
       "      <td>English</td>\n",
       "      <td>14.7.1</td>\n",
       "      <td>Central and Western District</td>\n",
       "      <td>Hong Kong</td>\n",
       "      <td>iPad8,12</td>\n",
       "      <td>1.3.0</td>\n",
       "      <td>Parent</td>\n",
       "    </tr>\n",
       "    <tr>\n",
       "      <th>18814</th>\n",
       "      <td>Central</td>\n",
       "      <td>Chinese</td>\n",
       "      <td>12.5.5</td>\n",
       "      <td>Central and Western District</td>\n",
       "      <td>Hong Kong</td>\n",
       "      <td>iPad Mini 2</td>\n",
       "      <td>4.1.0</td>\n",
       "      <td>Parent</td>\n",
       "    </tr>\n",
       "    <tr>\n",
       "      <th>18815</th>\n",
       "      <td>Kensington</td>\n",
       "      <td>English</td>\n",
       "      <td>15.1</td>\n",
       "      <td>Royal Kensington and Chelsea</td>\n",
       "      <td>United Kingdom</td>\n",
       "      <td>iPad12,1</td>\n",
       "      <td>1.0.5</td>\n",
       "      <td>Parent</td>\n",
       "    </tr>\n",
       "  </tbody>\n",
       "</table>\n",
       "<p>18812 rows × 8 columns</p>\n",
       "</div>"
      ],
      "text/plain": [
       "                  city language os_version                        region  \\\n",
       "0      Bourg-en-Bresse   French     15.3.1                           Ain   \n",
       "1               Toulon  English     12.5.5                           Var   \n",
       "2                  Zug  English       15.1                           Zug   \n",
       "3                  Zug  English       15.1                           Zug   \n",
       "4                  Zug  English       15.1                           Zug   \n",
       "...                ...      ...        ...                           ...   \n",
       "18811          Central  English     14.7.1  Central and Western District   \n",
       "18812          Central  English     14.7.1  Central and Western District   \n",
       "18813          Central  English     14.7.1  Central and Western District   \n",
       "18814          Central  Chinese     12.5.5  Central and Western District   \n",
       "18815       Kensington  English       15.1  Royal Kensington and Chelsea   \n",
       "\n",
       "              country device_model start_version     Type  \n",
       "0              France       iPad 6         1.7.2   Parent  \n",
       "1              France  iPad Mini 2         1.3.0   Parent  \n",
       "2         Switzerland     iPad11,6         4.2.2  Teacher  \n",
       "3         Switzerland     iPad11,6         4.2.2  Teacher  \n",
       "4         Switzerland     iPad11,6         4.2.2  Teacher  \n",
       "...               ...          ...           ...      ...  \n",
       "18811       Hong Kong     iPad8,12         1.3.0   Parent  \n",
       "18812       Hong Kong     iPad8,12         1.3.0   Parent  \n",
       "18813       Hong Kong     iPad8,12         1.3.0   Parent  \n",
       "18814       Hong Kong  iPad Mini 2         4.1.0   Parent  \n",
       "18815  United Kingdom     iPad12,1         1.0.5   Parent  \n",
       "\n",
       "[18812 rows x 8 columns]"
      ]
     },
     "execution_count": 22,
     "metadata": {},
     "output_type": "execute_result"
    }
   ],
   "source": [
    "#Having a look on categorical features. Will no be used in the model\n",
    "sm_df.select_dtypes(include='object')"
   ]
  },
  {
   "cell_type": "code",
   "execution_count": 23,
   "id": "6c599878",
   "metadata": {
    "ExecuteTime": {
     "end_time": "2022-07-22T13:13:34.384412Z",
     "start_time": "2022-07-22T13:13:34.381347Z"
    },
    "hidden": true
   },
   "outputs": [],
   "source": [
    "class CustomOHE(OneHotEncoder):\n",
    "    '''Custom hot encoder in order to keep columns name '''\n",
    "    def fit(self, *args, **kwargs):\n",
    "        return super().fit(*args, **kwargs) \n",
    "    \n",
    "    def transform(self,*args, **kwargs):\n",
    "        return pd.DataFrame(super().transform(*args, **kwargs), columns=self.get_feature_names_out())\n",
    "\n",
    "    def fit_transform(self,*args, **kwargs):\n",
    "        return pd.DataFrame(super().fit_transform(*args, **kwargs), columns=self.get_feature_names_out())"
   ]
  },
  {
   "cell_type": "code",
   "execution_count": 24,
   "id": "8d54c4bc",
   "metadata": {
    "ExecuteTime": {
     "end_time": "2022-07-22T13:13:34.388559Z",
     "start_time": "2022-07-22T13:13:34.385624Z"
    },
    "hidden": true
   },
   "outputs": [],
   "source": [
    "cat_transformer = CustomOHE(sparse = False, handle_unknown = \"ignore\", drop='if_binary')\n",
    "cat_selection = sm_df[['Type']].columns"
   ]
  },
  {
   "cell_type": "code",
   "execution_count": 25,
   "id": "51d83cc2",
   "metadata": {
    "ExecuteTime": {
     "end_time": "2022-07-22T13:13:34.393015Z",
     "start_time": "2022-07-22T13:13:34.389858Z"
    },
    "hidden": true
   },
   "outputs": [],
   "source": [
    "class CustomMinMaxScale(MinMaxScaler):\n",
    "    '''Custom MinMaxscale in order to keep columns name '''\n",
    "    def fit(self, *args, **kwargs):\n",
    "        return super().fit(*args, **kwargs) \n",
    "    \n",
    "    def transform(self,*args, **kwargs):\n",
    "        return pd.DataFrame(super().transform(*args, **kwargs), columns=self.get_feature_names_out())\n",
    "\n",
    "    def fit_transform(self,*args, **kwargs):\n",
    "        return pd.DataFrame(super().fit_transform(*args, **kwargs), columns=self.get_feature_names_out())"
   ]
  },
  {
   "cell_type": "markdown",
   "id": "5da574f2",
   "metadata": {
    "heading_collapsed": true,
    "hidden": true
   },
   "source": [
    "## Correlation of features - Identification of features to drop"
   ]
  },
  {
   "cell_type": "code",
   "execution_count": 26,
   "id": "93142fd1",
   "metadata": {
    "ExecuteTime": {
     "end_time": "2022-07-22T13:13:34.588471Z",
     "start_time": "2022-07-22T13:13:34.394268Z"
    },
    "hidden": true
   },
   "outputs": [
    {
     "data": {
      "text/html": [
       "<div>\n",
       "<style scoped>\n",
       "    .dataframe tbody tr th:only-of-type {\n",
       "        vertical-align: middle;\n",
       "    }\n",
       "\n",
       "    .dataframe tbody tr th {\n",
       "        vertical-align: top;\n",
       "    }\n",
       "\n",
       "    .dataframe thead th {\n",
       "        text-align: right;\n",
       "    }\n",
       "</style>\n",
       "<table border=\"1\" class=\"dataframe\">\n",
       "  <thead>\n",
       "    <tr style=\"text-align: right;\">\n",
       "      <th></th>\n",
       "      <th>feature_1</th>\n",
       "      <th>feature_2</th>\n",
       "      <th>correlation</th>\n",
       "    </tr>\n",
       "  </thead>\n",
       "  <tbody>\n",
       "    <tr>\n",
       "      <th>4635</th>\n",
       "      <td>event_type_Toast_Disappear</td>\n",
       "      <td>event_type_Toast_Appear</td>\n",
       "      <td>0.990477</td>\n",
       "    </tr>\n",
       "    <tr>\n",
       "      <th>4561</th>\n",
       "      <td>event_type_Toast_Appear</td>\n",
       "      <td>event_type_Toast_Disappear</td>\n",
       "      <td>0.990477</td>\n",
       "    </tr>\n",
       "    <tr>\n",
       "      <th>2661</th>\n",
       "      <td>event_type_OB_ProductActivation</td>\n",
       "      <td>event_type_OB_ProductHelp</td>\n",
       "      <td>0.951336</td>\n",
       "    </tr>\n",
       "    <tr>\n",
       "      <th>2735</th>\n",
       "      <td>event_type_OB_ProductHelp</td>\n",
       "      <td>event_type_OB_ProductActivation</td>\n",
       "      <td>0.951336</td>\n",
       "    </tr>\n",
       "    <tr>\n",
       "      <th>4651</th>\n",
       "      <td>game_events</td>\n",
       "      <td>id</td>\n",
       "      <td>0.940707</td>\n",
       "    </tr>\n",
       "    <tr>\n",
       "      <th>137</th>\n",
       "      <td>id</td>\n",
       "      <td>game_events</td>\n",
       "      <td>0.940707</td>\n",
       "    </tr>\n",
       "    <tr>\n",
       "      <th>4487</th>\n",
       "      <td>event_type_Scene_Leave</td>\n",
       "      <td>game_events</td>\n",
       "      <td>0.937821</td>\n",
       "    </tr>\n",
       "    <tr>\n",
       "      <th>4709</th>\n",
       "      <td>game_events</td>\n",
       "      <td>event_type_Scene_Leave</td>\n",
       "      <td>0.937821</td>\n",
       "    </tr>\n",
       "    <tr>\n",
       "      <th>5475</th>\n",
       "      <td>session_start_month</td>\n",
       "      <td>session_id</td>\n",
       "      <td>0.934331</td>\n",
       "    </tr>\n",
       "    <tr>\n",
       "      <th>73</th>\n",
       "      <td>session_id</td>\n",
       "      <td>session_start_month</td>\n",
       "      <td>0.934331</td>\n",
       "    </tr>\n",
       "    <tr>\n",
       "      <th>3117</th>\n",
       "      <td>event_type_OB_ProfileBirthdate</td>\n",
       "      <td>event_type_OB_ProfileName</td>\n",
       "      <td>0.921704</td>\n",
       "    </tr>\n",
       "    <tr>\n",
       "      <th>3191</th>\n",
       "      <td>event_type_OB_ProfileName</td>\n",
       "      <td>event_type_OB_ProfileBirthdate</td>\n",
       "      <td>0.921704</td>\n",
       "    </tr>\n",
       "    <tr>\n",
       "      <th>4426</th>\n",
       "      <td>event_type_Scene_Leave</td>\n",
       "      <td>id</td>\n",
       "      <td>0.886415</td>\n",
       "    </tr>\n",
       "    <tr>\n",
       "      <th>134</th>\n",
       "      <td>id</td>\n",
       "      <td>event_type_Scene_Leave</td>\n",
       "      <td>0.886415</td>\n",
       "    </tr>\n",
       "    <tr>\n",
       "      <th>2127</th>\n",
       "      <td>event_type_OB_Email</td>\n",
       "      <td>event_type_OB_DoYouHaveKit</td>\n",
       "      <td>0.884152</td>\n",
       "    </tr>\n",
       "    <tr>\n",
       "      <th>2053</th>\n",
       "      <td>event_type_OB_DoYouHaveKit</td>\n",
       "      <td>event_type_OB_Email</td>\n",
       "      <td>0.884152</td>\n",
       "    </tr>\n",
       "    <tr>\n",
       "      <th>2962</th>\n",
       "      <td>event_type_OB_ProductSeeMore</td>\n",
       "      <td>event_type_OB_ProductOther</td>\n",
       "      <td>0.883772</td>\n",
       "    </tr>\n",
       "    <tr>\n",
       "      <th>2814</th>\n",
       "      <td>event_type_OB_ProductOther</td>\n",
       "      <td>event_type_OB_ProductSeeMore</td>\n",
       "      <td>0.883772</td>\n",
       "    </tr>\n",
       "    <tr>\n",
       "      <th>3875</th>\n",
       "      <td>event_type_Popup_Open</td>\n",
       "      <td>event_type_Popup_Close</td>\n",
       "      <td>0.883706</td>\n",
       "    </tr>\n",
       "    <tr>\n",
       "      <th>3801</th>\n",
       "      <td>event_type_Popup_Close</td>\n",
       "      <td>event_type_Popup_Open</td>\n",
       "      <td>0.883706</td>\n",
       "    </tr>\n",
       "  </tbody>\n",
       "</table>\n",
       "</div>"
      ],
      "text/plain": [
       "                            feature_1                        feature_2  \\\n",
       "4635       event_type_Toast_Disappear          event_type_Toast_Appear   \n",
       "4561          event_type_Toast_Appear       event_type_Toast_Disappear   \n",
       "2661  event_type_OB_ProductActivation        event_type_OB_ProductHelp   \n",
       "2735        event_type_OB_ProductHelp  event_type_OB_ProductActivation   \n",
       "4651                      game_events                               id   \n",
       "137                                id                      game_events   \n",
       "4487           event_type_Scene_Leave                      game_events   \n",
       "4709                      game_events           event_type_Scene_Leave   \n",
       "5475              session_start_month                       session_id   \n",
       "73                         session_id              session_start_month   \n",
       "3117   event_type_OB_ProfileBirthdate        event_type_OB_ProfileName   \n",
       "3191        event_type_OB_ProfileName   event_type_OB_ProfileBirthdate   \n",
       "4426           event_type_Scene_Leave                               id   \n",
       "134                                id           event_type_Scene_Leave   \n",
       "2127              event_type_OB_Email       event_type_OB_DoYouHaveKit   \n",
       "2053       event_type_OB_DoYouHaveKit              event_type_OB_Email   \n",
       "2962     event_type_OB_ProductSeeMore       event_type_OB_ProductOther   \n",
       "2814       event_type_OB_ProductOther     event_type_OB_ProductSeeMore   \n",
       "3875            event_type_Popup_Open           event_type_Popup_Close   \n",
       "3801           event_type_Popup_Close            event_type_Popup_Open   \n",
       "\n",
       "      correlation  \n",
       "4635     0.990477  \n",
       "4561     0.990477  \n",
       "2661     0.951336  \n",
       "2735     0.951336  \n",
       "4651     0.940707  \n",
       "137      0.940707  \n",
       "4487     0.937821  \n",
       "4709     0.937821  \n",
       "5475     0.934331  \n",
       "73       0.934331  \n",
       "3117     0.921704  \n",
       "3191     0.921704  \n",
       "4426     0.886415  \n",
       "134      0.886415  \n",
       "2127     0.884152  \n",
       "2053     0.884152  \n",
       "2962     0.883772  \n",
       "2814     0.883772  \n",
       "3875     0.883706  \n",
       "3801     0.883706  "
      ]
     },
     "execution_count": 26,
     "metadata": {},
     "output_type": "execute_result"
    }
   ],
   "source": [
    "corr = sm_df.corr()\n",
    "corr_df = corr.unstack().reset_index() # Unstack correlation matrix \n",
    "corr_df.columns = ['feature_1','feature_2', 'correlation'] # rename columns\n",
    "corr_df.sort_values(by=\"correlation\",ascending=False, inplace=True) # sort by correlation\n",
    "corr_df = corr_df[corr_df['feature_1'] != corr_df['feature_2']] # Remove self correlation\n",
    "corr_df.head(20)"
   ]
  },
  {
   "cell_type": "code",
   "execution_count": 27,
   "id": "d3010632",
   "metadata": {
    "ExecuteTime": {
     "end_time": "2022-07-22T13:13:34.598406Z",
     "start_time": "2022-07-22T13:13:34.589701Z"
    },
    "hidden": true
   },
   "outputs": [
    {
     "data": {
      "text/plain": [
       "['event_type_OB_ProductHelp',\n",
       " 'event_type_OB_ProfileName',\n",
       " 'event_type_Toast_Disappear',\n",
       " 'game_events',\n",
       " 'session_start_month']"
      ]
     },
     "execution_count": 27,
     "metadata": {},
     "output_type": "execute_result"
    }
   ],
   "source": [
    "upper = corr.where(np.triu(np.ones(corr.shape), k=1).astype(bool))\n",
    "to_drop = [column for column in upper.columns if any(upper[column] > 0.9)]\n",
    "to_drop"
   ]
  },
  {
   "cell_type": "markdown",
   "id": "d6e102fb",
   "metadata": {
    "heading_collapsed": true,
    "hidden": true
   },
   "source": [
    "## Resume preprocessing"
   ]
  },
  {
   "cell_type": "code",
   "execution_count": 28,
   "id": "0bcf7206",
   "metadata": {
    "ExecuteTime": {
     "end_time": "2022-07-22T13:13:34.603808Z",
     "start_time": "2022-07-22T13:13:34.599595Z"
    },
    "hidden": true
   },
   "outputs": [],
   "source": [
    "#On retire des éléments très corrélés\n",
    "num_transformer = CustomMinMaxScale()\n",
    "num_selection = sm_df.select_dtypes(include=['float64','int64']).drop(['churn_risk','session_id','id','user_id','event_type_Toast_Disappear','event_type_OB_ProductHelp','event_type_OB_ProfileName'],axis=1).columns"
   ]
  },
  {
   "cell_type": "code",
   "execution_count": 29,
   "id": "4b5df9f5",
   "metadata": {
    "ExecuteTime": {
     "end_time": "2022-07-22T13:13:34.610124Z",
     "start_time": "2022-07-22T13:13:34.605183Z"
    },
    "hidden": true
   },
   "outputs": [],
   "source": [
    "class Cyclical_month_Encoder(BaseEstimator, TransformerMixin):\n",
    "    '''Custom transformer to convert month into cyclical encoding cos and sin'''\n",
    "    def _init_(self):\n",
    "        pass \n",
    "    \n",
    "    def fit(self, X,y=None):\n",
    "        return super().fit(*args, **kwargs) \n",
    "    \n",
    "    def transform(self, X,y=None):\n",
    "        X = pd.DataFrame(X)\n",
    "        df = pd.DataFrame()\n",
    "        cst = (2*np.pi/12)\n",
    "        df['month_cos'] = X.apply(lambda x: np.cos(cst*x))\n",
    "        df['month_sin'] = X.apply(lambda x: np.sin(cst*x))\n",
    "        return df\n",
    "    \n",
    "    def fit_transform(self, X,y=None):\n",
    "        X = pd.DataFrame(X)\n",
    "        df = pd.DataFrame()\n",
    "        cst = (2*np.pi/12)\n",
    "        df['month_cos'] = X.apply(lambda x: np.cos(cst*x))\n",
    "        df['month_sin'] = X.apply(lambda x: np.sin(cst*x))\n",
    "        return df\n",
    "    \n",
    "    def get_feature_names_out(self,X):\n",
    "        return 'month_cos','month_sin'"
   ]
  },
  {
   "cell_type": "code",
   "execution_count": 30,
   "id": "53d28b0a",
   "metadata": {
    "ExecuteTime": {
     "end_time": "2022-07-22T13:13:34.613952Z",
     "start_time": "2022-07-22T13:13:34.611338Z"
    },
    "hidden": true
   },
   "outputs": [],
   "source": [
    "month_transformer = Cyclical_month_Encoder()\n",
    "month_selection = sm_df[['session_start_month']].columns"
   ]
  },
  {
   "cell_type": "code",
   "execution_count": 31,
   "id": "ed744060",
   "metadata": {
    "ExecuteTime": {
     "end_time": "2022-07-22T13:13:41.195774Z",
     "start_time": "2022-07-22T13:13:41.184241Z"
    },
    "hidden": true
   },
   "outputs": [],
   "source": [
    "class Cyclical_day_Encoder(BaseEstimator, TransformerMixin):\n",
    "    '''Custom transformer to convert day into cyclical encoding cos and sin'''\n",
    "    def _init_(self):\n",
    "        pass \n",
    "    \n",
    "    def fit(self, X,y=None):\n",
    "        return self\n",
    "    \n",
    "    def transform(self, X,y=None):\n",
    "        X = pd.DataFrame(X)\n",
    "        df = pd.DataFrame()\n",
    "        cst = (2*np.pi/7)\n",
    "        df['day_cos'] = X.apply(lambda x: np.cos(cst*x))\n",
    "        df['day_sin'] = X.apply(lambda x: np.sin(cst*x))\n",
    "        return df\n",
    "    \n",
    "    def get_feature_names_out(self,X):\n",
    "        return 'day_cos','day_sin'"
   ]
  },
  {
   "cell_type": "code",
   "execution_count": 32,
   "id": "ab1c4cdb",
   "metadata": {
    "ExecuteTime": {
     "end_time": "2022-07-22T13:13:51.558513Z",
     "start_time": "2022-07-22T13:13:51.550091Z"
    },
    "hidden": true
   },
   "outputs": [],
   "source": [
    "day_transformer = Cyclical_day_Encoder()\n",
    "day_selection = sm_df[['session_start_day']].columns"
   ]
  },
  {
   "cell_type": "code",
   "execution_count": 35,
   "id": "4608d7a4",
   "metadata": {
    "ExecuteTime": {
     "end_time": "2022-07-22T13:14:30.520667Z",
     "start_time": "2022-07-22T13:14:30.510601Z"
    },
    "hidden": true
   },
   "outputs": [],
   "source": [
    "class CustomColumnTransformer(ColumnTransformer):\n",
    "    '''Custom columns transformer in order to keep columns name '''\n",
    "    def fit(self, *args, **kwargs):\n",
    "        return super().fit(*args, **kwargs)\n",
    "    \n",
    "    def transform(self, X, *args, **kwargs):\n",
    "        return pd.DataFrame(super().transform(X, *args, **kwargs), columns=self.get_feature_names_out())\n",
    "    \n",
    "    def fit_transform(self, X, *args, **kwargs):\n",
    "        return pd.DataFrame(super().fit_transform(X, *args, **kwargs), columns=self.get_feature_names_out())"
   ]
  },
  {
   "cell_type": "code",
   "execution_count": 36,
   "id": "81444095",
   "metadata": {
    "ExecuteTime": {
     "end_time": "2022-07-22T13:14:38.163557Z",
     "start_time": "2022-07-22T13:14:38.157820Z"
    },
    "hidden": true
   },
   "outputs": [],
   "source": [
    "preprocessor = CustomColumnTransformer([\n",
    "    ('num_tr',num_transformer,num_selection),\n",
    "    ('cat_tr',cat_transformer,cat_selection ),\n",
    "    ('month_tr',month_transformer,month_selection ),\n",
    "    ('day_tr',day_transformer,day_selection )],\n",
    "    remainder = 'drop'\n",
    ")"
   ]
  },
  {
   "cell_type": "code",
   "execution_count": 37,
   "id": "00a865cc",
   "metadata": {
    "ExecuteTime": {
     "end_time": "2022-07-22T13:15:01.321344Z",
     "start_time": "2022-07-22T13:15:01.307786Z"
    },
    "hidden": true
   },
   "outputs": [
    {
     "data": {
      "text/plain": [
       "0    16582\n",
       "1     2230\n",
       "Name: churn_risk, dtype: int64"
      ]
     },
     "execution_count": 37,
     "metadata": {},
     "output_type": "execute_result"
    }
   ],
   "source": [
    "#Evaluating class balance\n",
    "sm_df['churn_risk'].value_counts()"
   ]
  },
  {
   "cell_type": "markdown",
   "id": "a3e1fe9d",
   "metadata": {
    "heading_collapsed": true
   },
   "source": [
    "# Data preparation"
   ]
  },
  {
   "cell_type": "code",
   "execution_count": 38,
   "id": "16be7270",
   "metadata": {
    "ExecuteTime": {
     "end_time": "2022-07-22T13:18:07.950352Z",
     "start_time": "2022-07-22T13:18:07.933265Z"
    },
    "hidden": true
   },
   "outputs": [],
   "source": [
    "X = sm_df.drop('churn_risk',axis=1).copy()\n",
    "y = sm_df['churn_risk'].copy()"
   ]
  },
  {
   "cell_type": "code",
   "execution_count": 41,
   "id": "0e5d2030",
   "metadata": {
    "ExecuteTime": {
     "end_time": "2022-07-22T13:18:29.341658Z",
     "start_time": "2022-07-22T13:18:29.314134Z"
    },
    "hidden": true
   },
   "outputs": [],
   "source": [
    "X_train, X_test, y_train, y_test = train_test_split(X, y, test_size=0.30)"
   ]
  },
  {
   "cell_type": "markdown",
   "id": "58ac7849",
   "metadata": {
    "heading_collapsed": true
   },
   "source": [
    "# Model"
   ]
  },
  {
   "cell_type": "code",
   "execution_count": 44,
   "id": "16a4b4fd",
   "metadata": {
    "ExecuteTime": {
     "end_time": "2022-07-22T13:19:24.171039Z",
     "start_time": "2022-07-22T13:19:24.158667Z"
    },
    "hidden": true
   },
   "outputs": [],
   "source": [
    "class CustomSelectPercentile(SelectPercentile):\n",
    "    '''Custom Select percentile in order to keep columns name '''\n",
    "    def fit(self, *args, **kwargs):\n",
    "        return super().fit(*args, **kwargs) \n",
    "    \n",
    "    def transform(self,*args, **kwargs):\n",
    "        return pd.DataFrame(super().transform(*args, **kwargs), columns=self.get_feature_names_out())\n",
    "\n",
    "    def fit_transform(self,*args, **kwargs):\n",
    "        return pd.DataFrame(super().fit_transform(*args, **kwargs), columns=self.get_feature_names_out())"
   ]
  },
  {
   "cell_type": "code",
   "execution_count": 49,
   "id": "83f2b483",
   "metadata": {
    "ExecuteTime": {
     "end_time": "2022-07-22T13:20:05.681505Z",
     "start_time": "2022-07-22T13:20:05.673314Z"
    },
    "hidden": true
   },
   "outputs": [],
   "source": [
    "pipe = Pipeline([('prep',preprocessor),\\\n",
    "                       ('feat_selec',CustomSelectPercentile(percentile=50)),\\\n",
    "                       ('RF',BalancedRandomForestClassifier())])"
   ]
  },
  {
   "cell_type": "code",
   "execution_count": 51,
   "id": "51c5924b",
   "metadata": {
    "ExecuteTime": {
     "end_time": "2022-07-22T13:20:18.887043Z",
     "start_time": "2022-07-22T13:20:18.795403Z"
    },
    "hidden": true
   },
   "outputs": [
    {
     "data": {
      "text/html": [
       "<style>#sk-container-id-1 {color: black;background-color: white;}#sk-container-id-1 pre{padding: 0;}#sk-container-id-1 div.sk-toggleable {background-color: white;}#sk-container-id-1 label.sk-toggleable__label {cursor: pointer;display: block;width: 100%;margin-bottom: 0;padding: 0.3em;box-sizing: border-box;text-align: center;}#sk-container-id-1 label.sk-toggleable__label-arrow:before {content: \"▸\";float: left;margin-right: 0.25em;color: #696969;}#sk-container-id-1 label.sk-toggleable__label-arrow:hover:before {color: black;}#sk-container-id-1 div.sk-estimator:hover label.sk-toggleable__label-arrow:before {color: black;}#sk-container-id-1 div.sk-toggleable__content {max-height: 0;max-width: 0;overflow: hidden;text-align: left;background-color: #f0f8ff;}#sk-container-id-1 div.sk-toggleable__content pre {margin: 0.2em;color: black;border-radius: 0.25em;background-color: #f0f8ff;}#sk-container-id-1 input.sk-toggleable__control:checked~div.sk-toggleable__content {max-height: 200px;max-width: 100%;overflow: auto;}#sk-container-id-1 input.sk-toggleable__control:checked~label.sk-toggleable__label-arrow:before {content: \"▾\";}#sk-container-id-1 div.sk-estimator input.sk-toggleable__control:checked~label.sk-toggleable__label {background-color: #d4ebff;}#sk-container-id-1 div.sk-label input.sk-toggleable__control:checked~label.sk-toggleable__label {background-color: #d4ebff;}#sk-container-id-1 input.sk-hidden--visually {border: 0;clip: rect(1px 1px 1px 1px);clip: rect(1px, 1px, 1px, 1px);height: 1px;margin: -1px;overflow: hidden;padding: 0;position: absolute;width: 1px;}#sk-container-id-1 div.sk-estimator {font-family: monospace;background-color: #f0f8ff;border: 1px dotted black;border-radius: 0.25em;box-sizing: border-box;margin-bottom: 0.5em;}#sk-container-id-1 div.sk-estimator:hover {background-color: #d4ebff;}#sk-container-id-1 div.sk-parallel-item::after {content: \"\";width: 100%;border-bottom: 1px solid gray;flex-grow: 1;}#sk-container-id-1 div.sk-label:hover label.sk-toggleable__label {background-color: #d4ebff;}#sk-container-id-1 div.sk-serial::before {content: \"\";position: absolute;border-left: 1px solid gray;box-sizing: border-box;top: 0;bottom: 0;left: 50%;z-index: 0;}#sk-container-id-1 div.sk-serial {display: flex;flex-direction: column;align-items: center;background-color: white;padding-right: 0.2em;padding-left: 0.2em;position: relative;}#sk-container-id-1 div.sk-item {position: relative;z-index: 1;}#sk-container-id-1 div.sk-parallel {display: flex;align-items: stretch;justify-content: center;background-color: white;position: relative;}#sk-container-id-1 div.sk-item::before, #sk-container-id-1 div.sk-parallel-item::before {content: \"\";position: absolute;border-left: 1px solid gray;box-sizing: border-box;top: 0;bottom: 0;left: 50%;z-index: -1;}#sk-container-id-1 div.sk-parallel-item {display: flex;flex-direction: column;z-index: 1;position: relative;background-color: white;}#sk-container-id-1 div.sk-parallel-item:first-child::after {align-self: flex-end;width: 50%;}#sk-container-id-1 div.sk-parallel-item:last-child::after {align-self: flex-start;width: 50%;}#sk-container-id-1 div.sk-parallel-item:only-child::after {width: 0;}#sk-container-id-1 div.sk-dashed-wrapped {border: 1px dashed gray;margin: 0 0.4em 0.5em 0.4em;box-sizing: border-box;padding-bottom: 0.4em;background-color: white;}#sk-container-id-1 div.sk-label label {font-family: monospace;font-weight: bold;display: inline-block;line-height: 1.2em;}#sk-container-id-1 div.sk-label-container {text-align: center;}#sk-container-id-1 div.sk-container {/* jupyter's `normalize.less` sets `[hidden] { display: none; }` but bootstrap.min.css set `[hidden] { display: none !important; }` so we also need the `!important` here to be able to override the default hidden behavior on the sphinx rendered scikit-learn.org. See: https://github.com/scikit-learn/scikit-learn/issues/21755 */display: inline-block !important;position: relative;}#sk-container-id-1 div.sk-text-repr-fallback {display: none;}</style><div id=\"sk-container-id-1\" class=\"sk-top-container\"><div class=\"sk-text-repr-fallback\"><pre>Pipeline(steps=[(&#x27;prep&#x27;,\n",
       "                 CustomColumnTransformer(transformers=[(&#x27;num_tr&#x27;,\n",
       "                                                        CustomMinMaxScale(),\n",
       "                                                        Index([&#x27;event_type_Account_Sign_In&#x27;, &#x27;event_type_Account_Sign_Out&#x27;,\n",
       "       &#x27;event_type_Account_Sign_Up&#x27;, &#x27;event_type_Account_Update_Request&#x27;,\n",
       "       &#x27;event_type_Account_Update_Success&#x27;, &#x27;event_type_Action_Click&#x27;,\n",
       "       &#x27;event_type_Action_ConversionClickRedeem&#x27;,\n",
       "       &#x27;event_type_Action_Conv...\n",
       "                                                        CustomOHE(drop=&#x27;if_binary&#x27;,\n",
       "                                                                  handle_unknown=&#x27;ignore&#x27;,\n",
       "                                                                  sparse=False),\n",
       "                                                        Index([&#x27;Type&#x27;], dtype=&#x27;object&#x27;)),\n",
       "                                                       (&#x27;month_tr&#x27;,\n",
       "                                                        Cyclical_month_Encoder(),\n",
       "                                                        Index([&#x27;session_start_month&#x27;], dtype=&#x27;object&#x27;)),\n",
       "                                                       (&#x27;day_tr&#x27;,\n",
       "                                                        Cyclical_day_Encoder(),\n",
       "                                                        Index([&#x27;session_start_day&#x27;], dtype=&#x27;object&#x27;))])),\n",
       "                (&#x27;feat_selec&#x27;, CustomSelectPercentile(percentile=50)),\n",
       "                (&#x27;RF&#x27;, BalancedRandomForestClassifier())])</pre><b>In a Jupyter environment, please rerun this cell to show the HTML representation or trust the notebook. <br />On GitHub, the HTML representation is unable to render, please try loading this page with nbviewer.org.</b></div><div class=\"sk-container\" hidden><div class=\"sk-item sk-dashed-wrapped\"><div class=\"sk-label-container\"><div class=\"sk-label sk-toggleable\"><input class=\"sk-toggleable__control sk-hidden--visually\" id=\"sk-estimator-id-1\" type=\"checkbox\" ><label for=\"sk-estimator-id-1\" class=\"sk-toggleable__label sk-toggleable__label-arrow\">Pipeline</label><div class=\"sk-toggleable__content\"><pre>Pipeline(steps=[(&#x27;prep&#x27;,\n",
       "                 CustomColumnTransformer(transformers=[(&#x27;num_tr&#x27;,\n",
       "                                                        CustomMinMaxScale(),\n",
       "                                                        Index([&#x27;event_type_Account_Sign_In&#x27;, &#x27;event_type_Account_Sign_Out&#x27;,\n",
       "       &#x27;event_type_Account_Sign_Up&#x27;, &#x27;event_type_Account_Update_Request&#x27;,\n",
       "       &#x27;event_type_Account_Update_Success&#x27;, &#x27;event_type_Action_Click&#x27;,\n",
       "       &#x27;event_type_Action_ConversionClickRedeem&#x27;,\n",
       "       &#x27;event_type_Action_Conv...\n",
       "                                                        CustomOHE(drop=&#x27;if_binary&#x27;,\n",
       "                                                                  handle_unknown=&#x27;ignore&#x27;,\n",
       "                                                                  sparse=False),\n",
       "                                                        Index([&#x27;Type&#x27;], dtype=&#x27;object&#x27;)),\n",
       "                                                       (&#x27;month_tr&#x27;,\n",
       "                                                        Cyclical_month_Encoder(),\n",
       "                                                        Index([&#x27;session_start_month&#x27;], dtype=&#x27;object&#x27;)),\n",
       "                                                       (&#x27;day_tr&#x27;,\n",
       "                                                        Cyclical_day_Encoder(),\n",
       "                                                        Index([&#x27;session_start_day&#x27;], dtype=&#x27;object&#x27;))])),\n",
       "                (&#x27;feat_selec&#x27;, CustomSelectPercentile(percentile=50)),\n",
       "                (&#x27;RF&#x27;, BalancedRandomForestClassifier())])</pre></div></div></div><div class=\"sk-serial\"><div class=\"sk-item sk-dashed-wrapped\"><div class=\"sk-label-container\"><div class=\"sk-label sk-toggleable\"><input class=\"sk-toggleable__control sk-hidden--visually\" id=\"sk-estimator-id-2\" type=\"checkbox\" ><label for=\"sk-estimator-id-2\" class=\"sk-toggleable__label sk-toggleable__label-arrow\">prep: CustomColumnTransformer</label><div class=\"sk-toggleable__content\"><pre>CustomColumnTransformer(transformers=[(&#x27;num_tr&#x27;, CustomMinMaxScale(),\n",
       "                                       Index([&#x27;event_type_Account_Sign_In&#x27;, &#x27;event_type_Account_Sign_Out&#x27;,\n",
       "       &#x27;event_type_Account_Sign_Up&#x27;, &#x27;event_type_Account_Update_Request&#x27;,\n",
       "       &#x27;event_type_Account_Update_Success&#x27;, &#x27;event_type_Action_Click&#x27;,\n",
       "       &#x27;event_type_Action_ConversionClickRedeem&#x27;,\n",
       "       &#x27;event_type_Action_ConversionClickSubscribe&#x27;,\n",
       "       &#x27;e...\n",
       "       &#x27;time_since_last_session_min&#x27;, &#x27;week_maturity&#x27;, &#x27;session_start_day&#x27;,\n",
       "       &#x27;session_start_month&#x27;],\n",
       "      dtype=&#x27;object&#x27;)),\n",
       "                                      (&#x27;cat_tr&#x27;,\n",
       "                                       CustomOHE(drop=&#x27;if_binary&#x27;,\n",
       "                                                 handle_unknown=&#x27;ignore&#x27;,\n",
       "                                                 sparse=False),\n",
       "                                       Index([&#x27;Type&#x27;], dtype=&#x27;object&#x27;)),\n",
       "                                      (&#x27;month_tr&#x27;, Cyclical_month_Encoder(),\n",
       "                                       Index([&#x27;session_start_month&#x27;], dtype=&#x27;object&#x27;)),\n",
       "                                      (&#x27;day_tr&#x27;, Cyclical_day_Encoder(),\n",
       "                                       Index([&#x27;session_start_day&#x27;], dtype=&#x27;object&#x27;))])</pre></div></div></div><div class=\"sk-parallel\"><div class=\"sk-parallel-item\"><div class=\"sk-item\"><div class=\"sk-label-container\"><div class=\"sk-label sk-toggleable\"><input class=\"sk-toggleable__control sk-hidden--visually\" id=\"sk-estimator-id-3\" type=\"checkbox\" ><label for=\"sk-estimator-id-3\" class=\"sk-toggleable__label sk-toggleable__label-arrow\">num_tr</label><div class=\"sk-toggleable__content\"><pre>Index([&#x27;event_type_Account_Sign_In&#x27;, &#x27;event_type_Account_Sign_Out&#x27;,\n",
       "       &#x27;event_type_Account_Sign_Up&#x27;, &#x27;event_type_Account_Update_Request&#x27;,\n",
       "       &#x27;event_type_Account_Update_Success&#x27;, &#x27;event_type_Action_Click&#x27;,\n",
       "       &#x27;event_type_Action_ConversionClickRedeem&#x27;,\n",
       "       &#x27;event_type_Action_ConversionClickSubscribe&#x27;,\n",
       "       &#x27;event_type_Activation_Game&#x27;, &#x27;event_type_Activation_New_Activation&#x27;,\n",
       "       &#x27;event_type_Activation_Piece&#x27;, &#x27;event_type_Activation_Product&#x27;,\n",
       "       &#x27;event_type_Activity_Good_Answer&#x27;, &#x27;event_type_Activity_Start&#x27;,\n",
       "       &#x27;event_type_Activity_Stop&#x27;, &#x27;event_type_Activity_Wrong_Answer&#x27;,\n",
       "       &#x27;event_type_Error_Error&#x27;, &#x27;event_type_Game_Pause&#x27;,\n",
       "       &#x27;event_type_Game_Start&#x27;, &#x27;event_type_Game_Stop&#x27;,\n",
       "       &#x27;event_type_OB_ClickStore&#x27;, &#x27;event_type_OB_ClickTrial&#x27;,\n",
       "       &#x27;event_type_OB_CommPreview&#x27;, &#x27;event_type_OB_DiscoverTrial&#x27;,\n",
       "       &#x27;event_type_OB_DoYouHaveKit&#x27;, &#x27;event_type_OB_Email&#x27;,\n",
       "       &#x27;event_type_OB_HasKeyNo&#x27;, &#x27;event_type_OB_HasKitNo&#x27;,\n",
       "       &#x27;event_type_OB_HasKitYes&#x27;, &#x27;event_type_OB_KeyFail&#x27;,\n",
       "       &#x27;event_type_OB_KeyRedeem&#x27;, &#x27;event_type_OB_KeySuccess&#x27;,\n",
       "       &#x27;event_type_OB_ProductActivation&#x27;, &#x27;event_type_OB_ProductOther&#x27;,\n",
       "       &#x27;event_type_OB_ProductSK&#x27;, &#x27;event_type_OB_ProductSeeMore&#x27;,\n",
       "       &#x27;event_type_OB_ProductSelection&#x27;, &#x27;event_type_OB_ProfileBirthdate&#x27;,\n",
       "       &#x27;event_type_OB_RenewalFail&#x27;, &#x27;event_type_OB_RenewalSelection&#x27;,\n",
       "       &#x27;event_type_OB_RenewalSuccess&#x27;, &#x27;event_type_OB_Success&#x27;,\n",
       "       &#x27;event_type_OB_TrialStart&#x27;, &#x27;event_type_OB_Type&#x27;,\n",
       "       &#x27;event_type_OB_VerifCode&#x27;, &#x27;event_type_Popup_Close&#x27;,\n",
       "       &#x27;event_type_Popup_Open&#x27;, &#x27;event_type_Profile_Create&#x27;,\n",
       "       &#x27;event_type_Profile_Delete&#x27;,\n",
       "       &#x27;event_type_Profile_Reset_Settings_and_Progression&#x27;,\n",
       "       &#x27;event_type_Profile_Update&#x27;, &#x27;event_type_Scaffolding_Reset&#x27;,\n",
       "       &#x27;event_type_Scaffolding_Scaffolding&#x27;, &#x27;event_type_Scene_Enter&#x27;,\n",
       "       &#x27;event_type_Scene_Leave&#x27;, &#x27;event_type_Toast_Appear&#x27;, &#x27;game_events&#x27;,\n",
       "       &#x27;setup_events&#x27;, &#x27;unique_activity&#x27;, &#x27;Time_Spent&#x27;, &#x27;Profile_Age_days&#x27;,\n",
       "       &#x27;good_answer_ratio&#x27;, &#x27;duration_min&#x27;, &#x27;previous_session&#x27;,\n",
       "       &#x27;time_since_last_session_min&#x27;, &#x27;week_maturity&#x27;, &#x27;session_start_day&#x27;,\n",
       "       &#x27;session_start_month&#x27;],\n",
       "      dtype=&#x27;object&#x27;)</pre></div></div></div><div class=\"sk-serial\"><div class=\"sk-item\"><div class=\"sk-estimator sk-toggleable\"><input class=\"sk-toggleable__control sk-hidden--visually\" id=\"sk-estimator-id-4\" type=\"checkbox\" ><label for=\"sk-estimator-id-4\" class=\"sk-toggleable__label sk-toggleable__label-arrow\">CustomMinMaxScale</label><div class=\"sk-toggleable__content\"><pre>CustomMinMaxScale()</pre></div></div></div></div></div></div><div class=\"sk-parallel-item\"><div class=\"sk-item\"><div class=\"sk-label-container\"><div class=\"sk-label sk-toggleable\"><input class=\"sk-toggleable__control sk-hidden--visually\" id=\"sk-estimator-id-5\" type=\"checkbox\" ><label for=\"sk-estimator-id-5\" class=\"sk-toggleable__label sk-toggleable__label-arrow\">cat_tr</label><div class=\"sk-toggleable__content\"><pre>Index([&#x27;Type&#x27;], dtype=&#x27;object&#x27;)</pre></div></div></div><div class=\"sk-serial\"><div class=\"sk-item\"><div class=\"sk-estimator sk-toggleable\"><input class=\"sk-toggleable__control sk-hidden--visually\" id=\"sk-estimator-id-6\" type=\"checkbox\" ><label for=\"sk-estimator-id-6\" class=\"sk-toggleable__label sk-toggleable__label-arrow\">CustomOHE</label><div class=\"sk-toggleable__content\"><pre>CustomOHE(drop=&#x27;if_binary&#x27;, handle_unknown=&#x27;ignore&#x27;, sparse=False)</pre></div></div></div></div></div></div><div class=\"sk-parallel-item\"><div class=\"sk-item\"><div class=\"sk-label-container\"><div class=\"sk-label sk-toggleable\"><input class=\"sk-toggleable__control sk-hidden--visually\" id=\"sk-estimator-id-7\" type=\"checkbox\" ><label for=\"sk-estimator-id-7\" class=\"sk-toggleable__label sk-toggleable__label-arrow\">month_tr</label><div class=\"sk-toggleable__content\"><pre>Index([&#x27;session_start_month&#x27;], dtype=&#x27;object&#x27;)</pre></div></div></div><div class=\"sk-serial\"><div class=\"sk-item\"><div class=\"sk-estimator sk-toggleable\"><input class=\"sk-toggleable__control sk-hidden--visually\" id=\"sk-estimator-id-8\" type=\"checkbox\" ><label for=\"sk-estimator-id-8\" class=\"sk-toggleable__label sk-toggleable__label-arrow\">Cyclical_month_Encoder</label><div class=\"sk-toggleable__content\"><pre>Cyclical_month_Encoder()</pre></div></div></div></div></div></div><div class=\"sk-parallel-item\"><div class=\"sk-item\"><div class=\"sk-label-container\"><div class=\"sk-label sk-toggleable\"><input class=\"sk-toggleable__control sk-hidden--visually\" id=\"sk-estimator-id-9\" type=\"checkbox\" ><label for=\"sk-estimator-id-9\" class=\"sk-toggleable__label sk-toggleable__label-arrow\">day_tr</label><div class=\"sk-toggleable__content\"><pre>Index([&#x27;session_start_day&#x27;], dtype=&#x27;object&#x27;)</pre></div></div></div><div class=\"sk-serial\"><div class=\"sk-item\"><div class=\"sk-estimator sk-toggleable\"><input class=\"sk-toggleable__control sk-hidden--visually\" id=\"sk-estimator-id-10\" type=\"checkbox\" ><label for=\"sk-estimator-id-10\" class=\"sk-toggleable__label sk-toggleable__label-arrow\">Cyclical_day_Encoder</label><div class=\"sk-toggleable__content\"><pre>Cyclical_day_Encoder()</pre></div></div></div></div></div></div></div></div><div class=\"sk-item\"><div class=\"sk-estimator sk-toggleable\"><input class=\"sk-toggleable__control sk-hidden--visually\" id=\"sk-estimator-id-11\" type=\"checkbox\" ><label for=\"sk-estimator-id-11\" class=\"sk-toggleable__label sk-toggleable__label-arrow\">CustomSelectPercentile</label><div class=\"sk-toggleable__content\"><pre>CustomSelectPercentile(percentile=50)</pre></div></div></div><div class=\"sk-item\"><div class=\"sk-estimator sk-toggleable\"><input class=\"sk-toggleable__control sk-hidden--visually\" id=\"sk-estimator-id-12\" type=\"checkbox\" ><label for=\"sk-estimator-id-12\" class=\"sk-toggleable__label sk-toggleable__label-arrow\">BalancedRandomForestClassifier</label><div class=\"sk-toggleable__content\"><pre>BalancedRandomForestClassifier()</pre></div></div></div></div></div></div></div>"
      ],
      "text/plain": [
       "Pipeline(steps=[('prep',\n",
       "                 CustomColumnTransformer(transformers=[('num_tr',\n",
       "                                                        CustomMinMaxScale(),\n",
       "                                                        Index(['event_type_Account_Sign_In', 'event_type_Account_Sign_Out',\n",
       "       'event_type_Account_Sign_Up', 'event_type_Account_Update_Request',\n",
       "       'event_type_Account_Update_Success', 'event_type_Action_Click',\n",
       "       'event_type_Action_ConversionClickRedeem',\n",
       "       'event_type_Action_Conv...\n",
       "                                                        CustomOHE(drop='if_binary',\n",
       "                                                                  handle_unknown='ignore',\n",
       "                                                                  sparse=False),\n",
       "                                                        Index(['Type'], dtype='object')),\n",
       "                                                       ('month_tr',\n",
       "                                                        Cyclical_month_Encoder(),\n",
       "                                                        Index(['session_start_month'], dtype='object')),\n",
       "                                                       ('day_tr',\n",
       "                                                        Cyclical_day_Encoder(),\n",
       "                                                        Index(['session_start_day'], dtype='object'))])),\n",
       "                ('feat_selec', CustomSelectPercentile(percentile=50)),\n",
       "                ('RF', BalancedRandomForestClassifier())])"
      ]
     },
     "execution_count": 51,
     "metadata": {},
     "output_type": "execute_result"
    }
   ],
   "source": [
    "pipe"
   ]
  },
  {
   "cell_type": "code",
   "execution_count": 52,
   "id": "3d256c32",
   "metadata": {
    "ExecuteTime": {
     "end_time": "2022-07-22T13:20:59.117401Z",
     "start_time": "2022-07-22T13:20:59.114094Z"
    },
    "hidden": true
   },
   "outputs": [],
   "source": [
    "# TODO : Uncomment if needed to check all the parameter of the pipe we could gridsearch\n",
    "#pipe.get_params()"
   ]
  },
  {
   "cell_type": "code",
   "execution_count": 55,
   "id": "8a135419",
   "metadata": {
    "ExecuteTime": {
     "end_time": "2022-07-22T13:21:26.586007Z",
     "start_time": "2022-07-22T13:21:26.577762Z"
    },
    "hidden": true
   },
   "outputs": [],
   "source": [
    "grid_search = GridSearchCV(\n",
    "    pipe, \n",
    "    param_grid={\n",
    "        'RF__max_depth': [60],\n",
    "        'RF__class_weight' : ['balanced'],\n",
    "        'RF__min_samples_split' : [20],\n",
    "        'RF__n_estimators' : [60],\n",
    "        'RF__max_samples' : [0.75],\n",
    "        'RF__n_jobs' : [-1],\n",
    "    },\n",
    "    cv=5,\n",
    "    scoring='recall',\n",
    "verbose=1)"
   ]
  },
  {
   "cell_type": "code",
   "execution_count": 56,
   "id": "22d4942b",
   "metadata": {
    "ExecuteTime": {
     "end_time": "2022-07-22T13:21:38.606934Z",
     "start_time": "2022-07-22T13:21:35.663958Z"
    },
    "hidden": true
   },
   "outputs": [
    {
     "name": "stdout",
     "output_type": "stream",
     "text": [
      "Fitting 5 folds for each of 1 candidates, totalling 5 fits\n"
     ]
    },
    {
     "data": {
      "text/plain": [
       "{'RF__class_weight': 'balanced',\n",
       " 'RF__max_depth': 60,\n",
       " 'RF__max_samples': 0.75,\n",
       " 'RF__min_samples_split': 20,\n",
       " 'RF__n_estimators': 60,\n",
       " 'RF__n_jobs': -1}"
      ]
     },
     "execution_count": 56,
     "metadata": {},
     "output_type": "execute_result"
    }
   ],
   "source": [
    "grid_search.fit(X_train, y_train)\n",
    "grid_search.best_params_"
   ]
  },
  {
   "cell_type": "code",
   "execution_count": 57,
   "id": "e530c8d1",
   "metadata": {
    "ExecuteTime": {
     "end_time": "2022-07-22T13:21:43.831158Z",
     "start_time": "2022-07-22T13:21:43.821451Z"
    },
    "hidden": true
   },
   "outputs": [
    {
     "data": {
      "text/plain": [
       "0.9447440019787287"
      ]
     },
     "execution_count": 57,
     "metadata": {},
     "output_type": "execute_result"
    }
   ],
   "source": [
    "grid_search.best_score_"
   ]
  },
  {
   "cell_type": "code",
   "execution_count": 58,
   "id": "0a0e4b15",
   "metadata": {
    "ExecuteTime": {
     "end_time": "2022-07-22T13:22:02.642430Z",
     "start_time": "2022-07-22T13:22:02.638152Z"
    },
    "hidden": true
   },
   "outputs": [],
   "source": [
    "#Selecting best model from grid search\n",
    "best_search = grid_search.best_estimator_"
   ]
  },
  {
   "cell_type": "code",
   "execution_count": 59,
   "id": "07628dce",
   "metadata": {
    "ExecuteTime": {
     "end_time": "2022-07-22T13:22:12.964693Z",
     "start_time": "2022-07-22T13:22:12.900699Z"
    },
    "hidden": true
   },
   "outputs": [],
   "source": [
    "#Predicting with oversample X_test\n",
    "y_pred = best_search.predict(X_test)"
   ]
  },
  {
   "cell_type": "code",
   "execution_count": 62,
   "id": "5ca20510",
   "metadata": {
    "ExecuteTime": {
     "end_time": "2022-07-22T13:22:33.769002Z",
     "start_time": "2022-07-22T13:22:33.742225Z"
    },
    "hidden": true
   },
   "outputs": [
    {
     "name": "stdout",
     "output_type": "stream",
     "text": [
      "              precision    recall  f1-score   support\n",
      "\n",
      "    classe 0       0.99      0.46      0.62      4970\n",
      "    Classe 1       0.19      0.97      0.32       674\n",
      "\n",
      "    accuracy                           0.52      5644\n",
      "   macro avg       0.59      0.71      0.47      5644\n",
      "weighted avg       0.90      0.52      0.59      5644\n",
      "\n"
     ]
    }
   ],
   "source": [
    "#Evaluation\n",
    "target_names = ['classe 0','Classe 1']\n",
    "print(classification_report(y_test,y_pred,target_names=target_names))"
   ]
  },
  {
   "cell_type": "code",
   "execution_count": 63,
   "id": "0690e52e",
   "metadata": {
    "ExecuteTime": {
     "end_time": "2022-07-22T13:22:43.872295Z",
     "start_time": "2022-07-22T13:22:43.228798Z"
    },
    "hidden": true
   },
   "outputs": [
    {
     "data": {
      "image/png": "[encoded data removed]",
      "text/plain": [
       "<Figure size 432x288 with 2 Axes>"
      ]
     },
     "metadata": {
      "needs_background": "light"
     },
     "output_type": "display_data"
    }
   ],
   "source": [
    "#Confusion matrix\n",
    "from sklearn.metrics import confusion_matrix, ConfusionMatrixDisplay\n",
    "label = ['No churn risk', 'Churn risk'] \n",
    "cm = confusion_matrix(y_test, y_pred)\n",
    "disp = ConfusionMatrixDisplay(confusion_matrix=cm,display_labels=label)\n",
    "disp.plot();"
   ]
  },
  {
   "cell_type": "code",
   "execution_count": 64,
   "id": "1e736e88",
   "metadata": {
    "ExecuteTime": {
     "end_time": "2022-07-22T13:22:54.457180Z",
     "start_time": "2022-07-22T13:22:54.421238Z"
    },
    "hidden": true
   },
   "outputs": [
    {
     "data": {
      "text/html": [
       "<div>\n",
       "<style scoped>\n",
       "    .dataframe tbody tr th:only-of-type {\n",
       "        vertical-align: middle;\n",
       "    }\n",
       "\n",
       "    .dataframe tbody tr th {\n",
       "        vertical-align: top;\n",
       "    }\n",
       "\n",
       "    .dataframe thead th {\n",
       "        text-align: right;\n",
       "    }\n",
       "</style>\n",
       "<table border=\"1\" class=\"dataframe\">\n",
       "  <thead>\n",
       "    <tr style=\"text-align: right;\">\n",
       "      <th></th>\n",
       "      <th>0</th>\n",
       "    </tr>\n",
       "  </thead>\n",
       "  <tbody>\n",
       "    <tr>\n",
       "      <th>num_tr__previous_session</th>\n",
       "      <td>0.174723</td>\n",
       "    </tr>\n",
       "    <tr>\n",
       "      <th>num_tr__session_start_month</th>\n",
       "      <td>0.125540</td>\n",
       "    </tr>\n",
       "    <tr>\n",
       "      <th>month_tr__month_cos</th>\n",
       "      <td>0.092462</td>\n",
       "    </tr>\n",
       "    <tr>\n",
       "      <th>num_tr__time_since_last_session_min</th>\n",
       "      <td>0.077088</td>\n",
       "    </tr>\n",
       "    <tr>\n",
       "      <th>num_tr__Time_Spent</th>\n",
       "      <td>0.061313</td>\n",
       "    </tr>\n",
       "    <tr>\n",
       "      <th>month_tr__month_sin</th>\n",
       "      <td>0.057377</td>\n",
       "    </tr>\n",
       "    <tr>\n",
       "      <th>num_tr__duration_min</th>\n",
       "      <td>0.046263</td>\n",
       "    </tr>\n",
       "    <tr>\n",
       "      <th>num_tr__Profile_Age_days</th>\n",
       "      <td>0.043743</td>\n",
       "    </tr>\n",
       "    <tr>\n",
       "      <th>num_tr__game_events</th>\n",
       "      <td>0.042531</td>\n",
       "    </tr>\n",
       "    <tr>\n",
       "      <th>num_tr__week_maturity</th>\n",
       "      <td>0.038748</td>\n",
       "    </tr>\n",
       "    <tr>\n",
       "      <th>num_tr__event_type_Scene_Enter</th>\n",
       "      <td>0.030157</td>\n",
       "    </tr>\n",
       "    <tr>\n",
       "      <th>num_tr__event_type_Scene_Leave</th>\n",
       "      <td>0.026589</td>\n",
       "    </tr>\n",
       "    <tr>\n",
       "      <th>num_tr__event_type_Game_Pause</th>\n",
       "      <td>0.019164</td>\n",
       "    </tr>\n",
       "    <tr>\n",
       "      <th>num_tr__event_type_Action_Click</th>\n",
       "      <td>0.019151</td>\n",
       "    </tr>\n",
       "    <tr>\n",
       "      <th>num_tr__event_type_Activity_Good_Answer</th>\n",
       "      <td>0.017833</td>\n",
       "    </tr>\n",
       "    <tr>\n",
       "      <th>num_tr__event_type_Activity_Start</th>\n",
       "      <td>0.017363</td>\n",
       "    </tr>\n",
       "    <tr>\n",
       "      <th>num_tr__unique_activity</th>\n",
       "      <td>0.016597</td>\n",
       "    </tr>\n",
       "    <tr>\n",
       "      <th>day_tr__day_sin</th>\n",
       "      <td>0.014968</td>\n",
       "    </tr>\n",
       "    <tr>\n",
       "      <th>num_tr__event_type_Activity_Wrong_Answer</th>\n",
       "      <td>0.014867</td>\n",
       "    </tr>\n",
       "    <tr>\n",
       "      <th>num_tr__session_start_day</th>\n",
       "      <td>0.014363</td>\n",
       "    </tr>\n",
       "    <tr>\n",
       "      <th>num_tr__good_answer_ratio</th>\n",
       "      <td>0.010001</td>\n",
       "    </tr>\n",
       "    <tr>\n",
       "      <th>num_tr__setup_events</th>\n",
       "      <td>0.008094</td>\n",
       "    </tr>\n",
       "    <tr>\n",
       "      <th>cat_tr__Type_Teacher</th>\n",
       "      <td>0.005518</td>\n",
       "    </tr>\n",
       "    <tr>\n",
       "      <th>num_tr__event_type_OB_ProductSelection</th>\n",
       "      <td>0.004697</td>\n",
       "    </tr>\n",
       "    <tr>\n",
       "      <th>num_tr__event_type_OB_Success</th>\n",
       "      <td>0.003556</td>\n",
       "    </tr>\n",
       "    <tr>\n",
       "      <th>num_tr__event_type_Activation_New_Activation</th>\n",
       "      <td>0.003126</td>\n",
       "    </tr>\n",
       "    <tr>\n",
       "      <th>num_tr__event_type_Activation_Piece</th>\n",
       "      <td>0.002662</td>\n",
       "    </tr>\n",
       "    <tr>\n",
       "      <th>num_tr__event_type_Profile_Update</th>\n",
       "      <td>0.002023</td>\n",
       "    </tr>\n",
       "    <tr>\n",
       "      <th>num_tr__event_type_OB_DoYouHaveKit</th>\n",
       "      <td>0.001903</td>\n",
       "    </tr>\n",
       "    <tr>\n",
       "      <th>num_tr__event_type_Activation_Product</th>\n",
       "      <td>0.001835</td>\n",
       "    </tr>\n",
       "    <tr>\n",
       "      <th>num_tr__event_type_OB_VerifCode</th>\n",
       "      <td>0.001623</td>\n",
       "    </tr>\n",
       "    <tr>\n",
       "      <th>num_tr__event_type_OB_Email</th>\n",
       "      <td>0.001429</td>\n",
       "    </tr>\n",
       "    <tr>\n",
       "      <th>num_tr__event_type_OB_KeyFail</th>\n",
       "      <td>0.001138</td>\n",
       "    </tr>\n",
       "    <tr>\n",
       "      <th>num_tr__event_type_OB_HasKitYes</th>\n",
       "      <td>0.000939</td>\n",
       "    </tr>\n",
       "    <tr>\n",
       "      <th>num_tr__event_type_OB_HasKitNo</th>\n",
       "      <td>0.000561</td>\n",
       "    </tr>\n",
       "    <tr>\n",
       "      <th>num_tr__event_type_Action_ConversionClickRedeem</th>\n",
       "      <td>0.000053</td>\n",
       "    </tr>\n",
       "  </tbody>\n",
       "</table>\n",
       "</div>"
      ],
      "text/plain": [
       "                                                        0\n",
       "num_tr__previous_session                         0.174723\n",
       "num_tr__session_start_month                      0.125540\n",
       "month_tr__month_cos                              0.092462\n",
       "num_tr__time_since_last_session_min              0.077088\n",
       "num_tr__Time_Spent                               0.061313\n",
       "month_tr__month_sin                              0.057377\n",
       "num_tr__duration_min                             0.046263\n",
       "num_tr__Profile_Age_days                         0.043743\n",
       "num_tr__game_events                              0.042531\n",
       "num_tr__week_maturity                            0.038748\n",
       "num_tr__event_type_Scene_Enter                   0.030157\n",
       "num_tr__event_type_Scene_Leave                   0.026589\n",
       "num_tr__event_type_Game_Pause                    0.019164\n",
       "num_tr__event_type_Action_Click                  0.019151\n",
       "num_tr__event_type_Activity_Good_Answer          0.017833\n",
       "num_tr__event_type_Activity_Start                0.017363\n",
       "num_tr__unique_activity                          0.016597\n",
       "day_tr__day_sin                                  0.014968\n",
       "num_tr__event_type_Activity_Wrong_Answer         0.014867\n",
       "num_tr__session_start_day                        0.014363\n",
       "num_tr__good_answer_ratio                        0.010001\n",
       "num_tr__setup_events                             0.008094\n",
       "cat_tr__Type_Teacher                             0.005518\n",
       "num_tr__event_type_OB_ProductSelection           0.004697\n",
       "num_tr__event_type_OB_Success                    0.003556\n",
       "num_tr__event_type_Activation_New_Activation     0.003126\n",
       "num_tr__event_type_Activation_Piece              0.002662\n",
       "num_tr__event_type_Profile_Update                0.002023\n",
       "num_tr__event_type_OB_DoYouHaveKit               0.001903\n",
       "num_tr__event_type_Activation_Product            0.001835\n",
       "num_tr__event_type_OB_VerifCode                  0.001623\n",
       "num_tr__event_type_OB_Email                      0.001429\n",
       "num_tr__event_type_OB_KeyFail                    0.001138\n",
       "num_tr__event_type_OB_HasKitYes                  0.000939\n",
       "num_tr__event_type_OB_HasKitNo                   0.000561\n",
       "num_tr__event_type_Action_ConversionClickRedeem  0.000053"
      ]
     },
     "execution_count": 64,
     "metadata": {},
     "output_type": "execute_result"
    }
   ],
   "source": [
    "#Random forest nous donne l'importance des features qui ont été gardé pour le modèle. La somme de tous les scores des features gardées fait 1.\n",
    "dict_feature = {}\n",
    "for name, score in zip(best_search.named_steps[\"RF\"].feature_names_in_, best_search.named_steps['RF'].feature_importances_):\n",
    "    dict_feature[name]= score\n",
    "pd.DataFrame.from_dict(dict_feature, orient='index').sort_values(by=0,ascending=False)"
   ]
  },
  {
   "cell_type": "code",
   "execution_count": 68,
   "id": "41c2462b",
   "metadata": {
    "ExecuteTime": {
     "end_time": "2022-07-22T13:23:46.440348Z",
     "start_time": "2022-07-22T13:23:46.419984Z"
    },
    "hidden": true
   },
   "outputs": [
    {
     "data": {
      "text/html": [
       "<div>\n",
       "<style scoped>\n",
       "    .dataframe tbody tr th:only-of-type {\n",
       "        vertical-align: middle;\n",
       "    }\n",
       "\n",
       "    .dataframe tbody tr th {\n",
       "        vertical-align: top;\n",
       "    }\n",
       "\n",
       "    .dataframe thead th {\n",
       "        text-align: right;\n",
       "    }\n",
       "</style>\n",
       "<table border=\"1\" class=\"dataframe\">\n",
       "  <thead>\n",
       "    <tr style=\"text-align: right;\">\n",
       "      <th></th>\n",
       "      <th>0</th>\n",
       "    </tr>\n",
       "  </thead>\n",
       "  <tbody>\n",
       "    <tr>\n",
       "      <th>num_tr__previous_session</th>\n",
       "      <td>360.014132</td>\n",
       "    </tr>\n",
       "    <tr>\n",
       "      <th>month_tr__month_sin</th>\n",
       "      <td>230.003835</td>\n",
       "    </tr>\n",
       "    <tr>\n",
       "      <th>num_tr__session_start_month</th>\n",
       "      <td>218.732865</td>\n",
       "    </tr>\n",
       "    <tr>\n",
       "      <th>month_tr__month_cos</th>\n",
       "      <td>185.024230</td>\n",
       "    </tr>\n",
       "    <tr>\n",
       "      <th>num_tr__week_maturity</th>\n",
       "      <td>48.803852</td>\n",
       "    </tr>\n",
       "    <tr>\n",
       "      <th>num_tr__time_since_last_session_min</th>\n",
       "      <td>45.317604</td>\n",
       "    </tr>\n",
       "    <tr>\n",
       "      <th>num_tr__Time_Spent</th>\n",
       "      <td>27.665810</td>\n",
       "    </tr>\n",
       "    <tr>\n",
       "      <th>num_tr__unique_activity</th>\n",
       "      <td>24.590906</td>\n",
       "    </tr>\n",
       "    <tr>\n",
       "      <th>num_tr__event_type_Action_Click</th>\n",
       "      <td>23.806548</td>\n",
       "    </tr>\n",
       "    <tr>\n",
       "      <th>num_tr__event_type_Scene_Leave</th>\n",
       "      <td>20.637771</td>\n",
       "    </tr>\n",
       "    <tr>\n",
       "      <th>num_tr__game_events</th>\n",
       "      <td>20.512902</td>\n",
       "    </tr>\n",
       "    <tr>\n",
       "      <th>cat_tr__Type_Teacher</th>\n",
       "      <td>19.289645</td>\n",
       "    </tr>\n",
       "    <tr>\n",
       "      <th>num_tr__event_type_Activity_Start</th>\n",
       "      <td>16.235465</td>\n",
       "    </tr>\n",
       "    <tr>\n",
       "      <th>num_tr__event_type_Activity_Good_Answer</th>\n",
       "      <td>11.584169</td>\n",
       "    </tr>\n",
       "    <tr>\n",
       "      <th>num_tr__good_answer_ratio</th>\n",
       "      <td>10.831364</td>\n",
       "    </tr>\n",
       "    <tr>\n",
       "      <th>day_tr__day_sin</th>\n",
       "      <td>10.756706</td>\n",
       "    </tr>\n",
       "    <tr>\n",
       "      <th>num_tr__event_type_Scene_Enter</th>\n",
       "      <td>10.186322</td>\n",
       "    </tr>\n",
       "    <tr>\n",
       "      <th>num_tr__session_start_day</th>\n",
       "      <td>9.821806</td>\n",
       "    </tr>\n",
       "    <tr>\n",
       "      <th>num_tr__duration_min</th>\n",
       "      <td>8.730621</td>\n",
       "    </tr>\n",
       "    <tr>\n",
       "      <th>num_tr__event_type_Activity_Wrong_Answer</th>\n",
       "      <td>6.213482</td>\n",
       "    </tr>\n",
       "    <tr>\n",
       "      <th>num_tr__event_type_OB_Email</th>\n",
       "      <td>3.970945</td>\n",
       "    </tr>\n",
       "    <tr>\n",
       "      <th>num_tr__event_type_Activation_Product</th>\n",
       "      <td>3.803504</td>\n",
       "    </tr>\n",
       "    <tr>\n",
       "      <th>num_tr__event_type_Activation_New_Activation</th>\n",
       "      <td>3.732405</td>\n",
       "    </tr>\n",
       "    <tr>\n",
       "      <th>num_tr__event_type_OB_Success</th>\n",
       "      <td>3.477743</td>\n",
       "    </tr>\n",
       "    <tr>\n",
       "      <th>num_tr__event_type_OB_DoYouHaveKit</th>\n",
       "      <td>3.463947</td>\n",
       "    </tr>\n",
       "    <tr>\n",
       "      <th>num_tr__event_type_OB_VerifCode</th>\n",
       "      <td>3.179704</td>\n",
       "    </tr>\n",
       "    <tr>\n",
       "      <th>num_tr__Profile_Age_days</th>\n",
       "      <td>3.017355</td>\n",
       "    </tr>\n",
       "    <tr>\n",
       "      <th>num_tr__event_type_Activation_Piece</th>\n",
       "      <td>2.736471</td>\n",
       "    </tr>\n",
       "    <tr>\n",
       "      <th>num_tr__event_type_OB_ProductSelection</th>\n",
       "      <td>2.480886</td>\n",
       "    </tr>\n",
       "    <tr>\n",
       "      <th>num_tr__event_type_Profile_Update</th>\n",
       "      <td>2.427749</td>\n",
       "    </tr>\n",
       "    <tr>\n",
       "      <th>num_tr__event_type_OB_HasKitYes</th>\n",
       "      <td>2.409151</td>\n",
       "    </tr>\n",
       "    <tr>\n",
       "      <th>num_tr__event_type_OB_HasKitNo</th>\n",
       "      <td>2.334108</td>\n",
       "    </tr>\n",
       "    <tr>\n",
       "      <th>num_tr__setup_events</th>\n",
       "      <td>2.214882</td>\n",
       "    </tr>\n",
       "    <tr>\n",
       "      <th>num_tr__event_type_Game_Pause</th>\n",
       "      <td>2.060930</td>\n",
       "    </tr>\n",
       "    <tr>\n",
       "      <th>num_tr__event_type_OB_KeyFail</th>\n",
       "      <td>2.012412</td>\n",
       "    </tr>\n",
       "    <tr>\n",
       "      <th>num_tr__event_type_Action_ConversionClickRedeem</th>\n",
       "      <td>1.886827</td>\n",
       "    </tr>\n",
       "  </tbody>\n",
       "</table>\n",
       "</div>"
      ],
      "text/plain": [
       "                                                          0\n",
       "num_tr__previous_session                         360.014132\n",
       "month_tr__month_sin                              230.003835\n",
       "num_tr__session_start_month                      218.732865\n",
       "month_tr__month_cos                              185.024230\n",
       "num_tr__week_maturity                             48.803852\n",
       "num_tr__time_since_last_session_min               45.317604\n",
       "num_tr__Time_Spent                                27.665810\n",
       "num_tr__unique_activity                           24.590906\n",
       "num_tr__event_type_Action_Click                   23.806548\n",
       "num_tr__event_type_Scene_Leave                    20.637771\n",
       "num_tr__game_events                               20.512902\n",
       "cat_tr__Type_Teacher                              19.289645\n",
       "num_tr__event_type_Activity_Start                 16.235465\n",
       "num_tr__event_type_Activity_Good_Answer           11.584169\n",
       "num_tr__good_answer_ratio                         10.831364\n",
       "day_tr__day_sin                                   10.756706\n",
       "num_tr__event_type_Scene_Enter                    10.186322\n",
       "num_tr__session_start_day                          9.821806\n",
       "num_tr__duration_min                               8.730621\n",
       "num_tr__event_type_Activity_Wrong_Answer           6.213482\n",
       "num_tr__event_type_OB_Email                        3.970945\n",
       "num_tr__event_type_Activation_Product              3.803504\n",
       "num_tr__event_type_Activation_New_Activation       3.732405\n",
       "num_tr__event_type_OB_Success                      3.477743\n",
       "num_tr__event_type_OB_DoYouHaveKit                 3.463947\n",
       "num_tr__event_type_OB_VerifCode                    3.179704\n",
       "num_tr__Profile_Age_days                           3.017355\n",
       "num_tr__event_type_Activation_Piece                2.736471\n",
       "num_tr__event_type_OB_ProductSelection             2.480886\n",
       "num_tr__event_type_Profile_Update                  2.427749\n",
       "num_tr__event_type_OB_HasKitYes                    2.409151\n",
       "num_tr__event_type_OB_HasKitNo                     2.334108\n",
       "num_tr__setup_events                               2.214882\n",
       "num_tr__event_type_Game_Pause                      2.060930\n",
       "num_tr__event_type_OB_KeyFail                      2.012412\n",
       "num_tr__event_type_Action_ConversionClickRedeem    1.886827"
      ]
     },
     "execution_count": 68,
     "metadata": {},
     "output_type": "execute_result"
    }
   ],
   "source": [
    "#Analyse de la variance des colonnes gardées\n",
    "pd.DataFrame(best_search.named_steps[\"feat_selec\"].scores_,index=best_search.named_steps[\"feat_selec\"].feature_names_in_).sort_values(by=0,ascending=False)[:36]"
   ]
  },
  {
   "cell_type": "markdown",
   "id": "2f18210d",
   "metadata": {
    "heading_collapsed": true
   },
   "source": [
    "# Modèle uniquement sur les parents"
   ]
  },
  {
   "cell_type": "code",
   "execution_count": 70,
   "id": "89b4aecb",
   "metadata": {
    "ExecuteTime": {
     "end_time": "2022-07-22T13:28:46.396882Z",
     "start_time": "2022-07-22T13:28:46.373061Z"
    },
    "hidden": true
   },
   "outputs": [],
   "source": [
    "#On réduit notre dataset aux sessions concernant uniquement les parents\n",
    "parent_df = sm_df[sm_df['Type']==\"Parent\"]"
   ]
  },
  {
   "cell_type": "code",
   "execution_count": 71,
   "id": "3d40b44c",
   "metadata": {
    "ExecuteTime": {
     "end_time": "2022-07-22T13:29:06.171208Z",
     "start_time": "2022-07-22T13:29:06.150603Z"
    },
    "hidden": true
   },
   "outputs": [],
   "source": [
    "#Nouveau jeu de donnée\n",
    "X_parent = parent_df.drop('churn_risk',axis=1).copy()\n",
    "y_parent = parent_df['churn_risk'].copy()"
   ]
  },
  {
   "cell_type": "code",
   "execution_count": 72,
   "id": "3f7c5254",
   "metadata": {
    "ExecuteTime": {
     "end_time": "2022-07-22T13:29:12.798522Z",
     "start_time": "2022-07-22T13:29:12.774162Z"
    },
    "hidden": true
   },
   "outputs": [],
   "source": [
    "X_train_parent, X_test_parent, y_train_parent, y_test_parent = train_test_split(X_parent, y_parent, test_size=0.30)"
   ]
  },
  {
   "cell_type": "code",
   "execution_count": 74,
   "id": "82aac18a",
   "metadata": {
    "ExecuteTime": {
     "end_time": "2022-07-22T13:30:25.576514Z",
     "start_time": "2022-07-22T13:30:23.732654Z"
    },
    "hidden": true
   },
   "outputs": [
    {
     "name": "stdout",
     "output_type": "stream",
     "text": [
      "Fitting 5 folds for each of 1 candidates, totalling 5 fits\n"
     ]
    },
    {
     "name": "stderr",
     "output_type": "stream",
     "text": [
      "/Users/antonin/.pyenv/versions/3.8.13/envs/marbotic/lib/python3.8/site-packages/sklearn/feature_selection/_univariate_selection.py:112: UserWarning: Features [68] are constant.\n",
      "  warnings.warn(\"Features %s are constant.\" % constant_features_idx, UserWarning)\n",
      "/Users/antonin/.pyenv/versions/3.8.13/envs/marbotic/lib/python3.8/site-packages/sklearn/feature_selection/_univariate_selection.py:113: RuntimeWarning: invalid value encountered in true_divide\n",
      "  f = msb / msw\n",
      "/Users/antonin/.pyenv/versions/3.8.13/envs/marbotic/lib/python3.8/site-packages/sklearn/feature_selection/_univariate_selection.py:112: UserWarning: Features [68] are constant.\n",
      "  warnings.warn(\"Features %s are constant.\" % constant_features_idx, UserWarning)\n",
      "/Users/antonin/.pyenv/versions/3.8.13/envs/marbotic/lib/python3.8/site-packages/sklearn/feature_selection/_univariate_selection.py:113: RuntimeWarning: invalid value encountered in true_divide\n",
      "  f = msb / msw\n",
      "/Users/antonin/.pyenv/versions/3.8.13/envs/marbotic/lib/python3.8/site-packages/sklearn/feature_selection/_univariate_selection.py:112: UserWarning: Features [68] are constant.\n",
      "  warnings.warn(\"Features %s are constant.\" % constant_features_idx, UserWarning)\n",
      "/Users/antonin/.pyenv/versions/3.8.13/envs/marbotic/lib/python3.8/site-packages/sklearn/feature_selection/_univariate_selection.py:113: RuntimeWarning: invalid value encountered in true_divide\n",
      "  f = msb / msw\n",
      "/Users/antonin/.pyenv/versions/3.8.13/envs/marbotic/lib/python3.8/site-packages/sklearn/feature_selection/_univariate_selection.py:112: UserWarning: Features [68] are constant.\n",
      "  warnings.warn(\"Features %s are constant.\" % constant_features_idx, UserWarning)\n",
      "/Users/antonin/.pyenv/versions/3.8.13/envs/marbotic/lib/python3.8/site-packages/sklearn/feature_selection/_univariate_selection.py:113: RuntimeWarning: invalid value encountered in true_divide\n",
      "  f = msb / msw\n",
      "/Users/antonin/.pyenv/versions/3.8.13/envs/marbotic/lib/python3.8/site-packages/sklearn/feature_selection/_univariate_selection.py:112: UserWarning: Features [68] are constant.\n",
      "  warnings.warn(\"Features %s are constant.\" % constant_features_idx, UserWarning)\n",
      "/Users/antonin/.pyenv/versions/3.8.13/envs/marbotic/lib/python3.8/site-packages/sklearn/feature_selection/_univariate_selection.py:113: RuntimeWarning: invalid value encountered in true_divide\n",
      "  f = msb / msw\n",
      "/Users/antonin/.pyenv/versions/3.8.13/envs/marbotic/lib/python3.8/site-packages/sklearn/feature_selection/_univariate_selection.py:112: UserWarning: Features [68] are constant.\n",
      "  warnings.warn(\"Features %s are constant.\" % constant_features_idx, UserWarning)\n",
      "/Users/antonin/.pyenv/versions/3.8.13/envs/marbotic/lib/python3.8/site-packages/sklearn/feature_selection/_univariate_selection.py:113: RuntimeWarning: invalid value encountered in true_divide\n",
      "  f = msb / msw\n"
     ]
    },
    {
     "data": {
      "text/html": [
       "<style>#sk-container-id-3 {color: black;background-color: white;}#sk-container-id-3 pre{padding: 0;}#sk-container-id-3 div.sk-toggleable {background-color: white;}#sk-container-id-3 label.sk-toggleable__label {cursor: pointer;display: block;width: 100%;margin-bottom: 0;padding: 0.3em;box-sizing: border-box;text-align: center;}#sk-container-id-3 label.sk-toggleable__label-arrow:before {content: \"▸\";float: left;margin-right: 0.25em;color: #696969;}#sk-container-id-3 label.sk-toggleable__label-arrow:hover:before {color: black;}#sk-container-id-3 div.sk-estimator:hover label.sk-toggleable__label-arrow:before {color: black;}#sk-container-id-3 div.sk-toggleable__content {max-height: 0;max-width: 0;overflow: hidden;text-align: left;background-color: #f0f8ff;}#sk-container-id-3 div.sk-toggleable__content pre {margin: 0.2em;color: black;border-radius: 0.25em;background-color: #f0f8ff;}#sk-container-id-3 input.sk-toggleable__control:checked~div.sk-toggleable__content {max-height: 200px;max-width: 100%;overflow: auto;}#sk-container-id-3 input.sk-toggleable__control:checked~label.sk-toggleable__label-arrow:before {content: \"▾\";}#sk-container-id-3 div.sk-estimator input.sk-toggleable__control:checked~label.sk-toggleable__label {background-color: #d4ebff;}#sk-container-id-3 div.sk-label input.sk-toggleable__control:checked~label.sk-toggleable__label {background-color: #d4ebff;}#sk-container-id-3 input.sk-hidden--visually {border: 0;clip: rect(1px 1px 1px 1px);clip: rect(1px, 1px, 1px, 1px);height: 1px;margin: -1px;overflow: hidden;padding: 0;position: absolute;width: 1px;}#sk-container-id-3 div.sk-estimator {font-family: monospace;background-color: #f0f8ff;border: 1px dotted black;border-radius: 0.25em;box-sizing: border-box;margin-bottom: 0.5em;}#sk-container-id-3 div.sk-estimator:hover {background-color: #d4ebff;}#sk-container-id-3 div.sk-parallel-item::after {content: \"\";width: 100%;border-bottom: 1px solid gray;flex-grow: 1;}#sk-container-id-3 div.sk-label:hover label.sk-toggleable__label {background-color: #d4ebff;}#sk-container-id-3 div.sk-serial::before {content: \"\";position: absolute;border-left: 1px solid gray;box-sizing: border-box;top: 0;bottom: 0;left: 50%;z-index: 0;}#sk-container-id-3 div.sk-serial {display: flex;flex-direction: column;align-items: center;background-color: white;padding-right: 0.2em;padding-left: 0.2em;position: relative;}#sk-container-id-3 div.sk-item {position: relative;z-index: 1;}#sk-container-id-3 div.sk-parallel {display: flex;align-items: stretch;justify-content: center;background-color: white;position: relative;}#sk-container-id-3 div.sk-item::before, #sk-container-id-3 div.sk-parallel-item::before {content: \"\";position: absolute;border-left: 1px solid gray;box-sizing: border-box;top: 0;bottom: 0;left: 50%;z-index: -1;}#sk-container-id-3 div.sk-parallel-item {display: flex;flex-direction: column;z-index: 1;position: relative;background-color: white;}#sk-container-id-3 div.sk-parallel-item:first-child::after {align-self: flex-end;width: 50%;}#sk-container-id-3 div.sk-parallel-item:last-child::after {align-self: flex-start;width: 50%;}#sk-container-id-3 div.sk-parallel-item:only-child::after {width: 0;}#sk-container-id-3 div.sk-dashed-wrapped {border: 1px dashed gray;margin: 0 0.4em 0.5em 0.4em;box-sizing: border-box;padding-bottom: 0.4em;background-color: white;}#sk-container-id-3 div.sk-label label {font-family: monospace;font-weight: bold;display: inline-block;line-height: 1.2em;}#sk-container-id-3 div.sk-label-container {text-align: center;}#sk-container-id-3 div.sk-container {/* jupyter's `normalize.less` sets `[hidden] { display: none; }` but bootstrap.min.css set `[hidden] { display: none !important; }` so we also need the `!important` here to be able to override the default hidden behavior on the sphinx rendered scikit-learn.org. See: https://github.com/scikit-learn/scikit-learn/issues/21755 */display: inline-block !important;position: relative;}#sk-container-id-3 div.sk-text-repr-fallback {display: none;}</style><div id=\"sk-container-id-3\" class=\"sk-top-container\"><div class=\"sk-text-repr-fallback\"><pre>GridSearchCV(cv=5,\n",
       "             estimator=Pipeline(steps=[(&#x27;prep&#x27;,\n",
       "                                        CustomColumnTransformer(transformers=[(&#x27;num_tr&#x27;,\n",
       "                                                                               CustomMinMaxScale(),\n",
       "                                                                               Index([&#x27;event_type_Account_Sign_In&#x27;, &#x27;event_type_Account_Sign_Out&#x27;,\n",
       "       &#x27;event_type_Account_Sign_Up&#x27;, &#x27;event_type_Account_Update_Request&#x27;,\n",
       "       &#x27;event_type_Account_Update_Success&#x27;, &#x27;event_type_Action_Click&#x27;,\n",
       "       &#x27;event_type_Action_ConversionClickRed...\n",
       "                                                                               Cyclical_day_Encoder(),\n",
       "                                                                               Index([&#x27;session_start_day&#x27;], dtype=&#x27;object&#x27;))])),\n",
       "                                       (&#x27;feat_selec&#x27;,\n",
       "                                        CustomSelectPercentile(percentile=50)),\n",
       "                                       (&#x27;RF&#x27;,\n",
       "                                        BalancedRandomForestClassifier())]),\n",
       "             param_grid={&#x27;RF__class_weight&#x27;: [&#x27;balanced&#x27;],\n",
       "                         &#x27;RF__max_depth&#x27;: [60], &#x27;RF__max_samples&#x27;: [0.75],\n",
       "                         &#x27;RF__min_samples_split&#x27;: [20],\n",
       "                         &#x27;RF__n_estimators&#x27;: [60], &#x27;RF__n_jobs&#x27;: [-1]},\n",
       "             scoring=&#x27;recall&#x27;, verbose=1)</pre><b>In a Jupyter environment, please rerun this cell to show the HTML representation or trust the notebook. <br />On GitHub, the HTML representation is unable to render, please try loading this page with nbviewer.org.</b></div><div class=\"sk-container\" hidden><div class=\"sk-item sk-dashed-wrapped\"><div class=\"sk-label-container\"><div class=\"sk-label sk-toggleable\"><input class=\"sk-toggleable__control sk-hidden--visually\" id=\"sk-estimator-id-26\" type=\"checkbox\" ><label for=\"sk-estimator-id-26\" class=\"sk-toggleable__label sk-toggleable__label-arrow\">GridSearchCV</label><div class=\"sk-toggleable__content\"><pre>GridSearchCV(cv=5,\n",
       "             estimator=Pipeline(steps=[(&#x27;prep&#x27;,\n",
       "                                        CustomColumnTransformer(transformers=[(&#x27;num_tr&#x27;,\n",
       "                                                                               CustomMinMaxScale(),\n",
       "                                                                               Index([&#x27;event_type_Account_Sign_In&#x27;, &#x27;event_type_Account_Sign_Out&#x27;,\n",
       "       &#x27;event_type_Account_Sign_Up&#x27;, &#x27;event_type_Account_Update_Request&#x27;,\n",
       "       &#x27;event_type_Account_Update_Success&#x27;, &#x27;event_type_Action_Click&#x27;,\n",
       "       &#x27;event_type_Action_ConversionClickRed...\n",
       "                                                                               Cyclical_day_Encoder(),\n",
       "                                                                               Index([&#x27;session_start_day&#x27;], dtype=&#x27;object&#x27;))])),\n",
       "                                       (&#x27;feat_selec&#x27;,\n",
       "                                        CustomSelectPercentile(percentile=50)),\n",
       "                                       (&#x27;RF&#x27;,\n",
       "                                        BalancedRandomForestClassifier())]),\n",
       "             param_grid={&#x27;RF__class_weight&#x27;: [&#x27;balanced&#x27;],\n",
       "                         &#x27;RF__max_depth&#x27;: [60], &#x27;RF__max_samples&#x27;: [0.75],\n",
       "                         &#x27;RF__min_samples_split&#x27;: [20],\n",
       "                         &#x27;RF__n_estimators&#x27;: [60], &#x27;RF__n_jobs&#x27;: [-1]},\n",
       "             scoring=&#x27;recall&#x27;, verbose=1)</pre></div></div></div><div class=\"sk-parallel\"><div class=\"sk-parallel-item\"><div class=\"sk-item\"><div class=\"sk-label-container\"><div class=\"sk-label sk-toggleable\"><input class=\"sk-toggleable__control sk-hidden--visually\" id=\"sk-estimator-id-27\" type=\"checkbox\" ><label for=\"sk-estimator-id-27\" class=\"sk-toggleable__label sk-toggleable__label-arrow\">estimator: Pipeline</label><div class=\"sk-toggleable__content\"><pre>Pipeline(steps=[(&#x27;prep&#x27;,\n",
       "                 CustomColumnTransformer(transformers=[(&#x27;num_tr&#x27;,\n",
       "                                                        CustomMinMaxScale(),\n",
       "                                                        Index([&#x27;event_type_Account_Sign_In&#x27;, &#x27;event_type_Account_Sign_Out&#x27;,\n",
       "       &#x27;event_type_Account_Sign_Up&#x27;, &#x27;event_type_Account_Update_Request&#x27;,\n",
       "       &#x27;event_type_Account_Update_Success&#x27;, &#x27;event_type_Action_Click&#x27;,\n",
       "       &#x27;event_type_Action_ConversionClickRedeem&#x27;,\n",
       "       &#x27;event_type_Action_Conv...\n",
       "                                                        CustomOHE(drop=&#x27;if_binary&#x27;,\n",
       "                                                                  handle_unknown=&#x27;ignore&#x27;,\n",
       "                                                                  sparse=False),\n",
       "                                                        Index([&#x27;Type&#x27;], dtype=&#x27;object&#x27;)),\n",
       "                                                       (&#x27;month_tr&#x27;,\n",
       "                                                        Cyclical_month_Encoder(),\n",
       "                                                        Index([&#x27;session_start_month&#x27;], dtype=&#x27;object&#x27;)),\n",
       "                                                       (&#x27;day_tr&#x27;,\n",
       "                                                        Cyclical_day_Encoder(),\n",
       "                                                        Index([&#x27;session_start_day&#x27;], dtype=&#x27;object&#x27;))])),\n",
       "                (&#x27;feat_selec&#x27;, CustomSelectPercentile(percentile=50)),\n",
       "                (&#x27;RF&#x27;, BalancedRandomForestClassifier())])</pre></div></div></div><div class=\"sk-serial\"><div class=\"sk-item\"><div class=\"sk-serial\"><div class=\"sk-item sk-dashed-wrapped\"><div class=\"sk-label-container\"><div class=\"sk-label sk-toggleable\"><input class=\"sk-toggleable__control sk-hidden--visually\" id=\"sk-estimator-id-28\" type=\"checkbox\" ><label for=\"sk-estimator-id-28\" class=\"sk-toggleable__label sk-toggleable__label-arrow\">prep: CustomColumnTransformer</label><div class=\"sk-toggleable__content\"><pre>CustomColumnTransformer(transformers=[(&#x27;num_tr&#x27;, CustomMinMaxScale(),\n",
       "                                       Index([&#x27;event_type_Account_Sign_In&#x27;, &#x27;event_type_Account_Sign_Out&#x27;,\n",
       "       &#x27;event_type_Account_Sign_Up&#x27;, &#x27;event_type_Account_Update_Request&#x27;,\n",
       "       &#x27;event_type_Account_Update_Success&#x27;, &#x27;event_type_Action_Click&#x27;,\n",
       "       &#x27;event_type_Action_ConversionClickRedeem&#x27;,\n",
       "       &#x27;event_type_Action_ConversionClickSubscribe&#x27;,\n",
       "       &#x27;e...\n",
       "       &#x27;time_since_last_session_min&#x27;, &#x27;week_maturity&#x27;, &#x27;session_start_day&#x27;,\n",
       "       &#x27;session_start_month&#x27;],\n",
       "      dtype=&#x27;object&#x27;)),\n",
       "                                      (&#x27;cat_tr&#x27;,\n",
       "                                       CustomOHE(drop=&#x27;if_binary&#x27;,\n",
       "                                                 handle_unknown=&#x27;ignore&#x27;,\n",
       "                                                 sparse=False),\n",
       "                                       Index([&#x27;Type&#x27;], dtype=&#x27;object&#x27;)),\n",
       "                                      (&#x27;month_tr&#x27;, Cyclical_month_Encoder(),\n",
       "                                       Index([&#x27;session_start_month&#x27;], dtype=&#x27;object&#x27;)),\n",
       "                                      (&#x27;day_tr&#x27;, Cyclical_day_Encoder(),\n",
       "                                       Index([&#x27;session_start_day&#x27;], dtype=&#x27;object&#x27;))])</pre></div></div></div><div class=\"sk-parallel\"><div class=\"sk-parallel-item\"><div class=\"sk-item\"><div class=\"sk-label-container\"><div class=\"sk-label sk-toggleable\"><input class=\"sk-toggleable__control sk-hidden--visually\" id=\"sk-estimator-id-29\" type=\"checkbox\" ><label for=\"sk-estimator-id-29\" class=\"sk-toggleable__label sk-toggleable__label-arrow\">num_tr</label><div class=\"sk-toggleable__content\"><pre>Index([&#x27;event_type_Account_Sign_In&#x27;, &#x27;event_type_Account_Sign_Out&#x27;,\n",
       "       &#x27;event_type_Account_Sign_Up&#x27;, &#x27;event_type_Account_Update_Request&#x27;,\n",
       "       &#x27;event_type_Account_Update_Success&#x27;, &#x27;event_type_Action_Click&#x27;,\n",
       "       &#x27;event_type_Action_ConversionClickRedeem&#x27;,\n",
       "       &#x27;event_type_Action_ConversionClickSubscribe&#x27;,\n",
       "       &#x27;event_type_Activation_Game&#x27;, &#x27;event_type_Activation_New_Activation&#x27;,\n",
       "       &#x27;event_type_Activation_Piece&#x27;, &#x27;event_type_Activation_Product&#x27;,\n",
       "       &#x27;event_type_Activity_Good_Answer&#x27;, &#x27;event_type_Activity_Start&#x27;,\n",
       "       &#x27;event_type_Activity_Stop&#x27;, &#x27;event_type_Activity_Wrong_Answer&#x27;,\n",
       "       &#x27;event_type_Error_Error&#x27;, &#x27;event_type_Game_Pause&#x27;,\n",
       "       &#x27;event_type_Game_Start&#x27;, &#x27;event_type_Game_Stop&#x27;,\n",
       "       &#x27;event_type_OB_ClickStore&#x27;, &#x27;event_type_OB_ClickTrial&#x27;,\n",
       "       &#x27;event_type_OB_CommPreview&#x27;, &#x27;event_type_OB_DiscoverTrial&#x27;,\n",
       "       &#x27;event_type_OB_DoYouHaveKit&#x27;, &#x27;event_type_OB_Email&#x27;,\n",
       "       &#x27;event_type_OB_HasKeyNo&#x27;, &#x27;event_type_OB_HasKitNo&#x27;,\n",
       "       &#x27;event_type_OB_HasKitYes&#x27;, &#x27;event_type_OB_KeyFail&#x27;,\n",
       "       &#x27;event_type_OB_KeyRedeem&#x27;, &#x27;event_type_OB_KeySuccess&#x27;,\n",
       "       &#x27;event_type_OB_ProductActivation&#x27;, &#x27;event_type_OB_ProductOther&#x27;,\n",
       "       &#x27;event_type_OB_ProductSK&#x27;, &#x27;event_type_OB_ProductSeeMore&#x27;,\n",
       "       &#x27;event_type_OB_ProductSelection&#x27;, &#x27;event_type_OB_ProfileBirthdate&#x27;,\n",
       "       &#x27;event_type_OB_RenewalFail&#x27;, &#x27;event_type_OB_RenewalSelection&#x27;,\n",
       "       &#x27;event_type_OB_RenewalSuccess&#x27;, &#x27;event_type_OB_Success&#x27;,\n",
       "       &#x27;event_type_OB_TrialStart&#x27;, &#x27;event_type_OB_Type&#x27;,\n",
       "       &#x27;event_type_OB_VerifCode&#x27;, &#x27;event_type_Popup_Close&#x27;,\n",
       "       &#x27;event_type_Popup_Open&#x27;, &#x27;event_type_Profile_Create&#x27;,\n",
       "       &#x27;event_type_Profile_Delete&#x27;,\n",
       "       &#x27;event_type_Profile_Reset_Settings_and_Progression&#x27;,\n",
       "       &#x27;event_type_Profile_Update&#x27;, &#x27;event_type_Scaffolding_Reset&#x27;,\n",
       "       &#x27;event_type_Scaffolding_Scaffolding&#x27;, &#x27;event_type_Scene_Enter&#x27;,\n",
       "       &#x27;event_type_Scene_Leave&#x27;, &#x27;event_type_Toast_Appear&#x27;, &#x27;game_events&#x27;,\n",
       "       &#x27;setup_events&#x27;, &#x27;unique_activity&#x27;, &#x27;Time_Spent&#x27;, &#x27;Profile_Age_days&#x27;,\n",
       "       &#x27;good_answer_ratio&#x27;, &#x27;duration_min&#x27;, &#x27;previous_session&#x27;,\n",
       "       &#x27;time_since_last_session_min&#x27;, &#x27;week_maturity&#x27;, &#x27;session_start_day&#x27;,\n",
       "       &#x27;session_start_month&#x27;],\n",
       "      dtype=&#x27;object&#x27;)</pre></div></div></div><div class=\"sk-serial\"><div class=\"sk-item\"><div class=\"sk-estimator sk-toggleable\"><input class=\"sk-toggleable__control sk-hidden--visually\" id=\"sk-estimator-id-30\" type=\"checkbox\" ><label for=\"sk-estimator-id-30\" class=\"sk-toggleable__label sk-toggleable__label-arrow\">CustomMinMaxScale</label><div class=\"sk-toggleable__content\"><pre>CustomMinMaxScale()</pre></div></div></div></div></div></div><div class=\"sk-parallel-item\"><div class=\"sk-item\"><div class=\"sk-label-container\"><div class=\"sk-label sk-toggleable\"><input class=\"sk-toggleable__control sk-hidden--visually\" id=\"sk-estimator-id-31\" type=\"checkbox\" ><label for=\"sk-estimator-id-31\" class=\"sk-toggleable__label sk-toggleable__label-arrow\">cat_tr</label><div class=\"sk-toggleable__content\"><pre>Index([&#x27;Type&#x27;], dtype=&#x27;object&#x27;)</pre></div></div></div><div class=\"sk-serial\"><div class=\"sk-item\"><div class=\"sk-estimator sk-toggleable\"><input class=\"sk-toggleable__control sk-hidden--visually\" id=\"sk-estimator-id-32\" type=\"checkbox\" ><label for=\"sk-estimator-id-32\" class=\"sk-toggleable__label sk-toggleable__label-arrow\">CustomOHE</label><div class=\"sk-toggleable__content\"><pre>CustomOHE(drop=&#x27;if_binary&#x27;, handle_unknown=&#x27;ignore&#x27;, sparse=False)</pre></div></div></div></div></div></div><div class=\"sk-parallel-item\"><div class=\"sk-item\"><div class=\"sk-label-container\"><div class=\"sk-label sk-toggleable\"><input class=\"sk-toggleable__control sk-hidden--visually\" id=\"sk-estimator-id-33\" type=\"checkbox\" ><label for=\"sk-estimator-id-33\" class=\"sk-toggleable__label sk-toggleable__label-arrow\">month_tr</label><div class=\"sk-toggleable__content\"><pre>Index([&#x27;session_start_month&#x27;], dtype=&#x27;object&#x27;)</pre></div></div></div><div class=\"sk-serial\"><div class=\"sk-item\"><div class=\"sk-estimator sk-toggleable\"><input class=\"sk-toggleable__control sk-hidden--visually\" id=\"sk-estimator-id-34\" type=\"checkbox\" ><label for=\"sk-estimator-id-34\" class=\"sk-toggleable__label sk-toggleable__label-arrow\">Cyclical_month_Encoder</label><div class=\"sk-toggleable__content\"><pre>Cyclical_month_Encoder()</pre></div></div></div></div></div></div><div class=\"sk-parallel-item\"><div class=\"sk-item\"><div class=\"sk-label-container\"><div class=\"sk-label sk-toggleable\"><input class=\"sk-toggleable__control sk-hidden--visually\" id=\"sk-estimator-id-35\" type=\"checkbox\" ><label for=\"sk-estimator-id-35\" class=\"sk-toggleable__label sk-toggleable__label-arrow\">day_tr</label><div class=\"sk-toggleable__content\"><pre>Index([&#x27;session_start_day&#x27;], dtype=&#x27;object&#x27;)</pre></div></div></div><div class=\"sk-serial\"><div class=\"sk-item\"><div class=\"sk-estimator sk-toggleable\"><input class=\"sk-toggleable__control sk-hidden--visually\" id=\"sk-estimator-id-36\" type=\"checkbox\" ><label for=\"sk-estimator-id-36\" class=\"sk-toggleable__label sk-toggleable__label-arrow\">Cyclical_day_Encoder</label><div class=\"sk-toggleable__content\"><pre>Cyclical_day_Encoder()</pre></div></div></div></div></div></div></div></div><div class=\"sk-item\"><div class=\"sk-estimator sk-toggleable\"><input class=\"sk-toggleable__control sk-hidden--visually\" id=\"sk-estimator-id-37\" type=\"checkbox\" ><label for=\"sk-estimator-id-37\" class=\"sk-toggleable__label sk-toggleable__label-arrow\">CustomSelectPercentile</label><div class=\"sk-toggleable__content\"><pre>CustomSelectPercentile(percentile=50)</pre></div></div></div><div class=\"sk-item\"><div class=\"sk-estimator sk-toggleable\"><input class=\"sk-toggleable__control sk-hidden--visually\" id=\"sk-estimator-id-38\" type=\"checkbox\" ><label for=\"sk-estimator-id-38\" class=\"sk-toggleable__label sk-toggleable__label-arrow\">BalancedRandomForestClassifier</label><div class=\"sk-toggleable__content\"><pre>BalancedRandomForestClassifier()</pre></div></div></div></div></div></div></div></div></div></div></div></div>"
      ],
      "text/plain": [
       "GridSearchCV(cv=5,\n",
       "             estimator=Pipeline(steps=[('prep',\n",
       "                                        CustomColumnTransformer(transformers=[('num_tr',\n",
       "                                                                               CustomMinMaxScale(),\n",
       "                                                                               Index(['event_type_Account_Sign_In', 'event_type_Account_Sign_Out',\n",
       "       'event_type_Account_Sign_Up', 'event_type_Account_Update_Request',\n",
       "       'event_type_Account_Update_Success', 'event_type_Action_Click',\n",
       "       'event_type_Action_ConversionClickRed...\n",
       "                                                                               Cyclical_day_Encoder(),\n",
       "                                                                               Index(['session_start_day'], dtype='object'))])),\n",
       "                                       ('feat_selec',\n",
       "                                        CustomSelectPercentile(percentile=50)),\n",
       "                                       ('RF',\n",
       "                                        BalancedRandomForestClassifier())]),\n",
       "             param_grid={'RF__class_weight': ['balanced'],\n",
       "                         'RF__max_depth': [60], 'RF__max_samples': [0.75],\n",
       "                         'RF__min_samples_split': [20],\n",
       "                         'RF__n_estimators': [60], 'RF__n_jobs': [-1]},\n",
       "             scoring='recall', verbose=1)"
      ]
     },
     "execution_count": 74,
     "metadata": {},
     "output_type": "execute_result"
    }
   ],
   "source": [
    "#On refait un gridsearch sur ce jeu de donnée pour adapter les paramètres\n",
    "grid_search.fit(X_train_parent, y_train_parent)"
   ]
  },
  {
   "cell_type": "code",
   "execution_count": 75,
   "id": "1cad0025",
   "metadata": {
    "ExecuteTime": {
     "end_time": "2022-07-22T13:30:39.865451Z",
     "start_time": "2022-07-22T13:30:39.861258Z"
    },
    "hidden": true
   },
   "outputs": [],
   "source": [
    "#On selectionne le meilleur modèle\n",
    "best_search_parent = grid_search.best_estimator_"
   ]
  },
  {
   "cell_type": "code",
   "execution_count": 76,
   "id": "ae95c99e",
   "metadata": {
    "ExecuteTime": {
     "end_time": "2022-07-22T13:30:51.884972Z",
     "start_time": "2022-07-22T13:30:51.822634Z"
    },
    "hidden": true
   },
   "outputs": [],
   "source": [
    "y_pred_parent_stacked = best_search_parent.predict(X_test_parent)"
   ]
  },
  {
   "cell_type": "code",
   "execution_count": 77,
   "id": "c7976775",
   "metadata": {
    "ExecuteTime": {
     "end_time": "2022-07-22T13:31:19.169449Z",
     "start_time": "2022-07-22T13:31:19.143857Z"
    },
    "hidden": true
   },
   "outputs": [
    {
     "name": "stdout",
     "output_type": "stream",
     "text": [
      "              precision    recall  f1-score   support\n",
      "\n",
      "    classe 0       0.98      0.46      0.62      3974\n",
      "    Classe 1       0.21      0.93      0.34       599\n",
      "\n",
      "    accuracy                           0.52      4573\n",
      "   macro avg       0.59      0.70      0.48      4573\n",
      "weighted avg       0.88      0.52      0.58      4573\n",
      "\n"
     ]
    }
   ],
   "source": [
    "#Evaluation\n",
    "print(classification_report(y_test_parent,y_pred_parent_stacked,target_names=target_names))"
   ]
  },
  {
   "cell_type": "code",
   "execution_count": null,
   "id": "7df58899",
   "metadata": {
    "hidden": true
   },
   "outputs": [],
   "source": []
  }
 ],
 "metadata": {
  "kernelspec": {
   "display_name": "Python 3 (ipykernel)",
   "language": "python",
   "name": "python3"
  },
  "language_info": {
   "codemirror_mode": {
    "name": "ipython",
    "version": 3
   },
   "file_extension": ".py",
   "mimetype": "text/x-python",
   "name": "python",
   "nbconvert_exporter": "python",
   "pygments_lexer": "ipython3",
   "version": "3.8.13"
  },
  "toc": {
   "base_numbering": 1,
   "nav_menu": {},
   "number_sections": true,
   "sideBar": true,
   "skip_h1_title": false,
   "title_cell": "Table of Contents",
   "title_sidebar": "Contents",
   "toc_cell": false,
   "toc_position": {},
   "toc_section_display": true,
   "toc_window_display": false
  }
 },
 "nbformat": 4,
 "nbformat_minor": 5
}
