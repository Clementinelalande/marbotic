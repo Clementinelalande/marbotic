{
 "cells": [
  {
   "cell_type": "code",
   "execution_count": 20,
   "id": "6aa0e4ba",
   "metadata": {
    "ExecuteTime": {
     "end_time": "2022-06-08T14:59:17.966875Z",
     "start_time": "2022-06-08T14:59:17.961003Z"
    }
   },
   "outputs": [],
   "source": [
    "import pandas as pd\n",
    "import numpy as np\n",
    "import json\n",
    "from google.cloud import bigquery"
   ]
  },
  {
   "cell_type": "code",
   "execution_count": 21,
   "id": "19e7b577",
   "metadata": {
    "ExecuteTime": {
     "end_time": "2022-06-08T14:59:19.868033Z",
     "start_time": "2022-06-08T14:59:19.863788Z"
    }
   },
   "outputs": [],
   "source": [
    "#conversion du fichier json en json line delimiter pour utiliser pd.read_json avec une chunk size. (Nombre de ligne processée en une fois)\n",
    "#!cat ../raw_data/export_23-5_minified.json | jq -c '.[]' > ../raw_data/export_converted_2.json"
   ]
  },
  {
   "cell_type": "code",
   "execution_count": 22,
   "id": "30e9d77a",
   "metadata": {
    "ExecuteTime": {
     "end_time": "2022-06-08T14:59:20.088524Z",
     "start_time": "2022-06-08T14:59:20.084719Z"
    }
   },
   "outputs": [],
   "source": [
    "#Nombre de lignes totales dans le JSON : 1320229"
   ]
  },
  {
   "cell_type": "code",
   "execution_count": 23,
   "id": "c15a5d18",
   "metadata": {
    "ExecuteTime": {
     "end_time": "2022-06-08T14:59:20.223435Z",
     "start_time": "2022-06-08T14:59:20.217657Z"
    }
   },
   "outputs": [],
   "source": [
    "#Localisation du projet name et table_id sur gcp\n",
    "project=\"marbotic\"\n",
    "table_id = \"marbotic_dataset.event_properties\""
   ]
  },
  {
   "cell_type": "code",
   "execution_count": 24,
   "id": "1565e601",
   "metadata": {
    "ExecuteTime": {
     "end_time": "2022-06-08T14:59:20.395039Z",
     "start_time": "2022-06-08T14:59:20.385071Z"
    }
   },
   "outputs": [],
   "source": [
    "#intégration des credentials \n",
    "from google.oauth2 import service_account\n",
    "\n",
    "key_path = \"/Users/antonin/code/AntoninAnq/gcp/marbotic-7d02fac30bd8.json\"\n",
    "\n",
    "credentials = service_account.Credentials.from_service_account_file(\n",
    "    key_path, scopes=[\"https://www.googleapis.com/auth/cloud-platform\"],\n",
    ")"
   ]
  },
  {
   "cell_type": "code",
   "execution_count": 100,
   "id": "21c273f4",
   "metadata": {
    "ExecuteTime": {
     "end_time": "2022-06-08T16:24:20.491469Z",
     "start_time": "2022-06-08T16:24:20.286881Z"
    }
   },
   "outputs": [
    {
     "name": "stderr",
     "output_type": "stream",
     "text": [
      "/var/folders/c7/kdqvz76x679f28lhd235r_v40000gn/T/ipykernel_77953/1140557078.py:2: DtypeWarning: Columns (24) have mixed types. Specify dtype option on import or set low_memory=False.\n",
      "  tmp = pd.read_csv('../raw_data/event_properties.csv')\n"
     ]
    },
    {
     "data": {
      "text/plain": [
       "EB1U    5\n",
       "PAU     2\n",
       "PWMU    1\n",
       "Name: Key_Type, dtype: int64"
      ]
     },
     "execution_count": 100,
     "metadata": {},
     "output_type": "execute_result"
    }
   ],
   "source": [
    "# Observation de la colonne Games, on a des listes de jeu. Sur le chunk de 100K on a 158 combinaisons différentes\n",
    "tmp = pd.read_csv('../raw_data/event_properties.csv')\n",
    "tmp['Key_Type'].value_counts()"
   ]
  },
  {
   "cell_type": "code",
   "execution_count": 99,
   "id": "b3947791",
   "metadata": {
    "ExecuteTime": {
     "end_time": "2022-06-08T16:24:08.169995Z",
     "start_time": "2022-06-08T16:24:08.161129Z"
    }
   },
   "outputs": [
    {
     "data": {
      "text/plain": [
       "Index(['Game_Code', 'Time_Spent', 'Scene_Name', 'Profile_Age_days',\n",
       "       'Game_Language', 'Scene_Next', 'Scene_Section', 'Scene_Previous',\n",
       "       'Activity_Name', 'Scaffolding_Level', 'Action_Element_Type',\n",
       "       'Action_Element_Name', 'Activity_Piece_Stamped', 'Activity_Piece_Asked',\n",
       "       'Game_Piece_Code', 'Activity_Modality', 'Activity_Nb_Wrong_Answer',\n",
       "       'Activity_Solved', 'Time_Slot', 'Error_Type', 'Popup_Name',\n",
       "       'Activation_Product_Code', 'Activation_Piece_Code',\n",
       "       'Activation_Game_Code', 'Key_Type', 'event_id', 'id'],\n",
       "      dtype='object')"
      ]
     },
     "execution_count": 99,
     "metadata": {},
     "output_type": "execute_result"
    }
   ],
   "source": [
    "tmp.columns"
   ]
  },
  {
   "cell_type": "code",
   "execution_count": 102,
   "id": "831c19b5",
   "metadata": {
    "ExecuteTime": {
     "end_time": "2022-06-08T16:27:29.054693Z",
     "start_time": "2022-06-08T16:27:29.042104Z"
    }
   },
   "outputs": [],
   "source": [
    "columns_rename = {'[Game] Code':'Game_Code','[Profile] Age (days)':'Profile_Age_days','[Scene] Name':'Scene_Name',\n",
    "                 '[Game] Language':'Game_Language', '[Scene] Previous':'Scene_Previous', '[Time] Spent':'Time_Spent',\n",
    "                  '[Scene] Next':'Scene_Next', '[Action] Element Type':'Action_Element_Type',\n",
    "                  '[Scene] Section':'Scene_Section', '[Action] Element Name':'Action_Element_Name',\n",
    "                 '[Activity] Name':'Activity_Name', '[Scaffolding] Level':'Scaffolding_Level',\n",
    "                  '[Game] Piece Code':'Game_Piece_Code','[Activity] Nb Wrong Answer':'Activity_Nb_Wrong_Answer',\n",
    "                  '[Activity] Solved':'Activity_Solved','[Activity] Piece Stamped':'Activity_Piece_Stamped',\n",
    "                  '[Activity] Piece Asked':'Activity_Piece_Asked','[Activity] Modality':'Activity_Modality',\n",
    "                  '[Time] Slot':'Time_Slot', '[Error] Type':'Error_Type',\n",
    "                  '[Activation] Game Code':'Activation_Game_Code',\n",
    "                  '[Activation] Product Code':'Activation_Product_Code',\n",
    "                 '[Activation] Piece Code':'Activation_Piece_Code', '[Popup] Name':'Popup_Name',\n",
    "                  '[Renewal] Type':'Renewal_Type','[Key] Type':'Key_Type','[Toast] Name':'Toast_Name'}"
   ]
  },
  {
   "cell_type": "code",
   "execution_count": 106,
   "id": "ae0f1dbc",
   "metadata": {
    "ExecuteTime": {
     "end_time": "2022-06-08T16:37:01.575861Z",
     "start_time": "2022-06-08T16:34:12.617908Z"
    }
   },
   "outputs": [
    {
     "name": "stdout",
     "output_type": "stream",
     "text": [
      "Loaded 100000 rows and 26 columns to marbotic_dataset.event_properties\n",
      "Loaded 200000 rows and 26 columns to marbotic_dataset.event_properties\n",
      "Loaded 300000 rows and 26 columns to marbotic_dataset.event_properties\n",
      "Loaded 400000 rows and 26 columns to marbotic_dataset.event_properties\n",
      "Loaded 500000 rows and 26 columns to marbotic_dataset.event_properties\n",
      "Loaded 600000 rows and 26 columns to marbotic_dataset.event_properties\n",
      "Loaded 700000 rows and 26 columns to marbotic_dataset.event_properties\n",
      "Loaded 800000 rows and 26 columns to marbotic_dataset.event_properties\n",
      "Loaded 900000 rows and 26 columns to marbotic_dataset.event_properties\n",
      "Loaded 1000000 rows and 26 columns to marbotic_dataset.event_properties\n",
      "Loaded 1100000 rows and 26 columns to marbotic_dataset.event_properties\n",
      "Loaded 1200000 rows and 26 columns to marbotic_dataset.event_properties\n",
      "Loaded 1300000 rows and 26 columns to marbotic_dataset.event_properties\n",
      "Loaded 1320229 rows and 26 columns to marbotic_dataset.event_properties\n"
     ]
    }
   ],
   "source": [
    "CHUNKSIZE = 100000\n",
    "\n",
    "file_path = '../raw_data/export_converted_2.json'\n",
    "df = pd.read_json(file_path, lines=True, chunksize=CHUNKSIZE) #Chunk size pour avoir 14 chunk\n",
    "\n",
    "client = bigquery.Client(project,credentials)\n",
    "\n",
    "for i,c in enumerate(df):\n",
    "    index_init = np.linspace(1,len(c),len(c),dtype='int32')\n",
    "    ep=pd.DataFrame()\n",
    "    c.reset_index(inplace=True)\n",
    "    ep=pd.DataFrame(c[\"event_properties\"].to_list()).copy()\n",
    "    ep['event_id']=c[\"event_id\"].copy()\n",
    "    ep['id'] = (i*CHUNKSIZE) + index_init\n",
    "    ep.rename(columns=columns_rename,inplace=True)\n",
    "    if 'Renewal_Type' in ep.columns :\n",
    "        ep.drop('Renewal_Type',axis=1,inplace=True)\n",
    "    if 'Key_Type' in ep.columns :\n",
    "        ep.drop('Key_Type',axis=1,inplace=True)\n",
    "    if 'Toast_Name' in ep.columns :\n",
    "        ep.drop('Toast_Name',axis=1,inplace=True)\n",
    "    #job_config.schema_update_options = ['ALLOW_FIELD_ADDITION']\n",
    "    ep.to_csv('../raw_data/event_properties.csv',index=False)\n",
    "    job = client.load_table_from_dataframe(ep, table_id)  # Make an API request. ,job_config=job_config\n",
    "    job.result()  # Wait for the job to complete.\n",
    "    table = client.get_table(table_id)  # Make an API request.\n",
    "    print(\n",
    "        \"Loaded {} rows and {} columns to {}\".format(\n",
    "            table.num_rows, len(table.schema), table_id\n",
    "        )\n",
    "    )"
   ]
  },
  {
   "cell_type": "code",
   "execution_count": null,
   "id": "be7b3c71",
   "metadata": {},
   "outputs": [],
   "source": []
  }
 ],
 "metadata": {
  "kernelspec": {
   "display_name": "Python 3 (ipykernel)",
   "language": "python",
   "name": "python3"
  },
  "language_info": {
   "codemirror_mode": {
    "name": "ipython",
    "version": 3
   },
   "file_extension": ".py",
   "mimetype": "text/x-python",
   "name": "python",
   "nbconvert_exporter": "python",
   "pygments_lexer": "ipython3",
   "version": "3.8.13"
  },
  "toc": {
   "base_numbering": 1,
   "nav_menu": {},
   "number_sections": true,
   "sideBar": true,
   "skip_h1_title": false,
   "title_cell": "Table of Contents",
   "title_sidebar": "Contents",
   "toc_cell": false,
   "toc_position": {},
   "toc_section_display": true,
   "toc_window_display": false
  }
 },
 "nbformat": 4,
 "nbformat_minor": 5
}
