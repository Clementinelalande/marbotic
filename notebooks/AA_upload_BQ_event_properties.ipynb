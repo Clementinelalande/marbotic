{
 "cells": [
  {
   "cell_type": "code",
   "execution_count": 36,
   "id": "e0158680",
   "metadata": {
    "ExecuteTime": {
     "end_time": "2022-06-08T07:07:18.348537Z",
     "start_time": "2022-06-08T07:07:18.343719Z"
    }
   },
   "outputs": [],
   "source": [
    "import pandas as pd\n",
    "import naya\n",
    "import json\n",
    "from itertools import islice\n",
    "\n",
    "from google.cloud import bigquery"
   ]
  },
  {
   "cell_type": "code",
   "execution_count": 40,
   "id": "488c5e47",
   "metadata": {
    "ExecuteTime": {
     "end_time": "2022-06-08T07:28:46.850227Z",
     "start_time": "2022-06-08T07:26:46.398818Z"
    }
   },
   "outputs": [],
   "source": [
    "#conversion du fichier json en json line delimiter pour utiliser pd.read_json avec une chunk size. (Nombre de ligne processée en une fois)\n",
    "#!cat ../raw_data/export_23-5_minified.json | jq -c '.[]' > ../raw_data/export_converted_2.json"
   ]
  },
  {
   "cell_type": "code",
   "execution_count": 26,
   "id": "361d5116",
   "metadata": {
    "ExecuteTime": {
     "end_time": "2022-06-07T20:41:38.677814Z",
     "start_time": "2022-06-07T20:41:37.361311Z"
    }
   },
   "outputs": [
    {
     "name": "stdout",
     "output_type": "stream",
     "text": [
      "Collecting bigjson\n",
      "  Downloading bigjson-1.0.8-py3-none-any.whl (7.0 kB)\n",
      "Installing collected packages: bigjson\n",
      "Successfully installed bigjson-1.0.8\n"
     ]
    }
   ],
   "source": [
    "#!pip install bigjson"
   ]
  },
  {
   "cell_type": "code",
   "execution_count": 28,
   "id": "61e6b93f",
   "metadata": {
    "ExecuteTime": {
     "end_time": "2022-06-08T00:20:09.781355Z",
     "start_time": "2022-06-07T20:41:43.832102Z"
    }
   },
   "outputs": [],
   "source": [
    "#Conversion du Json en JsonL 3h40 d'execution\n",
    "#import bigjson\n",
    "# Reads json file in streaming mode\n",
    "#with open('../raw_data/export_23-5_minified.json', 'rb') as f:\n",
    "#    json_data = bigjson.load(f)\n",
    "#\n",
    "#    # Open output file  \n",
    "#    with open('../raw_data/export_converted.jsonl', 'w') as outfile:\n",
    "#        # Iterates over input json\n",
    "#        for data in json_data:\n",
    "#            # Converts json to a Python dict  \n",
    "#            dict_data = data.to_python()\n",
    "#            \n",
    "#            # Saves the output to output file\n",
    "#            outfile.write(json.dumps(dict_data)+\"\\n\")"
   ]
  },
  {
   "cell_type": "code",
   "execution_count": 35,
   "id": "8a7053b1",
   "metadata": {
    "ExecuteTime": {
     "end_time": "2022-06-08T07:06:58.208069Z",
     "start_time": "2022-06-08T07:06:58.199473Z"
    }
   },
   "outputs": [
    {
     "data": {
      "text/plain": [
       "94302.07142857143"
      ]
     },
     "execution_count": 35,
     "metadata": {},
     "output_type": "execute_result"
    }
   ],
   "source": [
    "#Nombre de lignes totales dans le JSON : 1320229"
   ]
  },
  {
   "cell_type": "code",
   "execution_count": 61,
   "id": "73de9632",
   "metadata": {
    "ExecuteTime": {
     "end_time": "2022-06-08T08:19:03.732223Z",
     "start_time": "2022-06-08T08:19:03.725902Z"
    }
   },
   "outputs": [],
   "source": [
    "#fp = open('../raw_data/export_23-5_minified.json', 'r')\n",
    "file_path = '../raw_data/export_converted_2.json'\n",
    "df = pd.read_json(file_path, lines=True, chunksize=94303) #Chunk size pour avoir 14 chunk"
   ]
  },
  {
   "cell_type": "code",
   "execution_count": null,
   "id": "5265e07d",
   "metadata": {},
   "outputs": [],
   "source": [
    "keys_1 = ['event_id','user_properties']\n",
    "keys_2 = ['Newsletter','Products','Pieces','Language','Type','Country','Games','Purchase']"
   ]
  },
  {
   "cell_type": "code",
   "execution_count": null,
   "id": "dc534dce",
   "metadata": {},
   "outputs": [],
   "source": [
    "#Localisation du projet name et table_id sur gcp\n",
    "project=\"marbotic\"\n",
    "table_id = \"marbotic_dataset.event_properties\""
   ]
  },
  {
   "cell_type": "code",
   "execution_count": null,
   "id": "9065a2d4",
   "metadata": {},
   "outputs": [],
   "source": [
    "#intégration des credentials \n",
    "from google.oauth2 import service_account\n",
    "\n",
    "key_path = \"/Users/antonin/code/AntoninAnq/gcp/marbotic-7d02fac30bd8.json\"\n",
    "\n",
    "credentials = service_account.Credentials.from_service_account_file(\n",
    "    key_path, scopes=[\"https://www.googleapis.com/auth/cloud-platform\"],\n",
    ")"
   ]
  },
  {
   "cell_type": "code",
   "execution_count": 71,
   "id": "e6e83340",
   "metadata": {
    "ExecuteTime": {
     "end_time": "2022-06-08T08:25:59.469923Z",
     "start_time": "2022-06-08T08:25:56.420363Z"
    }
   },
   "outputs": [
    {
     "name": "stdout",
     "output_type": "stream",
     "text": [
      "RangeIndex(start=848727, stop=943030, step=1)\n"
     ]
    }
   ],
   "source": [
    "for c in df:\n",
    "    event_properties = c[['event_id', 'event_properties']].copy()\n",
    "    print(event_properties['event_properties'].keys())\n",
    "    break"
   ]
  },
  {
   "cell_type": "code",
   "execution_count": null,
   "id": "ccae4055",
   "metadata": {},
   "outputs": [],
   "source": [
    "fp = open('../raw_data/export_23-5_minified.json', 'r')\n",
    "\n",
    "messages = naya.stream_array(naya.tokenize(fp))"
   ]
  },
  {
   "cell_type": "code",
   "execution_count": null,
   "id": "2426e9e1",
   "metadata": {},
   "outputs": [],
   "source": [
    "keys_1 = ['event_id','event_properties']\n",
    "keys_2 = ['[Game] Code','[Profile] Age (days)','[Scene] Name','[Game] Language','[Scaffolding] Level','[Time] Spent','[Activity] Name','[Activity] Piece Stamped','[Activity] Piece Asked','[Activity] Modality',\n",
    "         '[Activity] Nb Wrong Answer','[Game] Piece Code','[Scene] Section']\n",
    "\n",
    "keys_2[3]"
   ]
  },
  {
   "cell_type": "code",
   "execution_count": null,
   "id": "1dab2e2c",
   "metadata": {},
   "outputs": [],
   "source": [
    "#prepare json file : a list of dicts\n",
    "def create_json_file(sample,step):\n",
    "    json_1 = []\n",
    "    for i in range(len(sample)):\n",
    "        dico = {}\n",
    "        for key in keys_1:\n",
    "            if key == 'event_id':\n",
    "                dico[key] = sample[i][key]\n",
    "            else :\n",
    "                for k in keys_2:\n",
    "                    try :\n",
    "                        dico[k] = sample[i][key][k]\n",
    "                    except:\n",
    "                        dico[k] = \"\"\n",
    "        json_1.append(dico)\n",
    "    with open(f'../marbotic/data/user_properties_{step}.json', 'w') as f:\n",
    "        json.dump(json_1, f, indent=None)  "
   ]
  },
  {
   "cell_type": "code",
   "execution_count": null,
   "id": "58b15492",
   "metadata": {},
   "outputs": [],
   "source": [
    "#extract 100 lines\n",
    "step = 100000\n",
    "\n",
    "for i in range(11,14):\n",
    "    if i < 13:\n",
    "        sample = []\n",
    "        for m in islice(messages,i*step,(i*step)+step):\n",
    "            sample.append(m)\n",
    "        create_json_file(sample,i)\n",
    "    else:\n",
    "        for m in islice(messages,i*step,None):\n",
    "            sample.append(m)\n",
    "        create_json_file(sample,i)"
   ]
  }
 ],
 "metadata": {
  "kernelspec": {
   "display_name": "Python 3 (ipykernel)",
   "language": "python",
   "name": "python3"
  },
  "language_info": {
   "codemirror_mode": {
    "name": "ipython",
    "version": 3
   },
   "file_extension": ".py",
   "mimetype": "text/x-python",
   "name": "python",
   "nbconvert_exporter": "python",
   "pygments_lexer": "ipython3",
   "version": "3.8.13"
  },
  "toc": {
   "base_numbering": 1,
   "nav_menu": {},
   "number_sections": true,
   "sideBar": true,
   "skip_h1_title": false,
   "title_cell": "Table of Contents",
   "title_sidebar": "Contents",
   "toc_cell": false,
   "toc_position": {},
   "toc_section_display": true,
   "toc_window_display": false
  }
 },
 "nbformat": 4,
 "nbformat_minor": 5
}
