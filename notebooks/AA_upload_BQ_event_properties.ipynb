{
 "cells": [
  {
   "cell_type": "code",
   "execution_count": 1,
   "id": "6aa0e4ba",
   "metadata": {
    "ExecuteTime": {
     "end_time": "2022-06-24T11:50:47.930526Z",
     "start_time": "2022-06-24T11:50:47.419118Z"
    }
   },
   "outputs": [],
   "source": [
    "import pandas as pd\n",
    "import numpy as np\n",
    "import json\n",
    "from google.cloud import bigquery"
   ]
  },
  {
   "cell_type": "code",
   "execution_count": 2,
   "id": "19e7b577",
   "metadata": {
    "ExecuteTime": {
     "end_time": "2022-06-09T12:28:34.218066Z",
     "start_time": "2022-06-09T12:28:34.216400Z"
    }
   },
   "outputs": [],
   "source": [
    "#conversion du fichier json en json line delimiter pour utiliser pd.read_json avec une chunk size. (Nombre de ligne processée en une fois)\n",
    "#!cat ../raw_data/export_23-5_minified.json | jq -c '.[]' > ../raw_data/export_converted_2.json"
   ]
  },
  {
   "cell_type": "code",
   "execution_count": 3,
   "id": "30e9d77a",
   "metadata": {
    "ExecuteTime": {
     "end_time": "2022-06-09T12:28:34.367787Z",
     "start_time": "2022-06-09T12:28:34.363993Z"
    }
   },
   "outputs": [],
   "source": [
    "#Nombre de lignes totales dans le JSON : 1320229"
   ]
  },
  {
   "cell_type": "code",
   "execution_count": 2,
   "id": "c15a5d18",
   "metadata": {
    "ExecuteTime": {
     "end_time": "2022-06-24T11:50:53.577512Z",
     "start_time": "2022-06-24T11:50:53.573258Z"
    }
   },
   "outputs": [],
   "source": [
    "#Localisation du projet name et table_id sur gcp\n",
    "project=\"marbotic\"\n",
    "table_id = \"marbotic_dataset.event_properties_test\""
   ]
  },
  {
   "cell_type": "code",
   "execution_count": 3,
   "id": "1565e601",
   "metadata": {
    "ExecuteTime": {
     "end_time": "2022-06-24T11:50:54.539886Z",
     "start_time": "2022-06-24T11:50:54.528065Z"
    }
   },
   "outputs": [],
   "source": [
    "#intégration des credentials \n",
    "from google.oauth2 import service_account\n",
    "\n",
    "key_path = \"/Users/antonin/code/AntoninAnq/gcp/marbotic-7d02fac30bd8.json\"\n",
    "\n",
    "credentials = service_account.Credentials.from_service_account_file(\n",
    "    key_path, scopes=[\"https://www.googleapis.com/auth/cloud-platform\"],\n",
    ")"
   ]
  },
  {
   "cell_type": "code",
   "execution_count": 4,
   "id": "21c273f4",
   "metadata": {
    "ExecuteTime": {
     "end_time": "2022-06-24T11:50:58.392169Z",
     "start_time": "2022-06-24T11:50:58.388272Z"
    }
   },
   "outputs": [],
   "source": [
    "# Observation de la colonne Games, on a des listes de jeu. Sur le chunk de 100K on a 158 combinaisons différentes\n",
    "#tmp = pd.read_csv('../raw_data/event_properties.csv')\n",
    "#tmp['Key_Type'].value_counts()"
   ]
  },
  {
   "cell_type": "code",
   "execution_count": 7,
   "id": "b3947791",
   "metadata": {
    "ExecuteTime": {
     "end_time": "2022-06-24T11:51:04.522934Z",
     "start_time": "2022-06-24T11:51:04.519362Z"
    }
   },
   "outputs": [],
   "source": [
    "#tmp.columns"
   ]
  },
  {
   "cell_type": "code",
   "execution_count": 6,
   "id": "831c19b5",
   "metadata": {
    "ExecuteTime": {
     "end_time": "2022-06-24T11:50:59.228894Z",
     "start_time": "2022-06-24T11:50:59.214676Z"
    }
   },
   "outputs": [],
   "source": [
    "columns_rename = {'[Game] Code':'Game_Code','[Profile] Age (days)':'Profile_Age_days','[Scene] Name':'Scene_Name',\n",
    "                 '[Game] Language':'Game_Language', '[Scene] Previous':'Scene_Previous', '[Time] Spent':'Time_Spent',\n",
    "                  '[Scene] Next':'Scene_Next', '[Action] Element Type':'Action_Element_Type',\n",
    "                  '[Scene] Section':'Scene_Section', '[Action] Element Name':'Action_Element_Name',\n",
    "                 '[Activity] Name':'Activity_Name', '[Scaffolding] Level':'Scaffolding_Level',\n",
    "                  '[Game] Piece Code':'Game_Piece_Code','[Activity] Nb Wrong Answer':'Activity_Nb_Wrong_Answer',\n",
    "                  '[Activity] Solved':'Activity_Solved','[Activity] Piece Stamped':'Activity_Piece_Stamped',\n",
    "                  '[Activity] Piece Asked':'Activity_Piece_Asked','[Activity] Modality':'Activity_Modality',\n",
    "                  '[Time] Slot':'Time_Slot', '[Error] Type':'Error_Type',\n",
    "                  '[Activation] Game Code':'Activation_Game_Code',\n",
    "                  '[Activation] Product Code':'Activation_Product_Code',\n",
    "                 '[Activation] Piece Code':'Activation_Piece_Code', '[Popup] Name':'Popup_Name',\n",
    "                  '[Renewal] Type':'Renewal_Type','[Key] Type':'Key_Type','[Toast] Name':'Toast_Name'}"
   ]
  },
  {
   "cell_type": "code",
   "execution_count": 9,
   "id": "ae0f1dbc",
   "metadata": {
    "ExecuteTime": {
     "end_time": "2022-06-24T12:02:08.351235Z",
     "start_time": "2022-06-24T11:59:45.136997Z"
    }
   },
   "outputs": [
    {
     "name": "stdout",
     "output_type": "stream",
     "text": [
      "Loaded 100000 rows and 31 columns to marbotic_dataset.event_properties_test\n",
      "Loaded 200000 rows and 31 columns to marbotic_dataset.event_properties_test\n",
      "Loaded 300000 rows and 31 columns to marbotic_dataset.event_properties_test\n",
      "Loaded 400000 rows and 31 columns to marbotic_dataset.event_properties_test\n",
      "Loaded 500000 rows and 31 columns to marbotic_dataset.event_properties_test\n",
      "Loaded 600000 rows and 31 columns to marbotic_dataset.event_properties_test\n",
      "Loaded 700000 rows and 31 columns to marbotic_dataset.event_properties_test\n",
      "Loaded 800000 rows and 31 columns to marbotic_dataset.event_properties_test\n",
      "Loaded 900000 rows and 31 columns to marbotic_dataset.event_properties_test\n",
      "Loaded 1000000 rows and 31 columns to marbotic_dataset.event_properties_test\n",
      "Loaded 1100000 rows and 31 columns to marbotic_dataset.event_properties_test\n",
      "Loaded 1200000 rows and 31 columns to marbotic_dataset.event_properties_test\n",
      "Loaded 1300000 rows and 31 columns to marbotic_dataset.event_properties_test\n",
      "Loaded 1320229 rows and 31 columns to marbotic_dataset.event_properties_test\n"
     ]
    }
   ],
   "source": [
    "CHUNKSIZE = 100000\n",
    "\n",
    "file_path = '../raw_data/export_converted_2.json'\n",
    "df = pd.read_json(file_path, lines=True, chunksize=CHUNKSIZE) #Chunk size pour avoir 14 chunk\n",
    "\n",
    "client = bigquery.Client(project,credentials)\n",
    "\n",
    "for i,c in enumerate(df):\n",
    "    index_init = np.linspace(1,len(c),len(c),dtype='int32')\n",
    "    ep=pd.DataFrame()\n",
    "    c.reset_index(inplace=True)\n",
    "    ep=pd.DataFrame(c[\"event_properties\"].to_list()).copy()\n",
    "    ep['event_id']=c[\"event_id\"].copy()\n",
    "    ep['event_type']=c[\"event_type\"].copy()\n",
    "    ep['session_id']=c[\"session_id\"].copy()\n",
    "    ep['id'] = (i*CHUNKSIZE) + index_init\n",
    "    ep.rename(columns=columns_rename,inplace=True)\n",
    "    #ep.to_csv('../raw_data/event_properties.csv',index=False)\n",
    "    job = client.load_table_from_dataframe(ep, table_id)  # Make an API request. ,job_config=job_config\n",
    "    job.result()  # Wait for the job to complete.\n",
    "    table = client.get_table(table_id)  # Make an API request.\n",
    "    print(\n",
    "        \"Loaded {} rows and {} columns to {}\".format(\n",
    "            table.num_rows, len(table.schema), table_id\n",
    "        )\n",
    "    )"
   ]
  },
  {
   "cell_type": "code",
   "execution_count": null,
   "id": "be7b3c71",
   "metadata": {},
   "outputs": [],
   "source": [
    "#Colonne à jouter à la main\n",
    "#Renewal_Type\n",
    "#Key_Type\n",
    "#Toast_Name"
   ]
  }
 ],
 "metadata": {
  "kernelspec": {
   "display_name": "Python 3 (ipykernel)",
   "language": "python",
   "name": "python3"
  },
  "language_info": {
   "codemirror_mode": {
    "name": "ipython",
    "version": 3
   },
   "file_extension": ".py",
   "mimetype": "text/x-python",
   "name": "python",
   "nbconvert_exporter": "python",
   "pygments_lexer": "ipython3",
   "version": "3.8.13"
  },
  "toc": {
   "base_numbering": 1,
   "nav_menu": {},
   "number_sections": true,
   "sideBar": true,
   "skip_h1_title": false,
   "title_cell": "Table of Contents",
   "title_sidebar": "Contents",
   "toc_cell": false,
   "toc_position": {},
   "toc_section_display": true,
   "toc_window_display": false
  }
 },
 "nbformat": 4,
 "nbformat_minor": 5
}
