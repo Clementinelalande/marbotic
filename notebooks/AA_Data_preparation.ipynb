{
 "cells": [
  {
   "cell_type": "markdown",
   "id": "ebb7d2cb",
   "metadata": {},
   "source": [
    "# Data preparation"
   ]
  },
  {
   "cell_type": "markdown",
   "id": "e4146a98",
   "metadata": {
    "heading_collapsed": true
   },
   "source": [
    "## Creating purchases columns in user_id - SQL method"
   ]
  },
  {
   "cell_type": "markdown",
   "id": "3704940d",
   "metadata": {
    "hidden": true
   },
   "source": [
    "**Creation de la colonne purchases**\n",
    "\n",
    "On créé une colonne \"purchases\" pour spécifier si l'utilisateur à déjà acheté au moins un produit.  \n",
    "On le fait via la console GCP avec les commande SQL ci dessous.  \n",
    "\n",
    "Dans un premier temps on doit créé la colonne \"purchases\" de type booléen qui sera vide.  \n",
    "Puis on initialise toutes les valeurs à False avec la requête ci dessous.\n",
    "\n",
    "```   \n",
    "UPDATE `marbotic.marbotic_dataset.user_id_f`  \n",
    "SET purchases = False  \n",
    "WHERE TRUE  \n",
    "```\n",
    "\n",
    "\n",
    "On mets à jour les profils utilisateurs ayant effectué au moins un achat avec la requête ci dessous.  \n",
    "\n",
    "```\n",
    "UPDATE `marbotic.marbotic_dataset.user_id_f`   \n",
    "SET purchases = True  \n",
    "WHERE Purchases_PY1Y = 1  \n",
    "OR  \n",
    "Purchases_PLY = 1  \n",
    "OR   \n",
    "Purchases_MEGR = 1  \n",
    "OR  \n",
    "Purchases_PLM = 1  \n",
    "OR   \n",
    "Purchases_ME1 = 1  \n",
    "OR   \n",
    "Purchases_EY3M = 1  \n",
    "OR  \n",
    "Purchases_tier_upgrade_0_to_1 = 1  \n",
    "OR  \n",
    "Purchases_PM3M = 1  \n",
    "OR  \n",
    "Purchases_MPGR = 1  \n",
    "OR  \n",
    "Purchases_EY1Y = 1  \n",
    "OR  \n",
    "Purchases_PY3M = 1  \n",
    "```\n",
    "\n",
    "Enfin on ajoute cette colonne à la table users_metrics \n",
    "\n",
    "**Vérifier s'il faut créer la colonne à la main avant**\n",
    "\n",
    "```\n",
    "UPDATE `marbotic.marbotic_dataset.users_metrics_f` as um\n",
    "SET um.purchases = tmp.purchases\n",
    "FROM (SELECT um.user_id, MAX(ui.purchases) as purchases\n",
    "FROM `marbotic.marbotic_dataset.users_metrics_f` as um LEFT JOIN `marbotic.marbotic_dataset.user_id_f` as ui\n",
    "ON um.user_id = ui.User_id\n",
    "GROUP BY um.user_id\n",
    ") as tmp\n",
    "WHERE um.user_id = tmp.user_id\n",
    "```\n"
   ]
  },
  {
   "cell_type": "markdown",
   "id": "cb8ecdd5",
   "metadata": {
    "heading_collapsed": true
   },
   "source": [
    "## Creating game_events and setup_events in session_metrics - SQL method"
   ]
  },
  {
   "cell_type": "markdown",
   "id": "4cbd0bad",
   "metadata": {
    "hidden": true
   },
   "source": [
    "**Creation de la colonne game_events**\n",
    "\n",
    "On créé une colonne \"game_events\" pour compter le nombre d'event de jeu par session.  \n",
    "On le fait via la console GCP avec les commande SQL ci dessous.  \n",
    "\n",
    "Dans un premier temps on doit créé la colonne \"game_events\" de type Float qui sera vide.  \n",
    "Puis on la complète en sommant les events de jeu\n",
    "\n",
    "```\n",
    "UPDATE `marbotic.marbotic_dataset.sessions_metrics_f` \n",
    "SET game_events = \n",
    " event_type_Activation_Game + event_type_Game_Stop + event_type_Scaffolding_Reset + event_type_Game_Pause + event_type_Game_Start + \n",
    " event_type_Error_Error + event_type_Scene_Enter + event_type_Scene_Leave + event_type_Action_Click + event_type_Activity_Stop + \n",
    " event_type_Activity_Start + event_type_Activity_Good_Answer + event_type_Activity_Wrong_Answer + event_type_Scaffolding_Scaffolding\n",
    "WHERE True\n",
    "```"
   ]
  },
  {
   "cell_type": "markdown",
   "id": "db2bdba5",
   "metadata": {
    "hidden": true
   },
   "source": [
    "**Creation de la colonne setup_event**\n",
    "\n",
    "De la même façon on crée la colonne setup_event pour compter le nombre d'event de setup par session.  \n",
    "On le fait via la console GCP avec les commande SQL ci dessous.  \n",
    "\n",
    "Dans un premier temps on doit créé la colonne \"setup_events\" de type Float qui sera vide.  \n",
    "Puis on la complète en sommant les events de setup\n",
    "\n",
    "```\n",
    "UPDATE `marbotic.marbotic_dataset.sessions_metrics` \n",
    "SET setup_events = \n",
    "event_type_Profile_Create + \n",
    "event_type_Profile_Update +\n",
    "event_type_Account_Sign_In +\n",
    "event_type_OB_ProfileName +\n",
    "event_type_OB_ProfileBirthdate +\n",
    "event_type_OB_KeyRedeem +\n",
    "event_type_OB_KeyFail +\n",
    "event_type_OB_RenewalSelection +\n",
    "event_type_Account_Sign_Up +\n",
    "event_type_OB_ProductSelection +\n",
    "event_type_OB_ProductSK +\n",
    "event_type_OB_ProductHelp +\n",
    "event_type_OB_ProductActivation +\n",
    "event_type_OB_RenewalSuccess+\n",
    "event_type_OB_ProductSeeMore+\n",
    "event_type_OB_ProductOther+\n",
    "event_type_Account_Sign_Out+\n",
    "event_type_OB_CommPreview+\n",
    "event_type_OB_DoYouHaveKit+\n",
    "event_type_OB_HasKitYes+\n",
    "event_type_OB_Email+\n",
    "event_type_OB_VerifCode+\n",
    "event_type_Activation_New_Activation+\n",
    "event_type_Activation_Product+\n",
    "event_type_Activation_Piece+\n",
    "event_type_OB_Success+\n",
    "event_type_OB_RenewalFail+\n",
    "event_type_OB_ClickTrial+\n",
    "event_type_Popup_Open+\n",
    "event_type_Popup_Close+\n",
    "event_type_OB_HasKitNo+\n",
    "event_type_OB_DiscoverTrial+\n",
    "event_type_Account_Update_Request+\n",
    "event_type_Account_Update_Success+\n",
    "event_type_Profile_Delete+\n",
    "event_type_OB_TrialStart+\n",
    "event_type_OB_ClickStore+\n",
    "event_type_OB_HasKeyNo+\n",
    "event_type_OB_Type+\n",
    "event_type_OB_KeySuccess+\n",
    "event_type_Profile_Reset_Settings_and_Progression+\n",
    "event_type_Action_ConversionClickRedeem+\n",
    "event_type_Action_ConversionClickSubscribe+\n",
    "event_type_Toast_Appear+\n",
    "event_type_Toast_Disappear\n",
    "WHERE True\n",
    "```"
   ]
  },
  {
   "cell_type": "markdown",
   "id": "d143b929",
   "metadata": {},
   "source": [
    "## Creating table session_augmented"
   ]
  },
  {
   "cell_type": "code",
   "execution_count": null,
   "id": "4b0fd127",
   "metadata": {},
   "outputs": [],
   "source": []
  }
 ],
 "metadata": {
  "kernelspec": {
   "display_name": "Python 3 (ipykernel)",
   "language": "python",
   "name": "python3"
  },
  "language_info": {
   "codemirror_mode": {
    "name": "ipython",
    "version": 3
   },
   "file_extension": ".py",
   "mimetype": "text/x-python",
   "name": "python",
   "nbconvert_exporter": "python",
   "pygments_lexer": "ipython3",
   "version": "3.8.13"
  },
  "toc": {
   "base_numbering": 1,
   "nav_menu": {},
   "number_sections": true,
   "sideBar": true,
   "skip_h1_title": false,
   "title_cell": "Table of Contents",
   "title_sidebar": "Contents",
   "toc_cell": false,
   "toc_position": {},
   "toc_section_display": true,
   "toc_window_display": false
  }
 },
 "nbformat": 4,
 "nbformat_minor": 5
}
