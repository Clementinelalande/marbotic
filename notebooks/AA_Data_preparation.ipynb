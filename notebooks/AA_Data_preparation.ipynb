{
 "cells": [
  {
   "cell_type": "markdown",
   "id": "ebb7d2cb",
   "metadata": {},
   "source": [
    "# Data preparation"
   ]
  },
  {
   "cell_type": "markdown",
   "id": "e4146a98",
   "metadata": {
    "heading_collapsed": true
   },
   "source": [
    "## Creating purchases columns in user_id - SQL method"
   ]
  },
  {
   "cell_type": "markdown",
   "id": "3704940d",
   "metadata": {
    "hidden": true
   },
   "source": [
    "**Creation de la colonne purchases**\n",
    "\n",
    "On créé une colonne \"purchases\" pour spécifier si l'utilisateur à déjà acheté au moins un produit.  \n",
    "On le fait via la console GCP avec les commande SQL ci dessous.  \n",
    "\n",
    "Dans un premier temps on doit créé la colonne \"purchases\" de type booléen qui sera vide.  \n",
    "Puis on initialise toutes les valeurs à False avec la requête ci dessous.\n",
    "\n",
    "```   \n",
    "UPDATE `marbotic.marbotic_dataset.user_id_f`  \n",
    "SET purchases = False  \n",
    "WHERE TRUE  \n",
    "```\n",
    "\n",
    "\n",
    "On mets à jour les profils utilisateurs ayant effectué au moins un achat avec la requête ci dessous.  \n",
    "\n",
    "```\n",
    "UPDATE `marbotic.marbotic_dataset.user_id_f`   \n",
    "SET purchases = True  \n",
    "WHERE Purchases_PY1Y = 1  \n",
    "OR  \n",
    "Purchases_PLY = 1  \n",
    "OR   \n",
    "Purchases_MEGR = 1  \n",
    "OR  \n",
    "Purchases_PLM = 1  \n",
    "OR   \n",
    "Purchases_ME1 = 1  \n",
    "OR   \n",
    "Purchases_EY3M = 1  \n",
    "OR  \n",
    "Purchases_tier_upgrade_0_to_1 = 1  \n",
    "OR  \n",
    "Purchases_PM3M = 1  \n",
    "OR  \n",
    "Purchases_MPGR = 1  \n",
    "OR  \n",
    "Purchases_EY1Y = 1  \n",
    "OR  \n",
    "Purchases_PY3M = 1  \n",
    "```\n",
    "\n",
    "Enfin on ajoute cette colonne à la table users_metrics \n",
    "\n",
    "**Vérifier s'il faut créer la colonne à la main avant**\n",
    "\n",
    "```\n",
    "UPDATE `marbotic.marbotic_dataset.users_metrics_f` as um\n",
    "SET um.purchases = tmp.purchases\n",
    "FROM (SELECT um.user_id, MAX(ui.purchases) as purchases\n",
    "FROM `marbotic.marbotic_dataset.users_metrics_f` as um LEFT JOIN `marbotic.marbotic_dataset.user_id_f` as ui\n",
    "ON um.user_id = ui.User_id\n",
    "GROUP BY um.user_id\n",
    ") as tmp\n",
    "WHERE um.user_id = tmp.user_id\n",
    "```\n"
   ]
  },
  {
   "cell_type": "markdown",
   "id": "cb8ecdd5",
   "metadata": {},
   "source": [
    "## Creating game_events and setup_events in session_metrics - SQL method"
   ]
  },
  {
   "cell_type": "markdown",
   "id": "4cbd0bad",
   "metadata": {},
   "source": [
    "**Creation de la colonne game_events**\n",
    "\n",
    "On créé une colonne \"game_events\" pour compter le nombre d'event de jeu par session.  \n",
    "On le fait via la console GCP avec les commande SQL ci dessous.  \n",
    "\n",
    "Dans un premier temps on doit créé la colonne \"game_events\" de type Float qui sera vide.  \n",
    "Puis on la complète en sommant les events de jeu\n",
    "\n",
    "```\n",
    "UPDATE `marbotic.marbotic_dataset.sessions_metrics_f` \n",
    "SET game_events = \n",
    " event_type_Activation_Game + event_type_Game_Stop + event_type_Scaffolding_Reset + event_type_Game_Pause + event_type_Game_Start + \n",
    " event_type_Error_Error + event_type_Scene_Enter + event_type_Scene_Leave + event_type_Action_Click + event_type_Activity_Stop + \n",
    " event_type_Activity_Start + event_type_Activity_Good_Answer + event_type_Activity_Wrong_Answer + event_type_Scaffolding_Scaffolding\n",
    "WHERE True\n",
    "```"
   ]
  },
  {
   "cell_type": "markdown",
   "id": "db2bdba5",
   "metadata": {},
   "source": [
    "**Creation de la colonne setup_event**\n",
    "\n",
    "De la même façon on crée la colonne setup_event pour compter le nombre d'event de setup par session.  \n",
    "On le fait via la console GCP avec les commande SQL ci dessous.  \n",
    "\n",
    "Dans un premier temps on doit créé la colonne \"setup_events\" de type Float qui sera vide.  \n",
    "Puis on la complète en sommant les events de setup\n",
    "\n",
    "```\n",
    "UPDATE `marbotic.marbotic_dataset.sessions_metrics` \n",
    "SET setup_events = \n",
    "event_type_Profile_Create + \n",
    "event_type_Profile_Update +\n",
    "event_type_Account_Sign_In +\n",
    "event_type_OB_ProfileName +\n",
    "event_type_OB_ProfileBirthdate +\n",
    "event_type_OB_KeyRedeem +\n",
    "event_type_OB_KeyFail +\n",
    "event_type_OB_RenewalSelection +\n",
    "event_type_Account_Sign_Up +\n",
    "event_type_OB_ProductSelection +\n",
    "event_type_OB_ProductSK +\n",
    "event_type_OB_ProductHelp +\n",
    "event_type_OB_ProductActivation +\n",
    "event_type_OB_RenewalSuccess+\n",
    "event_type_OB_ProductSeeMore+\n",
    "event_type_OB_ProductOther+\n",
    "event_type_Account_Sign_Out+\n",
    "event_type_OB_CommPreview+\n",
    "event_type_OB_DoYouHaveKit+\n",
    "event_type_OB_HasKitYes+\n",
    "event_type_OB_Email+\n",
    "event_type_OB_VerifCode+\n",
    "event_type_Activation_New_Activation+\n",
    "event_type_Activation_Product+\n",
    "event_type_Activation_Piece+\n",
    "event_type_OB_Success+\n",
    "event_type_OB_RenewalFail+\n",
    "event_type_OB_ClickTrial+\n",
    "event_type_Popup_Open+\n",
    "event_type_Popup_Close+\n",
    "event_type_OB_HasKitNo+\n",
    "event_type_OB_DiscoverTrial+\n",
    "event_type_Account_Update_Request+\n",
    "event_type_Account_Update_Success+\n",
    "event_type_Profile_Delete+\n",
    "event_type_OB_TrialStart+\n",
    "event_type_OB_ClickStore+\n",
    "event_type_OB_HasKeyNo+\n",
    "event_type_OB_Type+\n",
    "event_type_OB_KeySuccess+\n",
    "event_type_Profile_Reset_Settings_and_Progression+\n",
    "event_type_Action_ConversionClickRedeem+\n",
    "event_type_Action_ConversionClickSubscribe+\n",
    "event_type_Toast_Appear+\n",
    "event_type_Toast_Disappear\n",
    "WHERE True\n",
    "```"
   ]
  },
  {
   "cell_type": "markdown",
   "id": "4868f63e",
   "metadata": {},
   "source": [
    "## Imports"
   ]
  },
  {
   "cell_type": "code",
   "execution_count": 25,
   "id": "708aa1bc",
   "metadata": {
    "ExecuteTime": {
     "end_time": "2022-07-21T14:37:06.970593Z",
     "start_time": "2022-07-21T14:37:06.965548Z"
    }
   },
   "outputs": [],
   "source": [
    "import pandas as pd\n",
    "import json\n",
    "import numpy as np\n",
    "from datetime import datetime,timedelta\n",
    "\n",
    "\n",
    "#Imports Bigquery\n",
    "from google.cloud import bigquery\n",
    "from google.oauth2 import service_account\n"
   ]
  },
  {
   "cell_type": "markdown",
   "id": "a0088f43",
   "metadata": {},
   "source": [
    "## GCP config"
   ]
  },
  {
   "cell_type": "code",
   "execution_count": 2,
   "id": "0d86af3b",
   "metadata": {
    "ExecuteTime": {
     "end_time": "2022-07-21T14:32:40.856996Z",
     "start_time": "2022-07-21T14:32:40.855183Z"
    }
   },
   "outputs": [],
   "source": [
    "#Localisation du projet name et table_id sur gcp\n",
    "#TODO : Remplacer le nom du projet et du dataset sur GCP \n",
    "project=\"marbotic\"\n",
    "dataset = \"marbotic_dataset\""
   ]
  },
  {
   "cell_type": "code",
   "execution_count": 3,
   "id": "b6dea36b",
   "metadata": {
    "ExecuteTime": {
     "end_time": "2022-07-21T14:32:40.861068Z",
     "start_time": "2022-07-21T14:32:40.858068Z"
    }
   },
   "outputs": [],
   "source": [
    "#intégration des credentials\n",
    "#TODO : Remplacer le path de credential d'accès à notre projet GCP\n",
    "key_path = \"/Users/antonin/code/AntoninAnq/gcp/marbotic-7d02fac30bd8.json\"\n",
    "\n",
    "credentials = service_account.Credentials.from_service_account_file(\n",
    "    key_path, scopes=[\"https://www.googleapis.com/auth/cloud-platform\"],)"
   ]
  },
  {
   "cell_type": "markdown",
   "id": "d143b929",
   "metadata": {},
   "source": [
    "## Creating table session_augmented"
   ]
  },
  {
   "cell_type": "code",
   "execution_count": 4,
   "id": "4b0fd127",
   "metadata": {
    "ExecuteTime": {
     "end_time": "2022-07-21T14:32:40.866281Z",
     "start_time": "2022-07-21T14:32:40.862832Z"
    }
   },
   "outputs": [],
   "source": [
    "def extract(project,credentials):\n",
    "    '''Extracting first data and creating feature : unique game per session, Time_spent sum, good_answer_ratio'''\n",
    "    \n",
    "    client = bigquery.Client(project=project, credentials=credentials)\n",
    "\n",
    "    query = \"\"\"\n",
    "    SELECT\n",
    "    COUNT(DISTINCT ep.Activity_Name) as unique_activity, \n",
    "    sm.session_id,sum(Time_Spent) as Time_Spent,\n",
    "    any_value(Action_Element_Name) as Action_Element_Name,\n",
    "    any_value(Profile_Age_days) as Profile_Age_days,\n",
    "    (SAFE_DIVIDE(SUM(event_type_Activity_Good_Answer) , (SUM(event_type_Activity_Good_Answer)\n",
    "    + SUM(event_type_Activity_Wrong_Answer))))*100 as good_answer_ratio\n",
    "    FROM `marbotic.marbotic_dataset.event_properties` as ep\n",
    "    JOIN `marbotic.marbotic_dataset.sessions_metrics` as sm on ep.session_id = sm.session_id\n",
    "    GROUP BY sm.session_id\n",
    "    ORDER BY unique_activity DESC\n",
    "    \"\"\"\n",
    "\n",
    "    query_job = client.query(query) \n",
    "    results=query_job.result().to_dataframe()\n",
    "\n",
    "    return pd.DataFrame(results)"
   ]
  },
  {
   "cell_type": "code",
   "execution_count": 5,
   "id": "0522c6da",
   "metadata": {
    "ExecuteTime": {
     "end_time": "2022-07-21T14:32:40.870535Z",
     "start_time": "2022-07-21T14:32:40.867926Z"
    }
   },
   "outputs": [],
   "source": [
    "def extract_session_metrics(project,credentials):\n",
    "    '''Extracting information from session metrics table'''\n",
    "\n",
    "    client = bigquery.Client(project=project, credentials=credentials)\n",
    "\n",
    "    query = \"\"\"\n",
    "    SELECT *\n",
    "    FROM `marbotic.marbotic_dataset.sessions_metrics`\n",
    "    \"\"\"\n",
    "\n",
    "    query_job = client.query(query)  \n",
    "    results=query_job.result().to_dataframe() \n",
    "\n",
    "    return pd.DataFrame(results)"
   ]
  },
  {
   "cell_type": "code",
   "execution_count": 6,
   "id": "0a3c7b9d",
   "metadata": {
    "ExecuteTime": {
     "end_time": "2022-07-21T14:32:40.874441Z",
     "start_time": "2022-07-21T14:32:40.871748Z"
    }
   },
   "outputs": [],
   "source": [
    "def extract_user_metrics(project,credentials):\n",
    "    '''Extracting information from user metrics'''\n",
    "    client = bigquery.Client(project=project, credentials=credentials)\n",
    "\n",
    "    query = \"\"\"\n",
    "    SELECT user_creation_time, user_id\n",
    "    FROM `marbotic.marbotic_dataset.users_metrics`\n",
    "    \"\"\"\n",
    "\n",
    "    query_job = client.query(query)  \n",
    "    results=query_job.result().to_dataframe() \n",
    "\n",
    "    return pd.DataFrame(results)"
   ]
  },
  {
   "cell_type": "code",
   "execution_count": 7,
   "id": "41bbdf1a",
   "metadata": {
    "ExecuteTime": {
     "end_time": "2022-07-21T14:32:40.878958Z",
     "start_time": "2022-07-21T14:32:40.875664Z"
    }
   },
   "outputs": [],
   "source": [
    "def extract_user_type(project,credentials):\n",
    "    '''Extracting the type for each user'''\n",
    "    client = bigquery.Client(project=project, credentials=credentials)\n",
    "\n",
    "    query = \"\"\"\n",
    "    SELECT any_value(Type) as Type, user_id\n",
    "    FROM `marbotic.marbotic_dataset.user_properties`\n",
    "    GROUP BY user_id\n",
    "    \"\"\"\n",
    "\n",
    "    query_job = client.query(query)  \n",
    "    results=query_job.result().to_dataframe() \n",
    "\n",
    "    return pd.DataFrame(results)"
   ]
  },
  {
   "cell_type": "code",
   "execution_count": 8,
   "id": "90c6e703",
   "metadata": {
    "ExecuteTime": {
     "end_time": "2022-07-21T14:32:57.582655Z",
     "start_time": "2022-07-21T14:32:40.880164Z"
    }
   },
   "outputs": [],
   "source": [
    "#On charge toutes les tables dont on a besoin\n",
    "first_data = extract(project,credentials)\n",
    "session_metrics_df = extract_session_metrics(project,credentials)\n",
    "user_metrics_df = extract_user_metrics(project,credentials)\n",
    "user_type_df = extract_user_type(project,credentials)"
   ]
  },
  {
   "cell_type": "code",
   "execution_count": 9,
   "id": "7cca0333",
   "metadata": {
    "ExecuteTime": {
     "end_time": "2022-07-21T14:32:57.623138Z",
     "start_time": "2022-07-21T14:32:57.585919Z"
    }
   },
   "outputs": [],
   "source": [
    "#on merge les première colonnes crées avec la table sessions metrics\n",
    "sm_df = session_metrics_df.merge(first_data, on='session_id')"
   ]
  },
  {
   "cell_type": "code",
   "execution_count": 10,
   "id": "2654f572",
   "metadata": {
    "ExecuteTime": {
     "end_time": "2022-07-21T14:32:57.733692Z",
     "start_time": "2022-07-21T14:32:57.627139Z"
    }
   },
   "outputs": [],
   "source": [
    "#On ajoute une colonne de la durée de chaque session\n",
    "sm_df['duration_min'] = (sm_df['session_end']-sm_df['session_start']).apply(lambda x: x.total_seconds()/60)"
   ]
  },
  {
   "cell_type": "code",
   "execution_count": 11,
   "id": "3413e3e1",
   "metadata": {
    "ExecuteTime": {
     "end_time": "2022-07-21T14:32:57.750947Z",
     "start_time": "2022-07-21T14:32:57.734787Z"
    }
   },
   "outputs": [],
   "source": [
    "#on merge la date de création dans le cas ou on veut calculer la maturité du user au moment de la session.\n",
    "sm_df = sm_df.merge(user_metrics_df, on='user_id')"
   ]
  },
  {
   "cell_type": "code",
   "execution_count": 12,
   "id": "64e747a3",
   "metadata": {
    "ExecuteTime": {
     "end_time": "2022-07-21T14:32:57.754604Z",
     "start_time": "2022-07-21T14:32:57.751991Z"
    }
   },
   "outputs": [],
   "source": [
    "def nb_session(user_id,session_start):\n",
    "    '''Compute number of session before current session'''\n",
    "    return sm_df[(sm_df['user_id']==user_id) & (sm_df['session_start']<session_start)].shape[0]"
   ]
  },
  {
   "cell_type": "code",
   "execution_count": 13,
   "id": "64d55d23",
   "metadata": {
    "ExecuteTime": {
     "end_time": "2022-07-21T14:33:04.987334Z",
     "start_time": "2022-07-21T14:32:57.755701Z"
    }
   },
   "outputs": [],
   "source": [
    "sm_df['previous_session'] = sm_df.apply(lambda x:nb_session(x.user_id,x.session_start), axis=1)"
   ]
  },
  {
   "cell_type": "code",
   "execution_count": 17,
   "id": "41c34de7",
   "metadata": {
    "ExecuteTime": {
     "end_time": "2022-07-21T14:34:08.697561Z",
     "start_time": "2022-07-21T14:34:08.684212Z"
    }
   },
   "outputs": [],
   "source": [
    "def last_session_time(user_id,session_start):\n",
    "    '''Compute time since last session'''\n",
    "    last_session = sm_df[(sm_df['user_id']==user_id) & (sm_df['session_start']<session_start)]\\\n",
    "    .sort_values(by='session_start',ascending=True)\\\n",
    "    .groupby('user_id').last()['session_start']\n",
    "    if len(last_session.values)==0:\n",
    "        return timedelta(0)\n",
    "    else:\n",
    "        last_session = last_session.dt.to_pydatetime()[0].replace(tzinfo=None)\n",
    "        return (session_start.to_pydatetime().replace(tzinfo=None) - last_session)"
   ]
  },
  {
   "cell_type": "code",
   "execution_count": 18,
   "id": "af97e800",
   "metadata": {
    "ExecuteTime": {
     "end_time": "2022-07-21T14:34:48.978833Z",
     "start_time": "2022-07-21T14:34:08.701960Z"
    }
   },
   "outputs": [],
   "source": [
    "sm_df['time_since_last_session'] = sm_df.apply(lambda x:last_session_time(x.user_id,x.session_start), axis=1)"
   ]
  },
  {
   "cell_type": "code",
   "execution_count": 19,
   "id": "d92d786c",
   "metadata": {
    "ExecuteTime": {
     "end_time": "2022-07-21T14:34:49.086559Z",
     "start_time": "2022-07-21T14:34:48.980166Z"
    }
   },
   "outputs": [],
   "source": [
    "#Conversion de la colonne time_since_last_session timedelta en timestampe[min]\n",
    "sm_df['time_since_last_session_min']=sm_df['time_since_last_session'].map(lambda x : x.total_seconds()/60)"
   ]
  },
  {
   "cell_type": "code",
   "execution_count": 20,
   "id": "7565f10b",
   "metadata": {
    "ExecuteTime": {
     "end_time": "2022-07-21T14:34:49.210057Z",
     "start_time": "2022-07-21T14:34:49.088882Z"
    }
   },
   "outputs": [],
   "source": [
    "#Ajout de la maturité au moment du début de la sessions\n",
    "sm_df[\"week_maturity\"] =(sm_df[\"session_start\"]-sm_df[\"user_creation_time\"]).map(lambda x: int(np.ceil(x.days/7))+1)"
   ]
  },
  {
   "cell_type": "code",
   "execution_count": 21,
   "id": "8a93b365",
   "metadata": {
    "ExecuteTime": {
     "end_time": "2022-07-21T14:34:49.221638Z",
     "start_time": "2022-07-21T14:34:49.211190Z"
    }
   },
   "outputs": [],
   "source": [
    "sm_df = sm_df.merge(user_type_df, on='user_id')"
   ]
  },
  {
   "cell_type": "code",
   "execution_count": 22,
   "id": "d5f7a55a",
   "metadata": {
    "ExecuteTime": {
     "end_time": "2022-07-21T14:34:49.248283Z",
     "start_time": "2022-07-21T14:34:49.222776Z"
    }
   },
   "outputs": [],
   "source": [
    "#Creating columns with day & month of the session\n",
    "sm_df['session_start_day'] = sm_df['session_start'].apply(lambda x: x.weekday()+1)\n",
    "sm_df['session_start_month'] = sm_df['session_start'].apply(lambda x: x.month)"
   ]
  },
  {
   "cell_type": "code",
   "execution_count": 23,
   "id": "89dbb73e",
   "metadata": {
    "ExecuteTime": {
     "end_time": "2022-07-21T14:34:49.259166Z",
     "start_time": "2022-07-21T14:34:49.249493Z"
    }
   },
   "outputs": [],
   "source": [
    "#On drop la colone time_since_last_session en timedelta car incompatbile BQ\n",
    "sm_df.drop('time_since_last_session',axis=1,inplace=True)"
   ]
  },
  {
   "cell_type": "markdown",
   "id": "daa9d1ef",
   "metadata": {},
   "source": [
    "## Labelling"
   ]
  },
  {
   "cell_type": "code",
   "execution_count": 26,
   "id": "4243ace2",
   "metadata": {
    "ExecuteTime": {
     "end_time": "2022-07-21T14:37:10.759355Z",
     "start_time": "2022-07-21T14:37:10.751932Z"
    }
   },
   "outputs": [],
   "source": [
    "#On considère le seuil de churn à 3 semaine.\n",
    "#On est en situation de churn si la session suivante arrive dans plus de 3 semaines.\n",
    "CHURN_THRESHOLD = timedelta(days=21)\n",
    "\n",
    "#On utilise une constante TODAY pour evaluer le risque de churn des dernières session.\n",
    "#Dans notre cas TODAY est le max de session end. On considère que l'extract s'arrète au moment de la dernière session de jeu dont on dispose\n",
    "TODAY = datetime(2022, 5, 13, 0, 0)"
   ]
  },
  {
   "cell_type": "code",
   "execution_count": 27,
   "id": "dc1f1df3",
   "metadata": {
    "ExecuteTime": {
     "end_time": "2022-07-21T14:37:13.711804Z",
     "start_time": "2022-07-21T14:37:13.700035Z"
    }
   },
   "outputs": [],
   "source": [
    "def labelling_churn(user_id,session_end,session_start,CHURN_THRESHOLD,today):\n",
    "    '''Compute time to next session, if superior to threshold churn_risk = 1'''\n",
    "    next_session = sm_df[(sm_df['user_id']==user_id) & (session_end<sm_df['session_end'])]\\\n",
    "    .sort_values(by='session_end',ascending=True)\\\n",
    "    .groupby('user_id').first()['session_start']\n",
    "    if len(next_session.values) == 0:\n",
    "        if today - session_start.to_pydatetime().replace(tzinfo=None)> CHURN_THRESHOLD :\n",
    "            return 1\n",
    "        else:\n",
    "            return 0\n",
    "    else:\n",
    "        delta = (next_session - session_end)\n",
    "        if delta.iloc[0] < CHURN_THRESHOLD:\n",
    "            return 0\n",
    "        else:\n",
    "            return 1"
   ]
  },
  {
   "cell_type": "code",
   "execution_count": 28,
   "id": "7e041938",
   "metadata": {
    "ExecuteTime": {
     "end_time": "2022-07-21T14:37:56.968419Z",
     "start_time": "2022-07-21T14:37:13.716779Z"
    }
   },
   "outputs": [],
   "source": [
    "sm_df['churn_risk'] = sm_df.apply(lambda x:labelling_churn(x.user_id,x.session_end,x.session_start,CHURN_THRESHOLD,TODAY), axis=1)"
   ]
  },
  {
   "cell_type": "markdown",
   "id": "c25b95e3",
   "metadata": {},
   "source": [
    "## Upload in BQ"
   ]
  },
  {
   "cell_type": "code",
   "execution_count": 31,
   "id": "39b06c3b",
   "metadata": {
    "ExecuteTime": {
     "end_time": "2022-07-21T14:48:37.286568Z",
     "start_time": "2022-07-21T14:48:37.277324Z"
    }
   },
   "outputs": [],
   "source": [
    "def upload_session_augmented(df,credentials, project,dataset,table):\n",
    "    '''Uploading sessions_augmented on GCP'''\n",
    "    table_id = f\"{dataset}.{table}\"\n",
    "    client = bigquery.Client(project,credentials)\n",
    "\n",
    "    job = client.load_table_from_dataframe(df, table_id) \n",
    "\n",
    "    job.result()  \n",
    "    table = client.get_table(table_id) \n",
    "    print(\"Loaded {} rows and {} columns to {}\".format(table.num_rows, len(table.schema), table_id))"
   ]
  },
  {
   "cell_type": "code",
   "execution_count": 34,
   "id": "f93c58c0",
   "metadata": {
    "ExecuteTime": {
     "end_time": "2022-07-21T14:48:54.404682Z",
     "start_time": "2022-07-21T14:48:47.121039Z"
    }
   },
   "outputs": [
    {
     "name": "stdout",
     "output_type": "stream",
     "text": [
      "Loaded 18816 rows and 87 columns to marbotic_dataset.sessions_augmented_f\n"
     ]
    }
   ],
   "source": [
    "#TODO : Uncomment this line if we need to upload again sessions augmented table\n",
    "#upload_session_augmented(sm_df,credentials, project,dataset,\"sessions_augmented_f\")"
   ]
  },
  {
   "cell_type": "code",
   "execution_count": null,
   "id": "03caf287",
   "metadata": {},
   "outputs": [],
   "source": []
  }
 ],
 "metadata": {
  "kernelspec": {
   "display_name": "Python 3 (ipykernel)",
   "language": "python",
   "name": "python3"
  },
  "language_info": {
   "codemirror_mode": {
    "name": "ipython",
    "version": 3
   },
   "file_extension": ".py",
   "mimetype": "text/x-python",
   "name": "python",
   "nbconvert_exporter": "python",
   "pygments_lexer": "ipython3",
   "version": "3.8.13"
  },
  "toc": {
   "base_numbering": 1,
   "nav_menu": {},
   "number_sections": true,
   "sideBar": true,
   "skip_h1_title": false,
   "title_cell": "Table of Contents",
   "title_sidebar": "Contents",
   "toc_cell": false,
   "toc_position": {},
   "toc_section_display": true,
   "toc_window_display": false
  }
 },
 "nbformat": 4,
 "nbformat_minor": 5
}
